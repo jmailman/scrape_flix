{
 "cells": [
  {
   "cell_type": "markdown",
   "metadata": {},
   "source": [
    "# 3b Lasso and Ridge Linear Regression with Cross-validation"
   ]
  },
  {
   "cell_type": "markdown",
   "metadata": {},
   "source": [
    "#### It has four main sections"
   ]
  },
  {
   "cell_type": "markdown",
   "metadata": {},
   "source": [
    "## A. Imports, data shaping, and preprocessing\n",
    "\n",
    "## B. Lasso CV regression on all features\n",
    "\n",
    "## C. Lasso and Ridge regression on all features except `rating count`\n",
    "\n",
    "## D. Lasso and Ridge regression on all features except `rating count` but with also `budget` added as a feature"
   ]
  },
  {
   "cell_type": "code",
   "execution_count": null,
   "metadata": {},
   "outputs": [],
   "source": []
  },
  {
   "cell_type": "markdown",
   "metadata": {},
   "source": [
    "# A. Imports and data shaping"
   ]
  },
  {
   "cell_type": "code",
   "execution_count": 1,
   "metadata": {},
   "outputs": [],
   "source": [
    "import pandas as pd\n",
    "import numpy as np\n",
    "import re\n",
    "import math\n",
    "import seaborn as sns\n",
    "from matplotlib import pyplot as plt\n",
    "from collections import defaultdict\n",
    "#from IPython.core.display import display, HTML\n",
    "import pickle\n",
    "import copy\n",
    "#from sklearn.preprocessing import OneHotEncoder\n",
    "#from sklearn.model_selection import train_test_split\n",
    "#display(HTML(my_html))     # make sure Jupyter knows to display it as HTML\n",
    "\n",
    "from sklearn.model_selection import train_test_split\n",
    "from sklearn.linear_model import LinearRegression, Lasso, LassoCV, Ridge, RidgeCV\n",
    "from sklearn.metrics import mean_squared_error\n",
    "from sklearn.preprocessing import  StandardScaler, PolynomialFeatures, OneHotEncoder\n",
    "from sklearn.pipeline import Pipeline\n",
    "from sklearn.metrics import r2_score"
   ]
  },
  {
   "cell_type": "code",
   "execution_count": 2,
   "metadata": {},
   "outputs": [],
   "source": [
    "pd.options.display.float_format = \"{:,.5f}\".format"
   ]
  },
  {
   "cell_type": "code",
   "execution_count": 3,
   "metadata": {},
   "outputs": [],
   "source": [
    "#director = 'godard'\n",
    "#director = 'hitchcock'\n",
    "#director = 'bergman'\n",
    "#director = 'fassbinder'\n",
    "#director = 'herzog'\n",
    "#director = 'scorsese'\n",
    "director='allen'"
   ]
  },
  {
   "cell_type": "code",
   "execution_count": 4,
   "metadata": {},
   "outputs": [],
   "source": [
    "\n",
    "dir_str = director + '/'\n",
    "\n",
    "films_filename = 'films_to_analyze_' + director +'.pickle'\n",
    "with open(dir_str + films_filename, 'rb') as read_file:\n",
    "    films_to_analyze = pickle.load(read_file)"
   ]
  },
  {
   "cell_type": "code",
   "execution_count": 5,
   "metadata": {},
   "outputs": [
    {
     "data": {
      "text/html": [
       "<div>\n",
       "<style scoped>\n",
       "    .dataframe tbody tr th:only-of-type {\n",
       "        vertical-align: middle;\n",
       "    }\n",
       "\n",
       "    .dataframe tbody tr th {\n",
       "        vertical-align: top;\n",
       "    }\n",
       "\n",
       "    .dataframe thead th {\n",
       "        text-align: right;\n",
       "    }\n",
       "</style>\n",
       "<table border=\"1\" class=\"dataframe\">\n",
       "  <thead>\n",
       "    <tr style=\"text-align: right;\">\n",
       "      <th></th>\n",
       "      <th>title</th>\n",
       "      <th>year</th>\n",
       "      <th>release_date</th>\n",
       "      <th>duration</th>\n",
       "      <th>runtime</th>\n",
       "      <th>budget</th>\n",
       "      <th>worldwide_gross</th>\n",
       "      <th>worldwide_gross_imdb</th>\n",
       "      <th>worldwide_gross_bo</th>\n",
       "      <th>rating</th>\n",
       "      <th>...</th>\n",
       "      <th>Radha Mitchell</th>\n",
       "      <th>Michael J. Farina</th>\n",
       "      <th>Jonny Lee Miller</th>\n",
       "      <th>Chloë Sevigny</th>\n",
       "      <th>Matt Servitto</th>\n",
       "      <th>Arija Bareikis</th>\n",
       "      <th>Brooke Smith</th>\n",
       "      <th>Zak Orth</th>\n",
       "      <th>Will Ferrell</th>\n",
       "      <th>Akiko Wakabayashi</th>\n",
       "    </tr>\n",
       "  </thead>\n",
       "  <tbody>\n",
       "    <tr>\n",
       "      <th>0</th>\n",
       "      <td>Rifkin's Festival</td>\n",
       "      <td>2,020.00000</td>\n",
       "      <td>2 October 2020 (Spain)</td>\n",
       "      <td>92.00000</td>\n",
       "      <td>92.00000</td>\n",
       "      <td>NaN</td>\n",
       "      <td>1,301,430.00000</td>\n",
       "      <td>512,116.00000</td>\n",
       "      <td>1,301,430.00000</td>\n",
       "      <td>6.20000</td>\n",
       "      <td>...</td>\n",
       "      <td>0.00000</td>\n",
       "      <td>0.00000</td>\n",
       "      <td>0.00000</td>\n",
       "      <td>0.00000</td>\n",
       "      <td>0.00000</td>\n",
       "      <td>0.00000</td>\n",
       "      <td>0.00000</td>\n",
       "      <td>0.00000</td>\n",
       "      <td>0.00000</td>\n",
       "      <td>0.00000</td>\n",
       "    </tr>\n",
       "    <tr>\n",
       "      <th>1</th>\n",
       "      <td>A Rainy Day in New York</td>\n",
       "      <td>2,019.00000</td>\n",
       "      <td>10 November 2020 (USA)</td>\n",
       "      <td>92.00000</td>\n",
       "      <td>92.00000</td>\n",
       "      <td>NaN</td>\n",
       "      <td>18,182,784.00000</td>\n",
       "      <td>22,002,504.00000</td>\n",
       "      <td>18,182,784.00000</td>\n",
       "      <td>6.50000</td>\n",
       "      <td>...</td>\n",
       "      <td>0.00000</td>\n",
       "      <td>0.00000</td>\n",
       "      <td>0.00000</td>\n",
       "      <td>0.00000</td>\n",
       "      <td>0.00000</td>\n",
       "      <td>0.00000</td>\n",
       "      <td>0.00000</td>\n",
       "      <td>0.00000</td>\n",
       "      <td>0.00000</td>\n",
       "      <td>0.00000</td>\n",
       "    </tr>\n",
       "    <tr>\n",
       "      <th>2</th>\n",
       "      <td>Wonder Wheel</td>\n",
       "      <td>2,017.00000</td>\n",
       "      <td>15 December 2017 (USA)</td>\n",
       "      <td>101.00000</td>\n",
       "      <td>101.00000</td>\n",
       "      <td>25,000,000.00000</td>\n",
       "      <td>13,736,872.00000</td>\n",
       "      <td>15,889,124.00000</td>\n",
       "      <td>13,736,872.00000</td>\n",
       "      <td>6.20000</td>\n",
       "      <td>...</td>\n",
       "      <td>0.00000</td>\n",
       "      <td>0.00000</td>\n",
       "      <td>0.00000</td>\n",
       "      <td>0.00000</td>\n",
       "      <td>0.00000</td>\n",
       "      <td>0.00000</td>\n",
       "      <td>0.00000</td>\n",
       "      <td>0.00000</td>\n",
       "      <td>0.00000</td>\n",
       "      <td>0.00000</td>\n",
       "    </tr>\n",
       "    <tr>\n",
       "      <th>4</th>\n",
       "      <td>Café Society</td>\n",
       "      <td>2,016.00000</td>\n",
       "      <td>5 August 2016 (USA)</td>\n",
       "      <td>96.00000</td>\n",
       "      <td>96.00000</td>\n",
       "      <td>30,000,000.00000</td>\n",
       "      <td>43,763,247.00000</td>\n",
       "      <td>43,763,247.00000</td>\n",
       "      <td>NaN</td>\n",
       "      <td>6.60000</td>\n",
       "      <td>...</td>\n",
       "      <td>0.00000</td>\n",
       "      <td>0.00000</td>\n",
       "      <td>0.00000</td>\n",
       "      <td>0.00000</td>\n",
       "      <td>0.00000</td>\n",
       "      <td>0.00000</td>\n",
       "      <td>0.00000</td>\n",
       "      <td>0.00000</td>\n",
       "      <td>0.00000</td>\n",
       "      <td>0.00000</td>\n",
       "    </tr>\n",
       "    <tr>\n",
       "      <th>5</th>\n",
       "      <td>Irrational Man</td>\n",
       "      <td>2,015.00000</td>\n",
       "      <td>7 August 2015 (USA)</td>\n",
       "      <td>95.00000</td>\n",
       "      <td>95.00000</td>\n",
       "      <td>11,000,000.00000</td>\n",
       "      <td>29,083,597.00000</td>\n",
       "      <td>27,391,084.00000</td>\n",
       "      <td>29,083,597.00000</td>\n",
       "      <td>6.60000</td>\n",
       "      <td>...</td>\n",
       "      <td>0.00000</td>\n",
       "      <td>0.00000</td>\n",
       "      <td>0.00000</td>\n",
       "      <td>0.00000</td>\n",
       "      <td>0.00000</td>\n",
       "      <td>0.00000</td>\n",
       "      <td>0.00000</td>\n",
       "      <td>0.00000</td>\n",
       "      <td>0.00000</td>\n",
       "      <td>0.00000</td>\n",
       "    </tr>\n",
       "  </tbody>\n",
       "</table>\n",
       "<p>5 rows × 721 columns</p>\n",
       "</div>"
      ],
      "text/plain": [
       "                     title        year                 release_date  duration  \\\n",
       "0        Rifkin's Festival 2,020.00000   2 October 2020 (Spain)      92.00000   \n",
       "1  A Rainy Day in New York 2,019.00000   10 November 2020 (USA)      92.00000   \n",
       "2             Wonder Wheel 2,017.00000   15 December 2017 (USA)     101.00000   \n",
       "4             Café Society 2,016.00000      5 August 2016 (USA)      96.00000   \n",
       "5           Irrational Man 2,015.00000      7 August 2015 (USA)      95.00000   \n",
       "\n",
       "    runtime           budget  worldwide_gross  worldwide_gross_imdb  \\\n",
       "0  92.00000              NaN  1,301,430.00000         512,116.00000   \n",
       "1  92.00000              NaN 18,182,784.00000      22,002,504.00000   \n",
       "2 101.00000 25,000,000.00000 13,736,872.00000      15,889,124.00000   \n",
       "4  96.00000 30,000,000.00000 43,763,247.00000      43,763,247.00000   \n",
       "5  95.00000 11,000,000.00000 29,083,597.00000      27,391,084.00000   \n",
       "\n",
       "  worldwide_gross_bo  rating  ...  Radha Mitchell  Michael J. Farina  \\\n",
       "0    1,301,430.00000 6.20000  ...         0.00000            0.00000   \n",
       "1   18,182,784.00000 6.50000  ...         0.00000            0.00000   \n",
       "2   13,736,872.00000 6.20000  ...         0.00000            0.00000   \n",
       "4                NaN 6.60000  ...         0.00000            0.00000   \n",
       "5   29,083,597.00000 6.60000  ...         0.00000            0.00000   \n",
       "\n",
       "   Jonny Lee Miller  Chloë Sevigny Matt Servitto  Arija Bareikis  \\\n",
       "0           0.00000        0.00000       0.00000         0.00000   \n",
       "1           0.00000        0.00000       0.00000         0.00000   \n",
       "2           0.00000        0.00000       0.00000         0.00000   \n",
       "4           0.00000        0.00000       0.00000         0.00000   \n",
       "5           0.00000        0.00000       0.00000         0.00000   \n",
       "\n",
       "   Brooke Smith  Zak Orth  Will Ferrell  Akiko Wakabayashi  \n",
       "0       0.00000   0.00000       0.00000            0.00000  \n",
       "1       0.00000   0.00000       0.00000            0.00000  \n",
       "2       0.00000   0.00000       0.00000            0.00000  \n",
       "4       0.00000   0.00000       0.00000            0.00000  \n",
       "5       0.00000   0.00000       0.00000            0.00000  \n",
       "\n",
       "[5 rows x 721 columns]"
      ]
     },
     "execution_count": 5,
     "metadata": {},
     "output_type": "execute_result"
    }
   ],
   "source": [
    "films_to_analyze.head()"
   ]
  },
  {
   "cell_type": "code",
   "execution_count": 6,
   "metadata": {},
   "outputs": [],
   "source": [
    "prevalent_actors_filename  = 'prevalent_actors_' + director +'.pickle'\n",
    "with open(dir_str + prevalent_actors_filename, 'rb') as read_file:\n",
    "    prevalent_actor_columns = pickle.load(read_file)"
   ]
  },
  {
   "cell_type": "code",
   "execution_count": 7,
   "metadata": {},
   "outputs": [
    {
     "data": {
      "text/plain": [
       "Index(['Woody Allen', 'Mia Farrow', 'Diane Keaton', 'Maurice Sonnenberg',\n",
       "       'Wallace Shawn', 'Stephanie Roth Haberle', 'Dan Frazer', 'Julie Kavner',\n",
       "       'John Doumanian', 'Tony Roberts', 'Alan Alda', 'Paul Herman',\n",
       "       'Ira Wheeler', 'Dianne Wiest', 'Louise Lasser', 'Douglas McGrath',\n",
       "       'Scarlett Johansson', 'Sam Waterston'],\n",
       "      dtype='object')"
      ]
     },
     "execution_count": 7,
     "metadata": {},
     "output_type": "execute_result"
    }
   ],
   "source": [
    "prevalent_actor_columns"
   ]
  },
  {
   "cell_type": "code",
   "execution_count": 8,
   "metadata": {},
   "outputs": [],
   "source": [
    "pickled_dict_of_actors_filename = 'dict_of_actors_' + director +'.pickle'\n",
    "with open(dir_str + pickled_dict_of_actors_filename, 'rb') as read_file:\n",
    "    dict_of_all_actors  = pickle.load(read_file) "
   ]
  },
  {
   "cell_type": "code",
   "execution_count": 9,
   "metadata": {},
   "outputs": [],
   "source": [
    "analysis_columns = ['title', 'year', 'duration', 'cinematographer', 'documentary', 'tv_series','rating', 'rating_count', *prevalent_actor_columns]"
   ]
  },
  {
   "cell_type": "code",
   "execution_count": 10,
   "metadata": {},
   "outputs": [
    {
     "data": {
      "text/plain": [
       "['title',\n",
       " 'year',\n",
       " 'duration',\n",
       " 'cinematographer',\n",
       " 'documentary',\n",
       " 'tv_series',\n",
       " 'rating',\n",
       " 'rating_count',\n",
       " 'Woody Allen',\n",
       " 'Mia Farrow',\n",
       " 'Diane Keaton',\n",
       " 'Maurice Sonnenberg',\n",
       " 'Wallace Shawn',\n",
       " 'Stephanie Roth Haberle',\n",
       " 'Dan Frazer',\n",
       " 'Julie Kavner',\n",
       " 'John Doumanian',\n",
       " 'Tony Roberts',\n",
       " 'Alan Alda',\n",
       " 'Paul Herman',\n",
       " 'Ira Wheeler',\n",
       " 'Dianne Wiest',\n",
       " 'Louise Lasser',\n",
       " 'Douglas McGrath',\n",
       " 'Scarlett Johansson',\n",
       " 'Sam Waterston']"
      ]
     },
     "execution_count": 10,
     "metadata": {},
     "output_type": "execute_result"
    }
   ],
   "source": [
    "analysis_columns"
   ]
  },
  {
   "cell_type": "markdown",
   "metadata": {},
   "source": [
    "## Dataset partitioned for analysis\n",
    "except one-hot-encoding `cinematographer`"
   ]
  },
  {
   "cell_type": "code",
   "execution_count": 11,
   "metadata": {},
   "outputs": [
    {
     "data": {
      "text/html": [
       "<div>\n",
       "<style scoped>\n",
       "    .dataframe tbody tr th:only-of-type {\n",
       "        vertical-align: middle;\n",
       "    }\n",
       "\n",
       "    .dataframe tbody tr th {\n",
       "        vertical-align: top;\n",
       "    }\n",
       "\n",
       "    .dataframe thead th {\n",
       "        text-align: right;\n",
       "    }\n",
       "</style>\n",
       "<table border=\"1\" class=\"dataframe\">\n",
       "  <thead>\n",
       "    <tr style=\"text-align: right;\">\n",
       "      <th></th>\n",
       "      <th>title</th>\n",
       "      <th>year</th>\n",
       "      <th>release_date</th>\n",
       "      <th>duration</th>\n",
       "      <th>runtime</th>\n",
       "      <th>budget</th>\n",
       "      <th>worldwide_gross</th>\n",
       "      <th>worldwide_gross_imdb</th>\n",
       "      <th>worldwide_gross_bo</th>\n",
       "      <th>rating</th>\n",
       "      <th>...</th>\n",
       "      <th>Radha Mitchell</th>\n",
       "      <th>Michael J. Farina</th>\n",
       "      <th>Jonny Lee Miller</th>\n",
       "      <th>Chloë Sevigny</th>\n",
       "      <th>Matt Servitto</th>\n",
       "      <th>Arija Bareikis</th>\n",
       "      <th>Brooke Smith</th>\n",
       "      <th>Zak Orth</th>\n",
       "      <th>Will Ferrell</th>\n",
       "      <th>Akiko Wakabayashi</th>\n",
       "    </tr>\n",
       "  </thead>\n",
       "  <tbody>\n",
       "    <tr>\n",
       "      <th>0</th>\n",
       "      <td>Rifkin's Festival</td>\n",
       "      <td>2,020.00000</td>\n",
       "      <td>2 October 2020 (Spain)</td>\n",
       "      <td>92.00000</td>\n",
       "      <td>92.00000</td>\n",
       "      <td>NaN</td>\n",
       "      <td>1,301,430.00000</td>\n",
       "      <td>512,116.00000</td>\n",
       "      <td>1,301,430.00000</td>\n",
       "      <td>6.20000</td>\n",
       "      <td>...</td>\n",
       "      <td>0.00000</td>\n",
       "      <td>0.00000</td>\n",
       "      <td>0.00000</td>\n",
       "      <td>0.00000</td>\n",
       "      <td>0.00000</td>\n",
       "      <td>0.00000</td>\n",
       "      <td>0.00000</td>\n",
       "      <td>0.00000</td>\n",
       "      <td>0.00000</td>\n",
       "      <td>0.00000</td>\n",
       "    </tr>\n",
       "    <tr>\n",
       "      <th>1</th>\n",
       "      <td>A Rainy Day in New York</td>\n",
       "      <td>2,019.00000</td>\n",
       "      <td>10 November 2020 (USA)</td>\n",
       "      <td>92.00000</td>\n",
       "      <td>92.00000</td>\n",
       "      <td>NaN</td>\n",
       "      <td>18,182,784.00000</td>\n",
       "      <td>22,002,504.00000</td>\n",
       "      <td>18,182,784.00000</td>\n",
       "      <td>6.50000</td>\n",
       "      <td>...</td>\n",
       "      <td>0.00000</td>\n",
       "      <td>0.00000</td>\n",
       "      <td>0.00000</td>\n",
       "      <td>0.00000</td>\n",
       "      <td>0.00000</td>\n",
       "      <td>0.00000</td>\n",
       "      <td>0.00000</td>\n",
       "      <td>0.00000</td>\n",
       "      <td>0.00000</td>\n",
       "      <td>0.00000</td>\n",
       "    </tr>\n",
       "    <tr>\n",
       "      <th>2</th>\n",
       "      <td>Wonder Wheel</td>\n",
       "      <td>2,017.00000</td>\n",
       "      <td>15 December 2017 (USA)</td>\n",
       "      <td>101.00000</td>\n",
       "      <td>101.00000</td>\n",
       "      <td>25,000,000.00000</td>\n",
       "      <td>13,736,872.00000</td>\n",
       "      <td>15,889,124.00000</td>\n",
       "      <td>13,736,872.00000</td>\n",
       "      <td>6.20000</td>\n",
       "      <td>...</td>\n",
       "      <td>0.00000</td>\n",
       "      <td>0.00000</td>\n",
       "      <td>0.00000</td>\n",
       "      <td>0.00000</td>\n",
       "      <td>0.00000</td>\n",
       "      <td>0.00000</td>\n",
       "      <td>0.00000</td>\n",
       "      <td>0.00000</td>\n",
       "      <td>0.00000</td>\n",
       "      <td>0.00000</td>\n",
       "    </tr>\n",
       "    <tr>\n",
       "      <th>4</th>\n",
       "      <td>Café Society</td>\n",
       "      <td>2,016.00000</td>\n",
       "      <td>5 August 2016 (USA)</td>\n",
       "      <td>96.00000</td>\n",
       "      <td>96.00000</td>\n",
       "      <td>30,000,000.00000</td>\n",
       "      <td>43,763,247.00000</td>\n",
       "      <td>43,763,247.00000</td>\n",
       "      <td>NaN</td>\n",
       "      <td>6.60000</td>\n",
       "      <td>...</td>\n",
       "      <td>0.00000</td>\n",
       "      <td>0.00000</td>\n",
       "      <td>0.00000</td>\n",
       "      <td>0.00000</td>\n",
       "      <td>0.00000</td>\n",
       "      <td>0.00000</td>\n",
       "      <td>0.00000</td>\n",
       "      <td>0.00000</td>\n",
       "      <td>0.00000</td>\n",
       "      <td>0.00000</td>\n",
       "    </tr>\n",
       "    <tr>\n",
       "      <th>5</th>\n",
       "      <td>Irrational Man</td>\n",
       "      <td>2,015.00000</td>\n",
       "      <td>7 August 2015 (USA)</td>\n",
       "      <td>95.00000</td>\n",
       "      <td>95.00000</td>\n",
       "      <td>11,000,000.00000</td>\n",
       "      <td>29,083,597.00000</td>\n",
       "      <td>27,391,084.00000</td>\n",
       "      <td>29,083,597.00000</td>\n",
       "      <td>6.60000</td>\n",
       "      <td>...</td>\n",
       "      <td>0.00000</td>\n",
       "      <td>0.00000</td>\n",
       "      <td>0.00000</td>\n",
       "      <td>0.00000</td>\n",
       "      <td>0.00000</td>\n",
       "      <td>0.00000</td>\n",
       "      <td>0.00000</td>\n",
       "      <td>0.00000</td>\n",
       "      <td>0.00000</td>\n",
       "      <td>0.00000</td>\n",
       "    </tr>\n",
       "  </tbody>\n",
       "</table>\n",
       "<p>5 rows × 721 columns</p>\n",
       "</div>"
      ],
      "text/plain": [
       "                     title        year                 release_date  duration  \\\n",
       "0        Rifkin's Festival 2,020.00000   2 October 2020 (Spain)      92.00000   \n",
       "1  A Rainy Day in New York 2,019.00000   10 November 2020 (USA)      92.00000   \n",
       "2             Wonder Wheel 2,017.00000   15 December 2017 (USA)     101.00000   \n",
       "4             Café Society 2,016.00000      5 August 2016 (USA)      96.00000   \n",
       "5           Irrational Man 2,015.00000      7 August 2015 (USA)      95.00000   \n",
       "\n",
       "    runtime           budget  worldwide_gross  worldwide_gross_imdb  \\\n",
       "0  92.00000              NaN  1,301,430.00000         512,116.00000   \n",
       "1  92.00000              NaN 18,182,784.00000      22,002,504.00000   \n",
       "2 101.00000 25,000,000.00000 13,736,872.00000      15,889,124.00000   \n",
       "4  96.00000 30,000,000.00000 43,763,247.00000      43,763,247.00000   \n",
       "5  95.00000 11,000,000.00000 29,083,597.00000      27,391,084.00000   \n",
       "\n",
       "  worldwide_gross_bo  rating  ...  Radha Mitchell  Michael J. Farina  \\\n",
       "0    1,301,430.00000 6.20000  ...         0.00000            0.00000   \n",
       "1   18,182,784.00000 6.50000  ...         0.00000            0.00000   \n",
       "2   13,736,872.00000 6.20000  ...         0.00000            0.00000   \n",
       "4                NaN 6.60000  ...         0.00000            0.00000   \n",
       "5   29,083,597.00000 6.60000  ...         0.00000            0.00000   \n",
       "\n",
       "   Jonny Lee Miller  Chloë Sevigny Matt Servitto  Arija Bareikis  \\\n",
       "0           0.00000        0.00000       0.00000         0.00000   \n",
       "1           0.00000        0.00000       0.00000         0.00000   \n",
       "2           0.00000        0.00000       0.00000         0.00000   \n",
       "4           0.00000        0.00000       0.00000         0.00000   \n",
       "5           0.00000        0.00000       0.00000         0.00000   \n",
       "\n",
       "   Brooke Smith  Zak Orth  Will Ferrell  Akiko Wakabayashi  \n",
       "0       0.00000   0.00000       0.00000            0.00000  \n",
       "1       0.00000   0.00000       0.00000            0.00000  \n",
       "2       0.00000   0.00000       0.00000            0.00000  \n",
       "4       0.00000   0.00000       0.00000            0.00000  \n",
       "5       0.00000   0.00000       0.00000            0.00000  \n",
       "\n",
       "[5 rows x 721 columns]"
      ]
     },
     "execution_count": 11,
     "metadata": {},
     "output_type": "execute_result"
    }
   ],
   "source": [
    "films_to_analyze.head()"
   ]
  },
  {
   "cell_type": "code",
   "execution_count": null,
   "metadata": {},
   "outputs": [],
   "source": []
  },
  {
   "cell_type": "code",
   "execution_count": 12,
   "metadata": {},
   "outputs": [],
   "source": [
    "films_and_features_to_analyze_df = films_to_analyze[analysis_columns]"
   ]
  },
  {
   "cell_type": "code",
   "execution_count": 13,
   "metadata": {},
   "outputs": [
    {
     "data": {
      "text/html": [
       "<div>\n",
       "<style scoped>\n",
       "    .dataframe tbody tr th:only-of-type {\n",
       "        vertical-align: middle;\n",
       "    }\n",
       "\n",
       "    .dataframe tbody tr th {\n",
       "        vertical-align: top;\n",
       "    }\n",
       "\n",
       "    .dataframe thead th {\n",
       "        text-align: right;\n",
       "    }\n",
       "</style>\n",
       "<table border=\"1\" class=\"dataframe\">\n",
       "  <thead>\n",
       "    <tr style=\"text-align: right;\">\n",
       "      <th></th>\n",
       "      <th>title</th>\n",
       "      <th>year</th>\n",
       "      <th>duration</th>\n",
       "      <th>cinematographer</th>\n",
       "      <th>documentary</th>\n",
       "      <th>tv_series</th>\n",
       "      <th>rating</th>\n",
       "      <th>rating_count</th>\n",
       "      <th>Woody Allen</th>\n",
       "      <th>Mia Farrow</th>\n",
       "      <th>...</th>\n",
       "      <th>John Doumanian</th>\n",
       "      <th>Tony Roberts</th>\n",
       "      <th>Alan Alda</th>\n",
       "      <th>Paul Herman</th>\n",
       "      <th>Ira Wheeler</th>\n",
       "      <th>Dianne Wiest</th>\n",
       "      <th>Louise Lasser</th>\n",
       "      <th>Douglas McGrath</th>\n",
       "      <th>Scarlett Johansson</th>\n",
       "      <th>Sam Waterston</th>\n",
       "    </tr>\n",
       "  </thead>\n",
       "  <tbody>\n",
       "    <tr>\n",
       "      <th>0</th>\n",
       "      <td>Rifkin's Festival</td>\n",
       "      <td>2,020.00000</td>\n",
       "      <td>92.00000</td>\n",
       "      <td>Vittorio Storaro</td>\n",
       "      <td>0.00000</td>\n",
       "      <td>0.00000</td>\n",
       "      <td>6.20000</td>\n",
       "      <td>723.00000</td>\n",
       "      <td>0.00000</td>\n",
       "      <td>0.00000</td>\n",
       "      <td>...</td>\n",
       "      <td>0.00000</td>\n",
       "      <td>0.00000</td>\n",
       "      <td>0.00000</td>\n",
       "      <td>0.00000</td>\n",
       "      <td>0.00000</td>\n",
       "      <td>0.00000</td>\n",
       "      <td>0.00000</td>\n",
       "      <td>1.00000</td>\n",
       "      <td>0.00000</td>\n",
       "      <td>0.00000</td>\n",
       "    </tr>\n",
       "    <tr>\n",
       "      <th>1</th>\n",
       "      <td>A Rainy Day in New York</td>\n",
       "      <td>2,019.00000</td>\n",
       "      <td>92.00000</td>\n",
       "      <td>Vittorio Storaro</td>\n",
       "      <td>0.00000</td>\n",
       "      <td>0.00000</td>\n",
       "      <td>6.50000</td>\n",
       "      <td>30,151.00000</td>\n",
       "      <td>0.00000</td>\n",
       "      <td>0.00000</td>\n",
       "      <td>...</td>\n",
       "      <td>0.00000</td>\n",
       "      <td>0.00000</td>\n",
       "      <td>0.00000</td>\n",
       "      <td>0.00000</td>\n",
       "      <td>0.00000</td>\n",
       "      <td>0.00000</td>\n",
       "      <td>0.00000</td>\n",
       "      <td>0.00000</td>\n",
       "      <td>0.00000</td>\n",
       "      <td>0.00000</td>\n",
       "    </tr>\n",
       "    <tr>\n",
       "      <th>2</th>\n",
       "      <td>Wonder Wheel</td>\n",
       "      <td>2,017.00000</td>\n",
       "      <td>101.00000</td>\n",
       "      <td>Vittorio Storaro</td>\n",
       "      <td>0.00000</td>\n",
       "      <td>0.00000</td>\n",
       "      <td>6.20000</td>\n",
       "      <td>25,209.00000</td>\n",
       "      <td>0.00000</td>\n",
       "      <td>0.00000</td>\n",
       "      <td>...</td>\n",
       "      <td>1.00000</td>\n",
       "      <td>0.00000</td>\n",
       "      <td>0.00000</td>\n",
       "      <td>0.00000</td>\n",
       "      <td>0.00000</td>\n",
       "      <td>0.00000</td>\n",
       "      <td>0.00000</td>\n",
       "      <td>0.00000</td>\n",
       "      <td>0.00000</td>\n",
       "      <td>0.00000</td>\n",
       "    </tr>\n",
       "    <tr>\n",
       "      <th>4</th>\n",
       "      <td>Café Society</td>\n",
       "      <td>2,016.00000</td>\n",
       "      <td>96.00000</td>\n",
       "      <td>Vittorio Storaro</td>\n",
       "      <td>0.00000</td>\n",
       "      <td>0.00000</td>\n",
       "      <td>6.60000</td>\n",
       "      <td>71,114.00000</td>\n",
       "      <td>0.00000</td>\n",
       "      <td>0.00000</td>\n",
       "      <td>...</td>\n",
       "      <td>0.00000</td>\n",
       "      <td>0.00000</td>\n",
       "      <td>0.00000</td>\n",
       "      <td>0.00000</td>\n",
       "      <td>0.00000</td>\n",
       "      <td>0.00000</td>\n",
       "      <td>0.00000</td>\n",
       "      <td>0.00000</td>\n",
       "      <td>0.00000</td>\n",
       "      <td>0.00000</td>\n",
       "    </tr>\n",
       "    <tr>\n",
       "      <th>5</th>\n",
       "      <td>Irrational Man</td>\n",
       "      <td>2,015.00000</td>\n",
       "      <td>95.00000</td>\n",
       "      <td>Darius Khondji</td>\n",
       "      <td>0.00000</td>\n",
       "      <td>0.00000</td>\n",
       "      <td>6.60000</td>\n",
       "      <td>58,704.00000</td>\n",
       "      <td>0.00000</td>\n",
       "      <td>0.00000</td>\n",
       "      <td>...</td>\n",
       "      <td>0.00000</td>\n",
       "      <td>0.00000</td>\n",
       "      <td>0.00000</td>\n",
       "      <td>0.00000</td>\n",
       "      <td>0.00000</td>\n",
       "      <td>0.00000</td>\n",
       "      <td>0.00000</td>\n",
       "      <td>0.00000</td>\n",
       "      <td>0.00000</td>\n",
       "      <td>0.00000</td>\n",
       "    </tr>\n",
       "  </tbody>\n",
       "</table>\n",
       "<p>5 rows × 26 columns</p>\n",
       "</div>"
      ],
      "text/plain": [
       "                     title        year  duration   cinematographer  \\\n",
       "0        Rifkin's Festival 2,020.00000  92.00000  Vittorio Storaro   \n",
       "1  A Rainy Day in New York 2,019.00000  92.00000  Vittorio Storaro   \n",
       "2             Wonder Wheel 2,017.00000 101.00000  Vittorio Storaro   \n",
       "4             Café Society 2,016.00000  96.00000  Vittorio Storaro   \n",
       "5           Irrational Man 2,015.00000  95.00000    Darius Khondji   \n",
       "\n",
       "   documentary  tv_series  rating  rating_count  Woody Allen  Mia Farrow  ...  \\\n",
       "0      0.00000    0.00000 6.20000     723.00000      0.00000     0.00000  ...   \n",
       "1      0.00000    0.00000 6.50000  30,151.00000      0.00000     0.00000  ...   \n",
       "2      0.00000    0.00000 6.20000  25,209.00000      0.00000     0.00000  ...   \n",
       "4      0.00000    0.00000 6.60000  71,114.00000      0.00000     0.00000  ...   \n",
       "5      0.00000    0.00000 6.60000  58,704.00000      0.00000     0.00000  ...   \n",
       "\n",
       "   John Doumanian  Tony Roberts  Alan Alda  Paul Herman  Ira Wheeler  \\\n",
       "0         0.00000       0.00000    0.00000      0.00000      0.00000   \n",
       "1         0.00000       0.00000    0.00000      0.00000      0.00000   \n",
       "2         1.00000       0.00000    0.00000      0.00000      0.00000   \n",
       "4         0.00000       0.00000    0.00000      0.00000      0.00000   \n",
       "5         0.00000       0.00000    0.00000      0.00000      0.00000   \n",
       "\n",
       "   Dianne Wiest  Louise Lasser  Douglas McGrath  Scarlett Johansson  \\\n",
       "0       0.00000        0.00000          1.00000             0.00000   \n",
       "1       0.00000        0.00000          0.00000             0.00000   \n",
       "2       0.00000        0.00000          0.00000             0.00000   \n",
       "4       0.00000        0.00000          0.00000             0.00000   \n",
       "5       0.00000        0.00000          0.00000             0.00000   \n",
       "\n",
       "   Sam Waterston  \n",
       "0        0.00000  \n",
       "1        0.00000  \n",
       "2        0.00000  \n",
       "4        0.00000  \n",
       "5        0.00000  \n",
       "\n",
       "[5 rows x 26 columns]"
      ]
     },
     "execution_count": 13,
     "metadata": {},
     "output_type": "execute_result"
    }
   ],
   "source": [
    "films_and_features_to_analyze_df.head() "
   ]
  },
  {
   "cell_type": "code",
   "execution_count": 14,
   "metadata": {},
   "outputs": [
    {
     "data": {
      "text/plain": [
       "1"
      ]
     },
     "execution_count": 14,
     "metadata": {},
     "output_type": "execute_result"
    }
   ],
   "source": [
    "cinematographer_include_threshold = films_and_features_to_analyze_df['cinematographer'].value_counts().min()\n",
    "cinematographer_include_threshold"
   ]
  },
  {
   "cell_type": "code",
   "execution_count": 15,
   "metadata": {},
   "outputs": [
    {
     "name": "stderr",
     "output_type": "stream",
     "text": [
      "/opt/anaconda3/envs/metis/lib/python3.8/site-packages/pandas/core/series.py:4479: SettingWithCopyWarning: \n",
      "A value is trying to be set on a copy of a slice from a DataFrame\n",
      "\n",
      "See the caveats in the documentation: https://pandas.pydata.org/pandas-docs/stable/user_guide/indexing.html#returning-a-view-versus-a-copy\n",
      "  return super().replace(\n"
     ]
    }
   ],
   "source": [
    "value_counts = films_and_features_to_analyze_df['cinematographer'].value_counts() # Specific column \n",
    "to_remove = value_counts[value_counts <= cinematographer_include_threshold].index\n",
    "films_and_features_to_analyze_df['cinematographer'].replace(to_remove, 'OTHER', inplace=True)"
   ]
  },
  {
   "cell_type": "code",
   "execution_count": null,
   "metadata": {},
   "outputs": [],
   "source": []
  },
  {
   "cell_type": "markdown",
   "metadata": {},
   "source": [
    "### Regression analysis on `rating`,  `duration`, and `year` etc"
   ]
  },
  {
   "cell_type": "markdown",
   "metadata": {},
   "source": [
    "#### `rating` as target"
   ]
  },
  {
   "cell_type": "markdown",
   "metadata": {},
   "source": [
    "### Selecting columns for Train Test Split"
   ]
  },
  {
   "cell_type": "code",
   "execution_count": 16,
   "metadata": {
    "scrolled": true
   },
   "outputs": [
    {
     "data": {
      "text/plain": [
       "Index(['title', 'year', 'duration', 'cinematographer', 'documentary',\n",
       "       'tv_series', 'rating', 'rating_count', 'Woody Allen', 'Mia Farrow',\n",
       "       'Diane Keaton', 'Maurice Sonnenberg', 'Wallace Shawn',\n",
       "       'Stephanie Roth Haberle', 'Dan Frazer', 'Julie Kavner',\n",
       "       'John Doumanian', 'Tony Roberts', 'Alan Alda', 'Paul Herman',\n",
       "       'Ira Wheeler', 'Dianne Wiest', 'Louise Lasser', 'Douglas McGrath',\n",
       "       'Scarlett Johansson', 'Sam Waterston'],\n",
       "      dtype='object')"
      ]
     },
     "execution_count": 16,
     "metadata": {},
     "output_type": "execute_result"
    }
   ],
   "source": [
    "films_and_features_to_analyze_df.columns # review columns we start with"
   ]
  },
  {
   "cell_type": "code",
   "execution_count": null,
   "metadata": {},
   "outputs": [],
   "source": []
  },
  {
   "cell_type": "code",
   "execution_count": 17,
   "metadata": {},
   "outputs": [],
   "source": [
    "selected_cols = [*films_and_features_to_analyze_df.columns[1:6], *films_and_features_to_analyze_df.columns[7:]]"
   ]
  },
  {
   "cell_type": "code",
   "execution_count": 18,
   "metadata": {},
   "outputs": [
    {
     "data": {
      "text/plain": [
       "['year',\n",
       " 'duration',\n",
       " 'cinematographer',\n",
       " 'documentary',\n",
       " 'tv_series',\n",
       " 'rating_count',\n",
       " 'Woody Allen',\n",
       " 'Mia Farrow',\n",
       " 'Diane Keaton',\n",
       " 'Maurice Sonnenberg',\n",
       " 'Wallace Shawn',\n",
       " 'Stephanie Roth Haberle',\n",
       " 'Dan Frazer',\n",
       " 'Julie Kavner',\n",
       " 'John Doumanian',\n",
       " 'Tony Roberts',\n",
       " 'Alan Alda',\n",
       " 'Paul Herman',\n",
       " 'Ira Wheeler',\n",
       " 'Dianne Wiest',\n",
       " 'Louise Lasser',\n",
       " 'Douglas McGrath',\n",
       " 'Scarlett Johansson',\n",
       " 'Sam Waterston']"
      ]
     },
     "execution_count": 18,
     "metadata": {},
     "output_type": "execute_result"
    }
   ],
   "source": [
    "selected_cols"
   ]
  },
  {
   "cell_type": "code",
   "execution_count": 19,
   "metadata": {},
   "outputs": [],
   "source": [
    "X= films_and_features_to_analyze_df[selected_cols]\n",
    "y= films_and_features_to_analyze_df['rating']"
   ]
  },
  {
   "cell_type": "code",
   "execution_count": 20,
   "metadata": {},
   "outputs": [
    {
     "data": {
      "text/plain": [
       "False"
      ]
     },
     "execution_count": 20,
     "metadata": {},
     "output_type": "execute_result"
    }
   ],
   "source": [
    "y.isnull().values.any()"
   ]
  },
  {
   "cell_type": "markdown",
   "metadata": {},
   "source": [
    "### Train-val vs. test split"
   ]
  },
  {
   "cell_type": "code",
   "execution_count": 21,
   "metadata": {},
   "outputs": [],
   "source": [
    "X_train_val, X_test, y_train_val, y_test = train_test_split(X, y, test_size=0.2,random_state=42)"
   ]
  },
  {
   "cell_type": "code",
   "execution_count": 22,
   "metadata": {},
   "outputs": [
    {
     "data": {
      "text/html": [
       "<div>\n",
       "<style scoped>\n",
       "    .dataframe tbody tr th:only-of-type {\n",
       "        vertical-align: middle;\n",
       "    }\n",
       "\n",
       "    .dataframe tbody tr th {\n",
       "        vertical-align: top;\n",
       "    }\n",
       "\n",
       "    .dataframe thead th {\n",
       "        text-align: right;\n",
       "    }\n",
       "</style>\n",
       "<table border=\"1\" class=\"dataframe\">\n",
       "  <thead>\n",
       "    <tr style=\"text-align: right;\">\n",
       "      <th></th>\n",
       "      <th>year</th>\n",
       "      <th>duration</th>\n",
       "      <th>cinematographer</th>\n",
       "      <th>documentary</th>\n",
       "      <th>tv_series</th>\n",
       "      <th>rating_count</th>\n",
       "      <th>Woody Allen</th>\n",
       "      <th>Mia Farrow</th>\n",
       "      <th>Diane Keaton</th>\n",
       "      <th>Maurice Sonnenberg</th>\n",
       "      <th>...</th>\n",
       "      <th>John Doumanian</th>\n",
       "      <th>Tony Roberts</th>\n",
       "      <th>Alan Alda</th>\n",
       "      <th>Paul Herman</th>\n",
       "      <th>Ira Wheeler</th>\n",
       "      <th>Dianne Wiest</th>\n",
       "      <th>Louise Lasser</th>\n",
       "      <th>Douglas McGrath</th>\n",
       "      <th>Scarlett Johansson</th>\n",
       "      <th>Sam Waterston</th>\n",
       "    </tr>\n",
       "  </thead>\n",
       "  <tbody>\n",
       "    <tr>\n",
       "      <th>21</th>\n",
       "      <td>2,001.00000</td>\n",
       "      <td>103.00000</td>\n",
       "      <td>Fei Zhao</td>\n",
       "      <td>0.00000</td>\n",
       "      <td>0.00000</td>\n",
       "      <td>37,740.00000</td>\n",
       "      <td>1.00000</td>\n",
       "      <td>0.00000</td>\n",
       "      <td>0.00000</td>\n",
       "      <td>1.00000</td>\n",
       "      <td>...</td>\n",
       "      <td>1.00000</td>\n",
       "      <td>0.00000</td>\n",
       "      <td>0.00000</td>\n",
       "      <td>0.00000</td>\n",
       "      <td>0.00000</td>\n",
       "      <td>0.00000</td>\n",
       "      <td>0.00000</td>\n",
       "      <td>0.00000</td>\n",
       "      <td>0.00000</td>\n",
       "      <td>0.00000</td>\n",
       "    </tr>\n",
       "    <tr>\n",
       "      <th>43</th>\n",
       "      <td>1,982.00000</td>\n",
       "      <td>88.00000</td>\n",
       "      <td>Gordon Willis</td>\n",
       "      <td>0.00000</td>\n",
       "      <td>0.00000</td>\n",
       "      <td>18,440.00000</td>\n",
       "      <td>1.00000</td>\n",
       "      <td>1.00000</td>\n",
       "      <td>0.00000</td>\n",
       "      <td>0.00000</td>\n",
       "      <td>...</td>\n",
       "      <td>0.00000</td>\n",
       "      <td>1.00000</td>\n",
       "      <td>0.00000</td>\n",
       "      <td>0.00000</td>\n",
       "      <td>0.00000</td>\n",
       "      <td>0.00000</td>\n",
       "      <td>0.00000</td>\n",
       "      <td>0.00000</td>\n",
       "      <td>0.00000</td>\n",
       "      <td>0.00000</td>\n",
       "    </tr>\n",
       "    <tr>\n",
       "      <th>49</th>\n",
       "      <td>1,973.00000</td>\n",
       "      <td>89.00000</td>\n",
       "      <td>David M. Walsh</td>\n",
       "      <td>0.00000</td>\n",
       "      <td>0.00000</td>\n",
       "      <td>39,747.00000</td>\n",
       "      <td>1.00000</td>\n",
       "      <td>0.00000</td>\n",
       "      <td>1.00000</td>\n",
       "      <td>0.00000</td>\n",
       "      <td>...</td>\n",
       "      <td>0.00000</td>\n",
       "      <td>0.00000</td>\n",
       "      <td>0.00000</td>\n",
       "      <td>0.00000</td>\n",
       "      <td>0.00000</td>\n",
       "      <td>0.00000</td>\n",
       "      <td>0.00000</td>\n",
       "      <td>0.00000</td>\n",
       "      <td>0.00000</td>\n",
       "      <td>0.00000</td>\n",
       "    </tr>\n",
       "    <tr>\n",
       "      <th>13</th>\n",
       "      <td>2,007.00000</td>\n",
       "      <td>108.00000</td>\n",
       "      <td>Vilmos Zsigmond</td>\n",
       "      <td>0.00000</td>\n",
       "      <td>0.00000</td>\n",
       "      <td>49,986.00000</td>\n",
       "      <td>0.00000</td>\n",
       "      <td>0.00000</td>\n",
       "      <td>0.00000</td>\n",
       "      <td>0.00000</td>\n",
       "      <td>...</td>\n",
       "      <td>0.00000</td>\n",
       "      <td>0.00000</td>\n",
       "      <td>0.00000</td>\n",
       "      <td>0.00000</td>\n",
       "      <td>0.00000</td>\n",
       "      <td>0.00000</td>\n",
       "      <td>0.00000</td>\n",
       "      <td>0.00000</td>\n",
       "      <td>0.00000</td>\n",
       "      <td>0.00000</td>\n",
       "    </tr>\n",
       "    <tr>\n",
       "      <th>45</th>\n",
       "      <td>1,979.00000</td>\n",
       "      <td>96.00000</td>\n",
       "      <td>Gordon Willis</td>\n",
       "      <td>0.00000</td>\n",
       "      <td>0.00000</td>\n",
       "      <td>131,301.00000</td>\n",
       "      <td>1.00000</td>\n",
       "      <td>0.00000</td>\n",
       "      <td>1.00000</td>\n",
       "      <td>0.00000</td>\n",
       "      <td>...</td>\n",
       "      <td>0.00000</td>\n",
       "      <td>0.00000</td>\n",
       "      <td>0.00000</td>\n",
       "      <td>0.00000</td>\n",
       "      <td>0.00000</td>\n",
       "      <td>0.00000</td>\n",
       "      <td>0.00000</td>\n",
       "      <td>0.00000</td>\n",
       "      <td>0.00000</td>\n",
       "      <td>0.00000</td>\n",
       "    </tr>\n",
       "    <tr>\n",
       "      <th>6</th>\n",
       "      <td>2,014.00000</td>\n",
       "      <td>97.00000</td>\n",
       "      <td>Darius Khondji</td>\n",
       "      <td>0.00000</td>\n",
       "      <td>0.00000</td>\n",
       "      <td>64,032.00000</td>\n",
       "      <td>0.00000</td>\n",
       "      <td>0.00000</td>\n",
       "      <td>0.00000</td>\n",
       "      <td>0.00000</td>\n",
       "      <td>...</td>\n",
       "      <td>0.00000</td>\n",
       "      <td>0.00000</td>\n",
       "      <td>0.00000</td>\n",
       "      <td>0.00000</td>\n",
       "      <td>0.00000</td>\n",
       "      <td>0.00000</td>\n",
       "      <td>0.00000</td>\n",
       "      <td>0.00000</td>\n",
       "      <td>0.00000</td>\n",
       "      <td>0.00000</td>\n",
       "    </tr>\n",
       "    <tr>\n",
       "      <th>18</th>\n",
       "      <td>2,002.00000</td>\n",
       "      <td>112.00000</td>\n",
       "      <td>OTHER</td>\n",
       "      <td>0.00000</td>\n",
       "      <td>0.00000</td>\n",
       "      <td>25,820.00000</td>\n",
       "      <td>1.00000</td>\n",
       "      <td>0.00000</td>\n",
       "      <td>0.00000</td>\n",
       "      <td>0.00000</td>\n",
       "      <td>...</td>\n",
       "      <td>0.00000</td>\n",
       "      <td>0.00000</td>\n",
       "      <td>0.00000</td>\n",
       "      <td>0.00000</td>\n",
       "      <td>0.00000</td>\n",
       "      <td>0.00000</td>\n",
       "      <td>0.00000</td>\n",
       "      <td>1.00000</td>\n",
       "      <td>0.00000</td>\n",
       "      <td>0.00000</td>\n",
       "    </tr>\n",
       "    <tr>\n",
       "      <th>53</th>\n",
       "      <td>1,969.00000</td>\n",
       "      <td>85.00000</td>\n",
       "      <td>OTHER</td>\n",
       "      <td>0.00000</td>\n",
       "      <td>0.00000</td>\n",
       "      <td>28,204.00000</td>\n",
       "      <td>1.00000</td>\n",
       "      <td>0.00000</td>\n",
       "      <td>0.00000</td>\n",
       "      <td>0.00000</td>\n",
       "      <td>...</td>\n",
       "      <td>0.00000</td>\n",
       "      <td>0.00000</td>\n",
       "      <td>0.00000</td>\n",
       "      <td>0.00000</td>\n",
       "      <td>0.00000</td>\n",
       "      <td>0.00000</td>\n",
       "      <td>0.00000</td>\n",
       "      <td>0.00000</td>\n",
       "      <td>0.00000</td>\n",
       "      <td>0.00000</td>\n",
       "    </tr>\n",
       "    <tr>\n",
       "      <th>4</th>\n",
       "      <td>2,016.00000</td>\n",
       "      <td>96.00000</td>\n",
       "      <td>Vittorio Storaro</td>\n",
       "      <td>0.00000</td>\n",
       "      <td>0.00000</td>\n",
       "      <td>71,114.00000</td>\n",
       "      <td>0.00000</td>\n",
       "      <td>0.00000</td>\n",
       "      <td>0.00000</td>\n",
       "      <td>0.00000</td>\n",
       "      <td>...</td>\n",
       "      <td>0.00000</td>\n",
       "      <td>0.00000</td>\n",
       "      <td>0.00000</td>\n",
       "      <td>0.00000</td>\n",
       "      <td>0.00000</td>\n",
       "      <td>0.00000</td>\n",
       "      <td>0.00000</td>\n",
       "      <td>0.00000</td>\n",
       "      <td>0.00000</td>\n",
       "      <td>0.00000</td>\n",
       "    </tr>\n",
       "    <tr>\n",
       "      <th>34</th>\n",
       "      <td>1,989.00000</td>\n",
       "      <td>104.00000</td>\n",
       "      <td>Sven Nykvist</td>\n",
       "      <td>0.00000</td>\n",
       "      <td>0.00000</td>\n",
       "      <td>54,605.00000</td>\n",
       "      <td>1.00000</td>\n",
       "      <td>0.00000</td>\n",
       "      <td>0.00000</td>\n",
       "      <td>0.00000</td>\n",
       "      <td>...</td>\n",
       "      <td>0.00000</td>\n",
       "      <td>0.00000</td>\n",
       "      <td>1.00000</td>\n",
       "      <td>0.00000</td>\n",
       "      <td>0.00000</td>\n",
       "      <td>0.00000</td>\n",
       "      <td>0.00000</td>\n",
       "      <td>0.00000</td>\n",
       "      <td>0.00000</td>\n",
       "      <td>1.00000</td>\n",
       "    </tr>\n",
       "    <tr>\n",
       "      <th>14</th>\n",
       "      <td>2,006.00000</td>\n",
       "      <td>96.00000</td>\n",
       "      <td>Remi Adefarasin</td>\n",
       "      <td>0.00000</td>\n",
       "      <td>0.00000</td>\n",
       "      <td>80,731.00000</td>\n",
       "      <td>0.00000</td>\n",
       "      <td>0.00000</td>\n",
       "      <td>0.00000</td>\n",
       "      <td>0.00000</td>\n",
       "      <td>...</td>\n",
       "      <td>0.00000</td>\n",
       "      <td>0.00000</td>\n",
       "      <td>0.00000</td>\n",
       "      <td>0.00000</td>\n",
       "      <td>0.00000</td>\n",
       "      <td>0.00000</td>\n",
       "      <td>0.00000</td>\n",
       "      <td>0.00000</td>\n",
       "      <td>1.00000</td>\n",
       "      <td>0.00000</td>\n",
       "    </tr>\n",
       "  </tbody>\n",
       "</table>\n",
       "<p>11 rows × 24 columns</p>\n",
       "</div>"
      ],
      "text/plain": [
       "          year  duration   cinematographer  documentary  tv_series  \\\n",
       "21 2,001.00000 103.00000          Fei Zhao      0.00000    0.00000   \n",
       "43 1,982.00000  88.00000     Gordon Willis      0.00000    0.00000   \n",
       "49 1,973.00000  89.00000    David M. Walsh      0.00000    0.00000   \n",
       "13 2,007.00000 108.00000   Vilmos Zsigmond      0.00000    0.00000   \n",
       "45 1,979.00000  96.00000     Gordon Willis      0.00000    0.00000   \n",
       "6  2,014.00000  97.00000    Darius Khondji      0.00000    0.00000   \n",
       "18 2,002.00000 112.00000             OTHER      0.00000    0.00000   \n",
       "53 1,969.00000  85.00000             OTHER      0.00000    0.00000   \n",
       "4  2,016.00000  96.00000  Vittorio Storaro      0.00000    0.00000   \n",
       "34 1,989.00000 104.00000      Sven Nykvist      0.00000    0.00000   \n",
       "14 2,006.00000  96.00000   Remi Adefarasin      0.00000    0.00000   \n",
       "\n",
       "    rating_count  Woody Allen  Mia Farrow  Diane Keaton  Maurice Sonnenberg  \\\n",
       "21  37,740.00000      1.00000     0.00000       0.00000             1.00000   \n",
       "43  18,440.00000      1.00000     1.00000       0.00000             0.00000   \n",
       "49  39,747.00000      1.00000     0.00000       1.00000             0.00000   \n",
       "13  49,986.00000      0.00000     0.00000       0.00000             0.00000   \n",
       "45 131,301.00000      1.00000     0.00000       1.00000             0.00000   \n",
       "6   64,032.00000      0.00000     0.00000       0.00000             0.00000   \n",
       "18  25,820.00000      1.00000     0.00000       0.00000             0.00000   \n",
       "53  28,204.00000      1.00000     0.00000       0.00000             0.00000   \n",
       "4   71,114.00000      0.00000     0.00000       0.00000             0.00000   \n",
       "34  54,605.00000      1.00000     0.00000       0.00000             0.00000   \n",
       "14  80,731.00000      0.00000     0.00000       0.00000             0.00000   \n",
       "\n",
       "    ...  John Doumanian  Tony Roberts  Alan Alda  Paul Herman  Ira Wheeler  \\\n",
       "21  ...         1.00000       0.00000    0.00000      0.00000      0.00000   \n",
       "43  ...         0.00000       1.00000    0.00000      0.00000      0.00000   \n",
       "49  ...         0.00000       0.00000    0.00000      0.00000      0.00000   \n",
       "13  ...         0.00000       0.00000    0.00000      0.00000      0.00000   \n",
       "45  ...         0.00000       0.00000    0.00000      0.00000      0.00000   \n",
       "6   ...         0.00000       0.00000    0.00000      0.00000      0.00000   \n",
       "18  ...         0.00000       0.00000    0.00000      0.00000      0.00000   \n",
       "53  ...         0.00000       0.00000    0.00000      0.00000      0.00000   \n",
       "4   ...         0.00000       0.00000    0.00000      0.00000      0.00000   \n",
       "34  ...         0.00000       0.00000    1.00000      0.00000      0.00000   \n",
       "14  ...         0.00000       0.00000    0.00000      0.00000      0.00000   \n",
       "\n",
       "    Dianne Wiest  Louise Lasser  Douglas McGrath  Scarlett Johansson  \\\n",
       "21       0.00000        0.00000          0.00000             0.00000   \n",
       "43       0.00000        0.00000          0.00000             0.00000   \n",
       "49       0.00000        0.00000          0.00000             0.00000   \n",
       "13       0.00000        0.00000          0.00000             0.00000   \n",
       "45       0.00000        0.00000          0.00000             0.00000   \n",
       "6        0.00000        0.00000          0.00000             0.00000   \n",
       "18       0.00000        0.00000          1.00000             0.00000   \n",
       "53       0.00000        0.00000          0.00000             0.00000   \n",
       "4        0.00000        0.00000          0.00000             0.00000   \n",
       "34       0.00000        0.00000          0.00000             0.00000   \n",
       "14       0.00000        0.00000          0.00000             1.00000   \n",
       "\n",
       "    Sam Waterston  \n",
       "21        0.00000  \n",
       "43        0.00000  \n",
       "49        0.00000  \n",
       "13        0.00000  \n",
       "45        0.00000  \n",
       "6         0.00000  \n",
       "18        0.00000  \n",
       "53        0.00000  \n",
       "4         0.00000  \n",
       "34        1.00000  \n",
       "14        0.00000  \n",
       "\n",
       "[11 rows x 24 columns]"
      ]
     },
     "execution_count": 22,
     "metadata": {},
     "output_type": "execute_result"
    }
   ],
   "source": [
    "X_test"
   ]
  },
  {
   "cell_type": "markdown",
   "metadata": {},
   "source": [
    "## Preprocessing"
   ]
  },
  {
   "cell_type": "markdown",
   "metadata": {},
   "source": [
    "### Categorical Variable Preprocessing"
   ]
  },
  {
   "cell_type": "markdown",
   "metadata": {},
   "source": [
    "#### One-hot-encoding"
   ]
  },
  {
   "cell_type": "code",
   "execution_count": 23,
   "metadata": {},
   "outputs": [],
   "source": [
    "cat_ohe_vars = ['cinematographer']\n",
    "X_train_val_cat_ohe = X_train_val[cat_ohe_vars]\n",
    "#X_train_cat_ohe "
   ]
  },
  {
   "cell_type": "code",
   "execution_count": 24,
   "metadata": {},
   "outputs": [],
   "source": [
    "ohe = OneHotEncoder(sparse=False,  handle_unknown='ignore')\n",
    "ohe.fit(X_train_val_cat_ohe)\n",
    "cat_ohe = ohe.transform(X_train_val_cat_ohe)"
   ]
  },
  {
   "cell_type": "code",
   "execution_count": 25,
   "metadata": {},
   "outputs": [
    {
     "data": {
      "text/plain": [
       "array(['cinematographer_Carlo Di Palma', 'cinematographer_Darius Khondji',\n",
       "       'cinematographer_David M. Walsh', 'cinematographer_Fei Zhao',\n",
       "       'cinematographer_Gordon Willis',\n",
       "       'cinematographer_Javier Aguirresarobe', 'cinematographer_OTHER',\n",
       "       'cinematographer_Remi Adefarasin', 'cinematographer_Sven Nykvist',\n",
       "       'cinematographer_Vilmos Zsigmond',\n",
       "       'cinematographer_Vittorio Storaro'], dtype=object)"
      ]
     },
     "execution_count": 25,
     "metadata": {},
     "output_type": "execute_result"
    }
   ],
   "source": [
    "columns=ohe.get_feature_names(cat_ohe_vars)\n",
    "columns"
   ]
  },
  {
   "cell_type": "code",
   "execution_count": 26,
   "metadata": {},
   "outputs": [
    {
     "data": {
      "text/html": [
       "<div>\n",
       "<style scoped>\n",
       "    .dataframe tbody tr th:only-of-type {\n",
       "        vertical-align: middle;\n",
       "    }\n",
       "\n",
       "    .dataframe tbody tr th {\n",
       "        vertical-align: top;\n",
       "    }\n",
       "\n",
       "    .dataframe thead th {\n",
       "        text-align: right;\n",
       "    }\n",
       "</style>\n",
       "<table border=\"1\" class=\"dataframe\">\n",
       "  <thead>\n",
       "    <tr style=\"text-align: right;\">\n",
       "      <th></th>\n",
       "      <th>cinematographer_Carlo Di Palma</th>\n",
       "      <th>cinematographer_Darius Khondji</th>\n",
       "      <th>cinematographer_David M. Walsh</th>\n",
       "      <th>cinematographer_Fei Zhao</th>\n",
       "      <th>cinematographer_Gordon Willis</th>\n",
       "      <th>cinematographer_Javier Aguirresarobe</th>\n",
       "      <th>cinematographer_OTHER</th>\n",
       "      <th>cinematographer_Remi Adefarasin</th>\n",
       "      <th>cinematographer_Sven Nykvist</th>\n",
       "      <th>cinematographer_Vilmos Zsigmond</th>\n",
       "      <th>cinematographer_Vittorio Storaro</th>\n",
       "    </tr>\n",
       "  </thead>\n",
       "  <tbody>\n",
       "    <tr>\n",
       "      <th>9</th>\n",
       "      <td>0.00000</td>\n",
       "      <td>1.00000</td>\n",
       "      <td>0.00000</td>\n",
       "      <td>0.00000</td>\n",
       "      <td>0.00000</td>\n",
       "      <td>0.00000</td>\n",
       "      <td>0.00000</td>\n",
       "      <td>0.00000</td>\n",
       "      <td>0.00000</td>\n",
       "      <td>0.00000</td>\n",
       "      <td>0.00000</td>\n",
       "    </tr>\n",
       "    <tr>\n",
       "      <th>28</th>\n",
       "      <td>1.00000</td>\n",
       "      <td>0.00000</td>\n",
       "      <td>0.00000</td>\n",
       "      <td>0.00000</td>\n",
       "      <td>0.00000</td>\n",
       "      <td>0.00000</td>\n",
       "      <td>0.00000</td>\n",
       "      <td>0.00000</td>\n",
       "      <td>0.00000</td>\n",
       "      <td>0.00000</td>\n",
       "      <td>0.00000</td>\n",
       "    </tr>\n",
       "    <tr>\n",
       "      <th>7</th>\n",
       "      <td>0.00000</td>\n",
       "      <td>0.00000</td>\n",
       "      <td>0.00000</td>\n",
       "      <td>0.00000</td>\n",
       "      <td>0.00000</td>\n",
       "      <td>1.00000</td>\n",
       "      <td>0.00000</td>\n",
       "      <td>0.00000</td>\n",
       "      <td>0.00000</td>\n",
       "      <td>0.00000</td>\n",
       "      <td>0.00000</td>\n",
       "    </tr>\n",
       "    <tr>\n",
       "      <th>36</th>\n",
       "      <td>0.00000</td>\n",
       "      <td>0.00000</td>\n",
       "      <td>0.00000</td>\n",
       "      <td>0.00000</td>\n",
       "      <td>0.00000</td>\n",
       "      <td>0.00000</td>\n",
       "      <td>0.00000</td>\n",
       "      <td>0.00000</td>\n",
       "      <td>1.00000</td>\n",
       "      <td>0.00000</td>\n",
       "      <td>0.00000</td>\n",
       "    </tr>\n",
       "    <tr>\n",
       "      <th>5</th>\n",
       "      <td>0.00000</td>\n",
       "      <td>1.00000</td>\n",
       "      <td>0.00000</td>\n",
       "      <td>0.00000</td>\n",
       "      <td>0.00000</td>\n",
       "      <td>0.00000</td>\n",
       "      <td>0.00000</td>\n",
       "      <td>0.00000</td>\n",
       "      <td>0.00000</td>\n",
       "      <td>0.00000</td>\n",
       "      <td>0.00000</td>\n",
       "    </tr>\n",
       "  </tbody>\n",
       "</table>\n",
       "</div>"
      ],
      "text/plain": [
       "    cinematographer_Carlo Di Palma  cinematographer_Darius Khondji  \\\n",
       "9                          0.00000                         1.00000   \n",
       "28                         1.00000                         0.00000   \n",
       "7                          0.00000                         0.00000   \n",
       "36                         0.00000                         0.00000   \n",
       "5                          0.00000                         1.00000   \n",
       "\n",
       "    cinematographer_David M. Walsh  cinematographer_Fei Zhao  \\\n",
       "9                          0.00000                   0.00000   \n",
       "28                         0.00000                   0.00000   \n",
       "7                          0.00000                   0.00000   \n",
       "36                         0.00000                   0.00000   \n",
       "5                          0.00000                   0.00000   \n",
       "\n",
       "    cinematographer_Gordon Willis  cinematographer_Javier Aguirresarobe  \\\n",
       "9                         0.00000                               0.00000   \n",
       "28                        0.00000                               0.00000   \n",
       "7                         0.00000                               1.00000   \n",
       "36                        0.00000                               0.00000   \n",
       "5                         0.00000                               0.00000   \n",
       "\n",
       "    cinematographer_OTHER  cinematographer_Remi Adefarasin  \\\n",
       "9                 0.00000                          0.00000   \n",
       "28                0.00000                          0.00000   \n",
       "7                 0.00000                          0.00000   \n",
       "36                0.00000                          0.00000   \n",
       "5                 0.00000                          0.00000   \n",
       "\n",
       "    cinematographer_Sven Nykvist  cinematographer_Vilmos Zsigmond  \\\n",
       "9                        0.00000                          0.00000   \n",
       "28                       0.00000                          0.00000   \n",
       "7                        0.00000                          0.00000   \n",
       "36                       1.00000                          0.00000   \n",
       "5                        0.00000                          0.00000   \n",
       "\n",
       "    cinematographer_Vittorio Storaro  \n",
       "9                            0.00000  \n",
       "28                           0.00000  \n",
       "7                            0.00000  \n",
       "36                           0.00000  \n",
       "5                            0.00000  "
      ]
     },
     "execution_count": 26,
     "metadata": {},
     "output_type": "execute_result"
    }
   ],
   "source": [
    "X_train_val_cat_ohe_df = pd.DataFrame(cat_ohe, columns=columns, index=X_train_val_cat_ohe.index)\n",
    "X_train_val_cat_ohe_df.head()"
   ]
  },
  {
   "cell_type": "markdown",
   "metadata": {},
   "source": [
    "Repeating transformations on testing set"
   ]
  },
  {
   "cell_type": "code",
   "execution_count": 27,
   "metadata": {},
   "outputs": [],
   "source": [
    "X_test_cat_ohe = X_test[['cinematographer']]\n",
    "X_test_cat_ohe\n",
    "cat_ohe_test = ohe.transform(X_test_cat_ohe)\n",
    "\n",
    "cat_ohe_columns = ohe.get_feature_names(['cinematographer'])\n",
    "X_test_cat_ohe_df = pd.DataFrame(cat_ohe_test, columns=cat_ohe_columns)\n"
   ]
  },
  {
   "cell_type": "code",
   "execution_count": null,
   "metadata": {},
   "outputs": [],
   "source": []
  },
  {
   "cell_type": "markdown",
   "metadata": {},
   "source": [
    "### Continuous Variable Preprocessing"
   ]
  },
  {
   "cell_type": "code",
   "execution_count": 28,
   "metadata": {},
   "outputs": [
    {
     "data": {
      "text/html": [
       "<div>\n",
       "<style scoped>\n",
       "    .dataframe tbody tr th:only-of-type {\n",
       "        vertical-align: middle;\n",
       "    }\n",
       "\n",
       "    .dataframe tbody tr th {\n",
       "        vertical-align: top;\n",
       "    }\n",
       "\n",
       "    .dataframe thead th {\n",
       "        text-align: right;\n",
       "    }\n",
       "</style>\n",
       "<table border=\"1\" class=\"dataframe\">\n",
       "  <thead>\n",
       "    <tr style=\"text-align: right;\">\n",
       "      <th></th>\n",
       "      <th>year</th>\n",
       "      <th>duration</th>\n",
       "      <th>rating_count</th>\n",
       "    </tr>\n",
       "  </thead>\n",
       "  <tbody>\n",
       "    <tr>\n",
       "      <th>9</th>\n",
       "      <td>2,011.00000</td>\n",
       "      <td>94.00000</td>\n",
       "      <td>387,522.00000</td>\n",
       "    </tr>\n",
       "    <tr>\n",
       "      <th>28</th>\n",
       "      <td>1,994.00000</td>\n",
       "      <td>100.00000</td>\n",
       "      <td>3,178.00000</td>\n",
       "    </tr>\n",
       "    <tr>\n",
       "      <th>7</th>\n",
       "      <td>2,013.00000</td>\n",
       "      <td>98.00000</td>\n",
       "      <td>191,782.00000</td>\n",
       "    </tr>\n",
       "    <tr>\n",
       "      <th>36</th>\n",
       "      <td>1,988.00000</td>\n",
       "      <td>81.00000</td>\n",
       "      <td>12,898.00000</td>\n",
       "    </tr>\n",
       "    <tr>\n",
       "      <th>5</th>\n",
       "      <td>2,015.00000</td>\n",
       "      <td>95.00000</td>\n",
       "      <td>58,704.00000</td>\n",
       "    </tr>\n",
       "  </tbody>\n",
       "</table>\n",
       "</div>"
      ],
      "text/plain": [
       "          year  duration  rating_count\n",
       "9  2,011.00000  94.00000 387,522.00000\n",
       "28 1,994.00000 100.00000   3,178.00000\n",
       "7  2,013.00000  98.00000 191,782.00000\n",
       "36 1,988.00000  81.00000  12,898.00000\n",
       "5  2,015.00000  95.00000  58,704.00000"
      ]
     },
     "execution_count": 28,
     "metadata": {},
     "output_type": "execute_result"
    }
   ],
   "source": [
    "cont_column_names = ['year', 'duration', 'rating_count']\n",
    "X_train_val_cont = X_train_val[cont_column_names ]\n",
    "\n",
    "X_test_cont      = X_test[     cont_column_names ]\n",
    "\n",
    "\n",
    "X_train_val_cont.head()\n"
   ]
  },
  {
   "cell_type": "code",
   "execution_count": 29,
   "metadata": {},
   "outputs": [],
   "source": [
    "#X_train_val_cont_poly.head()"
   ]
  },
  {
   "cell_type": "code",
   "execution_count": 30,
   "metadata": {},
   "outputs": [
    {
     "name": "stderr",
     "output_type": "stream",
     "text": [
      "<ipython-input-30-d30627963e3a>:1: SettingWithCopyWarning: \n",
      "A value is trying to be set on a copy of a slice from a DataFrame.\n",
      "Try using .loc[row_indexer,col_indexer] = value instead\n",
      "\n",
      "See the caveats in the documentation: https://pandas.pydata.org/pandas-docs/stable/user_guide/indexing.html#returning-a-view-versus-a-copy\n",
      "  X_train_val_cont['log_year']         = np.log(X_train_val_cont.year)\n",
      "<ipython-input-30-d30627963e3a>:2: SettingWithCopyWarning: \n",
      "A value is trying to be set on a copy of a slice from a DataFrame.\n",
      "Try using .loc[row_indexer,col_indexer] = value instead\n",
      "\n",
      "See the caveats in the documentation: https://pandas.pydata.org/pandas-docs/stable/user_guide/indexing.html#returning-a-view-versus-a-copy\n",
      "  X_train_val_cont['log_rating_count'] = np.log(X_train_val_cont.rating_count)\n",
      "<ipython-input-30-d30627963e3a>:5: SettingWithCopyWarning: \n",
      "A value is trying to be set on a copy of a slice from a DataFrame.\n",
      "Try using .loc[row_indexer,col_indexer] = value instead\n",
      "\n",
      "See the caveats in the documentation: https://pandas.pydata.org/pandas-docs/stable/user_guide/indexing.html#returning-a-view-versus-a-copy\n",
      "  X_test_cont['log_year']         = np.log(X_test_cont.year)\n",
      "<ipython-input-30-d30627963e3a>:6: SettingWithCopyWarning: \n",
      "A value is trying to be set on a copy of a slice from a DataFrame.\n",
      "Try using .loc[row_indexer,col_indexer] = value instead\n",
      "\n",
      "See the caveats in the documentation: https://pandas.pydata.org/pandas-docs/stable/user_guide/indexing.html#returning-a-view-versus-a-copy\n",
      "  X_test_cont['log_rating_count'] = np.log(X_test_cont.rating_count)\n"
     ]
    }
   ],
   "source": [
    "X_train_val_cont['log_year']         = np.log(X_train_val_cont.year)\n",
    "X_train_val_cont['log_rating_count'] = np.log(X_train_val_cont.rating_count)\n",
    "\n",
    "\n",
    "X_test_cont['log_year']         = np.log(X_test_cont.year)\n",
    "X_test_cont['log_rating_count'] = np.log(X_test_cont.rating_count)"
   ]
  },
  {
   "cell_type": "code",
   "execution_count": 31,
   "metadata": {},
   "outputs": [
    {
     "data": {
      "text/plain": [
       "11"
      ]
     },
     "execution_count": 31,
     "metadata": {},
     "output_type": "execute_result"
    }
   ],
   "source": [
    "X_test_cont.shape[0]"
   ]
  },
  {
   "cell_type": "markdown",
   "metadata": {},
   "source": [
    "#### Concatenate columns"
   ]
  },
  {
   "cell_type": "code",
   "execution_count": 32,
   "metadata": {},
   "outputs": [],
   "source": [
    "cat_columns = ['documentary', 'tv_series', *prevalent_actor_columns]\n",
    "X_train_val_cat_df = X_train_val[cat_columns]\n",
    "#X_train_val_cat_df\n",
    "\n",
    "X_test_cat_df = X_test[cat_columns]\n",
    "#X_train_val_cat_df"
   ]
  },
  {
   "cell_type": "code",
   "execution_count": 33,
   "metadata": {},
   "outputs": [
    {
     "data": {
      "text/plain": [
       "False"
      ]
     },
     "execution_count": 33,
     "metadata": {},
     "output_type": "execute_result"
    }
   ],
   "source": [
    "X_test_cat_df.isnull().values.any()"
   ]
  },
  {
   "cell_type": "code",
   "execution_count": 34,
   "metadata": {},
   "outputs": [],
   "source": [
    "X_train_val_combo= pd.concat([X_train_val_cont, X_train_val_cat_ohe_df, X_train_val_cat_df, ], axis='columns')\n",
    "X_test_combo = pd.concat([X_test_cont.reset_index(drop=True), X_test_cat_ohe_df.reset_index(drop=True), X_test_cat_df.reset_index(drop=True), ], axis='columns')"
   ]
  },
  {
   "cell_type": "code",
   "execution_count": 35,
   "metadata": {},
   "outputs": [
    {
     "data": {
      "text/plain": [
       "(11, 20)"
      ]
     },
     "execution_count": 35,
     "metadata": {},
     "output_type": "execute_result"
    }
   ],
   "source": [
    "X_test_cat_df.shape"
   ]
  },
  {
   "cell_type": "code",
   "execution_count": 36,
   "metadata": {},
   "outputs": [
    {
     "data": {
      "text/plain": [
       "False"
      ]
     },
     "execution_count": 36,
     "metadata": {},
     "output_type": "execute_result"
    }
   ],
   "source": [
    "X_train_val_combo.isnull().values.any()"
   ]
  },
  {
   "cell_type": "code",
   "execution_count": null,
   "metadata": {},
   "outputs": [],
   "source": []
  },
  {
   "cell_type": "code",
   "execution_count": 37,
   "metadata": {},
   "outputs": [
    {
     "data": {
      "text/plain": [
       "False"
      ]
     },
     "execution_count": 37,
     "metadata": {},
     "output_type": "execute_result"
    }
   ],
   "source": [
    "X_test_combo.isnull().values.any()"
   ]
  },
  {
   "cell_type": "code",
   "execution_count": 38,
   "metadata": {},
   "outputs": [
    {
     "data": {
      "text/html": [
       "<div>\n",
       "<style scoped>\n",
       "    .dataframe tbody tr th:only-of-type {\n",
       "        vertical-align: middle;\n",
       "    }\n",
       "\n",
       "    .dataframe tbody tr th {\n",
       "        vertical-align: top;\n",
       "    }\n",
       "\n",
       "    .dataframe thead th {\n",
       "        text-align: right;\n",
       "    }\n",
       "</style>\n",
       "<table border=\"1\" class=\"dataframe\">\n",
       "  <thead>\n",
       "    <tr style=\"text-align: right;\">\n",
       "      <th></th>\n",
       "      <th>year</th>\n",
       "      <th>duration</th>\n",
       "      <th>rating_count</th>\n",
       "      <th>log_year</th>\n",
       "      <th>log_rating_count</th>\n",
       "      <th>cinematographer_Carlo Di Palma</th>\n",
       "      <th>cinematographer_Darius Khondji</th>\n",
       "      <th>cinematographer_David M. Walsh</th>\n",
       "      <th>cinematographer_Fei Zhao</th>\n",
       "      <th>cinematographer_Gordon Willis</th>\n",
       "      <th>...</th>\n",
       "      <th>John Doumanian</th>\n",
       "      <th>Tony Roberts</th>\n",
       "      <th>Alan Alda</th>\n",
       "      <th>Paul Herman</th>\n",
       "      <th>Ira Wheeler</th>\n",
       "      <th>Dianne Wiest</th>\n",
       "      <th>Louise Lasser</th>\n",
       "      <th>Douglas McGrath</th>\n",
       "      <th>Scarlett Johansson</th>\n",
       "      <th>Sam Waterston</th>\n",
       "    </tr>\n",
       "  </thead>\n",
       "  <tbody>\n",
       "    <tr>\n",
       "      <th>0</th>\n",
       "      <td>2,001.00000</td>\n",
       "      <td>103.00000</td>\n",
       "      <td>37,740.00000</td>\n",
       "      <td>7.60140</td>\n",
       "      <td>10.53848</td>\n",
       "      <td>0.00000</td>\n",
       "      <td>0.00000</td>\n",
       "      <td>0.00000</td>\n",
       "      <td>1.00000</td>\n",
       "      <td>0.00000</td>\n",
       "      <td>...</td>\n",
       "      <td>1.00000</td>\n",
       "      <td>0.00000</td>\n",
       "      <td>0.00000</td>\n",
       "      <td>0.00000</td>\n",
       "      <td>0.00000</td>\n",
       "      <td>0.00000</td>\n",
       "      <td>0.00000</td>\n",
       "      <td>0.00000</td>\n",
       "      <td>0.00000</td>\n",
       "      <td>0.00000</td>\n",
       "    </tr>\n",
       "    <tr>\n",
       "      <th>1</th>\n",
       "      <td>1,982.00000</td>\n",
       "      <td>88.00000</td>\n",
       "      <td>18,440.00000</td>\n",
       "      <td>7.59186</td>\n",
       "      <td>9.82228</td>\n",
       "      <td>0.00000</td>\n",
       "      <td>0.00000</td>\n",
       "      <td>0.00000</td>\n",
       "      <td>0.00000</td>\n",
       "      <td>1.00000</td>\n",
       "      <td>...</td>\n",
       "      <td>0.00000</td>\n",
       "      <td>1.00000</td>\n",
       "      <td>0.00000</td>\n",
       "      <td>0.00000</td>\n",
       "      <td>0.00000</td>\n",
       "      <td>0.00000</td>\n",
       "      <td>0.00000</td>\n",
       "      <td>0.00000</td>\n",
       "      <td>0.00000</td>\n",
       "      <td>0.00000</td>\n",
       "    </tr>\n",
       "    <tr>\n",
       "      <th>2</th>\n",
       "      <td>1,973.00000</td>\n",
       "      <td>89.00000</td>\n",
       "      <td>39,747.00000</td>\n",
       "      <td>7.58731</td>\n",
       "      <td>10.59029</td>\n",
       "      <td>0.00000</td>\n",
       "      <td>0.00000</td>\n",
       "      <td>1.00000</td>\n",
       "      <td>0.00000</td>\n",
       "      <td>0.00000</td>\n",
       "      <td>...</td>\n",
       "      <td>0.00000</td>\n",
       "      <td>0.00000</td>\n",
       "      <td>0.00000</td>\n",
       "      <td>0.00000</td>\n",
       "      <td>0.00000</td>\n",
       "      <td>0.00000</td>\n",
       "      <td>0.00000</td>\n",
       "      <td>0.00000</td>\n",
       "      <td>0.00000</td>\n",
       "      <td>0.00000</td>\n",
       "    </tr>\n",
       "    <tr>\n",
       "      <th>3</th>\n",
       "      <td>2,007.00000</td>\n",
       "      <td>108.00000</td>\n",
       "      <td>49,986.00000</td>\n",
       "      <td>7.60440</td>\n",
       "      <td>10.81950</td>\n",
       "      <td>0.00000</td>\n",
       "      <td>0.00000</td>\n",
       "      <td>0.00000</td>\n",
       "      <td>0.00000</td>\n",
       "      <td>0.00000</td>\n",
       "      <td>...</td>\n",
       "      <td>0.00000</td>\n",
       "      <td>0.00000</td>\n",
       "      <td>0.00000</td>\n",
       "      <td>0.00000</td>\n",
       "      <td>0.00000</td>\n",
       "      <td>0.00000</td>\n",
       "      <td>0.00000</td>\n",
       "      <td>0.00000</td>\n",
       "      <td>0.00000</td>\n",
       "      <td>0.00000</td>\n",
       "    </tr>\n",
       "    <tr>\n",
       "      <th>4</th>\n",
       "      <td>1,979.00000</td>\n",
       "      <td>96.00000</td>\n",
       "      <td>131,301.00000</td>\n",
       "      <td>7.59035</td>\n",
       "      <td>11.78525</td>\n",
       "      <td>0.00000</td>\n",
       "      <td>0.00000</td>\n",
       "      <td>0.00000</td>\n",
       "      <td>0.00000</td>\n",
       "      <td>1.00000</td>\n",
       "      <td>...</td>\n",
       "      <td>0.00000</td>\n",
       "      <td>0.00000</td>\n",
       "      <td>0.00000</td>\n",
       "      <td>0.00000</td>\n",
       "      <td>0.00000</td>\n",
       "      <td>0.00000</td>\n",
       "      <td>0.00000</td>\n",
       "      <td>0.00000</td>\n",
       "      <td>0.00000</td>\n",
       "      <td>0.00000</td>\n",
       "    </tr>\n",
       "    <tr>\n",
       "      <th>5</th>\n",
       "      <td>2,014.00000</td>\n",
       "      <td>97.00000</td>\n",
       "      <td>64,032.00000</td>\n",
       "      <td>7.60788</td>\n",
       "      <td>11.06714</td>\n",
       "      <td>0.00000</td>\n",
       "      <td>1.00000</td>\n",
       "      <td>0.00000</td>\n",
       "      <td>0.00000</td>\n",
       "      <td>0.00000</td>\n",
       "      <td>...</td>\n",
       "      <td>0.00000</td>\n",
       "      <td>0.00000</td>\n",
       "      <td>0.00000</td>\n",
       "      <td>0.00000</td>\n",
       "      <td>0.00000</td>\n",
       "      <td>0.00000</td>\n",
       "      <td>0.00000</td>\n",
       "      <td>0.00000</td>\n",
       "      <td>0.00000</td>\n",
       "      <td>0.00000</td>\n",
       "    </tr>\n",
       "    <tr>\n",
       "      <th>6</th>\n",
       "      <td>2,002.00000</td>\n",
       "      <td>112.00000</td>\n",
       "      <td>25,820.00000</td>\n",
       "      <td>7.60190</td>\n",
       "      <td>10.15890</td>\n",
       "      <td>0.00000</td>\n",
       "      <td>0.00000</td>\n",
       "      <td>0.00000</td>\n",
       "      <td>0.00000</td>\n",
       "      <td>0.00000</td>\n",
       "      <td>...</td>\n",
       "      <td>0.00000</td>\n",
       "      <td>0.00000</td>\n",
       "      <td>0.00000</td>\n",
       "      <td>0.00000</td>\n",
       "      <td>0.00000</td>\n",
       "      <td>0.00000</td>\n",
       "      <td>0.00000</td>\n",
       "      <td>1.00000</td>\n",
       "      <td>0.00000</td>\n",
       "      <td>0.00000</td>\n",
       "    </tr>\n",
       "    <tr>\n",
       "      <th>7</th>\n",
       "      <td>1,969.00000</td>\n",
       "      <td>85.00000</td>\n",
       "      <td>28,204.00000</td>\n",
       "      <td>7.58528</td>\n",
       "      <td>10.24722</td>\n",
       "      <td>0.00000</td>\n",
       "      <td>0.00000</td>\n",
       "      <td>0.00000</td>\n",
       "      <td>0.00000</td>\n",
       "      <td>0.00000</td>\n",
       "      <td>...</td>\n",
       "      <td>0.00000</td>\n",
       "      <td>0.00000</td>\n",
       "      <td>0.00000</td>\n",
       "      <td>0.00000</td>\n",
       "      <td>0.00000</td>\n",
       "      <td>0.00000</td>\n",
       "      <td>0.00000</td>\n",
       "      <td>0.00000</td>\n",
       "      <td>0.00000</td>\n",
       "      <td>0.00000</td>\n",
       "    </tr>\n",
       "    <tr>\n",
       "      <th>8</th>\n",
       "      <td>2,016.00000</td>\n",
       "      <td>96.00000</td>\n",
       "      <td>71,114.00000</td>\n",
       "      <td>7.60887</td>\n",
       "      <td>11.17204</td>\n",
       "      <td>0.00000</td>\n",
       "      <td>0.00000</td>\n",
       "      <td>0.00000</td>\n",
       "      <td>0.00000</td>\n",
       "      <td>0.00000</td>\n",
       "      <td>...</td>\n",
       "      <td>0.00000</td>\n",
       "      <td>0.00000</td>\n",
       "      <td>0.00000</td>\n",
       "      <td>0.00000</td>\n",
       "      <td>0.00000</td>\n",
       "      <td>0.00000</td>\n",
       "      <td>0.00000</td>\n",
       "      <td>0.00000</td>\n",
       "      <td>0.00000</td>\n",
       "      <td>0.00000</td>\n",
       "    </tr>\n",
       "    <tr>\n",
       "      <th>9</th>\n",
       "      <td>1,989.00000</td>\n",
       "      <td>104.00000</td>\n",
       "      <td>54,605.00000</td>\n",
       "      <td>7.59539</td>\n",
       "      <td>10.90788</td>\n",
       "      <td>0.00000</td>\n",
       "      <td>0.00000</td>\n",
       "      <td>0.00000</td>\n",
       "      <td>0.00000</td>\n",
       "      <td>0.00000</td>\n",
       "      <td>...</td>\n",
       "      <td>0.00000</td>\n",
       "      <td>0.00000</td>\n",
       "      <td>1.00000</td>\n",
       "      <td>0.00000</td>\n",
       "      <td>0.00000</td>\n",
       "      <td>0.00000</td>\n",
       "      <td>0.00000</td>\n",
       "      <td>0.00000</td>\n",
       "      <td>0.00000</td>\n",
       "      <td>1.00000</td>\n",
       "    </tr>\n",
       "    <tr>\n",
       "      <th>10</th>\n",
       "      <td>2,006.00000</td>\n",
       "      <td>96.00000</td>\n",
       "      <td>80,731.00000</td>\n",
       "      <td>7.60390</td>\n",
       "      <td>11.29888</td>\n",
       "      <td>0.00000</td>\n",
       "      <td>0.00000</td>\n",
       "      <td>0.00000</td>\n",
       "      <td>0.00000</td>\n",
       "      <td>0.00000</td>\n",
       "      <td>...</td>\n",
       "      <td>0.00000</td>\n",
       "      <td>0.00000</td>\n",
       "      <td>0.00000</td>\n",
       "      <td>0.00000</td>\n",
       "      <td>0.00000</td>\n",
       "      <td>0.00000</td>\n",
       "      <td>0.00000</td>\n",
       "      <td>0.00000</td>\n",
       "      <td>1.00000</td>\n",
       "      <td>0.00000</td>\n",
       "    </tr>\n",
       "  </tbody>\n",
       "</table>\n",
       "<p>11 rows × 36 columns</p>\n",
       "</div>"
      ],
      "text/plain": [
       "          year  duration  rating_count  log_year  log_rating_count  \\\n",
       "0  2,001.00000 103.00000  37,740.00000   7.60140          10.53848   \n",
       "1  1,982.00000  88.00000  18,440.00000   7.59186           9.82228   \n",
       "2  1,973.00000  89.00000  39,747.00000   7.58731          10.59029   \n",
       "3  2,007.00000 108.00000  49,986.00000   7.60440          10.81950   \n",
       "4  1,979.00000  96.00000 131,301.00000   7.59035          11.78525   \n",
       "5  2,014.00000  97.00000  64,032.00000   7.60788          11.06714   \n",
       "6  2,002.00000 112.00000  25,820.00000   7.60190          10.15890   \n",
       "7  1,969.00000  85.00000  28,204.00000   7.58528          10.24722   \n",
       "8  2,016.00000  96.00000  71,114.00000   7.60887          11.17204   \n",
       "9  1,989.00000 104.00000  54,605.00000   7.59539          10.90788   \n",
       "10 2,006.00000  96.00000  80,731.00000   7.60390          11.29888   \n",
       "\n",
       "    cinematographer_Carlo Di Palma  cinematographer_Darius Khondji  \\\n",
       "0                          0.00000                         0.00000   \n",
       "1                          0.00000                         0.00000   \n",
       "2                          0.00000                         0.00000   \n",
       "3                          0.00000                         0.00000   \n",
       "4                          0.00000                         0.00000   \n",
       "5                          0.00000                         1.00000   \n",
       "6                          0.00000                         0.00000   \n",
       "7                          0.00000                         0.00000   \n",
       "8                          0.00000                         0.00000   \n",
       "9                          0.00000                         0.00000   \n",
       "10                         0.00000                         0.00000   \n",
       "\n",
       "    cinematographer_David M. Walsh  cinematographer_Fei Zhao  \\\n",
       "0                          0.00000                   1.00000   \n",
       "1                          0.00000                   0.00000   \n",
       "2                          1.00000                   0.00000   \n",
       "3                          0.00000                   0.00000   \n",
       "4                          0.00000                   0.00000   \n",
       "5                          0.00000                   0.00000   \n",
       "6                          0.00000                   0.00000   \n",
       "7                          0.00000                   0.00000   \n",
       "8                          0.00000                   0.00000   \n",
       "9                          0.00000                   0.00000   \n",
       "10                         0.00000                   0.00000   \n",
       "\n",
       "    cinematographer_Gordon Willis  ...  John Doumanian  Tony Roberts  \\\n",
       "0                         0.00000  ...         1.00000       0.00000   \n",
       "1                         1.00000  ...         0.00000       1.00000   \n",
       "2                         0.00000  ...         0.00000       0.00000   \n",
       "3                         0.00000  ...         0.00000       0.00000   \n",
       "4                         1.00000  ...         0.00000       0.00000   \n",
       "5                         0.00000  ...         0.00000       0.00000   \n",
       "6                         0.00000  ...         0.00000       0.00000   \n",
       "7                         0.00000  ...         0.00000       0.00000   \n",
       "8                         0.00000  ...         0.00000       0.00000   \n",
       "9                         0.00000  ...         0.00000       0.00000   \n",
       "10                        0.00000  ...         0.00000       0.00000   \n",
       "\n",
       "    Alan Alda  Paul Herman  Ira Wheeler  Dianne Wiest  Louise Lasser  \\\n",
       "0     0.00000      0.00000      0.00000       0.00000        0.00000   \n",
       "1     0.00000      0.00000      0.00000       0.00000        0.00000   \n",
       "2     0.00000      0.00000      0.00000       0.00000        0.00000   \n",
       "3     0.00000      0.00000      0.00000       0.00000        0.00000   \n",
       "4     0.00000      0.00000      0.00000       0.00000        0.00000   \n",
       "5     0.00000      0.00000      0.00000       0.00000        0.00000   \n",
       "6     0.00000      0.00000      0.00000       0.00000        0.00000   \n",
       "7     0.00000      0.00000      0.00000       0.00000        0.00000   \n",
       "8     0.00000      0.00000      0.00000       0.00000        0.00000   \n",
       "9     1.00000      0.00000      0.00000       0.00000        0.00000   \n",
       "10    0.00000      0.00000      0.00000       0.00000        0.00000   \n",
       "\n",
       "    Douglas McGrath  Scarlett Johansson  Sam Waterston  \n",
       "0           0.00000             0.00000        0.00000  \n",
       "1           0.00000             0.00000        0.00000  \n",
       "2           0.00000             0.00000        0.00000  \n",
       "3           0.00000             0.00000        0.00000  \n",
       "4           0.00000             0.00000        0.00000  \n",
       "5           0.00000             0.00000        0.00000  \n",
       "6           1.00000             0.00000        0.00000  \n",
       "7           0.00000             0.00000        0.00000  \n",
       "8           0.00000             0.00000        0.00000  \n",
       "9           0.00000             0.00000        1.00000  \n",
       "10          0.00000             1.00000        0.00000  \n",
       "\n",
       "[11 rows x 36 columns]"
      ]
     },
     "execution_count": 38,
     "metadata": {},
     "output_type": "execute_result"
    }
   ],
   "source": [
    "X_test_combo"
   ]
  },
  {
   "cell_type": "code",
   "execution_count": 39,
   "metadata": {},
   "outputs": [
    {
     "data": {
      "text/plain": [
       "Index(['year', 'duration', 'rating_count', 'log_year', 'log_rating_count',\n",
       "       'cinematographer_Carlo Di Palma', 'cinematographer_Darius Khondji',\n",
       "       'cinematographer_David M. Walsh', 'cinematographer_Fei Zhao',\n",
       "       'cinematographer_Gordon Willis', 'cinematographer_Javier Aguirresarobe',\n",
       "       'cinematographer_OTHER', 'cinematographer_Remi Adefarasin',\n",
       "       'cinematographer_Sven Nykvist', 'cinematographer_Vilmos Zsigmond',\n",
       "       'cinematographer_Vittorio Storaro', 'documentary', 'tv_series',\n",
       "       'Woody Allen', 'Mia Farrow', 'Diane Keaton', 'Maurice Sonnenberg',\n",
       "       'Wallace Shawn', 'Stephanie Roth Haberle', 'Dan Frazer', 'Julie Kavner',\n",
       "       'John Doumanian', 'Tony Roberts', 'Alan Alda', 'Paul Herman',\n",
       "       'Ira Wheeler', 'Dianne Wiest', 'Louise Lasser', 'Douglas McGrath',\n",
       "       'Scarlett Johansson', 'Sam Waterston'],\n",
       "      dtype='object')"
      ]
     },
     "execution_count": 39,
     "metadata": {},
     "output_type": "execute_result"
    }
   ],
   "source": [
    "selected_columns = X_train_val_combo.columns\n",
    "X_train_val_combo.columns"
   ]
  },
  {
   "cell_type": "raw",
   "metadata": {},
   "source": [
    "poly = PolynomialFeatures(degree=2)\n",
    "X_train_val_combo_poly = poly.fit_transform(X_train_val_combo)\n",
    "X_test_combo_poly = poly.transform(X_test_combo)"
   ]
  },
  {
   "cell_type": "markdown",
   "metadata": {},
   "source": [
    "### Train vs. val split"
   ]
  },
  {
   "cell_type": "code",
   "execution_count": 40,
   "metadata": {},
   "outputs": [],
   "source": [
    "X_train, X_val, y_train, y_val = train_test_split(X_train_val_combo, y_train_val, test_size=.25, random_state=43)"
   ]
  },
  {
   "cell_type": "markdown",
   "metadata": {},
   "source": []
  },
  {
   "cell_type": "code",
   "execution_count": 41,
   "metadata": {},
   "outputs": [],
   "source": [
    "#Mean Absolute Error (MAE)\n",
    "def mae(y_true, y_pred):\n",
    "    return np.mean(np.abs(y_pred - y_true)) \n",
    "\n",
    "#mae(y_test, test_set_pred)"
   ]
  },
  {
   "cell_type": "markdown",
   "metadata": {},
   "source": [
    "## B. Lasso CV regression on all features\n"
   ]
  },
  {
   "cell_type": "markdown",
   "metadata": {},
   "source": [
    "### Lasso CV"
   ]
  },
  {
   "cell_type": "code",
   "execution_count": 42,
   "metadata": {},
   "outputs": [
    {
     "data": {
      "text/plain": [
       "array([[2.01100e+03, 9.40000e+01, 3.87522e+05, ..., 0.00000e+00,\n",
       "        0.00000e+00, 0.00000e+00],\n",
       "       [1.99400e+03, 1.00000e+02, 3.17800e+03, ..., 0.00000e+00,\n",
       "        0.00000e+00, 0.00000e+00],\n",
       "       [2.01300e+03, 9.80000e+01, 1.91782e+05, ..., 0.00000e+00,\n",
       "        0.00000e+00, 0.00000e+00],\n",
       "       ...,\n",
       "       [2.00500e+03, 1.24000e+02, 2.06093e+05, ..., 0.00000e+00,\n",
       "        1.00000e+00, 0.00000e+00],\n",
       "       [1.99300e+03, 1.04000e+02, 3.99440e+04, ..., 0.00000e+00,\n",
       "        0.00000e+00, 0.00000e+00],\n",
       "       [1.98500e+03, 8.20000e+01, 4.70420e+04, ..., 0.00000e+00,\n",
       "        0.00000e+00, 0.00000e+00]])"
      ]
     },
     "execution_count": 42,
     "metadata": {},
     "output_type": "execute_result"
    }
   ],
   "source": [
    "X_train_val_combo.values"
   ]
  },
  {
   "cell_type": "code",
   "execution_count": null,
   "metadata": {},
   "outputs": [],
   "source": []
  },
  {
   "cell_type": "code",
   "execution_count": 43,
   "metadata": {},
   "outputs": [
    {
     "data": {
      "text/plain": [
       "StandardScaler()"
      ]
     },
     "execution_count": 43,
     "metadata": {},
     "output_type": "execute_result"
    }
   ],
   "source": [
    "## Scale the data as before\n",
    "std = StandardScaler()\n",
    "std.fit(X_train_val_combo.values)"
   ]
  },
  {
   "cell_type": "code",
   "execution_count": null,
   "metadata": {},
   "outputs": [],
   "source": []
  },
  {
   "cell_type": "code",
   "execution_count": null,
   "metadata": {},
   "outputs": [],
   "source": []
  },
  {
   "cell_type": "code",
   "execution_count": 44,
   "metadata": {},
   "outputs": [],
   "source": [
    "## Scale the Predictors on both the train and test set\n",
    "X_tr = std.transform(X_train_val_combo.values)\n",
    "X_te = std.transform(X_test_combo.values)"
   ]
  },
  {
   "cell_type": "code",
   "execution_count": 45,
   "metadata": {},
   "outputs": [
    {
     "data": {
      "text/plain": [
       "LassoCV(alphas=array([1.00000000e-02, 1.04737090e-02, 1.09698580e-02, 1.14895100e-02,\n",
       "       1.20337784e-02, 1.26038293e-02, 1.32008840e-02, 1.38262217e-02,\n",
       "       1.44811823e-02, 1.51671689e-02, 1.58856513e-02, 1.66381689e-02,\n",
       "       1.74263339e-02, 1.82518349e-02, 1.91164408e-02, 2.00220037e-02,\n",
       "       2.09704640e-02, 2.19638537e-02, 2.30043012e-02, 2.40940356e-02,\n",
       "       2.52353917e-02, 2.64308149e-0...\n",
       "       3.44896226e+01, 3.61234270e+01, 3.78346262e+01, 3.96268864e+01,\n",
       "       4.15040476e+01, 4.34701316e+01, 4.55293507e+01, 4.76861170e+01,\n",
       "       4.99450512e+01, 5.23109931e+01, 5.47890118e+01, 5.73844165e+01,\n",
       "       6.01027678e+01, 6.29498899e+01, 6.59318827e+01, 6.90551352e+01,\n",
       "       7.23263390e+01, 7.57525026e+01, 7.93409667e+01, 8.30994195e+01,\n",
       "       8.70359136e+01, 9.11588830e+01, 9.54771611e+01, 1.00000000e+02]),\n",
       "        cv=5)"
      ]
     },
     "execution_count": 45,
     "metadata": {},
     "output_type": "execute_result"
    }
   ],
   "source": [
    "# Run the cross validation, find the best alpha, refit the model on all the data with that alpha\n",
    "\n",
    "alphavec = 10**np.linspace(-2,2,200)\n",
    "\n",
    "lasso_model = LassoCV(alphas = alphavec, cv=5)\n",
    "lasso_model.fit(X_tr, y_train_val)"
   ]
  },
  {
   "cell_type": "code",
   "execution_count": 46,
   "metadata": {},
   "outputs": [
    {
     "data": {
      "text/plain": [
       "0.09221978823334327"
      ]
     },
     "execution_count": 46,
     "metadata": {},
     "output_type": "execute_result"
    }
   ],
   "source": [
    "# This is the best alpha value it found \n",
    "lasso_model.alpha_"
   ]
  },
  {
   "cell_type": "code",
   "execution_count": 47,
   "metadata": {},
   "outputs": [
    {
     "data": {
      "text/plain": [
       "36"
      ]
     },
     "execution_count": 47,
     "metadata": {},
     "output_type": "execute_result"
    }
   ],
   "source": [
    "len(lasso_model.coef_)"
   ]
  },
  {
   "cell_type": "code",
   "execution_count": 48,
   "metadata": {},
   "outputs": [
    {
     "data": {
      "text/plain": [
       "[('year', -0.03773238883238906),\n",
       " ('duration', -0.0),\n",
       " ('rating_count', 0.00355332771450401),\n",
       " ('log_year', -0.0),\n",
       " ('log_rating_count', 0.2251617335687818),\n",
       " ('cinematographer_Carlo Di Palma', 0.020532767962221983),\n",
       " ('cinematographer_Darius Khondji', -0.007405055278465474),\n",
       " ('cinematographer_David M. Walsh', -0.0),\n",
       " ('cinematographer_Fei Zhao', 0.0),\n",
       " ('cinematographer_Gordon Willis', 0.11545285751710795),\n",
       " ('cinematographer_Javier Aguirresarobe', 0.0),\n",
       " ('cinematographer_OTHER', -0.0),\n",
       " ('cinematographer_Remi Adefarasin', 0.0),\n",
       " ('cinematographer_Sven Nykvist', -0.0),\n",
       " ('cinematographer_Vilmos Zsigmond', -0.026680464205754328),\n",
       " ('cinematographer_Vittorio Storaro', -0.0),\n",
       " ('documentary', -0.0),\n",
       " ('tv_series', -0.0),\n",
       " ('Woody Allen', 0.0),\n",
       " ('Mia Farrow', 0.017341185036757023),\n",
       " ('Diane Keaton', 0.039367987597113976),\n",
       " ('Maurice Sonnenberg', -0.0),\n",
       " ('Wallace Shawn', 0.0),\n",
       " ('Stephanie Roth Haberle', 0.0),\n",
       " ('Dan Frazer', 0.0),\n",
       " ('Julie Kavner', 0.0),\n",
       " ('John Doumanian', 0.0),\n",
       " ('Tony Roberts', 0.0),\n",
       " ('Alan Alda', -0.0),\n",
       " ('Paul Herman', 0.0),\n",
       " ('Ira Wheeler', -0.0),\n",
       " ('Dianne Wiest', 0.0),\n",
       " ('Louise Lasser', -0.0003239581673479818),\n",
       " ('Douglas McGrath', -0.0),\n",
       " ('Scarlett Johansson', 0.0),\n",
       " ('Sam Waterston', -0.0)]"
      ]
     },
     "execution_count": 48,
     "metadata": {},
     "output_type": "execute_result"
    }
   ],
   "source": [
    "# These are the (standardized) coefficients found\n",
    "# when it refit using that best alpha\n",
    "coefficients = list(zip(X_train.columns, lasso_model.coef_))\n",
    "coefficients"
   ]
  },
  {
   "cell_type": "code",
   "execution_count": 49,
   "metadata": {},
   "outputs": [],
   "source": [
    "# Make predictions on the test set using the new model\n",
    "test_set_pred = lasso_model.predict(X_te)"
   ]
  },
  {
   "cell_type": "code",
   "execution_count": 50,
   "metadata": {},
   "outputs": [
    {
     "data": {
      "text/plain": [
       "0.360647396047078"
      ]
     },
     "execution_count": 50,
     "metadata": {},
     "output_type": "execute_result"
    }
   ],
   "source": [
    "# Find the MAE and R^2 on the test set using this model\n",
    "mean_absolute_error = mae(y_test, test_set_pred)\n",
    "mean_absolute_error"
   ]
  },
  {
   "cell_type": "code",
   "execution_count": 51,
   "metadata": {},
   "outputs": [
    {
     "data": {
      "text/plain": [
       "0.2947382400703549"
      ]
     },
     "execution_count": 51,
     "metadata": {},
     "output_type": "execute_result"
    }
   ],
   "source": [
    "r2_score_ = r2_score(y_test, test_set_pred)\n",
    "r2_score_ "
   ]
  },
  {
   "cell_type": "code",
   "execution_count": 52,
   "metadata": {},
   "outputs": [
    {
     "data": {
      "text/plain": [
       "[<matplotlib.lines.Line2D at 0x7ff6c8cc6ac0>]"
      ]
     },
     "execution_count": 52,
     "metadata": {},
     "output_type": "execute_result"
    },
    {
     "data": {
      "image/png": "[encoded data removed]",
      "text/plain": [
       "<Figure size 432x288 with 1 Axes>"
      ]
     },
     "metadata": {
      "needs_background": "light"
     },
     "output_type": "display_data"
    }
   ],
   "source": [
    "plt.scatter( test_set_pred, y_test)\n",
    "plt.plot( y_test, y_test, c='k')"
   ]
  },
  {
   "cell_type": "code",
   "execution_count": 53,
   "metadata": {},
   "outputs": [
    {
     "data": {
      "text/plain": [
       "<matplotlib.collections.PathCollection at 0x7ff6a8fdd9d0>"
      ]
     },
     "execution_count": 53,
     "metadata": {},
     "output_type": "execute_result"
    },
    {
     "data": {
      "image/png": "[encoded data removed]",
      "text/plain": [
       "<Figure size 432x288 with 1 Axes>"
      ]
     },
     "metadata": {
      "needs_background": "light"
     },
     "output_type": "display_data"
    }
   ],
   "source": [
    "residual = y_test-test_set_pred\n",
    "plt.scatter( test_set_pred, residual)"
   ]
  },
  {
   "cell_type": "code",
   "execution_count": 54,
   "metadata": {},
   "outputs": [
    {
     "data": {
      "text/html": [
       "<div>\n",
       "<style scoped>\n",
       "    .dataframe tbody tr th:only-of-type {\n",
       "        vertical-align: middle;\n",
       "    }\n",
       "\n",
       "    .dataframe tbody tr th {\n",
       "        vertical-align: top;\n",
       "    }\n",
       "\n",
       "    .dataframe thead th {\n",
       "        text-align: right;\n",
       "    }\n",
       "</style>\n",
       "<table border=\"1\" class=\"dataframe\">\n",
       "  <thead>\n",
       "    <tr style=\"text-align: right;\">\n",
       "      <th></th>\n",
       "      <th>Feature</th>\n",
       "      <th>Coefficient</th>\n",
       "    </tr>\n",
       "  </thead>\n",
       "  <tbody>\n",
       "    <tr>\n",
       "      <th>4</th>\n",
       "      <td>log_rating_count</td>\n",
       "      <td>0.22516</td>\n",
       "    </tr>\n",
       "    <tr>\n",
       "      <th>9</th>\n",
       "      <td>cinematographer_Gordon Willis</td>\n",
       "      <td>0.11545</td>\n",
       "    </tr>\n",
       "    <tr>\n",
       "      <th>20</th>\n",
       "      <td>Diane Keaton</td>\n",
       "      <td>0.03937</td>\n",
       "    </tr>\n",
       "    <tr>\n",
       "      <th>0</th>\n",
       "      <td>year</td>\n",
       "      <td>-0.03773</td>\n",
       "    </tr>\n",
       "    <tr>\n",
       "      <th>14</th>\n",
       "      <td>cinematographer_Vilmos Zsigmond</td>\n",
       "      <td>-0.02668</td>\n",
       "    </tr>\n",
       "    <tr>\n",
       "      <th>5</th>\n",
       "      <td>cinematographer_Carlo Di Palma</td>\n",
       "      <td>0.02053</td>\n",
       "    </tr>\n",
       "    <tr>\n",
       "      <th>19</th>\n",
       "      <td>Mia Farrow</td>\n",
       "      <td>0.01734</td>\n",
       "    </tr>\n",
       "    <tr>\n",
       "      <th>6</th>\n",
       "      <td>cinematographer_Darius Khondji</td>\n",
       "      <td>-0.00741</td>\n",
       "    </tr>\n",
       "    <tr>\n",
       "      <th>2</th>\n",
       "      <td>rating_count</td>\n",
       "      <td>0.00355</td>\n",
       "    </tr>\n",
       "    <tr>\n",
       "      <th>32</th>\n",
       "      <td>Louise Lasser</td>\n",
       "      <td>-0.00032</td>\n",
       "    </tr>\n",
       "    <tr>\n",
       "      <th>24</th>\n",
       "      <td>Dan Frazer</td>\n",
       "      <td>0.00000</td>\n",
       "    </tr>\n",
       "    <tr>\n",
       "      <th>25</th>\n",
       "      <td>Julie Kavner</td>\n",
       "      <td>0.00000</td>\n",
       "    </tr>\n",
       "    <tr>\n",
       "      <th>26</th>\n",
       "      <td>John Doumanian</td>\n",
       "      <td>0.00000</td>\n",
       "    </tr>\n",
       "    <tr>\n",
       "      <th>27</th>\n",
       "      <td>Tony Roberts</td>\n",
       "      <td>0.00000</td>\n",
       "    </tr>\n",
       "    <tr>\n",
       "      <th>30</th>\n",
       "      <td>Ira Wheeler</td>\n",
       "      <td>-0.00000</td>\n",
       "    </tr>\n",
       "    <tr>\n",
       "      <th>28</th>\n",
       "      <td>Alan Alda</td>\n",
       "      <td>-0.00000</td>\n",
       "    </tr>\n",
       "    <tr>\n",
       "      <th>29</th>\n",
       "      <td>Paul Herman</td>\n",
       "      <td>0.00000</td>\n",
       "    </tr>\n",
       "    <tr>\n",
       "      <th>22</th>\n",
       "      <td>Wallace Shawn</td>\n",
       "      <td>0.00000</td>\n",
       "    </tr>\n",
       "    <tr>\n",
       "      <th>31</th>\n",
       "      <td>Dianne Wiest</td>\n",
       "      <td>0.00000</td>\n",
       "    </tr>\n",
       "    <tr>\n",
       "      <th>33</th>\n",
       "      <td>Douglas McGrath</td>\n",
       "      <td>-0.00000</td>\n",
       "    </tr>\n",
       "  </tbody>\n",
       "</table>\n",
       "</div>"
      ],
      "text/plain": [
       "                            Feature  Coefficient\n",
       "4                  log_rating_count      0.22516\n",
       "9     cinematographer_Gordon Willis      0.11545\n",
       "20                     Diane Keaton      0.03937\n",
       "0                              year     -0.03773\n",
       "14  cinematographer_Vilmos Zsigmond     -0.02668\n",
       "5    cinematographer_Carlo Di Palma      0.02053\n",
       "19                       Mia Farrow      0.01734\n",
       "6    cinematographer_Darius Khondji     -0.00741\n",
       "2                      rating_count      0.00355\n",
       "32                    Louise Lasser     -0.00032\n",
       "24                       Dan Frazer      0.00000\n",
       "25                     Julie Kavner      0.00000\n",
       "26                   John Doumanian      0.00000\n",
       "27                     Tony Roberts      0.00000\n",
       "30                      Ira Wheeler     -0.00000\n",
       "28                        Alan Alda     -0.00000\n",
       "29                      Paul Herman      0.00000\n",
       "22                    Wallace Shawn      0.00000\n",
       "31                     Dianne Wiest      0.00000\n",
       "33                  Douglas McGrath     -0.00000"
      ]
     },
     "execution_count": 54,
     "metadata": {},
     "output_type": "execute_result"
    }
   ],
   "source": [
    "coefficients_df  = pd.DataFrame(coefficients, columns=['Feature', 'Coefficient'])\n",
    "\n",
    "coefficients_df['abs_val_of_coefficient'] = coefficients_df.Coefficient.abs()\n",
    "coefficients_df.sort_values(by='abs_val_of_coefficient', ascending=False, inplace=True)\n",
    "\n",
    "coefficients_df.drop(columns='abs_val_of_coefficient', inplace=True)\n",
    "coefficients_df.head(20)"
   ]
  },
  {
   "cell_type": "code",
   "execution_count": 55,
   "metadata": {},
   "outputs": [
    {
     "data": {
      "text/plain": [
       "{'r2_score': <function sklearn.metrics._regression.r2_score(y_true, y_pred, *, sample_weight=None, multioutput='uniform_average')>,\n",
       " 'mean absolute error': 0.360647396047078,\n",
       " 'coefficients':                                  Feature  Coefficient\n",
       " 4                       log_rating_count      0.22516\n",
       " 9          cinematographer_Gordon Willis      0.11545\n",
       " 20                          Diane Keaton      0.03937\n",
       " 0                                   year     -0.03773\n",
       " 14       cinematographer_Vilmos Zsigmond     -0.02668\n",
       " 5         cinematographer_Carlo Di Palma      0.02053\n",
       " 19                            Mia Farrow      0.01734\n",
       " 6         cinematographer_Darius Khondji     -0.00741\n",
       " 2                           rating_count      0.00355\n",
       " 32                         Louise Lasser     -0.00032\n",
       " 24                            Dan Frazer      0.00000\n",
       " 25                          Julie Kavner      0.00000\n",
       " 26                        John Doumanian      0.00000\n",
       " 27                          Tony Roberts      0.00000\n",
       " 30                           Ira Wheeler     -0.00000\n",
       " 28                             Alan Alda     -0.00000\n",
       " 29                           Paul Herman      0.00000\n",
       " 22                         Wallace Shawn      0.00000\n",
       " 31                          Dianne Wiest      0.00000\n",
       " 33                       Douglas McGrath     -0.00000\n",
       " 34                    Scarlett Johansson      0.00000\n",
       " 23                Stephanie Roth Haberle      0.00000\n",
       " 18                           Woody Allen      0.00000\n",
       " 21                    Maurice Sonnenberg     -0.00000\n",
       " 1                               duration     -0.00000\n",
       " 17                             tv_series     -0.00000\n",
       " 16                           documentary     -0.00000\n",
       " 15      cinematographer_Vittorio Storaro     -0.00000\n",
       " 13          cinematographer_Sven Nykvist     -0.00000\n",
       " 12       cinematographer_Remi Adefarasin      0.00000\n",
       " 11                 cinematographer_OTHER     -0.00000\n",
       " 10  cinematographer_Javier Aguirresarobe      0.00000\n",
       " 8               cinematographer_Fei Zhao      0.00000\n",
       " 7         cinematographer_David M. Walsh     -0.00000\n",
       " 3                               log_year     -0.00000\n",
       " 35                         Sam Waterston     -0.00000}"
      ]
     },
     "execution_count": 55,
     "metadata": {},
     "output_type": "execute_result"
    }
   ],
   "source": [
    "Lasso_CV_model_w_rc = {\"r2_score\": r2_score, 'mean absolute error': mean_absolute_error, 'coefficients': coefficients_df}\n",
    "Lasso_CV_model_w_rc "
   ]
  },
  {
   "cell_type": "code",
   "execution_count": 56,
   "metadata": {},
   "outputs": [],
   "source": [
    "LCVM_w_rc_filename = 'Lasso_CV_model_w_rc_' + director +'.pickle'\n",
    "with open(dir_str + LCVM_w_rc_filename, 'wb') as to_write:\n",
    "    pickle.dump(Lasso_CV_model_w_rc, to_write)"
   ]
  },
  {
   "cell_type": "code",
   "execution_count": null,
   "metadata": {},
   "outputs": [],
   "source": []
  },
  {
   "cell_type": "markdown",
   "metadata": {},
   "source": [
    "# C. Lasso and Ridge regression on all features except `rating count`\n",
    "\n"
   ]
  },
  {
   "cell_type": "markdown",
   "metadata": {},
   "source": [
    "### Rerun the model without using rating count"
   ]
  },
  {
   "cell_type": "code",
   "execution_count": 57,
   "metadata": {},
   "outputs": [
    {
     "data": {
      "text/html": [
       "<div>\n",
       "<style scoped>\n",
       "    .dataframe tbody tr th:only-of-type {\n",
       "        vertical-align: middle;\n",
       "    }\n",
       "\n",
       "    .dataframe tbody tr th {\n",
       "        vertical-align: top;\n",
       "    }\n",
       "\n",
       "    .dataframe thead th {\n",
       "        text-align: right;\n",
       "    }\n",
       "</style>\n",
       "<table border=\"1\" class=\"dataframe\">\n",
       "  <thead>\n",
       "    <tr style=\"text-align: right;\">\n",
       "      <th></th>\n",
       "      <th>year</th>\n",
       "      <th>duration</th>\n",
       "      <th>rating_count</th>\n",
       "      <th>log_year</th>\n",
       "      <th>log_rating_count</th>\n",
       "      <th>cinematographer_Carlo Di Palma</th>\n",
       "      <th>cinematographer_Darius Khondji</th>\n",
       "      <th>cinematographer_David M. Walsh</th>\n",
       "      <th>cinematographer_Fei Zhao</th>\n",
       "      <th>cinematographer_Gordon Willis</th>\n",
       "      <th>...</th>\n",
       "      <th>John Doumanian</th>\n",
       "      <th>Tony Roberts</th>\n",
       "      <th>Alan Alda</th>\n",
       "      <th>Paul Herman</th>\n",
       "      <th>Ira Wheeler</th>\n",
       "      <th>Dianne Wiest</th>\n",
       "      <th>Louise Lasser</th>\n",
       "      <th>Douglas McGrath</th>\n",
       "      <th>Scarlett Johansson</th>\n",
       "      <th>Sam Waterston</th>\n",
       "    </tr>\n",
       "  </thead>\n",
       "  <tbody>\n",
       "    <tr>\n",
       "      <th>0</th>\n",
       "      <td>1.16335</td>\n",
       "      <td>-0.20590</td>\n",
       "      <td>4.14570</td>\n",
       "      <td>1.16194</td>\n",
       "      <td>2.02484</td>\n",
       "      <td>-0.64327</td>\n",
       "      <td>3.04138</td>\n",
       "      <td>-0.15811</td>\n",
       "      <td>-0.22646</td>\n",
       "      <td>-0.41404</td>\n",
       "      <td>...</td>\n",
       "      <td>-0.28098</td>\n",
       "      <td>-0.22646</td>\n",
       "      <td>-0.22646</td>\n",
       "      <td>-0.28098</td>\n",
       "      <td>-0.28098</td>\n",
       "      <td>-0.28098</td>\n",
       "      <td>-0.28098</td>\n",
       "      <td>-0.22646</td>\n",
       "      <td>-0.22646</td>\n",
       "      <td>-0.22646</td>\n",
       "    </tr>\n",
       "    <tr>\n",
       "      <th>1</th>\n",
       "      <td>-0.07083</td>\n",
       "      <td>-0.02238</td>\n",
       "      <td>-0.69912</td>\n",
       "      <td>-0.06738</td>\n",
       "      <td>-1.80093</td>\n",
       "      <td>1.55456</td>\n",
       "      <td>-0.32880</td>\n",
       "      <td>-0.15811</td>\n",
       "      <td>-0.22646</td>\n",
       "      <td>-0.41404</td>\n",
       "      <td>...</td>\n",
       "      <td>-0.28098</td>\n",
       "      <td>-0.22646</td>\n",
       "      <td>-0.22646</td>\n",
       "      <td>-0.28098</td>\n",
       "      <td>-0.28098</td>\n",
       "      <td>-0.28098</td>\n",
       "      <td>-0.28098</td>\n",
       "      <td>-0.22646</td>\n",
       "      <td>-0.22646</td>\n",
       "      <td>-0.22646</td>\n",
       "    </tr>\n",
       "    <tr>\n",
       "      <th>2</th>\n",
       "      <td>1.30855</td>\n",
       "      <td>-0.08355</td>\n",
       "      <td>1.67832</td>\n",
       "      <td>1.30588</td>\n",
       "      <td>1.46460</td>\n",
       "      <td>-0.64327</td>\n",
       "      <td>-0.32880</td>\n",
       "      <td>-0.15811</td>\n",
       "      <td>-0.22646</td>\n",
       "      <td>-0.41404</td>\n",
       "      <td>...</td>\n",
       "      <td>-0.28098</td>\n",
       "      <td>-0.22646</td>\n",
       "      <td>-0.22646</td>\n",
       "      <td>-0.28098</td>\n",
       "      <td>-0.28098</td>\n",
       "      <td>-0.28098</td>\n",
       "      <td>-0.28098</td>\n",
       "      <td>-0.22646</td>\n",
       "      <td>-0.22646</td>\n",
       "      <td>-0.22646</td>\n",
       "    </tr>\n",
       "    <tr>\n",
       "      <th>3</th>\n",
       "      <td>-0.50642</td>\n",
       "      <td>-0.60352</td>\n",
       "      <td>-0.57659</td>\n",
       "      <td>-0.50376</td>\n",
       "      <td>-0.68525</td>\n",
       "      <td>-0.64327</td>\n",
       "      <td>-0.32880</td>\n",
       "      <td>-0.15811</td>\n",
       "      <td>-0.22646</td>\n",
       "      <td>-0.41404</td>\n",
       "      <td>...</td>\n",
       "      <td>-0.28098</td>\n",
       "      <td>-0.22646</td>\n",
       "      <td>-0.22646</td>\n",
       "      <td>-0.28098</td>\n",
       "      <td>-0.28098</td>\n",
       "      <td>-0.28098</td>\n",
       "      <td>-0.28098</td>\n",
       "      <td>-0.22646</td>\n",
       "      <td>-0.22646</td>\n",
       "      <td>-0.22646</td>\n",
       "    </tr>\n",
       "    <tr>\n",
       "      <th>4</th>\n",
       "      <td>1.45375</td>\n",
       "      <td>-0.17531</td>\n",
       "      <td>0.00081</td>\n",
       "      <td>1.44968</td>\n",
       "      <td>0.52172</td>\n",
       "      <td>-0.64327</td>\n",
       "      <td>3.04138</td>\n",
       "      <td>-0.15811</td>\n",
       "      <td>-0.22646</td>\n",
       "      <td>-0.41404</td>\n",
       "      <td>...</td>\n",
       "      <td>-0.28098</td>\n",
       "      <td>-0.22646</td>\n",
       "      <td>-0.22646</td>\n",
       "      <td>-0.28098</td>\n",
       "      <td>-0.28098</td>\n",
       "      <td>-0.28098</td>\n",
       "      <td>-0.28098</td>\n",
       "      <td>-0.22646</td>\n",
       "      <td>-0.22646</td>\n",
       "      <td>-0.22646</td>\n",
       "    </tr>\n",
       "  </tbody>\n",
       "</table>\n",
       "<p>5 rows × 36 columns</p>\n",
       "</div>"
      ],
      "text/plain": [
       "      year  duration  rating_count  log_year  log_rating_count  \\\n",
       "0  1.16335  -0.20590       4.14570   1.16194           2.02484   \n",
       "1 -0.07083  -0.02238      -0.69912  -0.06738          -1.80093   \n",
       "2  1.30855  -0.08355       1.67832   1.30588           1.46460   \n",
       "3 -0.50642  -0.60352      -0.57659  -0.50376          -0.68525   \n",
       "4  1.45375  -0.17531       0.00081   1.44968           0.52172   \n",
       "\n",
       "   cinematographer_Carlo Di Palma  cinematographer_Darius Khondji  \\\n",
       "0                        -0.64327                         3.04138   \n",
       "1                         1.55456                        -0.32880   \n",
       "2                        -0.64327                        -0.32880   \n",
       "3                        -0.64327                        -0.32880   \n",
       "4                        -0.64327                         3.04138   \n",
       "\n",
       "   cinematographer_David M. Walsh  cinematographer_Fei Zhao  \\\n",
       "0                        -0.15811                  -0.22646   \n",
       "1                        -0.15811                  -0.22646   \n",
       "2                        -0.15811                  -0.22646   \n",
       "3                        -0.15811                  -0.22646   \n",
       "4                        -0.15811                  -0.22646   \n",
       "\n",
       "   cinematographer_Gordon Willis  ...  John Doumanian  Tony Roberts  \\\n",
       "0                       -0.41404  ...        -0.28098      -0.22646   \n",
       "1                       -0.41404  ...        -0.28098      -0.22646   \n",
       "2                       -0.41404  ...        -0.28098      -0.22646   \n",
       "3                       -0.41404  ...        -0.28098      -0.22646   \n",
       "4                       -0.41404  ...        -0.28098      -0.22646   \n",
       "\n",
       "   Alan Alda  Paul Herman  Ira Wheeler  Dianne Wiest  Louise Lasser  \\\n",
       "0   -0.22646     -0.28098     -0.28098      -0.28098       -0.28098   \n",
       "1   -0.22646     -0.28098     -0.28098      -0.28098       -0.28098   \n",
       "2   -0.22646     -0.28098     -0.28098      -0.28098       -0.28098   \n",
       "3   -0.22646     -0.28098     -0.28098      -0.28098       -0.28098   \n",
       "4   -0.22646     -0.28098     -0.28098      -0.28098       -0.28098   \n",
       "\n",
       "   Douglas McGrath  Scarlett Johansson  Sam Waterston  \n",
       "0         -0.22646            -0.22646       -0.22646  \n",
       "1         -0.22646            -0.22646       -0.22646  \n",
       "2         -0.22646            -0.22646       -0.22646  \n",
       "3         -0.22646            -0.22646       -0.22646  \n",
       "4         -0.22646            -0.22646       -0.22646  \n",
       "\n",
       "[5 rows x 36 columns]"
      ]
     },
     "execution_count": 57,
     "metadata": {},
     "output_type": "execute_result"
    }
   ],
   "source": [
    "X_tr = pd.DataFrame(X_tr, columns=X_train.columns )\n",
    "X_tr.head()"
   ]
  },
  {
   "cell_type": "code",
   "execution_count": 58,
   "metadata": {},
   "outputs": [],
   "source": [
    "X_te = pd.DataFrame(X_te, columns=X_train.columns )"
   ]
  },
  {
   "cell_type": "code",
   "execution_count": 59,
   "metadata": {},
   "outputs": [],
   "source": [
    "X_tr_no_rc  = X_tr.drop(columns = ['rating_count', 'log_rating_count'])"
   ]
  },
  {
   "cell_type": "code",
   "execution_count": 60,
   "metadata": {},
   "outputs": [],
   "source": [
    "X_te_no_rc = X_te.drop(columns = ['rating_count', 'log_rating_count'])"
   ]
  },
  {
   "cell_type": "code",
   "execution_count": 61,
   "metadata": {},
   "outputs": [
    {
     "data": {
      "text/plain": [
       "0.12750512407130135"
      ]
     },
     "execution_count": 61,
     "metadata": {},
     "output_type": "execute_result"
    }
   ],
   "source": [
    "# Run the cross validation, find the best alpha, refit the model on all the data with that alpha\n",
    "\n",
    "alphavec = 10**np.linspace(-2,2,200)\n",
    "\n",
    "lasso_model = LassoCV(alphas = alphavec, cv=5)\n",
    "lasso_model.fit(X_tr_no_rc, y_train_val)\n",
    "\n",
    "# This is the best alpha value it found \n",
    "lasso_model.alpha_"
   ]
  },
  {
   "cell_type": "code",
   "execution_count": 62,
   "metadata": {},
   "outputs": [],
   "source": [
    "# These are the (standardized) coefficients found\n",
    "# when it refit using that best alpha\n",
    "coefficients = list(zip(X_tr_no_rc.columns, lasso_model.coef_))\n",
    "coefficients_df = pd.DataFrame(coefficients, columns=['Feature', 'Coefficient']).sort_values(by='Coefficient', ascending=False)"
   ]
  },
  {
   "cell_type": "code",
   "execution_count": 63,
   "metadata": {},
   "outputs": [],
   "source": [
    "# Make predictions on the test set using the new model\n",
    "test_set_pred = lasso_model.predict(X_te_no_rc)"
   ]
  },
  {
   "cell_type": "code",
   "execution_count": 64,
   "metadata": {},
   "outputs": [
    {
     "data": {
      "text/plain": [
       "0.390439341655415"
      ]
     },
     "execution_count": 64,
     "metadata": {},
     "output_type": "execute_result"
    }
   ],
   "source": [
    "# Find the MAE and R^2 on the test set using this model\n",
    "mean_absolute_error = mae(y_test, test_set_pred)\n",
    "mean_absolute_error"
   ]
  },
  {
   "cell_type": "code",
   "execution_count": 65,
   "metadata": {},
   "outputs": [
    {
     "data": {
      "text/plain": [
       "0.18379561625527174"
      ]
     },
     "execution_count": 65,
     "metadata": {},
     "output_type": "execute_result"
    }
   ],
   "source": [
    "r2_score_ = r2_score(y_test, test_set_pred)\n",
    "r2_score_ \n"
   ]
  },
  {
   "cell_type": "code",
   "execution_count": 66,
   "metadata": {},
   "outputs": [
    {
     "data": {
      "text/plain": [
       "[<matplotlib.lines.Line2D at 0x7ff6a90230d0>]"
      ]
     },
     "execution_count": 66,
     "metadata": {},
     "output_type": "execute_result"
    },
    {
     "data": {
      "image/png": "[encoded data removed]",
      "text/plain": [
       "<Figure size 432x288 with 1 Axes>"
      ]
     },
     "metadata": {
      "needs_background": "light"
     },
     "output_type": "display_data"
    }
   ],
   "source": [
    "plt.scatter( test_set_pred, y_test)\n",
    "plt.plot( y_test, y_test, c='k')\n",
    "#plt.plot( x_te_no_rc, y_test, c='k')"
   ]
  },
  {
   "cell_type": "code",
   "execution_count": 67,
   "metadata": {},
   "outputs": [
    {
     "data": {
      "text/plain": [
       "<matplotlib.collections.PathCollection at 0x7ff6e870c220>"
      ]
     },
     "execution_count": 67,
     "metadata": {},
     "output_type": "execute_result"
    },
    {
     "data": {
      "image/png": "[encoded data removed]",
      "text/plain": [
       "<Figure size 432x288 with 1 Axes>"
      ]
     },
     "metadata": {
      "needs_background": "light"
     },
     "output_type": "display_data"
    }
   ],
   "source": [
    "residual = y_test-test_set_pred\n",
    "plt.scatter( test_set_pred, residual)\n",
    "\n"
   ]
  },
  {
   "cell_type": "code",
   "execution_count": 68,
   "metadata": {},
   "outputs": [
    {
     "data": {
      "text/html": [
       "<div>\n",
       "<style scoped>\n",
       "    .dataframe tbody tr th:only-of-type {\n",
       "        vertical-align: middle;\n",
       "    }\n",
       "\n",
       "    .dataframe tbody tr th {\n",
       "        vertical-align: top;\n",
       "    }\n",
       "\n",
       "    .dataframe thead th {\n",
       "        text-align: right;\n",
       "    }\n",
       "</style>\n",
       "<table border=\"1\" class=\"dataframe\">\n",
       "  <thead>\n",
       "    <tr style=\"text-align: right;\">\n",
       "      <th></th>\n",
       "      <th>Feature</th>\n",
       "      <th>Coefficient</th>\n",
       "    </tr>\n",
       "  </thead>\n",
       "  <tbody>\n",
       "    <tr>\n",
       "      <th>7</th>\n",
       "      <td>cinematographer_Gordon Willis</td>\n",
       "      <td>0.10912</td>\n",
       "    </tr>\n",
       "    <tr>\n",
       "      <th>18</th>\n",
       "      <td>Diane Keaton</td>\n",
       "      <td>0.04059</td>\n",
       "    </tr>\n",
       "    <tr>\n",
       "      <th>25</th>\n",
       "      <td>Tony Roberts</td>\n",
       "      <td>0.00000</td>\n",
       "    </tr>\n",
       "    <tr>\n",
       "      <th>19</th>\n",
       "      <td>Maurice Sonnenberg</td>\n",
       "      <td>-0.00000</td>\n",
       "    </tr>\n",
       "    <tr>\n",
       "      <th>20</th>\n",
       "      <td>Wallace Shawn</td>\n",
       "      <td>-0.00000</td>\n",
       "    </tr>\n",
       "  </tbody>\n",
       "</table>\n",
       "</div>"
      ],
      "text/plain": [
       "                          Feature  Coefficient\n",
       "7   cinematographer_Gordon Willis      0.10912\n",
       "18                   Diane Keaton      0.04059\n",
       "25                   Tony Roberts      0.00000\n",
       "19             Maurice Sonnenberg     -0.00000\n",
       "20                  Wallace Shawn     -0.00000"
      ]
     },
     "execution_count": 68,
     "metadata": {},
     "output_type": "execute_result"
    }
   ],
   "source": [
    "coefficients_df.head()"
   ]
  },
  {
   "cell_type": "code",
   "execution_count": 69,
   "metadata": {},
   "outputs": [
    {
     "data": {
      "text/plain": [
       "{'r2_score': <function sklearn.metrics._regression.r2_score(y_true, y_pred, *, sample_weight=None, multioutput='uniform_average')>,\n",
       " 'mean absolute error': 0.390439341655415,\n",
       " 'coefficients':                                  Feature  Coefficient\n",
       " 7          cinematographer_Gordon Willis      0.10912\n",
       " 18                          Diane Keaton      0.04059\n",
       " 25                          Tony Roberts      0.00000\n",
       " 19                    Maurice Sonnenberg     -0.00000\n",
       " 20                         Wallace Shawn     -0.00000\n",
       " 21                Stephanie Roth Haberle     -0.00000\n",
       " 22                            Dan Frazer      0.00000\n",
       " 23                          Julie Kavner      0.00000\n",
       " 24                        John Doumanian      0.00000\n",
       " 0                                   year     -0.00000\n",
       " 1                               duration     -0.00000\n",
       " 27                           Paul Herman      0.00000\n",
       " 28                           Ira Wheeler     -0.00000\n",
       " 29                          Dianne Wiest      0.00000\n",
       " 30                         Louise Lasser     -0.00000\n",
       " 32                    Scarlett Johansson      0.00000\n",
       " 26                             Alan Alda      0.00000\n",
       " 17                            Mia Farrow      0.00000\n",
       " 16                           Woody Allen      0.00000\n",
       " 14                           documentary     -0.00000\n",
       " 11          cinematographer_Sven Nykvist     -0.00000\n",
       " 10       cinematographer_Remi Adefarasin      0.00000\n",
       " 9                  cinematographer_OTHER     -0.00000\n",
       " 8   cinematographer_Javier Aguirresarobe      0.00000\n",
       " 6               cinematographer_Fei Zhao      0.00000\n",
       " 5         cinematographer_David M. Walsh     -0.00000\n",
       " 4         cinematographer_Darius Khondji     -0.00000\n",
       " 3         cinematographer_Carlo Di Palma      0.00000\n",
       " 2                               log_year     -0.00000\n",
       " 33                         Sam Waterston     -0.00000\n",
       " 12       cinematographer_Vilmos Zsigmond     -0.00173\n",
       " 31                       Douglas McGrath     -0.00630\n",
       " 13      cinematographer_Vittorio Storaro     -0.04102\n",
       " 15                             tv_series     -0.04481}"
      ]
     },
     "execution_count": 69,
     "metadata": {},
     "output_type": "execute_result"
    }
   ],
   "source": [
    "Lasso_CV_model_no_rc = {\"r2_score\": r2_score, 'mean absolute error': mean_absolute_error, 'coefficients': coefficients_df}\n",
    "Lasso_CV_model_no_rc \n"
   ]
  },
  {
   "cell_type": "code",
   "execution_count": null,
   "metadata": {},
   "outputs": [],
   "source": []
  },
  {
   "cell_type": "code",
   "execution_count": 70,
   "metadata": {},
   "outputs": [],
   "source": [
    "LCVM_no_rc_filename = 'Lasso_CV_model_no_rc_' + director +'.pickle'\n",
    "with open(dir_str + LCVM_no_rc_filename, 'wb') as to_write:\n",
    "    pickle.dump(Lasso_CV_model_no_rc, to_write)"
   ]
  },
  {
   "cell_type": "code",
   "execution_count": null,
   "metadata": {},
   "outputs": [],
   "source": []
  },
  {
   "cell_type": "code",
   "execution_count": 71,
   "metadata": {},
   "outputs": [
    {
     "name": "stdout",
     "output_type": "stream",
     "text": [
      "Computing regularization path using the LARS ...\n"
     ]
    }
   ],
   "source": [
    "from sklearn.linear_model import lars_path\n",
    "print(\"Computing regularization path using the LARS ...\")\n",
    "alphas, _, coefs = lars_path(np.array(X_tr_no_rc), y_train_val.values, method='lasso')"
   ]
  },
  {
   "cell_type": "code",
   "execution_count": 72,
   "metadata": {},
   "outputs": [
    {
     "data": {
      "image/png": "[encoded data removed]",
      "text/plain": [
       "<Figure size 720x720 with 1 Axes>"
      ]
     },
     "metadata": {
      "needs_background": "light"
     },
     "output_type": "display_data"
    }
   ],
   "source": [
    "xx = np.sum(np.abs(coefs.T), axis=1)\n",
    "xx /= xx[-1]\n",
    "\n",
    "plt.figure(figsize=(10,10))\n",
    "plt.plot(xx, coefs.T)\n",
    "ymin, ymax = plt.ylim()\n",
    "plt.vlines(xx, ymin, ymax, linestyle='dashed')\n",
    "plt.xlabel('|coef| / max|coef|')\n",
    "plt.ylabel('Coefficients')\n",
    "plt.title('LASSO Path')\n",
    "plt.axis('tight')\n",
    "plt.legend(X_tr_no_rc.columns)\n",
    "plt.show()"
   ]
  },
  {
   "cell_type": "markdown",
   "metadata": {},
   "source": [
    "### Ridge regression"
   ]
  },
  {
   "cell_type": "code",
   "execution_count": null,
   "metadata": {},
   "outputs": [],
   "source": []
  },
  {
   "cell_type": "code",
   "execution_count": 73,
   "metadata": {},
   "outputs": [
    {
     "data": {
      "text/plain": [
       "79.34096665797492"
      ]
     },
     "execution_count": 73,
     "metadata": {},
     "output_type": "execute_result"
    }
   ],
   "source": [
    "# Run the cross validation, find the best alpha, refit the model on all the data with that alpha\n",
    "\n",
    "alphavec = 10**np.linspace(-2,2,200)\n",
    "\n",
    "ridge_model = RidgeCV(alphas = alphavec, cv=5)\n",
    "ridge_model.fit(X_tr_no_rc, y_train_val)\n",
    "\n",
    "# This is the best alpha value it found \n",
    "ridge_model.alpha_"
   ]
  },
  {
   "cell_type": "code",
   "execution_count": 74,
   "metadata": {},
   "outputs": [
    {
     "data": {
      "text/html": [
       "<div>\n",
       "<style scoped>\n",
       "    .dataframe tbody tr th:only-of-type {\n",
       "        vertical-align: middle;\n",
       "    }\n",
       "\n",
       "    .dataframe tbody tr th {\n",
       "        vertical-align: top;\n",
       "    }\n",
       "\n",
       "    .dataframe thead th {\n",
       "        text-align: right;\n",
       "    }\n",
       "</style>\n",
       "<table border=\"1\" class=\"dataframe\">\n",
       "  <thead>\n",
       "    <tr style=\"text-align: right;\">\n",
       "      <th></th>\n",
       "      <th>Feature</th>\n",
       "      <th>Coefficient</th>\n",
       "    </tr>\n",
       "  </thead>\n",
       "  <tbody>\n",
       "    <tr>\n",
       "      <th>7</th>\n",
       "      <td>cinematographer_Gordon Willis</td>\n",
       "      <td>0.05885</td>\n",
       "    </tr>\n",
       "    <tr>\n",
       "      <th>18</th>\n",
       "      <td>Diane Keaton</td>\n",
       "      <td>0.05803</td>\n",
       "    </tr>\n",
       "    <tr>\n",
       "      <th>15</th>\n",
       "      <td>tv_series</td>\n",
       "      <td>-0.04713</td>\n",
       "    </tr>\n",
       "    <tr>\n",
       "      <th>13</th>\n",
       "      <td>cinematographer_Vittorio Storaro</td>\n",
       "      <td>-0.04489</td>\n",
       "    </tr>\n",
       "    <tr>\n",
       "      <th>30</th>\n",
       "      <td>Louise Lasser</td>\n",
       "      <td>-0.04442</td>\n",
       "    </tr>\n",
       "    <tr>\n",
       "      <th>12</th>\n",
       "      <td>cinematographer_Vilmos Zsigmond</td>\n",
       "      <td>-0.03970</td>\n",
       "    </tr>\n",
       "    <tr>\n",
       "      <th>31</th>\n",
       "      <td>Douglas McGrath</td>\n",
       "      <td>-0.03845</td>\n",
       "    </tr>\n",
       "    <tr>\n",
       "      <th>28</th>\n",
       "      <td>Ira Wheeler</td>\n",
       "      <td>-0.03370</td>\n",
       "    </tr>\n",
       "    <tr>\n",
       "      <th>10</th>\n",
       "      <td>cinematographer_Remi Adefarasin</td>\n",
       "      <td>0.03302</td>\n",
       "    </tr>\n",
       "    <tr>\n",
       "      <th>29</th>\n",
       "      <td>Dianne Wiest</td>\n",
       "      <td>0.02876</td>\n",
       "    </tr>\n",
       "    <tr>\n",
       "      <th>1</th>\n",
       "      <td>duration</td>\n",
       "      <td>-0.02785</td>\n",
       "    </tr>\n",
       "    <tr>\n",
       "      <th>0</th>\n",
       "      <td>year</td>\n",
       "      <td>-0.02753</td>\n",
       "    </tr>\n",
       "    <tr>\n",
       "      <th>2</th>\n",
       "      <td>log_year</td>\n",
       "      <td>-0.02738</td>\n",
       "    </tr>\n",
       "    <tr>\n",
       "      <th>25</th>\n",
       "      <td>Tony Roberts</td>\n",
       "      <td>0.02737</td>\n",
       "    </tr>\n",
       "    <tr>\n",
       "      <th>9</th>\n",
       "      <td>cinematographer_OTHER</td>\n",
       "      <td>-0.02620</td>\n",
       "    </tr>\n",
       "    <tr>\n",
       "      <th>32</th>\n",
       "      <td>Scarlett Johansson</td>\n",
       "      <td>0.02453</td>\n",
       "    </tr>\n",
       "    <tr>\n",
       "      <th>17</th>\n",
       "      <td>Mia Farrow</td>\n",
       "      <td>0.02295</td>\n",
       "    </tr>\n",
       "    <tr>\n",
       "      <th>22</th>\n",
       "      <td>Dan Frazer</td>\n",
       "      <td>0.02289</td>\n",
       "    </tr>\n",
       "    <tr>\n",
       "      <th>8</th>\n",
       "      <td>cinematographer_Javier Aguirresarobe</td>\n",
       "      <td>0.02102</td>\n",
       "    </tr>\n",
       "    <tr>\n",
       "      <th>33</th>\n",
       "      <td>Sam Waterston</td>\n",
       "      <td>-0.01894</td>\n",
       "    </tr>\n",
       "    <tr>\n",
       "      <th>27</th>\n",
       "      <td>Paul Herman</td>\n",
       "      <td>0.01864</td>\n",
       "    </tr>\n",
       "    <tr>\n",
       "      <th>14</th>\n",
       "      <td>documentary</td>\n",
       "      <td>-0.01839</td>\n",
       "    </tr>\n",
       "    <tr>\n",
       "      <th>4</th>\n",
       "      <td>cinematographer_Darius Khondji</td>\n",
       "      <td>-0.01546</td>\n",
       "    </tr>\n",
       "    <tr>\n",
       "      <th>3</th>\n",
       "      <td>cinematographer_Carlo Di Palma</td>\n",
       "      <td>0.01175</td>\n",
       "    </tr>\n",
       "    <tr>\n",
       "      <th>16</th>\n",
       "      <td>Woody Allen</td>\n",
       "      <td>0.01147</td>\n",
       "    </tr>\n",
       "    <tr>\n",
       "      <th>24</th>\n",
       "      <td>John Doumanian</td>\n",
       "      <td>0.00789</td>\n",
       "    </tr>\n",
       "    <tr>\n",
       "      <th>20</th>\n",
       "      <td>Wallace Shawn</td>\n",
       "      <td>-0.00576</td>\n",
       "    </tr>\n",
       "    <tr>\n",
       "      <th>11</th>\n",
       "      <td>cinematographer_Sven Nykvist</td>\n",
       "      <td>-0.00553</td>\n",
       "    </tr>\n",
       "    <tr>\n",
       "      <th>23</th>\n",
       "      <td>Julie Kavner</td>\n",
       "      <td>0.00538</td>\n",
       "    </tr>\n",
       "    <tr>\n",
       "      <th>5</th>\n",
       "      <td>cinematographer_David M. Walsh</td>\n",
       "      <td>-0.00442</td>\n",
       "    </tr>\n",
       "    <tr>\n",
       "      <th>19</th>\n",
       "      <td>Maurice Sonnenberg</td>\n",
       "      <td>-0.00189</td>\n",
       "    </tr>\n",
       "    <tr>\n",
       "      <th>21</th>\n",
       "      <td>Stephanie Roth Haberle</td>\n",
       "      <td>0.00131</td>\n",
       "    </tr>\n",
       "    <tr>\n",
       "      <th>26</th>\n",
       "      <td>Alan Alda</td>\n",
       "      <td>-0.00103</td>\n",
       "    </tr>\n",
       "    <tr>\n",
       "      <th>6</th>\n",
       "      <td>cinematographer_Fei Zhao</td>\n",
       "      <td>0.00091</td>\n",
       "    </tr>\n",
       "  </tbody>\n",
       "</table>\n",
       "</div>"
      ],
      "text/plain": [
       "                                 Feature  Coefficient\n",
       "7          cinematographer_Gordon Willis      0.05885\n",
       "18                          Diane Keaton      0.05803\n",
       "15                             tv_series     -0.04713\n",
       "13      cinematographer_Vittorio Storaro     -0.04489\n",
       "30                         Louise Lasser     -0.04442\n",
       "12       cinematographer_Vilmos Zsigmond     -0.03970\n",
       "31                       Douglas McGrath     -0.03845\n",
       "28                           Ira Wheeler     -0.03370\n",
       "10       cinematographer_Remi Adefarasin      0.03302\n",
       "29                          Dianne Wiest      0.02876\n",
       "1                               duration     -0.02785\n",
       "0                                   year     -0.02753\n",
       "2                               log_year     -0.02738\n",
       "25                          Tony Roberts      0.02737\n",
       "9                  cinematographer_OTHER     -0.02620\n",
       "32                    Scarlett Johansson      0.02453\n",
       "17                            Mia Farrow      0.02295\n",
       "22                            Dan Frazer      0.02289\n",
       "8   cinematographer_Javier Aguirresarobe      0.02102\n",
       "33                         Sam Waterston     -0.01894\n",
       "27                           Paul Herman      0.01864\n",
       "14                           documentary     -0.01839\n",
       "4         cinematographer_Darius Khondji     -0.01546\n",
       "3         cinematographer_Carlo Di Palma      0.01175\n",
       "16                           Woody Allen      0.01147\n",
       "24                        John Doumanian      0.00789\n",
       "20                         Wallace Shawn     -0.00576\n",
       "11          cinematographer_Sven Nykvist     -0.00553\n",
       "23                          Julie Kavner      0.00538\n",
       "5         cinematographer_David M. Walsh     -0.00442\n",
       "19                    Maurice Sonnenberg     -0.00189\n",
       "21                Stephanie Roth Haberle      0.00131\n",
       "26                             Alan Alda     -0.00103\n",
       "6               cinematographer_Fei Zhao      0.00091"
      ]
     },
     "execution_count": 74,
     "metadata": {},
     "output_type": "execute_result"
    }
   ],
   "source": [
    "# These are the (standardized) coefficients found\n",
    "# when it refit using that best alpha\n",
    "coefficients = list(zip(X_tr_no_rc.columns, ridge_model.coef_))\n",
    "\n",
    "coefficients_df  = pd.DataFrame(coefficients, columns=['Feature', 'Coefficient'])\n",
    "\n",
    "coefficients_df['abs_val_of_coefficient'] = coefficients_df.Coefficient.abs()\n",
    "coefficients_df.sort_values(by='abs_val_of_coefficient', ascending=False, inplace=True)\n",
    "\n",
    "coefficients_df.drop(columns='abs_val_of_coefficient', inplace=True)\n",
    "coefficients_df"
   ]
  },
  {
   "cell_type": "code",
   "execution_count": 75,
   "metadata": {},
   "outputs": [],
   "source": [
    "# Make predictions on the test set using the new model\n",
    "test_set_pred = ridge_model.predict(X_te_no_rc)"
   ]
  },
  {
   "cell_type": "code",
   "execution_count": 76,
   "metadata": {},
   "outputs": [
    {
     "data": {
      "text/plain": [
       "0.3489248855290873"
      ]
     },
     "execution_count": 76,
     "metadata": {},
     "output_type": "execute_result"
    }
   ],
   "source": [
    "# Find the MAE and R^2 on the test set using this model\n",
    "mean_absolute_error = mae(y_test, test_set_pred)\n",
    "mean_absolute_error"
   ]
  },
  {
   "cell_type": "code",
   "execution_count": 77,
   "metadata": {},
   "outputs": [
    {
     "data": {
      "text/plain": [
       "0.10698811417156662"
      ]
     },
     "execution_count": 77,
     "metadata": {},
     "output_type": "execute_result"
    }
   ],
   "source": [
    "r2_score_ = r2_score(y_test, test_set_pred)\n",
    "r2_score_ \n"
   ]
  },
  {
   "cell_type": "code",
   "execution_count": 78,
   "metadata": {},
   "outputs": [
    {
     "data": {
      "text/plain": [
       "[<matplotlib.lines.Line2D at 0x7ff6f8469070>]"
      ]
     },
     "execution_count": 78,
     "metadata": {},
     "output_type": "execute_result"
    },
    {
     "data": {
      "image/png": "[encoded data removed]",
      "text/plain": [
       "<Figure size 432x288 with 1 Axes>"
      ]
     },
     "metadata": {
      "needs_background": "light"
     },
     "output_type": "display_data"
    }
   ],
   "source": [
    "plt.scatter( test_set_pred, y_test)\n",
    "plt.plot( y_test, y_test, c='k')"
   ]
  },
  {
   "cell_type": "code",
   "execution_count": 79,
   "metadata": {},
   "outputs": [
    {
     "data": {
      "text/plain": [
       "<matplotlib.collections.PathCollection at 0x7ff6e86e66d0>"
      ]
     },
     "execution_count": 79,
     "metadata": {},
     "output_type": "execute_result"
    },
    {
     "data": {
      "image/png": "[encoded data removed]",
      "text/plain": [
       "<Figure size 432x288 with 1 Axes>"
      ]
     },
     "metadata": {
      "needs_background": "light"
     },
     "output_type": "display_data"
    }
   ],
   "source": [
    "residual = y_test-test_set_pred\n",
    "plt.scatter( test_set_pred, residual)\n"
   ]
  },
  {
   "cell_type": "code",
   "execution_count": 80,
   "metadata": {},
   "outputs": [
    {
     "data": {
      "text/html": [
       "<div>\n",
       "<style scoped>\n",
       "    .dataframe tbody tr th:only-of-type {\n",
       "        vertical-align: middle;\n",
       "    }\n",
       "\n",
       "    .dataframe tbody tr th {\n",
       "        vertical-align: top;\n",
       "    }\n",
       "\n",
       "    .dataframe thead th {\n",
       "        text-align: right;\n",
       "    }\n",
       "</style>\n",
       "<table border=\"1\" class=\"dataframe\">\n",
       "  <thead>\n",
       "    <tr style=\"text-align: right;\">\n",
       "      <th></th>\n",
       "      <th>Feature</th>\n",
       "      <th>Coefficient</th>\n",
       "    </tr>\n",
       "  </thead>\n",
       "  <tbody>\n",
       "    <tr>\n",
       "      <th>7</th>\n",
       "      <td>cinematographer_Gordon Willis</td>\n",
       "      <td>0.05885</td>\n",
       "    </tr>\n",
       "    <tr>\n",
       "      <th>18</th>\n",
       "      <td>Diane Keaton</td>\n",
       "      <td>0.05803</td>\n",
       "    </tr>\n",
       "    <tr>\n",
       "      <th>15</th>\n",
       "      <td>tv_series</td>\n",
       "      <td>-0.04713</td>\n",
       "    </tr>\n",
       "    <tr>\n",
       "      <th>13</th>\n",
       "      <td>cinematographer_Vittorio Storaro</td>\n",
       "      <td>-0.04489</td>\n",
       "    </tr>\n",
       "    <tr>\n",
       "      <th>30</th>\n",
       "      <td>Louise Lasser</td>\n",
       "      <td>-0.04442</td>\n",
       "    </tr>\n",
       "  </tbody>\n",
       "</table>\n",
       "</div>"
      ],
      "text/plain": [
       "                             Feature  Coefficient\n",
       "7      cinematographer_Gordon Willis      0.05885\n",
       "18                      Diane Keaton      0.05803\n",
       "15                         tv_series     -0.04713\n",
       "13  cinematographer_Vittorio Storaro     -0.04489\n",
       "30                     Louise Lasser     -0.04442"
      ]
     },
     "execution_count": 80,
     "metadata": {},
     "output_type": "execute_result"
    }
   ],
   "source": [
    "coefficients_df.head()"
   ]
  },
  {
   "cell_type": "code",
   "execution_count": 81,
   "metadata": {},
   "outputs": [
    {
     "data": {
      "text/plain": [
       "{'r2_score': <function sklearn.metrics._regression.r2_score(y_true, y_pred, *, sample_weight=None, multioutput='uniform_average')>,\n",
       " 'mean absolute error': 0.3489248855290873,\n",
       " 'coefficients':                                  Feature  Coefficient\n",
       " 7          cinematographer_Gordon Willis      0.05885\n",
       " 18                          Diane Keaton      0.05803\n",
       " 15                             tv_series     -0.04713\n",
       " 13      cinematographer_Vittorio Storaro     -0.04489\n",
       " 30                         Louise Lasser     -0.04442\n",
       " 12       cinematographer_Vilmos Zsigmond     -0.03970\n",
       " 31                       Douglas McGrath     -0.03845\n",
       " 28                           Ira Wheeler     -0.03370\n",
       " 10       cinematographer_Remi Adefarasin      0.03302\n",
       " 29                          Dianne Wiest      0.02876\n",
       " 1                               duration     -0.02785\n",
       " 0                                   year     -0.02753\n",
       " 2                               log_year     -0.02738\n",
       " 25                          Tony Roberts      0.02737\n",
       " 9                  cinematographer_OTHER     -0.02620\n",
       " 32                    Scarlett Johansson      0.02453\n",
       " 17                            Mia Farrow      0.02295\n",
       " 22                            Dan Frazer      0.02289\n",
       " 8   cinematographer_Javier Aguirresarobe      0.02102\n",
       " 33                         Sam Waterston     -0.01894\n",
       " 27                           Paul Herman      0.01864\n",
       " 14                           documentary     -0.01839\n",
       " 4         cinematographer_Darius Khondji     -0.01546\n",
       " 3         cinematographer_Carlo Di Palma      0.01175\n",
       " 16                           Woody Allen      0.01147\n",
       " 24                        John Doumanian      0.00789\n",
       " 20                         Wallace Shawn     -0.00576\n",
       " 11          cinematographer_Sven Nykvist     -0.00553\n",
       " 23                          Julie Kavner      0.00538\n",
       " 5         cinematographer_David M. Walsh     -0.00442\n",
       " 19                    Maurice Sonnenberg     -0.00189\n",
       " 21                Stephanie Roth Haberle      0.00131\n",
       " 26                             Alan Alda     -0.00103\n",
       " 6               cinematographer_Fei Zhao      0.00091}"
      ]
     },
     "execution_count": 81,
     "metadata": {},
     "output_type": "execute_result"
    }
   ],
   "source": [
    "Ridge_CV_model_no_rc = {\"r2_score\": r2_score, 'mean absolute error': mean_absolute_error, 'coefficients': coefficients_df}\n",
    "Ridge_CV_model_no_rc \n"
   ]
  },
  {
   "cell_type": "code",
   "execution_count": null,
   "metadata": {},
   "outputs": [],
   "source": []
  },
  {
   "cell_type": "code",
   "execution_count": 82,
   "metadata": {},
   "outputs": [],
   "source": [
    "RCVM_no_rc_filename = 'Ridge_CV_model_no_rc_' + director +'.pickle'\n",
    "with open(dir_str + RCVM_no_rc_filename, 'wb') as to_write:\n",
    "    pickle.dump(Ridge_CV_model_no_rc, to_write)"
   ]
  },
  {
   "cell_type": "code",
   "execution_count": null,
   "metadata": {},
   "outputs": [],
   "source": []
  },
  {
   "cell_type": "code",
   "execution_count": null,
   "metadata": {},
   "outputs": [],
   "source": []
  },
  {
   "cell_type": "code",
   "execution_count": null,
   "metadata": {},
   "outputs": [],
   "source": []
  },
  {
   "cell_type": "markdown",
   "metadata": {},
   "source": [
    "# D. Lasso and Ridge regression on all features except `rating count` but with also `budget` added as a feature"
   ]
  },
  {
   "cell_type": "markdown",
   "metadata": {},
   "source": [
    "#### Re-analyzed including `budget` as a feature \n",
    "This entails a fewer rows of data, since many of the films don't have budget info available on IMDB"
   ]
  },
  {
   "cell_type": "code",
   "execution_count": 83,
   "metadata": {},
   "outputs": [],
   "source": [
    "films_to_analyze_financial_df = films_to_analyze[(films_to_analyze['budget'] > 0) & (films_to_analyze['worldwide_gross'] > 0)]"
   ]
  },
  {
   "cell_type": "code",
   "execution_count": 84,
   "metadata": {},
   "outputs": [],
   "source": [
    "analysis_columns = ['title', 'year', 'duration', 'budget', 'cinematographer', 'documentary', 'tv_series','rating', *prevalent_actor_columns]"
   ]
  },
  {
   "cell_type": "code",
   "execution_count": null,
   "metadata": {},
   "outputs": [],
   "source": []
  },
  {
   "cell_type": "code",
   "execution_count": 85,
   "metadata": {},
   "outputs": [
    {
     "data": {
      "text/plain": [
       "['title',\n",
       " 'year',\n",
       " 'duration',\n",
       " 'budget',\n",
       " 'cinematographer',\n",
       " 'documentary',\n",
       " 'tv_series',\n",
       " 'rating',\n",
       " 'Woody Allen',\n",
       " 'Mia Farrow',\n",
       " 'Diane Keaton',\n",
       " 'Maurice Sonnenberg',\n",
       " 'Wallace Shawn',\n",
       " 'Stephanie Roth Haberle',\n",
       " 'Dan Frazer',\n",
       " 'Julie Kavner',\n",
       " 'John Doumanian',\n",
       " 'Tony Roberts',\n",
       " 'Alan Alda',\n",
       " 'Paul Herman',\n",
       " 'Ira Wheeler',\n",
       " 'Dianne Wiest',\n",
       " 'Louise Lasser',\n",
       " 'Douglas McGrath',\n",
       " 'Scarlett Johansson',\n",
       " 'Sam Waterston']"
      ]
     },
     "execution_count": 85,
     "metadata": {},
     "output_type": "execute_result"
    }
   ],
   "source": [
    "analysis_columns "
   ]
  },
  {
   "cell_type": "code",
   "execution_count": 86,
   "metadata": {},
   "outputs": [],
   "source": [
    "films_and_features_to_analyze_df = films_to_analyze_financial_df[analysis_columns]"
   ]
  },
  {
   "cell_type": "code",
   "execution_count": 87,
   "metadata": {},
   "outputs": [
    {
     "data": {
      "text/plain": [
       "1"
      ]
     },
     "execution_count": 87,
     "metadata": {},
     "output_type": "execute_result"
    }
   ],
   "source": [
    "cinematographer_include_threshold = films_and_features_to_analyze_df['cinematographer'].value_counts().min()\n",
    "cinematographer_include_threshold"
   ]
  },
  {
   "cell_type": "code",
   "execution_count": 88,
   "metadata": {},
   "outputs": [
    {
     "name": "stderr",
     "output_type": "stream",
     "text": [
      "/opt/anaconda3/envs/metis/lib/python3.8/site-packages/pandas/core/series.py:4479: SettingWithCopyWarning: \n",
      "A value is trying to be set on a copy of a slice from a DataFrame\n",
      "\n",
      "See the caveats in the documentation: https://pandas.pydata.org/pandas-docs/stable/user_guide/indexing.html#returning-a-view-versus-a-copy\n",
      "  return super().replace(\n"
     ]
    }
   ],
   "source": [
    "value_counts = films_and_features_to_analyze_df['cinematographer'].value_counts() # Specific column \n",
    "to_remove = value_counts[value_counts <= cinematographer_include_threshold].index\n",
    "films_and_features_to_analyze_df['cinematographer'].replace(to_remove, 'OTHER', inplace=True)"
   ]
  },
  {
   "cell_type": "code",
   "execution_count": null,
   "metadata": {},
   "outputs": [],
   "source": []
  },
  {
   "cell_type": "markdown",
   "metadata": {},
   "source": []
  },
  {
   "cell_type": "markdown",
   "metadata": {},
   "source": [
    "### Regression analysis on `rating`,  `duration`, `year` and `budget` etc"
   ]
  },
  {
   "cell_type": "code",
   "execution_count": 89,
   "metadata": {},
   "outputs": [
    {
     "data": {
      "text/plain": [
       "Index(['title', 'year', 'duration', 'budget', 'cinematographer', 'documentary',\n",
       "       'tv_series', 'rating', 'Woody Allen', 'Mia Farrow', 'Diane Keaton',\n",
       "       'Maurice Sonnenberg', 'Wallace Shawn', 'Stephanie Roth Haberle',\n",
       "       'Dan Frazer', 'Julie Kavner', 'John Doumanian', 'Tony Roberts',\n",
       "       'Alan Alda', 'Paul Herman', 'Ira Wheeler', 'Dianne Wiest',\n",
       "       'Louise Lasser', 'Douglas McGrath', 'Scarlett Johansson',\n",
       "       'Sam Waterston'],\n",
       "      dtype='object')"
      ]
     },
     "execution_count": 89,
     "metadata": {},
     "output_type": "execute_result"
    }
   ],
   "source": [
    "films_and_features_to_analyze_df.columns"
   ]
  },
  {
   "cell_type": "code",
   "execution_count": 90,
   "metadata": {},
   "outputs": [],
   "source": [
    "#selected_cols = [*films_and_features_to_analyze_df.columns[1:7], *films_and_features_to_analyze_df.columns[8:]]"
   ]
  },
  {
   "cell_type": "code",
   "execution_count": 91,
   "metadata": {},
   "outputs": [],
   "source": [
    "selected_cols = films_and_features_to_analyze_df.columns[1:4]"
   ]
  },
  {
   "cell_type": "code",
   "execution_count": 92,
   "metadata": {},
   "outputs": [],
   "source": [
    "X= films_and_features_to_analyze_df[selected_cols]\n",
    "y= films_and_features_to_analyze_df['rating']"
   ]
  },
  {
   "cell_type": "code",
   "execution_count": 93,
   "metadata": {},
   "outputs": [
    {
     "data": {
      "text/html": [
       "<div>\n",
       "<style scoped>\n",
       "    .dataframe tbody tr th:only-of-type {\n",
       "        vertical-align: middle;\n",
       "    }\n",
       "\n",
       "    .dataframe tbody tr th {\n",
       "        vertical-align: top;\n",
       "    }\n",
       "\n",
       "    .dataframe thead th {\n",
       "        text-align: right;\n",
       "    }\n",
       "</style>\n",
       "<table border=\"1\" class=\"dataframe\">\n",
       "  <thead>\n",
       "    <tr style=\"text-align: right;\">\n",
       "      <th></th>\n",
       "      <th>year</th>\n",
       "      <th>duration</th>\n",
       "      <th>budget</th>\n",
       "    </tr>\n",
       "  </thead>\n",
       "  <tbody>\n",
       "    <tr>\n",
       "      <th>2</th>\n",
       "      <td>2,017.00000</td>\n",
       "      <td>101.00000</td>\n",
       "      <td>25,000,000.00000</td>\n",
       "    </tr>\n",
       "    <tr>\n",
       "      <th>4</th>\n",
       "      <td>2,016.00000</td>\n",
       "      <td>96.00000</td>\n",
       "      <td>30,000,000.00000</td>\n",
       "    </tr>\n",
       "    <tr>\n",
       "      <th>5</th>\n",
       "      <td>2,015.00000</td>\n",
       "      <td>95.00000</td>\n",
       "      <td>11,000,000.00000</td>\n",
       "    </tr>\n",
       "    <tr>\n",
       "      <th>6</th>\n",
       "      <td>2,014.00000</td>\n",
       "      <td>97.00000</td>\n",
       "      <td>16,800,000.00000</td>\n",
       "    </tr>\n",
       "    <tr>\n",
       "      <th>7</th>\n",
       "      <td>2,013.00000</td>\n",
       "      <td>98.00000</td>\n",
       "      <td>18,000,000.00000</td>\n",
       "    </tr>\n",
       "    <tr>\n",
       "      <th>8</th>\n",
       "      <td>2,012.00000</td>\n",
       "      <td>112.00000</td>\n",
       "      <td>17,000,000.00000</td>\n",
       "    </tr>\n",
       "    <tr>\n",
       "      <th>9</th>\n",
       "      <td>2,011.00000</td>\n",
       "      <td>94.00000</td>\n",
       "      <td>17,000,000.00000</td>\n",
       "    </tr>\n",
       "    <tr>\n",
       "      <th>10</th>\n",
       "      <td>2,010.00000</td>\n",
       "      <td>98.00000</td>\n",
       "      <td>22,000,000.00000</td>\n",
       "    </tr>\n",
       "    <tr>\n",
       "      <th>11</th>\n",
       "      <td>2,009.00000</td>\n",
       "      <td>93.00000</td>\n",
       "      <td>15,000,000.00000</td>\n",
       "    </tr>\n",
       "    <tr>\n",
       "      <th>12</th>\n",
       "      <td>2,008.00000</td>\n",
       "      <td>96.00000</td>\n",
       "      <td>15,500,000.00000</td>\n",
       "    </tr>\n",
       "    <tr>\n",
       "      <th>13</th>\n",
       "      <td>2,007.00000</td>\n",
       "      <td>108.00000</td>\n",
       "      <td>13,000,000.00000</td>\n",
       "    </tr>\n",
       "    <tr>\n",
       "      <th>14</th>\n",
       "      <td>2,006.00000</td>\n",
       "      <td>96.00000</td>\n",
       "      <td>4,000,000.00000</td>\n",
       "    </tr>\n",
       "    <tr>\n",
       "      <th>15</th>\n",
       "      <td>2,005.00000</td>\n",
       "      <td>124.00000</td>\n",
       "      <td>15,000,000.00000</td>\n",
       "    </tr>\n",
       "    <tr>\n",
       "      <th>17</th>\n",
       "      <td>2,003.00000</td>\n",
       "      <td>108.00000</td>\n",
       "      <td>18,000,000.00000</td>\n",
       "    </tr>\n",
       "    <tr>\n",
       "      <th>18</th>\n",
       "      <td>2,002.00000</td>\n",
       "      <td>112.00000</td>\n",
       "      <td>16,000,000.00000</td>\n",
       "    </tr>\n",
       "    <tr>\n",
       "      <th>21</th>\n",
       "      <td>2,001.00000</td>\n",
       "      <td>103.00000</td>\n",
       "      <td>33,000,000.00000</td>\n",
       "    </tr>\n",
       "    <tr>\n",
       "      <th>22</th>\n",
       "      <td>2,000.00000</td>\n",
       "      <td>94.00000</td>\n",
       "      <td>25,000,000.00000</td>\n",
       "    </tr>\n",
       "    <tr>\n",
       "      <th>23</th>\n",
       "      <td>1,999.00000</td>\n",
       "      <td>95.00000</td>\n",
       "      <td>29,750,000.00000</td>\n",
       "    </tr>\n",
       "    <tr>\n",
       "      <th>24</th>\n",
       "      <td>1,998.00000</td>\n",
       "      <td>113.00000</td>\n",
       "      <td>12,000,000.00000</td>\n",
       "    </tr>\n",
       "    <tr>\n",
       "      <th>25</th>\n",
       "      <td>1,997.00000</td>\n",
       "      <td>96.00000</td>\n",
       "      <td>20,000,000.00000</td>\n",
       "    </tr>\n",
       "    <tr>\n",
       "      <th>26</th>\n",
       "      <td>1,996.00000</td>\n",
       "      <td>101.00000</td>\n",
       "      <td>20,000,000.00000</td>\n",
       "    </tr>\n",
       "    <tr>\n",
       "      <th>27</th>\n",
       "      <td>1,995.00000</td>\n",
       "      <td>95.00000</td>\n",
       "      <td>15,000,000.00000</td>\n",
       "    </tr>\n",
       "    <tr>\n",
       "      <th>29</th>\n",
       "      <td>1,994.00000</td>\n",
       "      <td>98.00000</td>\n",
       "      <td>20,000,000.00000</td>\n",
       "    </tr>\n",
       "    <tr>\n",
       "      <th>30</th>\n",
       "      <td>1,993.00000</td>\n",
       "      <td>104.00000</td>\n",
       "      <td>13,500,000.00000</td>\n",
       "    </tr>\n",
       "    <tr>\n",
       "      <th>31</th>\n",
       "      <td>1,992.00000</td>\n",
       "      <td>108.00000</td>\n",
       "      <td>20,000,000.00000</td>\n",
       "    </tr>\n",
       "    <tr>\n",
       "      <th>32</th>\n",
       "      <td>1,991.00000</td>\n",
       "      <td>85.00000</td>\n",
       "      <td>14,000,000.00000</td>\n",
       "    </tr>\n",
       "    <tr>\n",
       "      <th>33</th>\n",
       "      <td>1,990.00000</td>\n",
       "      <td>106.00000</td>\n",
       "      <td>12,000,000.00000</td>\n",
       "    </tr>\n",
       "    <tr>\n",
       "      <th>34</th>\n",
       "      <td>1,989.00000</td>\n",
       "      <td>104.00000</td>\n",
       "      <td>19,000,000.00000</td>\n",
       "    </tr>\n",
       "    <tr>\n",
       "      <th>35</th>\n",
       "      <td>1,989.00000</td>\n",
       "      <td>124.00000</td>\n",
       "      <td>15,000,000.00000</td>\n",
       "    </tr>\n",
       "    <tr>\n",
       "      <th>36</th>\n",
       "      <td>1,988.00000</td>\n",
       "      <td>81.00000</td>\n",
       "      <td>10,000,000.00000</td>\n",
       "    </tr>\n",
       "    <tr>\n",
       "      <th>37</th>\n",
       "      <td>1,987.00000</td>\n",
       "      <td>83.00000</td>\n",
       "      <td>10,000,000.00000</td>\n",
       "    </tr>\n",
       "    <tr>\n",
       "      <th>38</th>\n",
       "      <td>1,987.00000</td>\n",
       "      <td>88.00000</td>\n",
       "      <td>16,000,000.00000</td>\n",
       "    </tr>\n",
       "    <tr>\n",
       "      <th>39</th>\n",
       "      <td>1,986.00000</td>\n",
       "      <td>107.00000</td>\n",
       "      <td>6,400,000.00000</td>\n",
       "    </tr>\n",
       "    <tr>\n",
       "      <th>40</th>\n",
       "      <td>1,985.00000</td>\n",
       "      <td>82.00000</td>\n",
       "      <td>15,000,000.00000</td>\n",
       "    </tr>\n",
       "    <tr>\n",
       "      <th>41</th>\n",
       "      <td>1,984.00000</td>\n",
       "      <td>84.00000</td>\n",
       "      <td>8,000,000.00000</td>\n",
       "    </tr>\n",
       "    <tr>\n",
       "      <th>44</th>\n",
       "      <td>1,980.00000</td>\n",
       "      <td>89.00000</td>\n",
       "      <td>10,000,000.00000</td>\n",
       "    </tr>\n",
       "    <tr>\n",
       "      <th>45</th>\n",
       "      <td>1,979.00000</td>\n",
       "      <td>96.00000</td>\n",
       "      <td>9,000,000.00000</td>\n",
       "    </tr>\n",
       "    <tr>\n",
       "      <th>46</th>\n",
       "      <td>1,978.00000</td>\n",
       "      <td>92.00000</td>\n",
       "      <td>10,000,000.00000</td>\n",
       "    </tr>\n",
       "    <tr>\n",
       "      <th>47</th>\n",
       "      <td>1,977.00000</td>\n",
       "      <td>93.00000</td>\n",
       "      <td>4,000,000.00000</td>\n",
       "    </tr>\n",
       "    <tr>\n",
       "      <th>48</th>\n",
       "      <td>1,975.00000</td>\n",
       "      <td>85.00000</td>\n",
       "      <td>3,000,000.00000</td>\n",
       "    </tr>\n",
       "    <tr>\n",
       "      <th>49</th>\n",
       "      <td>1,973.00000</td>\n",
       "      <td>89.00000</td>\n",
       "      <td>2,000,000.00000</td>\n",
       "    </tr>\n",
       "    <tr>\n",
       "      <th>50</th>\n",
       "      <td>1,972.00000</td>\n",
       "      <td>88.00000</td>\n",
       "      <td>2,000,000.00000</td>\n",
       "    </tr>\n",
       "    <tr>\n",
       "      <th>52</th>\n",
       "      <td>1,971.00000</td>\n",
       "      <td>82.00000</td>\n",
       "      <td>2,000,000.00000</td>\n",
       "    </tr>\n",
       "  </tbody>\n",
       "</table>\n",
       "</div>"
      ],
      "text/plain": [
       "          year  duration           budget\n",
       "2  2,017.00000 101.00000 25,000,000.00000\n",
       "4  2,016.00000  96.00000 30,000,000.00000\n",
       "5  2,015.00000  95.00000 11,000,000.00000\n",
       "6  2,014.00000  97.00000 16,800,000.00000\n",
       "7  2,013.00000  98.00000 18,000,000.00000\n",
       "8  2,012.00000 112.00000 17,000,000.00000\n",
       "9  2,011.00000  94.00000 17,000,000.00000\n",
       "10 2,010.00000  98.00000 22,000,000.00000\n",
       "11 2,009.00000  93.00000 15,000,000.00000\n",
       "12 2,008.00000  96.00000 15,500,000.00000\n",
       "13 2,007.00000 108.00000 13,000,000.00000\n",
       "14 2,006.00000  96.00000  4,000,000.00000\n",
       "15 2,005.00000 124.00000 15,000,000.00000\n",
       "17 2,003.00000 108.00000 18,000,000.00000\n",
       "18 2,002.00000 112.00000 16,000,000.00000\n",
       "21 2,001.00000 103.00000 33,000,000.00000\n",
       "22 2,000.00000  94.00000 25,000,000.00000\n",
       "23 1,999.00000  95.00000 29,750,000.00000\n",
       "24 1,998.00000 113.00000 12,000,000.00000\n",
       "25 1,997.00000  96.00000 20,000,000.00000\n",
       "26 1,996.00000 101.00000 20,000,000.00000\n",
       "27 1,995.00000  95.00000 15,000,000.00000\n",
       "29 1,994.00000  98.00000 20,000,000.00000\n",
       "30 1,993.00000 104.00000 13,500,000.00000\n",
       "31 1,992.00000 108.00000 20,000,000.00000\n",
       "32 1,991.00000  85.00000 14,000,000.00000\n",
       "33 1,990.00000 106.00000 12,000,000.00000\n",
       "34 1,989.00000 104.00000 19,000,000.00000\n",
       "35 1,989.00000 124.00000 15,000,000.00000\n",
       "36 1,988.00000  81.00000 10,000,000.00000\n",
       "37 1,987.00000  83.00000 10,000,000.00000\n",
       "38 1,987.00000  88.00000 16,000,000.00000\n",
       "39 1,986.00000 107.00000  6,400,000.00000\n",
       "40 1,985.00000  82.00000 15,000,000.00000\n",
       "41 1,984.00000  84.00000  8,000,000.00000\n",
       "44 1,980.00000  89.00000 10,000,000.00000\n",
       "45 1,979.00000  96.00000  9,000,000.00000\n",
       "46 1,978.00000  92.00000 10,000,000.00000\n",
       "47 1,977.00000  93.00000  4,000,000.00000\n",
       "48 1,975.00000  85.00000  3,000,000.00000\n",
       "49 1,973.00000  89.00000  2,000,000.00000\n",
       "50 1,972.00000  88.00000  2,000,000.00000\n",
       "52 1,971.00000  82.00000  2,000,000.00000"
      ]
     },
     "execution_count": 93,
     "metadata": {},
     "output_type": "execute_result"
    }
   ],
   "source": [
    "X"
   ]
  },
  {
   "cell_type": "code",
   "execution_count": 94,
   "metadata": {},
   "outputs": [
    {
     "data": {
      "text/plain": [
       "False"
      ]
     },
     "execution_count": 94,
     "metadata": {},
     "output_type": "execute_result"
    }
   ],
   "source": [
    "y.isnull().values.any()"
   ]
  },
  {
   "cell_type": "code",
   "execution_count": 95,
   "metadata": {},
   "outputs": [],
   "source": [
    "X_train_val, X_test, y_train_val, y_test = train_test_split(X, y, test_size=0.2,random_state=42)"
   ]
  },
  {
   "cell_type": "code",
   "execution_count": 96,
   "metadata": {},
   "outputs": [],
   "source": [
    "# X_train_val"
   ]
  },
  {
   "cell_type": "markdown",
   "metadata": {},
   "source": [
    "## Preprocessing\n"
   ]
  },
  {
   "cell_type": "markdown",
   "metadata": {},
   "source": [
    "### Categorical Variable Preprocessing"
   ]
  },
  {
   "cell_type": "markdown",
   "metadata": {},
   "source": [
    "#### One-hot-encoding"
   ]
  },
  {
   "cell_type": "raw",
   "metadata": {},
   "source": [
    "cat_ohe_vars = ['cinematographer']\n",
    "X_train_val_cat_ohe = X_train_val[cat_ohe_vars]\n",
    "#X_train_cat_ohe "
   ]
  },
  {
   "cell_type": "raw",
   "metadata": {},
   "source": [
    "ohe = OneHotEncoder(sparse=False,  handle_unknown='ignore')\n",
    "ohe.fit(X_train_val_cat_ohe)\n",
    "cat_ohe = ohe.transform(X_train_val_cat_ohe)"
   ]
  },
  {
   "cell_type": "raw",
   "metadata": {},
   "source": [
    "columns=ohe.get_feature_names(cat_ohe_vars)\n",
    "columns"
   ]
  },
  {
   "cell_type": "raw",
   "metadata": {},
   "source": [
    "cat_ohe.shape[0]"
   ]
  },
  {
   "cell_type": "raw",
   "metadata": {},
   "source": [
    "X_train_val_cat_ohe.shape[0]"
   ]
  },
  {
   "cell_type": "raw",
   "metadata": {},
   "source": []
  },
  {
   "cell_type": "raw",
   "metadata": {},
   "source": [
    "X_train_val_cat_ohe_df = pd.DataFrame(cat_ohe, columns=columns, index=X_train_val_cat_ohe.index)\n",
    "X_train_val_cat_ohe_df.head()"
   ]
  },
  {
   "cell_type": "raw",
   "metadata": {},
   "source": [
    "X_test_cat_ohe = X_test[['cinematographer']]\n",
    "X_test_cat_ohe\n",
    "cat_ohe_test = ohe.transform(X_test_cat_ohe)\n",
    "\n",
    "cat_ohe_columns = ohe.get_feature_names(['cinematographer'])\n",
    "X_test_cat_ohe_df = pd.DataFrame(cat_ohe_test, columns=cat_ohe_columns)\n"
   ]
  },
  {
   "cell_type": "markdown",
   "metadata": {},
   "source": [
    "### Continuous Variable Preprocessing"
   ]
  },
  {
   "cell_type": "code",
   "execution_count": 97,
   "metadata": {},
   "outputs": [
    {
     "data": {
      "text/html": [
       "<div>\n",
       "<style scoped>\n",
       "    .dataframe tbody tr th:only-of-type {\n",
       "        vertical-align: middle;\n",
       "    }\n",
       "\n",
       "    .dataframe tbody tr th {\n",
       "        vertical-align: top;\n",
       "    }\n",
       "\n",
       "    .dataframe thead th {\n",
       "        text-align: right;\n",
       "    }\n",
       "</style>\n",
       "<table border=\"1\" class=\"dataframe\">\n",
       "  <thead>\n",
       "    <tr style=\"text-align: right;\">\n",
       "      <th></th>\n",
       "      <th>year</th>\n",
       "      <th>duration</th>\n",
       "      <th>budget</th>\n",
       "    </tr>\n",
       "  </thead>\n",
       "  <tbody>\n",
       "    <tr>\n",
       "      <th>6</th>\n",
       "      <td>2,014.00000</td>\n",
       "      <td>97.00000</td>\n",
       "      <td>16,800,000.00000</td>\n",
       "    </tr>\n",
       "    <tr>\n",
       "      <th>9</th>\n",
       "      <td>2,011.00000</td>\n",
       "      <td>94.00000</td>\n",
       "      <td>17,000,000.00000</td>\n",
       "    </tr>\n",
       "    <tr>\n",
       "      <th>34</th>\n",
       "      <td>1,989.00000</td>\n",
       "      <td>104.00000</td>\n",
       "      <td>19,000,000.00000</td>\n",
       "    </tr>\n",
       "    <tr>\n",
       "      <th>38</th>\n",
       "      <td>1,987.00000</td>\n",
       "      <td>88.00000</td>\n",
       "      <td>16,000,000.00000</td>\n",
       "    </tr>\n",
       "    <tr>\n",
       "      <th>25</th>\n",
       "      <td>1,997.00000</td>\n",
       "      <td>96.00000</td>\n",
       "      <td>20,000,000.00000</td>\n",
       "    </tr>\n",
       "  </tbody>\n",
       "</table>\n",
       "</div>"
      ],
      "text/plain": [
       "          year  duration           budget\n",
       "6  2,014.00000  97.00000 16,800,000.00000\n",
       "9  2,011.00000  94.00000 17,000,000.00000\n",
       "34 1,989.00000 104.00000 19,000,000.00000\n",
       "38 1,987.00000  88.00000 16,000,000.00000\n",
       "25 1,997.00000  96.00000 20,000,000.00000"
      ]
     },
     "execution_count": 97,
     "metadata": {},
     "output_type": "execute_result"
    }
   ],
   "source": [
    "cont_column_names = ['year', 'duration', 'budget']\n",
    "X_train_val_cont = X_train_val[cont_column_names ]\n",
    "\n",
    "X_test_cont      = X_test[     cont_column_names ]\n",
    "\n",
    "\n",
    "X_train_val_cont.head()"
   ]
  },
  {
   "cell_type": "code",
   "execution_count": 98,
   "metadata": {},
   "outputs": [],
   "source": [
    "X_train_val_cont['log_year']         = np.log(X_train_val_cont.year)\n",
    "X_train_val_cont['log_budget']         = np.log(X_train_val_cont.budget)\n",
    "X_train_val_cont['budget_sq'] = X_train_val_cont.budget**2\n",
    "#X_train_val_cont['budget_per_year'] = X_train_val_cont.budget/X_train_val_cont.year\n",
    "\n",
    "\n",
    "X_test_cont['log_year']         = np.log(X_test_cont.year)\n",
    "X_test_cont['log_budget']         = np.log(X_test_cont.budget)\n",
    "X_test_cont['budget_sq']  =  X_test_cont.budget**2\n",
    "#X_test_cont['budget_per_year']  =   X_test_cont.budget/X_test_cont.year"
   ]
  },
  {
   "cell_type": "code",
   "execution_count": 99,
   "metadata": {},
   "outputs": [
    {
     "data": {
      "text/plain": [
       "9"
      ]
     },
     "execution_count": 99,
     "metadata": {},
     "output_type": "execute_result"
    }
   ],
   "source": [
    "X_test_cont.shape[0]"
   ]
  },
  {
   "cell_type": "markdown",
   "metadata": {},
   "source": [
    "#### Concatenate columns"
   ]
  },
  {
   "cell_type": "raw",
   "metadata": {},
   "source": [
    "cat_columns = ['documentary', 'tv_series', *prevalent_actor_columns]\n",
    "X_train_val_cat_df = X_train_val[cat_columns]\n",
    "#X_train_val_cat_df\n",
    "\n",
    "X_test_cat_df = X_test[cat_columns]\n",
    "#X_train_val_cat_df"
   ]
  },
  {
   "cell_type": "raw",
   "metadata": {},
   "source": [
    "X_test_cat_df.isnull().values.any()"
   ]
  },
  {
   "cell_type": "raw",
   "metadata": {},
   "source": [
    "X_train_val_combo= pd.concat([X_train_val_cont, X_train_val_cat_ohe_df, X_train_val_cat_df, ], axis='columns')\n",
    "X_test_combo = pd.concat([X_test_cont.reset_index(drop=True), X_test_cat_ohe_df.reset_index(drop=True), X_test_cat_df.reset_index(drop=True), ], axis='columns')"
   ]
  },
  {
   "cell_type": "raw",
   "metadata": {},
   "source": [
    "X_test_cat_df.shape"
   ]
  },
  {
   "cell_type": "raw",
   "metadata": {},
   "source": [
    "X_train_val_combo.isnull().values.any()"
   ]
  },
  {
   "cell_type": "raw",
   "metadata": {},
   "source": [
    "X_test_combo.isnull().values.any()"
   ]
  },
  {
   "cell_type": "raw",
   "metadata": {},
   "source": [
    "X_test_combo"
   ]
  },
  {
   "cell_type": "code",
   "execution_count": 100,
   "metadata": {},
   "outputs": [],
   "source": [
    "X_train_val_combo = X_train_val_cont"
   ]
  },
  {
   "cell_type": "code",
   "execution_count": 101,
   "metadata": {},
   "outputs": [],
   "source": [
    "X_test_combo = X_test_cont"
   ]
  },
  {
   "cell_type": "code",
   "execution_count": 102,
   "metadata": {},
   "outputs": [
    {
     "data": {
      "text/plain": [
       "Index(['year', 'duration', 'budget', 'log_year', 'log_budget', 'budget_sq'], dtype='object')"
      ]
     },
     "execution_count": 102,
     "metadata": {},
     "output_type": "execute_result"
    }
   ],
   "source": [
    "selected_columns = X_train_val_combo.columns\n",
    "X_train_val_combo.columns"
   ]
  },
  {
   "cell_type": "markdown",
   "metadata": {},
   "source": [
    "### Train vs. val split\n",
    "\n"
   ]
  },
  {
   "cell_type": "code",
   "execution_count": 103,
   "metadata": {},
   "outputs": [],
   "source": [
    "X_train, X_val, y_train, y_val = train_test_split(X_train_val_combo, y_train_val, test_size=.25, random_state=43) #43"
   ]
  },
  {
   "cell_type": "code",
   "execution_count": null,
   "metadata": {},
   "outputs": [],
   "source": []
  },
  {
   "cell_type": "markdown",
   "metadata": {},
   "source": [
    "### Lasso CV"
   ]
  },
  {
   "cell_type": "code",
   "execution_count": 104,
   "metadata": {},
   "outputs": [
    {
     "data": {
      "text/plain": [
       "StandardScaler()"
      ]
     },
     "execution_count": 104,
     "metadata": {},
     "output_type": "execute_result"
    }
   ],
   "source": [
    "## Scale the data as before\n",
    "std = StandardScaler()\n",
    "std.fit(X_train_val_combo.values)"
   ]
  },
  {
   "cell_type": "code",
   "execution_count": 105,
   "metadata": {},
   "outputs": [],
   "source": [
    "## Scale the Predictors on both the train and test set\n",
    "X_tr = std.transform(X_train_val_combo.values)\n",
    "X_te = std.transform(X_test_combo.values)"
   ]
  },
  {
   "cell_type": "code",
   "execution_count": 106,
   "metadata": {},
   "outputs": [
    {
     "data": {
      "text/plain": [
       "LassoCV(alphas=array([1.00000000e-02, 1.04737090e-02, 1.09698580e-02, 1.14895100e-02,\n",
       "       1.20337784e-02, 1.26038293e-02, 1.32008840e-02, 1.38262217e-02,\n",
       "       1.44811823e-02, 1.51671689e-02, 1.58856513e-02, 1.66381689e-02,\n",
       "       1.74263339e-02, 1.82518349e-02, 1.91164408e-02, 2.00220037e-02,\n",
       "       2.09704640e-02, 2.19638537e-02, 2.30043012e-02, 2.40940356e-02,\n",
       "       2.52353917e-02, 2.64308149e-0...\n",
       "       3.44896226e+01, 3.61234270e+01, 3.78346262e+01, 3.96268864e+01,\n",
       "       4.15040476e+01, 4.34701316e+01, 4.55293507e+01, 4.76861170e+01,\n",
       "       4.99450512e+01, 5.23109931e+01, 5.47890118e+01, 5.73844165e+01,\n",
       "       6.01027678e+01, 6.29498899e+01, 6.59318827e+01, 6.90551352e+01,\n",
       "       7.23263390e+01, 7.57525026e+01, 7.93409667e+01, 8.30994195e+01,\n",
       "       8.70359136e+01, 9.11588830e+01, 9.54771611e+01, 1.00000000e+02]),\n",
       "        cv=5)"
      ]
     },
     "execution_count": 106,
     "metadata": {},
     "output_type": "execute_result"
    }
   ],
   "source": [
    "# Run the cross validation, find the best alpha, refit the model on all the data with that alpha\n",
    "\n",
    "alphavec = 10**np.linspace(-2,2,200)\n",
    "\n",
    "lasso_model = LassoCV(alphas = alphavec, cv=5)\n",
    "lasso_model.fit(X_tr, y_train_val)"
   ]
  },
  {
   "cell_type": "code",
   "execution_count": 107,
   "metadata": {},
   "outputs": [
    {
     "data": {
      "text/plain": [
       "0.07663410868007459"
      ]
     },
     "execution_count": 107,
     "metadata": {},
     "output_type": "execute_result"
    }
   ],
   "source": [
    "# This is the best alpha value it found \n",
    "lasso_model.alpha_"
   ]
  },
  {
   "cell_type": "code",
   "execution_count": 108,
   "metadata": {},
   "outputs": [
    {
     "data": {
      "text/plain": [
       "[('year', -0.1562011409593159),\n",
       " ('duration', -0.06232945344469144),\n",
       " ('budget', -0.0),\n",
       " ('log_year', -0.0),\n",
       " ('log_budget', 0.0),\n",
       " ('budget_sq', -0.0)]"
      ]
     },
     "execution_count": 108,
     "metadata": {},
     "output_type": "execute_result"
    }
   ],
   "source": [
    "# These are the (standardized) coefficients found\n",
    "# when it refit using that best alpha\n",
    "coefficients = list(zip(X_train_val_combo.columns, lasso_model.coef_))\n",
    "coefficients"
   ]
  },
  {
   "cell_type": "code",
   "execution_count": 109,
   "metadata": {},
   "outputs": [],
   "source": [
    "# Make predictions on the test set using the new model\n",
    "test_set_pred = lasso_model.predict(X_te)"
   ]
  },
  {
   "cell_type": "code",
   "execution_count": 110,
   "metadata": {},
   "outputs": [
    {
     "data": {
      "text/plain": [
       "0.47371506811691433"
      ]
     },
     "execution_count": 110,
     "metadata": {},
     "output_type": "execute_result"
    }
   ],
   "source": [
    "# Find the MAE and R^2 on the test set using this model\n",
    "mean_absolute_error = mae(y_test, test_set_pred)\n",
    "mean_absolute_error"
   ]
  },
  {
   "cell_type": "code",
   "execution_count": 111,
   "metadata": {},
   "outputs": [
    {
     "data": {
      "text/plain": [
       "-1.550315901191622"
      ]
     },
     "execution_count": 111,
     "metadata": {},
     "output_type": "execute_result"
    }
   ],
   "source": [
    "r2_score_ = r2_score(y_test, test_set_pred)\n",
    "r2_score_ "
   ]
  },
  {
   "cell_type": "code",
   "execution_count": 112,
   "metadata": {},
   "outputs": [
    {
     "data": {
      "text/plain": [
       "[<matplotlib.lines.Line2D at 0x7ff6f83bcc70>]"
      ]
     },
     "execution_count": 112,
     "metadata": {},
     "output_type": "execute_result"
    },
    {
     "data": {
      "image/png": "[encoded data removed]",
      "text/plain": [
       "<Figure size 432x288 with 1 Axes>"
      ]
     },
     "metadata": {
      "needs_background": "light"
     },
     "output_type": "display_data"
    }
   ],
   "source": [
    "plt.scatter( test_set_pred, y_test)\n",
    "plt.plot( y_test, y_test, c='k')"
   ]
  },
  {
   "cell_type": "code",
   "execution_count": 113,
   "metadata": {},
   "outputs": [
    {
     "data": {
      "text/plain": [
       "<matplotlib.collections.PathCollection at 0x7ff688a721c0>"
      ]
     },
     "execution_count": 113,
     "metadata": {},
     "output_type": "execute_result"
    },
    {
     "data": {
      "image/png": "[encoded data removed]",
      "text/plain": [
       "<Figure size 432x288 with 1 Axes>"
      ]
     },
     "metadata": {
      "needs_background": "light"
     },
     "output_type": "display_data"
    }
   ],
   "source": [
    "residual = y_test-test_set_pred\n",
    "plt.scatter( test_set_pred, residual)"
   ]
  },
  {
   "cell_type": "code",
   "execution_count": 114,
   "metadata": {},
   "outputs": [],
   "source": [
    "pd.options.display.float_format = \"{:,.5f}\".format\n",
    "\n"
   ]
  },
  {
   "cell_type": "code",
   "execution_count": 115,
   "metadata": {},
   "outputs": [
    {
     "data": {
      "text/html": [
       "<div>\n",
       "<style scoped>\n",
       "    .dataframe tbody tr th:only-of-type {\n",
       "        vertical-align: middle;\n",
       "    }\n",
       "\n",
       "    .dataframe tbody tr th {\n",
       "        vertical-align: top;\n",
       "    }\n",
       "\n",
       "    .dataframe thead th {\n",
       "        text-align: right;\n",
       "    }\n",
       "</style>\n",
       "<table border=\"1\" class=\"dataframe\">\n",
       "  <thead>\n",
       "    <tr style=\"text-align: right;\">\n",
       "      <th></th>\n",
       "      <th>Feature</th>\n",
       "      <th>Coefficient</th>\n",
       "    </tr>\n",
       "  </thead>\n",
       "  <tbody>\n",
       "    <tr>\n",
       "      <th>0</th>\n",
       "      <td>year</td>\n",
       "      <td>-0.15620</td>\n",
       "    </tr>\n",
       "    <tr>\n",
       "      <th>1</th>\n",
       "      <td>duration</td>\n",
       "      <td>-0.06233</td>\n",
       "    </tr>\n",
       "    <tr>\n",
       "      <th>2</th>\n",
       "      <td>budget</td>\n",
       "      <td>-0.00000</td>\n",
       "    </tr>\n",
       "    <tr>\n",
       "      <th>3</th>\n",
       "      <td>log_year</td>\n",
       "      <td>-0.00000</td>\n",
       "    </tr>\n",
       "    <tr>\n",
       "      <th>4</th>\n",
       "      <td>log_budget</td>\n",
       "      <td>0.00000</td>\n",
       "    </tr>\n",
       "    <tr>\n",
       "      <th>5</th>\n",
       "      <td>budget_sq</td>\n",
       "      <td>-0.00000</td>\n",
       "    </tr>\n",
       "  </tbody>\n",
       "</table>\n",
       "</div>"
      ],
      "text/plain": [
       "      Feature  Coefficient\n",
       "0        year     -0.15620\n",
       "1    duration     -0.06233\n",
       "2      budget     -0.00000\n",
       "3    log_year     -0.00000\n",
       "4  log_budget      0.00000\n",
       "5   budget_sq     -0.00000"
      ]
     },
     "execution_count": 115,
     "metadata": {},
     "output_type": "execute_result"
    }
   ],
   "source": [
    "coefficients_df  = pd.DataFrame(coefficients, columns=['Feature', 'Coefficient'])\n",
    "coefficients_df['abs_val_of_coefficient'] = coefficients_df.Coefficient.abs()\n",
    "coefficients_df.sort_values(by='abs_val_of_coefficient', ascending=False, inplace=True)\n",
    "\n",
    "coefficients_df.drop(columns='abs_val_of_coefficient', inplace=True)\n",
    "coefficients_df.head(10)\n",
    "#print(coefficients_df.head(10))"
   ]
  },
  {
   "cell_type": "code",
   "execution_count": 116,
   "metadata": {},
   "outputs": [
    {
     "data": {
      "text/plain": [
       "{'r2_score': <function sklearn.metrics._regression.r2_score(y_true, y_pred, *, sample_weight=None, multioutput='uniform_average')>,\n",
       " 'mean absolute error': 0.47371506811691433,\n",
       " 'coefficients':       Feature  Coefficient\n",
       " 0        year     -0.15620\n",
       " 1    duration     -0.06233\n",
       " 2      budget     -0.00000\n",
       " 3    log_year     -0.00000\n",
       " 4  log_budget      0.00000\n",
       " 5   budget_sq     -0.00000}"
      ]
     },
     "execution_count": 116,
     "metadata": {},
     "output_type": "execute_result"
    }
   ],
   "source": [
    "Lasso_CV_model_w_budget = {\"r2_score\": r2_score, 'mean absolute error': mean_absolute_error, 'coefficients': coefficients_df}\n",
    "Lasso_CV_model_w_budget "
   ]
  },
  {
   "cell_type": "code",
   "execution_count": 117,
   "metadata": {},
   "outputs": [],
   "source": [
    "LCVM_w_budget_filename = 'Lasso_CV_model_w_budget_' + director +'.pickle'\n",
    "with open(dir_str + LCVM_w_budget_filename, 'wb') as to_write:\n",
    "    pickle.dump(Lasso_CV_model_w_budget, to_write)"
   ]
  },
  {
   "cell_type": "markdown",
   "metadata": {},
   "source": [
    "### Ridge regression"
   ]
  },
  {
   "cell_type": "code",
   "execution_count": 118,
   "metadata": {},
   "outputs": [
    {
     "data": {
      "text/plain": [
       "26.126752255633292"
      ]
     },
     "execution_count": 118,
     "metadata": {},
     "output_type": "execute_result"
    }
   ],
   "source": [
    "# Run the cross validation, find the best alpha, refit the model on all the data with that alpha\n",
    "\n",
    "alphavec = 10**np.linspace(-2,2,200)\n",
    "\n",
    "ridge_model = RidgeCV(alphas = alphavec, cv=5)\n",
    "ridge_model.fit(X_tr, y_train_val)\n",
    "\n",
    "# This is the best alpha value it found \n",
    "ridge_model.alpha_"
   ]
  },
  {
   "cell_type": "code",
   "execution_count": 119,
   "metadata": {},
   "outputs": [],
   "source": [
    "# These are the (standardized) coefficients found\n",
    "# when it refit using that best alpha\n",
    "coefficients = list(zip(X_train.columns, ridge_model.coef_))\n"
   ]
  },
  {
   "cell_type": "code",
   "execution_count": 120,
   "metadata": {},
   "outputs": [],
   "source": [
    "# Make predictions on the test set using the new model\n",
    "test_set_pred = ridge_model.predict(X_te)"
   ]
  },
  {
   "cell_type": "code",
   "execution_count": 121,
   "metadata": {},
   "outputs": [
    {
     "data": {
      "text/plain": [
       "0.4713224564537548"
      ]
     },
     "execution_count": 121,
     "metadata": {},
     "output_type": "execute_result"
    }
   ],
   "source": [
    "# Find the MAE and R^2 on the test set using this model\n",
    "mean_absolute_error = mae(y_test, test_set_pred)\n",
    "mean_absolute_error"
   ]
  },
  {
   "cell_type": "code",
   "execution_count": 122,
   "metadata": {},
   "outputs": [
    {
     "data": {
      "text/plain": [
       "-1.603904971874171"
      ]
     },
     "execution_count": 122,
     "metadata": {},
     "output_type": "execute_result"
    }
   ],
   "source": [
    "r2_score_ = r2_score(y_test, test_set_pred)\n",
    "r2_score_ "
   ]
  },
  {
   "cell_type": "code",
   "execution_count": 123,
   "metadata": {},
   "outputs": [
    {
     "data": {
      "text/plain": [
       "[<matplotlib.lines.Line2D at 0x7ff6d95b5b20>]"
      ]
     },
     "execution_count": 123,
     "metadata": {},
     "output_type": "execute_result"
    },
    {
     "data": {
      "image/png": "[encoded data removed]",
      "text/plain": [
       "<Figure size 432x288 with 1 Axes>"
      ]
     },
     "metadata": {
      "needs_background": "light"
     },
     "output_type": "display_data"
    }
   ],
   "source": [
    "\n",
    "plt.scatter( test_set_pred, y_test)\n",
    "plt.plot( y_test, y_test, c='k')"
   ]
  },
  {
   "cell_type": "code",
   "execution_count": null,
   "metadata": {},
   "outputs": [],
   "source": []
  },
  {
   "cell_type": "code",
   "execution_count": 124,
   "metadata": {},
   "outputs": [
    {
     "data": {
      "text/plain": [
       "<matplotlib.collections.PathCollection at 0x7ff6983865b0>"
      ]
     },
     "execution_count": 124,
     "metadata": {},
     "output_type": "execute_result"
    },
    {
     "data": {
      "image/png": "[encoded data removed]",
      "text/plain": [
       "<Figure size 432x288 with 1 Axes>"
      ]
     },
     "metadata": {
      "needs_background": "light"
     },
     "output_type": "display_data"
    }
   ],
   "source": [
    "residual = y_test-test_set_pred\n",
    "plt.scatter( test_set_pred, residual)"
   ]
  },
  {
   "cell_type": "code",
   "execution_count": null,
   "metadata": {},
   "outputs": [],
   "source": []
  },
  {
   "cell_type": "code",
   "execution_count": 125,
   "metadata": {},
   "outputs": [
    {
     "data": {
      "text/html": [
       "<div>\n",
       "<style scoped>\n",
       "    .dataframe tbody tr th:only-of-type {\n",
       "        vertical-align: middle;\n",
       "    }\n",
       "\n",
       "    .dataframe tbody tr th {\n",
       "        vertical-align: top;\n",
       "    }\n",
       "\n",
       "    .dataframe thead th {\n",
       "        text-align: right;\n",
       "    }\n",
       "</style>\n",
       "<table border=\"1\" class=\"dataframe\">\n",
       "  <thead>\n",
       "    <tr style=\"text-align: right;\">\n",
       "      <th></th>\n",
       "      <th>Feature</th>\n",
       "      <th>Coefficient</th>\n",
       "    </tr>\n",
       "  </thead>\n",
       "  <tbody>\n",
       "    <tr>\n",
       "      <th>0</th>\n",
       "      <td>year</td>\n",
       "      <td>-0.08601</td>\n",
       "    </tr>\n",
       "    <tr>\n",
       "      <th>3</th>\n",
       "      <td>log_year</td>\n",
       "      <td>-0.08560</td>\n",
       "    </tr>\n",
       "    <tr>\n",
       "      <th>1</th>\n",
       "      <td>duration</td>\n",
       "      <td>-0.07978</td>\n",
       "    </tr>\n",
       "    <tr>\n",
       "      <th>4</th>\n",
       "      <td>log_budget</td>\n",
       "      <td>0.03186</td>\n",
       "    </tr>\n",
       "    <tr>\n",
       "      <th>5</th>\n",
       "      <td>budget_sq</td>\n",
       "      <td>-0.01784</td>\n",
       "    </tr>\n",
       "    <tr>\n",
       "      <th>2</th>\n",
       "      <td>budget</td>\n",
       "      <td>-0.00168</td>\n",
       "    </tr>\n",
       "  </tbody>\n",
       "</table>\n",
       "</div>"
      ],
      "text/plain": [
       "      Feature  Coefficient\n",
       "0        year     -0.08601\n",
       "3    log_year     -0.08560\n",
       "1    duration     -0.07978\n",
       "4  log_budget      0.03186\n",
       "5   budget_sq     -0.01784\n",
       "2      budget     -0.00168"
      ]
     },
     "execution_count": 125,
     "metadata": {},
     "output_type": "execute_result"
    }
   ],
   "source": [
    "coefficients_df  = pd.DataFrame(coefficients, columns=['Feature', 'Coefficient'])\n",
    "coefficients_df['abs_val_of_coefficient'] = coefficients_df.Coefficient.abs()\n",
    "coefficients_df.sort_values(by='abs_val_of_coefficient', ascending=False, inplace=True)\n",
    "\n",
    "coefficients_df.drop(columns='abs_val_of_coefficient', inplace=True)\n",
    "coefficients_df.head(10)"
   ]
  },
  {
   "cell_type": "code",
   "execution_count": 126,
   "metadata": {},
   "outputs": [
    {
     "data": {
      "text/plain": [
       "{'r2_score': <function sklearn.metrics._regression.r2_score(y_true, y_pred, *, sample_weight=None, multioutput='uniform_average')>,\n",
       " 'mean absolute error': 0.4713224564537548,\n",
       " 'coefficients':       Feature  Coefficient\n",
       " 0        year     -0.08601\n",
       " 3    log_year     -0.08560\n",
       " 1    duration     -0.07978\n",
       " 4  log_budget      0.03186\n",
       " 5   budget_sq     -0.01784\n",
       " 2      budget     -0.00168}"
      ]
     },
     "execution_count": 126,
     "metadata": {},
     "output_type": "execute_result"
    }
   ],
   "source": [
    "Ridge_CV_model_w_budget = {\"r2_score\": r2_score, 'mean absolute error': mean_absolute_error, 'coefficients': coefficients_df}\n",
    "Ridge_CV_model_w_budget "
   ]
  },
  {
   "cell_type": "code",
   "execution_count": 127,
   "metadata": {},
   "outputs": [],
   "source": [
    "RCVM_w_budget_filename = 'Ridge_CV_model_w_budget_' + director +'.pickle'\n",
    "with open(dir_str + RCVM_w_budget_filename, 'wb') as to_write:\n",
    "    pickle.dump(Ridge_CV_model_w_budget, to_write)"
   ]
  },
  {
   "cell_type": "code",
   "execution_count": null,
   "metadata": {},
   "outputs": [],
   "source": []
  },
  {
   "cell_type": "code",
   "execution_count": null,
   "metadata": {},
   "outputs": [],
   "source": []
  }
 ],
 "metadata": {
  "kernelspec": {
   "display_name": "Python [conda env:metis] *",
   "language": "python",
   "name": "conda-env-metis-py"
  },
  "language_info": {
   "codemirror_mode": {
    "name": "ipython",
    "version": 3
   },
   "file_extension": ".py",
   "mimetype": "text/x-python",
   "name": "python",
   "nbconvert_exporter": "python",
   "pygments_lexer": "ipython3",
   "version": "3.8.6"
  }
 },
 "nbformat": 4,
 "nbformat_minor": 2
}
