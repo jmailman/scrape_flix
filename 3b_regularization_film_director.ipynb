{
 "cells": [
  {
   "cell_type": "code",
   "execution_count": null,
   "metadata": {},
   "outputs": [],
   "source": []
  },
  {
   "cell_type": "markdown",
   "metadata": {},
   "source": [
    "# Lasso and Ridge Linear Regression with Cross-validation"
   ]
  },
  {
   "cell_type": "markdown",
   "metadata": {},
   "source": [
    "#### This notebook has four main sections"
   ]
  },
  {
   "cell_type": "markdown",
   "metadata": {},
   "source": [
    "## A. Imports, data shaping, and preprocessing\n",
    "\n",
    "## B. Lasso CV regression on all features\n",
    "\n",
    "## C. Lasso and Ridge regression on all features except `rating count`\n",
    "\n",
    "## D. Lasso and Ridge regression on all features except `rating count` but with also `budget` added as a feature"
   ]
  },
  {
   "cell_type": "code",
   "execution_count": null,
   "metadata": {},
   "outputs": [],
   "source": []
  },
  {
   "cell_type": "markdown",
   "metadata": {},
   "source": [
    "# A. Imports and data shaping"
   ]
  },
  {
   "cell_type": "code",
   "execution_count": 281,
   "metadata": {},
   "outputs": [],
   "source": [
    "import pandas as pd\n",
    "import numpy as np\n",
    "import re\n",
    "import math\n",
    "import seaborn as sns\n",
    "from matplotlib import pyplot as plt\n",
    "from collections import defaultdict\n",
    "#from IPython.core.display import display, HTML\n",
    "import pickle\n",
    "import copy\n",
    "#from sklearn.preprocessing import OneHotEncoder\n",
    "#from sklearn.model_selection import train_test_split\n",
    "#display(HTML(my_html))     # make sure Jupyter knows to display it as HTML\n",
    "\n",
    "from sklearn.model_selection import train_test_split\n",
    "from sklearn.linear_model import LinearRegression, Lasso, LassoCV, Ridge, RidgeCV\n",
    "from sklearn.metrics import mean_squared_error\n",
    "from sklearn.preprocessing import  StandardScaler, PolynomialFeatures, OneHotEncoder\n",
    "from sklearn.pipeline import Pipeline\n",
    "from sklearn.metrics import r2_score"
   ]
  },
  {
   "cell_type": "code",
   "execution_count": 282,
   "metadata": {},
   "outputs": [],
   "source": [
    "pd.options.display.float_format = \"{:,.5f}\".format"
   ]
  },
  {
   "cell_type": "code",
   "execution_count": 283,
   "metadata": {},
   "outputs": [],
   "source": [
    "#director = 'godard'\n",
    "#director = 'hitchcock'\n",
    "#director = 'bergman'\n",
    "#director = 'fassbinder'\n",
    "#director = 'herzog'\n",
    "#director = 'allen'\n",
    "director='fassbinder'"
   ]
  },
  {
   "cell_type": "code",
   "execution_count": 284,
   "metadata": {},
   "outputs": [],
   "source": [
    "\n",
    "dir_str = director + '/'\n",
    "\n",
    "films_filename = 'films_to_analyze_' + director\n",
    "with open(dir_str + films_filename, 'rb') as read_file:\n",
    "    films_to_analyze = pickle.load(read_file)"
   ]
  },
  {
   "cell_type": "code",
   "execution_count": 285,
   "metadata": {},
   "outputs": [
    {
     "data": {
      "text/html": [
       "<div>\n",
       "<style scoped>\n",
       "    .dataframe tbody tr th:only-of-type {\n",
       "        vertical-align: middle;\n",
       "    }\n",
       "\n",
       "    .dataframe tbody tr th {\n",
       "        vertical-align: top;\n",
       "    }\n",
       "\n",
       "    .dataframe thead th {\n",
       "        text-align: right;\n",
       "    }\n",
       "</style>\n",
       "<table border=\"1\" class=\"dataframe\">\n",
       "  <thead>\n",
       "    <tr style=\"text-align: right;\">\n",
       "      <th></th>\n",
       "      <th>title</th>\n",
       "      <th>year</th>\n",
       "      <th>release_date</th>\n",
       "      <th>duration</th>\n",
       "      <th>runtime</th>\n",
       "      <th>budget</th>\n",
       "      <th>worldwide_gross</th>\n",
       "      <th>worldwide_gross_imdb</th>\n",
       "      <th>worldwide_gross_bo</th>\n",
       "      <th>rating</th>\n",
       "      <th>...</th>\n",
       "      <th>Christa Berndl</th>\n",
       "      <th>Anne-Marie Kuster</th>\n",
       "      <th>Heide Grübl</th>\n",
       "      <th>Andrea Grosske</th>\n",
       "      <th>Anna Karina</th>\n",
       "      <th>Macha Méril</th>\n",
       "      <th>Helen Vita</th>\n",
       "      <th>Heli Finkenzeller</th>\n",
       "      <th>Elke Aberle</th>\n",
       "      <th>Thomas Fengler</th>\n",
       "    </tr>\n",
       "  </thead>\n",
       "  <tbody>\n",
       "    <tr>\n",
       "      <th>0</th>\n",
       "      <td>Querelle</td>\n",
       "      <td>1,982.00000</td>\n",
       "      <td>8 September 1982 (France)</td>\n",
       "      <td>108.00000</td>\n",
       "      <td>108.00000</td>\n",
       "      <td>4,400,000.00000</td>\n",
       "      <td>NaN</td>\n",
       "      <td>NaN</td>\n",
       "      <td>NaN</td>\n",
       "      <td>6.80000</td>\n",
       "      <td>...</td>\n",
       "      <td>0.00000</td>\n",
       "      <td>0.00000</td>\n",
       "      <td>0.00000</td>\n",
       "      <td>0.00000</td>\n",
       "      <td>0.00000</td>\n",
       "      <td>0.00000</td>\n",
       "      <td>0.00000</td>\n",
       "      <td>0.00000</td>\n",
       "      <td>0.00000</td>\n",
       "      <td>0.00000</td>\n",
       "    </tr>\n",
       "    <tr>\n",
       "      <th>1</th>\n",
       "      <td>Veronika Voss</td>\n",
       "      <td>1,982.00000</td>\n",
       "      <td>13 May 1982 (Netherlands)</td>\n",
       "      <td>104.00000</td>\n",
       "      <td>104.00000</td>\n",
       "      <td>2,600,000.00000</td>\n",
       "      <td>8,144.00000</td>\n",
       "      <td>8,144.00000</td>\n",
       "      <td>NaN</td>\n",
       "      <td>7.80000</td>\n",
       "      <td>...</td>\n",
       "      <td>0.00000</td>\n",
       "      <td>0.00000</td>\n",
       "      <td>0.00000</td>\n",
       "      <td>0.00000</td>\n",
       "      <td>0.00000</td>\n",
       "      <td>0.00000</td>\n",
       "      <td>0.00000</td>\n",
       "      <td>0.00000</td>\n",
       "      <td>0.00000</td>\n",
       "      <td>0.00000</td>\n",
       "    </tr>\n",
       "    <tr>\n",
       "      <th>2</th>\n",
       "      <td>Lola</td>\n",
       "      <td>1,981.00000</td>\n",
       "      <td>4 August 1982 (USA)</td>\n",
       "      <td>115.00000</td>\n",
       "      <td>115.00000</td>\n",
       "      <td>3,500,000.00000</td>\n",
       "      <td>8,144.00000</td>\n",
       "      <td>8,144.00000</td>\n",
       "      <td>NaN</td>\n",
       "      <td>7.50000</td>\n",
       "      <td>...</td>\n",
       "      <td>0.00000</td>\n",
       "      <td>0.00000</td>\n",
       "      <td>0.00000</td>\n",
       "      <td>0.00000</td>\n",
       "      <td>0.00000</td>\n",
       "      <td>0.00000</td>\n",
       "      <td>0.00000</td>\n",
       "      <td>0.00000</td>\n",
       "      <td>0.00000</td>\n",
       "      <td>0.00000</td>\n",
       "    </tr>\n",
       "    <tr>\n",
       "      <th>3</th>\n",
       "      <td>Theater in Trance</td>\n",
       "      <td>1,981.00000</td>\n",
       "      <td>13 August 1984 (Denmark)</td>\n",
       "      <td>91.00000</td>\n",
       "      <td>91.00000</td>\n",
       "      <td>220,000.00000</td>\n",
       "      <td>NaN</td>\n",
       "      <td>NaN</td>\n",
       "      <td>NaN</td>\n",
       "      <td>7.10000</td>\n",
       "      <td>...</td>\n",
       "      <td>0.00000</td>\n",
       "      <td>0.00000</td>\n",
       "      <td>0.00000</td>\n",
       "      <td>0.00000</td>\n",
       "      <td>0.00000</td>\n",
       "      <td>0.00000</td>\n",
       "      <td>0.00000</td>\n",
       "      <td>0.00000</td>\n",
       "      <td>0.00000</td>\n",
       "      <td>0.00000</td>\n",
       "    </tr>\n",
       "    <tr>\n",
       "      <th>4</th>\n",
       "      <td>Lili Marleen</td>\n",
       "      <td>1,981.00000</td>\n",
       "      <td>14 January 1981 (West Germany)</td>\n",
       "      <td>120.00000</td>\n",
       "      <td>120.00000</td>\n",
       "      <td>10,500,000.00000</td>\n",
       "      <td>8,144.00000</td>\n",
       "      <td>8,144.00000</td>\n",
       "      <td>NaN</td>\n",
       "      <td>7.10000</td>\n",
       "      <td>...</td>\n",
       "      <td>0.00000</td>\n",
       "      <td>0.00000</td>\n",
       "      <td>0.00000</td>\n",
       "      <td>0.00000</td>\n",
       "      <td>0.00000</td>\n",
       "      <td>0.00000</td>\n",
       "      <td>0.00000</td>\n",
       "      <td>0.00000</td>\n",
       "      <td>0.00000</td>\n",
       "      <td>0.00000</td>\n",
       "    </tr>\n",
       "  </tbody>\n",
       "</table>\n",
       "<p>5 rows × 252 columns</p>\n",
       "</div>"
      ],
      "text/plain": [
       "               title        year                         release_date  \\\n",
       "0           Querelle 1,982.00000        8 September 1982 (France)       \n",
       "1      Veronika Voss 1,982.00000        13 May 1982 (Netherlands)       \n",
       "2               Lola 1,981.00000              4 August 1982 (USA)       \n",
       "3  Theater in Trance 1,981.00000         13 August 1984 (Denmark)       \n",
       "4       Lili Marleen 1,981.00000   14 January 1981 (West Germany)       \n",
       "\n",
       "   duration   runtime           budget  worldwide_gross  worldwide_gross_imdb  \\\n",
       "0 108.00000 108.00000  4,400,000.00000              NaN                   NaN   \n",
       "1 104.00000 104.00000  2,600,000.00000      8,144.00000           8,144.00000   \n",
       "2 115.00000 115.00000  3,500,000.00000      8,144.00000           8,144.00000   \n",
       "3  91.00000  91.00000    220,000.00000              NaN                   NaN   \n",
       "4 120.00000 120.00000 10,500,000.00000      8,144.00000           8,144.00000   \n",
       "\n",
       "   worldwide_gross_bo  rating  ...  Christa Berndl  Anne-Marie Kuster  \\\n",
       "0                 NaN 6.80000  ...         0.00000            0.00000   \n",
       "1                 NaN 7.80000  ...         0.00000            0.00000   \n",
       "2                 NaN 7.50000  ...         0.00000            0.00000   \n",
       "3                 NaN 7.10000  ...         0.00000            0.00000   \n",
       "4                 NaN 7.10000  ...         0.00000            0.00000   \n",
       "\n",
       "   Heide Grübl  Andrea Grosske Anna Karina  Macha Méril  Helen Vita  \\\n",
       "0      0.00000         0.00000     0.00000      0.00000     0.00000   \n",
       "1      0.00000         0.00000     0.00000      0.00000     0.00000   \n",
       "2      0.00000         0.00000     0.00000      0.00000     0.00000   \n",
       "3      0.00000         0.00000     0.00000      0.00000     0.00000   \n",
       "4      0.00000         0.00000     0.00000      0.00000     0.00000   \n",
       "\n",
       "   Heli Finkenzeller  Elke Aberle  Thomas Fengler  \n",
       "0            0.00000      0.00000         0.00000  \n",
       "1            0.00000      0.00000         0.00000  \n",
       "2            0.00000      0.00000         0.00000  \n",
       "3            0.00000      0.00000         0.00000  \n",
       "4            0.00000      0.00000         0.00000  \n",
       "\n",
       "[5 rows x 252 columns]"
      ]
     },
     "execution_count": 285,
     "metadata": {},
     "output_type": "execute_result"
    }
   ],
   "source": [
    "films_to_analyze.head()"
   ]
  },
  {
   "cell_type": "code",
   "execution_count": 286,
   "metadata": {},
   "outputs": [],
   "source": [
    "prevalent_actors_filename  = 'prevalent_actors_' + director\n",
    "with open(dir_str + prevalent_actors_filename, 'rb') as read_file:\n",
    "    prevalent_actor_columns = pickle.load(read_file)"
   ]
  },
  {
   "cell_type": "code",
   "execution_count": 287,
   "metadata": {},
   "outputs": [
    {
     "data": {
      "text/plain": [
       "Index(['Hanna Schygulla', 'Kurt Raab', 'Lilo Pempeit', 'Irm Hermann',\n",
       "       'Margit Carstensen', 'Günther Kaufmann', 'Ulli Lommel', 'Ingrid Caven',\n",
       "       'Karl Scheydt', 'Volker Spengler', 'Harry Baer', 'Hark Bohm',\n",
       "       'Walter Sedlmayr', 'Gottfried John', 'Rudolf Waldemar Brem',\n",
       "       'Katrin Schaake', 'Brigitte Mira', 'Klaus Löwitsch', 'Adrian Hoven',\n",
       "       'El Hedi ben Salem', 'Peter Chatel', 'Peter Moland', 'Vitus Zeplichal',\n",
       "       'Doris Mattes', 'Y Sa Lo', 'Elga Sorbas', 'Eva Mattes', 'Peter Kern',\n",
       "       'Hans Hirschmüller', 'Marquard Bohm', 'Armin Meier', 'Wolfgang Schenck',\n",
       "       'Elma Karlowa', 'Günter Lamprecht', 'Rudolf Lenz', 'Andrea Schober',\n",
       "       'Hannes Gromball', 'Karlheinz Böhm', 'Roger Fritz', 'Ivan Desny',\n",
       "       'Elisabeth Trissenaar', 'Margarethe von Trotta', 'Eddie Constantine',\n",
       "       'Isolde Barth', 'Carla Egerer', 'Franz Maron', 'Claus Holm',\n",
       "       'Barbara Sukowa', 'Christine Kaufmann', 'Herbert Steinmetz',\n",
       "       'Karl-Heinz von Hassel', 'Sonja Neudorfer', 'Alexander Allerson',\n",
       "       'Udo Kier'],\n",
       "      dtype='object')"
      ]
     },
     "execution_count": 287,
     "metadata": {},
     "output_type": "execute_result"
    }
   ],
   "source": [
    "prevalent_actor_columns"
   ]
  },
  {
   "cell_type": "code",
   "execution_count": 288,
   "metadata": {},
   "outputs": [],
   "source": [
    "pickled_dict_of_actors_filename = 'dict_of_actors_' + director +'.pickle'\n",
    "with open(dir_str + pickled_dict_of_actors_filename, 'rb') as read_file:\n",
    "    dict_of_all_actors  = pickle.load(read_file) "
   ]
  },
  {
   "cell_type": "code",
   "execution_count": 289,
   "metadata": {},
   "outputs": [],
   "source": [
    "analysis_columns = ['title', 'year', 'duration', 'cinematographer', 'documentary', 'tv_series','rating', 'rating_count', *prevalent_actor_columns]"
   ]
  },
  {
   "cell_type": "code",
   "execution_count": 290,
   "metadata": {},
   "outputs": [
    {
     "data": {
      "text/plain": [
       "['title',\n",
       " 'year',\n",
       " 'duration',\n",
       " 'cinematographer',\n",
       " 'documentary',\n",
       " 'tv_series',\n",
       " 'rating',\n",
       " 'rating_count',\n",
       " 'Hanna Schygulla',\n",
       " 'Kurt Raab',\n",
       " 'Lilo Pempeit',\n",
       " 'Irm Hermann',\n",
       " 'Margit Carstensen',\n",
       " 'Günther Kaufmann',\n",
       " 'Ulli Lommel',\n",
       " 'Ingrid Caven',\n",
       " 'Karl Scheydt',\n",
       " 'Volker Spengler',\n",
       " 'Harry Baer',\n",
       " 'Hark Bohm',\n",
       " 'Walter Sedlmayr',\n",
       " 'Gottfried John',\n",
       " 'Rudolf Waldemar Brem',\n",
       " 'Katrin Schaake',\n",
       " 'Brigitte Mira',\n",
       " 'Klaus Löwitsch',\n",
       " 'Adrian Hoven',\n",
       " 'El Hedi ben Salem',\n",
       " 'Peter Chatel',\n",
       " 'Peter Moland',\n",
       " 'Vitus Zeplichal',\n",
       " 'Doris Mattes',\n",
       " 'Y Sa Lo',\n",
       " 'Elga Sorbas',\n",
       " 'Eva Mattes',\n",
       " 'Peter Kern',\n",
       " 'Hans Hirschmüller',\n",
       " 'Marquard Bohm',\n",
       " 'Armin Meier',\n",
       " 'Wolfgang Schenck',\n",
       " 'Elma Karlowa',\n",
       " 'Günter Lamprecht',\n",
       " 'Rudolf Lenz',\n",
       " 'Andrea Schober',\n",
       " 'Hannes Gromball',\n",
       " 'Karlheinz Böhm',\n",
       " 'Roger Fritz',\n",
       " 'Ivan Desny',\n",
       " 'Elisabeth Trissenaar',\n",
       " 'Margarethe von Trotta',\n",
       " 'Eddie Constantine',\n",
       " 'Isolde Barth',\n",
       " 'Carla Egerer',\n",
       " 'Franz Maron',\n",
       " 'Claus Holm',\n",
       " 'Barbara Sukowa',\n",
       " 'Christine Kaufmann',\n",
       " 'Herbert Steinmetz',\n",
       " 'Karl-Heinz von Hassel',\n",
       " 'Sonja Neudorfer',\n",
       " 'Alexander Allerson',\n",
       " 'Udo Kier']"
      ]
     },
     "execution_count": 290,
     "metadata": {},
     "output_type": "execute_result"
    }
   ],
   "source": [
    "analysis_columns"
   ]
  },
  {
   "cell_type": "markdown",
   "metadata": {},
   "source": [
    "## Dataset partitioned for analysis\n",
    "except one-hot-encoding `cinematographer`"
   ]
  },
  {
   "cell_type": "code",
   "execution_count": 291,
   "metadata": {},
   "outputs": [
    {
     "data": {
      "text/html": [
       "<div>\n",
       "<style scoped>\n",
       "    .dataframe tbody tr th:only-of-type {\n",
       "        vertical-align: middle;\n",
       "    }\n",
       "\n",
       "    .dataframe tbody tr th {\n",
       "        vertical-align: top;\n",
       "    }\n",
       "\n",
       "    .dataframe thead th {\n",
       "        text-align: right;\n",
       "    }\n",
       "</style>\n",
       "<table border=\"1\" class=\"dataframe\">\n",
       "  <thead>\n",
       "    <tr style=\"text-align: right;\">\n",
       "      <th></th>\n",
       "      <th>title</th>\n",
       "      <th>year</th>\n",
       "      <th>release_date</th>\n",
       "      <th>duration</th>\n",
       "      <th>runtime</th>\n",
       "      <th>budget</th>\n",
       "      <th>worldwide_gross</th>\n",
       "      <th>worldwide_gross_imdb</th>\n",
       "      <th>worldwide_gross_bo</th>\n",
       "      <th>rating</th>\n",
       "      <th>...</th>\n",
       "      <th>Christa Berndl</th>\n",
       "      <th>Anne-Marie Kuster</th>\n",
       "      <th>Heide Grübl</th>\n",
       "      <th>Andrea Grosske</th>\n",
       "      <th>Anna Karina</th>\n",
       "      <th>Macha Méril</th>\n",
       "      <th>Helen Vita</th>\n",
       "      <th>Heli Finkenzeller</th>\n",
       "      <th>Elke Aberle</th>\n",
       "      <th>Thomas Fengler</th>\n",
       "    </tr>\n",
       "  </thead>\n",
       "  <tbody>\n",
       "    <tr>\n",
       "      <th>0</th>\n",
       "      <td>Querelle</td>\n",
       "      <td>1,982.00000</td>\n",
       "      <td>8 September 1982 (France)</td>\n",
       "      <td>108.00000</td>\n",
       "      <td>108.00000</td>\n",
       "      <td>4,400,000.00000</td>\n",
       "      <td>NaN</td>\n",
       "      <td>NaN</td>\n",
       "      <td>NaN</td>\n",
       "      <td>6.80000</td>\n",
       "      <td>...</td>\n",
       "      <td>0.00000</td>\n",
       "      <td>0.00000</td>\n",
       "      <td>0.00000</td>\n",
       "      <td>0.00000</td>\n",
       "      <td>0.00000</td>\n",
       "      <td>0.00000</td>\n",
       "      <td>0.00000</td>\n",
       "      <td>0.00000</td>\n",
       "      <td>0.00000</td>\n",
       "      <td>0.00000</td>\n",
       "    </tr>\n",
       "    <tr>\n",
       "      <th>1</th>\n",
       "      <td>Veronika Voss</td>\n",
       "      <td>1,982.00000</td>\n",
       "      <td>13 May 1982 (Netherlands)</td>\n",
       "      <td>104.00000</td>\n",
       "      <td>104.00000</td>\n",
       "      <td>2,600,000.00000</td>\n",
       "      <td>8,144.00000</td>\n",
       "      <td>8,144.00000</td>\n",
       "      <td>NaN</td>\n",
       "      <td>7.80000</td>\n",
       "      <td>...</td>\n",
       "      <td>0.00000</td>\n",
       "      <td>0.00000</td>\n",
       "      <td>0.00000</td>\n",
       "      <td>0.00000</td>\n",
       "      <td>0.00000</td>\n",
       "      <td>0.00000</td>\n",
       "      <td>0.00000</td>\n",
       "      <td>0.00000</td>\n",
       "      <td>0.00000</td>\n",
       "      <td>0.00000</td>\n",
       "    </tr>\n",
       "    <tr>\n",
       "      <th>2</th>\n",
       "      <td>Lola</td>\n",
       "      <td>1,981.00000</td>\n",
       "      <td>4 August 1982 (USA)</td>\n",
       "      <td>115.00000</td>\n",
       "      <td>115.00000</td>\n",
       "      <td>3,500,000.00000</td>\n",
       "      <td>8,144.00000</td>\n",
       "      <td>8,144.00000</td>\n",
       "      <td>NaN</td>\n",
       "      <td>7.50000</td>\n",
       "      <td>...</td>\n",
       "      <td>0.00000</td>\n",
       "      <td>0.00000</td>\n",
       "      <td>0.00000</td>\n",
       "      <td>0.00000</td>\n",
       "      <td>0.00000</td>\n",
       "      <td>0.00000</td>\n",
       "      <td>0.00000</td>\n",
       "      <td>0.00000</td>\n",
       "      <td>0.00000</td>\n",
       "      <td>0.00000</td>\n",
       "    </tr>\n",
       "    <tr>\n",
       "      <th>3</th>\n",
       "      <td>Theater in Trance</td>\n",
       "      <td>1,981.00000</td>\n",
       "      <td>13 August 1984 (Denmark)</td>\n",
       "      <td>91.00000</td>\n",
       "      <td>91.00000</td>\n",
       "      <td>220,000.00000</td>\n",
       "      <td>NaN</td>\n",
       "      <td>NaN</td>\n",
       "      <td>NaN</td>\n",
       "      <td>7.10000</td>\n",
       "      <td>...</td>\n",
       "      <td>0.00000</td>\n",
       "      <td>0.00000</td>\n",
       "      <td>0.00000</td>\n",
       "      <td>0.00000</td>\n",
       "      <td>0.00000</td>\n",
       "      <td>0.00000</td>\n",
       "      <td>0.00000</td>\n",
       "      <td>0.00000</td>\n",
       "      <td>0.00000</td>\n",
       "      <td>0.00000</td>\n",
       "    </tr>\n",
       "    <tr>\n",
       "      <th>4</th>\n",
       "      <td>Lili Marleen</td>\n",
       "      <td>1,981.00000</td>\n",
       "      <td>14 January 1981 (West Germany)</td>\n",
       "      <td>120.00000</td>\n",
       "      <td>120.00000</td>\n",
       "      <td>10,500,000.00000</td>\n",
       "      <td>8,144.00000</td>\n",
       "      <td>8,144.00000</td>\n",
       "      <td>NaN</td>\n",
       "      <td>7.10000</td>\n",
       "      <td>...</td>\n",
       "      <td>0.00000</td>\n",
       "      <td>0.00000</td>\n",
       "      <td>0.00000</td>\n",
       "      <td>0.00000</td>\n",
       "      <td>0.00000</td>\n",
       "      <td>0.00000</td>\n",
       "      <td>0.00000</td>\n",
       "      <td>0.00000</td>\n",
       "      <td>0.00000</td>\n",
       "      <td>0.00000</td>\n",
       "    </tr>\n",
       "  </tbody>\n",
       "</table>\n",
       "<p>5 rows × 252 columns</p>\n",
       "</div>"
      ],
      "text/plain": [
       "               title        year                         release_date  \\\n",
       "0           Querelle 1,982.00000        8 September 1982 (France)       \n",
       "1      Veronika Voss 1,982.00000        13 May 1982 (Netherlands)       \n",
       "2               Lola 1,981.00000              4 August 1982 (USA)       \n",
       "3  Theater in Trance 1,981.00000         13 August 1984 (Denmark)       \n",
       "4       Lili Marleen 1,981.00000   14 January 1981 (West Germany)       \n",
       "\n",
       "   duration   runtime           budget  worldwide_gross  worldwide_gross_imdb  \\\n",
       "0 108.00000 108.00000  4,400,000.00000              NaN                   NaN   \n",
       "1 104.00000 104.00000  2,600,000.00000      8,144.00000           8,144.00000   \n",
       "2 115.00000 115.00000  3,500,000.00000      8,144.00000           8,144.00000   \n",
       "3  91.00000  91.00000    220,000.00000              NaN                   NaN   \n",
       "4 120.00000 120.00000 10,500,000.00000      8,144.00000           8,144.00000   \n",
       "\n",
       "   worldwide_gross_bo  rating  ...  Christa Berndl  Anne-Marie Kuster  \\\n",
       "0                 NaN 6.80000  ...         0.00000            0.00000   \n",
       "1                 NaN 7.80000  ...         0.00000            0.00000   \n",
       "2                 NaN 7.50000  ...         0.00000            0.00000   \n",
       "3                 NaN 7.10000  ...         0.00000            0.00000   \n",
       "4                 NaN 7.10000  ...         0.00000            0.00000   \n",
       "\n",
       "   Heide Grübl  Andrea Grosske Anna Karina  Macha Méril  Helen Vita  \\\n",
       "0      0.00000         0.00000     0.00000      0.00000     0.00000   \n",
       "1      0.00000         0.00000     0.00000      0.00000     0.00000   \n",
       "2      0.00000         0.00000     0.00000      0.00000     0.00000   \n",
       "3      0.00000         0.00000     0.00000      0.00000     0.00000   \n",
       "4      0.00000         0.00000     0.00000      0.00000     0.00000   \n",
       "\n",
       "   Heli Finkenzeller  Elke Aberle  Thomas Fengler  \n",
       "0            0.00000      0.00000         0.00000  \n",
       "1            0.00000      0.00000         0.00000  \n",
       "2            0.00000      0.00000         0.00000  \n",
       "3            0.00000      0.00000         0.00000  \n",
       "4            0.00000      0.00000         0.00000  \n",
       "\n",
       "[5 rows x 252 columns]"
      ]
     },
     "execution_count": 291,
     "metadata": {},
     "output_type": "execute_result"
    }
   ],
   "source": [
    "films_to_analyze.head()"
   ]
  },
  {
   "cell_type": "code",
   "execution_count": null,
   "metadata": {},
   "outputs": [],
   "source": []
  },
  {
   "cell_type": "code",
   "execution_count": 292,
   "metadata": {},
   "outputs": [],
   "source": [
    "films_and_features_to_analyze_df = films_to_analyze[analysis_columns]"
   ]
  },
  {
   "cell_type": "code",
   "execution_count": 293,
   "metadata": {},
   "outputs": [
    {
     "data": {
      "text/html": [
       "<div>\n",
       "<style scoped>\n",
       "    .dataframe tbody tr th:only-of-type {\n",
       "        vertical-align: middle;\n",
       "    }\n",
       "\n",
       "    .dataframe tbody tr th {\n",
       "        vertical-align: top;\n",
       "    }\n",
       "\n",
       "    .dataframe thead th {\n",
       "        text-align: right;\n",
       "    }\n",
       "</style>\n",
       "<table border=\"1\" class=\"dataframe\">\n",
       "  <thead>\n",
       "    <tr style=\"text-align: right;\">\n",
       "      <th></th>\n",
       "      <th>title</th>\n",
       "      <th>year</th>\n",
       "      <th>duration</th>\n",
       "      <th>cinematographer</th>\n",
       "      <th>documentary</th>\n",
       "      <th>tv_series</th>\n",
       "      <th>rating</th>\n",
       "      <th>rating_count</th>\n",
       "      <th>Hanna Schygulla</th>\n",
       "      <th>Kurt Raab</th>\n",
       "      <th>...</th>\n",
       "      <th>Carla Egerer</th>\n",
       "      <th>Franz Maron</th>\n",
       "      <th>Claus Holm</th>\n",
       "      <th>Barbara Sukowa</th>\n",
       "      <th>Christine Kaufmann</th>\n",
       "      <th>Herbert Steinmetz</th>\n",
       "      <th>Karl-Heinz von Hassel</th>\n",
       "      <th>Sonja Neudorfer</th>\n",
       "      <th>Alexander Allerson</th>\n",
       "      <th>Udo Kier</th>\n",
       "    </tr>\n",
       "  </thead>\n",
       "  <tbody>\n",
       "    <tr>\n",
       "      <th>0</th>\n",
       "      <td>Querelle</td>\n",
       "      <td>1,982.00000</td>\n",
       "      <td>108.00000</td>\n",
       "      <td>Xaver Schwarzenberger</td>\n",
       "      <td>0</td>\n",
       "      <td>0</td>\n",
       "      <td>6.80000</td>\n",
       "      <td>5,824.00000</td>\n",
       "      <td>0.00000</td>\n",
       "      <td>0.00000</td>\n",
       "      <td>...</td>\n",
       "      <td>0.00000</td>\n",
       "      <td>0.00000</td>\n",
       "      <td>0.00000</td>\n",
       "      <td>0.00000</td>\n",
       "      <td>0.00000</td>\n",
       "      <td>0.00000</td>\n",
       "      <td>0.00000</td>\n",
       "      <td>0.00000</td>\n",
       "      <td>0.00000</td>\n",
       "      <td>0.00000</td>\n",
       "    </tr>\n",
       "    <tr>\n",
       "      <th>1</th>\n",
       "      <td>Veronika Voss</td>\n",
       "      <td>1,982.00000</td>\n",
       "      <td>104.00000</td>\n",
       "      <td>Xaver Schwarzenberger</td>\n",
       "      <td>0</td>\n",
       "      <td>0</td>\n",
       "      <td>7.80000</td>\n",
       "      <td>6,238.00000</td>\n",
       "      <td>0.00000</td>\n",
       "      <td>0.00000</td>\n",
       "      <td>...</td>\n",
       "      <td>0.00000</td>\n",
       "      <td>0.00000</td>\n",
       "      <td>0.00000</td>\n",
       "      <td>0.00000</td>\n",
       "      <td>0.00000</td>\n",
       "      <td>1.00000</td>\n",
       "      <td>0.00000</td>\n",
       "      <td>1.00000</td>\n",
       "      <td>0.00000</td>\n",
       "      <td>0.00000</td>\n",
       "    </tr>\n",
       "    <tr>\n",
       "      <th>2</th>\n",
       "      <td>Lola</td>\n",
       "      <td>1,981.00000</td>\n",
       "      <td>115.00000</td>\n",
       "      <td>Xaver Schwarzenberger</td>\n",
       "      <td>0</td>\n",
       "      <td>0</td>\n",
       "      <td>7.50000</td>\n",
       "      <td>5,273.00000</td>\n",
       "      <td>0.00000</td>\n",
       "      <td>0.00000</td>\n",
       "      <td>...</td>\n",
       "      <td>0.00000</td>\n",
       "      <td>0.00000</td>\n",
       "      <td>0.00000</td>\n",
       "      <td>1.00000</td>\n",
       "      <td>1.00000</td>\n",
       "      <td>0.00000</td>\n",
       "      <td>1.00000</td>\n",
       "      <td>1.00000</td>\n",
       "      <td>0.00000</td>\n",
       "      <td>0.00000</td>\n",
       "    </tr>\n",
       "    <tr>\n",
       "      <th>3</th>\n",
       "      <td>Theater in Trance</td>\n",
       "      <td>1,981.00000</td>\n",
       "      <td>91.00000</td>\n",
       "      <td>Werner Lüring</td>\n",
       "      <td>1</td>\n",
       "      <td>0</td>\n",
       "      <td>7.10000</td>\n",
       "      <td>97.00000</td>\n",
       "      <td>0.00000</td>\n",
       "      <td>0.00000</td>\n",
       "      <td>...</td>\n",
       "      <td>0.00000</td>\n",
       "      <td>0.00000</td>\n",
       "      <td>0.00000</td>\n",
       "      <td>0.00000</td>\n",
       "      <td>0.00000</td>\n",
       "      <td>0.00000</td>\n",
       "      <td>0.00000</td>\n",
       "      <td>0.00000</td>\n",
       "      <td>0.00000</td>\n",
       "      <td>0.00000</td>\n",
       "    </tr>\n",
       "    <tr>\n",
       "      <th>4</th>\n",
       "      <td>Lili Marleen</td>\n",
       "      <td>1,981.00000</td>\n",
       "      <td>120.00000</td>\n",
       "      <td>Xaver Schwarzenberger</td>\n",
       "      <td>0</td>\n",
       "      <td>0</td>\n",
       "      <td>7.10000</td>\n",
       "      <td>3,571.00000</td>\n",
       "      <td>1.00000</td>\n",
       "      <td>0.00000</td>\n",
       "      <td>...</td>\n",
       "      <td>0.00000</td>\n",
       "      <td>0.00000</td>\n",
       "      <td>0.00000</td>\n",
       "      <td>0.00000</td>\n",
       "      <td>1.00000</td>\n",
       "      <td>0.00000</td>\n",
       "      <td>1.00000</td>\n",
       "      <td>0.00000</td>\n",
       "      <td>0.00000</td>\n",
       "      <td>1.00000</td>\n",
       "    </tr>\n",
       "  </tbody>\n",
       "</table>\n",
       "<p>5 rows × 62 columns</p>\n",
       "</div>"
      ],
      "text/plain": [
       "               title        year  duration        cinematographer  \\\n",
       "0           Querelle 1,982.00000 108.00000  Xaver Schwarzenberger   \n",
       "1      Veronika Voss 1,982.00000 104.00000  Xaver Schwarzenberger   \n",
       "2               Lola 1,981.00000 115.00000  Xaver Schwarzenberger   \n",
       "3  Theater in Trance 1,981.00000  91.00000          Werner Lüring   \n",
       "4       Lili Marleen 1,981.00000 120.00000  Xaver Schwarzenberger   \n",
       "\n",
       "   documentary  tv_series  rating  rating_count  Hanna Schygulla  Kurt Raab  \\\n",
       "0            0          0 6.80000   5,824.00000          0.00000    0.00000   \n",
       "1            0          0 7.80000   6,238.00000          0.00000    0.00000   \n",
       "2            0          0 7.50000   5,273.00000          0.00000    0.00000   \n",
       "3            1          0 7.10000      97.00000          0.00000    0.00000   \n",
       "4            0          0 7.10000   3,571.00000          1.00000    0.00000   \n",
       "\n",
       "   ...  Carla Egerer  Franz Maron  Claus Holm  Barbara Sukowa  \\\n",
       "0  ...       0.00000      0.00000     0.00000         0.00000   \n",
       "1  ...       0.00000      0.00000     0.00000         0.00000   \n",
       "2  ...       0.00000      0.00000     0.00000         1.00000   \n",
       "3  ...       0.00000      0.00000     0.00000         0.00000   \n",
       "4  ...       0.00000      0.00000     0.00000         0.00000   \n",
       "\n",
       "   Christine Kaufmann  Herbert Steinmetz  Karl-Heinz von Hassel  \\\n",
       "0             0.00000            0.00000                0.00000   \n",
       "1             0.00000            1.00000                0.00000   \n",
       "2             1.00000            0.00000                1.00000   \n",
       "3             0.00000            0.00000                0.00000   \n",
       "4             1.00000            0.00000                1.00000   \n",
       "\n",
       "   Sonja Neudorfer  Alexander Allerson  Udo Kier  \n",
       "0          0.00000             0.00000   0.00000  \n",
       "1          1.00000             0.00000   0.00000  \n",
       "2          1.00000             0.00000   0.00000  \n",
       "3          0.00000             0.00000   0.00000  \n",
       "4          0.00000             0.00000   1.00000  \n",
       "\n",
       "[5 rows x 62 columns]"
      ]
     },
     "execution_count": 293,
     "metadata": {},
     "output_type": "execute_result"
    }
   ],
   "source": [
    "films_and_features_to_analyze_df.head() "
   ]
  },
  {
   "cell_type": "code",
   "execution_count": 294,
   "metadata": {},
   "outputs": [
    {
     "data": {
      "text/plain": [
       "1"
      ]
     },
     "execution_count": 294,
     "metadata": {},
     "output_type": "execute_result"
    }
   ],
   "source": [
    "cinematographer_include_threshold = films_and_features_to_analyze_df['cinematographer'].value_counts().min()\n",
    "cinematographer_include_threshold"
   ]
  },
  {
   "cell_type": "code",
   "execution_count": 295,
   "metadata": {},
   "outputs": [
    {
     "name": "stderr",
     "output_type": "stream",
     "text": [
      "/opt/anaconda3/envs/metis/lib/python3.8/site-packages/pandas/core/series.py:4479: SettingWithCopyWarning: \n",
      "A value is trying to be set on a copy of a slice from a DataFrame\n",
      "\n",
      "See the caveats in the documentation: https://pandas.pydata.org/pandas-docs/stable/user_guide/indexing.html#returning-a-view-versus-a-copy\n",
      "  return super().replace(\n"
     ]
    }
   ],
   "source": [
    "value_counts = films_and_features_to_analyze_df['cinematographer'].value_counts() # Specific column \n",
    "to_remove = value_counts[value_counts <= cinematographer_include_threshold].index\n",
    "films_and_features_to_analyze_df['cinematographer'].replace(to_remove, 'OTHER', inplace=True)"
   ]
  },
  {
   "cell_type": "code",
   "execution_count": null,
   "metadata": {},
   "outputs": [],
   "source": []
  },
  {
   "cell_type": "markdown",
   "metadata": {},
   "source": [
    "### Regression analysis on `rating`,  `duration`, and `year` etc"
   ]
  },
  {
   "cell_type": "markdown",
   "metadata": {},
   "source": [
    "#### `rating` as target"
   ]
  },
  {
   "cell_type": "markdown",
   "metadata": {},
   "source": [
    "### Selecting columns for Train Test Split"
   ]
  },
  {
   "cell_type": "code",
   "execution_count": 296,
   "metadata": {
    "scrolled": true
   },
   "outputs": [
    {
     "data": {
      "text/plain": [
       "Index(['title', 'year', 'duration', 'cinematographer', 'documentary',\n",
       "       'tv_series', 'rating', 'rating_count', 'Hanna Schygulla', 'Kurt Raab',\n",
       "       'Lilo Pempeit', 'Irm Hermann', 'Margit Carstensen', 'Günther Kaufmann',\n",
       "       'Ulli Lommel', 'Ingrid Caven', 'Karl Scheydt', 'Volker Spengler',\n",
       "       'Harry Baer', 'Hark Bohm', 'Walter Sedlmayr', 'Gottfried John',\n",
       "       'Rudolf Waldemar Brem', 'Katrin Schaake', 'Brigitte Mira',\n",
       "       'Klaus Löwitsch', 'Adrian Hoven', 'El Hedi ben Salem', 'Peter Chatel',\n",
       "       'Peter Moland', 'Vitus Zeplichal', 'Doris Mattes', 'Y Sa Lo',\n",
       "       'Elga Sorbas', 'Eva Mattes', 'Peter Kern', 'Hans Hirschmüller',\n",
       "       'Marquard Bohm', 'Armin Meier', 'Wolfgang Schenck', 'Elma Karlowa',\n",
       "       'Günter Lamprecht', 'Rudolf Lenz', 'Andrea Schober', 'Hannes Gromball',\n",
       "       'Karlheinz Böhm', 'Roger Fritz', 'Ivan Desny', 'Elisabeth Trissenaar',\n",
       "       'Margarethe von Trotta', 'Eddie Constantine', 'Isolde Barth',\n",
       "       'Carla Egerer', 'Franz Maron', 'Claus Holm', 'Barbara Sukowa',\n",
       "       'Christine Kaufmann', 'Herbert Steinmetz', 'Karl-Heinz von Hassel',\n",
       "       'Sonja Neudorfer', 'Alexander Allerson', 'Udo Kier'],\n",
       "      dtype='object')"
      ]
     },
     "execution_count": 296,
     "metadata": {},
     "output_type": "execute_result"
    }
   ],
   "source": [
    "films_and_features_to_analyze_df.columns # review columns we start with"
   ]
  },
  {
   "cell_type": "code",
   "execution_count": null,
   "metadata": {},
   "outputs": [],
   "source": []
  },
  {
   "cell_type": "code",
   "execution_count": 297,
   "metadata": {},
   "outputs": [],
   "source": [
    "selected_cols = [*films_and_features_to_analyze_df.columns[1:6], *films_and_features_to_analyze_df.columns[7:]]"
   ]
  },
  {
   "cell_type": "code",
   "execution_count": 298,
   "metadata": {},
   "outputs": [
    {
     "data": {
      "text/plain": [
       "['year',\n",
       " 'duration',\n",
       " 'cinematographer',\n",
       " 'documentary',\n",
       " 'tv_series',\n",
       " 'rating_count',\n",
       " 'Hanna Schygulla',\n",
       " 'Kurt Raab',\n",
       " 'Lilo Pempeit',\n",
       " 'Irm Hermann',\n",
       " 'Margit Carstensen',\n",
       " 'Günther Kaufmann',\n",
       " 'Ulli Lommel',\n",
       " 'Ingrid Caven',\n",
       " 'Karl Scheydt',\n",
       " 'Volker Spengler',\n",
       " 'Harry Baer',\n",
       " 'Hark Bohm',\n",
       " 'Walter Sedlmayr',\n",
       " 'Gottfried John',\n",
       " 'Rudolf Waldemar Brem',\n",
       " 'Katrin Schaake',\n",
       " 'Brigitte Mira',\n",
       " 'Klaus Löwitsch',\n",
       " 'Adrian Hoven',\n",
       " 'El Hedi ben Salem',\n",
       " 'Peter Chatel',\n",
       " 'Peter Moland',\n",
       " 'Vitus Zeplichal',\n",
       " 'Doris Mattes',\n",
       " 'Y Sa Lo',\n",
       " 'Elga Sorbas',\n",
       " 'Eva Mattes',\n",
       " 'Peter Kern',\n",
       " 'Hans Hirschmüller',\n",
       " 'Marquard Bohm',\n",
       " 'Armin Meier',\n",
       " 'Wolfgang Schenck',\n",
       " 'Elma Karlowa',\n",
       " 'Günter Lamprecht',\n",
       " 'Rudolf Lenz',\n",
       " 'Andrea Schober',\n",
       " 'Hannes Gromball',\n",
       " 'Karlheinz Böhm',\n",
       " 'Roger Fritz',\n",
       " 'Ivan Desny',\n",
       " 'Elisabeth Trissenaar',\n",
       " 'Margarethe von Trotta',\n",
       " 'Eddie Constantine',\n",
       " 'Isolde Barth',\n",
       " 'Carla Egerer',\n",
       " 'Franz Maron',\n",
       " 'Claus Holm',\n",
       " 'Barbara Sukowa',\n",
       " 'Christine Kaufmann',\n",
       " 'Herbert Steinmetz',\n",
       " 'Karl-Heinz von Hassel',\n",
       " 'Sonja Neudorfer',\n",
       " 'Alexander Allerson',\n",
       " 'Udo Kier']"
      ]
     },
     "execution_count": 298,
     "metadata": {},
     "output_type": "execute_result"
    }
   ],
   "source": [
    "selected_cols"
   ]
  },
  {
   "cell_type": "code",
   "execution_count": 299,
   "metadata": {},
   "outputs": [],
   "source": [
    "X= films_and_features_to_analyze_df[selected_cols]\n",
    "y= films_and_features_to_analyze_df['rating']"
   ]
  },
  {
   "cell_type": "code",
   "execution_count": 300,
   "metadata": {},
   "outputs": [
    {
     "data": {
      "text/plain": [
       "False"
      ]
     },
     "execution_count": 300,
     "metadata": {},
     "output_type": "execute_result"
    }
   ],
   "source": [
    "y.isnull().values.any()"
   ]
  },
  {
   "cell_type": "markdown",
   "metadata": {},
   "source": [
    "### Train-val vs. test split"
   ]
  },
  {
   "cell_type": "code",
   "execution_count": 301,
   "metadata": {},
   "outputs": [],
   "source": [
    "X_train_val, X_test, y_train_val, y_test = train_test_split(X, y, test_size=0.2,random_state=42)"
   ]
  },
  {
   "cell_type": "code",
   "execution_count": 302,
   "metadata": {},
   "outputs": [
    {
     "data": {
      "text/html": [
       "<div>\n",
       "<style scoped>\n",
       "    .dataframe tbody tr th:only-of-type {\n",
       "        vertical-align: middle;\n",
       "    }\n",
       "\n",
       "    .dataframe tbody tr th {\n",
       "        vertical-align: top;\n",
       "    }\n",
       "\n",
       "    .dataframe thead th {\n",
       "        text-align: right;\n",
       "    }\n",
       "</style>\n",
       "<table border=\"1\" class=\"dataframe\">\n",
       "  <thead>\n",
       "    <tr style=\"text-align: right;\">\n",
       "      <th></th>\n",
       "      <th>year</th>\n",
       "      <th>duration</th>\n",
       "      <th>cinematographer</th>\n",
       "      <th>documentary</th>\n",
       "      <th>tv_series</th>\n",
       "      <th>rating_count</th>\n",
       "      <th>Hanna Schygulla</th>\n",
       "      <th>Kurt Raab</th>\n",
       "      <th>Lilo Pempeit</th>\n",
       "      <th>Irm Hermann</th>\n",
       "      <th>...</th>\n",
       "      <th>Carla Egerer</th>\n",
       "      <th>Franz Maron</th>\n",
       "      <th>Claus Holm</th>\n",
       "      <th>Barbara Sukowa</th>\n",
       "      <th>Christine Kaufmann</th>\n",
       "      <th>Herbert Steinmetz</th>\n",
       "      <th>Karl-Heinz von Hassel</th>\n",
       "      <th>Sonja Neudorfer</th>\n",
       "      <th>Alexander Allerson</th>\n",
       "      <th>Udo Kier</th>\n",
       "    </tr>\n",
       "  </thead>\n",
       "  <tbody>\n",
       "    <tr>\n",
       "      <th>34</th>\n",
       "      <td>1,970.00000</td>\n",
       "      <td>90.00000</td>\n",
       "      <td>Dietrich Lohmann</td>\n",
       "      <td>0</td>\n",
       "      <td>1</td>\n",
       "      <td>498.00000</td>\n",
       "      <td>1.00000</td>\n",
       "      <td>1.00000</td>\n",
       "      <td>0.00000</td>\n",
       "      <td>0.00000</td>\n",
       "      <td>...</td>\n",
       "      <td>0.00000</td>\n",
       "      <td>1.00000</td>\n",
       "      <td>0.00000</td>\n",
       "      <td>0.00000</td>\n",
       "      <td>0.00000</td>\n",
       "      <td>0.00000</td>\n",
       "      <td>0.00000</td>\n",
       "      <td>0.00000</td>\n",
       "      <td>0.00000</td>\n",
       "      <td>0.00000</td>\n",
       "    </tr>\n",
       "    <tr>\n",
       "      <th>38</th>\n",
       "      <td>1,970.00000</td>\n",
       "      <td>91.00000</td>\n",
       "      <td>Dietrich Lohmann</td>\n",
       "      <td>0</td>\n",
       "      <td>0</td>\n",
       "      <td>1,208.00000</td>\n",
       "      <td>1.00000</td>\n",
       "      <td>0.00000</td>\n",
       "      <td>1.00000</td>\n",
       "      <td>0.00000</td>\n",
       "      <td>...</td>\n",
       "      <td>1.00000</td>\n",
       "      <td>0.00000</td>\n",
       "      <td>0.00000</td>\n",
       "      <td>0.00000</td>\n",
       "      <td>0.00000</td>\n",
       "      <td>0.00000</td>\n",
       "      <td>0.00000</td>\n",
       "      <td>0.00000</td>\n",
       "      <td>0.00000</td>\n",
       "      <td>0.00000</td>\n",
       "    </tr>\n",
       "    <tr>\n",
       "      <th>4</th>\n",
       "      <td>1,981.00000</td>\n",
       "      <td>120.00000</td>\n",
       "      <td>Xaver Schwarzenberger</td>\n",
       "      <td>0</td>\n",
       "      <td>0</td>\n",
       "      <td>3,571.00000</td>\n",
       "      <td>1.00000</td>\n",
       "      <td>0.00000</td>\n",
       "      <td>0.00000</td>\n",
       "      <td>0.00000</td>\n",
       "      <td>...</td>\n",
       "      <td>0.00000</td>\n",
       "      <td>0.00000</td>\n",
       "      <td>0.00000</td>\n",
       "      <td>0.00000</td>\n",
       "      <td>1.00000</td>\n",
       "      <td>0.00000</td>\n",
       "      <td>1.00000</td>\n",
       "      <td>0.00000</td>\n",
       "      <td>0.00000</td>\n",
       "      <td>1.00000</td>\n",
       "    </tr>\n",
       "    <tr>\n",
       "      <th>13</th>\n",
       "      <td>1,976.00000</td>\n",
       "      <td>86.00000</td>\n",
       "      <td>Michael Ballhaus</td>\n",
       "      <td>0</td>\n",
       "      <td>0</td>\n",
       "      <td>3,687.00000</td>\n",
       "      <td>0.00000</td>\n",
       "      <td>0.00000</td>\n",
       "      <td>0.00000</td>\n",
       "      <td>0.00000</td>\n",
       "      <td>...</td>\n",
       "      <td>0.00000</td>\n",
       "      <td>0.00000</td>\n",
       "      <td>0.00000</td>\n",
       "      <td>0.00000</td>\n",
       "      <td>0.00000</td>\n",
       "      <td>0.00000</td>\n",
       "      <td>0.00000</td>\n",
       "      <td>0.00000</td>\n",
       "      <td>1.00000</td>\n",
       "      <td>0.00000</td>\n",
       "    </tr>\n",
       "    <tr>\n",
       "      <th>31</th>\n",
       "      <td>1,971.00000</td>\n",
       "      <td>95.00000</td>\n",
       "      <td>Michael Ballhaus</td>\n",
       "      <td>0</td>\n",
       "      <td>0</td>\n",
       "      <td>977.00000</td>\n",
       "      <td>1.00000</td>\n",
       "      <td>0.00000</td>\n",
       "      <td>0.00000</td>\n",
       "      <td>0.00000</td>\n",
       "      <td>...</td>\n",
       "      <td>0.00000</td>\n",
       "      <td>0.00000</td>\n",
       "      <td>0.00000</td>\n",
       "      <td>0.00000</td>\n",
       "      <td>0.00000</td>\n",
       "      <td>0.00000</td>\n",
       "      <td>0.00000</td>\n",
       "      <td>0.00000</td>\n",
       "      <td>0.00000</td>\n",
       "      <td>0.00000</td>\n",
       "    </tr>\n",
       "    <tr>\n",
       "      <th>27</th>\n",
       "      <td>1,972.00000</td>\n",
       "      <td>87.00000</td>\n",
       "      <td>Dietrich Lohmann</td>\n",
       "      <td>0</td>\n",
       "      <td>1</td>\n",
       "      <td>209.00000</td>\n",
       "      <td>1.00000</td>\n",
       "      <td>1.00000</td>\n",
       "      <td>1.00000</td>\n",
       "      <td>0.00000</td>\n",
       "      <td>...</td>\n",
       "      <td>0.00000</td>\n",
       "      <td>0.00000</td>\n",
       "      <td>0.00000</td>\n",
       "      <td>0.00000</td>\n",
       "      <td>0.00000</td>\n",
       "      <td>0.00000</td>\n",
       "      <td>0.00000</td>\n",
       "      <td>0.00000</td>\n",
       "      <td>0.00000</td>\n",
       "      <td>0.00000</td>\n",
       "    </tr>\n",
       "    <tr>\n",
       "      <th>6</th>\n",
       "      <td>1,979.00000</td>\n",
       "      <td>111.00000</td>\n",
       "      <td>Rainer Werner Fassbinder</td>\n",
       "      <td>0</td>\n",
       "      <td>0</td>\n",
       "      <td>2,116.00000</td>\n",
       "      <td>1.00000</td>\n",
       "      <td>0.00000</td>\n",
       "      <td>1.00000</td>\n",
       "      <td>0.00000</td>\n",
       "      <td>...</td>\n",
       "      <td>0.00000</td>\n",
       "      <td>0.00000</td>\n",
       "      <td>1.00000</td>\n",
       "      <td>0.00000</td>\n",
       "      <td>0.00000</td>\n",
       "      <td>0.00000</td>\n",
       "      <td>0.00000</td>\n",
       "      <td>0.00000</td>\n",
       "      <td>0.00000</td>\n",
       "      <td>1.00000</td>\n",
       "    </tr>\n",
       "    <tr>\n",
       "      <th>28</th>\n",
       "      <td>1,972.00000</td>\n",
       "      <td>124.00000</td>\n",
       "      <td>Michael Ballhaus</td>\n",
       "      <td>0</td>\n",
       "      <td>0</td>\n",
       "      <td>8,545.00000</td>\n",
       "      <td>1.00000</td>\n",
       "      <td>0.00000</td>\n",
       "      <td>0.00000</td>\n",
       "      <td>1.00000</td>\n",
       "      <td>...</td>\n",
       "      <td>0.00000</td>\n",
       "      <td>0.00000</td>\n",
       "      <td>0.00000</td>\n",
       "      <td>0.00000</td>\n",
       "      <td>0.00000</td>\n",
       "      <td>0.00000</td>\n",
       "      <td>0.00000</td>\n",
       "      <td>0.00000</td>\n",
       "      <td>0.00000</td>\n",
       "      <td>0.00000</td>\n",
       "    </tr>\n",
       "  </tbody>\n",
       "</table>\n",
       "<p>8 rows × 60 columns</p>\n",
       "</div>"
      ],
      "text/plain": [
       "          year  duration           cinematographer  documentary  tv_series  \\\n",
       "34 1,970.00000  90.00000          Dietrich Lohmann            0          1   \n",
       "38 1,970.00000  91.00000          Dietrich Lohmann            0          0   \n",
       "4  1,981.00000 120.00000     Xaver Schwarzenberger            0          0   \n",
       "13 1,976.00000  86.00000          Michael Ballhaus            0          0   \n",
       "31 1,971.00000  95.00000          Michael Ballhaus            0          0   \n",
       "27 1,972.00000  87.00000          Dietrich Lohmann            0          1   \n",
       "6  1,979.00000 111.00000  Rainer Werner Fassbinder            0          0   \n",
       "28 1,972.00000 124.00000          Michael Ballhaus            0          0   \n",
       "\n",
       "    rating_count  Hanna Schygulla  Kurt Raab  Lilo Pempeit  Irm Hermann  ...  \\\n",
       "34     498.00000          1.00000    1.00000       0.00000      0.00000  ...   \n",
       "38   1,208.00000          1.00000    0.00000       1.00000      0.00000  ...   \n",
       "4    3,571.00000          1.00000    0.00000       0.00000      0.00000  ...   \n",
       "13   3,687.00000          0.00000    0.00000       0.00000      0.00000  ...   \n",
       "31     977.00000          1.00000    0.00000       0.00000      0.00000  ...   \n",
       "27     209.00000          1.00000    1.00000       1.00000      0.00000  ...   \n",
       "6    2,116.00000          1.00000    0.00000       1.00000      0.00000  ...   \n",
       "28   8,545.00000          1.00000    0.00000       0.00000      1.00000  ...   \n",
       "\n",
       "    Carla Egerer  Franz Maron  Claus Holm  Barbara Sukowa  Christine Kaufmann  \\\n",
       "34       0.00000      1.00000     0.00000         0.00000             0.00000   \n",
       "38       1.00000      0.00000     0.00000         0.00000             0.00000   \n",
       "4        0.00000      0.00000     0.00000         0.00000             1.00000   \n",
       "13       0.00000      0.00000     0.00000         0.00000             0.00000   \n",
       "31       0.00000      0.00000     0.00000         0.00000             0.00000   \n",
       "27       0.00000      0.00000     0.00000         0.00000             0.00000   \n",
       "6        0.00000      0.00000     1.00000         0.00000             0.00000   \n",
       "28       0.00000      0.00000     0.00000         0.00000             0.00000   \n",
       "\n",
       "    Herbert Steinmetz  Karl-Heinz von Hassel  Sonja Neudorfer  \\\n",
       "34            0.00000                0.00000          0.00000   \n",
       "38            0.00000                0.00000          0.00000   \n",
       "4             0.00000                1.00000          0.00000   \n",
       "13            0.00000                0.00000          0.00000   \n",
       "31            0.00000                0.00000          0.00000   \n",
       "27            0.00000                0.00000          0.00000   \n",
       "6             0.00000                0.00000          0.00000   \n",
       "28            0.00000                0.00000          0.00000   \n",
       "\n",
       "    Alexander Allerson  Udo Kier  \n",
       "34             0.00000   0.00000  \n",
       "38             0.00000   0.00000  \n",
       "4              0.00000   1.00000  \n",
       "13             1.00000   0.00000  \n",
       "31             0.00000   0.00000  \n",
       "27             0.00000   0.00000  \n",
       "6              0.00000   1.00000  \n",
       "28             0.00000   0.00000  \n",
       "\n",
       "[8 rows x 60 columns]"
      ]
     },
     "execution_count": 302,
     "metadata": {},
     "output_type": "execute_result"
    }
   ],
   "source": [
    "X_test"
   ]
  },
  {
   "cell_type": "markdown",
   "metadata": {},
   "source": [
    "## Preprocessing"
   ]
  },
  {
   "cell_type": "markdown",
   "metadata": {},
   "source": [
    "### Categorical Variable Preprocessing"
   ]
  },
  {
   "cell_type": "markdown",
   "metadata": {},
   "source": [
    "#### One-hot-encoding"
   ]
  },
  {
   "cell_type": "code",
   "execution_count": 303,
   "metadata": {},
   "outputs": [],
   "source": [
    "cat_ohe_vars = ['cinematographer']\n",
    "X_train_val_cat_ohe = X_train_val[cat_ohe_vars]\n",
    "#X_train_cat_ohe "
   ]
  },
  {
   "cell_type": "code",
   "execution_count": 304,
   "metadata": {},
   "outputs": [],
   "source": [
    "ohe = OneHotEncoder(sparse=False,  handle_unknown='ignore')\n",
    "ohe.fit(X_train_val_cat_ohe)\n",
    "cat_ohe = ohe.transform(X_train_val_cat_ohe)"
   ]
  },
  {
   "cell_type": "code",
   "execution_count": 305,
   "metadata": {},
   "outputs": [
    {
     "data": {
      "text/plain": [
       "array(['cinematographer_Dietrich Lohmann',\n",
       "       'cinematographer_Jürgen Jürges',\n",
       "       'cinematographer_Michael Ballhaus', 'cinematographer_OTHER',\n",
       "       'cinematographer_Rainer Werner Fassbinder',\n",
       "       'cinematographer_Xaver Schwarzenberger'], dtype=object)"
      ]
     },
     "execution_count": 305,
     "metadata": {},
     "output_type": "execute_result"
    }
   ],
   "source": [
    "columns=ohe.get_feature_names(cat_ohe_vars)\n",
    "columns"
   ]
  },
  {
   "cell_type": "code",
   "execution_count": 306,
   "metadata": {},
   "outputs": [
    {
     "data": {
      "text/html": [
       "<div>\n",
       "<style scoped>\n",
       "    .dataframe tbody tr th:only-of-type {\n",
       "        vertical-align: middle;\n",
       "    }\n",
       "\n",
       "    .dataframe tbody tr th {\n",
       "        vertical-align: top;\n",
       "    }\n",
       "\n",
       "    .dataframe thead th {\n",
       "        text-align: right;\n",
       "    }\n",
       "</style>\n",
       "<table border=\"1\" class=\"dataframe\">\n",
       "  <thead>\n",
       "    <tr style=\"text-align: right;\">\n",
       "      <th></th>\n",
       "      <th>cinematographer_Dietrich Lohmann</th>\n",
       "      <th>cinematographer_Jürgen Jürges</th>\n",
       "      <th>cinematographer_Michael Ballhaus</th>\n",
       "      <th>cinematographer_OTHER</th>\n",
       "      <th>cinematographer_Rainer Werner Fassbinder</th>\n",
       "      <th>cinematographer_Xaver Schwarzenberger</th>\n",
       "    </tr>\n",
       "  </thead>\n",
       "  <tbody>\n",
       "    <tr>\n",
       "      <th>25</th>\n",
       "      <td>1.00000</td>\n",
       "      <td>0.00000</td>\n",
       "      <td>0.00000</td>\n",
       "      <td>0.00000</td>\n",
       "      <td>0.00000</td>\n",
       "      <td>0.00000</td>\n",
       "    </tr>\n",
       "    <tr>\n",
       "      <th>15</th>\n",
       "      <td>0.00000</td>\n",
       "      <td>0.00000</td>\n",
       "      <td>1.00000</td>\n",
       "      <td>0.00000</td>\n",
       "      <td>0.00000</td>\n",
       "      <td>0.00000</td>\n",
       "    </tr>\n",
       "    <tr>\n",
       "      <th>17</th>\n",
       "      <td>0.00000</td>\n",
       "      <td>0.00000</td>\n",
       "      <td>1.00000</td>\n",
       "      <td>0.00000</td>\n",
       "      <td>0.00000</td>\n",
       "      <td>0.00000</td>\n",
       "    </tr>\n",
       "    <tr>\n",
       "      <th>8</th>\n",
       "      <td>0.00000</td>\n",
       "      <td>0.00000</td>\n",
       "      <td>0.00000</td>\n",
       "      <td>0.00000</td>\n",
       "      <td>1.00000</td>\n",
       "      <td>0.00000</td>\n",
       "    </tr>\n",
       "    <tr>\n",
       "      <th>16</th>\n",
       "      <td>0.00000</td>\n",
       "      <td>1.00000</td>\n",
       "      <td>0.00000</td>\n",
       "      <td>0.00000</td>\n",
       "      <td>0.00000</td>\n",
       "      <td>0.00000</td>\n",
       "    </tr>\n",
       "  </tbody>\n",
       "</table>\n",
       "</div>"
      ],
      "text/plain": [
       "    cinematographer_Dietrich Lohmann  cinematographer_Jürgen Jürges  \\\n",
       "25                           1.00000                        0.00000   \n",
       "15                           0.00000                        0.00000   \n",
       "17                           0.00000                        0.00000   \n",
       "8                            0.00000                        0.00000   \n",
       "16                           0.00000                        1.00000   \n",
       "\n",
       "    cinematographer_Michael Ballhaus  cinematographer_OTHER  \\\n",
       "25                           0.00000                0.00000   \n",
       "15                           1.00000                0.00000   \n",
       "17                           1.00000                0.00000   \n",
       "8                            0.00000                0.00000   \n",
       "16                           0.00000                0.00000   \n",
       "\n",
       "    cinematographer_Rainer Werner Fassbinder  \\\n",
       "25                                   0.00000   \n",
       "15                                   0.00000   \n",
       "17                                   0.00000   \n",
       "8                                    1.00000   \n",
       "16                                   0.00000   \n",
       "\n",
       "    cinematographer_Xaver Schwarzenberger  \n",
       "25                                0.00000  \n",
       "15                                0.00000  \n",
       "17                                0.00000  \n",
       "8                                 0.00000  \n",
       "16                                0.00000  "
      ]
     },
     "execution_count": 306,
     "metadata": {},
     "output_type": "execute_result"
    }
   ],
   "source": [
    "X_train_val_cat_ohe_df = pd.DataFrame(cat_ohe, columns=columns, index=X_train_val_cat_ohe.index)\n",
    "X_train_val_cat_ohe_df.head()"
   ]
  },
  {
   "cell_type": "markdown",
   "metadata": {},
   "source": [
    "Repeating transformations on testing set"
   ]
  },
  {
   "cell_type": "code",
   "execution_count": 307,
   "metadata": {},
   "outputs": [],
   "source": [
    "X_test_cat_ohe = X_test[['cinematographer']]\n",
    "X_test_cat_ohe\n",
    "cat_ohe_test = ohe.transform(X_test_cat_ohe)\n",
    "\n",
    "cat_ohe_columns = ohe.get_feature_names(['cinematographer'])\n",
    "X_test_cat_ohe_df = pd.DataFrame(cat_ohe_test, columns=cat_ohe_columns)\n"
   ]
  },
  {
   "cell_type": "code",
   "execution_count": null,
   "metadata": {},
   "outputs": [],
   "source": []
  },
  {
   "cell_type": "markdown",
   "metadata": {},
   "source": [
    "### Continuous Variable Preprocessing"
   ]
  },
  {
   "cell_type": "code",
   "execution_count": 308,
   "metadata": {},
   "outputs": [
    {
     "data": {
      "text/html": [
       "<div>\n",
       "<style scoped>\n",
       "    .dataframe tbody tr th:only-of-type {\n",
       "        vertical-align: middle;\n",
       "    }\n",
       "\n",
       "    .dataframe tbody tr th {\n",
       "        vertical-align: top;\n",
       "    }\n",
       "\n",
       "    .dataframe thead th {\n",
       "        text-align: right;\n",
       "    }\n",
       "</style>\n",
       "<table border=\"1\" class=\"dataframe\">\n",
       "  <thead>\n",
       "    <tr style=\"text-align: right;\">\n",
       "      <th></th>\n",
       "      <th>year</th>\n",
       "      <th>duration</th>\n",
       "      <th>rating_count</th>\n",
       "    </tr>\n",
       "  </thead>\n",
       "  <tbody>\n",
       "    <tr>\n",
       "      <th>25</th>\n",
       "      <td>1,972.00000</td>\n",
       "      <td>476.00000</td>\n",
       "      <td>354.00000</td>\n",
       "    </tr>\n",
       "    <tr>\n",
       "      <th>15</th>\n",
       "      <td>1,976.00000</td>\n",
       "      <td>104.00000</td>\n",
       "      <td>1,144.00000</td>\n",
       "    </tr>\n",
       "    <tr>\n",
       "      <th>17</th>\n",
       "      <td>1,975.00000</td>\n",
       "      <td>108.00000</td>\n",
       "      <td>1,738.00000</td>\n",
       "    </tr>\n",
       "    <tr>\n",
       "      <th>8</th>\n",
       "      <td>1,978.00000</td>\n",
       "      <td>124.00000</td>\n",
       "      <td>3,697.00000</td>\n",
       "    </tr>\n",
       "    <tr>\n",
       "      <th>16</th>\n",
       "      <td>1,975.00000</td>\n",
       "      <td>88.00000</td>\n",
       "      <td>1,550.00000</td>\n",
       "    </tr>\n",
       "  </tbody>\n",
       "</table>\n",
       "</div>"
      ],
      "text/plain": [
       "          year  duration  rating_count\n",
       "25 1,972.00000 476.00000     354.00000\n",
       "15 1,976.00000 104.00000   1,144.00000\n",
       "17 1,975.00000 108.00000   1,738.00000\n",
       "8  1,978.00000 124.00000   3,697.00000\n",
       "16 1,975.00000  88.00000   1,550.00000"
      ]
     },
     "execution_count": 308,
     "metadata": {},
     "output_type": "execute_result"
    }
   ],
   "source": [
    "cont_column_names = ['year', 'duration', 'rating_count']\n",
    "X_train_val_cont = X_train_val[cont_column_names ]\n",
    "\n",
    "X_test_cont      = X_test[     cont_column_names ]\n",
    "\n",
    "\n",
    "X_train_val_cont.head()\n"
   ]
  },
  {
   "cell_type": "markdown",
   "metadata": {},
   "source": [
    "#### Generate log and polynomials"
   ]
  },
  {
   "cell_type": "raw",
   "metadata": {},
   "source": [
    "sqrs = [str(name + '_sq') for name in cont_column_names]\n",
    "sqrs"
   ]
  },
  {
   "cell_type": "raw",
   "metadata": {},
   "source": [
    "str(cont_column_names[0])"
   ]
  },
  {
   "cell_type": "raw",
   "metadata": {},
   "source": [
    "interactions = [str(cont_column_names[0]) +'_x_'+ str(cont_column_names[1]),\n",
    "               str(cont_column_names[1]) +'_x_'+ str(cont_column_names[2]),\n",
    "               str(cont_column_names[0]) +'_x_'+ str(cont_column_names[2])]\n",
    "interactions"
   ]
  },
  {
   "cell_type": "raw",
   "metadata": {},
   "source": [
    "cont_column_names.extend(sqrs)\n",
    "cont_column_names.extend(interactions)"
   ]
  },
  {
   "cell_type": "raw",
   "metadata": {},
   "source": [
    "cont_column_names"
   ]
  },
  {
   "cell_type": "raw",
   "metadata": {},
   "source": [
    "poly = PolynomialFeatures(degree=2)\n",
    "\n",
    "X_train_val_cont_poly = poly.fit_transform(X_train_val_cont)\n",
    "X_test_cont_poly           = poly.fit_transform(X_test_cont)"
   ]
  },
  {
   "cell_type": "raw",
   "metadata": {},
   "source": [
    "X_train_val_cont_poly = pd.DataFrame(X_train_val_cont_poly[:,1:], columns=cont_column_names)\n",
    "X_test_cont_poly  = pd.DataFrame(X_test_cont_poly[:,1:],  columns=cont_column_names)"
   ]
  },
  {
   "cell_type": "raw",
   "metadata": {},
   "source": [
    "X_train_val_cont_poly.loc[:,'log_year']         = np.log(X_train_val_cont_poly.year)\n",
    "X_train_val_cont_poly.loc[:,'log_rating_count'] = np.log(X_train_val_cont_poly.rating_count)\n"
   ]
  },
  {
   "cell_type": "raw",
   "metadata": {},
   "source": [
    "X_test_cont_poly.loc[:,'log_year']         = np.log(X_test_cont_poly.year)\n",
    "X_test_cont_poly.loc[:,'log_rating_count'] = np.log(X_test_cont_poly.rating_count)"
   ]
  },
  {
   "cell_type": "raw",
   "metadata": {},
   "source": [
    "X_train_val_cont_poly.head()"
   ]
  },
  {
   "cell_type": "code",
   "execution_count": 309,
   "metadata": {},
   "outputs": [],
   "source": [
    "#X_train_val_cont_poly.head()"
   ]
  },
  {
   "cell_type": "code",
   "execution_count": 310,
   "metadata": {},
   "outputs": [
    {
     "name": "stderr",
     "output_type": "stream",
     "text": [
      "<ipython-input-310-d30627963e3a>:1: SettingWithCopyWarning: \n",
      "A value is trying to be set on a copy of a slice from a DataFrame.\n",
      "Try using .loc[row_indexer,col_indexer] = value instead\n",
      "\n",
      "See the caveats in the documentation: https://pandas.pydata.org/pandas-docs/stable/user_guide/indexing.html#returning-a-view-versus-a-copy\n",
      "  X_train_val_cont['log_year']         = np.log(X_train_val_cont.year)\n",
      "<ipython-input-310-d30627963e3a>:2: SettingWithCopyWarning: \n",
      "A value is trying to be set on a copy of a slice from a DataFrame.\n",
      "Try using .loc[row_indexer,col_indexer] = value instead\n",
      "\n",
      "See the caveats in the documentation: https://pandas.pydata.org/pandas-docs/stable/user_guide/indexing.html#returning-a-view-versus-a-copy\n",
      "  X_train_val_cont['log_rating_count'] = np.log(X_train_val_cont.rating_count)\n",
      "<ipython-input-310-d30627963e3a>:5: SettingWithCopyWarning: \n",
      "A value is trying to be set on a copy of a slice from a DataFrame.\n",
      "Try using .loc[row_indexer,col_indexer] = value instead\n",
      "\n",
      "See the caveats in the documentation: https://pandas.pydata.org/pandas-docs/stable/user_guide/indexing.html#returning-a-view-versus-a-copy\n",
      "  X_test_cont['log_year']         = np.log(X_test_cont.year)\n",
      "<ipython-input-310-d30627963e3a>:6: SettingWithCopyWarning: \n",
      "A value is trying to be set on a copy of a slice from a DataFrame.\n",
      "Try using .loc[row_indexer,col_indexer] = value instead\n",
      "\n",
      "See the caveats in the documentation: https://pandas.pydata.org/pandas-docs/stable/user_guide/indexing.html#returning-a-view-versus-a-copy\n",
      "  X_test_cont['log_rating_count'] = np.log(X_test_cont.rating_count)\n"
     ]
    }
   ],
   "source": [
    "X_train_val_cont['log_year']         = np.log(X_train_val_cont.year)\n",
    "X_train_val_cont['log_rating_count'] = np.log(X_train_val_cont.rating_count)\n",
    "\n",
    "\n",
    "X_test_cont['log_year']         = np.log(X_test_cont.year)\n",
    "X_test_cont['log_rating_count'] = np.log(X_test_cont.rating_count)"
   ]
  },
  {
   "cell_type": "code",
   "execution_count": 311,
   "metadata": {},
   "outputs": [
    {
     "data": {
      "text/plain": [
       "8"
      ]
     },
     "execution_count": 311,
     "metadata": {},
     "output_type": "execute_result"
    }
   ],
   "source": [
    "X_test_cont.shape[0]"
   ]
  },
  {
   "cell_type": "markdown",
   "metadata": {},
   "source": [
    "#### Concatenate columns"
   ]
  },
  {
   "cell_type": "code",
   "execution_count": 312,
   "metadata": {},
   "outputs": [],
   "source": [
    "cat_columns = ['documentary', 'tv_series', *prevalent_actor_columns]\n",
    "X_train_val_cat_df = X_train_val[cat_columns]\n",
    "#X_train_val_cat_df\n",
    "\n",
    "X_test_cat_df = X_test[cat_columns]\n",
    "#X_train_val_cat_df"
   ]
  },
  {
   "cell_type": "code",
   "execution_count": 313,
   "metadata": {},
   "outputs": [
    {
     "data": {
      "text/plain": [
       "False"
      ]
     },
     "execution_count": 313,
     "metadata": {},
     "output_type": "execute_result"
    }
   ],
   "source": [
    "X_test_cat_df.isnull().values.any()"
   ]
  },
  {
   "cell_type": "code",
   "execution_count": 314,
   "metadata": {},
   "outputs": [],
   "source": [
    "X_train_val_combo= pd.concat([X_train_val_cont, X_train_val_cat_ohe_df, X_train_val_cat_df, ], axis='columns')\n",
    "X_test_combo = pd.concat([X_test_cont.reset_index(drop=True), X_test_cat_ohe_df.reset_index(drop=True), X_test_cat_df.reset_index(drop=True), ], axis='columns')"
   ]
  },
  {
   "cell_type": "code",
   "execution_count": 315,
   "metadata": {},
   "outputs": [
    {
     "data": {
      "text/plain": [
       "(8, 56)"
      ]
     },
     "execution_count": 315,
     "metadata": {},
     "output_type": "execute_result"
    }
   ],
   "source": [
    "X_test_cat_df.shape"
   ]
  },
  {
   "cell_type": "code",
   "execution_count": 316,
   "metadata": {},
   "outputs": [
    {
     "data": {
      "text/plain": [
       "False"
      ]
     },
     "execution_count": 316,
     "metadata": {},
     "output_type": "execute_result"
    }
   ],
   "source": [
    "X_train_val_combo.isnull().values.any()"
   ]
  },
  {
   "cell_type": "code",
   "execution_count": null,
   "metadata": {},
   "outputs": [],
   "source": []
  },
  {
   "cell_type": "code",
   "execution_count": 317,
   "metadata": {},
   "outputs": [
    {
     "data": {
      "text/plain": [
       "False"
      ]
     },
     "execution_count": 317,
     "metadata": {},
     "output_type": "execute_result"
    }
   ],
   "source": [
    "X_test_combo.isnull().values.any()"
   ]
  },
  {
   "cell_type": "code",
   "execution_count": 318,
   "metadata": {},
   "outputs": [
    {
     "data": {
      "text/html": [
       "<div>\n",
       "<style scoped>\n",
       "    .dataframe tbody tr th:only-of-type {\n",
       "        vertical-align: middle;\n",
       "    }\n",
       "\n",
       "    .dataframe tbody tr th {\n",
       "        vertical-align: top;\n",
       "    }\n",
       "\n",
       "    .dataframe thead th {\n",
       "        text-align: right;\n",
       "    }\n",
       "</style>\n",
       "<table border=\"1\" class=\"dataframe\">\n",
       "  <thead>\n",
       "    <tr style=\"text-align: right;\">\n",
       "      <th></th>\n",
       "      <th>year</th>\n",
       "      <th>duration</th>\n",
       "      <th>rating_count</th>\n",
       "      <th>log_year</th>\n",
       "      <th>log_rating_count</th>\n",
       "      <th>cinematographer_Dietrich Lohmann</th>\n",
       "      <th>cinematographer_Jürgen Jürges</th>\n",
       "      <th>cinematographer_Michael Ballhaus</th>\n",
       "      <th>cinematographer_OTHER</th>\n",
       "      <th>cinematographer_Rainer Werner Fassbinder</th>\n",
       "      <th>...</th>\n",
       "      <th>Carla Egerer</th>\n",
       "      <th>Franz Maron</th>\n",
       "      <th>Claus Holm</th>\n",
       "      <th>Barbara Sukowa</th>\n",
       "      <th>Christine Kaufmann</th>\n",
       "      <th>Herbert Steinmetz</th>\n",
       "      <th>Karl-Heinz von Hassel</th>\n",
       "      <th>Sonja Neudorfer</th>\n",
       "      <th>Alexander Allerson</th>\n",
       "      <th>Udo Kier</th>\n",
       "    </tr>\n",
       "  </thead>\n",
       "  <tbody>\n",
       "    <tr>\n",
       "      <th>0</th>\n",
       "      <td>1,970.00000</td>\n",
       "      <td>90.00000</td>\n",
       "      <td>498.00000</td>\n",
       "      <td>7.58579</td>\n",
       "      <td>6.21060</td>\n",
       "      <td>1.00000</td>\n",
       "      <td>0.00000</td>\n",
       "      <td>0.00000</td>\n",
       "      <td>0.00000</td>\n",
       "      <td>0.00000</td>\n",
       "      <td>...</td>\n",
       "      <td>0.00000</td>\n",
       "      <td>1.00000</td>\n",
       "      <td>0.00000</td>\n",
       "      <td>0.00000</td>\n",
       "      <td>0.00000</td>\n",
       "      <td>0.00000</td>\n",
       "      <td>0.00000</td>\n",
       "      <td>0.00000</td>\n",
       "      <td>0.00000</td>\n",
       "      <td>0.00000</td>\n",
       "    </tr>\n",
       "    <tr>\n",
       "      <th>1</th>\n",
       "      <td>1,970.00000</td>\n",
       "      <td>91.00000</td>\n",
       "      <td>1,208.00000</td>\n",
       "      <td>7.58579</td>\n",
       "      <td>7.09672</td>\n",
       "      <td>1.00000</td>\n",
       "      <td>0.00000</td>\n",
       "      <td>0.00000</td>\n",
       "      <td>0.00000</td>\n",
       "      <td>0.00000</td>\n",
       "      <td>...</td>\n",
       "      <td>1.00000</td>\n",
       "      <td>0.00000</td>\n",
       "      <td>0.00000</td>\n",
       "      <td>0.00000</td>\n",
       "      <td>0.00000</td>\n",
       "      <td>0.00000</td>\n",
       "      <td>0.00000</td>\n",
       "      <td>0.00000</td>\n",
       "      <td>0.00000</td>\n",
       "      <td>0.00000</td>\n",
       "    </tr>\n",
       "    <tr>\n",
       "      <th>2</th>\n",
       "      <td>1,981.00000</td>\n",
       "      <td>120.00000</td>\n",
       "      <td>3,571.00000</td>\n",
       "      <td>7.59136</td>\n",
       "      <td>8.18060</td>\n",
       "      <td>0.00000</td>\n",
       "      <td>0.00000</td>\n",
       "      <td>0.00000</td>\n",
       "      <td>0.00000</td>\n",
       "      <td>0.00000</td>\n",
       "      <td>...</td>\n",
       "      <td>0.00000</td>\n",
       "      <td>0.00000</td>\n",
       "      <td>0.00000</td>\n",
       "      <td>0.00000</td>\n",
       "      <td>1.00000</td>\n",
       "      <td>0.00000</td>\n",
       "      <td>1.00000</td>\n",
       "      <td>0.00000</td>\n",
       "      <td>0.00000</td>\n",
       "      <td>1.00000</td>\n",
       "    </tr>\n",
       "    <tr>\n",
       "      <th>3</th>\n",
       "      <td>1,976.00000</td>\n",
       "      <td>86.00000</td>\n",
       "      <td>3,687.00000</td>\n",
       "      <td>7.58883</td>\n",
       "      <td>8.21257</td>\n",
       "      <td>0.00000</td>\n",
       "      <td>0.00000</td>\n",
       "      <td>1.00000</td>\n",
       "      <td>0.00000</td>\n",
       "      <td>0.00000</td>\n",
       "      <td>...</td>\n",
       "      <td>0.00000</td>\n",
       "      <td>0.00000</td>\n",
       "      <td>0.00000</td>\n",
       "      <td>0.00000</td>\n",
       "      <td>0.00000</td>\n",
       "      <td>0.00000</td>\n",
       "      <td>0.00000</td>\n",
       "      <td>0.00000</td>\n",
       "      <td>1.00000</td>\n",
       "      <td>0.00000</td>\n",
       "    </tr>\n",
       "    <tr>\n",
       "      <th>4</th>\n",
       "      <td>1,971.00000</td>\n",
       "      <td>95.00000</td>\n",
       "      <td>977.00000</td>\n",
       "      <td>7.58630</td>\n",
       "      <td>6.88449</td>\n",
       "      <td>0.00000</td>\n",
       "      <td>0.00000</td>\n",
       "      <td>1.00000</td>\n",
       "      <td>0.00000</td>\n",
       "      <td>0.00000</td>\n",
       "      <td>...</td>\n",
       "      <td>0.00000</td>\n",
       "      <td>0.00000</td>\n",
       "      <td>0.00000</td>\n",
       "      <td>0.00000</td>\n",
       "      <td>0.00000</td>\n",
       "      <td>0.00000</td>\n",
       "      <td>0.00000</td>\n",
       "      <td>0.00000</td>\n",
       "      <td>0.00000</td>\n",
       "      <td>0.00000</td>\n",
       "    </tr>\n",
       "    <tr>\n",
       "      <th>5</th>\n",
       "      <td>1,972.00000</td>\n",
       "      <td>87.00000</td>\n",
       "      <td>209.00000</td>\n",
       "      <td>7.58680</td>\n",
       "      <td>5.34233</td>\n",
       "      <td>1.00000</td>\n",
       "      <td>0.00000</td>\n",
       "      <td>0.00000</td>\n",
       "      <td>0.00000</td>\n",
       "      <td>0.00000</td>\n",
       "      <td>...</td>\n",
       "      <td>0.00000</td>\n",
       "      <td>0.00000</td>\n",
       "      <td>0.00000</td>\n",
       "      <td>0.00000</td>\n",
       "      <td>0.00000</td>\n",
       "      <td>0.00000</td>\n",
       "      <td>0.00000</td>\n",
       "      <td>0.00000</td>\n",
       "      <td>0.00000</td>\n",
       "      <td>0.00000</td>\n",
       "    </tr>\n",
       "    <tr>\n",
       "      <th>6</th>\n",
       "      <td>1,979.00000</td>\n",
       "      <td>111.00000</td>\n",
       "      <td>2,116.00000</td>\n",
       "      <td>7.59035</td>\n",
       "      <td>7.65728</td>\n",
       "      <td>0.00000</td>\n",
       "      <td>0.00000</td>\n",
       "      <td>0.00000</td>\n",
       "      <td>0.00000</td>\n",
       "      <td>1.00000</td>\n",
       "      <td>...</td>\n",
       "      <td>0.00000</td>\n",
       "      <td>0.00000</td>\n",
       "      <td>1.00000</td>\n",
       "      <td>0.00000</td>\n",
       "      <td>0.00000</td>\n",
       "      <td>0.00000</td>\n",
       "      <td>0.00000</td>\n",
       "      <td>0.00000</td>\n",
       "      <td>0.00000</td>\n",
       "      <td>1.00000</td>\n",
       "    </tr>\n",
       "    <tr>\n",
       "      <th>7</th>\n",
       "      <td>1,972.00000</td>\n",
       "      <td>124.00000</td>\n",
       "      <td>8,545.00000</td>\n",
       "      <td>7.58680</td>\n",
       "      <td>9.05310</td>\n",
       "      <td>0.00000</td>\n",
       "      <td>0.00000</td>\n",
       "      <td>1.00000</td>\n",
       "      <td>0.00000</td>\n",
       "      <td>0.00000</td>\n",
       "      <td>...</td>\n",
       "      <td>0.00000</td>\n",
       "      <td>0.00000</td>\n",
       "      <td>0.00000</td>\n",
       "      <td>0.00000</td>\n",
       "      <td>0.00000</td>\n",
       "      <td>0.00000</td>\n",
       "      <td>0.00000</td>\n",
       "      <td>0.00000</td>\n",
       "      <td>0.00000</td>\n",
       "      <td>0.00000</td>\n",
       "    </tr>\n",
       "  </tbody>\n",
       "</table>\n",
       "<p>8 rows × 67 columns</p>\n",
       "</div>"
      ],
      "text/plain": [
       "         year  duration  rating_count  log_year  log_rating_count  \\\n",
       "0 1,970.00000  90.00000     498.00000   7.58579           6.21060   \n",
       "1 1,970.00000  91.00000   1,208.00000   7.58579           7.09672   \n",
       "2 1,981.00000 120.00000   3,571.00000   7.59136           8.18060   \n",
       "3 1,976.00000  86.00000   3,687.00000   7.58883           8.21257   \n",
       "4 1,971.00000  95.00000     977.00000   7.58630           6.88449   \n",
       "5 1,972.00000  87.00000     209.00000   7.58680           5.34233   \n",
       "6 1,979.00000 111.00000   2,116.00000   7.59035           7.65728   \n",
       "7 1,972.00000 124.00000   8,545.00000   7.58680           9.05310   \n",
       "\n",
       "   cinematographer_Dietrich Lohmann  cinematographer_Jürgen Jürges  \\\n",
       "0                           1.00000                        0.00000   \n",
       "1                           1.00000                        0.00000   \n",
       "2                           0.00000                        0.00000   \n",
       "3                           0.00000                        0.00000   \n",
       "4                           0.00000                        0.00000   \n",
       "5                           1.00000                        0.00000   \n",
       "6                           0.00000                        0.00000   \n",
       "7                           0.00000                        0.00000   \n",
       "\n",
       "   cinematographer_Michael Ballhaus  cinematographer_OTHER  \\\n",
       "0                           0.00000                0.00000   \n",
       "1                           0.00000                0.00000   \n",
       "2                           0.00000                0.00000   \n",
       "3                           1.00000                0.00000   \n",
       "4                           1.00000                0.00000   \n",
       "5                           0.00000                0.00000   \n",
       "6                           0.00000                0.00000   \n",
       "7                           1.00000                0.00000   \n",
       "\n",
       "   cinematographer_Rainer Werner Fassbinder  ...  Carla Egerer  Franz Maron  \\\n",
       "0                                   0.00000  ...       0.00000      1.00000   \n",
       "1                                   0.00000  ...       1.00000      0.00000   \n",
       "2                                   0.00000  ...       0.00000      0.00000   \n",
       "3                                   0.00000  ...       0.00000      0.00000   \n",
       "4                                   0.00000  ...       0.00000      0.00000   \n",
       "5                                   0.00000  ...       0.00000      0.00000   \n",
       "6                                   1.00000  ...       0.00000      0.00000   \n",
       "7                                   0.00000  ...       0.00000      0.00000   \n",
       "\n",
       "   Claus Holm  Barbara Sukowa  Christine Kaufmann  Herbert Steinmetz  \\\n",
       "0     0.00000         0.00000             0.00000            0.00000   \n",
       "1     0.00000         0.00000             0.00000            0.00000   \n",
       "2     0.00000         0.00000             1.00000            0.00000   \n",
       "3     0.00000         0.00000             0.00000            0.00000   \n",
       "4     0.00000         0.00000             0.00000            0.00000   \n",
       "5     0.00000         0.00000             0.00000            0.00000   \n",
       "6     1.00000         0.00000             0.00000            0.00000   \n",
       "7     0.00000         0.00000             0.00000            0.00000   \n",
       "\n",
       "   Karl-Heinz von Hassel  Sonja Neudorfer  Alexander Allerson  Udo Kier  \n",
       "0                0.00000          0.00000             0.00000   0.00000  \n",
       "1                0.00000          0.00000             0.00000   0.00000  \n",
       "2                1.00000          0.00000             0.00000   1.00000  \n",
       "3                0.00000          0.00000             1.00000   0.00000  \n",
       "4                0.00000          0.00000             0.00000   0.00000  \n",
       "5                0.00000          0.00000             0.00000   0.00000  \n",
       "6                0.00000          0.00000             0.00000   1.00000  \n",
       "7                0.00000          0.00000             0.00000   0.00000  \n",
       "\n",
       "[8 rows x 67 columns]"
      ]
     },
     "execution_count": 318,
     "metadata": {},
     "output_type": "execute_result"
    }
   ],
   "source": [
    "X_test_combo"
   ]
  },
  {
   "cell_type": "code",
   "execution_count": 319,
   "metadata": {},
   "outputs": [
    {
     "data": {
      "text/plain": [
       "Index(['year', 'duration', 'rating_count', 'log_year', 'log_rating_count',\n",
       "       'cinematographer_Dietrich Lohmann', 'cinematographer_Jürgen Jürges',\n",
       "       'cinematographer_Michael Ballhaus', 'cinematographer_OTHER',\n",
       "       'cinematographer_Rainer Werner Fassbinder',\n",
       "       'cinematographer_Xaver Schwarzenberger', 'documentary', 'tv_series',\n",
       "       'Hanna Schygulla', 'Kurt Raab', 'Lilo Pempeit', 'Irm Hermann',\n",
       "       'Margit Carstensen', 'Günther Kaufmann', 'Ulli Lommel', 'Ingrid Caven',\n",
       "       'Karl Scheydt', 'Volker Spengler', 'Harry Baer', 'Hark Bohm',\n",
       "       'Walter Sedlmayr', 'Gottfried John', 'Rudolf Waldemar Brem',\n",
       "       'Katrin Schaake', 'Brigitte Mira', 'Klaus Löwitsch', 'Adrian Hoven',\n",
       "       'El Hedi ben Salem', 'Peter Chatel', 'Peter Moland', 'Vitus Zeplichal',\n",
       "       'Doris Mattes', 'Y Sa Lo', 'Elga Sorbas', 'Eva Mattes', 'Peter Kern',\n",
       "       'Hans Hirschmüller', 'Marquard Bohm', 'Armin Meier', 'Wolfgang Schenck',\n",
       "       'Elma Karlowa', 'Günter Lamprecht', 'Rudolf Lenz', 'Andrea Schober',\n",
       "       'Hannes Gromball', 'Karlheinz Böhm', 'Roger Fritz', 'Ivan Desny',\n",
       "       'Elisabeth Trissenaar', 'Margarethe von Trotta', 'Eddie Constantine',\n",
       "       'Isolde Barth', 'Carla Egerer', 'Franz Maron', 'Claus Holm',\n",
       "       'Barbara Sukowa', 'Christine Kaufmann', 'Herbert Steinmetz',\n",
       "       'Karl-Heinz von Hassel', 'Sonja Neudorfer', 'Alexander Allerson',\n",
       "       'Udo Kier'],\n",
       "      dtype='object')"
      ]
     },
     "execution_count": 319,
     "metadata": {},
     "output_type": "execute_result"
    }
   ],
   "source": [
    "selected_columns = X_train_val_combo.columns\n",
    "X_train_val_combo.columns"
   ]
  },
  {
   "cell_type": "raw",
   "metadata": {},
   "source": [
    "poly = PolynomialFeatures(degree=2)\n",
    "X_train_val_combo_poly = poly.fit_transform(X_train_val_combo)\n",
    "X_test_combo_poly = poly.transform(X_test_combo)"
   ]
  },
  {
   "cell_type": "markdown",
   "metadata": {},
   "source": [
    "### Train vs. val split"
   ]
  },
  {
   "cell_type": "code",
   "execution_count": 320,
   "metadata": {},
   "outputs": [],
   "source": [
    "X_train, X_val, y_train, y_val = train_test_split(X_train_val_combo, y_train_val, test_size=.25, random_state=43)"
   ]
  },
  {
   "cell_type": "markdown",
   "metadata": {},
   "source": []
  },
  {
   "cell_type": "code",
   "execution_count": 321,
   "metadata": {},
   "outputs": [],
   "source": [
    "#Mean Absolute Error (MAE)\n",
    "def mae(y_true, y_pred):\n",
    "    return np.mean(np.abs(y_pred - y_true)) \n",
    "\n",
    "#mae(y_test, test_set_pred)"
   ]
  },
  {
   "cell_type": "markdown",
   "metadata": {},
   "source": [
    "## B. Lasso CV regression on all features\n"
   ]
  },
  {
   "cell_type": "markdown",
   "metadata": {},
   "source": [
    "### Lasso CV"
   ]
  },
  {
   "cell_type": "code",
   "execution_count": 322,
   "metadata": {},
   "outputs": [
    {
     "data": {
      "text/plain": [
       "array([[1.972e+03, 4.760e+02, 3.540e+02, ..., 0.000e+00, 0.000e+00,\n",
       "        0.000e+00],\n",
       "       [1.976e+03, 1.040e+02, 1.144e+03, ..., 0.000e+00, 1.000e+00,\n",
       "        0.000e+00],\n",
       "       [1.975e+03, 1.080e+02, 1.738e+03, ..., 0.000e+00, 0.000e+00,\n",
       "        0.000e+00],\n",
       "       ...,\n",
       "       [1.976e+03, 1.120e+02, 1.741e+03, ..., 0.000e+00, 0.000e+00,\n",
       "        0.000e+00],\n",
       "       [1.972e+03, 8.800e+01, 4.262e+03, ..., 0.000e+00, 0.000e+00,\n",
       "        0.000e+00],\n",
       "       [1.969e+03, 8.800e+01, 2.739e+03, ..., 0.000e+00, 0.000e+00,\n",
       "        0.000e+00]])"
      ]
     },
     "execution_count": 322,
     "metadata": {},
     "output_type": "execute_result"
    }
   ],
   "source": [
    "X_train_val_combo.values"
   ]
  },
  {
   "cell_type": "code",
   "execution_count": null,
   "metadata": {},
   "outputs": [],
   "source": []
  },
  {
   "cell_type": "code",
   "execution_count": 323,
   "metadata": {},
   "outputs": [
    {
     "data": {
      "text/plain": [
       "StandardScaler()"
      ]
     },
     "execution_count": 323,
     "metadata": {},
     "output_type": "execute_result"
    }
   ],
   "source": [
    "## Scale the data as before\n",
    "std = StandardScaler()\n",
    "std.fit(X_train_val_combo.values)"
   ]
  },
  {
   "cell_type": "code",
   "execution_count": null,
   "metadata": {},
   "outputs": [],
   "source": []
  },
  {
   "cell_type": "code",
   "execution_count": null,
   "metadata": {},
   "outputs": [],
   "source": []
  },
  {
   "cell_type": "code",
   "execution_count": 324,
   "metadata": {},
   "outputs": [],
   "source": [
    "## Scale the Predictors on both the train and test set\n",
    "X_tr = std.transform(X_train_val_combo.values)\n",
    "X_te = std.transform(X_test_combo.values)"
   ]
  },
  {
   "cell_type": "code",
   "execution_count": 325,
   "metadata": {},
   "outputs": [
    {
     "data": {
      "text/plain": [
       "LassoCV(alphas=array([1.00000000e-02, 1.04737090e-02, 1.09698580e-02, 1.14895100e-02,\n",
       "       1.20337784e-02, 1.26038293e-02, 1.32008840e-02, 1.38262217e-02,\n",
       "       1.44811823e-02, 1.51671689e-02, 1.58856513e-02, 1.66381689e-02,\n",
       "       1.74263339e-02, 1.82518349e-02, 1.91164408e-02, 2.00220037e-02,\n",
       "       2.09704640e-02, 2.19638537e-02, 2.30043012e-02, 2.40940356e-02,\n",
       "       2.52353917e-02, 2.64308149e-0...\n",
       "       3.44896226e+01, 3.61234270e+01, 3.78346262e+01, 3.96268864e+01,\n",
       "       4.15040476e+01, 4.34701316e+01, 4.55293507e+01, 4.76861170e+01,\n",
       "       4.99450512e+01, 5.23109931e+01, 5.47890118e+01, 5.73844165e+01,\n",
       "       6.01027678e+01, 6.29498899e+01, 6.59318827e+01, 6.90551352e+01,\n",
       "       7.23263390e+01, 7.57525026e+01, 7.93409667e+01, 8.30994195e+01,\n",
       "       8.70359136e+01, 9.11588830e+01, 9.54771611e+01, 1.00000000e+02]),\n",
       "        cv=5)"
      ]
     },
     "execution_count": 325,
     "metadata": {},
     "output_type": "execute_result"
    }
   ],
   "source": [
    "# Run the cross validation, find the best alpha, refit the model on all the data with that alpha\n",
    "\n",
    "alphavec = 10**np.linspace(-2,2,200)\n",
    "\n",
    "lasso_model = LassoCV(alphas = alphavec, cv=5)\n",
    "lasso_model.fit(X_tr, y_train_val)"
   ]
  },
  {
   "cell_type": "code",
   "execution_count": 326,
   "metadata": {},
   "outputs": [
    {
     "data": {
      "text/plain": [
       "0.05542664520663107"
      ]
     },
     "execution_count": 326,
     "metadata": {},
     "output_type": "execute_result"
    }
   ],
   "source": [
    "# This is the best alpha value it found \n",
    "lasso_model.alpha_"
   ]
  },
  {
   "cell_type": "code",
   "execution_count": 327,
   "metadata": {},
   "outputs": [
    {
     "data": {
      "text/plain": [
       "67"
      ]
     },
     "execution_count": 327,
     "metadata": {},
     "output_type": "execute_result"
    }
   ],
   "source": [
    "len(lasso_model.coef_)"
   ]
  },
  {
   "cell_type": "code",
   "execution_count": 328,
   "metadata": {},
   "outputs": [
    {
     "data": {
      "text/plain": [
       "[('year', 0.0),\n",
       " ('duration', 0.1831142632170983),\n",
       " ('rating_count', 0.1257498338830108),\n",
       " ('log_year', 0.0),\n",
       " ('log_rating_count', 0.0),\n",
       " ('cinematographer_Dietrich Lohmann', -0.0),\n",
       " ('cinematographer_Jürgen Jürges', 0.0),\n",
       " ('cinematographer_Michael Ballhaus', -0.0),\n",
       " ('cinematographer_OTHER', 0.0),\n",
       " ('cinematographer_Rainer Werner Fassbinder', 0.0),\n",
       " ('cinematographer_Xaver Schwarzenberger', 0.0),\n",
       " ('documentary', -0.0),\n",
       " ('tv_series', 0.0),\n",
       " ('Hanna Schygulla', -0.0),\n",
       " ('Kurt Raab', 0.0),\n",
       " ('Lilo Pempeit', 0.0),\n",
       " ('Irm Hermann', 0.0),\n",
       " ('Margit Carstensen', 0.0),\n",
       " ('Günther Kaufmann', -0.0),\n",
       " ('Ulli Lommel', -0.17923051213519697),\n",
       " ('Ingrid Caven', 0.0),\n",
       " ('Karl Scheydt', 0.0),\n",
       " ('Volker Spengler', 0.0),\n",
       " ('Harry Baer', -0.0),\n",
       " ('Hark Bohm', 0.0),\n",
       " ('Walter Sedlmayr', 0.0),\n",
       " ('Gottfried John', 0.06732036849483454),\n",
       " ('Rudolf Waldemar Brem', -0.0),\n",
       " ('Katrin Schaake', -0.0),\n",
       " ('Brigitte Mira', 0.051125691597811856),\n",
       " ('Klaus Löwitsch', -0.0),\n",
       " ('Adrian Hoven', 0.013019070750821059),\n",
       " ('El Hedi ben Salem', 0.0),\n",
       " ('Peter Chatel', 0.005579870447374494),\n",
       " ('Peter Moland', -0.0),\n",
       " ('Vitus Zeplichal', 0.006098643925531654),\n",
       " ('Doris Mattes', 0.0),\n",
       " ('Y Sa Lo', -0.0),\n",
       " ('Elga Sorbas', -0.004661809126770598),\n",
       " ('Eva Mattes', -0.006653108853336741),\n",
       " ('Peter Kern', 0.0),\n",
       " ('Hans Hirschmüller', 0.0),\n",
       " ('Marquard Bohm', 0.0),\n",
       " ('Armin Meier', 0.0),\n",
       " ('Wolfgang Schenck', 0.07515539985286027),\n",
       " ('Elma Karlowa', 0.0),\n",
       " ('Günter Lamprecht', 0.0),\n",
       " ('Rudolf Lenz', 0.0),\n",
       " ('Andrea Schober', 0.0),\n",
       " ('Hannes Gromball', 0.0),\n",
       " ('Karlheinz Böhm', 0.0),\n",
       " ('Roger Fritz', -0.038326220261284356),\n",
       " ('Ivan Desny', 0.000880063887028784),\n",
       " ('Elisabeth Trissenaar', -0.0),\n",
       " ('Margarethe von Trotta', -0.0),\n",
       " ('Eddie Constantine', 0.0),\n",
       " ('Isolde Barth', -0.0),\n",
       " ('Carla Egerer', -0.046187786647163005),\n",
       " ('Franz Maron', -0.0),\n",
       " ('Claus Holm', 0.0),\n",
       " ('Barbara Sukowa', 0.0),\n",
       " ('Christine Kaufmann', 0.0),\n",
       " ('Herbert Steinmetz', 0.0),\n",
       " ('Karl-Heinz von Hassel', -0.0),\n",
       " ('Sonja Neudorfer', 0.007879995151182677),\n",
       " ('Alexander Allerson', 0.0),\n",
       " ('Udo Kier', -0.018414249754750377)]"
      ]
     },
     "execution_count": 328,
     "metadata": {},
     "output_type": "execute_result"
    }
   ],
   "source": [
    "# These are the (standardized) coefficients found\n",
    "# when it refit using that best alpha\n",
    "coefficients = list(zip(X_train.columns, lasso_model.coef_))\n",
    "coefficients"
   ]
  },
  {
   "cell_type": "code",
   "execution_count": 329,
   "metadata": {},
   "outputs": [],
   "source": [
    "# Make predictions on the test set using the new model\n",
    "test_set_pred = lasso_model.predict(X_te)"
   ]
  },
  {
   "cell_type": "code",
   "execution_count": 330,
   "metadata": {},
   "outputs": [
    {
     "data": {
      "text/plain": [
       "0.3855682468916599"
      ]
     },
     "execution_count": 330,
     "metadata": {},
     "output_type": "execute_result"
    }
   ],
   "source": [
    "# Find the MAE and R^2 on the test set using this model\n",
    "mean_absolute_error = mae(y_test, test_set_pred)\n",
    "mean_absolute_error"
   ]
  },
  {
   "cell_type": "code",
   "execution_count": 331,
   "metadata": {},
   "outputs": [
    {
     "data": {
      "text/plain": [
       "0.005956057008811633"
      ]
     },
     "execution_count": 331,
     "metadata": {},
     "output_type": "execute_result"
    }
   ],
   "source": [
    "r2_score_ = r2_score(y_test, test_set_pred)\n",
    "r2_score_ "
   ]
  },
  {
   "cell_type": "code",
   "execution_count": 332,
   "metadata": {},
   "outputs": [
    {
     "data": {
      "text/plain": [
       "[<matplotlib.lines.Line2D at 0x7f96f9bb92b0>]"
      ]
     },
     "execution_count": 332,
     "metadata": {},
     "output_type": "execute_result"
    },
    {
     "data": {
      "image/png": "[encoded data removed]",
      "text/plain": [
       "<Figure size 432x288 with 1 Axes>"
      ]
     },
     "metadata": {
      "needs_background": "light"
     },
     "output_type": "display_data"
    }
   ],
   "source": [
    "plt.scatter( test_set_pred, y_test)\n",
    "plt.plot( y_test, y_test, c='k')"
   ]
  },
  {
   "cell_type": "code",
   "execution_count": 333,
   "metadata": {},
   "outputs": [
    {
     "data": {
      "text/plain": [
       "<matplotlib.collections.PathCollection at 0x7f96d880eb80>"
      ]
     },
     "execution_count": 333,
     "metadata": {},
     "output_type": "execute_result"
    },
    {
     "data": {
      "image/png": "[encoded data removed]",
      "text/plain": [
       "<Figure size 432x288 with 1 Axes>"
      ]
     },
     "metadata": {
      "needs_background": "light"
     },
     "output_type": "display_data"
    }
   ],
   "source": [
    "residual = y_test-test_set_pred\n",
    "plt.scatter( test_set_pred, residual)"
   ]
  },
  {
   "cell_type": "code",
   "execution_count": 420,
   "metadata": {},
   "outputs": [
    {
     "data": {
      "text/html": [
       "<div>\n",
       "<style scoped>\n",
       "    .dataframe tbody tr th:only-of-type {\n",
       "        vertical-align: middle;\n",
       "    }\n",
       "\n",
       "    .dataframe tbody tr th {\n",
       "        vertical-align: top;\n",
       "    }\n",
       "\n",
       "    .dataframe thead th {\n",
       "        text-align: right;\n",
       "    }\n",
       "</style>\n",
       "<table border=\"1\" class=\"dataframe\">\n",
       "  <thead>\n",
       "    <tr style=\"text-align: right;\">\n",
       "      <th></th>\n",
       "      <th>Feature</th>\n",
       "      <th>Coefficient</th>\n",
       "    </tr>\n",
       "  </thead>\n",
       "  <tbody>\n",
       "    <tr>\n",
       "      <th>1</th>\n",
       "      <td>duration</td>\n",
       "      <td>0.02913</td>\n",
       "    </tr>\n",
       "    <tr>\n",
       "      <th>17</th>\n",
       "      <td>Ulli Lommel</td>\n",
       "      <td>-0.02900</td>\n",
       "    </tr>\n",
       "    <tr>\n",
       "      <th>14</th>\n",
       "      <td>Irm Hermann</td>\n",
       "      <td>0.02865</td>\n",
       "    </tr>\n",
       "    <tr>\n",
       "      <th>23</th>\n",
       "      <td>Walter Sedlmayr</td>\n",
       "      <td>0.02575</td>\n",
       "    </tr>\n",
       "    <tr>\n",
       "      <th>30</th>\n",
       "      <td>El Hedi ben Salem</td>\n",
       "      <td>0.02240</td>\n",
       "    </tr>\n",
       "    <tr>\n",
       "      <th>24</th>\n",
       "      <td>Gottfried John</td>\n",
       "      <td>0.02185</td>\n",
       "    </tr>\n",
       "    <tr>\n",
       "      <th>52</th>\n",
       "      <td>Margarethe von Trotta</td>\n",
       "      <td>-0.02137</td>\n",
       "    </tr>\n",
       "    <tr>\n",
       "      <th>32</th>\n",
       "      <td>Peter Moland</td>\n",
       "      <td>-0.01919</td>\n",
       "    </tr>\n",
       "    <tr>\n",
       "      <th>41</th>\n",
       "      <td>Armin Meier</td>\n",
       "      <td>-0.01855</td>\n",
       "    </tr>\n",
       "    <tr>\n",
       "      <th>25</th>\n",
       "      <td>Rudolf Waldemar Brem</td>\n",
       "      <td>0.01794</td>\n",
       "    </tr>\n",
       "    <tr>\n",
       "      <th>55</th>\n",
       "      <td>Carla Egerer</td>\n",
       "      <td>-0.01731</td>\n",
       "    </tr>\n",
       "    <tr>\n",
       "      <th>16</th>\n",
       "      <td>Günther Kaufmann</td>\n",
       "      <td>-0.01731</td>\n",
       "    </tr>\n",
       "    <tr>\n",
       "      <th>60</th>\n",
       "      <td>Herbert Steinmetz</td>\n",
       "      <td>-0.01519</td>\n",
       "    </tr>\n",
       "    <tr>\n",
       "      <th>18</th>\n",
       "      <td>Ingrid Caven</td>\n",
       "      <td>-0.01393</td>\n",
       "    </tr>\n",
       "    <tr>\n",
       "      <th>10</th>\n",
       "      <td>tv_series</td>\n",
       "      <td>0.01375</td>\n",
       "    </tr>\n",
       "    <tr>\n",
       "      <th>22</th>\n",
       "      <td>Hark Bohm</td>\n",
       "      <td>0.01295</td>\n",
       "    </tr>\n",
       "    <tr>\n",
       "      <th>61</th>\n",
       "      <td>Karl-Heinz von Hassel</td>\n",
       "      <td>-0.01285</td>\n",
       "    </tr>\n",
       "    <tr>\n",
       "      <th>64</th>\n",
       "      <td>Udo Kier</td>\n",
       "      <td>-0.01285</td>\n",
       "    </tr>\n",
       "    <tr>\n",
       "      <th>42</th>\n",
       "      <td>Wolfgang Schenck</td>\n",
       "      <td>0.01228</td>\n",
       "    </tr>\n",
       "    <tr>\n",
       "      <th>27</th>\n",
       "      <td>Brigitte Mira</td>\n",
       "      <td>0.01221</td>\n",
       "    </tr>\n",
       "  </tbody>\n",
       "</table>\n",
       "</div>"
      ],
      "text/plain": [
       "                  Feature  Coefficient\n",
       "1                duration      0.02913\n",
       "17            Ulli Lommel     -0.02900\n",
       "14            Irm Hermann      0.02865\n",
       "23        Walter Sedlmayr      0.02575\n",
       "30      El Hedi ben Salem      0.02240\n",
       "24         Gottfried John      0.02185\n",
       "52  Margarethe von Trotta     -0.02137\n",
       "32           Peter Moland     -0.01919\n",
       "41            Armin Meier     -0.01855\n",
       "25   Rudolf Waldemar Brem      0.01794\n",
       "55           Carla Egerer     -0.01731\n",
       "16       Günther Kaufmann     -0.01731\n",
       "60      Herbert Steinmetz     -0.01519\n",
       "18           Ingrid Caven     -0.01393\n",
       "10              tv_series      0.01375\n",
       "22              Hark Bohm      0.01295\n",
       "61  Karl-Heinz von Hassel     -0.01285\n",
       "64               Udo Kier     -0.01285\n",
       "42       Wolfgang Schenck      0.01228\n",
       "27          Brigitte Mira      0.01221"
      ]
     },
     "execution_count": 420,
     "metadata": {},
     "output_type": "execute_result"
    }
   ],
   "source": [
    "coefficients_df  = pd.DataFrame(coefficients, columns=['Feature', 'Coefficient'])\n",
    "\n",
    "coefficients_df['abs_val_of_coefficient'] = coefficients_df.Coefficient.abs()\n",
    "coefficients_df.sort_values(by='abs_val_of_coefficient', ascending=False, inplace=True)\n",
    "\n",
    "coefficients_df.drop(columns='abs_val_of_coefficient', inplace=True)\n",
    "coefficients_df.head(20)"
   ]
  },
  {
   "cell_type": "code",
   "execution_count": 335,
   "metadata": {},
   "outputs": [
    {
     "data": {
      "text/plain": [
       "{'r2_score': <function sklearn.metrics._regression.r2_score(y_true, y_pred, *, sample_weight=None, multioutput='uniform_average')>,\n",
       " 'mean absolute error': 0.3855682468916599,\n",
       " 'coefficients':                   Feature  Coefficient\n",
       " 1                duration      0.18311\n",
       " 19            Ulli Lommel     -0.17923\n",
       " 2            rating_count      0.12575\n",
       " 44       Wolfgang Schenck      0.07516\n",
       " 26         Gottfried John      0.06732\n",
       " ..                    ...          ...\n",
       " 34           Peter Moland     -0.00000\n",
       " 8   cinematographer_OTHER      0.00000\n",
       " 36           Doris Mattes      0.00000\n",
       " 37                Y Sa Lo     -0.00000\n",
       " 0                    year      0.00000\n",
       " \n",
       " [67 rows x 2 columns]}"
      ]
     },
     "execution_count": 335,
     "metadata": {},
     "output_type": "execute_result"
    }
   ],
   "source": [
    "Lasso_CV_model_w_rc = {\"r2_score\": r2_score, 'mean absolute error': mean_absolute_error, 'coefficients': coefficients_df}\n",
    "Lasso_CV_model_w_rc "
   ]
  },
  {
   "cell_type": "code",
   "execution_count": 336,
   "metadata": {},
   "outputs": [],
   "source": [
    "LCVM_w_rc_filename = 'Lasso_CV_model_w_rc_' + director\n",
    "with open(dir_str + LCVM_w_rc_filename, 'wb') as to_write:\n",
    "    pickle.dump(Lasso_CV_model_w_rc, to_write)"
   ]
  },
  {
   "cell_type": "code",
   "execution_count": null,
   "metadata": {},
   "outputs": [],
   "source": []
  },
  {
   "cell_type": "markdown",
   "metadata": {},
   "source": [
    "## C. Lasso and Ridge regression on all features except `rating count`\n",
    "\n"
   ]
  },
  {
   "cell_type": "markdown",
   "metadata": {},
   "source": [
    "### Rerun the model without using rating count"
   ]
  },
  {
   "cell_type": "code",
   "execution_count": 337,
   "metadata": {},
   "outputs": [
    {
     "data": {
      "text/html": [
       "<div>\n",
       "<style scoped>\n",
       "    .dataframe tbody tr th:only-of-type {\n",
       "        vertical-align: middle;\n",
       "    }\n",
       "\n",
       "    .dataframe tbody tr th {\n",
       "        vertical-align: top;\n",
       "    }\n",
       "\n",
       "    .dataframe thead th {\n",
       "        text-align: right;\n",
       "    }\n",
       "</style>\n",
       "<table border=\"1\" class=\"dataframe\">\n",
       "  <thead>\n",
       "    <tr style=\"text-align: right;\">\n",
       "      <th></th>\n",
       "      <th>year</th>\n",
       "      <th>duration</th>\n",
       "      <th>rating_count</th>\n",
       "      <th>log_year</th>\n",
       "      <th>log_rating_count</th>\n",
       "      <th>cinematographer_Dietrich Lohmann</th>\n",
       "      <th>cinematographer_Jürgen Jürges</th>\n",
       "      <th>cinematographer_Michael Ballhaus</th>\n",
       "      <th>cinematographer_OTHER</th>\n",
       "      <th>cinematographer_Rainer Werner Fassbinder</th>\n",
       "      <th>...</th>\n",
       "      <th>Carla Egerer</th>\n",
       "      <th>Franz Maron</th>\n",
       "      <th>Claus Holm</th>\n",
       "      <th>Barbara Sukowa</th>\n",
       "      <th>Christine Kaufmann</th>\n",
       "      <th>Herbert Steinmetz</th>\n",
       "      <th>Karl-Heinz von Hassel</th>\n",
       "      <th>Sonja Neudorfer</th>\n",
       "      <th>Alexander Allerson</th>\n",
       "      <th>Udo Kier</th>\n",
       "    </tr>\n",
       "  </thead>\n",
       "  <tbody>\n",
       "    <tr>\n",
       "      <th>0</th>\n",
       "      <td>-0.80752</td>\n",
       "      <td>2.05319</td>\n",
       "      <td>-0.74703</td>\n",
       "      <td>-0.80741</td>\n",
       "      <td>-1.19229</td>\n",
       "      <td>1.56347</td>\n",
       "      <td>-0.32733</td>\n",
       "      <td>-0.79472</td>\n",
       "      <td>-0.26261</td>\n",
       "      <td>-0.18257</td>\n",
       "      <td>...</td>\n",
       "      <td>-0.26261</td>\n",
       "      <td>-0.26261</td>\n",
       "      <td>-0.26261</td>\n",
       "      <td>-0.32733</td>\n",
       "      <td>-0.26261</td>\n",
       "      <td>-0.32733</td>\n",
       "      <td>-0.26261</td>\n",
       "      <td>-0.32733</td>\n",
       "      <td>-0.26261</td>\n",
       "      <td>-0.18257</td>\n",
       "    </tr>\n",
       "    <tr>\n",
       "      <th>1</th>\n",
       "      <td>0.20392</td>\n",
       "      <td>-0.26949</td>\n",
       "      <td>-0.53972</td>\n",
       "      <td>0.20494</td>\n",
       "      <td>-0.28952</td>\n",
       "      <td>-0.63960</td>\n",
       "      <td>-0.32733</td>\n",
       "      <td>1.25831</td>\n",
       "      <td>-0.26261</td>\n",
       "      <td>-0.18257</td>\n",
       "      <td>...</td>\n",
       "      <td>-0.26261</td>\n",
       "      <td>-0.26261</td>\n",
       "      <td>-0.26261</td>\n",
       "      <td>-0.32733</td>\n",
       "      <td>-0.26261</td>\n",
       "      <td>-0.32733</td>\n",
       "      <td>-0.26261</td>\n",
       "      <td>-0.32733</td>\n",
       "      <td>3.80789</td>\n",
       "      <td>-0.18257</td>\n",
       "    </tr>\n",
       "    <tr>\n",
       "      <th>2</th>\n",
       "      <td>-0.04894</td>\n",
       "      <td>-0.24451</td>\n",
       "      <td>-0.38384</td>\n",
       "      <td>-0.04796</td>\n",
       "      <td>0.03234</td>\n",
       "      <td>-0.63960</td>\n",
       "      <td>-0.32733</td>\n",
       "      <td>1.25831</td>\n",
       "      <td>-0.26261</td>\n",
       "      <td>-0.18257</td>\n",
       "      <td>...</td>\n",
       "      <td>-0.26261</td>\n",
       "      <td>-0.26261</td>\n",
       "      <td>-0.26261</td>\n",
       "      <td>-0.32733</td>\n",
       "      <td>-0.26261</td>\n",
       "      <td>-0.32733</td>\n",
       "      <td>-0.26261</td>\n",
       "      <td>-0.32733</td>\n",
       "      <td>-0.26261</td>\n",
       "      <td>-0.18257</td>\n",
       "    </tr>\n",
       "    <tr>\n",
       "      <th>3</th>\n",
       "      <td>0.70964</td>\n",
       "      <td>-0.14461</td>\n",
       "      <td>0.13025</td>\n",
       "      <td>0.71035</td>\n",
       "      <td>0.61325</td>\n",
       "      <td>-0.63960</td>\n",
       "      <td>-0.32733</td>\n",
       "      <td>-0.79472</td>\n",
       "      <td>-0.26261</td>\n",
       "      <td>5.47723</td>\n",
       "      <td>...</td>\n",
       "      <td>-0.26261</td>\n",
       "      <td>-0.26261</td>\n",
       "      <td>-0.26261</td>\n",
       "      <td>-0.32733</td>\n",
       "      <td>-0.26261</td>\n",
       "      <td>-0.32733</td>\n",
       "      <td>-0.26261</td>\n",
       "      <td>-0.32733</td>\n",
       "      <td>-0.26261</td>\n",
       "      <td>-0.18257</td>\n",
       "    </tr>\n",
       "    <tr>\n",
       "      <th>4</th>\n",
       "      <td>-0.04894</td>\n",
       "      <td>-0.36939</td>\n",
       "      <td>-0.43317</td>\n",
       "      <td>-0.04796</td>\n",
       "      <td>-0.05577</td>\n",
       "      <td>-0.63960</td>\n",
       "      <td>3.05505</td>\n",
       "      <td>-0.79472</td>\n",
       "      <td>-0.26261</td>\n",
       "      <td>-0.18257</td>\n",
       "      <td>...</td>\n",
       "      <td>-0.26261</td>\n",
       "      <td>-0.26261</td>\n",
       "      <td>-0.26261</td>\n",
       "      <td>-0.32733</td>\n",
       "      <td>-0.26261</td>\n",
       "      <td>3.05505</td>\n",
       "      <td>-0.26261</td>\n",
       "      <td>-0.32733</td>\n",
       "      <td>-0.26261</td>\n",
       "      <td>-0.18257</td>\n",
       "    </tr>\n",
       "  </tbody>\n",
       "</table>\n",
       "<p>5 rows × 67 columns</p>\n",
       "</div>"
      ],
      "text/plain": [
       "      year  duration  rating_count  log_year  log_rating_count  \\\n",
       "0 -0.80752   2.05319      -0.74703  -0.80741          -1.19229   \n",
       "1  0.20392  -0.26949      -0.53972   0.20494          -0.28952   \n",
       "2 -0.04894  -0.24451      -0.38384  -0.04796           0.03234   \n",
       "3  0.70964  -0.14461       0.13025   0.71035           0.61325   \n",
       "4 -0.04894  -0.36939      -0.43317  -0.04796          -0.05577   \n",
       "\n",
       "   cinematographer_Dietrich Lohmann  cinematographer_Jürgen Jürges  \\\n",
       "0                           1.56347                       -0.32733   \n",
       "1                          -0.63960                       -0.32733   \n",
       "2                          -0.63960                       -0.32733   \n",
       "3                          -0.63960                       -0.32733   \n",
       "4                          -0.63960                        3.05505   \n",
       "\n",
       "   cinematographer_Michael Ballhaus  cinematographer_OTHER  \\\n",
       "0                          -0.79472               -0.26261   \n",
       "1                           1.25831               -0.26261   \n",
       "2                           1.25831               -0.26261   \n",
       "3                          -0.79472               -0.26261   \n",
       "4                          -0.79472               -0.26261   \n",
       "\n",
       "   cinematographer_Rainer Werner Fassbinder  ...  Carla Egerer  Franz Maron  \\\n",
       "0                                  -0.18257  ...      -0.26261     -0.26261   \n",
       "1                                  -0.18257  ...      -0.26261     -0.26261   \n",
       "2                                  -0.18257  ...      -0.26261     -0.26261   \n",
       "3                                   5.47723  ...      -0.26261     -0.26261   \n",
       "4                                  -0.18257  ...      -0.26261     -0.26261   \n",
       "\n",
       "   Claus Holm  Barbara Sukowa  Christine Kaufmann  Herbert Steinmetz  \\\n",
       "0    -0.26261        -0.32733            -0.26261           -0.32733   \n",
       "1    -0.26261        -0.32733            -0.26261           -0.32733   \n",
       "2    -0.26261        -0.32733            -0.26261           -0.32733   \n",
       "3    -0.26261        -0.32733            -0.26261           -0.32733   \n",
       "4    -0.26261        -0.32733            -0.26261            3.05505   \n",
       "\n",
       "   Karl-Heinz von Hassel  Sonja Neudorfer  Alexander Allerson  Udo Kier  \n",
       "0               -0.26261         -0.32733            -0.26261  -0.18257  \n",
       "1               -0.26261         -0.32733             3.80789  -0.18257  \n",
       "2               -0.26261         -0.32733            -0.26261  -0.18257  \n",
       "3               -0.26261         -0.32733            -0.26261  -0.18257  \n",
       "4               -0.26261         -0.32733            -0.26261  -0.18257  \n",
       "\n",
       "[5 rows x 67 columns]"
      ]
     },
     "execution_count": 337,
     "metadata": {},
     "output_type": "execute_result"
    }
   ],
   "source": [
    "X_tr = pd.DataFrame(X_tr, columns=X_train.columns )\n",
    "X_tr.head()"
   ]
  },
  {
   "cell_type": "code",
   "execution_count": 338,
   "metadata": {},
   "outputs": [],
   "source": [
    "X_te = pd.DataFrame(X_te, columns=X_train.columns )"
   ]
  },
  {
   "cell_type": "code",
   "execution_count": 339,
   "metadata": {},
   "outputs": [],
   "source": [
    "X_tr_no_rc  = X_tr.drop(columns = ['rating_count', 'log_rating_count'])"
   ]
  },
  {
   "cell_type": "code",
   "execution_count": 340,
   "metadata": {},
   "outputs": [],
   "source": [
    "X_te_no_rc = X_te.drop(columns = ['rating_count', 'log_rating_count'])"
   ]
  },
  {
   "cell_type": "code",
   "execution_count": 341,
   "metadata": {},
   "outputs": [
    {
     "data": {
      "text/plain": [
       "0.04824108704165369"
      ]
     },
     "execution_count": 341,
     "metadata": {},
     "output_type": "execute_result"
    }
   ],
   "source": [
    "# Run the cross validation, find the best alpha, refit the model on all the data with that alpha\n",
    "\n",
    "alphavec = 10**np.linspace(-2,2,200)\n",
    "\n",
    "lasso_model = LassoCV(alphas = alphavec, cv=5)\n",
    "lasso_model.fit(X_tr_no_rc, y_train_val)\n",
    "\n",
    "# This is the best alpha value it found \n",
    "lasso_model.alpha_"
   ]
  },
  {
   "cell_type": "code",
   "execution_count": 342,
   "metadata": {},
   "outputs": [],
   "source": [
    "# These are the (standardized) coefficients found\n",
    "# when it refit using that best alpha\n",
    "coefficients = list(zip(X_tr_no_rc.columns, lasso_model.coef_))\n",
    "coefficients_df = pd.DataFrame(coefficients, columns=['Feature', 'Coefficient']).sort_values(by='Coefficient', ascending=False)"
   ]
  },
  {
   "cell_type": "code",
   "execution_count": 343,
   "metadata": {},
   "outputs": [],
   "source": [
    "# Make predictions on the test set using the new model\n",
    "test_set_pred = lasso_model.predict(X_te_no_rc)"
   ]
  },
  {
   "cell_type": "code",
   "execution_count": 344,
   "metadata": {},
   "outputs": [
    {
     "data": {
      "text/plain": [
       "0.42112784384763213"
      ]
     },
     "execution_count": 344,
     "metadata": {},
     "output_type": "execute_result"
    }
   ],
   "source": [
    "# Find the MAE and R^2 on the test set using this model\n",
    "mean_absolute_error = mae(y_test, test_set_pred)\n",
    "mean_absolute_error"
   ]
  },
  {
   "cell_type": "code",
   "execution_count": 345,
   "metadata": {},
   "outputs": [
    {
     "data": {
      "text/plain": [
       "-0.31772085594912736"
      ]
     },
     "execution_count": 345,
     "metadata": {},
     "output_type": "execute_result"
    }
   ],
   "source": [
    "r2_score_ = r2_score(y_test, test_set_pred)\n",
    "r2_score_ \n"
   ]
  },
  {
   "cell_type": "code",
   "execution_count": 346,
   "metadata": {},
   "outputs": [
    {
     "data": {
      "text/plain": [
       "[<matplotlib.lines.Line2D at 0x7f96e99be7c0>]"
      ]
     },
     "execution_count": 346,
     "metadata": {},
     "output_type": "execute_result"
    },
    {
     "data": {
      "image/png": "[encoded data removed]",
      "text/plain": [
       "<Figure size 432x288 with 1 Axes>"
      ]
     },
     "metadata": {
      "needs_background": "light"
     },
     "output_type": "display_data"
    }
   ],
   "source": [
    "plt.scatter( test_set_pred, y_test)\n",
    "plt.plot( y_test, y_test, c='k')\n",
    "#plt.plot( x_te_no_rc, y_test, c='k')"
   ]
  },
  {
   "cell_type": "code",
   "execution_count": 347,
   "metadata": {},
   "outputs": [
    {
     "data": {
      "text/plain": [
       "<matplotlib.collections.PathCollection at 0x7f96c8de3f40>"
      ]
     },
     "execution_count": 347,
     "metadata": {},
     "output_type": "execute_result"
    },
    {
     "data": {
      "image/png": "[encoded data removed]",
      "text/plain": [
       "<Figure size 432x288 with 1 Axes>"
      ]
     },
     "metadata": {
      "needs_background": "light"
     },
     "output_type": "display_data"
    }
   ],
   "source": [
    "residual = y_test-test_set_pred\n",
    "plt.scatter( test_set_pred, residual)\n",
    "\n"
   ]
  },
  {
   "cell_type": "code",
   "execution_count": 348,
   "metadata": {},
   "outputs": [
    {
     "data": {
      "text/html": [
       "<div>\n",
       "<style scoped>\n",
       "    .dataframe tbody tr th:only-of-type {\n",
       "        vertical-align: middle;\n",
       "    }\n",
       "\n",
       "    .dataframe tbody tr th {\n",
       "        vertical-align: top;\n",
       "    }\n",
       "\n",
       "    .dataframe thead th {\n",
       "        text-align: right;\n",
       "    }\n",
       "</style>\n",
       "<table border=\"1\" class=\"dataframe\">\n",
       "  <thead>\n",
       "    <tr style=\"text-align: right;\">\n",
       "      <th></th>\n",
       "      <th>Feature</th>\n",
       "      <th>Coefficient</th>\n",
       "    </tr>\n",
       "  </thead>\n",
       "  <tbody>\n",
       "    <tr>\n",
       "      <th>1</th>\n",
       "      <td>duration</td>\n",
       "      <td>0.19359</td>\n",
       "    </tr>\n",
       "    <tr>\n",
       "      <th>27</th>\n",
       "      <td>Brigitte Mira</td>\n",
       "      <td>0.06759</td>\n",
       "    </tr>\n",
       "    <tr>\n",
       "      <th>42</th>\n",
       "      <td>Wolfgang Schenck</td>\n",
       "      <td>0.06226</td>\n",
       "    </tr>\n",
       "    <tr>\n",
       "      <th>23</th>\n",
       "      <td>Walter Sedlmayr</td>\n",
       "      <td>0.06083</td>\n",
       "    </tr>\n",
       "    <tr>\n",
       "      <th>24</th>\n",
       "      <td>Gottfried John</td>\n",
       "      <td>0.06021</td>\n",
       "    </tr>\n",
       "  </tbody>\n",
       "</table>\n",
       "</div>"
      ],
      "text/plain": [
       "             Feature  Coefficient\n",
       "1           duration      0.19359\n",
       "27     Brigitte Mira      0.06759\n",
       "42  Wolfgang Schenck      0.06226\n",
       "23   Walter Sedlmayr      0.06083\n",
       "24    Gottfried John      0.06021"
      ]
     },
     "execution_count": 348,
     "metadata": {},
     "output_type": "execute_result"
    }
   ],
   "source": [
    "coefficients_df.head()"
   ]
  },
  {
   "cell_type": "code",
   "execution_count": 349,
   "metadata": {},
   "outputs": [
    {
     "data": {
      "text/plain": [
       "{'r2_score': <function sklearn.metrics._regression.r2_score(y_true, y_pred, *, sample_weight=None, multioutput='uniform_average')>,\n",
       " 'mean absolute error': 0.42112784384763213,\n",
       " 'coefficients':              Feature  Coefficient\n",
       " 1           duration      0.19359\n",
       " 27     Brigitte Mira      0.06759\n",
       " 42  Wolfgang Schenck      0.06226\n",
       " 23   Walter Sedlmayr      0.06083\n",
       " 24    Gottfried John      0.06021\n",
       " ..               ...          ...\n",
       " 37        Eva Mattes     -0.02824\n",
       " 49       Roger Fritz     -0.03990\n",
       " 64          Udo Kier     -0.04898\n",
       " 55      Carla Egerer     -0.08650\n",
       " 17       Ulli Lommel     -0.18430\n",
       " \n",
       " [65 rows x 2 columns]}"
      ]
     },
     "execution_count": 349,
     "metadata": {},
     "output_type": "execute_result"
    }
   ],
   "source": [
    "Lasso_CV_model_no_rc = {\"r2_score\": r2_score, 'mean absolute error': mean_absolute_error, 'coefficients': coefficients_df}\n",
    "Lasso_CV_model_no_rc \n"
   ]
  },
  {
   "cell_type": "code",
   "execution_count": null,
   "metadata": {},
   "outputs": [],
   "source": []
  },
  {
   "cell_type": "code",
   "execution_count": 350,
   "metadata": {},
   "outputs": [],
   "source": [
    "LCVM_no_rc_filename = 'Lasso_CV_model_no_rc_' + director\n",
    "with open(dir_str + LCVM_no_rc_filename, 'wb') as to_write:\n",
    "    pickle.dump(Lasso_CV_model_no_rc, to_write)"
   ]
  },
  {
   "cell_type": "code",
   "execution_count": null,
   "metadata": {},
   "outputs": [],
   "source": []
  },
  {
   "cell_type": "code",
   "execution_count": 351,
   "metadata": {},
   "outputs": [
    {
     "name": "stdout",
     "output_type": "stream",
     "text": [
      "Computing regularization path using the LARS ...\n"
     ]
    }
   ],
   "source": [
    "from sklearn.linear_model import lars_path\n",
    "print(\"Computing regularization path using the LARS ...\")\n",
    "alphas, _, coefs = lars_path(np.array(X_tr_no_rc), y_train_val.values, method='lasso')"
   ]
  },
  {
   "cell_type": "code",
   "execution_count": 352,
   "metadata": {},
   "outputs": [
    {
     "data": {
      "image/png": "[encoded data removed]",
      "text/plain": [
       "<Figure size 720x720 with 1 Axes>"
      ]
     },
     "metadata": {
      "needs_background": "light"
     },
     "output_type": "display_data"
    }
   ],
   "source": [
    "xx = np.sum(np.abs(coefs.T), axis=1)\n",
    "xx /= xx[-1]\n",
    "\n",
    "plt.figure(figsize=(10,10))\n",
    "plt.plot(xx, coefs.T)\n",
    "ymin, ymax = plt.ylim()\n",
    "plt.vlines(xx, ymin, ymax, linestyle='dashed')\n",
    "plt.xlabel('|coef| / max|coef|')\n",
    "plt.ylabel('Coefficients')\n",
    "plt.title('LASSO Path')\n",
    "plt.axis('tight')\n",
    "plt.legend(X_tr_no_rc.columns)\n",
    "plt.show()"
   ]
  },
  {
   "cell_type": "markdown",
   "metadata": {},
   "source": [
    "### Ridge regression"
   ]
  },
  {
   "cell_type": "code",
   "execution_count": null,
   "metadata": {},
   "outputs": [],
   "source": []
  },
  {
   "cell_type": "code",
   "execution_count": 353,
   "metadata": {},
   "outputs": [
    {
     "data": {
      "text/plain": [
       "100.0"
      ]
     },
     "execution_count": 353,
     "metadata": {},
     "output_type": "execute_result"
    }
   ],
   "source": [
    "# Run the cross validation, find the best alpha, refit the model on all the data with that alpha\n",
    "\n",
    "alphavec = 10**np.linspace(-2,2,200)\n",
    "\n",
    "ridge_model = RidgeCV(alphas = alphavec, cv=5)\n",
    "ridge_model.fit(X_tr_no_rc, y_train_val)\n",
    "\n",
    "# This is the best alpha value it found \n",
    "ridge_model.alpha_"
   ]
  },
  {
   "cell_type": "code",
   "execution_count": 354,
   "metadata": {},
   "outputs": [
    {
     "data": {
      "text/html": [
       "<div>\n",
       "<style scoped>\n",
       "    .dataframe tbody tr th:only-of-type {\n",
       "        vertical-align: middle;\n",
       "    }\n",
       "\n",
       "    .dataframe tbody tr th {\n",
       "        vertical-align: top;\n",
       "    }\n",
       "\n",
       "    .dataframe thead th {\n",
       "        text-align: right;\n",
       "    }\n",
       "</style>\n",
       "<table border=\"1\" class=\"dataframe\">\n",
       "  <thead>\n",
       "    <tr style=\"text-align: right;\">\n",
       "      <th></th>\n",
       "      <th>Feature</th>\n",
       "      <th>Coefficient</th>\n",
       "    </tr>\n",
       "  </thead>\n",
       "  <tbody>\n",
       "    <tr>\n",
       "      <th>17</th>\n",
       "      <td>Ulli Lommel</td>\n",
       "      <td>-0.04866</td>\n",
       "    </tr>\n",
       "    <tr>\n",
       "      <th>1</th>\n",
       "      <td>duration</td>\n",
       "      <td>0.04552</td>\n",
       "    </tr>\n",
       "    <tr>\n",
       "      <th>24</th>\n",
       "      <td>Gottfried John</td>\n",
       "      <td>0.03941</td>\n",
       "    </tr>\n",
       "    <tr>\n",
       "      <th>55</th>\n",
       "      <td>Carla Egerer</td>\n",
       "      <td>-0.03263</td>\n",
       "    </tr>\n",
       "    <tr>\n",
       "      <th>36</th>\n",
       "      <td>Elga Sorbas</td>\n",
       "      <td>-0.02726</td>\n",
       "    </tr>\n",
       "    <tr>\n",
       "      <th>...</th>\n",
       "      <td>...</td>\n",
       "      <td>...</td>\n",
       "    </tr>\n",
       "    <tr>\n",
       "      <th>38</th>\n",
       "      <td>Peter Kern</td>\n",
       "      <td>0.00177</td>\n",
       "    </tr>\n",
       "    <tr>\n",
       "      <th>25</th>\n",
       "      <td>Rudolf Waldemar Brem</td>\n",
       "      <td>-0.00148</td>\n",
       "    </tr>\n",
       "    <tr>\n",
       "      <th>51</th>\n",
       "      <td>Elisabeth Trissenaar</td>\n",
       "      <td>-0.00144</td>\n",
       "    </tr>\n",
       "    <tr>\n",
       "      <th>18</th>\n",
       "      <td>Ingrid Caven</td>\n",
       "      <td>0.00142</td>\n",
       "    </tr>\n",
       "    <tr>\n",
       "      <th>6</th>\n",
       "      <td>cinematographer_OTHER</td>\n",
       "      <td>-0.00003</td>\n",
       "    </tr>\n",
       "  </tbody>\n",
       "</table>\n",
       "<p>65 rows × 2 columns</p>\n",
       "</div>"
      ],
      "text/plain": [
       "                  Feature  Coefficient\n",
       "17            Ulli Lommel     -0.04866\n",
       "1                duration      0.04552\n",
       "24         Gottfried John      0.03941\n",
       "55           Carla Egerer     -0.03263\n",
       "36            Elga Sorbas     -0.02726\n",
       "..                    ...          ...\n",
       "38             Peter Kern      0.00177\n",
       "25   Rudolf Waldemar Brem     -0.00148\n",
       "51   Elisabeth Trissenaar     -0.00144\n",
       "18           Ingrid Caven      0.00142\n",
       "6   cinematographer_OTHER     -0.00003\n",
       "\n",
       "[65 rows x 2 columns]"
      ]
     },
     "execution_count": 354,
     "metadata": {},
     "output_type": "execute_result"
    }
   ],
   "source": [
    "# These are the (standardized) coefficients found\n",
    "# when it refit using that best alpha\n",
    "coefficients = list(zip(X_tr_no_rc.columns, ridge_model.coef_))\n",
    "\n",
    "coefficients_df  = pd.DataFrame(coefficients, columns=['Feature', 'Coefficient'])\n",
    "\n",
    "coefficients_df['abs_val_of_coefficient'] = coefficients_df.Coefficient.abs()\n",
    "coefficients_df.sort_values(by='abs_val_of_coefficient', ascending=False, inplace=True)\n",
    "\n",
    "coefficients_df.drop(columns='abs_val_of_coefficient', inplace=True)\n",
    "coefficients_df"
   ]
  },
  {
   "cell_type": "code",
   "execution_count": 355,
   "metadata": {},
   "outputs": [],
   "source": [
    "# Make predictions on the test set using the new model\n",
    "test_set_pred = ridge_model.predict(X_te_no_rc)"
   ]
  },
  {
   "cell_type": "code",
   "execution_count": 356,
   "metadata": {},
   "outputs": [
    {
     "data": {
      "text/plain": [
       "0.4374696486687405"
      ]
     },
     "execution_count": 356,
     "metadata": {},
     "output_type": "execute_result"
    }
   ],
   "source": [
    "# Find the MAE and R^2 on the test set using this model\n",
    "mean_absolute_error = mae(y_test, test_set_pred)\n",
    "mean_absolute_error"
   ]
  },
  {
   "cell_type": "code",
   "execution_count": 357,
   "metadata": {},
   "outputs": [
    {
     "data": {
      "text/plain": [
       "-0.21232984061357074"
      ]
     },
     "execution_count": 357,
     "metadata": {},
     "output_type": "execute_result"
    }
   ],
   "source": [
    "r2_score_ = r2_score(y_test, test_set_pred)\n",
    "r2_score_ \n"
   ]
  },
  {
   "cell_type": "code",
   "execution_count": 358,
   "metadata": {},
   "outputs": [
    {
     "data": {
      "text/plain": [
       "[<matplotlib.lines.Line2D at 0x7f96e98303d0>]"
      ]
     },
     "execution_count": 358,
     "metadata": {},
     "output_type": "execute_result"
    },
    {
     "data": {
      "image/png": "[encoded data removed]",
      "text/plain": [
       "<Figure size 432x288 with 1 Axes>"
      ]
     },
     "metadata": {
      "needs_background": "light"
     },
     "output_type": "display_data"
    }
   ],
   "source": [
    "plt.scatter( test_set_pred, y_test)\n",
    "plt.plot( y_test, y_test, c='k')"
   ]
  },
  {
   "cell_type": "code",
   "execution_count": 359,
   "metadata": {},
   "outputs": [
    {
     "data": {
      "text/plain": [
       "<matplotlib.collections.PathCollection at 0x7f96b87b76a0>"
      ]
     },
     "execution_count": 359,
     "metadata": {},
     "output_type": "execute_result"
    },
    {
     "data": {
      "image/png": "[encoded data removed]",
      "text/plain": [
       "<Figure size 432x288 with 1 Axes>"
      ]
     },
     "metadata": {
      "needs_background": "light"
     },
     "output_type": "display_data"
    }
   ],
   "source": [
    "residual = y_test-test_set_pred\n",
    "plt.scatter( test_set_pred, residual)\n"
   ]
  },
  {
   "cell_type": "code",
   "execution_count": 360,
   "metadata": {},
   "outputs": [
    {
     "data": {
      "text/html": [
       "<div>\n",
       "<style scoped>\n",
       "    .dataframe tbody tr th:only-of-type {\n",
       "        vertical-align: middle;\n",
       "    }\n",
       "\n",
       "    .dataframe tbody tr th {\n",
       "        vertical-align: top;\n",
       "    }\n",
       "\n",
       "    .dataframe thead th {\n",
       "        text-align: right;\n",
       "    }\n",
       "</style>\n",
       "<table border=\"1\" class=\"dataframe\">\n",
       "  <thead>\n",
       "    <tr style=\"text-align: right;\">\n",
       "      <th></th>\n",
       "      <th>Feature</th>\n",
       "      <th>Coefficient</th>\n",
       "    </tr>\n",
       "  </thead>\n",
       "  <tbody>\n",
       "    <tr>\n",
       "      <th>17</th>\n",
       "      <td>Ulli Lommel</td>\n",
       "      <td>-0.04866</td>\n",
       "    </tr>\n",
       "    <tr>\n",
       "      <th>1</th>\n",
       "      <td>duration</td>\n",
       "      <td>0.04552</td>\n",
       "    </tr>\n",
       "    <tr>\n",
       "      <th>24</th>\n",
       "      <td>Gottfried John</td>\n",
       "      <td>0.03941</td>\n",
       "    </tr>\n",
       "    <tr>\n",
       "      <th>55</th>\n",
       "      <td>Carla Egerer</td>\n",
       "      <td>-0.03263</td>\n",
       "    </tr>\n",
       "    <tr>\n",
       "      <th>36</th>\n",
       "      <td>Elga Sorbas</td>\n",
       "      <td>-0.02726</td>\n",
       "    </tr>\n",
       "  </tbody>\n",
       "</table>\n",
       "</div>"
      ],
      "text/plain": [
       "           Feature  Coefficient\n",
       "17     Ulli Lommel     -0.04866\n",
       "1         duration      0.04552\n",
       "24  Gottfried John      0.03941\n",
       "55    Carla Egerer     -0.03263\n",
       "36     Elga Sorbas     -0.02726"
      ]
     },
     "execution_count": 360,
     "metadata": {},
     "output_type": "execute_result"
    }
   ],
   "source": [
    "coefficients_df.head()"
   ]
  },
  {
   "cell_type": "code",
   "execution_count": 361,
   "metadata": {},
   "outputs": [
    {
     "data": {
      "text/plain": [
       "{'r2_score': <function sklearn.metrics._regression.r2_score(y_true, y_pred, *, sample_weight=None, multioutput='uniform_average')>,\n",
       " 'mean absolute error': 0.4374696486687405,\n",
       " 'coefficients':                   Feature  Coefficient\n",
       " 17            Ulli Lommel     -0.04866\n",
       " 1                duration      0.04552\n",
       " 24         Gottfried John      0.03941\n",
       " 55           Carla Egerer     -0.03263\n",
       " 36            Elga Sorbas     -0.02726\n",
       " ..                    ...          ...\n",
       " 38             Peter Kern      0.00177\n",
       " 25   Rudolf Waldemar Brem     -0.00148\n",
       " 51   Elisabeth Trissenaar     -0.00144\n",
       " 18           Ingrid Caven      0.00142\n",
       " 6   cinematographer_OTHER     -0.00003\n",
       " \n",
       " [65 rows x 2 columns]}"
      ]
     },
     "execution_count": 361,
     "metadata": {},
     "output_type": "execute_result"
    }
   ],
   "source": [
    "Ridge_CV_model_no_rc = {\"r2_score\": r2_score, 'mean absolute error': mean_absolute_error, 'coefficients': coefficients_df}\n",
    "Ridge_CV_model_no_rc \n"
   ]
  },
  {
   "cell_type": "code",
   "execution_count": null,
   "metadata": {},
   "outputs": [],
   "source": []
  },
  {
   "cell_type": "code",
   "execution_count": 362,
   "metadata": {},
   "outputs": [],
   "source": [
    "RCVM_no_rc_filename = 'Ridge_CV_model_no_rc_' + director\n",
    "with open(dir_str + RCVM_no_rc_filename, 'wb') as to_write:\n",
    "    pickle.dump(Ridge_CV_model_no_rc, to_write)"
   ]
  },
  {
   "cell_type": "code",
   "execution_count": null,
   "metadata": {},
   "outputs": [],
   "source": []
  },
  {
   "cell_type": "code",
   "execution_count": null,
   "metadata": {},
   "outputs": [],
   "source": []
  },
  {
   "cell_type": "code",
   "execution_count": null,
   "metadata": {},
   "outputs": [],
   "source": []
  },
  {
   "cell_type": "markdown",
   "metadata": {},
   "source": [
    "## D. Lasso and Ridge regression on all features except `rating count` but with also `budget` added as a feature"
   ]
  },
  {
   "cell_type": "markdown",
   "metadata": {},
   "source": [
    "#### Re-analyzed including `budget` as a feature \n",
    "This entails a fewer rows of data, since many of the films don't have budget info available on IMDB"
   ]
  },
  {
   "cell_type": "code",
   "execution_count": 363,
   "metadata": {},
   "outputs": [],
   "source": [
    "films_to_analyze_financial_df = films_to_analyze[(films_to_analyze['budget'] > 0) & (films_to_analyze['worldwide_gross'] > 0)]"
   ]
  },
  {
   "cell_type": "code",
   "execution_count": 364,
   "metadata": {},
   "outputs": [],
   "source": [
    "analysis_columns = ['title', 'year', 'duration', 'budget', 'cinematographer', 'documentary', 'tv_series','rating', *prevalent_actor_columns]"
   ]
  },
  {
   "cell_type": "code",
   "execution_count": 365,
   "metadata": {},
   "outputs": [
    {
     "data": {
      "text/plain": [
       "['title',\n",
       " 'year',\n",
       " 'duration',\n",
       " 'budget',\n",
       " 'cinematographer',\n",
       " 'documentary',\n",
       " 'tv_series',\n",
       " 'rating',\n",
       " 'Hanna Schygulla',\n",
       " 'Kurt Raab',\n",
       " 'Lilo Pempeit',\n",
       " 'Irm Hermann',\n",
       " 'Margit Carstensen',\n",
       " 'Günther Kaufmann',\n",
       " 'Ulli Lommel',\n",
       " 'Ingrid Caven',\n",
       " 'Karl Scheydt',\n",
       " 'Volker Spengler',\n",
       " 'Harry Baer',\n",
       " 'Hark Bohm',\n",
       " 'Walter Sedlmayr',\n",
       " 'Gottfried John',\n",
       " 'Rudolf Waldemar Brem',\n",
       " 'Katrin Schaake',\n",
       " 'Brigitte Mira',\n",
       " 'Klaus Löwitsch',\n",
       " 'Adrian Hoven',\n",
       " 'El Hedi ben Salem',\n",
       " 'Peter Chatel',\n",
       " 'Peter Moland',\n",
       " 'Vitus Zeplichal',\n",
       " 'Doris Mattes',\n",
       " 'Y Sa Lo',\n",
       " 'Elga Sorbas',\n",
       " 'Eva Mattes',\n",
       " 'Peter Kern',\n",
       " 'Hans Hirschmüller',\n",
       " 'Marquard Bohm',\n",
       " 'Armin Meier',\n",
       " 'Wolfgang Schenck',\n",
       " 'Elma Karlowa',\n",
       " 'Günter Lamprecht',\n",
       " 'Rudolf Lenz',\n",
       " 'Andrea Schober',\n",
       " 'Hannes Gromball',\n",
       " 'Karlheinz Böhm',\n",
       " 'Roger Fritz',\n",
       " 'Ivan Desny',\n",
       " 'Elisabeth Trissenaar',\n",
       " 'Margarethe von Trotta',\n",
       " 'Eddie Constantine',\n",
       " 'Isolde Barth',\n",
       " 'Carla Egerer',\n",
       " 'Franz Maron',\n",
       " 'Claus Holm',\n",
       " 'Barbara Sukowa',\n",
       " 'Christine Kaufmann',\n",
       " 'Herbert Steinmetz',\n",
       " 'Karl-Heinz von Hassel',\n",
       " 'Sonja Neudorfer',\n",
       " 'Alexander Allerson',\n",
       " 'Udo Kier']"
      ]
     },
     "execution_count": 365,
     "metadata": {},
     "output_type": "execute_result"
    }
   ],
   "source": [
    "analysis_columns "
   ]
  },
  {
   "cell_type": "code",
   "execution_count": 366,
   "metadata": {},
   "outputs": [],
   "source": [
    "films_and_features_to_analyze_df = films_to_analyze_financial_df[analysis_columns]"
   ]
  },
  {
   "cell_type": "code",
   "execution_count": 367,
   "metadata": {},
   "outputs": [
    {
     "data": {
      "text/plain": [
       "3"
      ]
     },
     "execution_count": 367,
     "metadata": {},
     "output_type": "execute_result"
    }
   ],
   "source": [
    "cinematographer_include_threshold = films_and_features_to_analyze_df['cinematographer'].value_counts().min()\n",
    "cinematographer_include_threshold"
   ]
  },
  {
   "cell_type": "code",
   "execution_count": 368,
   "metadata": {},
   "outputs": [
    {
     "name": "stderr",
     "output_type": "stream",
     "text": [
      "/opt/anaconda3/envs/metis/lib/python3.8/site-packages/pandas/core/series.py:4479: SettingWithCopyWarning: \n",
      "A value is trying to be set on a copy of a slice from a DataFrame\n",
      "\n",
      "See the caveats in the documentation: https://pandas.pydata.org/pandas-docs/stable/user_guide/indexing.html#returning-a-view-versus-a-copy\n",
      "  return super().replace(\n"
     ]
    }
   ],
   "source": [
    "value_counts = films_and_features_to_analyze_df['cinematographer'].value_counts() # Specific column \n",
    "to_remove = value_counts[value_counts <= cinematographer_include_threshold].index\n",
    "films_and_features_to_analyze_df['cinematographer'].replace(to_remove, 'OTHER', inplace=True)"
   ]
  },
  {
   "cell_type": "code",
   "execution_count": null,
   "metadata": {},
   "outputs": [],
   "source": []
  },
  {
   "cell_type": "markdown",
   "metadata": {},
   "source": [
    "### Regression analysis on `rating`,  `duration`, `year` and `budget` etc"
   ]
  },
  {
   "cell_type": "code",
   "execution_count": 369,
   "metadata": {},
   "outputs": [
    {
     "data": {
      "text/plain": [
       "Index(['title', 'year', 'duration', 'budget', 'cinematographer', 'documentary',\n",
       "       'tv_series', 'rating', 'Hanna Schygulla', 'Kurt Raab', 'Lilo Pempeit',\n",
       "       'Irm Hermann', 'Margit Carstensen', 'Günther Kaufmann', 'Ulli Lommel',\n",
       "       'Ingrid Caven', 'Karl Scheydt', 'Volker Spengler', 'Harry Baer',\n",
       "       'Hark Bohm', 'Walter Sedlmayr', 'Gottfried John',\n",
       "       'Rudolf Waldemar Brem', 'Katrin Schaake', 'Brigitte Mira',\n",
       "       'Klaus Löwitsch', 'Adrian Hoven', 'El Hedi ben Salem', 'Peter Chatel',\n",
       "       'Peter Moland', 'Vitus Zeplichal', 'Doris Mattes', 'Y Sa Lo',\n",
       "       'Elga Sorbas', 'Eva Mattes', 'Peter Kern', 'Hans Hirschmüller',\n",
       "       'Marquard Bohm', 'Armin Meier', 'Wolfgang Schenck', 'Elma Karlowa',\n",
       "       'Günter Lamprecht', 'Rudolf Lenz', 'Andrea Schober', 'Hannes Gromball',\n",
       "       'Karlheinz Böhm', 'Roger Fritz', 'Ivan Desny', 'Elisabeth Trissenaar',\n",
       "       'Margarethe von Trotta', 'Eddie Constantine', 'Isolde Barth',\n",
       "       'Carla Egerer', 'Franz Maron', 'Claus Holm', 'Barbara Sukowa',\n",
       "       'Christine Kaufmann', 'Herbert Steinmetz', 'Karl-Heinz von Hassel',\n",
       "       'Sonja Neudorfer', 'Alexander Allerson', 'Udo Kier'],\n",
       "      dtype='object')"
      ]
     },
     "execution_count": 369,
     "metadata": {},
     "output_type": "execute_result"
    }
   ],
   "source": [
    "films_and_features_to_analyze_df.columns"
   ]
  },
  {
   "cell_type": "code",
   "execution_count": 370,
   "metadata": {},
   "outputs": [],
   "source": [
    "selected_cols = [*films_and_features_to_analyze_df.columns[1:7], *films_and_features_to_analyze_df.columns[8:]]"
   ]
  },
  {
   "cell_type": "code",
   "execution_count": 371,
   "metadata": {},
   "outputs": [],
   "source": [
    "X= films_and_features_to_analyze_df[selected_cols]\n",
    "y= films_and_features_to_analyze_df['rating']"
   ]
  },
  {
   "cell_type": "code",
   "execution_count": 372,
   "metadata": {},
   "outputs": [
    {
     "data": {
      "text/html": [
       "<div>\n",
       "<style scoped>\n",
       "    .dataframe tbody tr th:only-of-type {\n",
       "        vertical-align: middle;\n",
       "    }\n",
       "\n",
       "    .dataframe tbody tr th {\n",
       "        vertical-align: top;\n",
       "    }\n",
       "\n",
       "    .dataframe thead th {\n",
       "        text-align: right;\n",
       "    }\n",
       "</style>\n",
       "<table border=\"1\" class=\"dataframe\">\n",
       "  <thead>\n",
       "    <tr style=\"text-align: right;\">\n",
       "      <th></th>\n",
       "      <th>year</th>\n",
       "      <th>duration</th>\n",
       "      <th>budget</th>\n",
       "      <th>cinematographer</th>\n",
       "      <th>documentary</th>\n",
       "      <th>tv_series</th>\n",
       "      <th>Hanna Schygulla</th>\n",
       "      <th>Kurt Raab</th>\n",
       "      <th>Lilo Pempeit</th>\n",
       "      <th>Irm Hermann</th>\n",
       "      <th>...</th>\n",
       "      <th>Carla Egerer</th>\n",
       "      <th>Franz Maron</th>\n",
       "      <th>Claus Holm</th>\n",
       "      <th>Barbara Sukowa</th>\n",
       "      <th>Christine Kaufmann</th>\n",
       "      <th>Herbert Steinmetz</th>\n",
       "      <th>Karl-Heinz von Hassel</th>\n",
       "      <th>Sonja Neudorfer</th>\n",
       "      <th>Alexander Allerson</th>\n",
       "      <th>Udo Kier</th>\n",
       "    </tr>\n",
       "  </thead>\n",
       "  <tbody>\n",
       "    <tr>\n",
       "      <th>1</th>\n",
       "      <td>1,982.00000</td>\n",
       "      <td>104.00000</td>\n",
       "      <td>2,600,000.00000</td>\n",
       "      <td>OTHER</td>\n",
       "      <td>0</td>\n",
       "      <td>0</td>\n",
       "      <td>0.00000</td>\n",
       "      <td>0.00000</td>\n",
       "      <td>1.00000</td>\n",
       "      <td>0.00000</td>\n",
       "      <td>...</td>\n",
       "      <td>0.00000</td>\n",
       "      <td>0.00000</td>\n",
       "      <td>0.00000</td>\n",
       "      <td>0.00000</td>\n",
       "      <td>0.00000</td>\n",
       "      <td>1.00000</td>\n",
       "      <td>0.00000</td>\n",
       "      <td>1.00000</td>\n",
       "      <td>0.00000</td>\n",
       "      <td>0.00000</td>\n",
       "    </tr>\n",
       "    <tr>\n",
       "      <th>2</th>\n",
       "      <td>1,981.00000</td>\n",
       "      <td>115.00000</td>\n",
       "      <td>3,500,000.00000</td>\n",
       "      <td>OTHER</td>\n",
       "      <td>0</td>\n",
       "      <td>0</td>\n",
       "      <td>0.00000</td>\n",
       "      <td>0.00000</td>\n",
       "      <td>0.00000</td>\n",
       "      <td>0.00000</td>\n",
       "      <td>...</td>\n",
       "      <td>0.00000</td>\n",
       "      <td>0.00000</td>\n",
       "      <td>0.00000</td>\n",
       "      <td>1.00000</td>\n",
       "      <td>1.00000</td>\n",
       "      <td>0.00000</td>\n",
       "      <td>1.00000</td>\n",
       "      <td>1.00000</td>\n",
       "      <td>0.00000</td>\n",
       "      <td>0.00000</td>\n",
       "    </tr>\n",
       "    <tr>\n",
       "      <th>4</th>\n",
       "      <td>1,981.00000</td>\n",
       "      <td>120.00000</td>\n",
       "      <td>10,500,000.00000</td>\n",
       "      <td>OTHER</td>\n",
       "      <td>0</td>\n",
       "      <td>0</td>\n",
       "      <td>1.00000</td>\n",
       "      <td>0.00000</td>\n",
       "      <td>0.00000</td>\n",
       "      <td>0.00000</td>\n",
       "      <td>...</td>\n",
       "      <td>0.00000</td>\n",
       "      <td>0.00000</td>\n",
       "      <td>0.00000</td>\n",
       "      <td>0.00000</td>\n",
       "      <td>1.00000</td>\n",
       "      <td>0.00000</td>\n",
       "      <td>1.00000</td>\n",
       "      <td>0.00000</td>\n",
       "      <td>0.00000</td>\n",
       "      <td>1.00000</td>\n",
       "    </tr>\n",
       "    <tr>\n",
       "      <th>7</th>\n",
       "      <td>1,979.00000</td>\n",
       "      <td>120.00000</td>\n",
       "      <td>1,975,000.00000</td>\n",
       "      <td>Michael Ballhaus</td>\n",
       "      <td>0</td>\n",
       "      <td>0</td>\n",
       "      <td>1.00000</td>\n",
       "      <td>0.00000</td>\n",
       "      <td>1.00000</td>\n",
       "      <td>0.00000</td>\n",
       "      <td>...</td>\n",
       "      <td>0.00000</td>\n",
       "      <td>0.00000</td>\n",
       "      <td>1.00000</td>\n",
       "      <td>0.00000</td>\n",
       "      <td>0.00000</td>\n",
       "      <td>0.00000</td>\n",
       "      <td>0.00000</td>\n",
       "      <td>1.00000</td>\n",
       "      <td>0.00000</td>\n",
       "      <td>0.00000</td>\n",
       "    </tr>\n",
       "    <tr>\n",
       "      <th>9</th>\n",
       "      <td>1,978.00000</td>\n",
       "      <td>119.00000</td>\n",
       "      <td>6,000,000.00000</td>\n",
       "      <td>Michael Ballhaus</td>\n",
       "      <td>0</td>\n",
       "      <td>0</td>\n",
       "      <td>0.00000</td>\n",
       "      <td>0.00000</td>\n",
       "      <td>1.00000</td>\n",
       "      <td>0.00000</td>\n",
       "      <td>...</td>\n",
       "      <td>0.00000</td>\n",
       "      <td>0.00000</td>\n",
       "      <td>0.00000</td>\n",
       "      <td>0.00000</td>\n",
       "      <td>0.00000</td>\n",
       "      <td>0.00000</td>\n",
       "      <td>0.00000</td>\n",
       "      <td>0.00000</td>\n",
       "      <td>1.00000</td>\n",
       "      <td>0.00000</td>\n",
       "    </tr>\n",
       "    <tr>\n",
       "      <th>11</th>\n",
       "      <td>1,977.00000</td>\n",
       "      <td>201.00000</td>\n",
       "      <td>1,800,000.00000</td>\n",
       "      <td>Michael Ballhaus</td>\n",
       "      <td>0</td>\n",
       "      <td>1</td>\n",
       "      <td>0.00000</td>\n",
       "      <td>1.00000</td>\n",
       "      <td>1.00000</td>\n",
       "      <td>0.00000</td>\n",
       "      <td>...</td>\n",
       "      <td>0.00000</td>\n",
       "      <td>0.00000</td>\n",
       "      <td>0.00000</td>\n",
       "      <td>0.00000</td>\n",
       "      <td>0.00000</td>\n",
       "      <td>0.00000</td>\n",
       "      <td>1.00000</td>\n",
       "      <td>0.00000</td>\n",
       "      <td>0.00000</td>\n",
       "      <td>1.00000</td>\n",
       "    </tr>\n",
       "    <tr>\n",
       "      <th>13</th>\n",
       "      <td>1,976.00000</td>\n",
       "      <td>86.00000</td>\n",
       "      <td>1,100,000.00000</td>\n",
       "      <td>Michael Ballhaus</td>\n",
       "      <td>0</td>\n",
       "      <td>0</td>\n",
       "      <td>0.00000</td>\n",
       "      <td>0.00000</td>\n",
       "      <td>0.00000</td>\n",
       "      <td>0.00000</td>\n",
       "      <td>...</td>\n",
       "      <td>0.00000</td>\n",
       "      <td>0.00000</td>\n",
       "      <td>0.00000</td>\n",
       "      <td>0.00000</td>\n",
       "      <td>0.00000</td>\n",
       "      <td>0.00000</td>\n",
       "      <td>0.00000</td>\n",
       "      <td>0.00000</td>\n",
       "      <td>1.00000</td>\n",
       "      <td>0.00000</td>\n",
       "    </tr>\n",
       "    <tr>\n",
       "      <th>14</th>\n",
       "      <td>1,976.00000</td>\n",
       "      <td>112.00000</td>\n",
       "      <td>600,000.00000</td>\n",
       "      <td>Michael Ballhaus</td>\n",
       "      <td>0</td>\n",
       "      <td>0</td>\n",
       "      <td>0.00000</td>\n",
       "      <td>1.00000</td>\n",
       "      <td>0.00000</td>\n",
       "      <td>0.00000</td>\n",
       "      <td>...</td>\n",
       "      <td>0.00000</td>\n",
       "      <td>0.00000</td>\n",
       "      <td>0.00000</td>\n",
       "      <td>0.00000</td>\n",
       "      <td>0.00000</td>\n",
       "      <td>0.00000</td>\n",
       "      <td>0.00000</td>\n",
       "      <td>0.00000</td>\n",
       "      <td>0.00000</td>\n",
       "      <td>0.00000</td>\n",
       "    </tr>\n",
       "    <tr>\n",
       "      <th>16</th>\n",
       "      <td>1,975.00000</td>\n",
       "      <td>88.00000</td>\n",
       "      <td>375,000.00000</td>\n",
       "      <td>OTHER</td>\n",
       "      <td>0</td>\n",
       "      <td>1</td>\n",
       "      <td>0.00000</td>\n",
       "      <td>1.00000</td>\n",
       "      <td>1.00000</td>\n",
       "      <td>1.00000</td>\n",
       "      <td>...</td>\n",
       "      <td>0.00000</td>\n",
       "      <td>0.00000</td>\n",
       "      <td>0.00000</td>\n",
       "      <td>0.00000</td>\n",
       "      <td>0.00000</td>\n",
       "      <td>1.00000</td>\n",
       "      <td>0.00000</td>\n",
       "      <td>0.00000</td>\n",
       "      <td>0.00000</td>\n",
       "      <td>0.00000</td>\n",
       "    </tr>\n",
       "    <tr>\n",
       "      <th>17</th>\n",
       "      <td>1,975.00000</td>\n",
       "      <td>108.00000</td>\n",
       "      <td>750,000.00000</td>\n",
       "      <td>Michael Ballhaus</td>\n",
       "      <td>0</td>\n",
       "      <td>0</td>\n",
       "      <td>0.00000</td>\n",
       "      <td>1.00000</td>\n",
       "      <td>1.00000</td>\n",
       "      <td>1.00000</td>\n",
       "      <td>...</td>\n",
       "      <td>0.00000</td>\n",
       "      <td>0.00000</td>\n",
       "      <td>0.00000</td>\n",
       "      <td>0.00000</td>\n",
       "      <td>0.00000</td>\n",
       "      <td>0.00000</td>\n",
       "      <td>0.00000</td>\n",
       "      <td>0.00000</td>\n",
       "      <td>0.00000</td>\n",
       "      <td>0.00000</td>\n",
       "    </tr>\n",
       "    <tr>\n",
       "      <th>18</th>\n",
       "      <td>1,975.00000</td>\n",
       "      <td>123.00000</td>\n",
       "      <td>450,000.00000</td>\n",
       "      <td>Michael Ballhaus</td>\n",
       "      <td>0</td>\n",
       "      <td>0</td>\n",
       "      <td>0.00000</td>\n",
       "      <td>1.00000</td>\n",
       "      <td>0.00000</td>\n",
       "      <td>0.00000</td>\n",
       "      <td>...</td>\n",
       "      <td>0.00000</td>\n",
       "      <td>0.00000</td>\n",
       "      <td>0.00000</td>\n",
       "      <td>0.00000</td>\n",
       "      <td>0.00000</td>\n",
       "      <td>0.00000</td>\n",
       "      <td>0.00000</td>\n",
       "      <td>0.00000</td>\n",
       "      <td>0.00000</td>\n",
       "      <td>0.00000</td>\n",
       "    </tr>\n",
       "    <tr>\n",
       "      <th>20</th>\n",
       "      <td>1,974.00000</td>\n",
       "      <td>135.00000</td>\n",
       "      <td>750,000.00000</td>\n",
       "      <td>OTHER</td>\n",
       "      <td>0</td>\n",
       "      <td>0</td>\n",
       "      <td>1.00000</td>\n",
       "      <td>0.00000</td>\n",
       "      <td>1.00000</td>\n",
       "      <td>1.00000</td>\n",
       "      <td>...</td>\n",
       "      <td>0.00000</td>\n",
       "      <td>0.00000</td>\n",
       "      <td>0.00000</td>\n",
       "      <td>0.00000</td>\n",
       "      <td>0.00000</td>\n",
       "      <td>1.00000</td>\n",
       "      <td>0.00000</td>\n",
       "      <td>0.00000</td>\n",
       "      <td>0.00000</td>\n",
       "      <td>0.00000</td>\n",
       "    </tr>\n",
       "    <tr>\n",
       "      <th>22</th>\n",
       "      <td>1,974.00000</td>\n",
       "      <td>92.00000</td>\n",
       "      <td>260,000.00000</td>\n",
       "      <td>OTHER</td>\n",
       "      <td>0</td>\n",
       "      <td>0</td>\n",
       "      <td>0.00000</td>\n",
       "      <td>0.00000</td>\n",
       "      <td>1.00000</td>\n",
       "      <td>1.00000</td>\n",
       "      <td>...</td>\n",
       "      <td>0.00000</td>\n",
       "      <td>0.00000</td>\n",
       "      <td>0.00000</td>\n",
       "      <td>0.00000</td>\n",
       "      <td>0.00000</td>\n",
       "      <td>0.00000</td>\n",
       "      <td>0.00000</td>\n",
       "      <td>0.00000</td>\n",
       "      <td>0.00000</td>\n",
       "      <td>0.00000</td>\n",
       "    </tr>\n",
       "    <tr>\n",
       "      <th>25</th>\n",
       "      <td>1,972.00000</td>\n",
       "      <td>476.00000</td>\n",
       "      <td>1,335,000.00000</td>\n",
       "      <td>Dietrich Lohmann</td>\n",
       "      <td>0</td>\n",
       "      <td>1</td>\n",
       "      <td>1.00000</td>\n",
       "      <td>1.00000</td>\n",
       "      <td>0.00000</td>\n",
       "      <td>1.00000</td>\n",
       "      <td>...</td>\n",
       "      <td>0.00000</td>\n",
       "      <td>0.00000</td>\n",
       "      <td>0.00000</td>\n",
       "      <td>0.00000</td>\n",
       "      <td>0.00000</td>\n",
       "      <td>0.00000</td>\n",
       "      <td>0.00000</td>\n",
       "      <td>0.00000</td>\n",
       "      <td>0.00000</td>\n",
       "      <td>0.00000</td>\n",
       "    </tr>\n",
       "    <tr>\n",
       "      <th>28</th>\n",
       "      <td>1,972.00000</td>\n",
       "      <td>124.00000</td>\n",
       "      <td>325,000.00000</td>\n",
       "      <td>Michael Ballhaus</td>\n",
       "      <td>0</td>\n",
       "      <td>0</td>\n",
       "      <td>1.00000</td>\n",
       "      <td>0.00000</td>\n",
       "      <td>0.00000</td>\n",
       "      <td>1.00000</td>\n",
       "      <td>...</td>\n",
       "      <td>0.00000</td>\n",
       "      <td>0.00000</td>\n",
       "      <td>0.00000</td>\n",
       "      <td>0.00000</td>\n",
       "      <td>0.00000</td>\n",
       "      <td>0.00000</td>\n",
       "      <td>0.00000</td>\n",
       "      <td>0.00000</td>\n",
       "      <td>0.00000</td>\n",
       "      <td>0.00000</td>\n",
       "    </tr>\n",
       "    <tr>\n",
       "      <th>29</th>\n",
       "      <td>1,972.00000</td>\n",
       "      <td>88.00000</td>\n",
       "      <td>325,000.00000</td>\n",
       "      <td>Dietrich Lohmann</td>\n",
       "      <td>0</td>\n",
       "      <td>0</td>\n",
       "      <td>1.00000</td>\n",
       "      <td>1.00000</td>\n",
       "      <td>1.00000</td>\n",
       "      <td>1.00000</td>\n",
       "      <td>...</td>\n",
       "      <td>0.00000</td>\n",
       "      <td>0.00000</td>\n",
       "      <td>0.00000</td>\n",
       "      <td>0.00000</td>\n",
       "      <td>0.00000</td>\n",
       "      <td>0.00000</td>\n",
       "      <td>0.00000</td>\n",
       "      <td>0.00000</td>\n",
       "      <td>0.00000</td>\n",
       "      <td>0.00000</td>\n",
       "    </tr>\n",
       "    <tr>\n",
       "      <th>30</th>\n",
       "      <td>1,971.00000</td>\n",
       "      <td>103.00000</td>\n",
       "      <td>1,100,000.00000</td>\n",
       "      <td>Michael Ballhaus</td>\n",
       "      <td>0</td>\n",
       "      <td>0</td>\n",
       "      <td>1.00000</td>\n",
       "      <td>1.00000</td>\n",
       "      <td>0.00000</td>\n",
       "      <td>0.00000</td>\n",
       "      <td>...</td>\n",
       "      <td>0.00000</td>\n",
       "      <td>0.00000</td>\n",
       "      <td>0.00000</td>\n",
       "      <td>0.00000</td>\n",
       "      <td>0.00000</td>\n",
       "      <td>0.00000</td>\n",
       "      <td>0.00000</td>\n",
       "      <td>0.00000</td>\n",
       "      <td>0.00000</td>\n",
       "      <td>0.00000</td>\n",
       "    </tr>\n",
       "    <tr>\n",
       "      <th>35</th>\n",
       "      <td>1,970.00000</td>\n",
       "      <td>80.00000</td>\n",
       "      <td>280,000.00000</td>\n",
       "      <td>Dietrich Lohmann</td>\n",
       "      <td>0</td>\n",
       "      <td>0</td>\n",
       "      <td>0.00000</td>\n",
       "      <td>1.00000</td>\n",
       "      <td>0.00000</td>\n",
       "      <td>1.00000</td>\n",
       "      <td>...</td>\n",
       "      <td>0.00000</td>\n",
       "      <td>0.00000</td>\n",
       "      <td>0.00000</td>\n",
       "      <td>0.00000</td>\n",
       "      <td>0.00000</td>\n",
       "      <td>0.00000</td>\n",
       "      <td>0.00000</td>\n",
       "      <td>0.00000</td>\n",
       "      <td>0.00000</td>\n",
       "      <td>0.00000</td>\n",
       "    </tr>\n",
       "    <tr>\n",
       "      <th>38</th>\n",
       "      <td>1,970.00000</td>\n",
       "      <td>91.00000</td>\n",
       "      <td>180,000.00000</td>\n",
       "      <td>Dietrich Lohmann</td>\n",
       "      <td>0</td>\n",
       "      <td>0</td>\n",
       "      <td>1.00000</td>\n",
       "      <td>0.00000</td>\n",
       "      <td>1.00000</td>\n",
       "      <td>0.00000</td>\n",
       "      <td>...</td>\n",
       "      <td>1.00000</td>\n",
       "      <td>0.00000</td>\n",
       "      <td>0.00000</td>\n",
       "      <td>0.00000</td>\n",
       "      <td>0.00000</td>\n",
       "      <td>0.00000</td>\n",
       "      <td>0.00000</td>\n",
       "      <td>0.00000</td>\n",
       "      <td>0.00000</td>\n",
       "      <td>0.00000</td>\n",
       "    </tr>\n",
       "    <tr>\n",
       "      <th>39</th>\n",
       "      <td>1,969.00000</td>\n",
       "      <td>88.00000</td>\n",
       "      <td>80,000.00000</td>\n",
       "      <td>Dietrich Lohmann</td>\n",
       "      <td>0</td>\n",
       "      <td>0</td>\n",
       "      <td>1.00000</td>\n",
       "      <td>0.00000</td>\n",
       "      <td>0.00000</td>\n",
       "      <td>1.00000</td>\n",
       "      <td>...</td>\n",
       "      <td>0.00000</td>\n",
       "      <td>0.00000</td>\n",
       "      <td>0.00000</td>\n",
       "      <td>0.00000</td>\n",
       "      <td>0.00000</td>\n",
       "      <td>0.00000</td>\n",
       "      <td>0.00000</td>\n",
       "      <td>0.00000</td>\n",
       "      <td>0.00000</td>\n",
       "      <td>0.00000</td>\n",
       "    </tr>\n",
       "    <tr>\n",
       "      <th>40</th>\n",
       "      <td>1,969.00000</td>\n",
       "      <td>88.00000</td>\n",
       "      <td>95,000.00000</td>\n",
       "      <td>Dietrich Lohmann</td>\n",
       "      <td>0</td>\n",
       "      <td>0</td>\n",
       "      <td>1.00000</td>\n",
       "      <td>1.00000</td>\n",
       "      <td>0.00000</td>\n",
       "      <td>0.00000</td>\n",
       "      <td>...</td>\n",
       "      <td>0.00000</td>\n",
       "      <td>0.00000</td>\n",
       "      <td>0.00000</td>\n",
       "      <td>0.00000</td>\n",
       "      <td>0.00000</td>\n",
       "      <td>0.00000</td>\n",
       "      <td>0.00000</td>\n",
       "      <td>0.00000</td>\n",
       "      <td>0.00000</td>\n",
       "      <td>0.00000</td>\n",
       "    </tr>\n",
       "  </tbody>\n",
       "</table>\n",
       "<p>21 rows × 60 columns</p>\n",
       "</div>"
      ],
      "text/plain": [
       "          year  duration           budget   cinematographer  documentary  \\\n",
       "1  1,982.00000 104.00000  2,600,000.00000             OTHER            0   \n",
       "2  1,981.00000 115.00000  3,500,000.00000             OTHER            0   \n",
       "4  1,981.00000 120.00000 10,500,000.00000             OTHER            0   \n",
       "7  1,979.00000 120.00000  1,975,000.00000  Michael Ballhaus            0   \n",
       "9  1,978.00000 119.00000  6,000,000.00000  Michael Ballhaus            0   \n",
       "11 1,977.00000 201.00000  1,800,000.00000  Michael Ballhaus            0   \n",
       "13 1,976.00000  86.00000  1,100,000.00000  Michael Ballhaus            0   \n",
       "14 1,976.00000 112.00000    600,000.00000  Michael Ballhaus            0   \n",
       "16 1,975.00000  88.00000    375,000.00000             OTHER            0   \n",
       "17 1,975.00000 108.00000    750,000.00000  Michael Ballhaus            0   \n",
       "18 1,975.00000 123.00000    450,000.00000  Michael Ballhaus            0   \n",
       "20 1,974.00000 135.00000    750,000.00000             OTHER            0   \n",
       "22 1,974.00000  92.00000    260,000.00000             OTHER            0   \n",
       "25 1,972.00000 476.00000  1,335,000.00000  Dietrich Lohmann            0   \n",
       "28 1,972.00000 124.00000    325,000.00000  Michael Ballhaus            0   \n",
       "29 1,972.00000  88.00000    325,000.00000  Dietrich Lohmann            0   \n",
       "30 1,971.00000 103.00000  1,100,000.00000  Michael Ballhaus            0   \n",
       "35 1,970.00000  80.00000    280,000.00000  Dietrich Lohmann            0   \n",
       "38 1,970.00000  91.00000    180,000.00000  Dietrich Lohmann            0   \n",
       "39 1,969.00000  88.00000     80,000.00000  Dietrich Lohmann            0   \n",
       "40 1,969.00000  88.00000     95,000.00000  Dietrich Lohmann            0   \n",
       "\n",
       "    tv_series  Hanna Schygulla  Kurt Raab  Lilo Pempeit  Irm Hermann  ...  \\\n",
       "1           0          0.00000    0.00000       1.00000      0.00000  ...   \n",
       "2           0          0.00000    0.00000       0.00000      0.00000  ...   \n",
       "4           0          1.00000    0.00000       0.00000      0.00000  ...   \n",
       "7           0          1.00000    0.00000       1.00000      0.00000  ...   \n",
       "9           0          0.00000    0.00000       1.00000      0.00000  ...   \n",
       "11          1          0.00000    1.00000       1.00000      0.00000  ...   \n",
       "13          0          0.00000    0.00000       0.00000      0.00000  ...   \n",
       "14          0          0.00000    1.00000       0.00000      0.00000  ...   \n",
       "16          1          0.00000    1.00000       1.00000      1.00000  ...   \n",
       "17          0          0.00000    1.00000       1.00000      1.00000  ...   \n",
       "18          0          0.00000    1.00000       0.00000      0.00000  ...   \n",
       "20          0          1.00000    0.00000       1.00000      1.00000  ...   \n",
       "22          0          0.00000    0.00000       1.00000      1.00000  ...   \n",
       "25          1          1.00000    1.00000       0.00000      1.00000  ...   \n",
       "28          0          1.00000    0.00000       0.00000      1.00000  ...   \n",
       "29          0          1.00000    1.00000       1.00000      1.00000  ...   \n",
       "30          0          1.00000    1.00000       0.00000      0.00000  ...   \n",
       "35          0          0.00000    1.00000       0.00000      1.00000  ...   \n",
       "38          0          1.00000    0.00000       1.00000      0.00000  ...   \n",
       "39          0          1.00000    0.00000       0.00000      1.00000  ...   \n",
       "40          0          1.00000    1.00000       0.00000      0.00000  ...   \n",
       "\n",
       "    Carla Egerer  Franz Maron  Claus Holm  Barbara Sukowa  Christine Kaufmann  \\\n",
       "1        0.00000      0.00000     0.00000         0.00000             0.00000   \n",
       "2        0.00000      0.00000     0.00000         1.00000             1.00000   \n",
       "4        0.00000      0.00000     0.00000         0.00000             1.00000   \n",
       "7        0.00000      0.00000     1.00000         0.00000             0.00000   \n",
       "9        0.00000      0.00000     0.00000         0.00000             0.00000   \n",
       "11       0.00000      0.00000     0.00000         0.00000             0.00000   \n",
       "13       0.00000      0.00000     0.00000         0.00000             0.00000   \n",
       "14       0.00000      0.00000     0.00000         0.00000             0.00000   \n",
       "16       0.00000      0.00000     0.00000         0.00000             0.00000   \n",
       "17       0.00000      0.00000     0.00000         0.00000             0.00000   \n",
       "18       0.00000      0.00000     0.00000         0.00000             0.00000   \n",
       "20       0.00000      0.00000     0.00000         0.00000             0.00000   \n",
       "22       0.00000      0.00000     0.00000         0.00000             0.00000   \n",
       "25       0.00000      0.00000     0.00000         0.00000             0.00000   \n",
       "28       0.00000      0.00000     0.00000         0.00000             0.00000   \n",
       "29       0.00000      0.00000     0.00000         0.00000             0.00000   \n",
       "30       0.00000      0.00000     0.00000         0.00000             0.00000   \n",
       "35       0.00000      0.00000     0.00000         0.00000             0.00000   \n",
       "38       1.00000      0.00000     0.00000         0.00000             0.00000   \n",
       "39       0.00000      0.00000     0.00000         0.00000             0.00000   \n",
       "40       0.00000      0.00000     0.00000         0.00000             0.00000   \n",
       "\n",
       "    Herbert Steinmetz  Karl-Heinz von Hassel  Sonja Neudorfer  \\\n",
       "1             1.00000                0.00000          1.00000   \n",
       "2             0.00000                1.00000          1.00000   \n",
       "4             0.00000                1.00000          0.00000   \n",
       "7             0.00000                0.00000          1.00000   \n",
       "9             0.00000                0.00000          0.00000   \n",
       "11            0.00000                1.00000          0.00000   \n",
       "13            0.00000                0.00000          0.00000   \n",
       "14            0.00000                0.00000          0.00000   \n",
       "16            1.00000                0.00000          0.00000   \n",
       "17            0.00000                0.00000          0.00000   \n",
       "18            0.00000                0.00000          0.00000   \n",
       "20            1.00000                0.00000          0.00000   \n",
       "22            0.00000                0.00000          0.00000   \n",
       "25            0.00000                0.00000          0.00000   \n",
       "28            0.00000                0.00000          0.00000   \n",
       "29            0.00000                0.00000          0.00000   \n",
       "30            0.00000                0.00000          0.00000   \n",
       "35            0.00000                0.00000          0.00000   \n",
       "38            0.00000                0.00000          0.00000   \n",
       "39            0.00000                0.00000          0.00000   \n",
       "40            0.00000                0.00000          0.00000   \n",
       "\n",
       "    Alexander Allerson  Udo Kier  \n",
       "1              0.00000   0.00000  \n",
       "2              0.00000   0.00000  \n",
       "4              0.00000   1.00000  \n",
       "7              0.00000   0.00000  \n",
       "9              1.00000   0.00000  \n",
       "11             0.00000   1.00000  \n",
       "13             1.00000   0.00000  \n",
       "14             0.00000   0.00000  \n",
       "16             0.00000   0.00000  \n",
       "17             0.00000   0.00000  \n",
       "18             0.00000   0.00000  \n",
       "20             0.00000   0.00000  \n",
       "22             0.00000   0.00000  \n",
       "25             0.00000   0.00000  \n",
       "28             0.00000   0.00000  \n",
       "29             0.00000   0.00000  \n",
       "30             0.00000   0.00000  \n",
       "35             0.00000   0.00000  \n",
       "38             0.00000   0.00000  \n",
       "39             0.00000   0.00000  \n",
       "40             0.00000   0.00000  \n",
       "\n",
       "[21 rows x 60 columns]"
      ]
     },
     "execution_count": 372,
     "metadata": {},
     "output_type": "execute_result"
    }
   ],
   "source": [
    "X"
   ]
  },
  {
   "cell_type": "code",
   "execution_count": 373,
   "metadata": {},
   "outputs": [
    {
     "data": {
      "text/plain": [
       "False"
      ]
     },
     "execution_count": 373,
     "metadata": {},
     "output_type": "execute_result"
    }
   ],
   "source": [
    "y.isnull().values.any()"
   ]
  },
  {
   "cell_type": "code",
   "execution_count": 374,
   "metadata": {},
   "outputs": [],
   "source": [
    "X_train_val, X_test, y_train_val, y_test = train_test_split(X, y, test_size=0.2,random_state=42)"
   ]
  },
  {
   "cell_type": "code",
   "execution_count": 375,
   "metadata": {},
   "outputs": [],
   "source": [
    "# X_train_val"
   ]
  },
  {
   "cell_type": "markdown",
   "metadata": {},
   "source": [
    "## Preprocessing\n"
   ]
  },
  {
   "cell_type": "markdown",
   "metadata": {},
   "source": [
    "### Categorical Variable Preprocessing"
   ]
  },
  {
   "cell_type": "markdown",
   "metadata": {},
   "source": [
    "#### One-hot-encoding"
   ]
  },
  {
   "cell_type": "code",
   "execution_count": 376,
   "metadata": {},
   "outputs": [],
   "source": [
    "cat_ohe_vars = ['cinematographer']\n",
    "X_train_val_cat_ohe = X_train_val[cat_ohe_vars]\n",
    "#X_train_cat_ohe "
   ]
  },
  {
   "cell_type": "code",
   "execution_count": 377,
   "metadata": {},
   "outputs": [],
   "source": [
    "ohe = OneHotEncoder(sparse=False,  handle_unknown='ignore')\n",
    "ohe.fit(X_train_val_cat_ohe)\n",
    "cat_ohe = ohe.transform(X_train_val_cat_ohe)"
   ]
  },
  {
   "cell_type": "code",
   "execution_count": 378,
   "metadata": {},
   "outputs": [
    {
     "data": {
      "text/plain": [
       "array(['cinematographer_Dietrich Lohmann',\n",
       "       'cinematographer_Michael Ballhaus', 'cinematographer_OTHER'],\n",
       "      dtype=object)"
      ]
     },
     "execution_count": 378,
     "metadata": {},
     "output_type": "execute_result"
    }
   ],
   "source": [
    "columns=ohe.get_feature_names(cat_ohe_vars)\n",
    "columns"
   ]
  },
  {
   "cell_type": "code",
   "execution_count": 379,
   "metadata": {},
   "outputs": [
    {
     "data": {
      "text/plain": [
       "16"
      ]
     },
     "execution_count": 379,
     "metadata": {},
     "output_type": "execute_result"
    }
   ],
   "source": [
    "cat_ohe.shape[0]"
   ]
  },
  {
   "cell_type": "code",
   "execution_count": 380,
   "metadata": {},
   "outputs": [
    {
     "data": {
      "text/plain": [
       "16"
      ]
     },
     "execution_count": 380,
     "metadata": {},
     "output_type": "execute_result"
    }
   ],
   "source": [
    "X_train_val_cat_ohe.shape[0]"
   ]
  },
  {
   "cell_type": "code",
   "execution_count": null,
   "metadata": {},
   "outputs": [],
   "source": []
  },
  {
   "cell_type": "code",
   "execution_count": 381,
   "metadata": {},
   "outputs": [
    {
     "data": {
      "text/html": [
       "<div>\n",
       "<style scoped>\n",
       "    .dataframe tbody tr th:only-of-type {\n",
       "        vertical-align: middle;\n",
       "    }\n",
       "\n",
       "    .dataframe tbody tr th {\n",
       "        vertical-align: top;\n",
       "    }\n",
       "\n",
       "    .dataframe thead th {\n",
       "        text-align: right;\n",
       "    }\n",
       "</style>\n",
       "<table border=\"1\" class=\"dataframe\">\n",
       "  <thead>\n",
       "    <tr style=\"text-align: right;\">\n",
       "      <th></th>\n",
       "      <th>cinematographer_Dietrich Lohmann</th>\n",
       "      <th>cinematographer_Michael Ballhaus</th>\n",
       "      <th>cinematographer_OTHER</th>\n",
       "    </tr>\n",
       "  </thead>\n",
       "  <tbody>\n",
       "    <tr>\n",
       "      <th>11</th>\n",
       "      <td>0.00000</td>\n",
       "      <td>1.00000</td>\n",
       "      <td>0.00000</td>\n",
       "    </tr>\n",
       "    <tr>\n",
       "      <th>20</th>\n",
       "      <td>0.00000</td>\n",
       "      <td>0.00000</td>\n",
       "      <td>1.00000</td>\n",
       "    </tr>\n",
       "    <tr>\n",
       "      <th>7</th>\n",
       "      <td>0.00000</td>\n",
       "      <td>1.00000</td>\n",
       "      <td>0.00000</td>\n",
       "    </tr>\n",
       "    <tr>\n",
       "      <th>38</th>\n",
       "      <td>1.00000</td>\n",
       "      <td>0.00000</td>\n",
       "      <td>0.00000</td>\n",
       "    </tr>\n",
       "    <tr>\n",
       "      <th>30</th>\n",
       "      <td>0.00000</td>\n",
       "      <td>1.00000</td>\n",
       "      <td>0.00000</td>\n",
       "    </tr>\n",
       "  </tbody>\n",
       "</table>\n",
       "</div>"
      ],
      "text/plain": [
       "    cinematographer_Dietrich Lohmann  cinematographer_Michael Ballhaus  \\\n",
       "11                           0.00000                           1.00000   \n",
       "20                           0.00000                           0.00000   \n",
       "7                            0.00000                           1.00000   \n",
       "38                           1.00000                           0.00000   \n",
       "30                           0.00000                           1.00000   \n",
       "\n",
       "    cinematographer_OTHER  \n",
       "11                0.00000  \n",
       "20                1.00000  \n",
       "7                 0.00000  \n",
       "38                0.00000  \n",
       "30                0.00000  "
      ]
     },
     "execution_count": 381,
     "metadata": {},
     "output_type": "execute_result"
    }
   ],
   "source": [
    "X_train_val_cat_ohe_df = pd.DataFrame(cat_ohe, columns=columns, index=X_train_val_cat_ohe.index)\n",
    "X_train_val_cat_ohe_df.head()"
   ]
  },
  {
   "cell_type": "code",
   "execution_count": 382,
   "metadata": {},
   "outputs": [],
   "source": [
    "X_test_cat_ohe = X_test[['cinematographer']]\n",
    "X_test_cat_ohe\n",
    "cat_ohe_test = ohe.transform(X_test_cat_ohe)\n",
    "\n",
    "cat_ohe_columns = ohe.get_feature_names(['cinematographer'])\n",
    "X_test_cat_ohe_df = pd.DataFrame(cat_ohe_test, columns=cat_ohe_columns)\n"
   ]
  },
  {
   "cell_type": "markdown",
   "metadata": {},
   "source": [
    "### Continuous Variable Preprocessing"
   ]
  },
  {
   "cell_type": "code",
   "execution_count": 383,
   "metadata": {},
   "outputs": [
    {
     "data": {
      "text/html": [
       "<div>\n",
       "<style scoped>\n",
       "    .dataframe tbody tr th:only-of-type {\n",
       "        vertical-align: middle;\n",
       "    }\n",
       "\n",
       "    .dataframe tbody tr th {\n",
       "        vertical-align: top;\n",
       "    }\n",
       "\n",
       "    .dataframe thead th {\n",
       "        text-align: right;\n",
       "    }\n",
       "</style>\n",
       "<table border=\"1\" class=\"dataframe\">\n",
       "  <thead>\n",
       "    <tr style=\"text-align: right;\">\n",
       "      <th></th>\n",
       "      <th>year</th>\n",
       "      <th>duration</th>\n",
       "      <th>budget</th>\n",
       "    </tr>\n",
       "  </thead>\n",
       "  <tbody>\n",
       "    <tr>\n",
       "      <th>11</th>\n",
       "      <td>1,977.00000</td>\n",
       "      <td>201.00000</td>\n",
       "      <td>1,800,000.00000</td>\n",
       "    </tr>\n",
       "    <tr>\n",
       "      <th>20</th>\n",
       "      <td>1,974.00000</td>\n",
       "      <td>135.00000</td>\n",
       "      <td>750,000.00000</td>\n",
       "    </tr>\n",
       "    <tr>\n",
       "      <th>7</th>\n",
       "      <td>1,979.00000</td>\n",
       "      <td>120.00000</td>\n",
       "      <td>1,975,000.00000</td>\n",
       "    </tr>\n",
       "    <tr>\n",
       "      <th>38</th>\n",
       "      <td>1,970.00000</td>\n",
       "      <td>91.00000</td>\n",
       "      <td>180,000.00000</td>\n",
       "    </tr>\n",
       "    <tr>\n",
       "      <th>30</th>\n",
       "      <td>1,971.00000</td>\n",
       "      <td>103.00000</td>\n",
       "      <td>1,100,000.00000</td>\n",
       "    </tr>\n",
       "  </tbody>\n",
       "</table>\n",
       "</div>"
      ],
      "text/plain": [
       "          year  duration          budget\n",
       "11 1,977.00000 201.00000 1,800,000.00000\n",
       "20 1,974.00000 135.00000   750,000.00000\n",
       "7  1,979.00000 120.00000 1,975,000.00000\n",
       "38 1,970.00000  91.00000   180,000.00000\n",
       "30 1,971.00000 103.00000 1,100,000.00000"
      ]
     },
     "execution_count": 383,
     "metadata": {},
     "output_type": "execute_result"
    }
   ],
   "source": [
    "cont_column_names = ['year', 'duration', 'budget']\n",
    "X_train_val_cont = X_train_val[cont_column_names ]\n",
    "\n",
    "X_test_cont      = X_test[     cont_column_names ]\n",
    "\n",
    "\n",
    "X_train_val_cont.head()"
   ]
  },
  {
   "cell_type": "code",
   "execution_count": 384,
   "metadata": {},
   "outputs": [
    {
     "name": "stderr",
     "output_type": "stream",
     "text": [
      "<ipython-input-384-02b26dca41c8>:1: SettingWithCopyWarning: \n",
      "A value is trying to be set on a copy of a slice from a DataFrame.\n",
      "Try using .loc[row_indexer,col_indexer] = value instead\n",
      "\n",
      "See the caveats in the documentation: https://pandas.pydata.org/pandas-docs/stable/user_guide/indexing.html#returning-a-view-versus-a-copy\n",
      "  X_train_val_cont['log_year']         = np.log(X_train_val_cont.year)\n",
      "<ipython-input-384-02b26dca41c8>:2: SettingWithCopyWarning: \n",
      "A value is trying to be set on a copy of a slice from a DataFrame.\n",
      "Try using .loc[row_indexer,col_indexer] = value instead\n",
      "\n",
      "See the caveats in the documentation: https://pandas.pydata.org/pandas-docs/stable/user_guide/indexing.html#returning-a-view-versus-a-copy\n",
      "  X_train_val_cont['log_budget']         = np.log(X_train_val_cont.budget)\n",
      "<ipython-input-384-02b26dca41c8>:3: SettingWithCopyWarning: \n",
      "A value is trying to be set on a copy of a slice from a DataFrame.\n",
      "Try using .loc[row_indexer,col_indexer] = value instead\n",
      "\n",
      "See the caveats in the documentation: https://pandas.pydata.org/pandas-docs/stable/user_guide/indexing.html#returning-a-view-versus-a-copy\n",
      "  X_train_val_cont['budget_sq'] = X_train_val_cont.budget**2\n",
      "<ipython-input-384-02b26dca41c8>:7: SettingWithCopyWarning: \n",
      "A value is trying to be set on a copy of a slice from a DataFrame.\n",
      "Try using .loc[row_indexer,col_indexer] = value instead\n",
      "\n",
      "See the caveats in the documentation: https://pandas.pydata.org/pandas-docs/stable/user_guide/indexing.html#returning-a-view-versus-a-copy\n",
      "  X_test_cont['log_year']         = np.log(X_test_cont.year)\n",
      "<ipython-input-384-02b26dca41c8>:8: SettingWithCopyWarning: \n",
      "A value is trying to be set on a copy of a slice from a DataFrame.\n",
      "Try using .loc[row_indexer,col_indexer] = value instead\n",
      "\n",
      "See the caveats in the documentation: https://pandas.pydata.org/pandas-docs/stable/user_guide/indexing.html#returning-a-view-versus-a-copy\n",
      "  X_test_cont['log_budget']         = np.log(X_test_cont.budget)\n",
      "<ipython-input-384-02b26dca41c8>:9: SettingWithCopyWarning: \n",
      "A value is trying to be set on a copy of a slice from a DataFrame.\n",
      "Try using .loc[row_indexer,col_indexer] = value instead\n",
      "\n",
      "See the caveats in the documentation: https://pandas.pydata.org/pandas-docs/stable/user_guide/indexing.html#returning-a-view-versus-a-copy\n",
      "  X_test_cont['budget_sq']  =  X_test_cont.budget**2\n"
     ]
    }
   ],
   "source": [
    "X_train_val_cont['log_year']         = np.log(X_train_val_cont.year)\n",
    "X_train_val_cont['log_budget']         = np.log(X_train_val_cont.budget)\n",
    "X_train_val_cont['budget_sq'] = X_train_val_cont.budget**2\n",
    "#X_train_val_cont['budget_per_year'] = X_train_val_cont.budget/X_train_val_cont.year\n",
    "\n",
    "\n",
    "X_test_cont['log_year']         = np.log(X_test_cont.year)\n",
    "X_test_cont['log_budget']         = np.log(X_test_cont.budget)\n",
    "X_test_cont['budget_sq']  =  X_test_cont.budget**2\n",
    "#X_test_cont['budget_per_year']  =   X_test_cont.budget/X_test_cont.year"
   ]
  },
  {
   "cell_type": "code",
   "execution_count": 385,
   "metadata": {},
   "outputs": [
    {
     "data": {
      "text/plain": [
       "5"
      ]
     },
     "execution_count": 385,
     "metadata": {},
     "output_type": "execute_result"
    }
   ],
   "source": [
    "X_test_cont.shape[0]"
   ]
  },
  {
   "cell_type": "markdown",
   "metadata": {},
   "source": [
    "#### Concatenate columns"
   ]
  },
  {
   "cell_type": "code",
   "execution_count": 386,
   "metadata": {},
   "outputs": [],
   "source": [
    "cat_columns = ['documentary', 'tv_series', *prevalent_actor_columns]\n",
    "X_train_val_cat_df = X_train_val[cat_columns]\n",
    "#X_train_val_cat_df\n",
    "\n",
    "X_test_cat_df = X_test[cat_columns]\n",
    "#X_train_val_cat_df"
   ]
  },
  {
   "cell_type": "code",
   "execution_count": 387,
   "metadata": {},
   "outputs": [
    {
     "data": {
      "text/plain": [
       "False"
      ]
     },
     "execution_count": 387,
     "metadata": {},
     "output_type": "execute_result"
    }
   ],
   "source": [
    "X_test_cat_df.isnull().values.any()"
   ]
  },
  {
   "cell_type": "code",
   "execution_count": 388,
   "metadata": {},
   "outputs": [],
   "source": [
    "X_train_val_combo= pd.concat([X_train_val_cont, X_train_val_cat_ohe_df, X_train_val_cat_df, ], axis='columns')\n",
    "X_test_combo = pd.concat([X_test_cont.reset_index(drop=True), X_test_cat_ohe_df.reset_index(drop=True), X_test_cat_df.reset_index(drop=True), ], axis='columns')"
   ]
  },
  {
   "cell_type": "code",
   "execution_count": 389,
   "metadata": {},
   "outputs": [
    {
     "data": {
      "text/plain": [
       "(5, 56)"
      ]
     },
     "execution_count": 389,
     "metadata": {},
     "output_type": "execute_result"
    }
   ],
   "source": [
    "X_test_cat_df.shape"
   ]
  },
  {
   "cell_type": "code",
   "execution_count": 390,
   "metadata": {},
   "outputs": [
    {
     "data": {
      "text/plain": [
       "False"
      ]
     },
     "execution_count": 390,
     "metadata": {},
     "output_type": "execute_result"
    }
   ],
   "source": [
    "X_train_val_combo.isnull().values.any()"
   ]
  },
  {
   "cell_type": "code",
   "execution_count": 391,
   "metadata": {},
   "outputs": [
    {
     "data": {
      "text/plain": [
       "False"
      ]
     },
     "execution_count": 391,
     "metadata": {},
     "output_type": "execute_result"
    }
   ],
   "source": [
    "X_test_combo.isnull().values.any()"
   ]
  },
  {
   "cell_type": "code",
   "execution_count": 392,
   "metadata": {},
   "outputs": [
    {
     "data": {
      "text/html": [
       "<div>\n",
       "<style scoped>\n",
       "    .dataframe tbody tr th:only-of-type {\n",
       "        vertical-align: middle;\n",
       "    }\n",
       "\n",
       "    .dataframe tbody tr th {\n",
       "        vertical-align: top;\n",
       "    }\n",
       "\n",
       "    .dataframe thead th {\n",
       "        text-align: right;\n",
       "    }\n",
       "</style>\n",
       "<table border=\"1\" class=\"dataframe\">\n",
       "  <thead>\n",
       "    <tr style=\"text-align: right;\">\n",
       "      <th></th>\n",
       "      <th>year</th>\n",
       "      <th>duration</th>\n",
       "      <th>budget</th>\n",
       "      <th>log_year</th>\n",
       "      <th>log_budget</th>\n",
       "      <th>budget_sq</th>\n",
       "      <th>cinematographer_Dietrich Lohmann</th>\n",
       "      <th>cinematographer_Michael Ballhaus</th>\n",
       "      <th>cinematographer_OTHER</th>\n",
       "      <th>documentary</th>\n",
       "      <th>...</th>\n",
       "      <th>Carla Egerer</th>\n",
       "      <th>Franz Maron</th>\n",
       "      <th>Claus Holm</th>\n",
       "      <th>Barbara Sukowa</th>\n",
       "      <th>Christine Kaufmann</th>\n",
       "      <th>Herbert Steinmetz</th>\n",
       "      <th>Karl-Heinz von Hassel</th>\n",
       "      <th>Sonja Neudorfer</th>\n",
       "      <th>Alexander Allerson</th>\n",
       "      <th>Udo Kier</th>\n",
       "    </tr>\n",
       "  </thead>\n",
       "  <tbody>\n",
       "    <tr>\n",
       "      <th>0</th>\n",
       "      <td>1,982.00000</td>\n",
       "      <td>104.00000</td>\n",
       "      <td>2,600,000.00000</td>\n",
       "      <td>7.59186</td>\n",
       "      <td>14.77102</td>\n",
       "      <td>6,760,000,000,000.00000</td>\n",
       "      <td>0.00000</td>\n",
       "      <td>0.00000</td>\n",
       "      <td>1.00000</td>\n",
       "      <td>0</td>\n",
       "      <td>...</td>\n",
       "      <td>0.00000</td>\n",
       "      <td>0.00000</td>\n",
       "      <td>0.00000</td>\n",
       "      <td>0.00000</td>\n",
       "      <td>0.00000</td>\n",
       "      <td>1.00000</td>\n",
       "      <td>0.00000</td>\n",
       "      <td>1.00000</td>\n",
       "      <td>0.00000</td>\n",
       "      <td>0.00000</td>\n",
       "    </tr>\n",
       "    <tr>\n",
       "      <th>1</th>\n",
       "      <td>1,970.00000</td>\n",
       "      <td>80.00000</td>\n",
       "      <td>280,000.00000</td>\n",
       "      <td>7.58579</td>\n",
       "      <td>12.54254</td>\n",
       "      <td>78,400,000,000.00000</td>\n",
       "      <td>1.00000</td>\n",
       "      <td>0.00000</td>\n",
       "      <td>0.00000</td>\n",
       "      <td>0</td>\n",
       "      <td>...</td>\n",
       "      <td>0.00000</td>\n",
       "      <td>0.00000</td>\n",
       "      <td>0.00000</td>\n",
       "      <td>0.00000</td>\n",
       "      <td>0.00000</td>\n",
       "      <td>0.00000</td>\n",
       "      <td>0.00000</td>\n",
       "      <td>0.00000</td>\n",
       "      <td>0.00000</td>\n",
       "      <td>0.00000</td>\n",
       "    </tr>\n",
       "    <tr>\n",
       "      <th>2</th>\n",
       "      <td>1,972.00000</td>\n",
       "      <td>88.00000</td>\n",
       "      <td>325,000.00000</td>\n",
       "      <td>7.58680</td>\n",
       "      <td>12.69158</td>\n",
       "      <td>105,625,000,000.00000</td>\n",
       "      <td>1.00000</td>\n",
       "      <td>0.00000</td>\n",
       "      <td>0.00000</td>\n",
       "      <td>0</td>\n",
       "      <td>...</td>\n",
       "      <td>0.00000</td>\n",
       "      <td>0.00000</td>\n",
       "      <td>0.00000</td>\n",
       "      <td>0.00000</td>\n",
       "      <td>0.00000</td>\n",
       "      <td>0.00000</td>\n",
       "      <td>0.00000</td>\n",
       "      <td>0.00000</td>\n",
       "      <td>0.00000</td>\n",
       "      <td>0.00000</td>\n",
       "    </tr>\n",
       "    <tr>\n",
       "      <th>3</th>\n",
       "      <td>1,981.00000</td>\n",
       "      <td>115.00000</td>\n",
       "      <td>3,500,000.00000</td>\n",
       "      <td>7.59136</td>\n",
       "      <td>15.06827</td>\n",
       "      <td>12,250,000,000,000.00000</td>\n",
       "      <td>0.00000</td>\n",
       "      <td>0.00000</td>\n",
       "      <td>1.00000</td>\n",
       "      <td>0</td>\n",
       "      <td>...</td>\n",
       "      <td>0.00000</td>\n",
       "      <td>0.00000</td>\n",
       "      <td>0.00000</td>\n",
       "      <td>1.00000</td>\n",
       "      <td>1.00000</td>\n",
       "      <td>0.00000</td>\n",
       "      <td>1.00000</td>\n",
       "      <td>1.00000</td>\n",
       "      <td>0.00000</td>\n",
       "      <td>0.00000</td>\n",
       "    </tr>\n",
       "    <tr>\n",
       "      <th>4</th>\n",
       "      <td>1,975.00000</td>\n",
       "      <td>88.00000</td>\n",
       "      <td>375,000.00000</td>\n",
       "      <td>7.58832</td>\n",
       "      <td>12.83468</td>\n",
       "      <td>140,625,000,000.00000</td>\n",
       "      <td>0.00000</td>\n",
       "      <td>0.00000</td>\n",
       "      <td>1.00000</td>\n",
       "      <td>0</td>\n",
       "      <td>...</td>\n",
       "      <td>0.00000</td>\n",
       "      <td>0.00000</td>\n",
       "      <td>0.00000</td>\n",
       "      <td>0.00000</td>\n",
       "      <td>0.00000</td>\n",
       "      <td>1.00000</td>\n",
       "      <td>0.00000</td>\n",
       "      <td>0.00000</td>\n",
       "      <td>0.00000</td>\n",
       "      <td>0.00000</td>\n",
       "    </tr>\n",
       "  </tbody>\n",
       "</table>\n",
       "<p>5 rows × 65 columns</p>\n",
       "</div>"
      ],
      "text/plain": [
       "         year  duration          budget  log_year  log_budget  \\\n",
       "0 1,982.00000 104.00000 2,600,000.00000   7.59186    14.77102   \n",
       "1 1,970.00000  80.00000   280,000.00000   7.58579    12.54254   \n",
       "2 1,972.00000  88.00000   325,000.00000   7.58680    12.69158   \n",
       "3 1,981.00000 115.00000 3,500,000.00000   7.59136    15.06827   \n",
       "4 1,975.00000  88.00000   375,000.00000   7.58832    12.83468   \n",
       "\n",
       "                 budget_sq  cinematographer_Dietrich Lohmann  \\\n",
       "0  6,760,000,000,000.00000                           0.00000   \n",
       "1     78,400,000,000.00000                           1.00000   \n",
       "2    105,625,000,000.00000                           1.00000   \n",
       "3 12,250,000,000,000.00000                           0.00000   \n",
       "4    140,625,000,000.00000                           0.00000   \n",
       "\n",
       "   cinematographer_Michael Ballhaus  cinematographer_OTHER  documentary  ...  \\\n",
       "0                           0.00000                1.00000            0  ...   \n",
       "1                           0.00000                0.00000            0  ...   \n",
       "2                           0.00000                0.00000            0  ...   \n",
       "3                           0.00000                1.00000            0  ...   \n",
       "4                           0.00000                1.00000            0  ...   \n",
       "\n",
       "   Carla Egerer  Franz Maron  Claus Holm  Barbara Sukowa  Christine Kaufmann  \\\n",
       "0       0.00000      0.00000     0.00000         0.00000             0.00000   \n",
       "1       0.00000      0.00000     0.00000         0.00000             0.00000   \n",
       "2       0.00000      0.00000     0.00000         0.00000             0.00000   \n",
       "3       0.00000      0.00000     0.00000         1.00000             1.00000   \n",
       "4       0.00000      0.00000     0.00000         0.00000             0.00000   \n",
       "\n",
       "   Herbert Steinmetz  Karl-Heinz von Hassel  Sonja Neudorfer  \\\n",
       "0            1.00000                0.00000          1.00000   \n",
       "1            0.00000                0.00000          0.00000   \n",
       "2            0.00000                0.00000          0.00000   \n",
       "3            0.00000                1.00000          1.00000   \n",
       "4            1.00000                0.00000          0.00000   \n",
       "\n",
       "   Alexander Allerson  Udo Kier  \n",
       "0             0.00000   0.00000  \n",
       "1             0.00000   0.00000  \n",
       "2             0.00000   0.00000  \n",
       "3             0.00000   0.00000  \n",
       "4             0.00000   0.00000  \n",
       "\n",
       "[5 rows x 65 columns]"
      ]
     },
     "execution_count": 392,
     "metadata": {},
     "output_type": "execute_result"
    }
   ],
   "source": [
    "X_test_combo"
   ]
  },
  {
   "cell_type": "code",
   "execution_count": 393,
   "metadata": {},
   "outputs": [
    {
     "data": {
      "text/plain": [
       "Index(['year', 'duration', 'budget', 'log_year', 'log_budget', 'budget_sq',\n",
       "       'cinematographer_Dietrich Lohmann', 'cinematographer_Michael Ballhaus',\n",
       "       'cinematographer_OTHER', 'documentary', 'tv_series', 'Hanna Schygulla',\n",
       "       'Kurt Raab', 'Lilo Pempeit', 'Irm Hermann', 'Margit Carstensen',\n",
       "       'Günther Kaufmann', 'Ulli Lommel', 'Ingrid Caven', 'Karl Scheydt',\n",
       "       'Volker Spengler', 'Harry Baer', 'Hark Bohm', 'Walter Sedlmayr',\n",
       "       'Gottfried John', 'Rudolf Waldemar Brem', 'Katrin Schaake',\n",
       "       'Brigitte Mira', 'Klaus Löwitsch', 'Adrian Hoven', 'El Hedi ben Salem',\n",
       "       'Peter Chatel', 'Peter Moland', 'Vitus Zeplichal', 'Doris Mattes',\n",
       "       'Y Sa Lo', 'Elga Sorbas', 'Eva Mattes', 'Peter Kern',\n",
       "       'Hans Hirschmüller', 'Marquard Bohm', 'Armin Meier', 'Wolfgang Schenck',\n",
       "       'Elma Karlowa', 'Günter Lamprecht', 'Rudolf Lenz', 'Andrea Schober',\n",
       "       'Hannes Gromball', 'Karlheinz Böhm', 'Roger Fritz', 'Ivan Desny',\n",
       "       'Elisabeth Trissenaar', 'Margarethe von Trotta', 'Eddie Constantine',\n",
       "       'Isolde Barth', 'Carla Egerer', 'Franz Maron', 'Claus Holm',\n",
       "       'Barbara Sukowa', 'Christine Kaufmann', 'Herbert Steinmetz',\n",
       "       'Karl-Heinz von Hassel', 'Sonja Neudorfer', 'Alexander Allerson',\n",
       "       'Udo Kier'],\n",
       "      dtype='object')"
      ]
     },
     "execution_count": 393,
     "metadata": {},
     "output_type": "execute_result"
    }
   ],
   "source": [
    "selected_columns = X_train_val_combo.columns\n",
    "X_train_val_combo.columns"
   ]
  },
  {
   "cell_type": "markdown",
   "metadata": {},
   "source": [
    "### Train vs. val split\n",
    "\n"
   ]
  },
  {
   "cell_type": "code",
   "execution_count": 394,
   "metadata": {},
   "outputs": [],
   "source": [
    "X_train, X_val, y_train, y_val = train_test_split(X_train_val_combo, y_train_val, test_size=.25, random_state=43) #43"
   ]
  },
  {
   "cell_type": "code",
   "execution_count": null,
   "metadata": {},
   "outputs": [],
   "source": []
  },
  {
   "cell_type": "markdown",
   "metadata": {},
   "source": [
    "### Lasso CV"
   ]
  },
  {
   "cell_type": "code",
   "execution_count": 395,
   "metadata": {},
   "outputs": [
    {
     "data": {
      "text/plain": [
       "StandardScaler()"
      ]
     },
     "execution_count": 395,
     "metadata": {},
     "output_type": "execute_result"
    }
   ],
   "source": [
    "## Scale the data as before\n",
    "std = StandardScaler()\n",
    "std.fit(X_train_val_combo.values)"
   ]
  },
  {
   "cell_type": "code",
   "execution_count": 396,
   "metadata": {},
   "outputs": [],
   "source": [
    "## Scale the Predictors on both the train and test set\n",
    "X_tr = std.transform(X_train_val_combo.values)\n",
    "X_te = std.transform(X_test_combo.values)"
   ]
  },
  {
   "cell_type": "code",
   "execution_count": 397,
   "metadata": {},
   "outputs": [
    {
     "data": {
      "text/plain": [
       "LassoCV(alphas=array([1.00000000e-02, 1.04737090e-02, 1.09698580e-02, 1.14895100e-02,\n",
       "       1.20337784e-02, 1.26038293e-02, 1.32008840e-02, 1.38262217e-02,\n",
       "       1.44811823e-02, 1.51671689e-02, 1.58856513e-02, 1.66381689e-02,\n",
       "       1.74263339e-02, 1.82518349e-02, 1.91164408e-02, 2.00220037e-02,\n",
       "       2.09704640e-02, 2.19638537e-02, 2.30043012e-02, 2.40940356e-02,\n",
       "       2.52353917e-02, 2.64308149e-0...\n",
       "       3.44896226e+01, 3.61234270e+01, 3.78346262e+01, 3.96268864e+01,\n",
       "       4.15040476e+01, 4.34701316e+01, 4.55293507e+01, 4.76861170e+01,\n",
       "       4.99450512e+01, 5.23109931e+01, 5.47890118e+01, 5.73844165e+01,\n",
       "       6.01027678e+01, 6.29498899e+01, 6.59318827e+01, 6.90551352e+01,\n",
       "       7.23263390e+01, 7.57525026e+01, 7.93409667e+01, 8.30994195e+01,\n",
       "       8.70359136e+01, 9.11588830e+01, 9.54771611e+01, 1.00000000e+02]),\n",
       "        cv=5)"
      ]
     },
     "execution_count": 397,
     "metadata": {},
     "output_type": "execute_result"
    }
   ],
   "source": [
    "# Run the cross validation, find the best alpha, refit the model on all the data with that alpha\n",
    "\n",
    "alphavec = 10**np.linspace(-2,2,200)\n",
    "\n",
    "lasso_model = LassoCV(alphas = alphavec, cv=5)\n",
    "lasso_model.fit(X_tr, y_train_val)"
   ]
  },
  {
   "cell_type": "code",
   "execution_count": 398,
   "metadata": {},
   "outputs": [
    {
     "data": {
      "text/plain": [
       "100.0"
      ]
     },
     "execution_count": 398,
     "metadata": {},
     "output_type": "execute_result"
    }
   ],
   "source": [
    "# This is the best alpha value it found \n",
    "lasso_model.alpha_"
   ]
  },
  {
   "cell_type": "code",
   "execution_count": 399,
   "metadata": {},
   "outputs": [
    {
     "data": {
      "text/plain": [
       "[('year', 0.0),\n",
       " ('duration', 0.0),\n",
       " ('budget', -0.0),\n",
       " ('log_year', 0.0),\n",
       " ('log_budget', 0.0),\n",
       " ('budget_sq', -0.0),\n",
       " ('cinematographer_Dietrich Lohmann', -0.0),\n",
       " ('cinematographer_Michael Ballhaus', 0.0),\n",
       " ('cinematographer_OTHER', 0.0),\n",
       " ('documentary', 0.0),\n",
       " ('tv_series', 0.0),\n",
       " ('Hanna Schygulla', -0.0),\n",
       " ('Kurt Raab', -0.0),\n",
       " ('Lilo Pempeit', -0.0),\n",
       " ('Irm Hermann', 0.0),\n",
       " ('Margit Carstensen', 0.0),\n",
       " ('Günther Kaufmann', -0.0),\n",
       " ('Ulli Lommel', -0.0),\n",
       " ('Ingrid Caven', -0.0),\n",
       " ('Karl Scheydt', 0.0),\n",
       " ('Volker Spengler', -0.0),\n",
       " ('Harry Baer', -0.0),\n",
       " ('Hark Bohm', 0.0),\n",
       " ('Walter Sedlmayr', 0.0),\n",
       " ('Gottfried John', 0.0),\n",
       " ('Rudolf Waldemar Brem', 0.0),\n",
       " ('Katrin Schaake', -0.0),\n",
       " ('Brigitte Mira', 0.0),\n",
       " ('Klaus Löwitsch', 0.0),\n",
       " ('Adrian Hoven', 0.0),\n",
       " ('El Hedi ben Salem', 0.0),\n",
       " ('Peter Chatel', 0.0),\n",
       " ('Peter Moland', -0.0),\n",
       " ('Vitus Zeplichal', -0.0),\n",
       " ('Doris Mattes', 0.0),\n",
       " ('Y Sa Lo', -0.0),\n",
       " ('Elga Sorbas', -0.0),\n",
       " ('Eva Mattes', 0.0),\n",
       " ('Peter Kern', 0.0),\n",
       " ('Hans Hirschmüller', 0.0),\n",
       " ('Marquard Bohm', 0.0),\n",
       " ('Armin Meier', -0.0),\n",
       " ('Wolfgang Schenck', 0.0),\n",
       " ('Elma Karlowa', 0.0),\n",
       " ('Günter Lamprecht', 0.0),\n",
       " ('Rudolf Lenz', 0.0),\n",
       " ('Andrea Schober', 0.0),\n",
       " ('Hannes Gromball', -0.0),\n",
       " ('Karlheinz Böhm', 0.0),\n",
       " ('Roger Fritz', -0.0),\n",
       " ('Ivan Desny', 0.0),\n",
       " ('Elisabeth Trissenaar', 0.0),\n",
       " ('Margarethe von Trotta', -0.0),\n",
       " ('Eddie Constantine', -0.0),\n",
       " ('Isolde Barth', 0.0),\n",
       " ('Carla Egerer', -0.0),\n",
       " ('Franz Maron', 0.0),\n",
       " ('Claus Holm', 0.0),\n",
       " ('Barbara Sukowa', 0.0),\n",
       " ('Christine Kaufmann', -0.0),\n",
       " ('Herbert Steinmetz', -0.0),\n",
       " ('Karl-Heinz von Hassel', -0.0),\n",
       " ('Sonja Neudorfer', 0.0),\n",
       " ('Alexander Allerson', -0.0),\n",
       " ('Udo Kier', -0.0)]"
      ]
     },
     "execution_count": 399,
     "metadata": {},
     "output_type": "execute_result"
    }
   ],
   "source": [
    "# These are the (standardized) coefficients found\n",
    "# when it refit using that best alpha\n",
    "coefficients = list(zip(X_train_val_combo.columns, lasso_model.coef_))\n",
    "coefficients"
   ]
  },
  {
   "cell_type": "code",
   "execution_count": 400,
   "metadata": {},
   "outputs": [],
   "source": [
    "# Make predictions on the test set using the new model\n",
    "test_set_pred = lasso_model.predict(X_te)"
   ]
  },
  {
   "cell_type": "code",
   "execution_count": 401,
   "metadata": {},
   "outputs": [
    {
     "data": {
      "text/plain": [
       "0.3549999999999997"
      ]
     },
     "execution_count": 401,
     "metadata": {},
     "output_type": "execute_result"
    }
   ],
   "source": [
    "# Find the MAE and R^2 on the test set using this model\n",
    "mean_absolute_error = mae(y_test, test_set_pred)\n",
    "mean_absolute_error"
   ]
  },
  {
   "cell_type": "code",
   "execution_count": 402,
   "metadata": {},
   "outputs": [
    {
     "data": {
      "text/plain": [
       "-0.11160714285714235"
      ]
     },
     "execution_count": 402,
     "metadata": {},
     "output_type": "execute_result"
    }
   ],
   "source": [
    "r2_score_ = r2_score(y_test, test_set_pred)\n",
    "r2_score_ "
   ]
  },
  {
   "cell_type": "code",
   "execution_count": 403,
   "metadata": {},
   "outputs": [
    {
     "data": {
      "text/plain": [
       "[<matplotlib.lines.Line2D at 0x7f96b86e95e0>]"
      ]
     },
     "execution_count": 403,
     "metadata": {},
     "output_type": "execute_result"
    },
    {
     "data": {
      "image/png": "[encoded data removed]",
      "text/plain": [
       "<Figure size 432x288 with 1 Axes>"
      ]
     },
     "metadata": {
      "needs_background": "light"
     },
     "output_type": "display_data"
    }
   ],
   "source": [
    "plt.scatter( test_set_pred, y_test)\n",
    "plt.plot( y_test, y_test, c='k')"
   ]
  },
  {
   "cell_type": "code",
   "execution_count": 404,
   "metadata": {},
   "outputs": [
    {
     "data": {
      "text/plain": [
       "<matplotlib.collections.PathCollection at 0x7f96f9bf4af0>"
      ]
     },
     "execution_count": 404,
     "metadata": {},
     "output_type": "execute_result"
    },
    {
     "data": {
      "image/png": "[encoded data removed]",
      "text/plain": [
       "<Figure size 432x288 with 1 Axes>"
      ]
     },
     "metadata": {
      "needs_background": "light"
     },
     "output_type": "display_data"
    }
   ],
   "source": [
    "residual = y_test-test_set_pred\n",
    "plt.scatter( test_set_pred, residual)"
   ]
  },
  {
   "cell_type": "code",
   "execution_count": 405,
   "metadata": {},
   "outputs": [],
   "source": [
    "pd.options.display.float_format = \"{:,.5f}\".format\n",
    "\n"
   ]
  },
  {
   "cell_type": "code",
   "execution_count": 406,
   "metadata": {},
   "outputs": [
    {
     "data": {
      "text/html": [
       "<div>\n",
       "<style scoped>\n",
       "    .dataframe tbody tr th:only-of-type {\n",
       "        vertical-align: middle;\n",
       "    }\n",
       "\n",
       "    .dataframe tbody tr th {\n",
       "        vertical-align: top;\n",
       "    }\n",
       "\n",
       "    .dataframe thead th {\n",
       "        text-align: right;\n",
       "    }\n",
       "</style>\n",
       "<table border=\"1\" class=\"dataframe\">\n",
       "  <thead>\n",
       "    <tr style=\"text-align: right;\">\n",
       "      <th></th>\n",
       "      <th>Feature</th>\n",
       "      <th>Coefficient</th>\n",
       "    </tr>\n",
       "  </thead>\n",
       "  <tbody>\n",
       "    <tr>\n",
       "      <th>0</th>\n",
       "      <td>year</td>\n",
       "      <td>0.00000</td>\n",
       "    </tr>\n",
       "    <tr>\n",
       "      <th>33</th>\n",
       "      <td>Vitus Zeplichal</td>\n",
       "      <td>-0.00000</td>\n",
       "    </tr>\n",
       "    <tr>\n",
       "      <th>35</th>\n",
       "      <td>Y Sa Lo</td>\n",
       "      <td>-0.00000</td>\n",
       "    </tr>\n",
       "    <tr>\n",
       "      <th>36</th>\n",
       "      <td>Elga Sorbas</td>\n",
       "      <td>-0.00000</td>\n",
       "    </tr>\n",
       "    <tr>\n",
       "      <th>37</th>\n",
       "      <td>Eva Mattes</td>\n",
       "      <td>0.00000</td>\n",
       "    </tr>\n",
       "    <tr>\n",
       "      <th>38</th>\n",
       "      <td>Peter Kern</td>\n",
       "      <td>0.00000</td>\n",
       "    </tr>\n",
       "    <tr>\n",
       "      <th>39</th>\n",
       "      <td>Hans Hirschmüller</td>\n",
       "      <td>0.00000</td>\n",
       "    </tr>\n",
       "    <tr>\n",
       "      <th>40</th>\n",
       "      <td>Marquard Bohm</td>\n",
       "      <td>0.00000</td>\n",
       "    </tr>\n",
       "    <tr>\n",
       "      <th>41</th>\n",
       "      <td>Armin Meier</td>\n",
       "      <td>-0.00000</td>\n",
       "    </tr>\n",
       "    <tr>\n",
       "      <th>42</th>\n",
       "      <td>Wolfgang Schenck</td>\n",
       "      <td>0.00000</td>\n",
       "    </tr>\n",
       "  </tbody>\n",
       "</table>\n",
       "</div>"
      ],
      "text/plain": [
       "              Feature  Coefficient\n",
       "0                year      0.00000\n",
       "33    Vitus Zeplichal     -0.00000\n",
       "35            Y Sa Lo     -0.00000\n",
       "36        Elga Sorbas     -0.00000\n",
       "37         Eva Mattes      0.00000\n",
       "38         Peter Kern      0.00000\n",
       "39  Hans Hirschmüller      0.00000\n",
       "40      Marquard Bohm      0.00000\n",
       "41        Armin Meier     -0.00000\n",
       "42   Wolfgang Schenck      0.00000"
      ]
     },
     "execution_count": 406,
     "metadata": {},
     "output_type": "execute_result"
    }
   ],
   "source": [
    "coefficients_df  = pd.DataFrame(coefficients, columns=['Feature', 'Coefficient'])\n",
    "coefficients_df['abs_val_of_coefficient'] = coefficients_df.Coefficient.abs()\n",
    "coefficients_df.sort_values(by='abs_val_of_coefficient', ascending=False, inplace=True)\n",
    "\n",
    "coefficients_df.drop(columns='abs_val_of_coefficient', inplace=True)\n",
    "coefficients_df.head(10)\n",
    "#print(coefficients_df.head(10))"
   ]
  },
  {
   "cell_type": "code",
   "execution_count": 407,
   "metadata": {},
   "outputs": [
    {
     "data": {
      "text/plain": [
       "{'r2_score': <function sklearn.metrics._regression.r2_score(y_true, y_pred, *, sample_weight=None, multioutput='uniform_average')>,\n",
       " 'mean absolute error': 0.3549999999999997,\n",
       " 'coefficients':               Feature  Coefficient\n",
       " 0                year      0.00000\n",
       " 33    Vitus Zeplichal     -0.00000\n",
       " 35            Y Sa Lo     -0.00000\n",
       " 36        Elga Sorbas     -0.00000\n",
       " 37         Eva Mattes      0.00000\n",
       " ..                ...          ...\n",
       " 27      Brigitte Mira      0.00000\n",
       " 28     Klaus Löwitsch      0.00000\n",
       " 29       Adrian Hoven      0.00000\n",
       " 30  El Hedi ben Salem      0.00000\n",
       " 64           Udo Kier     -0.00000\n",
       " \n",
       " [65 rows x 2 columns]}"
      ]
     },
     "execution_count": 407,
     "metadata": {},
     "output_type": "execute_result"
    }
   ],
   "source": [
    "Lasso_CV_model_w_budget = {\"r2_score\": r2_score, 'mean absolute error': mean_absolute_error, 'coefficients': coefficients_df}\n",
    "Lasso_CV_model_w_budget "
   ]
  },
  {
   "cell_type": "code",
   "execution_count": 408,
   "metadata": {},
   "outputs": [],
   "source": [
    "LCVM_w_budget_filename = 'Lasso_CV_model_w_budget_' + director\n",
    "with open(dir_str + LCVM_w_budget_filename, 'wb') as to_write:\n",
    "    pickle.dump(Lasso_CV_model_w_budget, to_write)"
   ]
  },
  {
   "cell_type": "markdown",
   "metadata": {},
   "source": [
    "### Ridge regression"
   ]
  },
  {
   "cell_type": "code",
   "execution_count": 409,
   "metadata": {},
   "outputs": [
    {
     "data": {
      "text/plain": [
       "100.0"
      ]
     },
     "execution_count": 409,
     "metadata": {},
     "output_type": "execute_result"
    }
   ],
   "source": [
    "# Run the cross validation, find the best alpha, refit the model on all the data with that alpha\n",
    "\n",
    "alphavec = 10**np.linspace(-2,2,200)\n",
    "\n",
    "ridge_model = RidgeCV(alphas = alphavec, cv=5)\n",
    "ridge_model.fit(X_tr, y_train_val)\n",
    "\n",
    "# This is the best alpha value it found \n",
    "ridge_model.alpha_"
   ]
  },
  {
   "cell_type": "code",
   "execution_count": 410,
   "metadata": {},
   "outputs": [],
   "source": [
    "# These are the (standardized) coefficients found\n",
    "# when it refit using that best alpha\n",
    "coefficients = list(zip(X_train.columns, ridge_model.coef_))\n"
   ]
  },
  {
   "cell_type": "code",
   "execution_count": 411,
   "metadata": {},
   "outputs": [],
   "source": [
    "# Make predictions on the test set using the new model\n",
    "test_set_pred = ridge_model.predict(X_te)"
   ]
  },
  {
   "cell_type": "code",
   "execution_count": 412,
   "metadata": {},
   "outputs": [
    {
     "data": {
      "text/plain": [
       "0.32791202403665826"
      ]
     },
     "execution_count": 412,
     "metadata": {},
     "output_type": "execute_result"
    }
   ],
   "source": [
    "# Find the MAE and R^2 on the test set using this model\n",
    "mean_absolute_error = mae(y_test, test_set_pred)\n",
    "mean_absolute_error"
   ]
  },
  {
   "cell_type": "code",
   "execution_count": 413,
   "metadata": {},
   "outputs": [
    {
     "data": {
      "text/plain": [
       "-0.02688663593384666"
      ]
     },
     "execution_count": 413,
     "metadata": {},
     "output_type": "execute_result"
    }
   ],
   "source": [
    "r2_score_ = r2_score(y_test, test_set_pred)\n",
    "r2_score_ "
   ]
  },
  {
   "cell_type": "code",
   "execution_count": 414,
   "metadata": {},
   "outputs": [
    {
     "data": {
      "text/plain": [
       "[<matplotlib.lines.Line2D at 0x7f96c8eb27f0>]"
      ]
     },
     "execution_count": 414,
     "metadata": {},
     "output_type": "execute_result"
    },
    {
     "data": {
      "image/png": "[encoded data removed]",
      "text/plain": [
       "<Figure size 432x288 with 1 Axes>"
      ]
     },
     "metadata": {
      "needs_background": "light"
     },
     "output_type": "display_data"
    }
   ],
   "source": [
    "\n",
    "plt.scatter( test_set_pred, y_test)\n",
    "plt.plot( y_test, y_test, c='k')"
   ]
  },
  {
   "cell_type": "code",
   "execution_count": null,
   "metadata": {},
   "outputs": [],
   "source": []
  },
  {
   "cell_type": "code",
   "execution_count": 415,
   "metadata": {},
   "outputs": [
    {
     "data": {
      "text/plain": [
       "<matplotlib.collections.PathCollection at 0x7f96d89cba60>"
      ]
     },
     "execution_count": 415,
     "metadata": {},
     "output_type": "execute_result"
    },
    {
     "data": {
      "image/png": "[encoded data removed]",
      "text/plain": [
       "<Figure size 432x288 with 1 Axes>"
      ]
     },
     "metadata": {
      "needs_background": "light"
     },
     "output_type": "display_data"
    }
   ],
   "source": [
    "residual = y_test-test_set_pred\n",
    "plt.scatter( test_set_pred, residual)"
   ]
  },
  {
   "cell_type": "code",
   "execution_count": null,
   "metadata": {},
   "outputs": [],
   "source": []
  },
  {
   "cell_type": "code",
   "execution_count": 416,
   "metadata": {},
   "outputs": [
    {
     "data": {
      "text/html": [
       "<div>\n",
       "<style scoped>\n",
       "    .dataframe tbody tr th:only-of-type {\n",
       "        vertical-align: middle;\n",
       "    }\n",
       "\n",
       "    .dataframe tbody tr th {\n",
       "        vertical-align: top;\n",
       "    }\n",
       "\n",
       "    .dataframe thead th {\n",
       "        text-align: right;\n",
       "    }\n",
       "</style>\n",
       "<table border=\"1\" class=\"dataframe\">\n",
       "  <thead>\n",
       "    <tr style=\"text-align: right;\">\n",
       "      <th></th>\n",
       "      <th>Feature</th>\n",
       "      <th>Coefficient</th>\n",
       "    </tr>\n",
       "  </thead>\n",
       "  <tbody>\n",
       "    <tr>\n",
       "      <th>1</th>\n",
       "      <td>duration</td>\n",
       "      <td>0.02913</td>\n",
       "    </tr>\n",
       "    <tr>\n",
       "      <th>17</th>\n",
       "      <td>Ulli Lommel</td>\n",
       "      <td>-0.02900</td>\n",
       "    </tr>\n",
       "    <tr>\n",
       "      <th>14</th>\n",
       "      <td>Irm Hermann</td>\n",
       "      <td>0.02865</td>\n",
       "    </tr>\n",
       "    <tr>\n",
       "      <th>23</th>\n",
       "      <td>Walter Sedlmayr</td>\n",
       "      <td>0.02575</td>\n",
       "    </tr>\n",
       "    <tr>\n",
       "      <th>30</th>\n",
       "      <td>El Hedi ben Salem</td>\n",
       "      <td>0.02240</td>\n",
       "    </tr>\n",
       "    <tr>\n",
       "      <th>24</th>\n",
       "      <td>Gottfried John</td>\n",
       "      <td>0.02185</td>\n",
       "    </tr>\n",
       "    <tr>\n",
       "      <th>52</th>\n",
       "      <td>Margarethe von Trotta</td>\n",
       "      <td>-0.02137</td>\n",
       "    </tr>\n",
       "    <tr>\n",
       "      <th>32</th>\n",
       "      <td>Peter Moland</td>\n",
       "      <td>-0.01919</td>\n",
       "    </tr>\n",
       "    <tr>\n",
       "      <th>41</th>\n",
       "      <td>Armin Meier</td>\n",
       "      <td>-0.01855</td>\n",
       "    </tr>\n",
       "    <tr>\n",
       "      <th>25</th>\n",
       "      <td>Rudolf Waldemar Brem</td>\n",
       "      <td>0.01794</td>\n",
       "    </tr>\n",
       "  </tbody>\n",
       "</table>\n",
       "</div>"
      ],
      "text/plain": [
       "                  Feature  Coefficient\n",
       "1                duration      0.02913\n",
       "17            Ulli Lommel     -0.02900\n",
       "14            Irm Hermann      0.02865\n",
       "23        Walter Sedlmayr      0.02575\n",
       "30      El Hedi ben Salem      0.02240\n",
       "24         Gottfried John      0.02185\n",
       "52  Margarethe von Trotta     -0.02137\n",
       "32           Peter Moland     -0.01919\n",
       "41            Armin Meier     -0.01855\n",
       "25   Rudolf Waldemar Brem      0.01794"
      ]
     },
     "execution_count": 416,
     "metadata": {},
     "output_type": "execute_result"
    }
   ],
   "source": [
    "coefficients_df  = pd.DataFrame(coefficients, columns=['Feature', 'Coefficient'])\n",
    "coefficients_df['abs_val_of_coefficient'] = coefficients_df.Coefficient.abs()\n",
    "coefficients_df.sort_values(by='abs_val_of_coefficient', ascending=False, inplace=True)\n",
    "\n",
    "coefficients_df.drop(columns='abs_val_of_coefficient', inplace=True)\n",
    "coefficients_df.head(10)"
   ]
  },
  {
   "cell_type": "code",
   "execution_count": 417,
   "metadata": {},
   "outputs": [
    {
     "data": {
      "text/plain": [
       "{'r2_score': <function sklearn.metrics._regression.r2_score(y_true, y_pred, *, sample_weight=None, multioutput='uniform_average')>,\n",
       " 'mean absolute error': 0.32791202403665826,\n",
       " 'coefficients':               Feature  Coefficient\n",
       " 1            duration      0.02913\n",
       " 17        Ulli Lommel     -0.02900\n",
       " 14        Irm Hermann      0.02865\n",
       " 23    Walter Sedlmayr      0.02575\n",
       " 30  El Hedi ben Salem      0.02240\n",
       " ..                ...          ...\n",
       " 37         Eva Mattes      0.00092\n",
       " 12          Kurt Raab     -0.00069\n",
       " 9         documentary      0.00000\n",
       " 56        Franz Maron      0.00000\n",
       " 58     Barbara Sukowa      0.00000\n",
       " \n",
       " [65 rows x 2 columns]}"
      ]
     },
     "execution_count": 417,
     "metadata": {},
     "output_type": "execute_result"
    }
   ],
   "source": [
    "Ridge_CV_model_w_budget = {\"r2_score\": r2_score, 'mean absolute error': mean_absolute_error, 'coefficients': coefficients_df}\n",
    "Ridge_CV_model_w_budget "
   ]
  },
  {
   "cell_type": "code",
   "execution_count": 418,
   "metadata": {},
   "outputs": [],
   "source": [
    "RCVM_w_budget_filename = 'Ridge_CV_model_w_budget_' + director\n",
    "with open(dir_str + RCVM_w_budget_filename, 'wb') as to_write:\n",
    "    pickle.dump(Ridge_CV_model_w_budget, to_write)"
   ]
  },
  {
   "cell_type": "code",
   "execution_count": null,
   "metadata": {},
   "outputs": [],
   "source": []
  },
  {
   "cell_type": "code",
   "execution_count": null,
   "metadata": {},
   "outputs": [],
   "source": []
  },
  {
   "cell_type": "markdown",
   "metadata": {},
   "source": []
  },
  {
   "cell_type": "code",
   "execution_count": null,
   "metadata": {},
   "outputs": [],
   "source": []
  },
  {
   "cell_type": "code",
   "execution_count": null,
   "metadata": {},
   "outputs": [],
   "source": []
  },
  {
   "cell_type": "code",
   "execution_count": null,
   "metadata": {},
   "outputs": [],
   "source": []
  },
  {
   "cell_type": "code",
   "execution_count": null,
   "metadata": {},
   "outputs": [],
   "source": []
  },
  {
   "cell_type": "code",
   "execution_count": null,
   "metadata": {},
   "outputs": [],
   "source": []
  },
  {
   "cell_type": "code",
   "execution_count": null,
   "metadata": {},
   "outputs": [],
   "source": []
  },
  {
   "cell_type": "code",
   "execution_count": null,
   "metadata": {},
   "outputs": [],
   "source": []
  },
  {
   "cell_type": "code",
   "execution_count": null,
   "metadata": {},
   "outputs": [],
   "source": []
  },
  {
   "cell_type": "code",
   "execution_count": null,
   "metadata": {},
   "outputs": [],
   "source": []
  },
  {
   "cell_type": "raw",
   "metadata": {},
   "source": [
    "#X_train, X_test, y_train, y_test = train_test_split(X, y)"
   ]
  },
  {
   "cell_type": "raw",
   "metadata": {},
   "source": [
    "### Preprocessing"
   ]
  },
  {
   "cell_type": "raw",
   "metadata": {},
   "source": [
    "#### Categorical Variable Preprocessing"
   ]
  },
  {
   "cell_type": "raw",
   "metadata": {},
   "source": []
  },
  {
   "cell_type": "raw",
   "metadata": {},
   "source": []
  },
  {
   "cell_type": "raw",
   "metadata": {},
   "source": []
  },
  {
   "cell_type": "raw",
   "metadata": {},
   "source": [
    "### Continous Variable Preprocessing"
   ]
  },
  {
   "cell_type": "raw",
   "metadata": {},
   "source": [
    "#### Select continuous variables from training set"
   ]
  },
  {
   "cell_type": "raw",
   "metadata": {},
   "source": [
    "\n"
   ]
  },
  {
   "cell_type": "raw",
   "metadata": {},
   "source": [
    "####  scale the continuous variables in the train set"
   ]
  },
  {
   "cell_type": "raw",
   "metadata": {},
   "source": [
    "from sklearn.preprocessing import StandardScaler\n",
    "\n",
    "ss = StandardScaler()\n",
    "\n",
    "ss.fit(X_train_cont)\n",
    "X_train_scaled = ss.transform(X_train_cont)\n",
    "\n",
    "cont_columns = X_train_cont.columns\n",
    "X_train_scaled_df = pd.DataFrame(X_train_scaled, columns=cont_columns, index=X_train_cont.index)\n",
    "\n",
    "X_train_scaled_df.head()\n"
   ]
  },
  {
   "cell_type": "raw",
   "metadata": {},
   "source": [
    "#### select and scale the continuous variables in the test set"
   ]
  },
  {
   "cell_type": "raw",
   "metadata": {},
   "source": [
    "X_test_cont = X_test[['year', 'duration', 'rating_count']]\n",
    "X_test_cont.head()"
   ]
  },
  {
   "cell_type": "raw",
   "metadata": {},
   "source": [
    "X_test_scaled = ss.transform(X_test_cont)\n",
    "\n",
    "cont_columns = X_test_cont.columns\n",
    "X_test_scaled_df = pd.DataFrame(X_test_scaled, columns=cont_columns, index=X_test_cont.index)\n",
    "\n",
    "X_test_scaled_df.head()"
   ]
  },
  {
   "cell_type": "raw",
   "metadata": {},
   "source": [
    "### Combine the continuous, categorical, and ohe cat features for our testing set\n"
   ]
  },
  {
   "cell_type": "raw",
   "metadata": {},
   "source": [
    "cat_columns = ['documentary', 'tv_series', *prevalent_actor_columns]\n",
    "X_train_cat_df = X_train[cat_columns]\n"
   ]
  },
  {
   "cell_type": "raw",
   "metadata": {},
   "source": [
    "X_train_combined = pd.concat([X_train_scaled_df, X_train_cat_ohe_df, X_train_cat_df, ], axis='columns')\n",
    "\n",
    "X_train_combined.head(10)"
   ]
  },
  {
   "cell_type": "raw",
   "metadata": {},
   "source": [
    "X_train.shape"
   ]
  },
  {
   "cell_type": "raw",
   "metadata": {},
   "source": [
    "### Combine the continuous and categorical features for our testing set\n"
   ]
  },
  {
   "cell_type": "raw",
   "metadata": {},
   "source": [
    "X_test_cat_df = X_test[cat_columns]"
   ]
  },
  {
   "cell_type": "raw",
   "metadata": {},
   "source": [
    "X_test_scaled_df.shape[0] == X_test_cat_df.shape[0] == X_test_cat_ohe_df.shape[0]\n"
   ]
  },
  {
   "cell_type": "raw",
   "metadata": {},
   "source": [
    "X_test_combined = pd.concat([X_test_scaled_df.reset_index(drop=True), X_test_cat_ohe_df.reset_index(drop=True), X_test_cat_df.reset_index(drop=True) ], axis=1)\n",
    "#X_test_combined = pd.concat([X_test_scaled_df, X_test_cat_ohe_df, X_test_cat_df ], axis=1)\n",
    "\n",
    "X_test_combined"
   ]
  },
  {
   "cell_type": "raw",
   "metadata": {},
   "source": [
    "### Now make predictions by instantiating the Linear Regression Model "
   ]
  },
  {
   "cell_type": "raw",
   "metadata": {},
   "source": [
    "lr = LinearRegression()\n",
    "\n",
    "lr.fit(X_train_combined, y_train)"
   ]
  },
  {
   "cell_type": "raw",
   "metadata": {},
   "source": [
    "lr.coef_"
   ]
  },
  {
   "cell_type": "raw",
   "metadata": {},
   "source": [
    "y_pred = lr.predict(X_test_combined)\n",
    "\n",
    "y_pred"
   ]
  },
  {
   "cell_type": "raw",
   "metadata": {},
   "source": [
    "from sklearn.metrics import mean_squared_error, r2_score\n",
    "\n",
    "rmse = np.sqrt(mean_squared_error(y_test, y_pred))\n",
    "\n",
    "r2 = r2_score(y_test, y_pred)\n",
    "\n",
    "print(f'RMSE: {rmse:.2f}\\nr2: {r2:.2f}')"
   ]
  },
  {
   "cell_type": "raw",
   "metadata": {},
   "source": [
    "print(r2)"
   ]
  },
  {
   "cell_type": "raw",
   "metadata": {},
   "source": [
    "score = lr.score(X_test_combined, y_test) \n",
    "score"
   ]
  },
  {
   "cell_type": "raw",
   "metadata": {},
   "source": [
    "# Focus on building up from fewer features\n",
    "for instance the continous ones"
   ]
  },
  {
   "cell_type": "raw",
   "metadata": {},
   "source": [
    "### Train Test Split"
   ]
  },
  {
   "cell_type": "raw",
   "metadata": {},
   "source": [
    "films_and_features_to_analyze_df.columns # review columns we start with"
   ]
  },
  {
   "cell_type": "raw",
   "metadata": {},
   "source": [
    "selected_cols = ['year', 'duration', 'rating_count']"
   ]
  },
  {
   "cell_type": "raw",
   "metadata": {},
   "source": [
    "X= films_and_features_to_analyze_df[selected_cols]\n",
    "y= films_and_features_to_analyze_df['rating']"
   ]
  },
  {
   "cell_type": "raw",
   "metadata": {},
   "source": [
    "X_train, X_test, y_train, y_test = train_test_split(X, y)"
   ]
  },
  {
   "cell_type": "raw",
   "metadata": {},
   "source": [
    "### Preprocessing"
   ]
  },
  {
   "cell_type": "raw",
   "metadata": {},
   "source": [
    "## For now, ignore these categorical variables"
   ]
  },
  {
   "cell_type": "raw",
   "metadata": {},
   "source": [
    "#### Categorical Variable Preprocessing"
   ]
  },
  {
   "cell_type": "raw",
   "metadata": {},
   "source": [
    "cat_ohe_vars = ['cinematographer']\n",
    "X_train_cat_ohe = X_train[cat_ohe_vars]\n",
    "#X_train_cat_ohe "
   ]
  },
  {
   "cell_type": "raw",
   "metadata": {},
   "source": [
    "#### OneHotEncoding"
   ]
  },
  {
   "cell_type": "raw",
   "metadata": {},
   "source": [
    "#ohe = OneHotEncoder(sparse=False, drop='first')\n",
    "ohe = OneHotEncoder(sparse=False,  handle_unknown='ignore')\n",
    "ohe.fit(X_train_cat_ohe)\n",
    "cats_ohe = ohe.transform(X_train_cat_ohe)\n"
   ]
  },
  {
   "cell_type": "raw",
   "metadata": {},
   "source": [
    "columns=ohe.get_feature_names(cat_vars_ohe)\n",
    "\n",
    "columns"
   ]
  },
  {
   "cell_type": "raw",
   "metadata": {},
   "source": [
    "X_train_cat_ohe_df = pd.DataFrame(cats_ohe, columns=columns, index=X_train_cat_ohe.index)\n",
    "X_train_cat_ohe_df.head()"
   ]
  },
  {
   "cell_type": "raw",
   "metadata": {},
   "source": [
    "#### Repeating transformations on testing set"
   ]
  },
  {
   "cell_type": "raw",
   "metadata": {},
   "source": [
    "X_test_cat_ohe = X_test[['cinematographer']]\n",
    "X_test_cat_ohe\n",
    "cats_ohe_test = ohe.transform(X_test_cat_ohe)\n",
    "\n",
    "cat_ohe_columns = ohe.get_feature_names(['cinematographer'])\n",
    "X_test_cat_ohe_df = pd.DataFrame(cats_ohe_test, columns=cat_ohe_columns)"
   ]
  },
  {
   "cell_type": "raw",
   "metadata": {},
   "source": [
    "### Continous Variable Preprocessing"
   ]
  },
  {
   "cell_type": "raw",
   "metadata": {},
   "source": [
    "#### Select continuous variables from training set"
   ]
  },
  {
   "cell_type": "raw",
   "metadata": {},
   "source": [
    "X_train_cont = X_train[['year', 'duration', 'rating_count']]\n",
    "X_train_cont.head()\n",
    "\n"
   ]
  },
  {
   "cell_type": "raw",
   "metadata": {},
   "source": [
    "####  scale the continuous variables in the train set"
   ]
  },
  {
   "cell_type": "raw",
   "metadata": {},
   "source": [
    "from sklearn.preprocessing import StandardScaler\n",
    "\n",
    "ss = StandardScaler()\n",
    "\n",
    "ss.fit(X_train_cont)\n",
    "X_train_scaled = ss.transform(X_train_cont)\n",
    "\n",
    "cont_columns = X_train_cont.columns\n",
    "X_train_scaled_df = pd.DataFrame(X_train_scaled, columns=cont_columns, index=X_train_cont.index)\n",
    "\n",
    "X_train_scaled_df.head()\n"
   ]
  },
  {
   "cell_type": "raw",
   "metadata": {},
   "source": [
    "#### select and scale the continuous variables in the test set"
   ]
  },
  {
   "cell_type": "raw",
   "metadata": {},
   "source": [
    "X_test_cont = X_test[['year', 'duration', 'rating_count']]\n",
    "X_test_cont.head()"
   ]
  },
  {
   "cell_type": "raw",
   "metadata": {},
   "source": [
    "X_test_scaled = ss.transform(X_test_cont)\n",
    "\n",
    "cont_columns = X_test_cont.columns\n",
    "X_test_scaled_df = pd.DataFrame(X_test_scaled, columns=cont_columns, index=X_test_cont.index)\n",
    "\n",
    "X_test_scaled_df.head()"
   ]
  },
  {
   "cell_type": "raw",
   "metadata": {},
   "source": [
    "### Combine the continuous, categorical, and ohe cat features for our testing set\n"
   ]
  },
  {
   "cell_type": "raw",
   "metadata": {},
   "source": [
    "## for now, ignore these categorical variables"
   ]
  },
  {
   "cell_type": "raw",
   "metadata": {},
   "source": []
  },
  {
   "cell_type": "raw",
   "metadata": {},
   "source": [
    "cat_columns = ['documentary', 'tv_series', *selected_actor_columns]\n",
    "X_train_cat_df = X_train[cat_columns]\n"
   ]
  },
  {
   "cell_type": "raw",
   "metadata": {},
   "source": []
  },
  {
   "cell_type": "raw",
   "metadata": {},
   "source": [
    "## 'combine' will really just be the continuous variables"
   ]
  },
  {
   "cell_type": "raw",
   "metadata": {},
   "source": [
    "X_train_combined = pd.concat([X_train_scaled_df.reset_index(drop=True)], axis='columns')\n",
    "\n",
    "X_train_combined.head()"
   ]
  },
  {
   "cell_type": "raw",
   "metadata": {},
   "source": [
    "X_train_combined.shape"
   ]
  },
  {
   "cell_type": "raw",
   "metadata": {},
   "source": [
    "### Combine the continuous and categorical features for our testing set\n"
   ]
  },
  {
   "cell_type": "raw",
   "metadata": {},
   "source": [
    "X_test_cat_df = X_test[cat_columns]"
   ]
  },
  {
   "cell_type": "raw",
   "metadata": {},
   "source": [
    "X_test_scaled_df.shape[0] == X_test_cat_df.shape[0] == X_test_cat_ohe_df.shape[0]\n"
   ]
  },
  {
   "cell_type": "raw",
   "metadata": {},
   "source": [
    "#X_test_combined = pd.concat([X_test_scaled_df.reset_index(drop=True), X_test_cat_ohe_df.reset_index(drop=True), X_test_cat_df.reset_index(drop=True) ], axis=1)\n",
    "X_test_combined = pd.concat([X_test_scaled_df.reset_index(drop=True) ], axis=1)\n",
    "\n",
    "X_test_combined"
   ]
  },
  {
   "cell_type": "raw",
   "metadata": {},
   "source": [
    "### Now make predictions by instantiating the Linear Regression Model "
   ]
  },
  {
   "cell_type": "raw",
   "metadata": {},
   "source": [
    "#X_train_combined"
   ]
  },
  {
   "cell_type": "raw",
   "metadata": {},
   "source": [
    "lr = LinearRegression()\n",
    "\n",
    "lr.fit(X_train_combined,y_train)"
   ]
  },
  {
   "cell_type": "raw",
   "metadata": {},
   "source": [
    "lr.coef_"
   ]
  },
  {
   "cell_type": "raw",
   "metadata": {},
   "source": [
    "\n",
    "y_pred = lr.predict(X_test_combined)\n",
    "\n",
    "y_pred"
   ]
  },
  {
   "cell_type": "raw",
   "metadata": {},
   "source": [
    "from sklearn.metrics import mean_squared_error, r2_score\n",
    "\n",
    "rmse = np.sqrt(mean_squared_error(y_test, y_pred))\n",
    "\n",
    "r2 = r2_score(y_test, y_pred)\n",
    "\n",
    "print(f'RMSE: {rmse:.2f}\\nr2: {r2:.2f}')"
   ]
  },
  {
   "cell_type": "raw",
   "metadata": {},
   "source": [
    "score = lr.score(X_test_combined, y_test) \n",
    "score"
   ]
  },
  {
   "cell_type": "raw",
   "metadata": {},
   "source": []
  },
  {
   "cell_type": "raw",
   "metadata": {},
   "source": [
    "## Try to fit with just the year"
   ]
  },
  {
   "cell_type": "raw",
   "metadata": {},
   "source": [
    "lr = LinearRegression()"
   ]
  },
  {
   "cell_type": "raw",
   "metadata": {},
   "source": []
  },
  {
   "cell_type": "raw",
   "metadata": {},
   "source": [
    "X_train_year_only = X_train_combined.iloc[:, :1]"
   ]
  },
  {
   "cell_type": "raw",
   "metadata": {},
   "source": [
    "X_test_year_only = X_test_combined.iloc[:, :1]"
   ]
  },
  {
   "cell_type": "raw",
   "metadata": {},
   "source": [
    "#X_train_year_only "
   ]
  },
  {
   "cell_type": "raw",
   "metadata": {},
   "source": [
    "lr.fit(X_train_year_only, y_train)"
   ]
  },
  {
   "cell_type": "raw",
   "metadata": {},
   "source": [
    "lr.coef_"
   ]
  },
  {
   "cell_type": "raw",
   "metadata": {},
   "source": [
    "y_pred = lr.predict(X_test_year_only)\n",
    "\n",
    "y_pred"
   ]
  },
  {
   "cell_type": "raw",
   "metadata": {},
   "source": [
    "y_test"
   ]
  },
  {
   "cell_type": "raw",
   "metadata": {},
   "source": [
    "#y_test"
   ]
  },
  {
   "cell_type": "raw",
   "metadata": {},
   "source": [
    "from sklearn.metrics import mean_squared_error, r2_score\n",
    "\n",
    "rmse = np.sqrt(mean_squared_error(y_test, y_pred))"
   ]
  },
  {
   "cell_type": "raw",
   "metadata": {},
   "source": []
  },
  {
   "cell_type": "raw",
   "metadata": {},
   "source": [
    "r2 = r2_score(y_test, y_pred)\n",
    "\n",
    "print(f'RMSE: {rmse:.2f}\\nr2: {r2:.2f}')"
   ]
  },
  {
   "cell_type": "raw",
   "metadata": {},
   "source": []
  },
  {
   "cell_type": "raw",
   "metadata": {},
   "source": [
    "## Try to fit with just the `year` and `duration`\n"
   ]
  },
  {
   "cell_type": "raw",
   "metadata": {},
   "source": [
    "lr = LinearRegression()\n",
    "\n",
    "X_train_year_dur_only = X_train_combined.iloc[:, :2]\n",
    "\n",
    "X_test_year_dur_only = X_test_combined.iloc[:, :2]\n",
    "\n",
    "#X_train_year_only \n",
    "\n",
    "lr.fit(X_train_year_dur_only, y_train)\n",
    "\n",
    "lr.coef_\n",
    "\n",
    "y_pred = lr.predict(X_test_year_dur_only)\n",
    "\n",
    "y_pred\n",
    "\n",
    "y_test\n",
    "\n",
    "#y_test\n",
    "\n",
    "from sklearn.metrics import mean_squared_error, r2_score\n",
    "\n",
    "rmse = np.sqrt(mean_squared_error(y_test, y_pred))\n",
    "\n",
    "\n",
    "\n",
    "r2 = r2_score(y_test, y_pred)\n",
    "\n",
    "print(f'RMSE: {rmse:.2f}\\nr2: {r2:.2f}')"
   ]
  },
  {
   "cell_type": "raw",
   "metadata": {},
   "source": [
    "## Try to fit with just the `year` and `rating_count`"
   ]
  },
  {
   "cell_type": "raw",
   "metadata": {},
   "source": [
    "X_train_combined[['year', 'rating_count']]"
   ]
  },
  {
   "cell_type": "raw",
   "metadata": {},
   "source": [
    "lr = LinearRegression()\n",
    "\n",
    "X_train_year_rc_only = X_train_combined[['year', 'rating_count']]\n",
    "\n",
    "X_test_year_rc_only = X_test_combined[['year', 'rating_count']]\n",
    "\n",
    "\n",
    "\n",
    "lr.fit(X_train_year_rc_only, y_train)\n",
    "\n",
    "lr.coef_\n",
    "\n",
    "y_pred = lr.predict(X_test_year_rc_only)\n",
    "\n",
    "y_pred\n",
    "\n",
    "y_test\n",
    "\n",
    "\n",
    "from sklearn.metrics import mean_squared_error, r2_score\n",
    "\n",
    "rmse = np.sqrt(mean_squared_error(y_test, y_pred))\n",
    "\n",
    "\n",
    "\n",
    "r2 = r2_score(y_test, y_pred)\n",
    "\n",
    "print(f'RMSE: {rmse:.2f}\\nr2: {r2:.2f}')"
   ]
  },
  {
   "cell_type": "raw",
   "metadata": {},
   "source": [
    "## Feature engineer:  log(`year`) and and log(`rating_count`)"
   ]
  },
  {
   "cell_type": "raw",
   "metadata": {},
   "source": [
    "####  scale the continuous variables in the train set"
   ]
  },
  {
   "cell_type": "raw",
   "metadata": {},
   "source": [
    "X_train_cont_w_log = copy.deepcopy(X_train_cont) \n",
    "X_test_cont_w_log = copy.deepcopy(X_test_cont) \n",
    "\n",
    "X_train_cont_w_log['log_year'] = np.log(X_train_cont_w_log.year)\n",
    "X_test_cont_w_log['log_year'] = np.log(X_test_cont_w_log.year)\n",
    "\n",
    "X_train_cont_w_log['log_rating_count'] = np.log(X_train_cont_w_log.rating_count)\n",
    "X_test_cont_w_log['log_rating_count'] = np.log(X_test_cont_w_log.rating_count)"
   ]
  },
  {
   "cell_type": "raw",
   "metadata": {},
   "source": [
    "from sklearn.preprocessing import StandardScaler\n",
    "\n",
    "ss = StandardScaler()\n",
    "\n",
    "ss.fit(X_train_cont_w_log)\n",
    "X_train_scaled = ss.transform(X_train_cont_w_log)\n",
    "\n",
    "cont_columns = X_train_cont_w_log.columns\n",
    "#X_train_scaled_df = pd.DataFrame(X_train_scaled, columns=cont_columns, index=X_train_cont.index)\n",
    "X_train_scaled_df = pd.DataFrame(X_train_scaled, columns=cont_columns, index=X_train_cont_w_log.index)\n",
    "\n",
    "X_train_scaled_df.head()"
   ]
  },
  {
   "cell_type": "raw",
   "metadata": {},
   "source": [
    "X_test_scaled = ss.transform(X_test_cont_w_log)\n",
    "\n",
    "cont_columns = X_test_cont_w_log.columns\n",
    "X_test_scaled_df = pd.DataFrame(X_test_scaled, columns=cont_columns, index=X_test_cont_w_log.index)\n",
    "#X_test_scaled_df = pd.DataFrame(X_test_scaled, columns=cont_columns, index=X_test_cont.index)\n",
    "\n",
    "X_test_scaled_df.head()"
   ]
  },
  {
   "cell_type": "raw",
   "metadata": {},
   "source": [
    "lr = LinearRegression()\n",
    "\n",
    "lr.fit(X_train_scaled_df, y_train)\n",
    "\n",
    "lr.coef_\n",
    "\n",
    "y_pred = lr.predict(X_test_scaled_df)\n",
    "\n",
    "y_pred\n",
    "\n",
    "y_test\n",
    "\n",
    "\n",
    "from sklearn.metrics import mean_squared_error, r2_score\n",
    "\n",
    "rmse = np.sqrt(mean_squared_error(y_test, y_pred))\n",
    "\n",
    "\n",
    "\n",
    "r2 = r2_score(y_test, y_pred)\n",
    "\n",
    "print(f'RMSE: {rmse:.2f}\\nr2: {r2:.2f}')"
   ]
  },
  {
   "cell_type": "raw",
   "metadata": {},
   "source": [
    "lr.coef_"
   ]
  },
  {
   "cell_type": "raw",
   "metadata": {},
   "source": [
    "year_min = float(films_and_features_to_analyze_df[['year']].min())\n",
    "year_min"
   ]
  },
  {
   "cell_type": "raw",
   "metadata": {},
   "source": [
    "year_max = float(films_and_features_to_analyze_df[['year']].max())"
   ]
  },
  {
   "cell_type": "raw",
   "metadata": {
    "scrolled": true
   },
   "source": [
    "plot_df = films_and_features_to_analyze_df[['year', 'rating']]\n",
    "sns.set(font_scale=1.6)\n",
    "sns.set_style(\"white\")\n",
    "g=sns.lmplot(x='year', y='rating', data=plot_df, \n",
    "           fit_reg=True, aspect=1);\n",
    "g.set(ylim=(4.5, 9))\n",
    "g.set(xlim=(year_min, year_min+(year_max-year_min)))\n",
    "g.fig.set_figwidth(4)\n",
    "g.fig.set_figheight(4)"
   ]
  },
  {
   "cell_type": "raw",
   "metadata": {
    "scrolled": true
   },
   "source": [
    "plot_df = films_and_features_to_analyze_df[['rating_count', 'rating']]\n",
    "g=sns.lmplot(x='rating_count', y='rating', data=plot_df, \n",
    "           lowess=True,);\n",
    "g.set(ylim=(4.5, 9))\n",
    "g.set(xlim=(0, 600000))"
   ]
  },
  {
   "cell_type": "raw",
   "metadata": {
    "scrolled": true
   },
   "source": [
    "g=sns.lmplot(x='rating_count', y='rating', data=plot_df,\n",
    "           logx=True,);\n",
    "g.set(ylim=(4.5, 9))\n",
    "g.set(xlim=(0, 600000))"
   ]
  },
  {
   "cell_type": "raw",
   "metadata": {},
   "source": []
  },
  {
   "cell_type": "raw",
   "metadata": {},
   "source": []
  },
  {
   "cell_type": "raw",
   "metadata": {},
   "source": []
  },
  {
   "cell_type": "raw",
   "metadata": {},
   "source": []
  },
  {
   "cell_type": "raw",
   "metadata": {},
   "source": []
  },
  {
   "cell_type": "raw",
   "metadata": {
    "scrolled": true
   },
   "source": [
    "plt.ylabel(\"rating\")\n",
    "plt.scatter(X_test_cont_w_log['year'], y_test,  color='black')\n",
    "plt.xlabel('years')\n",
    "plt.show()\n",
    "#plt.plot(X_test_cont_w_log['year'], y_pred, color='blue', linewidth=3)\n",
    "plt.scatter(X_test_cont_w_log['rating_count'], y_test,  color='black')\n",
    "plt.xlabel('number of ratings')\n",
    "plt.show()"
   ]
  },
  {
   "cell_type": "raw",
   "metadata": {},
   "source": []
  },
  {
   "cell_type": "raw",
   "metadata": {},
   "source": []
  },
  {
   "cell_type": "raw",
   "metadata": {},
   "source": []
  },
  {
   "cell_type": "raw",
   "metadata": {},
   "source": []
  },
  {
   "cell_type": "raw",
   "metadata": {},
   "source": []
  },
  {
   "cell_type": "raw",
   "metadata": {},
   "source": []
  },
  {
   "cell_type": "raw",
   "metadata": {},
   "source": []
  },
  {
   "cell_type": "raw",
   "metadata": {},
   "source": []
  },
  {
   "cell_type": "raw",
   "metadata": {},
   "source": []
  },
  {
   "cell_type": "raw",
   "metadata": {},
   "source": []
  },
  {
   "cell_type": "raw",
   "metadata": {},
   "source": [
    "### Fit to `log_rating_count` and maybe `year`\n"
   ]
  },
  {
   "cell_type": "raw",
   "metadata": {},
   "source": [
    "lr = LinearRegression()\n",
    "\n",
    "X_train_logs_only = X_train_scaled_df[['year','log_rating_count']]\n",
    "\n",
    "X_test_logs_only = X_test_scaled_df[['year','log_rating_count']]\n",
    "\n",
    "\n",
    "\n",
    "lr.fit(X_train_logs_only, y_train)\n",
    "\n",
    "lr.coef_\n",
    "\n",
    "y_pred = lr.predict(X_test_logs_only)\n",
    "\n",
    "y_pred\n",
    "\n",
    "y_test\n",
    "\n",
    "\n",
    "from sklearn.metrics import mean_squared_error, r2_score\n",
    "\n",
    "rmse = np.sqrt(mean_squared_error(y_test, y_pred))\n",
    "\n",
    "\n",
    "\n",
    "r2 = r2_score(y_test, y_pred)\n",
    "\n",
    "print(f'RMSE: {rmse:.2f}\\nr2: {r2:.2f}')"
   ]
  },
  {
   "cell_type": "raw",
   "metadata": {},
   "source": [
    "films_and_features_to_analyze_df.shape"
   ]
  },
  {
   "cell_type": "raw",
   "metadata": {},
   "source": [
    "## Attempt LassoCV"
   ]
  },
  {
   "cell_type": "raw",
   "metadata": {},
   "source": [
    "#X_cols = [*films_and_features_to_analyze_df.columns[1:3],*films_and_features_to_analyze_df.columns[4:6], *films_and_features_to_analyze_df.columns[7:], ]\n",
    "#X_cols = [*films_and_features_to_analyze_df.columns[1:3],*films_and_features_to_analyze_df.columns[4:6], *films_and_features_to_analyze_df.columns[7:], ]\n",
    "X_cols = ['year', 'duration', 'rating_count']\n",
    "\n",
    "#films_and_features_to_analyze_df_copy = copy.deepcopy(films_and_features_to_analyze_df) \n",
    "\n",
    "X= films_and_features_to_analyze_df[X_cols]\n",
    "y= films_and_features_to_analyze_df['rating']\n",
    "\n",
    "#selected_cols =cont_columns\n",
    "\n",
    "X['log_year'] = np.log(X.year)\n",
    "X['log_rating_count'] = np.log(X.rating_count)\n",
    "\n",
    "# X_test_cont_w_log = copy.deepcopy(X_test_cont) \n",
    "\n",
    "# X_train_cont_w_log['log_year'] = np.log(X_train_cont_w_log.year)\n",
    "# X_test_cont_w_log['log_year'] = np.log(X_test_cont_w_log.year)\n",
    "\n",
    "# X_train_cont_w_log['log_rating_count'] = np.log(X_train_cont_w_log.rating_count)\n",
    "# X_test_cont_w_log['log_rating_count'] = np.log(X_test_cont_w_log.rating_count)\n",
    "\n",
    "# X= films_and_features_to_analyze_df[X_cols]\n",
    "# y= films_and_features_to_analyze_df['rating']"
   ]
  },
  {
   "cell_type": "raw",
   "metadata": {},
   "source": [
    "X_, X_test, y_, y_test = train_test_split(X, y, test_size=.2, random_state=12) #10\n",
    "X_train, X_val, y_train, y_val = train_test_split(X_, y_, test_size=.25, random_state=15)#30\n",
    "\n",
    "#X_train_val, X_test, y_train_val, y_test = train_test_split( X, y, test_size=.20, random_state=32)\n",
    "\n",
    "ss=StandardScaler()\n",
    "\n",
    "X_train_scaled = ss.fit_transform( X_train)\n",
    "X_val_scaled = ss.transform(X_val)\n",
    "X_test_scaled = ss.fit_transform( X_test )"
   ]
  },
  {
   "cell_type": "raw",
   "metadata": {},
   "source": [
    "X.columns"
   ]
  },
  {
   "cell_type": "raw",
   "metadata": {},
   "source": [
    "from sklearn.linear_model import LinearRegression, Lasso, LassoCV, Ridge, RidgeCV\n",
    "from sklearn.metrics import r2_score\n",
    "from sklearn.preprocessing import PolynomialFeatures\n",
    "\n",
    "model = LassoCV()\n"
   ]
  },
  {
   "cell_type": "raw",
   "metadata": {},
   "source": [
    "poly=PolynomialFeatures(degree=2)\n",
    "\n",
    "X_train_poly = poly.fit_transform(X_train.values)\n",
    "X_val_poly = poly.transform(X_val.values)\n",
    "X_test_poly = poly.transform(X_test.values)\n",
    "\n",
    "lm_poly = LinearRegression()\n",
    "\n",
    "lm_poly.fit(X_train_poly, y_train)\n",
    "print(f'Degree 2 polynomial regression val R^2: {lm_poly.score(X_val_poly, y_val):.3f}')"
   ]
  },
  {
   "cell_type": "raw",
   "metadata": {},
   "source": [
    "lm_poly.coef_"
   ]
  },
  {
   "cell_type": "raw",
   "metadata": {},
   "source": [
    "lm_poly.fit(X_,y_)\n",
    "print(f'Linear Regression test R^2: {lm_poly.score(X_test, y_test):.3f}')"
   ]
  },
  {
   "cell_type": "raw",
   "metadata": {},
   "source": []
  },
  {
   "cell_type": "raw",
   "metadata": {},
   "source": [
    "#lm_poly.alpha_"
   ]
  },
  {
   "cell_type": "raw",
   "metadata": {},
   "source": [
    "#model.fit(X_train_scaled,y_train_val)"
   ]
  },
  {
   "cell_type": "raw",
   "metadata": {},
   "source": [
    "#model.coef_"
   ]
  },
  {
   "cell_type": "raw",
   "metadata": {},
   "source": [
    "#list(zip(X_cols, model.coef_))"
   ]
  },
  {
   "cell_type": "raw",
   "metadata": {},
   "source": [
    "#model.score(X_test, y_test)"
   ]
  },
  {
   "cell_type": "raw",
   "metadata": {},
   "source": [
    "#model.alpha_"
   ]
  },
  {
   "cell_type": "raw",
   "metadata": {},
   "source": [
    "## Repartition data set to analyze `budget` and  `worldwide_gross`"
   ]
  },
  {
   "cell_type": "raw",
   "metadata": {},
   "source": [
    "films_to_analyze_financial_df = films_to_analyze[(films_to_analyze['budget'] > 0) & (films_to_analyze['worldwide_gross'] > 0)]"
   ]
  },
  {
   "cell_type": "raw",
   "metadata": {},
   "source": [
    "#films_to_analyze_financial_df = films_to_analyze[(films_to_analyze['budget'] > 0) & (films_df_reordered['worldwide_gross'] > 0)]"
   ]
  },
  {
   "cell_type": "raw",
   "metadata": {},
   "source": [
    "first_actor_column = (len(films_to_analyze_financial_df.columns) - len(dict_of_all_actors))\n",
    "first_actor_column\n"
   ]
  },
  {
   "cell_type": "raw",
   "metadata": {},
   "source": [
    "actor_columns = films_to_analyze_financial_df.iloc[:, first_actor_column:].columns\n",
    "actor_columns\n"
   ]
  },
  {
   "cell_type": "raw",
   "metadata": {},
   "source": [
    "films_to_analyze_financial_df[actor_columns].sum()"
   ]
  },
  {
   "cell_type": "raw",
   "metadata": {},
   "source": [
    "actors_num_of_appearances = films_to_analyze_financial_df[actor_columns].sum()\n",
    "actors_num_of_appearances"
   ]
  },
  {
   "cell_type": "raw",
   "metadata": {},
   "source": [
    "appearances_threshold = 3\n",
    "prevalent_actors_mask = (actors_num_of_appearances >= appearances_threshold)\n",
    "prevalent_actors_mask"
   ]
  },
  {
   "cell_type": "raw",
   "metadata": {},
   "source": [
    "prevalent_actor_columns = actor_columns[prevalent_actors_mask]\n",
    "prevalent_actor_columns \n"
   ]
  },
  {
   "cell_type": "raw",
   "metadata": {},
   "source": [
    "analysis_columns = ['title', 'year', 'duration', 'budget', 'worldwide_gross','cinematographer', 'documentary', 'tv_series','rating', 'rating_count', *prevalent_actor_columns]\n",
    "analysis_columns\n"
   ]
  },
  {
   "cell_type": "raw",
   "metadata": {},
   "source": [
    "films_and_features_to_analyze_financial_df = films_to_analyze_financial_df[analysis_columns]"
   ]
  },
  {
   "cell_type": "raw",
   "metadata": {},
   "source": [
    "films_and_features_to_analyze_financial_df.head(10)"
   ]
  },
  {
   "cell_type": "raw",
   "metadata": {},
   "source": [
    "x_label = 'budget'\n",
    "y_label = 'rating'\n",
    "x_ = films_and_features_to_analyze_financial_df[x_label]\n",
    "y_ = films_and_features_to_analyze_financial_df[y_label]\n",
    "\n",
    "plt.figure(figsize=(16,8))\n",
    "\n",
    "size_ = 300\n",
    "alpha_ = .6\n",
    "plt.xlabel(x_label, fontsize='18')\n",
    "plt.ylabel(y_label, fontsize='18')\n",
    "plt.title(director.title() + ' movies', fontsize='20')\n",
    "cmap=plt.get_cmap(\"cool\")\n",
    "color_dimension = 'year'\n",
    "cm=films_and_features_to_analyze_financial_df[color_dimension].tolist()\n",
    "\n",
    "category = 'tv_series'\n",
    "plt.scatter(x=x_, y=y_, marker='o', alpha=alpha_, c=cm,cmap=\"cool\", s=(size_,))\n",
    "plt.colorbar(label=color_dimension)"
   ]
  },
  {
   "cell_type": "raw",
   "metadata": {},
   "source": [
    "x_label = 'year'\n",
    "y_label = 'rating'\n",
    "x_ = films_and_features_to_analyze_financial_df[x_label]\n",
    "y_ = films_and_features_to_analyze_financial_df[y_label]\n",
    "\n",
    "plt.figure(figsize=(16,8))\n",
    "\n",
    "size_ = 300\n",
    "alpha_ = .6\n",
    "plt.xlabel(x_label, fontsize='18')\n",
    "plt.ylabel(y_label, fontsize='18')\n",
    "plt.title(director.title() + ' movies', fontsize='20')\n",
    "cmap=plt.get_cmap(\"cool\")\n",
    "color_dimension = 'budget'\n",
    "cm=films_and_features_to_analyze_financial_df[color_dimension].tolist()\n",
    "\n",
    "category = 'tv_series'\n",
    "plt.scatter(x=x_, y=y_, marker='o', alpha=alpha_, c=cm,cmap=\"cool\", s=(size_,))\n",
    "plt.colorbar(label=color_dimension)"
   ]
  },
  {
   "cell_type": "raw",
   "metadata": {},
   "source": [
    "x_label = 'budget'\n",
    "y_label = 'duration'\n",
    "x_ = films_and_features_to_analyze_financial_df[x_label]\n",
    "y_ = films_and_features_to_analyze_financial_df[y_label]\n",
    "\n",
    "plt.figure(figsize=(16,8))\n",
    "\n",
    "size_ = 300\n",
    "alpha_ = .6\n",
    "plt.xlabel(x_label, fontsize='18')\n",
    "plt.ylabel(y_label, fontsize='18')\n",
    "plt.title(director.title() + ' movies', fontsize='20')\n",
    "cmap=plt.get_cmap(\"cool\")\n",
    "color_dimension = 'year'\n",
    "cm=films_and_features_to_analyze_financial_df[color_dimension].tolist()\n",
    "\n",
    "category = 'tv_series'\n",
    "plt.scatter(x=x_, y=y_, marker='o', alpha=alpha_, c=cm,cmap=\"cool\", s=(size_,))\n",
    "plt.colorbar(label=color_dimension)"
   ]
  },
  {
   "cell_type": "raw",
   "metadata": {},
   "source": [
    "cinematographer_include_threshold = films_and_features_to_analyze_df['cinematographer'].value_counts().min()\n",
    "cinematographer_include_threshold"
   ]
  },
  {
   "cell_type": "raw",
   "metadata": {},
   "source": [
    "value_counts = films_and_features_to_analyze_financial_df['cinematographer'].value_counts() # Specific column \n",
    "to_remove = value_counts[value_counts <= cinematographer_include_threshold].index\n",
    "films_and_features_to_analyze_financial_df['cinematographer'].replace(to_remove, 'OTHER', inplace=True)"
   ]
  },
  {
   "cell_type": "raw",
   "metadata": {},
   "source": [
    "selected_cols = [*films_and_features_to_analyze_financial_df.columns[1:8], *films_and_features_to_analyze_financial_df.columns[9:]]"
   ]
  },
  {
   "cell_type": "raw",
   "metadata": {},
   "source": [
    "selected_cols"
   ]
  },
  {
   "cell_type": "raw",
   "metadata": {},
   "source": [
    "X= films_and_features_to_analyze_financial_df[selected_cols]\n",
    "y= films_and_features_to_analyze_financial_df['rating']"
   ]
  },
  {
   "cell_type": "raw",
   "metadata": {},
   "source": []
  },
  {
   "cell_type": "raw",
   "metadata": {},
   "source": [
    "X_train, X_test, y_train, y_test = train_test_split(X, y)"
   ]
  },
  {
   "cell_type": "raw",
   "metadata": {},
   "source": [
    "### Preprocessing\n",
    "\n",
    "#### Categorical Variable Preprocessing\n",
    "\n",
    "cat_ohe_vars = ['cinematographer']\n",
    "X_train_cat_ohe = X_train[cat_ohe_vars]\n",
    "#X_train_cat_ohe \n",
    "\n",
    "#### OneHotEncoding"
   ]
  },
  {
   "cell_type": "raw",
   "metadata": {},
   "source": []
  },
  {
   "cell_type": "raw",
   "metadata": {},
   "source": []
  },
  {
   "cell_type": "raw",
   "metadata": {},
   "source": [
    "\n",
    "\n",
    "#ohe = OneHotEncoder(sparse=False, drop='first')\n",
    "ohe = OneHotEncoder(sparse=False,  handle_unknown='ignore')\n",
    "ohe.fit(X_train_cat_ohe)\n",
    "cats_ohe = ohe.transform(X_train_cat_ohe)\n",
    "\n",
    "\n",
    "columns=ohe.get_feature_names(cat_ohe_vars)\n",
    "\n",
    "columns\n",
    "\n",
    "X_train_cat_ohe_df = pd.DataFrame(cats_ohe, columns=columns, index=X_train_cat_ohe.index)\n",
    "X_train_cat_ohe_df.head()\n",
    "\n",
    "#### Repeating transformations on testing set\n",
    "\n",
    "X_test_cat_ohe = X_test[['cinematographer']]\n",
    "X_test_cat_ohe\n",
    "cats_ohe_test = ohe.transform(X_test_cat_ohe)\n",
    "\n",
    "cat_ohe_columns = ohe.get_feature_names(['cinematographer'])\n",
    "X_test_cat_ohe_df = pd.DataFrame(cats_ohe_test, columns=cat_ohe_columns)\n",
    "\n",
    "### Continous Variable Preprocessing\n",
    "\n",
    "#### Select continuous variables from training set\n",
    "\n",
    "X_train_cont = X_train[['year', 'duration', 'budget','rating_count']]\n",
    "X_train_cont.head(70)\n",
    "\n",
    "\n",
    "\n",
    "####  scale the continuous variables in the train set\n",
    "\n",
    "from sklearn.preprocessing import StandardScaler\n",
    "\n",
    "ss = StandardScaler()\n",
    "\n",
    "ss.fit(X_train_cont)\n",
    "X_train_scaled = ss.transform(X_train_cont)\n",
    "\n",
    "cont_columns = X_train_cont.columns\n",
    "X_train_scaled_df = pd.DataFrame(X_train_scaled, columns=cont_columns, index=X_train_cont.index)\n",
    "\n",
    "X_train_scaled_df.head()\n",
    "\n",
    "\n",
    "#### select and scale the continuous variables in the test set\n",
    "\n",
    "X_test_cont = X_test[['year', 'duration', 'budget','rating_count']]\n",
    "X_test_cont.head()\n",
    "\n",
    "X_test_scaled = ss.transform(X_test_cont)\n",
    "\n",
    "cont_columns = X_test_cont.columns\n",
    "X_test_scaled_df = pd.DataFrame(X_test_scaled, columns=cont_columns, index=X_test_cont.index)\n",
    "\n",
    "X_test_scaled_df.head()\n",
    "\n",
    "### Combine the continuous, categorical, and ohe cat features for our testing set\n",
    "\n",
    "\n",
    "cat_columns = ['documentary', 'tv_series', *prevalent_actor_columns]\n",
    "X_train_cat_df = X_train[cat_columns]\n",
    "\n",
    "\n",
    "X_train_combined = pd.concat([X_train_scaled_df, X_train_cat_ohe_df, X_train_cat_df, ], axis='columns')\n",
    "\n",
    "X_train_combined.head(10)\n",
    "\n",
    "X_train.shape\n",
    "\n",
    "### Combine the continuous and categorical features for our testing set\n",
    "\n",
    "\n",
    "X_test_cat_df = X_test[cat_columns]\n",
    "\n",
    "X_test_scaled_df.shape[0] == X_test_cat_df.shape[0] == X_test_cat_ohe_df.shape[0]\n",
    "\n",
    "\n",
    "X_test_combined = pd.concat([X_test_scaled_df.reset_index(drop=True), X_test_cat_ohe_df.reset_index(drop=True), X_test_cat_df.reset_index(drop=True) ], axis=1)\n",
    "#X_test_combined = pd.concat([X_test_scaled_df, X_test_cat_ohe_df, X_test_cat_df ], axis=1)\n",
    "\n",
    "X_test_combined\n",
    "\n",
    "### Now make predictions by instantiating the Linear Regression Model \n",
    "\n",
    "lr = LinearRegression()\n",
    "\n",
    "lr.fit(X_train_combined, y_train)\n",
    "\n",
    "lr.coef_\n",
    "\n",
    "y_pred = lr.predict(X_test_combined)\n",
    "\n",
    "y_pred\n",
    "\n",
    "from sklearn.metrics import mean_squared_error, r2_score\n",
    "\n",
    "rmse = np.sqrt(mean_squared_error(y_test, y_pred))\n",
    "\n",
    "r2 = r2_score(y_test, y_pred)\n",
    "\n",
    "print(f'RMSE: {rmse:.2f}\\nr2: {r2:.2f}')\n",
    "\n",
    "print(r2)\n",
    "\n",
    "score = lr.score(X_test_combined, y_test) \n",
    "score"
   ]
  },
  {
   "cell_type": "raw",
   "metadata": {},
   "source": []
  },
  {
   "cell_type": "raw",
   "metadata": {},
   "source": [
    "### Look at continous variable including `budget`"
   ]
  },
  {
   "cell_type": "raw",
   "metadata": {},
   "source": [
    "films_and_features_to_analyze_financial_df.columns\n",
    "\n",
    "#selected_cols = ['budget', 'rating_count']\n",
    "selected_cols = ['year', 'duration', 'budget']\n",
    "#selected_cols = ['budget']\n",
    "X= films_and_features_to_analyze_financial_df[selected_cols]\n",
    "y= films_and_features_to_analyze_financial_df['rating']"
   ]
  },
  {
   "cell_type": "raw",
   "metadata": {},
   "source": [
    "\n",
    "\n",
    "X_train, X_test, y_train, y_test = train_test_split(X, y)"
   ]
  },
  {
   "cell_type": "raw",
   "metadata": {},
   "source": [
    "X_train.columns"
   ]
  },
  {
   "cell_type": "raw",
   "metadata": {},
   "source": []
  },
  {
   "cell_type": "raw",
   "metadata": {},
   "source": [
    "from sklearn.preprocessing import StandardScaler\n",
    "\n",
    "ss = StandardScaler()\n",
    "\n",
    "ss.fit(X_train)\n",
    "X_train_scaled = ss.transform(X_train)\n",
    "X_train_scaled"
   ]
  },
  {
   "cell_type": "raw",
   "metadata": {},
   "source": []
  },
  {
   "cell_type": "raw",
   "metadata": {},
   "source": [
    "cont_columns = X_train.columns\n",
    "X_train_scaled_df = pd.DataFrame(X_train_scaled, columns=cont_columns, index=X_train_cont.index)\n",
    "\n",
    "X_train_scaled_df.head()"
   ]
  },
  {
   "cell_type": "raw",
   "metadata": {},
   "source": [
    "X_train_combined = pd.concat([X_train_scaled_df.reset_index(drop=True)], axis='columns')\n",
    "\n",
    "X_train_combined.head()"
   ]
  },
  {
   "cell_type": "raw",
   "metadata": {},
   "source": []
  },
  {
   "cell_type": "raw",
   "metadata": {},
   "source": [
    "#X_test = X_test[['year', 'budget','rating_count']]\n",
    "\n",
    "X_test = X_test[selected_cols]\n",
    "X_test.head()\n",
    "\n",
    "X_test_scaled = ss.transform(X_test)\n",
    "\n",
    "cont_columns = X_test.columns\n",
    "X_test_scaled_df = pd.DataFrame(X_test_scaled, columns=cont_columns, index=X_test.index)\n",
    "\n",
    "X_test_scaled_df.head()"
   ]
  },
  {
   "cell_type": "raw",
   "metadata": {},
   "source": [
    "X_test_combined = pd.concat([X_test_scaled_df.reset_index(drop=True) ], axis=1)\n",
    "\n",
    "X_test_combined"
   ]
  },
  {
   "cell_type": "raw",
   "metadata": {},
   "source": [
    "lr = LinearRegression()\n",
    "\n",
    "lr.fit(X_train_combined,y_train)\n",
    "\n",
    "lr.coef_"
   ]
  },
  {
   "cell_type": "raw",
   "metadata": {},
   "source": [
    "y_pred = lr.predict(X_test_combined)\n",
    "\n",
    "y_pred"
   ]
  },
  {
   "cell_type": "raw",
   "metadata": {},
   "source": []
  },
  {
   "cell_type": "raw",
   "metadata": {},
   "source": []
  },
  {
   "cell_type": "raw",
   "metadata": {},
   "source": [
    "\n",
    "from sklearn.metrics import mean_squared_error, r2_score\n",
    "\n",
    "rmse = np.sqrt(mean_squared_error(y_test, y_pred))\n",
    "\n",
    "r2 = r2_score(y_test, y_pred)\n",
    "\n",
    "print(f'RMSE: {rmse:.2f}\\nr2: {r2:.2f}')"
   ]
  },
  {
   "cell_type": "code",
   "execution_count": 419,
   "metadata": {},
   "outputs": [
    {
     "ename": "NameError",
     "evalue": "name 'y_pred' is not defined",
     "output_type": "error",
     "traceback": [
      "\u001b[0;31m---------------------------------------------------------------------------\u001b[0m",
      "\u001b[0;31mNameError\u001b[0m                                 Traceback (most recent call last)",
      "\u001b[0;32m<ipython-input-419-5518244e0205>\u001b[0m in \u001b[0;36m<module>\u001b[0;34m\u001b[0m\n\u001b[0;32m----> 1\u001b[0;31m \u001b[0mplt\u001b[0m\u001b[0;34m.\u001b[0m\u001b[0mscatter\u001b[0m\u001b[0;34m(\u001b[0m\u001b[0my_test\u001b[0m\u001b[0;34m,\u001b[0m \u001b[0my_pred\u001b[0m\u001b[0;34m)\u001b[0m\u001b[0;34m\u001b[0m\u001b[0;34m\u001b[0m\u001b[0m\n\u001b[0m\u001b[1;32m      2\u001b[0m \u001b[0mplt\u001b[0m\u001b[0;34m.\u001b[0m\u001b[0mplot\u001b[0m\u001b[0;34m(\u001b[0m\u001b[0my_pred\u001b[0m\u001b[0;34m,\u001b[0m \u001b[0my_pred\u001b[0m\u001b[0;34m)\u001b[0m\u001b[0;34m\u001b[0m\u001b[0;34m\u001b[0m\u001b[0m\n\u001b[1;32m      3\u001b[0m \u001b[0mplt\u001b[0m\u001b[0;34m.\u001b[0m\u001b[0mplot\u001b[0m\u001b[0;34m(\u001b[0m\u001b[0my_test\u001b[0m\u001b[0;34m,\u001b[0m \u001b[0my_test\u001b[0m\u001b[0;34m)\u001b[0m\u001b[0;34m\u001b[0m\u001b[0;34m\u001b[0m\u001b[0m\n",
      "\u001b[0;31mNameError\u001b[0m: name 'y_pred' is not defined"
     ]
    }
   ],
   "source": [
    "plt.scatter(y_test, y_pred)\n",
    "plt.plot(y_pred, y_pred)\n",
    "plt.plot(y_test, y_test)"
   ]
  },
  {
   "cell_type": "raw",
   "metadata": {},
   "source": [
    "res = y_test-y_pred\n",
    "res"
   ]
  },
  {
   "cell_type": "raw",
   "metadata": {},
   "source": [
    "X_test"
   ]
  },
  {
   "cell_type": "raw",
   "metadata": {},
   "source": [
    "plt.scatter(y_pred, res)\n",
    "plt.axhline(y=0)\n",
    "#plt.plot(y_pred, 0)"
   ]
  },
  {
   "cell_type": "raw",
   "metadata": {},
   "source": []
  },
  {
   "cell_type": "raw",
   "metadata": {},
   "source": [
    "X_train_combined.head()"
   ]
  },
  {
   "cell_type": "raw",
   "metadata": {},
   "source": []
  },
  {
   "cell_type": "raw",
   "metadata": {},
   "source": [
    "X_train_cont"
   ]
  },
  {
   "cell_type": "raw",
   "metadata": {},
   "source": []
  },
  {
   "cell_type": "raw",
   "metadata": {},
   "source": [
    "from sklearn.model_selection import cross_val_score\n",
    "lm = LinearRegression()\n",
    "\n",
    "cross_val_score(lm, X, y, # estimator, features, target\n",
    "                cv=5, # number of folds \n",
    "                scoring='r2') # scoring metric"
   ]
  },
  {
   "cell_type": "raw",
   "metadata": {},
   "source": [
    "lm.score"
   ]
  },
  {
   "cell_type": "raw",
   "metadata": {},
   "source": []
  },
  {
   "cell_type": "raw",
   "metadata": {},
   "source": [
    "## include `log(year)` `budget^2` and `log(rating_count)`"
   ]
  },
  {
   "cell_type": "raw",
   "metadata": {},
   "source": []
  },
  {
   "cell_type": "raw",
   "metadata": {},
   "source": [
    "X_train_cont_w_log = copy.deepcopy(X_train_cont) \n",
    "X_test_cont_w_log = copy.deepcopy(X_test_cont) \n",
    "\n",
    "X_train_cont_w_log['log_year'] = np.log(X_train_cont_w_log.year)\n",
    "X_test_cont_w_log['log_year'] = np.log(X_test_cont_w_log.year)\n",
    "\n",
    "#X_train_cont_w_log['log_budget'] = np.log(X_train_cont_w_log.budget)\n",
    "#X_test_cont_w_log['log_budget'] = np.log(X_test_cont_w_log.budget)\n",
    "X_train_cont_w_log['pow_budget'] = X_train_cont_w_log.budget**2\n",
    "X_test_cont_w_log['pow_budget'] =  X_test_cont_w_log.budget**2\n",
    "\n",
    "\n",
    "X_train_cont_w_log['log_rating_count'] = np.log(X_train_cont_w_log.rating_count)\n",
    "X_test_cont_w_log['log_rating_count'] = np.log(X_test_cont_w_log.rating_count)\n"
   ]
  },
  {
   "cell_type": "raw",
   "metadata": {},
   "source": []
  },
  {
   "cell_type": "raw",
   "metadata": {},
   "source": [
    "# films_and_features_to_analyze_financial_df.columns\n",
    "\n",
    "#selected_cols = [ 'log_year', 'log_budget', 'log_rating_count']\n",
    "selected_cols = ['year','budget', 'rating_count', 'log_year', 'pow_budget', 'log_rating_count']\n",
    "# #selected_cols = ['year', 'duration', 'budget', 'rating_count']\n",
    "# #selected_cols = ['budget']\n",
    "# X= films_and_features_to_analyze_financial_df[selected_cols]\n",
    "# y= films_and_features_to_analyze_financial_df['rating']\n",
    "\n",
    "X_train_cont_w_log = X_train_cont_w_log[ selected_cols ]\n",
    "X_test_cont_w_log  = X_test_cont_w_log[ selected_cols ]\n",
    "\n",
    "# X_train, X_test, y_train, y_test = train_test_split(X, y)\n",
    "\n",
    "# X_train.columns\n",
    "\n",
    "from sklearn.preprocessing import StandardScaler\n",
    "\n",
    "ss = StandardScaler()\n",
    "\n",
    "ss.fit(X_train_cont_w_log)\n",
    "X_train_scaled = ss.transform(X_train_cont_w_log)\n",
    "X_train_scaled.shape\n",
    "\n",
    "cont_columns = X_train_cont_w_log.columns\n",
    "X_train_scaled_df = pd.DataFrame(X_train_scaled, columns=cont_columns, index=X_train_cont_w_log.index)\n",
    "X_train_scaled_df.head()\n",
    "\n",
    "X_test_scaled_df = ss.transform(X_test_cont_w_log)"
   ]
  },
  {
   "cell_type": "raw",
   "metadata": {},
   "source": [
    "X_test_scaled_df"
   ]
  },
  {
   "cell_type": "raw",
   "metadata": {},
   "source": [
    "cont_columns = X_test_cont_w_log.columns\n",
    "cont_columns"
   ]
  },
  {
   "cell_type": "raw",
   "metadata": {},
   "source": [
    "X_test_scaled_df"
   ]
  },
  {
   "cell_type": "raw",
   "metadata": {},
   "source": [
    "cont_columns = X_test_cont_w_log.columns\n",
    "X_test_scaled_df = pd.DataFrame(X_test_scaled_df, columns=cont_columns, index=X_test_cont_w_log.index)\n",
    "#X_test_scaled_df = pd.DataFrame(X_test_scaled)\n"
   ]
  },
  {
   "cell_type": "raw",
   "metadata": {},
   "source": [
    "# X_train_combined = pd.concat([X_train_scaled_df.reset_index(drop=True)], axis='columns')\n",
    "\n",
    "# X_train_combined.head()\n",
    "\n",
    "\n",
    "# X_test_cont = X_test[['year','budget', 'rating_count', 'log_year', 'log_budget', 'log_rating_count']]\n",
    "# X_test_cont.head()\n",
    "\n",
    "\n",
    "\n",
    "\n",
    "X_test_scaled_df.head()\n",
    "\n",
    "# X_test_combined = pd.concat([X_test_scaled_df.reset_index(drop=True) ], axis=1)\n",
    "\n",
    "# X_test_combined\n",
    "\n",
    "lr = LinearRegression()\n",
    "\n",
    "lr.fit(X_train_scaled_df,y_train)\n",
    "\n",
    "lr.coef_\n",
    "\n",
    "y_pred = lr.predict(X_test_scaled_df)\n",
    "\n",
    "y_pred\n",
    "\n",
    "\n",
    "\n",
    "from sklearn.metrics import mean_squared_error, r2_score\n",
    "\n",
    "rmse = np.sqrt(mean_squared_error(y_test, y_pred))\n",
    "\n",
    "r2 = r2_score(y_test, y_pred)\n",
    "\n",
    "print(f'RMSE: {rmse:.2f}\\nr2: {r2:.2f}')\n",
    "\n",
    "X_train_scaled_df.head()"
   ]
  },
  {
   "cell_type": "raw",
   "metadata": {},
   "source": []
  },
  {
   "cell_type": "raw",
   "metadata": {},
   "source": []
  },
  {
   "cell_type": "raw",
   "metadata": {},
   "source": []
  },
  {
   "cell_type": "raw",
   "metadata": {},
   "source": []
  },
  {
   "cell_type": "raw",
   "metadata": {},
   "source": []
  },
  {
   "cell_type": "code",
   "execution_count": null,
   "metadata": {},
   "outputs": [],
   "source": []
  },
  {
   "cell_type": "code",
   "execution_count": null,
   "metadata": {},
   "outputs": [],
   "source": []
  },
  {
   "cell_type": "code",
   "execution_count": null,
   "metadata": {},
   "outputs": [],
   "source": []
  },
  {
   "cell_type": "code",
   "execution_count": null,
   "metadata": {},
   "outputs": [],
   "source": []
  },
  {
   "cell_type": "raw",
   "metadata": {},
   "source": [
    "films_df_reordered"
   ]
  },
  {
   "cell_type": "raw",
   "metadata": {
    "scrolled": true
   },
   "source": [
    "films_to_analyze_profits=films_df_reordered[(films_df_reordered['year'].notnull()) & (films_df_reordered['duration']>30) & (films_df_reordered['worldwide_gross'].notnull()) & (films_df_reordered['worldwide_gross']!='') & (films_df_reordered['cinematographer']!='') & (films_df_reordered['cinematographer'].notnull())]\n",
    "#films_to_analyze_profits=films_df_reordered[(films_df_reordered['year'].notnull()) & (films_df_reordered['duration']>30) & (films_df_reordered['rating'].notnull()) & (films_df_reordered['cinematographer']!='') & (films_df_reordered['cinematographer'].notnull())]\n",
    "\n",
    "films_to_analyze_profits.iloc[:,8:15]\n"
   ]
  },
  {
   "cell_type": "raw",
   "metadata": {},
   "source": [
    "new_analysis_columns = ['title', 'year', 'duration', 'cinematographer', 'documentary', 'tv_series','rating', 'rating_count', 'worldwide_gross', *selected_actor_columns]"
   ]
  },
  {
   "cell_type": "raw",
   "metadata": {},
   "source": [
    "films_and_features_to_analyze_profits = films_to_analyze_profits[new_analysis_columns]"
   ]
  },
  {
   "cell_type": "raw",
   "metadata": {},
   "source": []
  },
  {
   "cell_type": "raw",
   "metadata": {},
   "source": [
    "x_label = 'year'\n",
    "y_label = 'worldwide_gross'\n",
    "x_ = films_and_features_to_analyze_profits[x_label]\n",
    "y_ = films_and_features_to_analyze_profits[y_label]\n",
    "\n",
    "plt.figure(figsize=(16,8))\n",
    "\n",
    "size_ = 300\n",
    "alpha_ = .6\n",
    "plt.xlabel(x_label, fontsize='18')\n",
    "plt.ylabel(y_label, fontsize='18')\n",
    "plt.title(director.title() + ' movies', fontsize='20')\n",
    "\n",
    "category = 'tv_series'\n",
    "plt.scatter(x=x_, y=y_, marker='o', alpha=alpha_, c = films_and_features_to_analyze_profits[category], s=(size_,))"
   ]
  },
  {
   "cell_type": "raw",
   "metadata": {},
   "source": [
    "x_label = 'rating'\n",
    "y_label = 'worldwide_gross'\n",
    "x_ = films_and_features_to_analyze_profits[x_label]\n",
    "y_ = films_and_features_to_analyze_profits[y_label]\n",
    "\n",
    "plt.figure(figsize=(16,8))\n",
    "\n",
    "size_ = 300\n",
    "alpha_ = .6\n",
    "plt.xlabel(x_label, fontsize='18')\n",
    "plt.ylabel(y_label, fontsize='18')\n",
    "plt.title(director.title() + ' movies', fontsize='20')\n",
    "\n",
    "category = 'tv_series'\n",
    "plt.scatter(x=x_, y=y_, marker='o', alpha=alpha_, c = films_and_features_to_analyze_profits[category], s=(size_,))"
   ]
  },
  {
   "cell_type": "raw",
   "metadata": {},
   "source": [
    "x_label = 'duration'\n",
    "y_label = 'worldwide_gross'\n",
    "x_ = films_and_features_to_analyze_profits[x_label]\n",
    "y_ = films_and_features_to_analyze_profits[y_label]\n",
    "\n",
    "plt.figure(figsize=(16,8))\n",
    "\n",
    "size_ = 300\n",
    "alpha_ = .6\n",
    "plt.xlabel(x_label, fontsize='18')\n",
    "plt.ylabel(y_label, fontsize='18')\n",
    "plt.title(director.title() + ' movies', fontsize='20')\n",
    "\n",
    "category = 'tv_series'\n",
    "plt.scatter(x=x_, y=y_, marker='o', alpha=alpha_, c = films_and_features_to_analyze_profits[category], s=(size_,))"
   ]
  },
  {
   "cell_type": "raw",
   "metadata": {},
   "source": [
    "x_label = 'rating_count'\n",
    "y_label = 'worldwide_gross'\n",
    "x_ = films_and_features_to_analyze_profits[x_label]\n",
    "y_ = films_and_features_to_analyze_profits[y_label]\n",
    "\n",
    "plt.figure(figsize=(16,8))\n",
    "\n",
    "size_ = 300\n",
    "alpha_ = .6\n",
    "plt.xlabel(x_label, fontsize='18')\n",
    "plt.ylabel(y_label, fontsize='18')\n",
    "plt.title(director.title() + ' movies', fontsize='20')\n",
    "\n",
    "category = 'tv_series'\n",
    "plt.scatter(x=x_, y=y_, marker='o', alpha=alpha_, c = films_and_features_to_analyze_profits[category], s=(size_,))"
   ]
  },
  {
   "cell_type": "raw",
   "metadata": {},
   "source": [
    "x_label = 'year'\n",
    "y_label = 'worldwide_gross'\n",
    "x_ = films_and_features_to_analyze_profits[x_label]\n",
    "y_ = films_and_features_to_analyze_profits[y_label]\n",
    "\n",
    "plt.figure(figsize=(16,8))\n",
    "\n",
    "size_ = 300\n",
    "alpha_ = .6\n",
    "plt.xlabel(x_label, fontsize='18')\n",
    "plt.ylabel(y_label, fontsize='18')\n",
    "plt.title(director.title() + ' movies', fontsize='20')\n",
    "category = 'James Stewart'\n",
    "plt.title(director.title() + ' movies: ' + 'Breakdown by actor: ' + category, fontsize='18')\n",
    "\n",
    "plt.scatter(x=x_, y=y_, marker='o', alpha=alpha_, c = films_and_features_to_analyze_profits[category], s=(size_,))"
   ]
  },
  {
   "cell_type": "raw",
   "metadata": {},
   "source": [
    "x_label = 'year'\n",
    "y_label = 'worldwide_gross'\n",
    "x_ = films_and_features_to_analyze_profits[x_label]\n",
    "y_ = films_and_features_to_analyze_profits[y_label]\n",
    "\n",
    "plt.figure(figsize=(16,8))\n",
    "\n",
    "size_ = 300\n",
    "alpha_ = .6\n",
    "plt.xlabel(x_label, fontsize='18')\n",
    "plt.ylabel(y_label, fontsize='18')\n",
    "plt.title(director.title() + ' movies', fontsize='20')\n",
    "category = 'Cary Grant'\n",
    "plt.title(director.title() + ' movies: ' + 'Breakdown by actor: ' + category, fontsize='18')\n",
    "\n",
    "plt.scatter(x=x_, y=y_, marker='o', alpha=alpha_, c = films_and_features_to_analyze_profits[category], s=(size_,))"
   ]
  },
  {
   "cell_type": "raw",
   "metadata": {},
   "source": [
    "x_label = 'year'\n",
    "y_label = 'worldwide_gross'\n",
    "x_ = films_and_features_to_analyze_profits[x_label]\n",
    "y_ = films_and_features_to_analyze_profits[y_label]\n",
    "\n",
    "plt.figure(figsize=(16,8))\n",
    "\n",
    "size_ = 300\n",
    "alpha_ = .6\n",
    "plt.xlabel(x_label, fontsize='18')\n",
    "plt.ylabel(y_label, fontsize='18')\n",
    "plt.title(director.title() + ' movies', fontsize='20')\n",
    "category = 'Grace Kelly'\n",
    "plt.title(director.title() + ' movies: ' + 'Breakdown by actor: ' + category, fontsize='18')\n",
    "\n",
    "plt.scatter(x=x_, y=y_, marker='o', alpha=alpha_, c = films_and_features_to_analyze_profits[category], s=(size_,))"
   ]
  },
  {
   "cell_type": "raw",
   "metadata": {},
   "source": [
    "### Repartition data set to analyze `worldwide_gross` in terms of `budget` etc."
   ]
  },
  {
   "cell_type": "raw",
   "metadata": {},
   "source": [
    "\n",
    "films_to_analyze_profits_and_budget=films_df_reordered[(films_df_reordered['year'].notnull()) & (films_df_reordered['duration']>30) & (films_df_reordered['worldwide_gross'].notnull()) & (films_df_reordered['worldwide_gross']!='') & (films_df_reordered['budget'].notnull()) & (films_df_reordered['budget']!='')& (films_df_reordered['cinematographer']!='') & (films_df_reordered['cinematographer'].notnull())]\n",
    "\n",
    "films_to_analyze_profits_and_budget.iloc[:,8:15]\n",
    "films_to_analyze_profits_and_budget\n"
   ]
  },
  {
   "cell_type": "raw",
   "metadata": {},
   "source": [
    "new_analysis_columns_budget = ['title', 'year', 'duration', 'cinematographer', 'documentary', 'tv_series','rating', 'rating_count', 'budget', 'worldwide_gross', *selected_actor_columns]"
   ]
  },
  {
   "cell_type": "raw",
   "metadata": {},
   "source": [
    "films_and_features_to_analyze_profits_and_budget = films_to_analyze_profits_and_budget[new_analysis_columns_budget]"
   ]
  },
  {
   "cell_type": "raw",
   "metadata": {},
   "source": [
    "x_label = 'year'\n",
    "y_label = 'budget'\n",
    "x_ = films_and_features_to_analyze_profits_and_budget[x_label]\n",
    "y_ = films_and_features_to_analyze_profits_and_budget[y_label]\n",
    "\n",
    "plt.figure(figsize=(16,8))\n",
    "plt.title(director.title() + ' movies', fontsize='20')\n",
    "\n",
    "size_ = 300\n",
    "alpha_ = .6\n",
    "plt.xlabel(x_label, fontsize='18')\n",
    "plt.ylabel(y_label, fontsize='18')\n",
    "plt.title(director.title() + ' movies', fontsize='20')\n",
    "\n",
    "category = 'tv_series'\n",
    "plt.scatter(x=x_, y=y_, marker='o', alpha=alpha_, c = films_and_features_to_analyze_profits_and_budget[category], s=(size_,))"
   ]
  },
  {
   "cell_type": "raw",
   "metadata": {},
   "source": [
    "x_label = 'budget'\n",
    "y_label = 'worldwide_gross'\n",
    "x_ = films_and_features_to_analyze_profits_and_budget[x_label]\n",
    "y_ = films_and_features_to_analyze_profits_and_budget[y_label]\n",
    "\n",
    "plt.figure(figsize=(16,8))\n",
    "plt.title(director.title() + ' movies', fontsize='20')\n",
    "\n",
    "size_ = 300\n",
    "alpha_ = .6\n",
    "plt.xlabel(x_label, fontsize='18')\n",
    "plt.ylabel(y_label, fontsize='18')\n",
    "plt.title(director.title() + ' movies', fontsize='20')\n",
    "\n",
    "category = 'tv_series'\n",
    "plt.scatter(x=x_, y=y_, marker='o', alpha=alpha_, c = films_and_features_to_analyze_profits_and_budget[category], s=(size_,))"
   ]
  },
  {
   "cell_type": "raw",
   "metadata": {},
   "source": [
    "x_label = 'budget'\n",
    "y_label = 'duration'\n",
    "x_ = films_and_features_to_analyze_profits_and_budget[x_label]\n",
    "y_ = films_and_features_to_analyze_profits_and_budget[y_label]\n",
    "\n",
    "plt.figure(figsize=(16,8))\n",
    "plt.title(director.title() + ' movies', fontsize='20')\n",
    "\n",
    "size_ = 300\n",
    "alpha_ = .6\n",
    "plt.xlabel(x_label, fontsize='18')\n",
    "plt.ylabel(y_label, fontsize='18')\n",
    "plt.title(director.title() + ' movies', fontsize='20')\n",
    "\n",
    "category = 'tv_series'\n",
    "plt.scatter(x=x_, y=y_, marker='o', alpha=alpha_, c = films_and_features_to_analyze_profits_and_budget[category], s=(size_,))"
   ]
  },
  {
   "cell_type": "raw",
   "metadata": {},
   "source": [
    "x_label = 'budget'\n",
    "y_label = 'rating'\n",
    "x_ = films_and_features_to_analyze_profits_and_budget[x_label]\n",
    "y_ = films_and_features_to_analyze_profits_and_budget[y_label]\n",
    "\n",
    "plt.figure(figsize=(16,8))\n",
    "plt.title(director.title() + ' movies', fontsize='20')\n",
    "\n",
    "size_ = 300\n",
    "alpha_ = .6\n",
    "plt.xlabel(x_label, fontsize='18')\n",
    "plt.ylabel(y_label, fontsize='18')\n",
    "plt.title(director.title() + ' movies', fontsize='20')\n",
    "\n",
    "category = 'tv_series'\n",
    "plt.scatter(x=x_, y=y_, marker='o', alpha=alpha_, c = films_and_features_to_analyze_profits_and_budget[category], s=(size_,))"
   ]
  },
  {
   "cell_type": "raw",
   "metadata": {},
   "source": []
  },
  {
   "cell_type": "raw",
   "metadata": {},
   "source": []
  },
  {
   "cell_type": "raw",
   "metadata": {},
   "source": []
  },
  {
   "cell_type": "raw",
   "metadata": {},
   "source": [
    "test_df = pd.DataFrame(\n",
    "    list([[1, 2, 3], [4, np.nan, '2 October 1955 (USA', ], [7, 8, 9], [3, np.nan, '20 September 1962 (USA' ], [5, np.nan, '20 September 1962 (USA' ]]), \n",
    "    columns=['a', 'year', 'release_date']\n",
    ")\n"
   ]
  },
  {
   "cell_type": "raw",
   "metadata": {},
   "source": [
    "test_df['year'] = test_df.apply(\n",
    "#     lambda row: re(r'\\d{4}', row['release_date']) if np.isnan(row['year']) else row['year'],\n",
    "#     axis=1)\n",
    "    lambda row: float((re.search(r'\\d{4}', row['release_date'])).group()) if np.isnan(row['year']) else row['year'],\n",
    "    axis=1)\n",
    "test_df"
   ]
  },
  {
   "cell_type": "raw",
   "metadata": {},
   "source": [
    "row_release_date = '2 October 1955 (USA'\n",
    "t = re(r'\\d{4}', row_release_date).group()"
   ]
  },
  {
   "cell_type": "raw",
   "metadata": {},
   "source": [
    "#films_df_reordered.apply( lambda row: row['year'] = re.search(r'\\d{4}',  row['release_date'] ).group() if (row['year'].isnull() , axis=1)"
   ]
  },
  {
   "cell_type": "raw",
   "metadata": {},
   "source": []
  },
  {
   "cell_type": "raw",
   "metadata": {},
   "source": [
    "#match = re.match(r'\\d{4}',  'julu 23 2947 sdkfj')\n"
   ]
  },
  {
   "cell_type": "raw",
   "metadata": {},
   "source": [
    "release_date='julu 2329 sdkfj'\n",
    "s = re.search(r'\\d{4}',  release_date).group()\n",
    "print(s)"
   ]
  },
  {
   "cell_type": "raw",
   "metadata": {},
   "source": []
  },
  {
   "cell_type": "raw",
   "metadata": {},
   "source": [
    "#films_df_reordered.loc[:,'year']=films_df_reordered['year'].apply(lambda year_data : (re.search(r'\\d{4}',  str(films_df_reordered['release_date'])).group()) if pd.isna(year_data) else year_data)"
   ]
  },
  {
   "cell_type": "raw",
   "metadata": {},
   "source": [
    "films_df_reordered.head(50)"
   ]
  },
  {
   "cell_type": "raw",
   "metadata": {},
   "source": [
    "#films_df_reordered[ pd.isna(films_df_reordered['year']) ]['year'] = re.search(r'\\d{4}',  films_df_reordered['release_date']).group()"
   ]
  },
  {
   "cell_type": "raw",
   "metadata": {},
   "source": []
  },
  {
   "cell_type": "raw",
   "metadata": {},
   "source": []
  },
  {
   "cell_type": "raw",
   "metadata": {},
   "source": []
  },
  {
   "cell_type": "raw",
   "metadata": {},
   "source": [
    "films_df.columns[first_cast_column:-1]"
   ]
  },
  {
   "cell_type": "raw",
   "metadata": {},
   "source": [
    "s=[3, 4, 5]\n",
    "t = [1, 2, *s]\n",
    "t"
   ]
  },
  {
   "cell_type": "raw",
   "metadata": {},
   "source": [
    "first_column_of_cast = 13\n",
    "number_of_appearances_cutoff = 3\n",
    "cast_columns_mask = list( film_catalog.iloc[:,first_column_of_cast:].sum()>=number_of_appearances_cutoff )\n",
    "#cast_columns_mask "
   ]
  },
  {
   "cell_type": "raw",
   "metadata": {},
   "source": [
    "#film_catalog.iloc[:,first_column_of_cast:].sum()>=3 "
   ]
  },
  {
   "cell_type": "raw",
   "metadata": {},
   "source": [
    "keep_columns_mask = list(np.full(first_column_of_cast, True, dtype=bool))"
   ]
  },
  {
   "cell_type": "raw",
   "metadata": {},
   "source": [
    "keep_columns_mask.extend( cast_columns_mask)\n",
    "keep_columns_mask"
   ]
  },
  {
   "cell_type": "raw",
   "metadata": {},
   "source": []
  },
  {
   "cell_type": "raw",
   "metadata": {},
   "source": [
    "film_catalog_w_prevelant_actors = film_catalog.loc[:, keep_columns_mask].head(45)\n",
    "film_catalog_w_prevelant_actors.shape"
   ]
  },
  {
   "cell_type": "raw",
   "metadata": {},
   "source": [
    "film_catalog_w_prevelant_actors"
   ]
  },
  {
   "cell_type": "raw",
   "metadata": {},
   "source": [
    "film_catalog_w_prevelant_actors.iloc[:, 13:].sum()"
   ]
  },
  {
   "cell_type": "raw",
   "metadata": {},
   "source": [
    "film_catalog_w_prevelant_actors.iloc[:,13:].pipe(lambda film_catalog_w_prevelant_actors: film_catalog_w_prevelant_actors.loc[:, film_catalog_w_prevelant_actors.sum().sort_values(ascending=False).index])"
   ]
  },
  {
   "cell_type": "raw",
   "metadata": {},
   "source": [
    "film_catalog_w_prevelant_actors.iloc[:,13:].pipe(lambda df: df.loc[:, df.sum().sort_values(ascending=False).index])"
   ]
  },
  {
   "cell_type": "raw",
   "metadata": {},
   "source": []
  },
  {
   "cell_type": "raw",
   "metadata": {},
   "source": []
  },
  {
   "cell_type": "raw",
   "metadata": {},
   "source": []
  },
  {
   "cell_type": "raw",
   "metadata": {},
   "source": [
    "(film_catalog.iloc[:,13:].sum().iteritems())"
   ]
  },
  {
   "cell_type": "raw",
   "metadata": {},
   "source": [
    "film_catalog[film_catalog.sum()>=3]"
   ]
  },
  {
   "cell_type": "raw",
   "metadata": {},
   "source": [
    "film_catalog.loc[:,film_catalog.sum()>=3]"
   ]
  },
  {
   "cell_type": "raw",
   "metadata": {},
   "source": [
    "[not s>2 for s in film_catalog.iloc[:,13:].sum()].tolist()"
   ]
  },
  {
   "cell_type": "raw",
   "metadata": {},
   "source": [
    "film_catalog.iloc[:,13:].drop([not s>2 for s in film_catalog.iloc[:,13:].sum()], inplace=True)"
   ]
  },
  {
   "cell_type": "raw",
   "metadata": {},
   "source": [
    "\n",
    "film_catalog.iloc[:,13:].drop([col for col, val in film_catalog.iloc[:,13:].sum() < 3 ], axis=1, inplace=True)"
   ]
  },
  {
   "cell_type": "raw",
   "metadata": {},
   "source": [
    "film_catalog.tail(35)"
   ]
  },
  {
   "cell_type": "raw",
   "metadata": {},
   "source": [
    "film_catalog.dtypes"
   ]
  },
  {
   "cell_type": "raw",
   "metadata": {},
   "source": [
    "sns.pairplot( film_catalog )"
   ]
  },
  {
   "cell_type": "raw",
   "metadata": {},
   "source": []
  },
  {
   "cell_type": "raw",
   "metadata": {},
   "source": [
    "def traverse(soup):\n",
    "    found = False\n",
    "    if soup.name is not None:\n",
    "        dom_dictionary = {}\n",
    "        dom_dictionary['name'] = soup.name\n",
    "        if dom_dictionary['name'] == 'h1':\n",
    "            print('\\n')\n",
    "            print(soup.text)\n",
    "            print('\\n')\n",
    "            if not found:\n",
    "                found_object = soup\n",
    "                found = True\n",
    "        dom_dictionary['children'] = [ traverse(child) for child in soup.children if child.name is not None]\n",
    "        return dom_dictionary, found_object\n",
    "\n",
    "#traverse(soup)"
   ]
  },
  {
   "cell_type": "raw",
   "metadata": {},
   "source": [
    "### Test one film at a time"
   ]
  },
  {
   "cell_type": "raw",
   "metadata": {},
   "source": [
    "#%%script false\n",
    "# # Test area\n",
    "# film_url='https://www.imdb.com/title/tt0086153/'\n",
    "film_url = 'https://www.imdb.com/title/tt0084654/'\n",
    "\n",
    "film_response = requests.get(film_url)\n",
    "if(film_response.status_code < 400):\n",
    "    film_page = film_response.text\n",
    "    film_soup = BeautifulSoup(film_page, \"lxml\")\n",
    "#   if ( not is_TV_Series( film_soup) ):\n",
    "    film = parse_film_data( film_soup )\n",
    "    print(film)\n"
   ]
  }
 ],
 "metadata": {
  "kernelspec": {
   "display_name": "Python [conda env:metis] *",
   "language": "python",
   "name": "conda-env-metis-py"
  },
  "language_info": {
   "codemirror_mode": {
    "name": "ipython",
    "version": 3
   },
   "file_extension": ".py",
   "mimetype": "text/x-python",
   "name": "python",
   "nbconvert_exporter": "python",
   "pygments_lexer": "ipython3",
   "version": "3.8.6"
  }
 },
 "nbformat": 4,
 "nbformat_minor": 2
}
