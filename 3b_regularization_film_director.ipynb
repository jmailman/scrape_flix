{
 "cells": [
  {
   "cell_type": "markdown",
   "metadata": {},
   "source": [
    "### EDA and Linear Regression"
   ]
  },
  {
   "cell_type": "code",
   "execution_count": 1,
   "metadata": {},
   "outputs": [],
   "source": [
    "import pandas as pd\n",
    "import numpy as np\n",
    "import re\n",
    "import math\n",
    "import seaborn as sns\n",
    "from matplotlib import pyplot as plt\n",
    "from collections import defaultdict\n",
    "#from IPython.core.display import display, HTML\n",
    "import pickle\n",
    "import copy\n",
    "#from sklearn.preprocessing import OneHotEncoder\n",
    "#from sklearn.model_selection import train_test_split\n",
    "#display(HTML(my_html))     # make sure Jupyter knows to display it as HTML\n",
    "\n",
    "from sklearn.model_selection import train_test_split\n",
    "from sklearn.linear_model import LinearRegression, Lasso, LassoCV, Ridge, RidgeCV\n",
    "from sklearn.metrics import mean_squared_error\n",
    "from sklearn.preprocessing import  StandardScaler, PolynomialFeatures, OneHotEncoder\n",
    "from sklearn.pipeline import Pipeline\n",
    "from sklearn.metrics import r2_score"
   ]
  },
  {
   "cell_type": "code",
   "execution_count": 2,
   "metadata": {},
   "outputs": [],
   "source": [
    "pd.options.display.float_format = \"{:,.5f}\".format"
   ]
  },
  {
   "cell_type": "code",
   "execution_count": 3,
   "metadata": {},
   "outputs": [],
   "source": [
    "director='herzog'\n",
    "dir_str = director + '/'\n",
    "\n",
    "films_filename = 'films_to_analyze_' + director\n",
    "with open(dir_str + films_filename, 'rb') as read_file:\n",
    "    films_to_analyze = pickle.load(read_file)"
   ]
  },
  {
   "cell_type": "code",
   "execution_count": 4,
   "metadata": {},
   "outputs": [
    {
     "data": {
      "text/html": [
       "<div>\n",
       "<style scoped>\n",
       "    .dataframe tbody tr th:only-of-type {\n",
       "        vertical-align: middle;\n",
       "    }\n",
       "\n",
       "    .dataframe tbody tr th {\n",
       "        vertical-align: top;\n",
       "    }\n",
       "\n",
       "    .dataframe thead th {\n",
       "        text-align: right;\n",
       "    }\n",
       "</style>\n",
       "<table border=\"1\" class=\"dataframe\">\n",
       "  <thead>\n",
       "    <tr style=\"text-align: right;\">\n",
       "      <th></th>\n",
       "      <th>title</th>\n",
       "      <th>year</th>\n",
       "      <th>release_date</th>\n",
       "      <th>duration</th>\n",
       "      <th>runtime</th>\n",
       "      <th>budget</th>\n",
       "      <th>worldwide_gross</th>\n",
       "      <th>worldwide_gross_imdb</th>\n",
       "      <th>worldwide_gross_bo</th>\n",
       "      <th>rating</th>\n",
       "      <th>...</th>\n",
       "      <th>Samuel S. Bowser</th>\n",
       "      <th>David R. Pacheco Jr.</th>\n",
       "      <th>Regina Eisert</th>\n",
       "      <th>Olav T. Oftedal</th>\n",
       "      <th>Kevin Emery</th>\n",
       "      <th>Ryan Andrew Evans</th>\n",
       "      <th>Doug MacAyeal</th>\n",
       "      <th>Stefan Pashov</th>\n",
       "      <th>Scott Rowland</th>\n",
       "      <th>Reinhard Lichtenberg</th>\n",
       "    </tr>\n",
       "  </thead>\n",
       "  <tbody>\n",
       "    <tr>\n",
       "      <th>1</th>\n",
       "      <td>Fireball: Visitors from Darker Worlds</td>\n",
       "      <td>2,020.00000</td>\n",
       "      <td>13 November 2020 (Australia)</td>\n",
       "      <td>97.00000</td>\n",
       "      <td>97.00000</td>\n",
       "      <td>NaN</td>\n",
       "      <td>NaN</td>\n",
       "      <td>NaN</td>\n",
       "      <td>NaN</td>\n",
       "      <td>7.00000</td>\n",
       "      <td>...</td>\n",
       "      <td>0.00000</td>\n",
       "      <td>0.00000</td>\n",
       "      <td>0.00000</td>\n",
       "      <td>0.00000</td>\n",
       "      <td>0.00000</td>\n",
       "      <td>0.00000</td>\n",
       "      <td>0.00000</td>\n",
       "      <td>0.00000</td>\n",
       "      <td>0.00000</td>\n",
       "      <td>0.00000</td>\n",
       "    </tr>\n",
       "    <tr>\n",
       "      <th>2</th>\n",
       "      <td>Family Romance, LLC</td>\n",
       "      <td>2,019.00000</td>\n",
       "      <td>3 July 2020 (USA)</td>\n",
       "      <td>89.00000</td>\n",
       "      <td>89.00000</td>\n",
       "      <td>NaN</td>\n",
       "      <td>3,126.00000</td>\n",
       "      <td>3,126.00000</td>\n",
       "      <td>NaN</td>\n",
       "      <td>6.70000</td>\n",
       "      <td>...</td>\n",
       "      <td>0.00000</td>\n",
       "      <td>0.00000</td>\n",
       "      <td>0.00000</td>\n",
       "      <td>0.00000</td>\n",
       "      <td>0.00000</td>\n",
       "      <td>0.00000</td>\n",
       "      <td>0.00000</td>\n",
       "      <td>0.00000</td>\n",
       "      <td>0.00000</td>\n",
       "      <td>0.00000</td>\n",
       "    </tr>\n",
       "    <tr>\n",
       "      <th>3</th>\n",
       "      <td>Nomad: In the Footsteps of Bruce Chatwin</td>\n",
       "      <td>2,019.00000</td>\n",
       "      <td>26 August 2020 (USA)</td>\n",
       "      <td>85.00000</td>\n",
       "      <td>85.00000</td>\n",
       "      <td>NaN</td>\n",
       "      <td>78,100.00000</td>\n",
       "      <td>78,100.00000</td>\n",
       "      <td>NaN</td>\n",
       "      <td>6.90000</td>\n",
       "      <td>...</td>\n",
       "      <td>0.00000</td>\n",
       "      <td>0.00000</td>\n",
       "      <td>0.00000</td>\n",
       "      <td>0.00000</td>\n",
       "      <td>0.00000</td>\n",
       "      <td>0.00000</td>\n",
       "      <td>0.00000</td>\n",
       "      <td>0.00000</td>\n",
       "      <td>0.00000</td>\n",
       "      <td>0.00000</td>\n",
       "    </tr>\n",
       "    <tr>\n",
       "      <th>4</th>\n",
       "      <td>Meeting Gorbachev</td>\n",
       "      <td>2,018.00000</td>\n",
       "      <td>3 May 2019 (USA)</td>\n",
       "      <td>90.00000</td>\n",
       "      <td>90.00000</td>\n",
       "      <td>NaN</td>\n",
       "      <td>327,912.00000</td>\n",
       "      <td>319,230.00000</td>\n",
       "      <td>327,912.00000</td>\n",
       "      <td>7.20000</td>\n",
       "      <td>...</td>\n",
       "      <td>0.00000</td>\n",
       "      <td>0.00000</td>\n",
       "      <td>0.00000</td>\n",
       "      <td>0.00000</td>\n",
       "      <td>0.00000</td>\n",
       "      <td>0.00000</td>\n",
       "      <td>0.00000</td>\n",
       "      <td>0.00000</td>\n",
       "      <td>0.00000</td>\n",
       "      <td>0.00000</td>\n",
       "    </tr>\n",
       "    <tr>\n",
       "      <th>5</th>\n",
       "      <td>Into the Inferno</td>\n",
       "      <td>2,016.00000</td>\n",
       "      <td>28 October 2016 (USA)</td>\n",
       "      <td>104.00000</td>\n",
       "      <td>104.00000</td>\n",
       "      <td>NaN</td>\n",
       "      <td>4,861.00000</td>\n",
       "      <td>3,679.00000</td>\n",
       "      <td>4,861.00000</td>\n",
       "      <td>7.20000</td>\n",
       "      <td>...</td>\n",
       "      <td>0.00000</td>\n",
       "      <td>0.00000</td>\n",
       "      <td>0.00000</td>\n",
       "      <td>0.00000</td>\n",
       "      <td>0.00000</td>\n",
       "      <td>0.00000</td>\n",
       "      <td>0.00000</td>\n",
       "      <td>0.00000</td>\n",
       "      <td>0.00000</td>\n",
       "      <td>0.00000</td>\n",
       "    </tr>\n",
       "  </tbody>\n",
       "</table>\n",
       "<p>5 rows × 567 columns</p>\n",
       "</div>"
      ],
      "text/plain": [
       "                                      title        year  \\\n",
       "1     Fireball: Visitors from Darker Worlds 2,020.00000   \n",
       "2                       Family Romance, LLC 2,019.00000   \n",
       "3  Nomad: In the Footsteps of Bruce Chatwin 2,019.00000   \n",
       "4                         Meeting Gorbachev 2,018.00000   \n",
       "5                          Into the Inferno 2,016.00000   \n",
       "\n",
       "                        release_date  duration   runtime  budget  \\\n",
       "1   13 November 2020 (Australia)      97.00000  97.00000     NaN   \n",
       "2              3 July 2020 (USA)      89.00000  89.00000     NaN   \n",
       "3           26 August 2020 (USA)      85.00000  85.00000     NaN   \n",
       "4               3 May 2019 (USA)      90.00000  90.00000     NaN   \n",
       "5          28 October 2016 (USA)     104.00000 104.00000     NaN   \n",
       "\n",
       "   worldwide_gross  worldwide_gross_imdb worldwide_gross_bo  rating  ...  \\\n",
       "1              NaN                   NaN                NaN 7.00000  ...   \n",
       "2      3,126.00000           3,126.00000                NaN 6.70000  ...   \n",
       "3     78,100.00000          78,100.00000                NaN 6.90000  ...   \n",
       "4    327,912.00000         319,230.00000      327,912.00000 7.20000  ...   \n",
       "5      4,861.00000           3,679.00000        4,861.00000 7.20000  ...   \n",
       "\n",
       "   Samuel S. Bowser  David R. Pacheco Jr.  Regina Eisert  Olav T. Oftedal  \\\n",
       "1           0.00000               0.00000        0.00000          0.00000   \n",
       "2           0.00000               0.00000        0.00000          0.00000   \n",
       "3           0.00000               0.00000        0.00000          0.00000   \n",
       "4           0.00000               0.00000        0.00000          0.00000   \n",
       "5           0.00000               0.00000        0.00000          0.00000   \n",
       "\n",
       "  Kevin Emery  Ryan Andrew Evans  Doug MacAyeal  Stefan Pashov  Scott Rowland  \\\n",
       "1     0.00000            0.00000        0.00000        0.00000        0.00000   \n",
       "2     0.00000            0.00000        0.00000        0.00000        0.00000   \n",
       "3     0.00000            0.00000        0.00000        0.00000        0.00000   \n",
       "4     0.00000            0.00000        0.00000        0.00000        0.00000   \n",
       "5     0.00000            0.00000        0.00000        0.00000        0.00000   \n",
       "\n",
       "   Reinhard Lichtenberg  \n",
       "1               0.00000  \n",
       "2               0.00000  \n",
       "3               0.00000  \n",
       "4               0.00000  \n",
       "5               0.00000  \n",
       "\n",
       "[5 rows x 567 columns]"
      ]
     },
     "execution_count": 4,
     "metadata": {},
     "output_type": "execute_result"
    }
   ],
   "source": [
    "films_to_analyze.head()"
   ]
  },
  {
   "cell_type": "code",
   "execution_count": 5,
   "metadata": {},
   "outputs": [],
   "source": [
    "prevalent_actors_filename  = 'prevalent_actors_' + director\n",
    "with open(dir_str + prevalent_actors_filename, 'rb') as read_file:\n",
    "    prevalent_actor_columns = pickle.load(read_file)"
   ]
  },
  {
   "cell_type": "code",
   "execution_count": 6,
   "metadata": {},
   "outputs": [
    {
     "data": {
      "text/plain": [
       "Index(['Werner Herzog', 'Klaus Kinski', 'Volker Prechtel', 'Brad Dourif',\n",
       "       'Peter Berling', 'Clemens Scheitz', 'Michael Shannon', 'Eva Mattes'],\n",
       "      dtype='object')"
      ]
     },
     "execution_count": 6,
     "metadata": {},
     "output_type": "execute_result"
    }
   ],
   "source": [
    "prevalent_actor_columns"
   ]
  },
  {
   "cell_type": "code",
   "execution_count": 7,
   "metadata": {},
   "outputs": [],
   "source": [
    "pickled_dict_of_actors_filename = 'dict_of_actors_' + director +'.pickle'\n",
    "with open(dir_str + pickled_dict_of_actors_filename, 'rb') as read_file:\n",
    "    dict_of_all_actors  = pickle.load(read_file) "
   ]
  },
  {
   "cell_type": "code",
   "execution_count": 8,
   "metadata": {},
   "outputs": [],
   "source": [
    "analysis_columns = ['title', 'year', 'duration', 'cinematographer', 'documentary', 'tv_series','rating', 'rating_count', *prevalent_actor_columns]"
   ]
  },
  {
   "cell_type": "code",
   "execution_count": 9,
   "metadata": {},
   "outputs": [
    {
     "data": {
      "text/plain": [
       "['title',\n",
       " 'year',\n",
       " 'duration',\n",
       " 'cinematographer',\n",
       " 'documentary',\n",
       " 'tv_series',\n",
       " 'rating',\n",
       " 'rating_count',\n",
       " 'Werner Herzog',\n",
       " 'Klaus Kinski',\n",
       " 'Volker Prechtel',\n",
       " 'Brad Dourif',\n",
       " 'Peter Berling',\n",
       " 'Clemens Scheitz',\n",
       " 'Michael Shannon',\n",
       " 'Eva Mattes']"
      ]
     },
     "execution_count": 9,
     "metadata": {},
     "output_type": "execute_result"
    }
   ],
   "source": [
    "analysis_columns"
   ]
  },
  {
   "cell_type": "markdown",
   "metadata": {},
   "source": [
    "## Dataset partitioned for analysis\n",
    "except one-hot-encoding `cinematographer`"
   ]
  },
  {
   "cell_type": "code",
   "execution_count": 10,
   "metadata": {},
   "outputs": [
    {
     "data": {
      "text/html": [
       "<div>\n",
       "<style scoped>\n",
       "    .dataframe tbody tr th:only-of-type {\n",
       "        vertical-align: middle;\n",
       "    }\n",
       "\n",
       "    .dataframe tbody tr th {\n",
       "        vertical-align: top;\n",
       "    }\n",
       "\n",
       "    .dataframe thead th {\n",
       "        text-align: right;\n",
       "    }\n",
       "</style>\n",
       "<table border=\"1\" class=\"dataframe\">\n",
       "  <thead>\n",
       "    <tr style=\"text-align: right;\">\n",
       "      <th></th>\n",
       "      <th>title</th>\n",
       "      <th>year</th>\n",
       "      <th>release_date</th>\n",
       "      <th>duration</th>\n",
       "      <th>runtime</th>\n",
       "      <th>budget</th>\n",
       "      <th>worldwide_gross</th>\n",
       "      <th>worldwide_gross_imdb</th>\n",
       "      <th>worldwide_gross_bo</th>\n",
       "      <th>rating</th>\n",
       "      <th>...</th>\n",
       "      <th>Samuel S. Bowser</th>\n",
       "      <th>David R. Pacheco Jr.</th>\n",
       "      <th>Regina Eisert</th>\n",
       "      <th>Olav T. Oftedal</th>\n",
       "      <th>Kevin Emery</th>\n",
       "      <th>Ryan Andrew Evans</th>\n",
       "      <th>Doug MacAyeal</th>\n",
       "      <th>Stefan Pashov</th>\n",
       "      <th>Scott Rowland</th>\n",
       "      <th>Reinhard Lichtenberg</th>\n",
       "    </tr>\n",
       "  </thead>\n",
       "  <tbody>\n",
       "    <tr>\n",
       "      <th>1</th>\n",
       "      <td>Fireball: Visitors from Darker Worlds</td>\n",
       "      <td>2,020.00000</td>\n",
       "      <td>13 November 2020 (Australia)</td>\n",
       "      <td>97.00000</td>\n",
       "      <td>97.00000</td>\n",
       "      <td>NaN</td>\n",
       "      <td>NaN</td>\n",
       "      <td>NaN</td>\n",
       "      <td>NaN</td>\n",
       "      <td>7.00000</td>\n",
       "      <td>...</td>\n",
       "      <td>0.00000</td>\n",
       "      <td>0.00000</td>\n",
       "      <td>0.00000</td>\n",
       "      <td>0.00000</td>\n",
       "      <td>0.00000</td>\n",
       "      <td>0.00000</td>\n",
       "      <td>0.00000</td>\n",
       "      <td>0.00000</td>\n",
       "      <td>0.00000</td>\n",
       "      <td>0.00000</td>\n",
       "    </tr>\n",
       "    <tr>\n",
       "      <th>2</th>\n",
       "      <td>Family Romance, LLC</td>\n",
       "      <td>2,019.00000</td>\n",
       "      <td>3 July 2020 (USA)</td>\n",
       "      <td>89.00000</td>\n",
       "      <td>89.00000</td>\n",
       "      <td>NaN</td>\n",
       "      <td>3,126.00000</td>\n",
       "      <td>3,126.00000</td>\n",
       "      <td>NaN</td>\n",
       "      <td>6.70000</td>\n",
       "      <td>...</td>\n",
       "      <td>0.00000</td>\n",
       "      <td>0.00000</td>\n",
       "      <td>0.00000</td>\n",
       "      <td>0.00000</td>\n",
       "      <td>0.00000</td>\n",
       "      <td>0.00000</td>\n",
       "      <td>0.00000</td>\n",
       "      <td>0.00000</td>\n",
       "      <td>0.00000</td>\n",
       "      <td>0.00000</td>\n",
       "    </tr>\n",
       "    <tr>\n",
       "      <th>3</th>\n",
       "      <td>Nomad: In the Footsteps of Bruce Chatwin</td>\n",
       "      <td>2,019.00000</td>\n",
       "      <td>26 August 2020 (USA)</td>\n",
       "      <td>85.00000</td>\n",
       "      <td>85.00000</td>\n",
       "      <td>NaN</td>\n",
       "      <td>78,100.00000</td>\n",
       "      <td>78,100.00000</td>\n",
       "      <td>NaN</td>\n",
       "      <td>6.90000</td>\n",
       "      <td>...</td>\n",
       "      <td>0.00000</td>\n",
       "      <td>0.00000</td>\n",
       "      <td>0.00000</td>\n",
       "      <td>0.00000</td>\n",
       "      <td>0.00000</td>\n",
       "      <td>0.00000</td>\n",
       "      <td>0.00000</td>\n",
       "      <td>0.00000</td>\n",
       "      <td>0.00000</td>\n",
       "      <td>0.00000</td>\n",
       "    </tr>\n",
       "    <tr>\n",
       "      <th>4</th>\n",
       "      <td>Meeting Gorbachev</td>\n",
       "      <td>2,018.00000</td>\n",
       "      <td>3 May 2019 (USA)</td>\n",
       "      <td>90.00000</td>\n",
       "      <td>90.00000</td>\n",
       "      <td>NaN</td>\n",
       "      <td>327,912.00000</td>\n",
       "      <td>319,230.00000</td>\n",
       "      <td>327,912.00000</td>\n",
       "      <td>7.20000</td>\n",
       "      <td>...</td>\n",
       "      <td>0.00000</td>\n",
       "      <td>0.00000</td>\n",
       "      <td>0.00000</td>\n",
       "      <td>0.00000</td>\n",
       "      <td>0.00000</td>\n",
       "      <td>0.00000</td>\n",
       "      <td>0.00000</td>\n",
       "      <td>0.00000</td>\n",
       "      <td>0.00000</td>\n",
       "      <td>0.00000</td>\n",
       "    </tr>\n",
       "    <tr>\n",
       "      <th>5</th>\n",
       "      <td>Into the Inferno</td>\n",
       "      <td>2,016.00000</td>\n",
       "      <td>28 October 2016 (USA)</td>\n",
       "      <td>104.00000</td>\n",
       "      <td>104.00000</td>\n",
       "      <td>NaN</td>\n",
       "      <td>4,861.00000</td>\n",
       "      <td>3,679.00000</td>\n",
       "      <td>4,861.00000</td>\n",
       "      <td>7.20000</td>\n",
       "      <td>...</td>\n",
       "      <td>0.00000</td>\n",
       "      <td>0.00000</td>\n",
       "      <td>0.00000</td>\n",
       "      <td>0.00000</td>\n",
       "      <td>0.00000</td>\n",
       "      <td>0.00000</td>\n",
       "      <td>0.00000</td>\n",
       "      <td>0.00000</td>\n",
       "      <td>0.00000</td>\n",
       "      <td>0.00000</td>\n",
       "    </tr>\n",
       "  </tbody>\n",
       "</table>\n",
       "<p>5 rows × 567 columns</p>\n",
       "</div>"
      ],
      "text/plain": [
       "                                      title        year  \\\n",
       "1     Fireball: Visitors from Darker Worlds 2,020.00000   \n",
       "2                       Family Romance, LLC 2,019.00000   \n",
       "3  Nomad: In the Footsteps of Bruce Chatwin 2,019.00000   \n",
       "4                         Meeting Gorbachev 2,018.00000   \n",
       "5                          Into the Inferno 2,016.00000   \n",
       "\n",
       "                        release_date  duration   runtime  budget  \\\n",
       "1   13 November 2020 (Australia)      97.00000  97.00000     NaN   \n",
       "2              3 July 2020 (USA)      89.00000  89.00000     NaN   \n",
       "3           26 August 2020 (USA)      85.00000  85.00000     NaN   \n",
       "4               3 May 2019 (USA)      90.00000  90.00000     NaN   \n",
       "5          28 October 2016 (USA)     104.00000 104.00000     NaN   \n",
       "\n",
       "   worldwide_gross  worldwide_gross_imdb worldwide_gross_bo  rating  ...  \\\n",
       "1              NaN                   NaN                NaN 7.00000  ...   \n",
       "2      3,126.00000           3,126.00000                NaN 6.70000  ...   \n",
       "3     78,100.00000          78,100.00000                NaN 6.90000  ...   \n",
       "4    327,912.00000         319,230.00000      327,912.00000 7.20000  ...   \n",
       "5      4,861.00000           3,679.00000        4,861.00000 7.20000  ...   \n",
       "\n",
       "   Samuel S. Bowser  David R. Pacheco Jr.  Regina Eisert  Olav T. Oftedal  \\\n",
       "1           0.00000               0.00000        0.00000          0.00000   \n",
       "2           0.00000               0.00000        0.00000          0.00000   \n",
       "3           0.00000               0.00000        0.00000          0.00000   \n",
       "4           0.00000               0.00000        0.00000          0.00000   \n",
       "5           0.00000               0.00000        0.00000          0.00000   \n",
       "\n",
       "  Kevin Emery  Ryan Andrew Evans  Doug MacAyeal  Stefan Pashov  Scott Rowland  \\\n",
       "1     0.00000            0.00000        0.00000        0.00000        0.00000   \n",
       "2     0.00000            0.00000        0.00000        0.00000        0.00000   \n",
       "3     0.00000            0.00000        0.00000        0.00000        0.00000   \n",
       "4     0.00000            0.00000        0.00000        0.00000        0.00000   \n",
       "5     0.00000            0.00000        0.00000        0.00000        0.00000   \n",
       "\n",
       "   Reinhard Lichtenberg  \n",
       "1               0.00000  \n",
       "2               0.00000  \n",
       "3               0.00000  \n",
       "4               0.00000  \n",
       "5               0.00000  \n",
       "\n",
       "[5 rows x 567 columns]"
      ]
     },
     "execution_count": 10,
     "metadata": {},
     "output_type": "execute_result"
    }
   ],
   "source": [
    "films_to_analyze.head()"
   ]
  },
  {
   "cell_type": "code",
   "execution_count": null,
   "metadata": {},
   "outputs": [],
   "source": []
  },
  {
   "cell_type": "code",
   "execution_count": 11,
   "metadata": {},
   "outputs": [],
   "source": [
    "films_and_features_to_analyze_df = films_to_analyze[analysis_columns]"
   ]
  },
  {
   "cell_type": "code",
   "execution_count": 12,
   "metadata": {},
   "outputs": [
    {
     "data": {
      "text/html": [
       "<div>\n",
       "<style scoped>\n",
       "    .dataframe tbody tr th:only-of-type {\n",
       "        vertical-align: middle;\n",
       "    }\n",
       "\n",
       "    .dataframe tbody tr th {\n",
       "        vertical-align: top;\n",
       "    }\n",
       "\n",
       "    .dataframe thead th {\n",
       "        text-align: right;\n",
       "    }\n",
       "</style>\n",
       "<table border=\"1\" class=\"dataframe\">\n",
       "  <thead>\n",
       "    <tr style=\"text-align: right;\">\n",
       "      <th></th>\n",
       "      <th>title</th>\n",
       "      <th>year</th>\n",
       "      <th>duration</th>\n",
       "      <th>cinematographer</th>\n",
       "      <th>documentary</th>\n",
       "      <th>tv_series</th>\n",
       "      <th>rating</th>\n",
       "      <th>rating_count</th>\n",
       "      <th>Werner Herzog</th>\n",
       "      <th>Klaus Kinski</th>\n",
       "      <th>Volker Prechtel</th>\n",
       "      <th>Brad Dourif</th>\n",
       "      <th>Peter Berling</th>\n",
       "      <th>Clemens Scheitz</th>\n",
       "      <th>Michael Shannon</th>\n",
       "      <th>Eva Mattes</th>\n",
       "    </tr>\n",
       "  </thead>\n",
       "  <tbody>\n",
       "    <tr>\n",
       "      <th>1</th>\n",
       "      <td>Fireball: Visitors from Darker Worlds</td>\n",
       "      <td>2,020.00000</td>\n",
       "      <td>97.00000</td>\n",
       "      <td>Peter Zeitlinger</td>\n",
       "      <td>1.00000</td>\n",
       "      <td>0.00000</td>\n",
       "      <td>7.00000</td>\n",
       "      <td>1,439.00000</td>\n",
       "      <td>1.00000</td>\n",
       "      <td>0.00000</td>\n",
       "      <td>0.00000</td>\n",
       "      <td>0.00000</td>\n",
       "      <td>0.00000</td>\n",
       "      <td>0.00000</td>\n",
       "      <td>0.00000</td>\n",
       "      <td>0.00000</td>\n",
       "    </tr>\n",
       "    <tr>\n",
       "      <th>2</th>\n",
       "      <td>Family Romance, LLC</td>\n",
       "      <td>2,019.00000</td>\n",
       "      <td>89.00000</td>\n",
       "      <td>Werner Herzog</td>\n",
       "      <td>0.00000</td>\n",
       "      <td>0.00000</td>\n",
       "      <td>6.70000</td>\n",
       "      <td>1,913.00000</td>\n",
       "      <td>0.00000</td>\n",
       "      <td>0.00000</td>\n",
       "      <td>0.00000</td>\n",
       "      <td>0.00000</td>\n",
       "      <td>0.00000</td>\n",
       "      <td>0.00000</td>\n",
       "      <td>0.00000</td>\n",
       "      <td>0.00000</td>\n",
       "    </tr>\n",
       "    <tr>\n",
       "      <th>3</th>\n",
       "      <td>Nomad: In the Footsteps of Bruce Chatwin</td>\n",
       "      <td>2,019.00000</td>\n",
       "      <td>85.00000</td>\n",
       "      <td>Louis Caulfield</td>\n",
       "      <td>1.00000</td>\n",
       "      <td>0.00000</td>\n",
       "      <td>6.90000</td>\n",
       "      <td>551.00000</td>\n",
       "      <td>1.00000</td>\n",
       "      <td>0.00000</td>\n",
       "      <td>0.00000</td>\n",
       "      <td>0.00000</td>\n",
       "      <td>0.00000</td>\n",
       "      <td>0.00000</td>\n",
       "      <td>0.00000</td>\n",
       "      <td>0.00000</td>\n",
       "    </tr>\n",
       "    <tr>\n",
       "      <th>4</th>\n",
       "      <td>Meeting Gorbachev</td>\n",
       "      <td>2,018.00000</td>\n",
       "      <td>90.00000</td>\n",
       "      <td>Yuri Burak</td>\n",
       "      <td>1.00000</td>\n",
       "      <td>0.00000</td>\n",
       "      <td>7.20000</td>\n",
       "      <td>1,694.00000</td>\n",
       "      <td>1.00000</td>\n",
       "      <td>0.00000</td>\n",
       "      <td>0.00000</td>\n",
       "      <td>0.00000</td>\n",
       "      <td>0.00000</td>\n",
       "      <td>0.00000</td>\n",
       "      <td>0.00000</td>\n",
       "      <td>0.00000</td>\n",
       "    </tr>\n",
       "    <tr>\n",
       "      <th>5</th>\n",
       "      <td>Into the Inferno</td>\n",
       "      <td>2,016.00000</td>\n",
       "      <td>104.00000</td>\n",
       "      <td>Peter Zeitlinger</td>\n",
       "      <td>1.00000</td>\n",
       "      <td>0.00000</td>\n",
       "      <td>7.20000</td>\n",
       "      <td>7,392.00000</td>\n",
       "      <td>1.00000</td>\n",
       "      <td>0.00000</td>\n",
       "      <td>0.00000</td>\n",
       "      <td>0.00000</td>\n",
       "      <td>0.00000</td>\n",
       "      <td>0.00000</td>\n",
       "      <td>0.00000</td>\n",
       "      <td>0.00000</td>\n",
       "    </tr>\n",
       "  </tbody>\n",
       "</table>\n",
       "</div>"
      ],
      "text/plain": [
       "                                      title        year  duration  \\\n",
       "1     Fireball: Visitors from Darker Worlds 2,020.00000  97.00000   \n",
       "2                       Family Romance, LLC 2,019.00000  89.00000   \n",
       "3  Nomad: In the Footsteps of Bruce Chatwin 2,019.00000  85.00000   \n",
       "4                         Meeting Gorbachev 2,018.00000  90.00000   \n",
       "5                          Into the Inferno 2,016.00000 104.00000   \n",
       "\n",
       "    cinematographer  documentary  tv_series  rating  rating_count  \\\n",
       "1  Peter Zeitlinger      1.00000    0.00000 7.00000   1,439.00000   \n",
       "2     Werner Herzog      0.00000    0.00000 6.70000   1,913.00000   \n",
       "3   Louis Caulfield      1.00000    0.00000 6.90000     551.00000   \n",
       "4        Yuri Burak      1.00000    0.00000 7.20000   1,694.00000   \n",
       "5  Peter Zeitlinger      1.00000    0.00000 7.20000   7,392.00000   \n",
       "\n",
       "   Werner Herzog  Klaus Kinski  Volker Prechtel  Brad Dourif  Peter Berling  \\\n",
       "1        1.00000       0.00000          0.00000      0.00000        0.00000   \n",
       "2        0.00000       0.00000          0.00000      0.00000        0.00000   \n",
       "3        1.00000       0.00000          0.00000      0.00000        0.00000   \n",
       "4        1.00000       0.00000          0.00000      0.00000        0.00000   \n",
       "5        1.00000       0.00000          0.00000      0.00000        0.00000   \n",
       "\n",
       "   Clemens Scheitz  Michael Shannon  Eva Mattes  \n",
       "1          0.00000          0.00000     0.00000  \n",
       "2          0.00000          0.00000     0.00000  \n",
       "3          0.00000          0.00000     0.00000  \n",
       "4          0.00000          0.00000     0.00000  \n",
       "5          0.00000          0.00000     0.00000  "
      ]
     },
     "execution_count": 12,
     "metadata": {},
     "output_type": "execute_result"
    }
   ],
   "source": [
    "films_and_features_to_analyze_df.head() "
   ]
  },
  {
   "cell_type": "raw",
   "metadata": {},
   "source": [
    "x_label = 'year'\n",
    "y_label = 'rating'\n",
    "x_ = films_and_features_to_analyze_df[x_label]\n",
    "y_ = films_and_features_to_analyze_df[y_label]"
   ]
  },
  {
   "cell_type": "raw",
   "metadata": {},
   "source": [
    "films_and_features_to_analyze_df.columns"
   ]
  },
  {
   "cell_type": "raw",
   "metadata": {},
   "source": [
    "plt.figure(figsize=(16,8))\n",
    "\n",
    "size_ = 300\n",
    "alpha_ = .6\n",
    "plt.xlabel(x_label, fontsize='18')\n",
    "plt.ylabel(y_label, fontsize='18')\n",
    "plt.title(director.title() + ' movies', fontsize='20')\n",
    "cmap=plt.get_cmap(\"cool\")\n",
    "color_dimension = 'duration'\n",
    "cm=films_and_features_to_analyze_df[color_dimension].tolist()\n",
    "\n",
    "category = 'tv_series'\n",
    "plt.scatter(x=x_, y=y_, marker='o', alpha=alpha_, c=cm,cmap=\"cool\", s=(size_,))\n",
    "plt.colorbar(label=color_dimension)"
   ]
  },
  {
   "cell_type": "raw",
   "metadata": {},
   "source": [
    "plt.figure(figsize=(16,8))\n",
    "\n",
    "size_ = 300\n",
    "alpha_ = .6\n",
    "plt.xlabel(x_label, fontsize='18')\n",
    "plt.ylabel(y_label, fontsize='18')\n",
    "plt.title(director.title() + ' movies', fontsize='20')\n",
    "\n",
    "category = 'tv_series'\n",
    "plt.scatter(x=x_, y=y_, marker='o', alpha=alpha_, c = films_and_features_to_analyze_df[category], s=(size_,))"
   ]
  },
  {
   "cell_type": "raw",
   "metadata": {},
   "source": [
    "x_label = 'year'\n",
    "y_label = 'duration'\n",
    "x_ = films_and_features_to_analyze_df[x_label]\n",
    "y_ = films_and_features_to_analyze_df[y_label]"
   ]
  },
  {
   "cell_type": "raw",
   "metadata": {},
   "source": [
    "plt.figure(figsize=(16,8))\n",
    "\n",
    "size_ = 300\n",
    "alpha_ = .6\n",
    "plt.xlabel(x_label, fontsize='18')\n",
    "plt.ylabel(y_label, fontsize='18')\n",
    "plt.title(director.title() + ' movies', fontsize='20')\n",
    "cmap=plt.get_cmap(\"cool\")\n",
    "color_dimension = 'rating'\n",
    "cm=films_and_features_to_analyze_df[color_dimension ].tolist()\n",
    "category = 'tv_series'\n",
    "plt.scatter(x=x_, y=y_, marker='o', alpha=alpha_, c=cm,cmap=\"cool\", s=(size_,))\n",
    "plt.colorbar(label=color_dimension )"
   ]
  },
  {
   "cell_type": "raw",
   "metadata": {},
   "source": [
    "plt.figure(figsize=(16,8))\n",
    "\n",
    "size_ = 300\n",
    "alpha_ = .6\n",
    "plt.xlabel(x_label, fontsize='18')\n",
    "plt.ylabel(y_label, fontsize='18')\n",
    "plt.title(director.title() + ' movies', fontsize='20')\n",
    "category = 'tv_series'\n",
    "plt.scatter(x=x_, y=y_, marker='o', alpha=alpha_, c = films_and_features_to_analyze_df[category], s=(size_,))\n"
   ]
  },
  {
   "cell_type": "raw",
   "metadata": {},
   "source": []
  },
  {
   "cell_type": "raw",
   "metadata": {},
   "source": [
    "plt.figure(figsize=(16,8))\n",
    "\n",
    "size_ = 300\n",
    "alpha_ = .6\n",
    "plt.xlabel(x_label, fontsize='18')\n",
    "plt.ylabel(y_label, fontsize='18')\n",
    "plt.title(director.title() + ' movies', fontsize='20')\n",
    "category = 'tv_series'\n",
    "plt.scatter(x=x_, y=y_, marker='o', alpha=alpha_, c = films_and_features_to_analyze_df[category], s=(size_,))\n"
   ]
  },
  {
   "cell_type": "raw",
   "metadata": {},
   "source": [
    "plt.figure(figsize=(16,8))\n",
    "\n",
    "size_ = 300\n",
    "alpha_ = .6\n",
    "plt.xlabel(x_label, fontsize='18')\n",
    "plt.ylabel(y_label, fontsize='18')\n",
    "plt.title(director.title() + ' movies', fontsize='20')\n",
    "cmap=plt.get_cmap(\"cool\")\n",
    "color_dimension = 'rating_count'\n",
    "cmap=plt.get_cmap(\"cool\")\n",
    "cm=films_and_features_to_analyze_df[color_dimension ].tolist()\n",
    "category = 'tv_series'\n",
    "plt.scatter(x=x_, y=y_, marker='o', alpha=alpha_, c=cm,cmap=\"cool\", s=(size_,))\n",
    "plt.colorbar(label=color_dimension )\n",
    "#plt.scatter(x=x_, y=y_, marker='o', alpha=alpha_, c = films_and_features_to_analyze_df[category], s=(size_,))"
   ]
  },
  {
   "cell_type": "raw",
   "metadata": {},
   "source": []
  },
  {
   "cell_type": "raw",
   "metadata": {},
   "source": []
  },
  {
   "cell_type": "raw",
   "metadata": {},
   "source": [
    "x_label = 'year'\n",
    "y_label = 'rating_count'\n",
    "x_ = films_and_features_to_analyze_df[x_label]\n",
    "y_ = films_and_features_to_analyze_df[y_label]"
   ]
  },
  {
   "cell_type": "raw",
   "metadata": {},
   "source": [
    "plt.figure(figsize=(16,8))\n",
    "size_ = 300\n",
    "alpha_ = .6\n",
    "plt.xlabel(x_label, fontsize='18')\n",
    "plt.ylabel(y_label, fontsize='18')\n",
    "plt.title(director.title() + ' movies ', fontsize='20')\n",
    "category = 'tv_series'\n",
    "plt.scatter(x=x_, y=y_, marker='o', alpha=alpha_, c = films_and_features_to_analyze_df[category], s=(size_,))\n"
   ]
  },
  {
   "cell_type": "raw",
   "metadata": {},
   "source": [
    "plt.figure(figsize=(16,8))\n",
    "size_ = 300\n",
    "alpha_ = .6\n",
    "plt.xlabel(x_label, fontsize='18')\n",
    "plt.ylabel(y_label, fontsize='18')\n",
    "plt.title(director.title() + ' movies ', fontsize='20')\n",
    "color_dimension = 'duration'\n",
    "\n",
    "cm=films_and_features_to_analyze_df[color_dimension ].tolist()\n",
    "cmap=plt.get_cmap(\"cool\")\n",
    "category = 'tv_series'\n",
    "plt.scatter(x=x_, y=y_, marker='o', alpha=alpha_, c=cm,cmap=\"cool\", s=(size_,))\n",
    "plt.colorbar(label=color_dimension )"
   ]
  },
  {
   "cell_type": "raw",
   "metadata": {},
   "source": [
    "#films_and_features_to_analyze_df[films_and_features_to_analyze_df['tv_series']!=1]"
   ]
  },
  {
   "cell_type": "raw",
   "metadata": {},
   "source": [
    "x_label = 'year'\n",
    "y_label = 'rating_count'\n",
    "x_ = films_and_features_to_analyze_df[films_and_features_to_analyze_df['tv_series']!=1][x_label]\n",
    "y_ = films_and_features_to_analyze_df[films_and_features_to_analyze_df['tv_series']!=1][y_label]"
   ]
  },
  {
   "cell_type": "raw",
   "metadata": {},
   "source": [
    "plt.figure(figsize=(16,8))\n",
    "size_ = 300\n",
    "alpha_ = .6\n",
    "plt.xlabel(x_label, fontsize='18')\n",
    "plt.ylabel(y_label, fontsize='18')\n",
    "plt.title(director.title() + ' movies ', fontsize='20')\n",
    "color_dimension = 'duration'\n",
    "\n",
    "cm=films_and_features_to_analyze_df[films_and_features_to_analyze_df['tv_series']!=1][color_dimension ].tolist()\n",
    "cmap=plt.get_cmap(\"cool\")\n",
    "#category = 'tv_series'\n",
    "plt.scatter(x=x_, y=y_, marker='o', alpha=alpha_, c=cm,cmap=\"cool\", s=(size_,))\n",
    "plt.colorbar(label=color_dimension )"
   ]
  },
  {
   "cell_type": "raw",
   "metadata": {},
   "source": [
    "print( min(x_), max(x_))"
   ]
  },
  {
   "cell_type": "raw",
   "metadata": {},
   "source": [
    "from scipy import signal\n",
    "signal.unit_impulse(1960) # come back to this to attempt to model \"dirac impulse response\" \n",
    "# for rating count based on year"
   ]
  },
  {
   "cell_type": "raw",
   "metadata": {},
   "source": []
  },
  {
   "cell_type": "raw",
   "metadata": {},
   "source": [
    "films_and_features_to_analyze_df[films_and_features_to_analyze_df['duration'] <65]"
   ]
  },
  {
   "cell_type": "raw",
   "metadata": {},
   "source": [
    "#### Breakdown by **cinematographers**, \n",
    "(for instance Jack E. Cox, Robert Burks, and Bernard Knowles in Hitchcock dataset)"
   ]
  },
  {
   "cell_type": "raw",
   "metadata": {},
   "source": [
    "cinematographer = 'Jack E. Cox'"
   ]
  },
  {
   "cell_type": "raw",
   "metadata": {},
   "source": [
    "ctgrphr_flix = films_and_features_to_analyze_df[films_and_features_to_analyze_df['cinematographer']==cinematographer]\n",
    "other_flix = films_and_features_to_analyze_df[films_and_features_to_analyze_df['cinematographer']!=cinematographer]\n"
   ]
  },
  {
   "cell_type": "raw",
   "metadata": {},
   "source": []
  },
  {
   "cell_type": "raw",
   "metadata": {},
   "source": [
    "x_label = 'year'\n",
    "y_label = 'rating'\n",
    "\n",
    "x_cox = ctgrphr_flix[x_label]\n",
    "y_cox = ctgrphr_flix[y_label]\n",
    "x_non_cox = other_flix[x_label]\n",
    "y_non_cox = other_flix[y_label]\n",
    "\n",
    "plt.figure(figsize=(16,8))\n",
    "\n",
    "size_ = 300\n",
    "alpha_ = .6\n",
    "plt.xlabel(x_label, fontsize='18')\n",
    "plt.ylabel(y_label, fontsize='18')\n",
    "plt.title(director.title() + ' movies: Breakdown by cinematographer ' + cinematographer, fontsize='18')\n",
    "\n",
    "category = 'tv_series'\n",
    "plt.scatter(x=x_cox, y=y_cox, marker='o', alpha=alpha_, c = 'r', s=(size_,))\n",
    "plt.scatter(x=x_non_cox, y=y_non_cox, marker='o', alpha=alpha_, c = 'b', s=(size_,))\n",
    "\n",
    "plt.show()"
   ]
  },
  {
   "cell_type": "raw",
   "metadata": {},
   "source": [
    "cinematographer = 'Robert Burks'"
   ]
  },
  {
   "cell_type": "raw",
   "metadata": {},
   "source": [
    "\n",
    "ctgrphr_flix = films_and_features_to_analyze_df[films_and_features_to_analyze_df['cinematographer']==cinematographer]\n",
    "other_flix = films_and_features_to_analyze_df[films_and_features_to_analyze_df['cinematographer']!=cinematographer]\n"
   ]
  },
  {
   "cell_type": "raw",
   "metadata": {},
   "source": [
    "x_label = 'year'\n",
    "y_label = 'rating'\n",
    "\n",
    "x_cox = ctgrphr_flix[x_label]\n",
    "y_cox = ctgrphr_flix[y_label]\n",
    "x_non_cox = other_flix[x_label]\n",
    "y_non_cox = other_flix[y_label]\n",
    "\n",
    "plt.figure(figsize=(16,8))\n",
    "\n",
    "size_ = 300\n",
    "alpha_ = .6\n",
    "plt.xlabel(x_label, fontsize='18')\n",
    "plt.ylabel(y_label, fontsize='18')\n",
    "plt.title(director.title() + ' movies: Breakdown by cinematographer ' + cinematographer, fontsize='18')\n",
    "\n",
    "category = 'tv_series'\n",
    "plt.scatter(x=x_cox, y=y_cox, marker='o', alpha=alpha_, c = 'r', s=(size_,))\n",
    "plt.scatter(x=x_non_cox, y=y_non_cox, marker='o', alpha=alpha_, c = 'b', s=(size_,))\n",
    "\n",
    "plt.show()"
   ]
  },
  {
   "cell_type": "raw",
   "metadata": {},
   "source": [
    "cinematographer = 'Bernard Knowles'"
   ]
  },
  {
   "cell_type": "raw",
   "metadata": {},
   "source": [
    "\n",
    "ctgrphr_flix = films_and_features_to_analyze_df[films_and_features_to_analyze_df['cinematographer']==cinematographer]\n",
    "other_flix = films_and_features_to_analyze_df[films_and_features_to_analyze_df['cinematographer']!=cinematographer]\n"
   ]
  },
  {
   "cell_type": "raw",
   "metadata": {},
   "source": [
    "x_label = 'year'\n",
    "y_label = 'rating'\n",
    "\n",
    "x_cox = ctgrphr_flix[x_label]\n",
    "y_cox = ctgrphr_flix[y_label]\n",
    "x_non_cox = other_flix[x_label]\n",
    "y_non_cox = other_flix[y_label]\n",
    "\n",
    "plt.figure(figsize=(16,8))\n",
    "\n",
    "size_ = 300\n",
    "alpha_ = .6\n",
    "plt.xlabel(x_label, fontsize='18')\n",
    "plt.ylabel(y_label, fontsize='18')\n",
    "plt.title(director.title() + ' movies: ' + 'Breakdown by cinematographer ' + cinematographer, fontsize='18')\n",
    "\n",
    "category = 'tv_series'\n",
    "plt.scatter(x=x_cox, y=y_cox, marker='o', alpha=alpha_, c = 'r', s=(size_,))\n",
    "plt.scatter(x=x_non_cox, y=y_non_cox, marker='o', alpha=alpha_, c = 'b', s=(size_,))\n",
    "\n",
    "plt.show()"
   ]
  },
  {
   "cell_type": "raw",
   "metadata": {},
   "source": [
    "#### Recode misc. cinematographers to `OTHER` to ameliorate issue of not dropping a column and also to increase the chance it will occur in the test set as well"
   ]
  },
  {
   "cell_type": "code",
   "execution_count": 13,
   "metadata": {},
   "outputs": [
    {
     "data": {
      "text/plain": [
       "1"
      ]
     },
     "execution_count": 13,
     "metadata": {},
     "output_type": "execute_result"
    }
   ],
   "source": [
    "cinematographer_include_threshold = films_and_features_to_analyze_df['cinematographer'].value_counts().min()\n",
    "cinematographer_include_threshold"
   ]
  },
  {
   "cell_type": "code",
   "execution_count": 14,
   "metadata": {},
   "outputs": [
    {
     "name": "stderr",
     "output_type": "stream",
     "text": [
      "/opt/anaconda3/envs/metis/lib/python3.8/site-packages/pandas/core/series.py:4479: SettingWithCopyWarning: \n",
      "A value is trying to be set on a copy of a slice from a DataFrame\n",
      "\n",
      "See the caveats in the documentation: https://pandas.pydata.org/pandas-docs/stable/user_guide/indexing.html#returning-a-view-versus-a-copy\n",
      "  return super().replace(\n"
     ]
    }
   ],
   "source": [
    "value_counts = films_and_features_to_analyze_df['cinematographer'].value_counts() # Specific column \n",
    "to_remove = value_counts[value_counts <= cinematographer_include_threshold].index\n",
    "films_and_features_to_analyze_df['cinematographer'].replace(to_remove, 'OTHER', inplace=True)"
   ]
  },
  {
   "cell_type": "code",
   "execution_count": null,
   "metadata": {},
   "outputs": [],
   "source": []
  },
  {
   "cell_type": "markdown",
   "metadata": {},
   "source": [
    "### Regression analysis on `rating`,  `duration`, and `year` etc"
   ]
  },
  {
   "cell_type": "markdown",
   "metadata": {},
   "source": [
    "#### `rating` as target"
   ]
  },
  {
   "cell_type": "markdown",
   "metadata": {},
   "source": [
    "### Selecting columns for Train Test Split"
   ]
  },
  {
   "cell_type": "code",
   "execution_count": 15,
   "metadata": {
    "scrolled": true
   },
   "outputs": [
    {
     "data": {
      "text/plain": [
       "Index(['title', 'year', 'duration', 'cinematographer', 'documentary',\n",
       "       'tv_series', 'rating', 'rating_count', 'Werner Herzog', 'Klaus Kinski',\n",
       "       'Volker Prechtel', 'Brad Dourif', 'Peter Berling', 'Clemens Scheitz',\n",
       "       'Michael Shannon', 'Eva Mattes'],\n",
       "      dtype='object')"
      ]
     },
     "execution_count": 15,
     "metadata": {},
     "output_type": "execute_result"
    }
   ],
   "source": [
    "films_and_features_to_analyze_df.columns # review columns we start with"
   ]
  },
  {
   "cell_type": "code",
   "execution_count": null,
   "metadata": {},
   "outputs": [],
   "source": []
  },
  {
   "cell_type": "code",
   "execution_count": 16,
   "metadata": {},
   "outputs": [],
   "source": [
    "selected_cols = [*films_and_features_to_analyze_df.columns[1:6], *films_and_features_to_analyze_df.columns[7:]]"
   ]
  },
  {
   "cell_type": "code",
   "execution_count": 17,
   "metadata": {},
   "outputs": [
    {
     "data": {
      "text/plain": [
       "['year',\n",
       " 'duration',\n",
       " 'cinematographer',\n",
       " 'documentary',\n",
       " 'tv_series',\n",
       " 'rating_count',\n",
       " 'Werner Herzog',\n",
       " 'Klaus Kinski',\n",
       " 'Volker Prechtel',\n",
       " 'Brad Dourif',\n",
       " 'Peter Berling',\n",
       " 'Clemens Scheitz',\n",
       " 'Michael Shannon',\n",
       " 'Eva Mattes']"
      ]
     },
     "execution_count": 17,
     "metadata": {},
     "output_type": "execute_result"
    }
   ],
   "source": [
    "selected_cols"
   ]
  },
  {
   "cell_type": "code",
   "execution_count": 18,
   "metadata": {},
   "outputs": [],
   "source": [
    "X= films_and_features_to_analyze_df[selected_cols]\n",
    "y= films_and_features_to_analyze_df['rating']"
   ]
  },
  {
   "cell_type": "code",
   "execution_count": 19,
   "metadata": {},
   "outputs": [
    {
     "data": {
      "text/plain": [
       "False"
      ]
     },
     "execution_count": 19,
     "metadata": {},
     "output_type": "execute_result"
    }
   ],
   "source": [
    "y.isnull().values.any()"
   ]
  },
  {
   "cell_type": "markdown",
   "metadata": {},
   "source": [
    "### Train-val vs. test split"
   ]
  },
  {
   "cell_type": "code",
   "execution_count": 20,
   "metadata": {},
   "outputs": [],
   "source": [
    "X_train_val, X_test, y_train_val, y_test = train_test_split(X, y, test_size=0.2,random_state=42)"
   ]
  },
  {
   "cell_type": "code",
   "execution_count": 21,
   "metadata": {},
   "outputs": [
    {
     "data": {
      "text/html": [
       "<div>\n",
       "<style scoped>\n",
       "    .dataframe tbody tr th:only-of-type {\n",
       "        vertical-align: middle;\n",
       "    }\n",
       "\n",
       "    .dataframe tbody tr th {\n",
       "        vertical-align: top;\n",
       "    }\n",
       "\n",
       "    .dataframe thead th {\n",
       "        text-align: right;\n",
       "    }\n",
       "</style>\n",
       "<table border=\"1\" class=\"dataframe\">\n",
       "  <thead>\n",
       "    <tr style=\"text-align: right;\">\n",
       "      <th></th>\n",
       "      <th>year</th>\n",
       "      <th>duration</th>\n",
       "      <th>cinematographer</th>\n",
       "      <th>documentary</th>\n",
       "      <th>tv_series</th>\n",
       "      <th>rating_count</th>\n",
       "      <th>Werner Herzog</th>\n",
       "      <th>Klaus Kinski</th>\n",
       "      <th>Volker Prechtel</th>\n",
       "      <th>Brad Dourif</th>\n",
       "      <th>Peter Berling</th>\n",
       "      <th>Clemens Scheitz</th>\n",
       "      <th>Michael Shannon</th>\n",
       "      <th>Eva Mattes</th>\n",
       "    </tr>\n",
       "  </thead>\n",
       "  <tbody>\n",
       "    <tr>\n",
       "      <th>1</th>\n",
       "      <td>2,020.00000</td>\n",
       "      <td>97.00000</td>\n",
       "      <td>Peter Zeitlinger</td>\n",
       "      <td>1.00000</td>\n",
       "      <td>0.00000</td>\n",
       "      <td>1,439.00000</td>\n",
       "      <td>1.00000</td>\n",
       "      <td>0.00000</td>\n",
       "      <td>0.00000</td>\n",
       "      <td>0.00000</td>\n",
       "      <td>0.00000</td>\n",
       "      <td>0.00000</td>\n",
       "      <td>0.00000</td>\n",
       "      <td>0.00000</td>\n",
       "    </tr>\n",
       "    <tr>\n",
       "      <th>6</th>\n",
       "      <td>2,016.00000</td>\n",
       "      <td>98.00000</td>\n",
       "      <td>Peter Zeitlinger</td>\n",
       "      <td>0.00000</td>\n",
       "      <td>0.00000</td>\n",
       "      <td>2,458.00000</td>\n",
       "      <td>0.00000</td>\n",
       "      <td>0.00000</td>\n",
       "      <td>0.00000</td>\n",
       "      <td>0.00000</td>\n",
       "      <td>0.00000</td>\n",
       "      <td>0.00000</td>\n",
       "      <td>1.00000</td>\n",
       "      <td>0.00000</td>\n",
       "    </tr>\n",
       "    <tr>\n",
       "      <th>40</th>\n",
       "      <td>1,990.00000</td>\n",
       "      <td>91.00000</td>\n",
       "      <td>OTHER</td>\n",
       "      <td>1.00000</td>\n",
       "      <td>0.00000</td>\n",
       "      <td>566.00000</td>\n",
       "      <td>1.00000</td>\n",
       "      <td>0.00000</td>\n",
       "      <td>0.00000</td>\n",
       "      <td>0.00000</td>\n",
       "      <td>0.00000</td>\n",
       "      <td>0.00000</td>\n",
       "      <td>0.00000</td>\n",
       "      <td>0.00000</td>\n",
       "    </tr>\n",
       "    <tr>\n",
       "      <th>51</th>\n",
       "      <td>1,981.00000</td>\n",
       "      <td>44.00000</td>\n",
       "      <td>Thomas Mauch</td>\n",
       "      <td>1.00000</td>\n",
       "      <td>1.00000</td>\n",
       "      <td>732.00000</td>\n",
       "      <td>0.00000</td>\n",
       "      <td>0.00000</td>\n",
       "      <td>0.00000</td>\n",
       "      <td>0.00000</td>\n",
       "      <td>0.00000</td>\n",
       "      <td>0.00000</td>\n",
       "      <td>0.00000</td>\n",
       "      <td>0.00000</td>\n",
       "    </tr>\n",
       "    <tr>\n",
       "      <th>14</th>\n",
       "      <td>2,010.00000</td>\n",
       "      <td>90.00000</td>\n",
       "      <td>OTHER</td>\n",
       "      <td>1.00000</td>\n",
       "      <td>0.00000</td>\n",
       "      <td>7,766.00000</td>\n",
       "      <td>1.00000</td>\n",
       "      <td>0.00000</td>\n",
       "      <td>0.00000</td>\n",
       "      <td>0.00000</td>\n",
       "      <td>0.00000</td>\n",
       "      <td>0.00000</td>\n",
       "      <td>0.00000</td>\n",
       "      <td>0.00000</td>\n",
       "    </tr>\n",
       "    <tr>\n",
       "      <th>62</th>\n",
       "      <td>1,971.00000</td>\n",
       "      <td>42.00000</td>\n",
       "      <td>Jörg Schmidt-Reitwein</td>\n",
       "      <td>1.00000</td>\n",
       "      <td>1.00000</td>\n",
       "      <td>393.00000</td>\n",
       "      <td>0.00000</td>\n",
       "      <td>0.00000</td>\n",
       "      <td>0.00000</td>\n",
       "      <td>0.00000</td>\n",
       "      <td>0.00000</td>\n",
       "      <td>0.00000</td>\n",
       "      <td>0.00000</td>\n",
       "      <td>0.00000</td>\n",
       "    </tr>\n",
       "    <tr>\n",
       "      <th>36</th>\n",
       "      <td>1,992.00000</td>\n",
       "      <td>54.00000</td>\n",
       "      <td>OTHER</td>\n",
       "      <td>1.00000</td>\n",
       "      <td>0.00000</td>\n",
       "      <td>5,376.00000</td>\n",
       "      <td>1.00000</td>\n",
       "      <td>0.00000</td>\n",
       "      <td>0.00000</td>\n",
       "      <td>0.00000</td>\n",
       "      <td>0.00000</td>\n",
       "      <td>0.00000</td>\n",
       "      <td>0.00000</td>\n",
       "      <td>0.00000</td>\n",
       "    </tr>\n",
       "    <tr>\n",
       "      <th>55</th>\n",
       "      <td>1,977.00000</td>\n",
       "      <td>115.00000</td>\n",
       "      <td>Thomas Mauch</td>\n",
       "      <td>0.00000</td>\n",
       "      <td>0.00000</td>\n",
       "      <td>13,072.00000</td>\n",
       "      <td>0.00000</td>\n",
       "      <td>0.00000</td>\n",
       "      <td>0.00000</td>\n",
       "      <td>0.00000</td>\n",
       "      <td>0.00000</td>\n",
       "      <td>1.00000</td>\n",
       "      <td>0.00000</td>\n",
       "      <td>1.00000</td>\n",
       "    </tr>\n",
       "    <tr>\n",
       "      <th>13</th>\n",
       "      <td>2,011.00000</td>\n",
       "      <td>39.00000</td>\n",
       "      <td>Werner Herzog</td>\n",
       "      <td>1.00000</td>\n",
       "      <td>0.00000</td>\n",
       "      <td>127.00000</td>\n",
       "      <td>0.00000</td>\n",
       "      <td>0.00000</td>\n",
       "      <td>0.00000</td>\n",
       "      <td>0.00000</td>\n",
       "      <td>0.00000</td>\n",
       "      <td>0.00000</td>\n",
       "      <td>0.00000</td>\n",
       "      <td>0.00000</td>\n",
       "    </tr>\n",
       "    <tr>\n",
       "      <th>65</th>\n",
       "      <td>1,970.00000</td>\n",
       "      <td>96.00000</td>\n",
       "      <td>Thomas Mauch</td>\n",
       "      <td>0.00000</td>\n",
       "      <td>0.00000</td>\n",
       "      <td>5,446.00000</td>\n",
       "      <td>0.00000</td>\n",
       "      <td>0.00000</td>\n",
       "      <td>0.00000</td>\n",
       "      <td>0.00000</td>\n",
       "      <td>0.00000</td>\n",
       "      <td>0.00000</td>\n",
       "      <td>0.00000</td>\n",
       "      <td>0.00000</td>\n",
       "    </tr>\n",
       "    <tr>\n",
       "      <th>52</th>\n",
       "      <td>1,979.00000</td>\n",
       "      <td>82.00000</td>\n",
       "      <td>Jörg Schmidt-Reitwein</td>\n",
       "      <td>0.00000</td>\n",
       "      <td>0.00000</td>\n",
       "      <td>8,915.00000</td>\n",
       "      <td>0.00000</td>\n",
       "      <td>1.00000</td>\n",
       "      <td>1.00000</td>\n",
       "      <td>0.00000</td>\n",
       "      <td>0.00000</td>\n",
       "      <td>0.00000</td>\n",
       "      <td>0.00000</td>\n",
       "      <td>1.00000</td>\n",
       "    </tr>\n",
       "    <tr>\n",
       "      <th>58</th>\n",
       "      <td>1,976.00000</td>\n",
       "      <td>44.00000</td>\n",
       "      <td>Thomas Mauch</td>\n",
       "      <td>1.00000</td>\n",
       "      <td>1.00000</td>\n",
       "      <td>1,116.00000</td>\n",
       "      <td>1.00000</td>\n",
       "      <td>0.00000</td>\n",
       "      <td>0.00000</td>\n",
       "      <td>0.00000</td>\n",
       "      <td>0.00000</td>\n",
       "      <td>0.00000</td>\n",
       "      <td>0.00000</td>\n",
       "      <td>0.00000</td>\n",
       "    </tr>\n",
       "  </tbody>\n",
       "</table>\n",
       "</div>"
      ],
      "text/plain": [
       "          year  duration        cinematographer  documentary  tv_series  \\\n",
       "1  2,020.00000  97.00000       Peter Zeitlinger      1.00000    0.00000   \n",
       "6  2,016.00000  98.00000       Peter Zeitlinger      0.00000    0.00000   \n",
       "40 1,990.00000  91.00000                  OTHER      1.00000    0.00000   \n",
       "51 1,981.00000  44.00000           Thomas Mauch      1.00000    1.00000   \n",
       "14 2,010.00000  90.00000                  OTHER      1.00000    0.00000   \n",
       "62 1,971.00000  42.00000  Jörg Schmidt-Reitwein      1.00000    1.00000   \n",
       "36 1,992.00000  54.00000                  OTHER      1.00000    0.00000   \n",
       "55 1,977.00000 115.00000           Thomas Mauch      0.00000    0.00000   \n",
       "13 2,011.00000  39.00000          Werner Herzog      1.00000    0.00000   \n",
       "65 1,970.00000  96.00000           Thomas Mauch      0.00000    0.00000   \n",
       "52 1,979.00000  82.00000  Jörg Schmidt-Reitwein      0.00000    0.00000   \n",
       "58 1,976.00000  44.00000           Thomas Mauch      1.00000    1.00000   \n",
       "\n",
       "    rating_count  Werner Herzog  Klaus Kinski  Volker Prechtel  Brad Dourif  \\\n",
       "1    1,439.00000        1.00000       0.00000          0.00000      0.00000   \n",
       "6    2,458.00000        0.00000       0.00000          0.00000      0.00000   \n",
       "40     566.00000        1.00000       0.00000          0.00000      0.00000   \n",
       "51     732.00000        0.00000       0.00000          0.00000      0.00000   \n",
       "14   7,766.00000        1.00000       0.00000          0.00000      0.00000   \n",
       "62     393.00000        0.00000       0.00000          0.00000      0.00000   \n",
       "36   5,376.00000        1.00000       0.00000          0.00000      0.00000   \n",
       "55  13,072.00000        0.00000       0.00000          0.00000      0.00000   \n",
       "13     127.00000        0.00000       0.00000          0.00000      0.00000   \n",
       "65   5,446.00000        0.00000       0.00000          0.00000      0.00000   \n",
       "52   8,915.00000        0.00000       1.00000          1.00000      0.00000   \n",
       "58   1,116.00000        1.00000       0.00000          0.00000      0.00000   \n",
       "\n",
       "    Peter Berling  Clemens Scheitz  Michael Shannon  Eva Mattes  \n",
       "1         0.00000          0.00000          0.00000     0.00000  \n",
       "6         0.00000          0.00000          1.00000     0.00000  \n",
       "40        0.00000          0.00000          0.00000     0.00000  \n",
       "51        0.00000          0.00000          0.00000     0.00000  \n",
       "14        0.00000          0.00000          0.00000     0.00000  \n",
       "62        0.00000          0.00000          0.00000     0.00000  \n",
       "36        0.00000          0.00000          0.00000     0.00000  \n",
       "55        0.00000          1.00000          0.00000     1.00000  \n",
       "13        0.00000          0.00000          0.00000     0.00000  \n",
       "65        0.00000          0.00000          0.00000     0.00000  \n",
       "52        0.00000          0.00000          0.00000     1.00000  \n",
       "58        0.00000          0.00000          0.00000     0.00000  "
      ]
     },
     "execution_count": 21,
     "metadata": {},
     "output_type": "execute_result"
    }
   ],
   "source": [
    "X_test"
   ]
  },
  {
   "cell_type": "markdown",
   "metadata": {},
   "source": [
    "## Preprocessing"
   ]
  },
  {
   "cell_type": "markdown",
   "metadata": {},
   "source": [
    "### Categorical Variable Preprocessing"
   ]
  },
  {
   "cell_type": "markdown",
   "metadata": {},
   "source": [
    "#### One-hot-encoding"
   ]
  },
  {
   "cell_type": "code",
   "execution_count": 22,
   "metadata": {},
   "outputs": [],
   "source": [
    "cat_ohe_vars = ['cinematographer']\n",
    "X_train_val_cat_ohe = X_train_val[cat_ohe_vars]\n",
    "#X_train_cat_ohe "
   ]
  },
  {
   "cell_type": "code",
   "execution_count": 23,
   "metadata": {},
   "outputs": [],
   "source": [
    "ohe = OneHotEncoder(sparse=False,  handle_unknown='ignore')\n",
    "ohe.fit(X_train_val_cat_ohe)\n",
    "cat_ohe = ohe.transform(X_train_val_cat_ohe)"
   ]
  },
  {
   "cell_type": "code",
   "execution_count": 24,
   "metadata": {},
   "outputs": [
    {
     "data": {
      "text/plain": [
       "array(['cinematographer_Henning Brümmer',\n",
       "       'cinematographer_Jörg Schmidt-Reitwein', 'cinematographer_OTHER',\n",
       "       'cinematographer_Peter Zeitlinger',\n",
       "       'cinematographer_Rainer Klausmann', 'cinematographer_Thomas Mauch',\n",
       "       'cinematographer_Werner Herzog'], dtype=object)"
      ]
     },
     "execution_count": 24,
     "metadata": {},
     "output_type": "execute_result"
    }
   ],
   "source": [
    "columns=ohe.get_feature_names(cat_ohe_vars)\n",
    "columns"
   ]
  },
  {
   "cell_type": "code",
   "execution_count": 25,
   "metadata": {},
   "outputs": [
    {
     "data": {
      "text/html": [
       "<div>\n",
       "<style scoped>\n",
       "    .dataframe tbody tr th:only-of-type {\n",
       "        vertical-align: middle;\n",
       "    }\n",
       "\n",
       "    .dataframe tbody tr th {\n",
       "        vertical-align: top;\n",
       "    }\n",
       "\n",
       "    .dataframe thead th {\n",
       "        text-align: right;\n",
       "    }\n",
       "</style>\n",
       "<table border=\"1\" class=\"dataframe\">\n",
       "  <thead>\n",
       "    <tr style=\"text-align: right;\">\n",
       "      <th></th>\n",
       "      <th>cinematographer_Henning Brümmer</th>\n",
       "      <th>cinematographer_Jörg Schmidt-Reitwein</th>\n",
       "      <th>cinematographer_OTHER</th>\n",
       "      <th>cinematographer_Peter Zeitlinger</th>\n",
       "      <th>cinematographer_Rainer Klausmann</th>\n",
       "      <th>cinematographer_Thomas Mauch</th>\n",
       "      <th>cinematographer_Werner Herzog</th>\n",
       "    </tr>\n",
       "  </thead>\n",
       "  <tbody>\n",
       "    <tr>\n",
       "      <th>34</th>\n",
       "      <td>0.00000</td>\n",
       "      <td>0.00000</td>\n",
       "      <td>0.00000</td>\n",
       "      <td>1.00000</td>\n",
       "      <td>0.00000</td>\n",
       "      <td>0.00000</td>\n",
       "      <td>0.00000</td>\n",
       "    </tr>\n",
       "    <tr>\n",
       "      <th>4</th>\n",
       "      <td>0.00000</td>\n",
       "      <td>0.00000</td>\n",
       "      <td>1.00000</td>\n",
       "      <td>0.00000</td>\n",
       "      <td>0.00000</td>\n",
       "      <td>0.00000</td>\n",
       "      <td>0.00000</td>\n",
       "    </tr>\n",
       "    <tr>\n",
       "      <th>60</th>\n",
       "      <td>0.00000</td>\n",
       "      <td>1.00000</td>\n",
       "      <td>0.00000</td>\n",
       "      <td>0.00000</td>\n",
       "      <td>0.00000</td>\n",
       "      <td>0.00000</td>\n",
       "      <td>0.00000</td>\n",
       "    </tr>\n",
       "    <tr>\n",
       "      <th>19</th>\n",
       "      <td>0.00000</td>\n",
       "      <td>0.00000</td>\n",
       "      <td>0.00000</td>\n",
       "      <td>1.00000</td>\n",
       "      <td>0.00000</td>\n",
       "      <td>0.00000</td>\n",
       "      <td>0.00000</td>\n",
       "    </tr>\n",
       "    <tr>\n",
       "      <th>9</th>\n",
       "      <td>0.00000</td>\n",
       "      <td>0.00000</td>\n",
       "      <td>0.00000</td>\n",
       "      <td>1.00000</td>\n",
       "      <td>0.00000</td>\n",
       "      <td>0.00000</td>\n",
       "      <td>0.00000</td>\n",
       "    </tr>\n",
       "  </tbody>\n",
       "</table>\n",
       "</div>"
      ],
      "text/plain": [
       "    cinematographer_Henning Brümmer  cinematographer_Jörg Schmidt-Reitwein  \\\n",
       "34                          0.00000                                0.00000   \n",
       "4                           0.00000                                0.00000   \n",
       "60                          0.00000                                1.00000   \n",
       "19                          0.00000                                0.00000   \n",
       "9                           0.00000                                0.00000   \n",
       "\n",
       "    cinematographer_OTHER  cinematographer_Peter Zeitlinger  \\\n",
       "34                0.00000                           1.00000   \n",
       "4                 1.00000                           0.00000   \n",
       "60                0.00000                           0.00000   \n",
       "19                0.00000                           1.00000   \n",
       "9                 0.00000                           1.00000   \n",
       "\n",
       "    cinematographer_Rainer Klausmann  cinematographer_Thomas Mauch  \\\n",
       "34                           0.00000                       0.00000   \n",
       "4                            0.00000                       0.00000   \n",
       "60                           0.00000                       0.00000   \n",
       "19                           0.00000                       0.00000   \n",
       "9                            0.00000                       0.00000   \n",
       "\n",
       "    cinematographer_Werner Herzog  \n",
       "34                        0.00000  \n",
       "4                         0.00000  \n",
       "60                        0.00000  \n",
       "19                        0.00000  \n",
       "9                         0.00000  "
      ]
     },
     "execution_count": 25,
     "metadata": {},
     "output_type": "execute_result"
    }
   ],
   "source": [
    "X_train_val_cat_ohe_df = pd.DataFrame(cat_ohe, columns=columns, index=X_train_val_cat_ohe.index)\n",
    "X_train_val_cat_ohe_df.head()"
   ]
  },
  {
   "cell_type": "markdown",
   "metadata": {},
   "source": [
    "Repeating transformations on testing set"
   ]
  },
  {
   "cell_type": "code",
   "execution_count": 26,
   "metadata": {},
   "outputs": [],
   "source": [
    "X_test_cat_ohe = X_test[['cinematographer']]\n",
    "X_test_cat_ohe\n",
    "cat_ohe_test = ohe.transform(X_test_cat_ohe)\n",
    "\n",
    "cat_ohe_columns = ohe.get_feature_names(['cinematographer'])\n",
    "X_test_cat_ohe_df = pd.DataFrame(cat_ohe_test, columns=cat_ohe_columns)\n"
   ]
  },
  {
   "cell_type": "code",
   "execution_count": null,
   "metadata": {},
   "outputs": [],
   "source": []
  },
  {
   "cell_type": "markdown",
   "metadata": {},
   "source": [
    "### Continuous Variable Preprocessing"
   ]
  },
  {
   "cell_type": "code",
   "execution_count": 27,
   "metadata": {},
   "outputs": [
    {
     "data": {
      "text/html": [
       "<div>\n",
       "<style scoped>\n",
       "    .dataframe tbody tr th:only-of-type {\n",
       "        vertical-align: middle;\n",
       "    }\n",
       "\n",
       "    .dataframe tbody tr th {\n",
       "        vertical-align: top;\n",
       "    }\n",
       "\n",
       "    .dataframe thead th {\n",
       "        text-align: right;\n",
       "    }\n",
       "</style>\n",
       "<table border=\"1\" class=\"dataframe\">\n",
       "  <thead>\n",
       "    <tr style=\"text-align: right;\">\n",
       "      <th></th>\n",
       "      <th>year</th>\n",
       "      <th>duration</th>\n",
       "      <th>rating_count</th>\n",
       "    </tr>\n",
       "  </thead>\n",
       "  <tbody>\n",
       "    <tr>\n",
       "      <th>34</th>\n",
       "      <td>1,995.00000</td>\n",
       "      <td>59.00000</td>\n",
       "      <td>679.00000</td>\n",
       "    </tr>\n",
       "    <tr>\n",
       "      <th>4</th>\n",
       "      <td>2,018.00000</td>\n",
       "      <td>90.00000</td>\n",
       "      <td>1,694.00000</td>\n",
       "    </tr>\n",
       "    <tr>\n",
       "      <th>60</th>\n",
       "      <td>1,974.00000</td>\n",
       "      <td>45.00000</td>\n",
       "      <td>2,304.00000</td>\n",
       "    </tr>\n",
       "    <tr>\n",
       "      <th>19</th>\n",
       "      <td>2,007.00000</td>\n",
       "      <td>99.00000</td>\n",
       "      <td>17,182.00000</td>\n",
       "    </tr>\n",
       "    <tr>\n",
       "      <th>9</th>\n",
       "      <td>2,012.00000</td>\n",
       "      <td>49.00000</td>\n",
       "      <td>1,090.00000</td>\n",
       "    </tr>\n",
       "  </tbody>\n",
       "</table>\n",
       "</div>"
      ],
      "text/plain": [
       "          year  duration  rating_count\n",
       "34 1,995.00000  59.00000     679.00000\n",
       "4  2,018.00000  90.00000   1,694.00000\n",
       "60 1,974.00000  45.00000   2,304.00000\n",
       "19 2,007.00000  99.00000  17,182.00000\n",
       "9  2,012.00000  49.00000   1,090.00000"
      ]
     },
     "execution_count": 27,
     "metadata": {},
     "output_type": "execute_result"
    }
   ],
   "source": [
    "cont_column_names = ['year', 'duration', 'rating_count']\n",
    "X_train_val_cont = X_train_val[cont_column_names ]\n",
    "\n",
    "X_test_cont      = X_test[     cont_column_names ]\n",
    "\n",
    "\n",
    "X_train_val_cont.head()\n"
   ]
  },
  {
   "cell_type": "markdown",
   "metadata": {},
   "source": [
    "#### Generate log and polynomials"
   ]
  },
  {
   "cell_type": "raw",
   "metadata": {},
   "source": [
    "sqrs = [str(name + '_sq') for name in cont_column_names]\n",
    "sqrs"
   ]
  },
  {
   "cell_type": "raw",
   "metadata": {},
   "source": [
    "str(cont_column_names[0])"
   ]
  },
  {
   "cell_type": "raw",
   "metadata": {},
   "source": [
    "interactions = [str(cont_column_names[0]) +'_x_'+ str(cont_column_names[1]),\n",
    "               str(cont_column_names[1]) +'_x_'+ str(cont_column_names[2]),\n",
    "               str(cont_column_names[0]) +'_x_'+ str(cont_column_names[2])]\n",
    "interactions"
   ]
  },
  {
   "cell_type": "raw",
   "metadata": {},
   "source": [
    "cont_column_names.extend(sqrs)\n",
    "cont_column_names.extend(interactions)"
   ]
  },
  {
   "cell_type": "raw",
   "metadata": {},
   "source": [
    "cont_column_names"
   ]
  },
  {
   "cell_type": "raw",
   "metadata": {},
   "source": [
    "poly = PolynomialFeatures(degree=2)\n",
    "\n",
    "X_train_val_cont_poly = poly.fit_transform(X_train_val_cont)\n",
    "X_test_cont_poly           = poly.fit_transform(X_test_cont)"
   ]
  },
  {
   "cell_type": "raw",
   "metadata": {},
   "source": [
    "X_train_val_cont_poly = pd.DataFrame(X_train_val_cont_poly[:,1:], columns=cont_column_names)\n",
    "X_test_cont_poly  = pd.DataFrame(X_test_cont_poly[:,1:],  columns=cont_column_names)"
   ]
  },
  {
   "cell_type": "raw",
   "metadata": {},
   "source": [
    "X_train_val_cont_poly.loc[:,'log_year']         = np.log(X_train_val_cont_poly.year)\n",
    "X_train_val_cont_poly.loc[:,'log_rating_count'] = np.log(X_train_val_cont_poly.rating_count)\n"
   ]
  },
  {
   "cell_type": "raw",
   "metadata": {},
   "source": [
    "X_test_cont_poly.loc[:,'log_year']         = np.log(X_test_cont_poly.year)\n",
    "X_test_cont_poly.loc[:,'log_rating_count'] = np.log(X_test_cont_poly.rating_count)"
   ]
  },
  {
   "cell_type": "raw",
   "metadata": {},
   "source": [
    "X_train_val_cont_poly.head()"
   ]
  },
  {
   "cell_type": "code",
   "execution_count": 28,
   "metadata": {},
   "outputs": [],
   "source": [
    "#X_train_val_cont_poly.head()"
   ]
  },
  {
   "cell_type": "code",
   "execution_count": 29,
   "metadata": {},
   "outputs": [
    {
     "name": "stderr",
     "output_type": "stream",
     "text": [
      "<ipython-input-29-d30627963e3a>:1: SettingWithCopyWarning: \n",
      "A value is trying to be set on a copy of a slice from a DataFrame.\n",
      "Try using .loc[row_indexer,col_indexer] = value instead\n",
      "\n",
      "See the caveats in the documentation: https://pandas.pydata.org/pandas-docs/stable/user_guide/indexing.html#returning-a-view-versus-a-copy\n",
      "  X_train_val_cont['log_year']         = np.log(X_train_val_cont.year)\n",
      "<ipython-input-29-d30627963e3a>:2: SettingWithCopyWarning: \n",
      "A value is trying to be set on a copy of a slice from a DataFrame.\n",
      "Try using .loc[row_indexer,col_indexer] = value instead\n",
      "\n",
      "See the caveats in the documentation: https://pandas.pydata.org/pandas-docs/stable/user_guide/indexing.html#returning-a-view-versus-a-copy\n",
      "  X_train_val_cont['log_rating_count'] = np.log(X_train_val_cont.rating_count)\n",
      "<ipython-input-29-d30627963e3a>:5: SettingWithCopyWarning: \n",
      "A value is trying to be set on a copy of a slice from a DataFrame.\n",
      "Try using .loc[row_indexer,col_indexer] = value instead\n",
      "\n",
      "See the caveats in the documentation: https://pandas.pydata.org/pandas-docs/stable/user_guide/indexing.html#returning-a-view-versus-a-copy\n",
      "  X_test_cont['log_year']         = np.log(X_test_cont.year)\n",
      "<ipython-input-29-d30627963e3a>:6: SettingWithCopyWarning: \n",
      "A value is trying to be set on a copy of a slice from a DataFrame.\n",
      "Try using .loc[row_indexer,col_indexer] = value instead\n",
      "\n",
      "See the caveats in the documentation: https://pandas.pydata.org/pandas-docs/stable/user_guide/indexing.html#returning-a-view-versus-a-copy\n",
      "  X_test_cont['log_rating_count'] = np.log(X_test_cont.rating_count)\n"
     ]
    }
   ],
   "source": [
    "X_train_val_cont['log_year']         = np.log(X_train_val_cont.year)\n",
    "X_train_val_cont['log_rating_count'] = np.log(X_train_val_cont.rating_count)\n",
    "\n",
    "\n",
    "X_test_cont['log_year']         = np.log(X_test_cont.year)\n",
    "X_test_cont['log_rating_count'] = np.log(X_test_cont.rating_count)"
   ]
  },
  {
   "cell_type": "code",
   "execution_count": 30,
   "metadata": {},
   "outputs": [
    {
     "data": {
      "text/plain": [
       "12"
      ]
     },
     "execution_count": 30,
     "metadata": {},
     "output_type": "execute_result"
    }
   ],
   "source": [
    "X_test_cont.shape[0]"
   ]
  },
  {
   "cell_type": "markdown",
   "metadata": {},
   "source": [
    "#### Concatenate columns"
   ]
  },
  {
   "cell_type": "code",
   "execution_count": 31,
   "metadata": {},
   "outputs": [],
   "source": [
    "cat_columns = ['documentary', 'tv_series', *prevalent_actor_columns]\n",
    "X_train_val_cat_df = X_train_val[cat_columns]\n",
    "#X_train_val_cat_df\n",
    "\n",
    "X_test_cat_df = X_test[cat_columns]\n",
    "#X_train_val_cat_df"
   ]
  },
  {
   "cell_type": "code",
   "execution_count": 32,
   "metadata": {},
   "outputs": [
    {
     "data": {
      "text/plain": [
       "False"
      ]
     },
     "execution_count": 32,
     "metadata": {},
     "output_type": "execute_result"
    }
   ],
   "source": [
    "X_test_cat_df.isnull().values.any()"
   ]
  },
  {
   "cell_type": "code",
   "execution_count": 46,
   "metadata": {},
   "outputs": [],
   "source": [
    "X_train_val_combo= pd.concat([X_train_val_cont, X_train_val_cat_ohe_df, X_train_val_cat_df, ], axis='columns')\n",
    "X_test_combo = pd.concat([X_test_cont.reset_index(drop=True), X_test_cat_ohe_df.reset_index(drop=True), X_test_cat_df.reset_index(drop=True), ], axis='columns')"
   ]
  },
  {
   "cell_type": "code",
   "execution_count": 47,
   "metadata": {},
   "outputs": [
    {
     "data": {
      "text/plain": [
       "(12, 10)"
      ]
     },
     "execution_count": 47,
     "metadata": {},
     "output_type": "execute_result"
    }
   ],
   "source": [
    "X_test_cat_df.shape"
   ]
  },
  {
   "cell_type": "code",
   "execution_count": 48,
   "metadata": {},
   "outputs": [
    {
     "data": {
      "text/plain": [
       "False"
      ]
     },
     "execution_count": 48,
     "metadata": {},
     "output_type": "execute_result"
    }
   ],
   "source": [
    "X_train_val_combo.isnull().values.any()"
   ]
  },
  {
   "cell_type": "code",
   "execution_count": null,
   "metadata": {},
   "outputs": [],
   "source": []
  },
  {
   "cell_type": "code",
   "execution_count": 49,
   "metadata": {},
   "outputs": [
    {
     "data": {
      "text/plain": [
       "False"
      ]
     },
     "execution_count": 49,
     "metadata": {},
     "output_type": "execute_result"
    }
   ],
   "source": [
    "X_test_combo.isnull().values.any()"
   ]
  },
  {
   "cell_type": "code",
   "execution_count": 50,
   "metadata": {},
   "outputs": [
    {
     "data": {
      "text/html": [
       "<div>\n",
       "<style scoped>\n",
       "    .dataframe tbody tr th:only-of-type {\n",
       "        vertical-align: middle;\n",
       "    }\n",
       "\n",
       "    .dataframe tbody tr th {\n",
       "        vertical-align: top;\n",
       "    }\n",
       "\n",
       "    .dataframe thead th {\n",
       "        text-align: right;\n",
       "    }\n",
       "</style>\n",
       "<table border=\"1\" class=\"dataframe\">\n",
       "  <thead>\n",
       "    <tr style=\"text-align: right;\">\n",
       "      <th></th>\n",
       "      <th>year</th>\n",
       "      <th>duration</th>\n",
       "      <th>rating_count</th>\n",
       "      <th>log_year</th>\n",
       "      <th>log_rating_count</th>\n",
       "      <th>cinematographer_Henning Brümmer</th>\n",
       "      <th>cinematographer_Jörg Schmidt-Reitwein</th>\n",
       "      <th>cinematographer_OTHER</th>\n",
       "      <th>cinematographer_Peter Zeitlinger</th>\n",
       "      <th>cinematographer_Rainer Klausmann</th>\n",
       "      <th>...</th>\n",
       "      <th>documentary</th>\n",
       "      <th>tv_series</th>\n",
       "      <th>Werner Herzog</th>\n",
       "      <th>Klaus Kinski</th>\n",
       "      <th>Volker Prechtel</th>\n",
       "      <th>Brad Dourif</th>\n",
       "      <th>Peter Berling</th>\n",
       "      <th>Clemens Scheitz</th>\n",
       "      <th>Michael Shannon</th>\n",
       "      <th>Eva Mattes</th>\n",
       "    </tr>\n",
       "  </thead>\n",
       "  <tbody>\n",
       "    <tr>\n",
       "      <th>0</th>\n",
       "      <td>2,020.00000</td>\n",
       "      <td>97.00000</td>\n",
       "      <td>1,439.00000</td>\n",
       "      <td>7.61085</td>\n",
       "      <td>7.27170</td>\n",
       "      <td>0.00000</td>\n",
       "      <td>0.00000</td>\n",
       "      <td>0.00000</td>\n",
       "      <td>1.00000</td>\n",
       "      <td>0.00000</td>\n",
       "      <td>...</td>\n",
       "      <td>1.00000</td>\n",
       "      <td>0.00000</td>\n",
       "      <td>1.00000</td>\n",
       "      <td>0.00000</td>\n",
       "      <td>0.00000</td>\n",
       "      <td>0.00000</td>\n",
       "      <td>0.00000</td>\n",
       "      <td>0.00000</td>\n",
       "      <td>0.00000</td>\n",
       "      <td>0.00000</td>\n",
       "    </tr>\n",
       "    <tr>\n",
       "      <th>1</th>\n",
       "      <td>2,016.00000</td>\n",
       "      <td>98.00000</td>\n",
       "      <td>2,458.00000</td>\n",
       "      <td>7.60887</td>\n",
       "      <td>7.80710</td>\n",
       "      <td>0.00000</td>\n",
       "      <td>0.00000</td>\n",
       "      <td>0.00000</td>\n",
       "      <td>1.00000</td>\n",
       "      <td>0.00000</td>\n",
       "      <td>...</td>\n",
       "      <td>0.00000</td>\n",
       "      <td>0.00000</td>\n",
       "      <td>0.00000</td>\n",
       "      <td>0.00000</td>\n",
       "      <td>0.00000</td>\n",
       "      <td>0.00000</td>\n",
       "      <td>0.00000</td>\n",
       "      <td>0.00000</td>\n",
       "      <td>1.00000</td>\n",
       "      <td>0.00000</td>\n",
       "    </tr>\n",
       "    <tr>\n",
       "      <th>2</th>\n",
       "      <td>1,990.00000</td>\n",
       "      <td>91.00000</td>\n",
       "      <td>566.00000</td>\n",
       "      <td>7.59589</td>\n",
       "      <td>6.33859</td>\n",
       "      <td>0.00000</td>\n",
       "      <td>0.00000</td>\n",
       "      <td>1.00000</td>\n",
       "      <td>0.00000</td>\n",
       "      <td>0.00000</td>\n",
       "      <td>...</td>\n",
       "      <td>1.00000</td>\n",
       "      <td>0.00000</td>\n",
       "      <td>1.00000</td>\n",
       "      <td>0.00000</td>\n",
       "      <td>0.00000</td>\n",
       "      <td>0.00000</td>\n",
       "      <td>0.00000</td>\n",
       "      <td>0.00000</td>\n",
       "      <td>0.00000</td>\n",
       "      <td>0.00000</td>\n",
       "    </tr>\n",
       "    <tr>\n",
       "      <th>3</th>\n",
       "      <td>1,981.00000</td>\n",
       "      <td>44.00000</td>\n",
       "      <td>732.00000</td>\n",
       "      <td>7.59136</td>\n",
       "      <td>6.59578</td>\n",
       "      <td>0.00000</td>\n",
       "      <td>0.00000</td>\n",
       "      <td>0.00000</td>\n",
       "      <td>0.00000</td>\n",
       "      <td>0.00000</td>\n",
       "      <td>...</td>\n",
       "      <td>1.00000</td>\n",
       "      <td>1.00000</td>\n",
       "      <td>0.00000</td>\n",
       "      <td>0.00000</td>\n",
       "      <td>0.00000</td>\n",
       "      <td>0.00000</td>\n",
       "      <td>0.00000</td>\n",
       "      <td>0.00000</td>\n",
       "      <td>0.00000</td>\n",
       "      <td>0.00000</td>\n",
       "    </tr>\n",
       "    <tr>\n",
       "      <th>4</th>\n",
       "      <td>2,010.00000</td>\n",
       "      <td>90.00000</td>\n",
       "      <td>7,766.00000</td>\n",
       "      <td>7.60589</td>\n",
       "      <td>8.95751</td>\n",
       "      <td>0.00000</td>\n",
       "      <td>0.00000</td>\n",
       "      <td>1.00000</td>\n",
       "      <td>0.00000</td>\n",
       "      <td>0.00000</td>\n",
       "      <td>...</td>\n",
       "      <td>1.00000</td>\n",
       "      <td>0.00000</td>\n",
       "      <td>1.00000</td>\n",
       "      <td>0.00000</td>\n",
       "      <td>0.00000</td>\n",
       "      <td>0.00000</td>\n",
       "      <td>0.00000</td>\n",
       "      <td>0.00000</td>\n",
       "      <td>0.00000</td>\n",
       "      <td>0.00000</td>\n",
       "    </tr>\n",
       "    <tr>\n",
       "      <th>5</th>\n",
       "      <td>1,971.00000</td>\n",
       "      <td>42.00000</td>\n",
       "      <td>393.00000</td>\n",
       "      <td>7.58630</td>\n",
       "      <td>5.97381</td>\n",
       "      <td>0.00000</td>\n",
       "      <td>1.00000</td>\n",
       "      <td>0.00000</td>\n",
       "      <td>0.00000</td>\n",
       "      <td>0.00000</td>\n",
       "      <td>...</td>\n",
       "      <td>1.00000</td>\n",
       "      <td>1.00000</td>\n",
       "      <td>0.00000</td>\n",
       "      <td>0.00000</td>\n",
       "      <td>0.00000</td>\n",
       "      <td>0.00000</td>\n",
       "      <td>0.00000</td>\n",
       "      <td>0.00000</td>\n",
       "      <td>0.00000</td>\n",
       "      <td>0.00000</td>\n",
       "    </tr>\n",
       "    <tr>\n",
       "      <th>6</th>\n",
       "      <td>1,992.00000</td>\n",
       "      <td>54.00000</td>\n",
       "      <td>5,376.00000</td>\n",
       "      <td>7.59689</td>\n",
       "      <td>8.58970</td>\n",
       "      <td>0.00000</td>\n",
       "      <td>0.00000</td>\n",
       "      <td>1.00000</td>\n",
       "      <td>0.00000</td>\n",
       "      <td>0.00000</td>\n",
       "      <td>...</td>\n",
       "      <td>1.00000</td>\n",
       "      <td>0.00000</td>\n",
       "      <td>1.00000</td>\n",
       "      <td>0.00000</td>\n",
       "      <td>0.00000</td>\n",
       "      <td>0.00000</td>\n",
       "      <td>0.00000</td>\n",
       "      <td>0.00000</td>\n",
       "      <td>0.00000</td>\n",
       "      <td>0.00000</td>\n",
       "    </tr>\n",
       "    <tr>\n",
       "      <th>7</th>\n",
       "      <td>1,977.00000</td>\n",
       "      <td>115.00000</td>\n",
       "      <td>13,072.00000</td>\n",
       "      <td>7.58934</td>\n",
       "      <td>9.47823</td>\n",
       "      <td>0.00000</td>\n",
       "      <td>0.00000</td>\n",
       "      <td>0.00000</td>\n",
       "      <td>0.00000</td>\n",
       "      <td>0.00000</td>\n",
       "      <td>...</td>\n",
       "      <td>0.00000</td>\n",
       "      <td>0.00000</td>\n",
       "      <td>0.00000</td>\n",
       "      <td>0.00000</td>\n",
       "      <td>0.00000</td>\n",
       "      <td>0.00000</td>\n",
       "      <td>0.00000</td>\n",
       "      <td>1.00000</td>\n",
       "      <td>0.00000</td>\n",
       "      <td>1.00000</td>\n",
       "    </tr>\n",
       "    <tr>\n",
       "      <th>8</th>\n",
       "      <td>2,011.00000</td>\n",
       "      <td>39.00000</td>\n",
       "      <td>127.00000</td>\n",
       "      <td>7.60639</td>\n",
       "      <td>4.84419</td>\n",
       "      <td>0.00000</td>\n",
       "      <td>0.00000</td>\n",
       "      <td>0.00000</td>\n",
       "      <td>0.00000</td>\n",
       "      <td>0.00000</td>\n",
       "      <td>...</td>\n",
       "      <td>1.00000</td>\n",
       "      <td>0.00000</td>\n",
       "      <td>0.00000</td>\n",
       "      <td>0.00000</td>\n",
       "      <td>0.00000</td>\n",
       "      <td>0.00000</td>\n",
       "      <td>0.00000</td>\n",
       "      <td>0.00000</td>\n",
       "      <td>0.00000</td>\n",
       "      <td>0.00000</td>\n",
       "    </tr>\n",
       "    <tr>\n",
       "      <th>9</th>\n",
       "      <td>1,970.00000</td>\n",
       "      <td>96.00000</td>\n",
       "      <td>5,446.00000</td>\n",
       "      <td>7.58579</td>\n",
       "      <td>8.60264</td>\n",
       "      <td>0.00000</td>\n",
       "      <td>0.00000</td>\n",
       "      <td>0.00000</td>\n",
       "      <td>0.00000</td>\n",
       "      <td>0.00000</td>\n",
       "      <td>...</td>\n",
       "      <td>0.00000</td>\n",
       "      <td>0.00000</td>\n",
       "      <td>0.00000</td>\n",
       "      <td>0.00000</td>\n",
       "      <td>0.00000</td>\n",
       "      <td>0.00000</td>\n",
       "      <td>0.00000</td>\n",
       "      <td>0.00000</td>\n",
       "      <td>0.00000</td>\n",
       "      <td>0.00000</td>\n",
       "    </tr>\n",
       "    <tr>\n",
       "      <th>10</th>\n",
       "      <td>1,979.00000</td>\n",
       "      <td>82.00000</td>\n",
       "      <td>8,915.00000</td>\n",
       "      <td>7.59035</td>\n",
       "      <td>9.09549</td>\n",
       "      <td>0.00000</td>\n",
       "      <td>1.00000</td>\n",
       "      <td>0.00000</td>\n",
       "      <td>0.00000</td>\n",
       "      <td>0.00000</td>\n",
       "      <td>...</td>\n",
       "      <td>0.00000</td>\n",
       "      <td>0.00000</td>\n",
       "      <td>0.00000</td>\n",
       "      <td>1.00000</td>\n",
       "      <td>1.00000</td>\n",
       "      <td>0.00000</td>\n",
       "      <td>0.00000</td>\n",
       "      <td>0.00000</td>\n",
       "      <td>0.00000</td>\n",
       "      <td>1.00000</td>\n",
       "    </tr>\n",
       "    <tr>\n",
       "      <th>11</th>\n",
       "      <td>1,976.00000</td>\n",
       "      <td>44.00000</td>\n",
       "      <td>1,116.00000</td>\n",
       "      <td>7.58883</td>\n",
       "      <td>7.01751</td>\n",
       "      <td>0.00000</td>\n",
       "      <td>0.00000</td>\n",
       "      <td>0.00000</td>\n",
       "      <td>0.00000</td>\n",
       "      <td>0.00000</td>\n",
       "      <td>...</td>\n",
       "      <td>1.00000</td>\n",
       "      <td>1.00000</td>\n",
       "      <td>1.00000</td>\n",
       "      <td>0.00000</td>\n",
       "      <td>0.00000</td>\n",
       "      <td>0.00000</td>\n",
       "      <td>0.00000</td>\n",
       "      <td>0.00000</td>\n",
       "      <td>0.00000</td>\n",
       "      <td>0.00000</td>\n",
       "    </tr>\n",
       "  </tbody>\n",
       "</table>\n",
       "<p>12 rows × 22 columns</p>\n",
       "</div>"
      ],
      "text/plain": [
       "          year  duration  rating_count  log_year  log_rating_count  \\\n",
       "0  2,020.00000  97.00000   1,439.00000   7.61085           7.27170   \n",
       "1  2,016.00000  98.00000   2,458.00000   7.60887           7.80710   \n",
       "2  1,990.00000  91.00000     566.00000   7.59589           6.33859   \n",
       "3  1,981.00000  44.00000     732.00000   7.59136           6.59578   \n",
       "4  2,010.00000  90.00000   7,766.00000   7.60589           8.95751   \n",
       "5  1,971.00000  42.00000     393.00000   7.58630           5.97381   \n",
       "6  1,992.00000  54.00000   5,376.00000   7.59689           8.58970   \n",
       "7  1,977.00000 115.00000  13,072.00000   7.58934           9.47823   \n",
       "8  2,011.00000  39.00000     127.00000   7.60639           4.84419   \n",
       "9  1,970.00000  96.00000   5,446.00000   7.58579           8.60264   \n",
       "10 1,979.00000  82.00000   8,915.00000   7.59035           9.09549   \n",
       "11 1,976.00000  44.00000   1,116.00000   7.58883           7.01751   \n",
       "\n",
       "    cinematographer_Henning Brümmer  cinematographer_Jörg Schmidt-Reitwein  \\\n",
       "0                           0.00000                                0.00000   \n",
       "1                           0.00000                                0.00000   \n",
       "2                           0.00000                                0.00000   \n",
       "3                           0.00000                                0.00000   \n",
       "4                           0.00000                                0.00000   \n",
       "5                           0.00000                                1.00000   \n",
       "6                           0.00000                                0.00000   \n",
       "7                           0.00000                                0.00000   \n",
       "8                           0.00000                                0.00000   \n",
       "9                           0.00000                                0.00000   \n",
       "10                          0.00000                                1.00000   \n",
       "11                          0.00000                                0.00000   \n",
       "\n",
       "    cinematographer_OTHER  cinematographer_Peter Zeitlinger  \\\n",
       "0                 0.00000                           1.00000   \n",
       "1                 0.00000                           1.00000   \n",
       "2                 1.00000                           0.00000   \n",
       "3                 0.00000                           0.00000   \n",
       "4                 1.00000                           0.00000   \n",
       "5                 0.00000                           0.00000   \n",
       "6                 1.00000                           0.00000   \n",
       "7                 0.00000                           0.00000   \n",
       "8                 0.00000                           0.00000   \n",
       "9                 0.00000                           0.00000   \n",
       "10                0.00000                           0.00000   \n",
       "11                0.00000                           0.00000   \n",
       "\n",
       "    cinematographer_Rainer Klausmann  ...  documentary  tv_series  \\\n",
       "0                            0.00000  ...      1.00000    0.00000   \n",
       "1                            0.00000  ...      0.00000    0.00000   \n",
       "2                            0.00000  ...      1.00000    0.00000   \n",
       "3                            0.00000  ...      1.00000    1.00000   \n",
       "4                            0.00000  ...      1.00000    0.00000   \n",
       "5                            0.00000  ...      1.00000    1.00000   \n",
       "6                            0.00000  ...      1.00000    0.00000   \n",
       "7                            0.00000  ...      0.00000    0.00000   \n",
       "8                            0.00000  ...      1.00000    0.00000   \n",
       "9                            0.00000  ...      0.00000    0.00000   \n",
       "10                           0.00000  ...      0.00000    0.00000   \n",
       "11                           0.00000  ...      1.00000    1.00000   \n",
       "\n",
       "    Werner Herzog  Klaus Kinski  Volker Prechtel  Brad Dourif  Peter Berling  \\\n",
       "0         1.00000       0.00000          0.00000      0.00000        0.00000   \n",
       "1         0.00000       0.00000          0.00000      0.00000        0.00000   \n",
       "2         1.00000       0.00000          0.00000      0.00000        0.00000   \n",
       "3         0.00000       0.00000          0.00000      0.00000        0.00000   \n",
       "4         1.00000       0.00000          0.00000      0.00000        0.00000   \n",
       "5         0.00000       0.00000          0.00000      0.00000        0.00000   \n",
       "6         1.00000       0.00000          0.00000      0.00000        0.00000   \n",
       "7         0.00000       0.00000          0.00000      0.00000        0.00000   \n",
       "8         0.00000       0.00000          0.00000      0.00000        0.00000   \n",
       "9         0.00000       0.00000          0.00000      0.00000        0.00000   \n",
       "10        0.00000       1.00000          1.00000      0.00000        0.00000   \n",
       "11        1.00000       0.00000          0.00000      0.00000        0.00000   \n",
       "\n",
       "    Clemens Scheitz  Michael Shannon  Eva Mattes  \n",
       "0           0.00000          0.00000     0.00000  \n",
       "1           0.00000          1.00000     0.00000  \n",
       "2           0.00000          0.00000     0.00000  \n",
       "3           0.00000          0.00000     0.00000  \n",
       "4           0.00000          0.00000     0.00000  \n",
       "5           0.00000          0.00000     0.00000  \n",
       "6           0.00000          0.00000     0.00000  \n",
       "7           1.00000          0.00000     1.00000  \n",
       "8           0.00000          0.00000     0.00000  \n",
       "9           0.00000          0.00000     0.00000  \n",
       "10          0.00000          0.00000     1.00000  \n",
       "11          0.00000          0.00000     0.00000  \n",
       "\n",
       "[12 rows x 22 columns]"
      ]
     },
     "execution_count": 50,
     "metadata": {},
     "output_type": "execute_result"
    }
   ],
   "source": [
    "X_test_combo"
   ]
  },
  {
   "cell_type": "code",
   "execution_count": 51,
   "metadata": {},
   "outputs": [
    {
     "data": {
      "text/plain": [
       "Index(['year', 'duration', 'rating_count', 'log_year', 'log_rating_count',\n",
       "       'cinematographer_Henning Brümmer',\n",
       "       'cinematographer_Jörg Schmidt-Reitwein', 'cinematographer_OTHER',\n",
       "       'cinematographer_Peter Zeitlinger', 'cinematographer_Rainer Klausmann',\n",
       "       'cinematographer_Thomas Mauch', 'cinematographer_Werner Herzog',\n",
       "       'documentary', 'tv_series', 'Werner Herzog', 'Klaus Kinski',\n",
       "       'Volker Prechtel', 'Brad Dourif', 'Peter Berling', 'Clemens Scheitz',\n",
       "       'Michael Shannon', 'Eva Mattes'],\n",
       "      dtype='object')"
      ]
     },
     "execution_count": 51,
     "metadata": {},
     "output_type": "execute_result"
    }
   ],
   "source": [
    "selected_columns = X_train_val_combo.columns\n",
    "X_train_val_combo.columns"
   ]
  },
  {
   "cell_type": "raw",
   "metadata": {},
   "source": [
    "poly = PolynomialFeatures(degree=2)\n",
    "X_train_val_combo_poly = poly.fit_transform(X_train_val_combo)\n",
    "X_test_combo_poly = poly.transform(X_test_combo)"
   ]
  },
  {
   "cell_type": "markdown",
   "metadata": {},
   "source": [
    "### Train vs. val split"
   ]
  },
  {
   "cell_type": "code",
   "execution_count": 52,
   "metadata": {},
   "outputs": [],
   "source": [
    "X_train, X_val, y_train, y_val = train_test_split(X_train_val_combo, y_train_val, test_size=.25, random_state=43)"
   ]
  },
  {
   "cell_type": "markdown",
   "metadata": {},
   "source": [
    "### Manually tune regularization with both Lasso and Ridge"
   ]
  },
  {
   "cell_type": "code",
   "execution_count": 53,
   "metadata": {},
   "outputs": [],
   "source": [
    "#Mean Absolute Error (MAE)\n",
    "def mae(y_true, y_pred):\n",
    "    return np.mean(np.abs(y_pred - y_true)) \n",
    "\n",
    "#mae(y_test, test_set_pred)"
   ]
  },
  {
   "cell_type": "raw",
   "metadata": {},
   "source": [
    "alphalist = 10**(np.linspace(-2,2,200))"
   ]
  },
  {
   "cell_type": "raw",
   "metadata": {},
   "source": [
    "err_vec_val = np.zeros(len(alphalist))\n",
    "err_vec_train = np.zeros(len(alphalist))\n",
    "\n",
    "for i,curr_alpha in enumerate(alphalist):\n",
    "\n",
    "    # note the use of a new sklearn utility: Pipeline to pack\n",
    "    #multiple modeling steps into one fitting process \n",
    "    steps = [('standardize', StandardScaler()),\n",
    "\n",
    "              ('lasso', Lasso(alpha = curr_alpha))]\n",
    "\n",
    "\n",
    "    pipe = Pipeline(steps)\n",
    "    pipe.fit(X_train.loc[:,selected_columns].values, y_train)\n",
    "    \n",
    "    val_set_pred = pipe.predict(X_val.loc[:,selected_columns].values)\n",
    "    err_vec_val[i] = mae(y_val, val_set_pred)"
   ]
  },
  {
   "cell_type": "raw",
   "metadata": {},
   "source": [
    "#plot the curve of validation error as alpha changes\n",
    "\n",
    "plt.plot(np.log10(alphalist), err_vec_val)"
   ]
  },
  {
   "cell_type": "raw",
   "metadata": {},
   "source": [
    "## This is the minimum error achieved on the validation set \n",
    "## across the different alpha values we tried\n",
    "\n",
    "lasso_min_error = np.min(err_vec_val)\n",
    "lasso_min_error"
   ]
  },
  {
   "cell_type": "raw",
   "metadata": {},
   "source": [
    "## This is the value of alpha that gave us the lowest error\n",
    "lasso_optimal_alpha = alphalist[np.argmin(err_vec_val)]\n",
    "lasso_optimal_alpha "
   ]
  },
  {
   "cell_type": "raw",
   "metadata": {},
   "source": [
    "X_test_combo.isnull().values.any()"
   ]
  },
  {
   "cell_type": "raw",
   "metadata": {},
   "source": [
    "pipe.score(X_test_combo, y_test)"
   ]
  },
  {
   "cell_type": "markdown",
   "metadata": {},
   "source": [
    "### Lasso CV"
   ]
  },
  {
   "cell_type": "code",
   "execution_count": 54,
   "metadata": {},
   "outputs": [
    {
     "data": {
      "text/plain": [
       "array([[1.9950e+03, 5.9000e+01, 6.7900e+02, ..., 0.0000e+00, 0.0000e+00,\n",
       "        0.0000e+00],\n",
       "       [2.0180e+03, 9.0000e+01, 1.6940e+03, ..., 0.0000e+00, 0.0000e+00,\n",
       "        0.0000e+00],\n",
       "       [1.9740e+03, 4.5000e+01, 2.3040e+03, ..., 0.0000e+00, 0.0000e+00,\n",
       "        0.0000e+00],\n",
       "       ...,\n",
       "       [1.9980e+03, 4.5000e+01, 1.1000e+01, ..., 0.0000e+00, 0.0000e+00,\n",
       "        0.0000e+00],\n",
       "       [1.9740e+03, 1.1000e+02, 1.6417e+04, ..., 0.0000e+00, 0.0000e+00,\n",
       "        0.0000e+00],\n",
       "       [1.9890e+03, 5.2000e+01, 6.6500e+02, ..., 0.0000e+00, 0.0000e+00,\n",
       "        0.0000e+00]])"
      ]
     },
     "execution_count": 54,
     "metadata": {},
     "output_type": "execute_result"
    }
   ],
   "source": [
    "X_train_val_combo.values"
   ]
  },
  {
   "cell_type": "markdown",
   "metadata": {},
   "source": [
    "### Polynomial testing"
   ]
  },
  {
   "cell_type": "code",
   "execution_count": 57,
   "metadata": {},
   "outputs": [],
   "source": [
    "poly = PolynomialFeatures(degree=2)\n",
    "X_train_val_combo =  poly.fit_transform(X_train_val_combo)\n",
    "X_test_combo = poly.transform(X_test_combo)\n",
    "## Scale the data as before\n",
    "std = StandardScaler()\n",
    "std.fit(X_train_val_combo)\n",
    "## Scale the Predictors on both the train and test set\n",
    "X_tr = std.transform(X_train_val_combo)\n",
    "X_te = std.transform(X_test_combo)"
   ]
  },
  {
   "cell_type": "markdown",
   "metadata": {},
   "source": [
    "### End of Polynomial testing"
   ]
  },
  {
   "cell_type": "code",
   "execution_count": 43,
   "metadata": {},
   "outputs": [
    {
     "ename": "AttributeError",
     "evalue": "'numpy.ndarray' object has no attribute 'values'",
     "output_type": "error",
     "traceback": [
      "\u001b[0;31m---------------------------------------------------------------------------\u001b[0m",
      "\u001b[0;31mAttributeError\u001b[0m                            Traceback (most recent call last)",
      "\u001b[0;32m<ipython-input-43-4771ac544eb5>\u001b[0m in \u001b[0;36m<module>\u001b[0;34m\u001b[0m\n\u001b[1;32m      1\u001b[0m \u001b[0;31m## Scale the data as before\u001b[0m\u001b[0;34m\u001b[0m\u001b[0;34m\u001b[0m\u001b[0;34m\u001b[0m\u001b[0m\n\u001b[1;32m      2\u001b[0m \u001b[0mstd\u001b[0m \u001b[0;34m=\u001b[0m \u001b[0mStandardScaler\u001b[0m\u001b[0;34m(\u001b[0m\u001b[0;34m)\u001b[0m\u001b[0;34m\u001b[0m\u001b[0;34m\u001b[0m\u001b[0m\n\u001b[0;32m----> 3\u001b[0;31m \u001b[0mstd\u001b[0m\u001b[0;34m.\u001b[0m\u001b[0mfit\u001b[0m\u001b[0;34m(\u001b[0m\u001b[0mX_train_val_combo\u001b[0m\u001b[0;34m.\u001b[0m\u001b[0mvalues\u001b[0m\u001b[0;34m)\u001b[0m\u001b[0;34m\u001b[0m\u001b[0;34m\u001b[0m\u001b[0m\n\u001b[0m",
      "\u001b[0;31mAttributeError\u001b[0m: 'numpy.ndarray' object has no attribute 'values'"
     ]
    }
   ],
   "source": [
    "## Scale the data as before\n",
    "std = StandardScaler()\n",
    "std.fit(X_train_val_combo.values)"
   ]
  },
  {
   "cell_type": "code",
   "execution_count": null,
   "metadata": {},
   "outputs": [],
   "source": []
  },
  {
   "cell_type": "code",
   "execution_count": null,
   "metadata": {},
   "outputs": [],
   "source": []
  },
  {
   "cell_type": "code",
   "execution_count": null,
   "metadata": {},
   "outputs": [],
   "source": [
    "## Scale the Predictors on both the train and test set\n",
    "X_tr = std.transform(X_train_val_combo.values)\n",
    "X_te = std.transform(X_test_combo.values)"
   ]
  },
  {
   "cell_type": "code",
   "execution_count": 58,
   "metadata": {},
   "outputs": [
    {
     "name": "stderr",
     "output_type": "stream",
     "text": [
      "/opt/anaconda3/envs/metis/lib/python3.8/site-packages/sklearn/linear_model/_coordinate_descent.py:530: ConvergenceWarning: Objective did not converge. You might want to increase the number of iterations. Duality gap: 0.0011131813260720769, tolerance: 0.0010922105263157893\n",
      "  model = cd_fast.enet_coordinate_descent(\n"
     ]
    },
    {
     "data": {
      "text/plain": [
       "LassoCV(alphas=array([1.00000000e-02, 1.04737090e-02, 1.09698580e-02, 1.14895100e-02,\n",
       "       1.20337784e-02, 1.26038293e-02, 1.32008840e-02, 1.38262217e-02,\n",
       "       1.44811823e-02, 1.51671689e-02, 1.58856513e-02, 1.66381689e-02,\n",
       "       1.74263339e-02, 1.82518349e-02, 1.91164408e-02, 2.00220037e-02,\n",
       "       2.09704640e-02, 2.19638537e-02, 2.30043012e-02, 2.40940356e-02,\n",
       "       2.52353917e-02, 2.64308149e-0...\n",
       "       3.44896226e+01, 3.61234270e+01, 3.78346262e+01, 3.96268864e+01,\n",
       "       4.15040476e+01, 4.34701316e+01, 4.55293507e+01, 4.76861170e+01,\n",
       "       4.99450512e+01, 5.23109931e+01, 5.47890118e+01, 5.73844165e+01,\n",
       "       6.01027678e+01, 6.29498899e+01, 6.59318827e+01, 6.90551352e+01,\n",
       "       7.23263390e+01, 7.57525026e+01, 7.93409667e+01, 8.30994195e+01,\n",
       "       8.70359136e+01, 9.11588830e+01, 9.54771611e+01, 1.00000000e+02]),\n",
       "        cv=5)"
      ]
     },
     "execution_count": 58,
     "metadata": {},
     "output_type": "execute_result"
    }
   ],
   "source": [
    "# Run the cross validation, find the best alpha, refit the model on all the data with that alpha\n",
    "\n",
    "alphavec = 10**np.linspace(-2,2,200)\n",
    "\n",
    "lasso_model = LassoCV(alphas = alphavec, cv=5)\n",
    "lasso_model.fit(X_tr, y_train_val)"
   ]
  },
  {
   "cell_type": "code",
   "execution_count": 59,
   "metadata": {},
   "outputs": [
    {
     "data": {
      "text/plain": [
       "0.03331294787934674"
      ]
     },
     "execution_count": 59,
     "metadata": {},
     "output_type": "execute_result"
    }
   ],
   "source": [
    "# This is the best alpha value it found \n",
    "lasso_model.alpha_"
   ]
  },
  {
   "cell_type": "code",
   "execution_count": 68,
   "metadata": {},
   "outputs": [
    {
     "data": {
      "text/plain": [
       "38503"
      ]
     },
     "execution_count": 68,
     "metadata": {},
     "output_type": "execute_result"
    }
   ],
   "source": [
    "len(lasso_model.coef_)"
   ]
  },
  {
   "cell_type": "code",
   "execution_count": 60,
   "metadata": {},
   "outputs": [
    {
     "data": {
      "text/plain": [
       "[('year', 0.0),\n",
       " ('duration', 0.0),\n",
       " ('rating_count', -0.0),\n",
       " ('log_year', -0.0),\n",
       " ('log_rating_count', 0.010357839292816553),\n",
       " ('cinematographer_Henning Brümmer', -0.0),\n",
       " ('cinematographer_Jörg Schmidt-Reitwein', 0.0),\n",
       " ('cinematographer_OTHER', 0.0),\n",
       " ('cinematographer_Peter Zeitlinger', 0.0),\n",
       " ('cinematographer_Rainer Klausmann', -0.0),\n",
       " ('cinematographer_Thomas Mauch', 0.0),\n",
       " ('cinematographer_Werner Herzog', -0.0),\n",
       " ('documentary', 0.0),\n",
       " ('tv_series', -0.0),\n",
       " ('Werner Herzog', 0.0),\n",
       " ('Klaus Kinski', -0.0),\n",
       " ('Volker Prechtel', 0.0),\n",
       " ('Brad Dourif', 0.0),\n",
       " ('Peter Berling', -0.0),\n",
       " ('Clemens Scheitz', -0.030407767915934754),\n",
       " ('Michael Shannon', 0.0),\n",
       " ('Eva Mattes', -0.0)]"
      ]
     },
     "execution_count": 60,
     "metadata": {},
     "output_type": "execute_result"
    }
   ],
   "source": [
    "# These are the (standardized) coefficients found\n",
    "# when it refit using that best alpha\n",
    "coefficients = list(zip(X_train.columns, lasso_model.coef_))\n",
    "coefficients"
   ]
  },
  {
   "cell_type": "code",
   "execution_count": 61,
   "metadata": {},
   "outputs": [],
   "source": [
    "# Make predictions on the test set using the new model\n",
    "test_set_pred = lasso_model.predict(X_te)"
   ]
  },
  {
   "cell_type": "code",
   "execution_count": 62,
   "metadata": {},
   "outputs": [
    {
     "data": {
      "text/plain": [
       "0.49898070904893"
      ]
     },
     "execution_count": 62,
     "metadata": {},
     "output_type": "execute_result"
    }
   ],
   "source": [
    "# Find the MAE and R^2 on the test set using this model\n",
    "mean_absolute_error = mae(y_test, test_set_pred)\n",
    "mean_absolute_error"
   ]
  },
  {
   "cell_type": "code",
   "execution_count": 63,
   "metadata": {},
   "outputs": [
    {
     "data": {
      "text/plain": [
       "0.31061005798925645"
      ]
     },
     "execution_count": 63,
     "metadata": {},
     "output_type": "execute_result"
    }
   ],
   "source": [
    "r2_score_ = r2_score(y_test, test_set_pred)\n",
    "r2_score_ "
   ]
  },
  {
   "cell_type": "code",
   "execution_count": 64,
   "metadata": {},
   "outputs": [
    {
     "data": {
      "text/plain": [
       "[<matplotlib.lines.Line2D at 0x7f8e10092130>]"
      ]
     },
     "execution_count": 64,
     "metadata": {},
     "output_type": "execute_result"
    },
    {
     "data": {
      "image/png": "[encoded data removed]",
      "text/plain": [
       "<Figure size 432x288 with 1 Axes>"
      ]
     },
     "metadata": {
      "needs_background": "light"
     },
     "output_type": "display_data"
    }
   ],
   "source": [
    "plt.scatter( test_set_pred, y_test)\n",
    "plt.plot( y_test, y_test, c='k')"
   ]
  },
  {
   "cell_type": "code",
   "execution_count": 65,
   "metadata": {},
   "outputs": [
    {
     "data": {
      "text/plain": [
       "<matplotlib.collections.PathCollection at 0x7f8eb0b5b760>"
      ]
     },
     "execution_count": 65,
     "metadata": {},
     "output_type": "execute_result"
    },
    {
     "data": {
      "image/png": "[encoded data removed]",
      "text/plain": [
       "<Figure size 432x288 with 1 Axes>"
      ]
     },
     "metadata": {
      "needs_background": "light"
     },
     "output_type": "display_data"
    }
   ],
   "source": [
    "residual = y_test-test_set_pred\n",
    "plt.scatter( test_set_pred, residual)"
   ]
  },
  {
   "cell_type": "code",
   "execution_count": 66,
   "metadata": {},
   "outputs": [
    {
     "data": {
      "text/html": [
       "<div>\n",
       "<style scoped>\n",
       "    .dataframe tbody tr th:only-of-type {\n",
       "        vertical-align: middle;\n",
       "    }\n",
       "\n",
       "    .dataframe tbody tr th {\n",
       "        vertical-align: top;\n",
       "    }\n",
       "\n",
       "    .dataframe thead th {\n",
       "        text-align: right;\n",
       "    }\n",
       "</style>\n",
       "<table border=\"1\" class=\"dataframe\">\n",
       "  <thead>\n",
       "    <tr style=\"text-align: right;\">\n",
       "      <th></th>\n",
       "      <th>Feature</th>\n",
       "      <th>Coefficient</th>\n",
       "    </tr>\n",
       "  </thead>\n",
       "  <tbody>\n",
       "    <tr>\n",
       "      <th>19</th>\n",
       "      <td>Clemens Scheitz</td>\n",
       "      <td>-0.03041</td>\n",
       "    </tr>\n",
       "    <tr>\n",
       "      <th>4</th>\n",
       "      <td>log_rating_count</td>\n",
       "      <td>0.01036</td>\n",
       "    </tr>\n",
       "    <tr>\n",
       "      <th>0</th>\n",
       "      <td>year</td>\n",
       "      <td>0.00000</td>\n",
       "    </tr>\n",
       "    <tr>\n",
       "      <th>12</th>\n",
       "      <td>documentary</td>\n",
       "      <td>0.00000</td>\n",
       "    </tr>\n",
       "    <tr>\n",
       "      <th>20</th>\n",
       "      <td>Michael Shannon</td>\n",
       "      <td>0.00000</td>\n",
       "    </tr>\n",
       "    <tr>\n",
       "      <th>18</th>\n",
       "      <td>Peter Berling</td>\n",
       "      <td>-0.00000</td>\n",
       "    </tr>\n",
       "    <tr>\n",
       "      <th>17</th>\n",
       "      <td>Brad Dourif</td>\n",
       "      <td>0.00000</td>\n",
       "    </tr>\n",
       "    <tr>\n",
       "      <th>16</th>\n",
       "      <td>Volker Prechtel</td>\n",
       "      <td>0.00000</td>\n",
       "    </tr>\n",
       "    <tr>\n",
       "      <th>15</th>\n",
       "      <td>Klaus Kinski</td>\n",
       "      <td>-0.00000</td>\n",
       "    </tr>\n",
       "    <tr>\n",
       "      <th>14</th>\n",
       "      <td>Werner Herzog</td>\n",
       "      <td>0.00000</td>\n",
       "    </tr>\n",
       "    <tr>\n",
       "      <th>13</th>\n",
       "      <td>tv_series</td>\n",
       "      <td>-0.00000</td>\n",
       "    </tr>\n",
       "    <tr>\n",
       "      <th>11</th>\n",
       "      <td>cinematographer_Werner Herzog</td>\n",
       "      <td>-0.00000</td>\n",
       "    </tr>\n",
       "    <tr>\n",
       "      <th>1</th>\n",
       "      <td>duration</td>\n",
       "      <td>0.00000</td>\n",
       "    </tr>\n",
       "    <tr>\n",
       "      <th>10</th>\n",
       "      <td>cinematographer_Thomas Mauch</td>\n",
       "      <td>0.00000</td>\n",
       "    </tr>\n",
       "    <tr>\n",
       "      <th>9</th>\n",
       "      <td>cinematographer_Rainer Klausmann</td>\n",
       "      <td>-0.00000</td>\n",
       "    </tr>\n",
       "    <tr>\n",
       "      <th>8</th>\n",
       "      <td>cinematographer_Peter Zeitlinger</td>\n",
       "      <td>0.00000</td>\n",
       "    </tr>\n",
       "    <tr>\n",
       "      <th>7</th>\n",
       "      <td>cinematographer_OTHER</td>\n",
       "      <td>0.00000</td>\n",
       "    </tr>\n",
       "    <tr>\n",
       "      <th>6</th>\n",
       "      <td>cinematographer_Jörg Schmidt-Reitwein</td>\n",
       "      <td>0.00000</td>\n",
       "    </tr>\n",
       "    <tr>\n",
       "      <th>5</th>\n",
       "      <td>cinematographer_Henning Brümmer</td>\n",
       "      <td>-0.00000</td>\n",
       "    </tr>\n",
       "    <tr>\n",
       "      <th>3</th>\n",
       "      <td>log_year</td>\n",
       "      <td>-0.00000</td>\n",
       "    </tr>\n",
       "    <tr>\n",
       "      <th>2</th>\n",
       "      <td>rating_count</td>\n",
       "      <td>-0.00000</td>\n",
       "    </tr>\n",
       "    <tr>\n",
       "      <th>21</th>\n",
       "      <td>Eva Mattes</td>\n",
       "      <td>-0.00000</td>\n",
       "    </tr>\n",
       "  </tbody>\n",
       "</table>\n",
       "</div>"
      ],
      "text/plain": [
       "                                  Feature  Coefficient\n",
       "19                        Clemens Scheitz     -0.03041\n",
       "4                        log_rating_count      0.01036\n",
       "0                                    year      0.00000\n",
       "12                            documentary      0.00000\n",
       "20                        Michael Shannon      0.00000\n",
       "18                          Peter Berling     -0.00000\n",
       "17                            Brad Dourif      0.00000\n",
       "16                        Volker Prechtel      0.00000\n",
       "15                           Klaus Kinski     -0.00000\n",
       "14                          Werner Herzog      0.00000\n",
       "13                              tv_series     -0.00000\n",
       "11          cinematographer_Werner Herzog     -0.00000\n",
       "1                                duration      0.00000\n",
       "10           cinematographer_Thomas Mauch      0.00000\n",
       "9        cinematographer_Rainer Klausmann     -0.00000\n",
       "8        cinematographer_Peter Zeitlinger      0.00000\n",
       "7                   cinematographer_OTHER      0.00000\n",
       "6   cinematographer_Jörg Schmidt-Reitwein      0.00000\n",
       "5         cinematographer_Henning Brümmer     -0.00000\n",
       "3                                log_year     -0.00000\n",
       "2                            rating_count     -0.00000\n",
       "21                             Eva Mattes     -0.00000"
      ]
     },
     "execution_count": 66,
     "metadata": {},
     "output_type": "execute_result"
    }
   ],
   "source": [
    "coefficients_df  = pd.DataFrame(coefficients, columns=['Feature', 'Coefficient'])\n",
    "\n",
    "coefficients_df['abs_val_of_coefficient'] = coefficients_df.Coefficient.abs()\n",
    "coefficients_df.sort_values(by='abs_val_of_coefficient', ascending=False, inplace=True)\n",
    "\n",
    "coefficients_df.drop(columns='abs_val_of_coefficient', inplace=True)\n",
    "coefficients_df"
   ]
  },
  {
   "cell_type": "code",
   "execution_count": 67,
   "metadata": {},
   "outputs": [
    {
     "data": {
      "text/plain": [
       "{'r2_score': <function sklearn.metrics._regression.r2_score(y_true, y_pred, *, sample_weight=None, multioutput='uniform_average')>,\n",
       " 'mean absolute error': 0.49898070904893,\n",
       " 'coefficients':                                   Feature  Coefficient\n",
       " 19                        Clemens Scheitz     -0.03041\n",
       " 4                        log_rating_count      0.01036\n",
       " 0                                    year      0.00000\n",
       " 12                            documentary      0.00000\n",
       " 20                        Michael Shannon      0.00000\n",
       " 18                          Peter Berling     -0.00000\n",
       " 17                            Brad Dourif      0.00000\n",
       " 16                        Volker Prechtel      0.00000\n",
       " 15                           Klaus Kinski     -0.00000\n",
       " 14                          Werner Herzog      0.00000\n",
       " 13                              tv_series     -0.00000\n",
       " 11          cinematographer_Werner Herzog     -0.00000\n",
       " 1                                duration      0.00000\n",
       " 10           cinematographer_Thomas Mauch      0.00000\n",
       " 9        cinematographer_Rainer Klausmann     -0.00000\n",
       " 8        cinematographer_Peter Zeitlinger      0.00000\n",
       " 7                   cinematographer_OTHER      0.00000\n",
       " 6   cinematographer_Jörg Schmidt-Reitwein      0.00000\n",
       " 5         cinematographer_Henning Brümmer     -0.00000\n",
       " 3                                log_year     -0.00000\n",
       " 2                            rating_count     -0.00000\n",
       " 21                             Eva Mattes     -0.00000}"
      ]
     },
     "execution_count": 67,
     "metadata": {},
     "output_type": "execute_result"
    }
   ],
   "source": [
    "Lasso_CV_model_w_rc = {\"r2_score\": r2_score, 'mean absolute error': mean_absolute_error, 'coefficients': coefficients_df}\n",
    "Lasso_CV_model_w_rc "
   ]
  },
  {
   "cell_type": "code",
   "execution_count": null,
   "metadata": {},
   "outputs": [],
   "source": [
    "LCVM_w_rc_filename = 'Lasso_CV_model_w_rc_' + director\n",
    "with open(dir_str + LCVM_w_rc_filename, 'wb') as to_write:\n",
    "    pickle.dump(Lasso_CV_model_w_rc, to_write)"
   ]
  },
  {
   "cell_type": "code",
   "execution_count": null,
   "metadata": {},
   "outputs": [],
   "source": []
  },
  {
   "cell_type": "markdown",
   "metadata": {},
   "source": [
    "### Rerun the model without using rating count"
   ]
  },
  {
   "cell_type": "code",
   "execution_count": null,
   "metadata": {},
   "outputs": [],
   "source": [
    "X_tr = pd.DataFrame(X_tr, columns=X_train.columns )\n",
    "X_tr.head()"
   ]
  },
  {
   "cell_type": "code",
   "execution_count": null,
   "metadata": {},
   "outputs": [],
   "source": [
    "X_te = pd.DataFrame(X_te, columns=X_train.columns )"
   ]
  },
  {
   "cell_type": "code",
   "execution_count": null,
   "metadata": {},
   "outputs": [],
   "source": [
    "X_tr_no_rc  = X_tr.drop(columns = ['rating_count', 'log_rating_count'])"
   ]
  },
  {
   "cell_type": "code",
   "execution_count": null,
   "metadata": {},
   "outputs": [],
   "source": [
    "X_te_no_rc = X_te.drop(columns = ['rating_count', 'log_rating_count'])"
   ]
  },
  {
   "cell_type": "code",
   "execution_count": null,
   "metadata": {},
   "outputs": [],
   "source": [
    "# Run the cross validation, find the best alpha, refit the model on all the data with that alpha\n",
    "\n",
    "alphavec = 10**np.linspace(-2,2,200)\n",
    "\n",
    "lasso_model = LassoCV(alphas = alphavec, cv=5)\n",
    "lasso_model.fit(X_tr_no_rc, y_train_val)\n",
    "\n",
    "# This is the best alpha value it found \n",
    "lasso_model.alpha_"
   ]
  },
  {
   "cell_type": "code",
   "execution_count": null,
   "metadata": {},
   "outputs": [],
   "source": [
    "# These are the (standardized) coefficients found\n",
    "# when it refit using that best alpha\n",
    "coefficients = list(zip(X_tr_no_rc.columns, lasso_model.coef_))\n",
    "coefficients_df = pd.DataFrame(coefficients, columns=['Feature', 'Coefficient']).sort_values(by='Coefficient', ascending=False).head(10)"
   ]
  },
  {
   "cell_type": "code",
   "execution_count": null,
   "metadata": {},
   "outputs": [],
   "source": [
    "# Make predictions on the test set using the new model\n",
    "test_set_pred = lasso_model.predict(X_te_no_rc)"
   ]
  },
  {
   "cell_type": "code",
   "execution_count": null,
   "metadata": {},
   "outputs": [],
   "source": [
    "# Find the MAE and R^2 on the test set using this model\n",
    "mean_absolute_error = mae(y_test, test_set_pred)\n",
    "mean_absolute_error"
   ]
  },
  {
   "cell_type": "code",
   "execution_count": null,
   "metadata": {},
   "outputs": [],
   "source": [
    "r2_score_ = r2_score(y_test, test_set_pred)\n",
    "r2_score_ \n"
   ]
  },
  {
   "cell_type": "code",
   "execution_count": null,
   "metadata": {},
   "outputs": [],
   "source": [
    "plt.scatter( test_set_pred, y_test)\n",
    "plt.plot( y_test, y_test, c='k')\n",
    "#plt.plot( x_te_no_rc, y_test, c='k')"
   ]
  },
  {
   "cell_type": "code",
   "execution_count": null,
   "metadata": {},
   "outputs": [],
   "source": [
    "residual = y_test-test_set_pred\n",
    "plt.scatter( test_set_pred, residual)\n",
    "\n"
   ]
  },
  {
   "cell_type": "code",
   "execution_count": null,
   "metadata": {},
   "outputs": [],
   "source": [
    "coefficients_df.head()"
   ]
  },
  {
   "cell_type": "code",
   "execution_count": null,
   "metadata": {},
   "outputs": [],
   "source": [
    "Lasso_CV_model_no_rc = {\"r2_score\": r2_score, 'mean absolute error': mean_absolute_error, 'coefficients': coefficients_df}\n",
    "Lasso_CV_model_no_rc \n"
   ]
  },
  {
   "cell_type": "code",
   "execution_count": null,
   "metadata": {},
   "outputs": [],
   "source": []
  },
  {
   "cell_type": "code",
   "execution_count": null,
   "metadata": {},
   "outputs": [],
   "source": [
    "LCVM_no_rc_filename = 'Lasso_CV_model_no_rc_' + director\n",
    "with open(dir_str + LCVM_no_rc_filename, 'wb') as to_write:\n",
    "    pickle.dump(Lasso_CV_model_no_rc, to_write)"
   ]
  },
  {
   "cell_type": "code",
   "execution_count": null,
   "metadata": {},
   "outputs": [],
   "source": []
  },
  {
   "cell_type": "code",
   "execution_count": null,
   "metadata": {},
   "outputs": [],
   "source": [
    "from sklearn.linear_model import lars_path\n",
    "print(\"Computing regularization path using the LARS ...\")\n",
    "alphas, _, coefs = lars_path(np.array(X_tr_no_rc), y_train_val.values, method='lasso')"
   ]
  },
  {
   "cell_type": "code",
   "execution_count": null,
   "metadata": {},
   "outputs": [],
   "source": [
    "xx = np.sum(np.abs(coefs.T), axis=1)\n",
    "xx /= xx[-1]\n",
    "\n",
    "plt.figure(figsize=(10,10))\n",
    "plt.plot(xx, coefs.T)\n",
    "ymin, ymax = plt.ylim()\n",
    "plt.vlines(xx, ymin, ymax, linestyle='dashed')\n",
    "plt.xlabel('|coef| / max|coef|')\n",
    "plt.ylabel('Coefficients')\n",
    "plt.title('LASSO Path')\n",
    "plt.axis('tight')\n",
    "plt.legend(X_tr_no_rc.columns)\n",
    "plt.show()"
   ]
  },
  {
   "cell_type": "markdown",
   "metadata": {},
   "source": [
    "### Ridge regression"
   ]
  },
  {
   "cell_type": "code",
   "execution_count": null,
   "metadata": {},
   "outputs": [],
   "source": []
  },
  {
   "cell_type": "code",
   "execution_count": null,
   "metadata": {},
   "outputs": [],
   "source": [
    "# Run the cross validation, find the best alpha, refit the model on all the data with that alpha\n",
    "\n",
    "alphavec = 10**np.linspace(-2,2,200)\n",
    "\n",
    "ridge_model = RidgeCV(alphas = alphavec, cv=5)\n",
    "ridge_model.fit(X_tr_no_rc, y_train_val)\n",
    "\n",
    "# This is the best alpha value it found \n",
    "ridge_model.alpha_"
   ]
  },
  {
   "cell_type": "code",
   "execution_count": null,
   "metadata": {},
   "outputs": [],
   "source": [
    "# These are the (standardized) coefficients found\n",
    "# when it refit using that best alpha\n",
    "coefficients = list(zip(X_tr_no_rc.columns, ridge_model.coef_))\n",
    "\n",
    "coefficients_df  = pd.DataFrame(coefficients, columns=['Feature', 'Coefficient'])\n",
    "\n",
    "coefficients_df['abs_val_of_coefficient'] = coefficients_df.Coefficient.abs()\n",
    "coefficients_df.sort_values(by='abs_val_of_coefficient', ascending=False, inplace=True)\n",
    "\n",
    "coefficients_df.drop(columns='abs_val_of_coefficient', inplace=True)\n",
    "coefficients_df"
   ]
  },
  {
   "cell_type": "code",
   "execution_count": null,
   "metadata": {},
   "outputs": [],
   "source": [
    "# Make predictions on the test set using the new model\n",
    "test_set_pred = ridge_model.predict(X_te_no_rc)"
   ]
  },
  {
   "cell_type": "code",
   "execution_count": null,
   "metadata": {},
   "outputs": [],
   "source": [
    "# Find the MAE and R^2 on the test set using this model\n",
    "mean_absolute_error = mae(y_test, test_set_pred)\n",
    "mean_absolute_error"
   ]
  },
  {
   "cell_type": "code",
   "execution_count": null,
   "metadata": {},
   "outputs": [],
   "source": [
    "r2_score_ = r2_score(y_test, test_set_pred)\n",
    "r2_score_ \n"
   ]
  },
  {
   "cell_type": "code",
   "execution_count": null,
   "metadata": {},
   "outputs": [],
   "source": [
    "plt.scatter( test_set_pred, y_test)\n",
    "plt.plot( y_test, y_test, c='k')"
   ]
  },
  {
   "cell_type": "code",
   "execution_count": null,
   "metadata": {},
   "outputs": [],
   "source": [
    "residual = y_test-test_set_pred\n",
    "plt.scatter( test_set_pred, residual)\n"
   ]
  },
  {
   "cell_type": "code",
   "execution_count": null,
   "metadata": {},
   "outputs": [],
   "source": [
    "coefficients_df.head()"
   ]
  },
  {
   "cell_type": "code",
   "execution_count": null,
   "metadata": {},
   "outputs": [],
   "source": [
    "Ridge_CV_model_no_rc = {\"r2_score\": r2_score, 'mean absolute error': mean_absolute_error, 'coefficients': coefficients_df}\n",
    "Ridge_CV_model_no_rc \n"
   ]
  },
  {
   "cell_type": "code",
   "execution_count": null,
   "metadata": {},
   "outputs": [],
   "source": []
  },
  {
   "cell_type": "code",
   "execution_count": null,
   "metadata": {},
   "outputs": [],
   "source": [
    "RCVM_no_rc_filename = 'Ridge_CV_model_no_rc' + director\n",
    "with open(dir_str + RCVM_no_rc_filename, 'wb') as to_write:\n",
    "    pickle.dump(Ridge_CV_model_no_rc, to_write)"
   ]
  },
  {
   "cell_type": "code",
   "execution_count": null,
   "metadata": {},
   "outputs": [],
   "source": []
  },
  {
   "cell_type": "code",
   "execution_count": null,
   "metadata": {},
   "outputs": [],
   "source": []
  },
  {
   "cell_type": "code",
   "execution_count": null,
   "metadata": {},
   "outputs": [],
   "source": []
  },
  {
   "cell_type": "markdown",
   "metadata": {},
   "source": [
    "## Re-analyzed including `budget` as a feature \n",
    "This entails a fewer rows of data, since many of the films don't have budget info available on IMDB"
   ]
  },
  {
   "cell_type": "code",
   "execution_count": null,
   "metadata": {},
   "outputs": [],
   "source": [
    "films_to_analyze_financial_df = films_to_analyze[(films_to_analyze['budget'] > 0) & (films_to_analyze['worldwide_gross'] > 0)]"
   ]
  },
  {
   "cell_type": "code",
   "execution_count": null,
   "metadata": {},
   "outputs": [],
   "source": [
    "analysis_columns = ['title', 'year', 'duration', 'budget', 'cinematographer', 'documentary', 'tv_series','rating', *prevalent_actor_columns]"
   ]
  },
  {
   "cell_type": "code",
   "execution_count": null,
   "metadata": {},
   "outputs": [],
   "source": [
    "analysis_columns "
   ]
  },
  {
   "cell_type": "code",
   "execution_count": null,
   "metadata": {},
   "outputs": [],
   "source": [
    "films_and_features_to_analyze_df = films_to_analyze_financial_df[analysis_columns]"
   ]
  },
  {
   "cell_type": "code",
   "execution_count": null,
   "metadata": {},
   "outputs": [],
   "source": [
    "cinematographer_include_threshold = films_and_features_to_analyze_df['cinematographer'].value_counts().min()\n",
    "cinematographer_include_threshold"
   ]
  },
  {
   "cell_type": "code",
   "execution_count": null,
   "metadata": {},
   "outputs": [],
   "source": [
    "value_counts = films_and_features_to_analyze_df['cinematographer'].value_counts() # Specific column \n",
    "to_remove = value_counts[value_counts <= cinematographer_include_threshold].index\n",
    "films_and_features_to_analyze_df['cinematographer'].replace(to_remove, 'OTHER', inplace=True)"
   ]
  },
  {
   "cell_type": "code",
   "execution_count": null,
   "metadata": {},
   "outputs": [],
   "source": []
  },
  {
   "cell_type": "markdown",
   "metadata": {},
   "source": [
    "### Regression analysis on `rating`,  `duration`, `year` and `budget` etc"
   ]
  },
  {
   "cell_type": "code",
   "execution_count": null,
   "metadata": {},
   "outputs": [],
   "source": [
    "films_and_features_to_analyze_df.columns"
   ]
  },
  {
   "cell_type": "code",
   "execution_count": null,
   "metadata": {},
   "outputs": [],
   "source": [
    "selected_cols = [*films_and_features_to_analyze_df.columns[1:7], *films_and_features_to_analyze_df.columns[8:]]"
   ]
  },
  {
   "cell_type": "code",
   "execution_count": null,
   "metadata": {},
   "outputs": [],
   "source": [
    "X= films_and_features_to_analyze_df[selected_cols]\n",
    "y= films_and_features_to_analyze_df['rating']"
   ]
  },
  {
   "cell_type": "code",
   "execution_count": null,
   "metadata": {},
   "outputs": [],
   "source": [
    "X"
   ]
  },
  {
   "cell_type": "code",
   "execution_count": null,
   "metadata": {},
   "outputs": [],
   "source": [
    "y.isnull().values.any()"
   ]
  },
  {
   "cell_type": "code",
   "execution_count": null,
   "metadata": {},
   "outputs": [],
   "source": [
    "X_train_val, X_test, y_train_val, y_test = train_test_split(X, y, test_size=0.2,random_state=42)"
   ]
  },
  {
   "cell_type": "code",
   "execution_count": null,
   "metadata": {},
   "outputs": [],
   "source": [
    "# X_train_val"
   ]
  },
  {
   "cell_type": "markdown",
   "metadata": {},
   "source": [
    "## Preprocessing\n"
   ]
  },
  {
   "cell_type": "markdown",
   "metadata": {},
   "source": [
    "### Categorical Variable Preprocessing"
   ]
  },
  {
   "cell_type": "markdown",
   "metadata": {},
   "source": [
    "#### One-hot-encoding"
   ]
  },
  {
   "cell_type": "code",
   "execution_count": null,
   "metadata": {},
   "outputs": [],
   "source": [
    "cat_ohe_vars = ['cinematographer']\n",
    "X_train_val_cat_ohe = X_train_val[cat_ohe_vars]\n",
    "#X_train_cat_ohe "
   ]
  },
  {
   "cell_type": "code",
   "execution_count": null,
   "metadata": {},
   "outputs": [],
   "source": [
    "ohe = OneHotEncoder(sparse=False,  handle_unknown='ignore')\n",
    "ohe.fit(X_train_val_cat_ohe)\n",
    "cat_ohe = ohe.transform(X_train_val_cat_ohe)"
   ]
  },
  {
   "cell_type": "code",
   "execution_count": null,
   "metadata": {},
   "outputs": [],
   "source": [
    "columns=ohe.get_feature_names(cat_ohe_vars)\n",
    "columns"
   ]
  },
  {
   "cell_type": "code",
   "execution_count": null,
   "metadata": {},
   "outputs": [],
   "source": [
    "cat_ohe.shape[0]"
   ]
  },
  {
   "cell_type": "code",
   "execution_count": null,
   "metadata": {},
   "outputs": [],
   "source": [
    "X_train_val_cat_ohe.shape[0]"
   ]
  },
  {
   "cell_type": "code",
   "execution_count": null,
   "metadata": {},
   "outputs": [],
   "source": []
  },
  {
   "cell_type": "code",
   "execution_count": null,
   "metadata": {},
   "outputs": [],
   "source": [
    "X_train_val_cat_ohe_df = pd.DataFrame(cat_ohe, columns=columns, index=X_train_val_cat_ohe.index)\n",
    "X_train_val_cat_ohe_df.head()"
   ]
  },
  {
   "cell_type": "code",
   "execution_count": null,
   "metadata": {},
   "outputs": [],
   "source": [
    "X_test_cat_ohe = X_test[['cinematographer']]\n",
    "X_test_cat_ohe\n",
    "cat_ohe_test = ohe.transform(X_test_cat_ohe)\n",
    "\n",
    "cat_ohe_columns = ohe.get_feature_names(['cinematographer'])\n",
    "X_test_cat_ohe_df = pd.DataFrame(cat_ohe_test, columns=cat_ohe_columns)\n"
   ]
  },
  {
   "cell_type": "markdown",
   "metadata": {},
   "source": [
    "### Continuous Variable Preprocessing"
   ]
  },
  {
   "cell_type": "code",
   "execution_count": null,
   "metadata": {},
   "outputs": [],
   "source": [
    "cont_column_names = ['year', 'duration', 'budget']\n",
    "X_train_val_cont = X_train_val[cont_column_names ]\n",
    "\n",
    "X_test_cont      = X_test[     cont_column_names ]\n",
    "\n",
    "\n",
    "X_train_val_cont.head()"
   ]
  },
  {
   "cell_type": "code",
   "execution_count": null,
   "metadata": {},
   "outputs": [],
   "source": [
    "X_train_val_cont['log_year']         = np.log(X_train_val_cont.year)\n",
    "X_train_val_cont['log_budget']         = np.log(X_train_val_cont.budget)\n",
    "X_train_val_cont['budget_sq'] = X_train_val_cont.budget**2\n",
    "#X_train_val_cont['budget_per_year'] = X_train_val_cont.budget/X_train_val_cont.year\n",
    "\n",
    "\n",
    "X_test_cont['log_year']         = np.log(X_test_cont.year)\n",
    "X_test_cont['log_budget']         = np.log(X_test_cont.budget)\n",
    "X_test_cont['budget_sq']  =  X_test_cont.budget**2\n",
    "#X_test_cont['budget_per_year']  =   X_test_cont.budget/X_test_cont.year"
   ]
  },
  {
   "cell_type": "code",
   "execution_count": null,
   "metadata": {},
   "outputs": [],
   "source": [
    "X_test_cont.shape[0]"
   ]
  },
  {
   "cell_type": "markdown",
   "metadata": {},
   "source": [
    "#### Concatenate columns"
   ]
  },
  {
   "cell_type": "code",
   "execution_count": null,
   "metadata": {},
   "outputs": [],
   "source": [
    "cat_columns = ['documentary', 'tv_series', *prevalent_actor_columns]\n",
    "X_train_val_cat_df = X_train_val[cat_columns]\n",
    "#X_train_val_cat_df\n",
    "\n",
    "X_test_cat_df = X_test[cat_columns]\n",
    "#X_train_val_cat_df"
   ]
  },
  {
   "cell_type": "code",
   "execution_count": null,
   "metadata": {},
   "outputs": [],
   "source": [
    "X_test_cat_df.isnull().values.any()"
   ]
  },
  {
   "cell_type": "code",
   "execution_count": null,
   "metadata": {},
   "outputs": [],
   "source": [
    "X_train_val_combo= pd.concat([X_train_val_cont, X_train_val_cat_ohe_df, X_train_val_cat_df, ], axis='columns')\n",
    "X_test_combo = pd.concat([X_test_cont.reset_index(drop=True), X_test_cat_ohe_df.reset_index(drop=True), X_test_cat_df.reset_index(drop=True), ], axis='columns')"
   ]
  },
  {
   "cell_type": "code",
   "execution_count": null,
   "metadata": {},
   "outputs": [],
   "source": [
    "X_test_cat_df.shape"
   ]
  },
  {
   "cell_type": "code",
   "execution_count": null,
   "metadata": {},
   "outputs": [],
   "source": [
    "X_train_val_combo.isnull().values.any()"
   ]
  },
  {
   "cell_type": "code",
   "execution_count": null,
   "metadata": {},
   "outputs": [],
   "source": [
    "X_test_combo.isnull().values.any()"
   ]
  },
  {
   "cell_type": "code",
   "execution_count": null,
   "metadata": {},
   "outputs": [],
   "source": [
    "X_test_combo"
   ]
  },
  {
   "cell_type": "code",
   "execution_count": null,
   "metadata": {},
   "outputs": [],
   "source": [
    "selected_columns = X_train_val_combo.columns\n",
    "X_train_val_combo.columns"
   ]
  },
  {
   "cell_type": "markdown",
   "metadata": {},
   "source": [
    "### Train vs. val split\n",
    "\n"
   ]
  },
  {
   "cell_type": "code",
   "execution_count": null,
   "metadata": {},
   "outputs": [],
   "source": [
    "X_train, X_val, y_train, y_val = train_test_split(X_train_val_combo, y_train_val, test_size=.25, random_state=43) #43"
   ]
  },
  {
   "cell_type": "code",
   "execution_count": null,
   "metadata": {},
   "outputs": [],
   "source": []
  },
  {
   "cell_type": "markdown",
   "metadata": {},
   "source": [
    "### Lasso CV"
   ]
  },
  {
   "cell_type": "code",
   "execution_count": null,
   "metadata": {},
   "outputs": [],
   "source": [
    "## Scale the data as before\n",
    "std = StandardScaler()\n",
    "std.fit(X_train_val_combo.values)"
   ]
  },
  {
   "cell_type": "code",
   "execution_count": null,
   "metadata": {},
   "outputs": [],
   "source": [
    "## Scale the Predictors on both the train and test set\n",
    "X_tr = std.transform(X_train_val_combo.values)\n",
    "X_te = std.transform(X_test_combo.values)"
   ]
  },
  {
   "cell_type": "code",
   "execution_count": null,
   "metadata": {},
   "outputs": [],
   "source": [
    "# Run the cross validation, find the best alpha, refit the model on all the data with that alpha\n",
    "\n",
    "alphavec = 10**np.linspace(-2,2,200)\n",
    "\n",
    "lasso_model = LassoCV(alphas = alphavec, cv=5)\n",
    "lasso_model.fit(X_tr, y_train_val)"
   ]
  },
  {
   "cell_type": "code",
   "execution_count": null,
   "metadata": {},
   "outputs": [],
   "source": [
    "# This is the best alpha value it found \n",
    "lasso_model.alpha_"
   ]
  },
  {
   "cell_type": "code",
   "execution_count": null,
   "metadata": {},
   "outputs": [],
   "source": [
    "# These are the (standardized) coefficients found\n",
    "# when it refit using that best alpha\n",
    "coefficients = list(zip(X_train_val_combo.columns, lasso_model.coef_))\n",
    "coefficients"
   ]
  },
  {
   "cell_type": "code",
   "execution_count": null,
   "metadata": {},
   "outputs": [],
   "source": [
    "# Make predictions on the test set using the new model\n",
    "test_set_pred = lasso_model.predict(X_te)"
   ]
  },
  {
   "cell_type": "code",
   "execution_count": null,
   "metadata": {},
   "outputs": [],
   "source": [
    "# Find the MAE and R^2 on the test set using this model\n",
    "mean_absolute_error = mae(y_test, test_set_pred)\n",
    "mean_absolute_error"
   ]
  },
  {
   "cell_type": "code",
   "execution_count": null,
   "metadata": {},
   "outputs": [],
   "source": [
    "r2_score_ = r2_score(y_test, test_set_pred)\n",
    "r2_score_ "
   ]
  },
  {
   "cell_type": "code",
   "execution_count": null,
   "metadata": {},
   "outputs": [],
   "source": [
    "plt.scatter( test_set_pred, y_test)\n",
    "plt.plot( y_test, y_test, c='k')"
   ]
  },
  {
   "cell_type": "code",
   "execution_count": null,
   "metadata": {},
   "outputs": [],
   "source": [
    "residual = y_test-test_set_pred\n",
    "plt.scatter( test_set_pred, residual)"
   ]
  },
  {
   "cell_type": "code",
   "execution_count": null,
   "metadata": {},
   "outputs": [],
   "source": [
    "pd.options.display.float_format = \"{:,.5f}\".format\n",
    "\n"
   ]
  },
  {
   "cell_type": "code",
   "execution_count": null,
   "metadata": {},
   "outputs": [],
   "source": [
    "coefficients_df  = pd.DataFrame(coefficients, columns=['Feature', 'Coefficient'])\n",
    "coefficients_df['abs_val_of_coefficient'] = coefficients_df.Coefficient.abs()\n",
    "coefficients_df.sort_values(by='abs_val_of_coefficient', ascending=False, inplace=True)\n",
    "\n",
    "coefficients_df.drop(columns='abs_val_of_coefficient', inplace=True)\n",
    "coefficients_df.head(10)\n",
    "#print(coefficients_df.head(10))"
   ]
  },
  {
   "cell_type": "code",
   "execution_count": null,
   "metadata": {},
   "outputs": [],
   "source": [
    "Lasso_CV_model_w_budget = {\"r2_score\": r2_score, 'mean absolute error': mean_absolute_error, 'coefficients': coefficients_df}\n",
    "Lasso_CV_model_w_budget "
   ]
  },
  {
   "cell_type": "code",
   "execution_count": null,
   "metadata": {},
   "outputs": [],
   "source": [
    "LCVM_w_budget_filename = 'Lasso_CV_model_w_budget_' + director\n",
    "with open(dir_str + LCVM_w_budget_filename, 'wb') as to_write:\n",
    "    pickle.dump(Lasso_CV_model_w_budget, to_write)"
   ]
  },
  {
   "cell_type": "markdown",
   "metadata": {},
   "source": [
    "### Ridge regression"
   ]
  },
  {
   "cell_type": "code",
   "execution_count": null,
   "metadata": {},
   "outputs": [],
   "source": [
    "# Run the cross validation, find the best alpha, refit the model on all the data with that alpha\n",
    "\n",
    "alphavec = 10**np.linspace(-2,2,200)\n",
    "\n",
    "ridge_model = RidgeCV(alphas = alphavec, cv=5)\n",
    "ridge_model.fit(X_tr, y_train_val)\n",
    "\n",
    "# This is the best alpha value it found \n",
    "ridge_model.alpha_"
   ]
  },
  {
   "cell_type": "code",
   "execution_count": null,
   "metadata": {},
   "outputs": [],
   "source": [
    "# These are the (standardized) coefficients found\n",
    "# when it refit using that best alpha\n",
    "coefficients = list(zip(X_train.columns, ridge_model.coef_))\n"
   ]
  },
  {
   "cell_type": "code",
   "execution_count": null,
   "metadata": {},
   "outputs": [],
   "source": [
    "# Make predictions on the test set using the new model\n",
    "test_set_pred = ridge_model.predict(X_te)"
   ]
  },
  {
   "cell_type": "code",
   "execution_count": null,
   "metadata": {},
   "outputs": [],
   "source": [
    "# Find the MAE and R^2 on the test set using this model\n",
    "mean_absolute_error = mae(y_test, test_set_pred)\n",
    "mean_absolute_error"
   ]
  },
  {
   "cell_type": "code",
   "execution_count": null,
   "metadata": {},
   "outputs": [],
   "source": [
    "r2_score_ = r2_score(y_test, test_set_pred)\n",
    "r2_score_ "
   ]
  },
  {
   "cell_type": "code",
   "execution_count": null,
   "metadata": {},
   "outputs": [],
   "source": [
    "\n",
    "plt.scatter( test_set_pred, y_test)\n",
    "plt.plot( y_test, y_test, c='k')"
   ]
  },
  {
   "cell_type": "code",
   "execution_count": null,
   "metadata": {},
   "outputs": [],
   "source": []
  },
  {
   "cell_type": "code",
   "execution_count": null,
   "metadata": {},
   "outputs": [],
   "source": [
    "residual = y_test-test_set_pred\n",
    "plt.scatter( test_set_pred, residual)"
   ]
  },
  {
   "cell_type": "code",
   "execution_count": null,
   "metadata": {},
   "outputs": [],
   "source": []
  },
  {
   "cell_type": "code",
   "execution_count": null,
   "metadata": {},
   "outputs": [],
   "source": [
    "coefficients_df  = pd.DataFrame(coefficients, columns=['Feature', 'Coefficient'])\n",
    "coefficients_df['abs_val_of_coefficient'] = coefficients_df.Coefficient.abs()\n",
    "coefficients_df.sort_values(by='abs_val_of_coefficient', ascending=False, inplace=True)\n",
    "\n",
    "coefficients_df.drop(columns='abs_val_of_coefficient', inplace=True)\n",
    "coefficients_df.head(10)"
   ]
  },
  {
   "cell_type": "code",
   "execution_count": null,
   "metadata": {},
   "outputs": [],
   "source": [
    "Ridge_CV_model_w_budget = {\"r2_score\": r2_score, 'mean absolute error': mean_absolute_error, 'coefficients': coefficients_df}\n",
    "Ridge_CV_model_w_budget "
   ]
  },
  {
   "cell_type": "code",
   "execution_count": null,
   "metadata": {},
   "outputs": [],
   "source": [
    "RCVM_w_budget_filename = 'Ridge_CV_model_w_budget_' + director\n",
    "with open(dir_str + RCVM_w_budget_filename, 'wb') as to_write:\n",
    "    pickle.dump(Ridge_CV_model_w_budget, to_write)"
   ]
  },
  {
   "cell_type": "code",
   "execution_count": null,
   "metadata": {},
   "outputs": [],
   "source": []
  },
  {
   "cell_type": "code",
   "execution_count": null,
   "metadata": {},
   "outputs": [],
   "source": []
  },
  {
   "cell_type": "markdown",
   "metadata": {},
   "source": []
  },
  {
   "cell_type": "code",
   "execution_count": null,
   "metadata": {},
   "outputs": [],
   "source": []
  },
  {
   "cell_type": "code",
   "execution_count": null,
   "metadata": {},
   "outputs": [],
   "source": []
  },
  {
   "cell_type": "code",
   "execution_count": null,
   "metadata": {},
   "outputs": [],
   "source": []
  },
  {
   "cell_type": "code",
   "execution_count": null,
   "metadata": {},
   "outputs": [],
   "source": []
  },
  {
   "cell_type": "code",
   "execution_count": null,
   "metadata": {},
   "outputs": [],
   "source": []
  },
  {
   "cell_type": "code",
   "execution_count": null,
   "metadata": {},
   "outputs": [],
   "source": []
  },
  {
   "cell_type": "code",
   "execution_count": null,
   "metadata": {},
   "outputs": [],
   "source": []
  },
  {
   "cell_type": "code",
   "execution_count": null,
   "metadata": {},
   "outputs": [],
   "source": []
  },
  {
   "cell_type": "code",
   "execution_count": null,
   "metadata": {},
   "outputs": [],
   "source": []
  },
  {
   "cell_type": "raw",
   "metadata": {},
   "source": [
    "#X_train, X_test, y_train, y_test = train_test_split(X, y)"
   ]
  },
  {
   "cell_type": "raw",
   "metadata": {},
   "source": [
    "### Preprocessing"
   ]
  },
  {
   "cell_type": "raw",
   "metadata": {},
   "source": [
    "#### Categorical Variable Preprocessing"
   ]
  },
  {
   "cell_type": "raw",
   "metadata": {},
   "source": []
  },
  {
   "cell_type": "raw",
   "metadata": {},
   "source": []
  },
  {
   "cell_type": "raw",
   "metadata": {},
   "source": []
  },
  {
   "cell_type": "raw",
   "metadata": {},
   "source": [
    "### Continous Variable Preprocessing"
   ]
  },
  {
   "cell_type": "raw",
   "metadata": {},
   "source": [
    "#### Select continuous variables from training set"
   ]
  },
  {
   "cell_type": "raw",
   "metadata": {},
   "source": [
    "\n"
   ]
  },
  {
   "cell_type": "raw",
   "metadata": {},
   "source": [
    "####  scale the continuous variables in the train set"
   ]
  },
  {
   "cell_type": "raw",
   "metadata": {},
   "source": [
    "from sklearn.preprocessing import StandardScaler\n",
    "\n",
    "ss = StandardScaler()\n",
    "\n",
    "ss.fit(X_train_cont)\n",
    "X_train_scaled = ss.transform(X_train_cont)\n",
    "\n",
    "cont_columns = X_train_cont.columns\n",
    "X_train_scaled_df = pd.DataFrame(X_train_scaled, columns=cont_columns, index=X_train_cont.index)\n",
    "\n",
    "X_train_scaled_df.head()\n"
   ]
  },
  {
   "cell_type": "raw",
   "metadata": {},
   "source": [
    "#### select and scale the continuous variables in the test set"
   ]
  },
  {
   "cell_type": "raw",
   "metadata": {},
   "source": [
    "X_test_cont = X_test[['year', 'duration', 'rating_count']]\n",
    "X_test_cont.head()"
   ]
  },
  {
   "cell_type": "raw",
   "metadata": {},
   "source": [
    "X_test_scaled = ss.transform(X_test_cont)\n",
    "\n",
    "cont_columns = X_test_cont.columns\n",
    "X_test_scaled_df = pd.DataFrame(X_test_scaled, columns=cont_columns, index=X_test_cont.index)\n",
    "\n",
    "X_test_scaled_df.head()"
   ]
  },
  {
   "cell_type": "raw",
   "metadata": {},
   "source": [
    "### Combine the continuous, categorical, and ohe cat features for our testing set\n"
   ]
  },
  {
   "cell_type": "raw",
   "metadata": {},
   "source": [
    "cat_columns = ['documentary', 'tv_series', *prevalent_actor_columns]\n",
    "X_train_cat_df = X_train[cat_columns]\n"
   ]
  },
  {
   "cell_type": "raw",
   "metadata": {},
   "source": [
    "X_train_combined = pd.concat([X_train_scaled_df, X_train_cat_ohe_df, X_train_cat_df, ], axis='columns')\n",
    "\n",
    "X_train_combined.head(10)"
   ]
  },
  {
   "cell_type": "raw",
   "metadata": {},
   "source": [
    "X_train.shape"
   ]
  },
  {
   "cell_type": "raw",
   "metadata": {},
   "source": [
    "### Combine the continuous and categorical features for our testing set\n"
   ]
  },
  {
   "cell_type": "raw",
   "metadata": {},
   "source": [
    "X_test_cat_df = X_test[cat_columns]"
   ]
  },
  {
   "cell_type": "raw",
   "metadata": {},
   "source": [
    "X_test_scaled_df.shape[0] == X_test_cat_df.shape[0] == X_test_cat_ohe_df.shape[0]\n"
   ]
  },
  {
   "cell_type": "raw",
   "metadata": {},
   "source": [
    "X_test_combined = pd.concat([X_test_scaled_df.reset_index(drop=True), X_test_cat_ohe_df.reset_index(drop=True), X_test_cat_df.reset_index(drop=True) ], axis=1)\n",
    "#X_test_combined = pd.concat([X_test_scaled_df, X_test_cat_ohe_df, X_test_cat_df ], axis=1)\n",
    "\n",
    "X_test_combined"
   ]
  },
  {
   "cell_type": "raw",
   "metadata": {},
   "source": [
    "### Now make predictions by instantiating the Linear Regression Model "
   ]
  },
  {
   "cell_type": "raw",
   "metadata": {},
   "source": [
    "lr = LinearRegression()\n",
    "\n",
    "lr.fit(X_train_combined, y_train)"
   ]
  },
  {
   "cell_type": "raw",
   "metadata": {},
   "source": [
    "lr.coef_"
   ]
  },
  {
   "cell_type": "raw",
   "metadata": {},
   "source": [
    "y_pred = lr.predict(X_test_combined)\n",
    "\n",
    "y_pred"
   ]
  },
  {
   "cell_type": "raw",
   "metadata": {},
   "source": [
    "from sklearn.metrics import mean_squared_error, r2_score\n",
    "\n",
    "rmse = np.sqrt(mean_squared_error(y_test, y_pred))\n",
    "\n",
    "r2 = r2_score(y_test, y_pred)\n",
    "\n",
    "print(f'RMSE: {rmse:.2f}\\nr2: {r2:.2f}')"
   ]
  },
  {
   "cell_type": "raw",
   "metadata": {},
   "source": [
    "print(r2)"
   ]
  },
  {
   "cell_type": "raw",
   "metadata": {},
   "source": [
    "score = lr.score(X_test_combined, y_test) \n",
    "score"
   ]
  },
  {
   "cell_type": "raw",
   "metadata": {},
   "source": [
    "# Focus on building up from fewer features\n",
    "for instance the continous ones"
   ]
  },
  {
   "cell_type": "raw",
   "metadata": {},
   "source": [
    "### Train Test Split"
   ]
  },
  {
   "cell_type": "raw",
   "metadata": {},
   "source": [
    "films_and_features_to_analyze_df.columns # review columns we start with"
   ]
  },
  {
   "cell_type": "raw",
   "metadata": {},
   "source": [
    "selected_cols = ['year', 'duration', 'rating_count']"
   ]
  },
  {
   "cell_type": "raw",
   "metadata": {},
   "source": [
    "X= films_and_features_to_analyze_df[selected_cols]\n",
    "y= films_and_features_to_analyze_df['rating']"
   ]
  },
  {
   "cell_type": "raw",
   "metadata": {},
   "source": [
    "X_train, X_test, y_train, y_test = train_test_split(X, y)"
   ]
  },
  {
   "cell_type": "raw",
   "metadata": {},
   "source": [
    "### Preprocessing"
   ]
  },
  {
   "cell_type": "raw",
   "metadata": {},
   "source": [
    "## For now, ignore these categorical variables"
   ]
  },
  {
   "cell_type": "raw",
   "metadata": {},
   "source": [
    "#### Categorical Variable Preprocessing"
   ]
  },
  {
   "cell_type": "raw",
   "metadata": {},
   "source": [
    "cat_ohe_vars = ['cinematographer']\n",
    "X_train_cat_ohe = X_train[cat_ohe_vars]\n",
    "#X_train_cat_ohe "
   ]
  },
  {
   "cell_type": "raw",
   "metadata": {},
   "source": [
    "#### OneHotEncoding"
   ]
  },
  {
   "cell_type": "raw",
   "metadata": {},
   "source": [
    "#ohe = OneHotEncoder(sparse=False, drop='first')\n",
    "ohe = OneHotEncoder(sparse=False,  handle_unknown='ignore')\n",
    "ohe.fit(X_train_cat_ohe)\n",
    "cats_ohe = ohe.transform(X_train_cat_ohe)\n"
   ]
  },
  {
   "cell_type": "raw",
   "metadata": {},
   "source": [
    "columns=ohe.get_feature_names(cat_vars_ohe)\n",
    "\n",
    "columns"
   ]
  },
  {
   "cell_type": "raw",
   "metadata": {},
   "source": [
    "X_train_cat_ohe_df = pd.DataFrame(cats_ohe, columns=columns, index=X_train_cat_ohe.index)\n",
    "X_train_cat_ohe_df.head()"
   ]
  },
  {
   "cell_type": "raw",
   "metadata": {},
   "source": [
    "#### Repeating transformations on testing set"
   ]
  },
  {
   "cell_type": "raw",
   "metadata": {},
   "source": [
    "X_test_cat_ohe = X_test[['cinematographer']]\n",
    "X_test_cat_ohe\n",
    "cats_ohe_test = ohe.transform(X_test_cat_ohe)\n",
    "\n",
    "cat_ohe_columns = ohe.get_feature_names(['cinematographer'])\n",
    "X_test_cat_ohe_df = pd.DataFrame(cats_ohe_test, columns=cat_ohe_columns)"
   ]
  },
  {
   "cell_type": "raw",
   "metadata": {},
   "source": [
    "### Continous Variable Preprocessing"
   ]
  },
  {
   "cell_type": "raw",
   "metadata": {},
   "source": [
    "#### Select continuous variables from training set"
   ]
  },
  {
   "cell_type": "raw",
   "metadata": {},
   "source": [
    "X_train_cont = X_train[['year', 'duration', 'rating_count']]\n",
    "X_train_cont.head()\n",
    "\n"
   ]
  },
  {
   "cell_type": "raw",
   "metadata": {},
   "source": [
    "####  scale the continuous variables in the train set"
   ]
  },
  {
   "cell_type": "raw",
   "metadata": {},
   "source": [
    "from sklearn.preprocessing import StandardScaler\n",
    "\n",
    "ss = StandardScaler()\n",
    "\n",
    "ss.fit(X_train_cont)\n",
    "X_train_scaled = ss.transform(X_train_cont)\n",
    "\n",
    "cont_columns = X_train_cont.columns\n",
    "X_train_scaled_df = pd.DataFrame(X_train_scaled, columns=cont_columns, index=X_train_cont.index)\n",
    "\n",
    "X_train_scaled_df.head()\n"
   ]
  },
  {
   "cell_type": "raw",
   "metadata": {},
   "source": [
    "#### select and scale the continuous variables in the test set"
   ]
  },
  {
   "cell_type": "raw",
   "metadata": {},
   "source": [
    "X_test_cont = X_test[['year', 'duration', 'rating_count']]\n",
    "X_test_cont.head()"
   ]
  },
  {
   "cell_type": "raw",
   "metadata": {},
   "source": [
    "X_test_scaled = ss.transform(X_test_cont)\n",
    "\n",
    "cont_columns = X_test_cont.columns\n",
    "X_test_scaled_df = pd.DataFrame(X_test_scaled, columns=cont_columns, index=X_test_cont.index)\n",
    "\n",
    "X_test_scaled_df.head()"
   ]
  },
  {
   "cell_type": "raw",
   "metadata": {},
   "source": [
    "### Combine the continuous, categorical, and ohe cat features for our testing set\n"
   ]
  },
  {
   "cell_type": "raw",
   "metadata": {},
   "source": [
    "## for now, ignore these categorical variables"
   ]
  },
  {
   "cell_type": "raw",
   "metadata": {},
   "source": []
  },
  {
   "cell_type": "raw",
   "metadata": {},
   "source": [
    "cat_columns = ['documentary', 'tv_series', *selected_actor_columns]\n",
    "X_train_cat_df = X_train[cat_columns]\n"
   ]
  },
  {
   "cell_type": "raw",
   "metadata": {},
   "source": []
  },
  {
   "cell_type": "raw",
   "metadata": {},
   "source": [
    "## 'combine' will really just be the continuous variables"
   ]
  },
  {
   "cell_type": "raw",
   "metadata": {},
   "source": [
    "X_train_combined = pd.concat([X_train_scaled_df.reset_index(drop=True)], axis='columns')\n",
    "\n",
    "X_train_combined.head()"
   ]
  },
  {
   "cell_type": "raw",
   "metadata": {},
   "source": [
    "X_train_combined.shape"
   ]
  },
  {
   "cell_type": "raw",
   "metadata": {},
   "source": [
    "### Combine the continuous and categorical features for our testing set\n"
   ]
  },
  {
   "cell_type": "raw",
   "metadata": {},
   "source": [
    "X_test_cat_df = X_test[cat_columns]"
   ]
  },
  {
   "cell_type": "raw",
   "metadata": {},
   "source": [
    "X_test_scaled_df.shape[0] == X_test_cat_df.shape[0] == X_test_cat_ohe_df.shape[0]\n"
   ]
  },
  {
   "cell_type": "raw",
   "metadata": {},
   "source": [
    "#X_test_combined = pd.concat([X_test_scaled_df.reset_index(drop=True), X_test_cat_ohe_df.reset_index(drop=True), X_test_cat_df.reset_index(drop=True) ], axis=1)\n",
    "X_test_combined = pd.concat([X_test_scaled_df.reset_index(drop=True) ], axis=1)\n",
    "\n",
    "X_test_combined"
   ]
  },
  {
   "cell_type": "raw",
   "metadata": {},
   "source": [
    "### Now make predictions by instantiating the Linear Regression Model "
   ]
  },
  {
   "cell_type": "raw",
   "metadata": {},
   "source": [
    "#X_train_combined"
   ]
  },
  {
   "cell_type": "raw",
   "metadata": {},
   "source": [
    "lr = LinearRegression()\n",
    "\n",
    "lr.fit(X_train_combined,y_train)"
   ]
  },
  {
   "cell_type": "raw",
   "metadata": {},
   "source": [
    "lr.coef_"
   ]
  },
  {
   "cell_type": "raw",
   "metadata": {},
   "source": [
    "\n",
    "y_pred = lr.predict(X_test_combined)\n",
    "\n",
    "y_pred"
   ]
  },
  {
   "cell_type": "raw",
   "metadata": {},
   "source": [
    "from sklearn.metrics import mean_squared_error, r2_score\n",
    "\n",
    "rmse = np.sqrt(mean_squared_error(y_test, y_pred))\n",
    "\n",
    "r2 = r2_score(y_test, y_pred)\n",
    "\n",
    "print(f'RMSE: {rmse:.2f}\\nr2: {r2:.2f}')"
   ]
  },
  {
   "cell_type": "raw",
   "metadata": {},
   "source": [
    "score = lr.score(X_test_combined, y_test) \n",
    "score"
   ]
  },
  {
   "cell_type": "raw",
   "metadata": {},
   "source": []
  },
  {
   "cell_type": "raw",
   "metadata": {},
   "source": [
    "## Try to fit with just the year"
   ]
  },
  {
   "cell_type": "raw",
   "metadata": {},
   "source": [
    "lr = LinearRegression()"
   ]
  },
  {
   "cell_type": "raw",
   "metadata": {},
   "source": []
  },
  {
   "cell_type": "raw",
   "metadata": {},
   "source": [
    "X_train_year_only = X_train_combined.iloc[:, :1]"
   ]
  },
  {
   "cell_type": "raw",
   "metadata": {},
   "source": [
    "X_test_year_only = X_test_combined.iloc[:, :1]"
   ]
  },
  {
   "cell_type": "raw",
   "metadata": {},
   "source": [
    "#X_train_year_only "
   ]
  },
  {
   "cell_type": "raw",
   "metadata": {},
   "source": [
    "lr.fit(X_train_year_only, y_train)"
   ]
  },
  {
   "cell_type": "raw",
   "metadata": {},
   "source": [
    "lr.coef_"
   ]
  },
  {
   "cell_type": "raw",
   "metadata": {},
   "source": [
    "y_pred = lr.predict(X_test_year_only)\n",
    "\n",
    "y_pred"
   ]
  },
  {
   "cell_type": "raw",
   "metadata": {},
   "source": [
    "y_test"
   ]
  },
  {
   "cell_type": "raw",
   "metadata": {},
   "source": [
    "#y_test"
   ]
  },
  {
   "cell_type": "raw",
   "metadata": {},
   "source": [
    "from sklearn.metrics import mean_squared_error, r2_score\n",
    "\n",
    "rmse = np.sqrt(mean_squared_error(y_test, y_pred))"
   ]
  },
  {
   "cell_type": "raw",
   "metadata": {},
   "source": []
  },
  {
   "cell_type": "raw",
   "metadata": {},
   "source": [
    "r2 = r2_score(y_test, y_pred)\n",
    "\n",
    "print(f'RMSE: {rmse:.2f}\\nr2: {r2:.2f}')"
   ]
  },
  {
   "cell_type": "raw",
   "metadata": {},
   "source": []
  },
  {
   "cell_type": "raw",
   "metadata": {},
   "source": [
    "## Try to fit with just the `year` and `duration`\n"
   ]
  },
  {
   "cell_type": "raw",
   "metadata": {},
   "source": [
    "lr = LinearRegression()\n",
    "\n",
    "X_train_year_dur_only = X_train_combined.iloc[:, :2]\n",
    "\n",
    "X_test_year_dur_only = X_test_combined.iloc[:, :2]\n",
    "\n",
    "#X_train_year_only \n",
    "\n",
    "lr.fit(X_train_year_dur_only, y_train)\n",
    "\n",
    "lr.coef_\n",
    "\n",
    "y_pred = lr.predict(X_test_year_dur_only)\n",
    "\n",
    "y_pred\n",
    "\n",
    "y_test\n",
    "\n",
    "#y_test\n",
    "\n",
    "from sklearn.metrics import mean_squared_error, r2_score\n",
    "\n",
    "rmse = np.sqrt(mean_squared_error(y_test, y_pred))\n",
    "\n",
    "\n",
    "\n",
    "r2 = r2_score(y_test, y_pred)\n",
    "\n",
    "print(f'RMSE: {rmse:.2f}\\nr2: {r2:.2f}')"
   ]
  },
  {
   "cell_type": "raw",
   "metadata": {},
   "source": [
    "## Try to fit with just the `year` and `rating_count`"
   ]
  },
  {
   "cell_type": "raw",
   "metadata": {},
   "source": [
    "X_train_combined[['year', 'rating_count']]"
   ]
  },
  {
   "cell_type": "raw",
   "metadata": {},
   "source": [
    "lr = LinearRegression()\n",
    "\n",
    "X_train_year_rc_only = X_train_combined[['year', 'rating_count']]\n",
    "\n",
    "X_test_year_rc_only = X_test_combined[['year', 'rating_count']]\n",
    "\n",
    "\n",
    "\n",
    "lr.fit(X_train_year_rc_only, y_train)\n",
    "\n",
    "lr.coef_\n",
    "\n",
    "y_pred = lr.predict(X_test_year_rc_only)\n",
    "\n",
    "y_pred\n",
    "\n",
    "y_test\n",
    "\n",
    "\n",
    "from sklearn.metrics import mean_squared_error, r2_score\n",
    "\n",
    "rmse = np.sqrt(mean_squared_error(y_test, y_pred))\n",
    "\n",
    "\n",
    "\n",
    "r2 = r2_score(y_test, y_pred)\n",
    "\n",
    "print(f'RMSE: {rmse:.2f}\\nr2: {r2:.2f}')"
   ]
  },
  {
   "cell_type": "raw",
   "metadata": {},
   "source": [
    "## Feature engineer:  log(`year`) and and log(`rating_count`)"
   ]
  },
  {
   "cell_type": "raw",
   "metadata": {},
   "source": [
    "####  scale the continuous variables in the train set"
   ]
  },
  {
   "cell_type": "raw",
   "metadata": {},
   "source": [
    "X_train_cont_w_log = copy.deepcopy(X_train_cont) \n",
    "X_test_cont_w_log = copy.deepcopy(X_test_cont) \n",
    "\n",
    "X_train_cont_w_log['log_year'] = np.log(X_train_cont_w_log.year)\n",
    "X_test_cont_w_log['log_year'] = np.log(X_test_cont_w_log.year)\n",
    "\n",
    "X_train_cont_w_log['log_rating_count'] = np.log(X_train_cont_w_log.rating_count)\n",
    "X_test_cont_w_log['log_rating_count'] = np.log(X_test_cont_w_log.rating_count)"
   ]
  },
  {
   "cell_type": "raw",
   "metadata": {},
   "source": [
    "from sklearn.preprocessing import StandardScaler\n",
    "\n",
    "ss = StandardScaler()\n",
    "\n",
    "ss.fit(X_train_cont_w_log)\n",
    "X_train_scaled = ss.transform(X_train_cont_w_log)\n",
    "\n",
    "cont_columns = X_train_cont_w_log.columns\n",
    "#X_train_scaled_df = pd.DataFrame(X_train_scaled, columns=cont_columns, index=X_train_cont.index)\n",
    "X_train_scaled_df = pd.DataFrame(X_train_scaled, columns=cont_columns, index=X_train_cont_w_log.index)\n",
    "\n",
    "X_train_scaled_df.head()"
   ]
  },
  {
   "cell_type": "raw",
   "metadata": {},
   "source": [
    "X_test_scaled = ss.transform(X_test_cont_w_log)\n",
    "\n",
    "cont_columns = X_test_cont_w_log.columns\n",
    "X_test_scaled_df = pd.DataFrame(X_test_scaled, columns=cont_columns, index=X_test_cont_w_log.index)\n",
    "#X_test_scaled_df = pd.DataFrame(X_test_scaled, columns=cont_columns, index=X_test_cont.index)\n",
    "\n",
    "X_test_scaled_df.head()"
   ]
  },
  {
   "cell_type": "raw",
   "metadata": {},
   "source": [
    "lr = LinearRegression()\n",
    "\n",
    "lr.fit(X_train_scaled_df, y_train)\n",
    "\n",
    "lr.coef_\n",
    "\n",
    "y_pred = lr.predict(X_test_scaled_df)\n",
    "\n",
    "y_pred\n",
    "\n",
    "y_test\n",
    "\n",
    "\n",
    "from sklearn.metrics import mean_squared_error, r2_score\n",
    "\n",
    "rmse = np.sqrt(mean_squared_error(y_test, y_pred))\n",
    "\n",
    "\n",
    "\n",
    "r2 = r2_score(y_test, y_pred)\n",
    "\n",
    "print(f'RMSE: {rmse:.2f}\\nr2: {r2:.2f}')"
   ]
  },
  {
   "cell_type": "raw",
   "metadata": {},
   "source": [
    "lr.coef_"
   ]
  },
  {
   "cell_type": "raw",
   "metadata": {},
   "source": [
    "year_min = float(films_and_features_to_analyze_df[['year']].min())\n",
    "year_min"
   ]
  },
  {
   "cell_type": "raw",
   "metadata": {},
   "source": [
    "year_max = float(films_and_features_to_analyze_df[['year']].max())"
   ]
  },
  {
   "cell_type": "raw",
   "metadata": {
    "scrolled": true
   },
   "source": [
    "plot_df = films_and_features_to_analyze_df[['year', 'rating']]\n",
    "sns.set(font_scale=1.6)\n",
    "sns.set_style(\"white\")\n",
    "g=sns.lmplot(x='year', y='rating', data=plot_df, \n",
    "           fit_reg=True, aspect=1);\n",
    "g.set(ylim=(4.5, 9))\n",
    "g.set(xlim=(year_min, year_min+(year_max-year_min)))\n",
    "g.fig.set_figwidth(4)\n",
    "g.fig.set_figheight(4)"
   ]
  },
  {
   "cell_type": "raw",
   "metadata": {
    "scrolled": true
   },
   "source": [
    "plot_df = films_and_features_to_analyze_df[['rating_count', 'rating']]\n",
    "g=sns.lmplot(x='rating_count', y='rating', data=plot_df, \n",
    "           lowess=True,);\n",
    "g.set(ylim=(4.5, 9))\n",
    "g.set(xlim=(0, 600000))"
   ]
  },
  {
   "cell_type": "raw",
   "metadata": {
    "scrolled": true
   },
   "source": [
    "g=sns.lmplot(x='rating_count', y='rating', data=plot_df,\n",
    "           logx=True,);\n",
    "g.set(ylim=(4.5, 9))\n",
    "g.set(xlim=(0, 600000))"
   ]
  },
  {
   "cell_type": "raw",
   "metadata": {},
   "source": []
  },
  {
   "cell_type": "raw",
   "metadata": {},
   "source": []
  },
  {
   "cell_type": "raw",
   "metadata": {},
   "source": []
  },
  {
   "cell_type": "raw",
   "metadata": {},
   "source": []
  },
  {
   "cell_type": "raw",
   "metadata": {},
   "source": []
  },
  {
   "cell_type": "raw",
   "metadata": {
    "scrolled": true
   },
   "source": [
    "plt.ylabel(\"rating\")\n",
    "plt.scatter(X_test_cont_w_log['year'], y_test,  color='black')\n",
    "plt.xlabel('years')\n",
    "plt.show()\n",
    "#plt.plot(X_test_cont_w_log['year'], y_pred, color='blue', linewidth=3)\n",
    "plt.scatter(X_test_cont_w_log['rating_count'], y_test,  color='black')\n",
    "plt.xlabel('number of ratings')\n",
    "plt.show()"
   ]
  },
  {
   "cell_type": "raw",
   "metadata": {},
   "source": []
  },
  {
   "cell_type": "raw",
   "metadata": {},
   "source": []
  },
  {
   "cell_type": "raw",
   "metadata": {},
   "source": []
  },
  {
   "cell_type": "raw",
   "metadata": {},
   "source": []
  },
  {
   "cell_type": "raw",
   "metadata": {},
   "source": []
  },
  {
   "cell_type": "raw",
   "metadata": {},
   "source": []
  },
  {
   "cell_type": "raw",
   "metadata": {},
   "source": []
  },
  {
   "cell_type": "raw",
   "metadata": {},
   "source": []
  },
  {
   "cell_type": "raw",
   "metadata": {},
   "source": []
  },
  {
   "cell_type": "raw",
   "metadata": {},
   "source": []
  },
  {
   "cell_type": "raw",
   "metadata": {},
   "source": [
    "### Fit to `log_rating_count` and maybe `year`\n"
   ]
  },
  {
   "cell_type": "raw",
   "metadata": {},
   "source": [
    "lr = LinearRegression()\n",
    "\n",
    "X_train_logs_only = X_train_scaled_df[['year','log_rating_count']]\n",
    "\n",
    "X_test_logs_only = X_test_scaled_df[['year','log_rating_count']]\n",
    "\n",
    "\n",
    "\n",
    "lr.fit(X_train_logs_only, y_train)\n",
    "\n",
    "lr.coef_\n",
    "\n",
    "y_pred = lr.predict(X_test_logs_only)\n",
    "\n",
    "y_pred\n",
    "\n",
    "y_test\n",
    "\n",
    "\n",
    "from sklearn.metrics import mean_squared_error, r2_score\n",
    "\n",
    "rmse = np.sqrt(mean_squared_error(y_test, y_pred))\n",
    "\n",
    "\n",
    "\n",
    "r2 = r2_score(y_test, y_pred)\n",
    "\n",
    "print(f'RMSE: {rmse:.2f}\\nr2: {r2:.2f}')"
   ]
  },
  {
   "cell_type": "raw",
   "metadata": {},
   "source": [
    "films_and_features_to_analyze_df.shape"
   ]
  },
  {
   "cell_type": "raw",
   "metadata": {},
   "source": [
    "## Attempt LassoCV"
   ]
  },
  {
   "cell_type": "raw",
   "metadata": {},
   "source": [
    "#X_cols = [*films_and_features_to_analyze_df.columns[1:3],*films_and_features_to_analyze_df.columns[4:6], *films_and_features_to_analyze_df.columns[7:], ]\n",
    "#X_cols = [*films_and_features_to_analyze_df.columns[1:3],*films_and_features_to_analyze_df.columns[4:6], *films_and_features_to_analyze_df.columns[7:], ]\n",
    "X_cols = ['year', 'duration', 'rating_count']\n",
    "\n",
    "#films_and_features_to_analyze_df_copy = copy.deepcopy(films_and_features_to_analyze_df) \n",
    "\n",
    "X= films_and_features_to_analyze_df[X_cols]\n",
    "y= films_and_features_to_analyze_df['rating']\n",
    "\n",
    "#selected_cols =cont_columns\n",
    "\n",
    "X['log_year'] = np.log(X.year)\n",
    "X['log_rating_count'] = np.log(X.rating_count)\n",
    "\n",
    "# X_test_cont_w_log = copy.deepcopy(X_test_cont) \n",
    "\n",
    "# X_train_cont_w_log['log_year'] = np.log(X_train_cont_w_log.year)\n",
    "# X_test_cont_w_log['log_year'] = np.log(X_test_cont_w_log.year)\n",
    "\n",
    "# X_train_cont_w_log['log_rating_count'] = np.log(X_train_cont_w_log.rating_count)\n",
    "# X_test_cont_w_log['log_rating_count'] = np.log(X_test_cont_w_log.rating_count)\n",
    "\n",
    "# X= films_and_features_to_analyze_df[X_cols]\n",
    "# y= films_and_features_to_analyze_df['rating']"
   ]
  },
  {
   "cell_type": "raw",
   "metadata": {},
   "source": [
    "X_, X_test, y_, y_test = train_test_split(X, y, test_size=.2, random_state=12) #10\n",
    "X_train, X_val, y_train, y_val = train_test_split(X_, y_, test_size=.25, random_state=15)#30\n",
    "\n",
    "#X_train_val, X_test, y_train_val, y_test = train_test_split( X, y, test_size=.20, random_state=32)\n",
    "\n",
    "ss=StandardScaler()\n",
    "\n",
    "X_train_scaled = ss.fit_transform( X_train)\n",
    "X_val_scaled = ss.transform(X_val)\n",
    "X_test_scaled = ss.fit_transform( X_test )"
   ]
  },
  {
   "cell_type": "raw",
   "metadata": {},
   "source": [
    "X.columns"
   ]
  },
  {
   "cell_type": "raw",
   "metadata": {},
   "source": [
    "from sklearn.linear_model import LinearRegression, Lasso, LassoCV, Ridge, RidgeCV\n",
    "from sklearn.metrics import r2_score\n",
    "from sklearn.preprocessing import PolynomialFeatures\n",
    "\n",
    "model = LassoCV()\n"
   ]
  },
  {
   "cell_type": "raw",
   "metadata": {},
   "source": [
    "poly=PolynomialFeatures(degree=2)\n",
    "\n",
    "X_train_poly = poly.fit_transform(X_train.values)\n",
    "X_val_poly = poly.transform(X_val.values)\n",
    "X_test_poly = poly.transform(X_test.values)\n",
    "\n",
    "lm_poly = LinearRegression()\n",
    "\n",
    "lm_poly.fit(X_train_poly, y_train)\n",
    "print(f'Degree 2 polynomial regression val R^2: {lm_poly.score(X_val_poly, y_val):.3f}')"
   ]
  },
  {
   "cell_type": "raw",
   "metadata": {},
   "source": [
    "lm_poly.coef_"
   ]
  },
  {
   "cell_type": "raw",
   "metadata": {},
   "source": [
    "lm_poly.fit(X_,y_)\n",
    "print(f'Linear Regression test R^2: {lm_poly.score(X_test, y_test):.3f}')"
   ]
  },
  {
   "cell_type": "raw",
   "metadata": {},
   "source": []
  },
  {
   "cell_type": "raw",
   "metadata": {},
   "source": [
    "#lm_poly.alpha_"
   ]
  },
  {
   "cell_type": "raw",
   "metadata": {},
   "source": [
    "#model.fit(X_train_scaled,y_train_val)"
   ]
  },
  {
   "cell_type": "raw",
   "metadata": {},
   "source": [
    "#model.coef_"
   ]
  },
  {
   "cell_type": "raw",
   "metadata": {},
   "source": [
    "#list(zip(X_cols, model.coef_))"
   ]
  },
  {
   "cell_type": "raw",
   "metadata": {},
   "source": [
    "#model.score(X_test, y_test)"
   ]
  },
  {
   "cell_type": "raw",
   "metadata": {},
   "source": [
    "#model.alpha_"
   ]
  },
  {
   "cell_type": "raw",
   "metadata": {},
   "source": [
    "## Repartition data set to analyze `budget` and  `worldwide_gross`"
   ]
  },
  {
   "cell_type": "raw",
   "metadata": {},
   "source": [
    "films_to_analyze_financial_df = films_to_analyze[(films_to_analyze['budget'] > 0) & (films_to_analyze['worldwide_gross'] > 0)]"
   ]
  },
  {
   "cell_type": "raw",
   "metadata": {},
   "source": [
    "#films_to_analyze_financial_df = films_to_analyze[(films_to_analyze['budget'] > 0) & (films_df_reordered['worldwide_gross'] > 0)]"
   ]
  },
  {
   "cell_type": "raw",
   "metadata": {},
   "source": [
    "first_actor_column = (len(films_to_analyze_financial_df.columns) - len(dict_of_all_actors))\n",
    "first_actor_column\n"
   ]
  },
  {
   "cell_type": "raw",
   "metadata": {},
   "source": [
    "actor_columns = films_to_analyze_financial_df.iloc[:, first_actor_column:].columns\n",
    "actor_columns\n"
   ]
  },
  {
   "cell_type": "raw",
   "metadata": {},
   "source": [
    "films_to_analyze_financial_df[actor_columns].sum()"
   ]
  },
  {
   "cell_type": "raw",
   "metadata": {},
   "source": [
    "actors_num_of_appearances = films_to_analyze_financial_df[actor_columns].sum()\n",
    "actors_num_of_appearances"
   ]
  },
  {
   "cell_type": "raw",
   "metadata": {},
   "source": [
    "appearances_threshold = 3\n",
    "prevalent_actors_mask = (actors_num_of_appearances >= appearances_threshold)\n",
    "prevalent_actors_mask"
   ]
  },
  {
   "cell_type": "raw",
   "metadata": {},
   "source": [
    "prevalent_actor_columns = actor_columns[prevalent_actors_mask]\n",
    "prevalent_actor_columns \n"
   ]
  },
  {
   "cell_type": "raw",
   "metadata": {},
   "source": [
    "analysis_columns = ['title', 'year', 'duration', 'budget', 'worldwide_gross','cinematographer', 'documentary', 'tv_series','rating', 'rating_count', *prevalent_actor_columns]\n",
    "analysis_columns\n"
   ]
  },
  {
   "cell_type": "raw",
   "metadata": {},
   "source": [
    "films_and_features_to_analyze_financial_df = films_to_analyze_financial_df[analysis_columns]"
   ]
  },
  {
   "cell_type": "raw",
   "metadata": {},
   "source": [
    "films_and_features_to_analyze_financial_df.head(10)"
   ]
  },
  {
   "cell_type": "raw",
   "metadata": {},
   "source": [
    "x_label = 'budget'\n",
    "y_label = 'rating'\n",
    "x_ = films_and_features_to_analyze_financial_df[x_label]\n",
    "y_ = films_and_features_to_analyze_financial_df[y_label]\n",
    "\n",
    "plt.figure(figsize=(16,8))\n",
    "\n",
    "size_ = 300\n",
    "alpha_ = .6\n",
    "plt.xlabel(x_label, fontsize='18')\n",
    "plt.ylabel(y_label, fontsize='18')\n",
    "plt.title(director.title() + ' movies', fontsize='20')\n",
    "cmap=plt.get_cmap(\"cool\")\n",
    "color_dimension = 'year'\n",
    "cm=films_and_features_to_analyze_financial_df[color_dimension].tolist()\n",
    "\n",
    "category = 'tv_series'\n",
    "plt.scatter(x=x_, y=y_, marker='o', alpha=alpha_, c=cm,cmap=\"cool\", s=(size_,))\n",
    "plt.colorbar(label=color_dimension)"
   ]
  },
  {
   "cell_type": "raw",
   "metadata": {},
   "source": [
    "x_label = 'year'\n",
    "y_label = 'rating'\n",
    "x_ = films_and_features_to_analyze_financial_df[x_label]\n",
    "y_ = films_and_features_to_analyze_financial_df[y_label]\n",
    "\n",
    "plt.figure(figsize=(16,8))\n",
    "\n",
    "size_ = 300\n",
    "alpha_ = .6\n",
    "plt.xlabel(x_label, fontsize='18')\n",
    "plt.ylabel(y_label, fontsize='18')\n",
    "plt.title(director.title() + ' movies', fontsize='20')\n",
    "cmap=plt.get_cmap(\"cool\")\n",
    "color_dimension = 'budget'\n",
    "cm=films_and_features_to_analyze_financial_df[color_dimension].tolist()\n",
    "\n",
    "category = 'tv_series'\n",
    "plt.scatter(x=x_, y=y_, marker='o', alpha=alpha_, c=cm,cmap=\"cool\", s=(size_,))\n",
    "plt.colorbar(label=color_dimension)"
   ]
  },
  {
   "cell_type": "raw",
   "metadata": {},
   "source": [
    "x_label = 'budget'\n",
    "y_label = 'duration'\n",
    "x_ = films_and_features_to_analyze_financial_df[x_label]\n",
    "y_ = films_and_features_to_analyze_financial_df[y_label]\n",
    "\n",
    "plt.figure(figsize=(16,8))\n",
    "\n",
    "size_ = 300\n",
    "alpha_ = .6\n",
    "plt.xlabel(x_label, fontsize='18')\n",
    "plt.ylabel(y_label, fontsize='18')\n",
    "plt.title(director.title() + ' movies', fontsize='20')\n",
    "cmap=plt.get_cmap(\"cool\")\n",
    "color_dimension = 'year'\n",
    "cm=films_and_features_to_analyze_financial_df[color_dimension].tolist()\n",
    "\n",
    "category = 'tv_series'\n",
    "plt.scatter(x=x_, y=y_, marker='o', alpha=alpha_, c=cm,cmap=\"cool\", s=(size_,))\n",
    "plt.colorbar(label=color_dimension)"
   ]
  },
  {
   "cell_type": "raw",
   "metadata": {},
   "source": [
    "cinematographer_include_threshold = films_and_features_to_analyze_df['cinematographer'].value_counts().min()\n",
    "cinematographer_include_threshold"
   ]
  },
  {
   "cell_type": "raw",
   "metadata": {},
   "source": [
    "value_counts = films_and_features_to_analyze_financial_df['cinematographer'].value_counts() # Specific column \n",
    "to_remove = value_counts[value_counts <= cinematographer_include_threshold].index\n",
    "films_and_features_to_analyze_financial_df['cinematographer'].replace(to_remove, 'OTHER', inplace=True)"
   ]
  },
  {
   "cell_type": "raw",
   "metadata": {},
   "source": [
    "selected_cols = [*films_and_features_to_analyze_financial_df.columns[1:8], *films_and_features_to_analyze_financial_df.columns[9:]]"
   ]
  },
  {
   "cell_type": "raw",
   "metadata": {},
   "source": [
    "selected_cols"
   ]
  },
  {
   "cell_type": "raw",
   "metadata": {},
   "source": [
    "X= films_and_features_to_analyze_financial_df[selected_cols]\n",
    "y= films_and_features_to_analyze_financial_df['rating']"
   ]
  },
  {
   "cell_type": "raw",
   "metadata": {},
   "source": []
  },
  {
   "cell_type": "raw",
   "metadata": {},
   "source": [
    "X_train, X_test, y_train, y_test = train_test_split(X, y)"
   ]
  },
  {
   "cell_type": "raw",
   "metadata": {},
   "source": [
    "### Preprocessing\n",
    "\n",
    "#### Categorical Variable Preprocessing\n",
    "\n",
    "cat_ohe_vars = ['cinematographer']\n",
    "X_train_cat_ohe = X_train[cat_ohe_vars]\n",
    "#X_train_cat_ohe \n",
    "\n",
    "#### OneHotEncoding"
   ]
  },
  {
   "cell_type": "raw",
   "metadata": {},
   "source": []
  },
  {
   "cell_type": "raw",
   "metadata": {},
   "source": []
  },
  {
   "cell_type": "raw",
   "metadata": {},
   "source": [
    "\n",
    "\n",
    "#ohe = OneHotEncoder(sparse=False, drop='first')\n",
    "ohe = OneHotEncoder(sparse=False,  handle_unknown='ignore')\n",
    "ohe.fit(X_train_cat_ohe)\n",
    "cats_ohe = ohe.transform(X_train_cat_ohe)\n",
    "\n",
    "\n",
    "columns=ohe.get_feature_names(cat_ohe_vars)\n",
    "\n",
    "columns\n",
    "\n",
    "X_train_cat_ohe_df = pd.DataFrame(cats_ohe, columns=columns, index=X_train_cat_ohe.index)\n",
    "X_train_cat_ohe_df.head()\n",
    "\n",
    "#### Repeating transformations on testing set\n",
    "\n",
    "X_test_cat_ohe = X_test[['cinematographer']]\n",
    "X_test_cat_ohe\n",
    "cats_ohe_test = ohe.transform(X_test_cat_ohe)\n",
    "\n",
    "cat_ohe_columns = ohe.get_feature_names(['cinematographer'])\n",
    "X_test_cat_ohe_df = pd.DataFrame(cats_ohe_test, columns=cat_ohe_columns)\n",
    "\n",
    "### Continous Variable Preprocessing\n",
    "\n",
    "#### Select continuous variables from training set\n",
    "\n",
    "X_train_cont = X_train[['year', 'duration', 'budget','rating_count']]\n",
    "X_train_cont.head(70)\n",
    "\n",
    "\n",
    "\n",
    "####  scale the continuous variables in the train set\n",
    "\n",
    "from sklearn.preprocessing import StandardScaler\n",
    "\n",
    "ss = StandardScaler()\n",
    "\n",
    "ss.fit(X_train_cont)\n",
    "X_train_scaled = ss.transform(X_train_cont)\n",
    "\n",
    "cont_columns = X_train_cont.columns\n",
    "X_train_scaled_df = pd.DataFrame(X_train_scaled, columns=cont_columns, index=X_train_cont.index)\n",
    "\n",
    "X_train_scaled_df.head()\n",
    "\n",
    "\n",
    "#### select and scale the continuous variables in the test set\n",
    "\n",
    "X_test_cont = X_test[['year', 'duration', 'budget','rating_count']]\n",
    "X_test_cont.head()\n",
    "\n",
    "X_test_scaled = ss.transform(X_test_cont)\n",
    "\n",
    "cont_columns = X_test_cont.columns\n",
    "X_test_scaled_df = pd.DataFrame(X_test_scaled, columns=cont_columns, index=X_test_cont.index)\n",
    "\n",
    "X_test_scaled_df.head()\n",
    "\n",
    "### Combine the continuous, categorical, and ohe cat features for our testing set\n",
    "\n",
    "\n",
    "cat_columns = ['documentary', 'tv_series', *prevalent_actor_columns]\n",
    "X_train_cat_df = X_train[cat_columns]\n",
    "\n",
    "\n",
    "X_train_combined = pd.concat([X_train_scaled_df, X_train_cat_ohe_df, X_train_cat_df, ], axis='columns')\n",
    "\n",
    "X_train_combined.head(10)\n",
    "\n",
    "X_train.shape\n",
    "\n",
    "### Combine the continuous and categorical features for our testing set\n",
    "\n",
    "\n",
    "X_test_cat_df = X_test[cat_columns]\n",
    "\n",
    "X_test_scaled_df.shape[0] == X_test_cat_df.shape[0] == X_test_cat_ohe_df.shape[0]\n",
    "\n",
    "\n",
    "X_test_combined = pd.concat([X_test_scaled_df.reset_index(drop=True), X_test_cat_ohe_df.reset_index(drop=True), X_test_cat_df.reset_index(drop=True) ], axis=1)\n",
    "#X_test_combined = pd.concat([X_test_scaled_df, X_test_cat_ohe_df, X_test_cat_df ], axis=1)\n",
    "\n",
    "X_test_combined\n",
    "\n",
    "### Now make predictions by instantiating the Linear Regression Model \n",
    "\n",
    "lr = LinearRegression()\n",
    "\n",
    "lr.fit(X_train_combined, y_train)\n",
    "\n",
    "lr.coef_\n",
    "\n",
    "y_pred = lr.predict(X_test_combined)\n",
    "\n",
    "y_pred\n",
    "\n",
    "from sklearn.metrics import mean_squared_error, r2_score\n",
    "\n",
    "rmse = np.sqrt(mean_squared_error(y_test, y_pred))\n",
    "\n",
    "r2 = r2_score(y_test, y_pred)\n",
    "\n",
    "print(f'RMSE: {rmse:.2f}\\nr2: {r2:.2f}')\n",
    "\n",
    "print(r2)\n",
    "\n",
    "score = lr.score(X_test_combined, y_test) \n",
    "score"
   ]
  },
  {
   "cell_type": "raw",
   "metadata": {},
   "source": []
  },
  {
   "cell_type": "raw",
   "metadata": {},
   "source": [
    "### Look at continous variable including `budget`"
   ]
  },
  {
   "cell_type": "raw",
   "metadata": {},
   "source": [
    "films_and_features_to_analyze_financial_df.columns\n",
    "\n",
    "#selected_cols = ['budget', 'rating_count']\n",
    "selected_cols = ['year', 'duration', 'budget']\n",
    "#selected_cols = ['budget']\n",
    "X= films_and_features_to_analyze_financial_df[selected_cols]\n",
    "y= films_and_features_to_analyze_financial_df['rating']"
   ]
  },
  {
   "cell_type": "raw",
   "metadata": {},
   "source": [
    "\n",
    "\n",
    "X_train, X_test, y_train, y_test = train_test_split(X, y)"
   ]
  },
  {
   "cell_type": "raw",
   "metadata": {},
   "source": [
    "X_train.columns"
   ]
  },
  {
   "cell_type": "raw",
   "metadata": {},
   "source": []
  },
  {
   "cell_type": "raw",
   "metadata": {},
   "source": [
    "from sklearn.preprocessing import StandardScaler\n",
    "\n",
    "ss = StandardScaler()\n",
    "\n",
    "ss.fit(X_train)\n",
    "X_train_scaled = ss.transform(X_train)\n",
    "X_train_scaled"
   ]
  },
  {
   "cell_type": "raw",
   "metadata": {},
   "source": []
  },
  {
   "cell_type": "raw",
   "metadata": {},
   "source": [
    "cont_columns = X_train.columns\n",
    "X_train_scaled_df = pd.DataFrame(X_train_scaled, columns=cont_columns, index=X_train_cont.index)\n",
    "\n",
    "X_train_scaled_df.head()"
   ]
  },
  {
   "cell_type": "raw",
   "metadata": {},
   "source": [
    "X_train_combined = pd.concat([X_train_scaled_df.reset_index(drop=True)], axis='columns')\n",
    "\n",
    "X_train_combined.head()"
   ]
  },
  {
   "cell_type": "raw",
   "metadata": {},
   "source": []
  },
  {
   "cell_type": "raw",
   "metadata": {},
   "source": [
    "#X_test = X_test[['year', 'budget','rating_count']]\n",
    "\n",
    "X_test = X_test[selected_cols]\n",
    "X_test.head()\n",
    "\n",
    "X_test_scaled = ss.transform(X_test)\n",
    "\n",
    "cont_columns = X_test.columns\n",
    "X_test_scaled_df = pd.DataFrame(X_test_scaled, columns=cont_columns, index=X_test.index)\n",
    "\n",
    "X_test_scaled_df.head()"
   ]
  },
  {
   "cell_type": "raw",
   "metadata": {},
   "source": [
    "X_test_combined = pd.concat([X_test_scaled_df.reset_index(drop=True) ], axis=1)\n",
    "\n",
    "X_test_combined"
   ]
  },
  {
   "cell_type": "raw",
   "metadata": {},
   "source": [
    "lr = LinearRegression()\n",
    "\n",
    "lr.fit(X_train_combined,y_train)\n",
    "\n",
    "lr.coef_"
   ]
  },
  {
   "cell_type": "raw",
   "metadata": {},
   "source": [
    "y_pred = lr.predict(X_test_combined)\n",
    "\n",
    "y_pred"
   ]
  },
  {
   "cell_type": "raw",
   "metadata": {},
   "source": []
  },
  {
   "cell_type": "raw",
   "metadata": {},
   "source": []
  },
  {
   "cell_type": "raw",
   "metadata": {},
   "source": [
    "\n",
    "from sklearn.metrics import mean_squared_error, r2_score\n",
    "\n",
    "rmse = np.sqrt(mean_squared_error(y_test, y_pred))\n",
    "\n",
    "r2 = r2_score(y_test, y_pred)\n",
    "\n",
    "print(f'RMSE: {rmse:.2f}\\nr2: {r2:.2f}')"
   ]
  },
  {
   "cell_type": "code",
   "execution_count": null,
   "metadata": {},
   "outputs": [],
   "source": [
    "plt.scatter(y_test, y_pred)\n",
    "plt.plot(y_pred, y_pred)\n",
    "plt.plot(y_test, y_test)"
   ]
  },
  {
   "cell_type": "raw",
   "metadata": {},
   "source": [
    "res = y_test-y_pred\n",
    "res"
   ]
  },
  {
   "cell_type": "raw",
   "metadata": {},
   "source": [
    "X_test"
   ]
  },
  {
   "cell_type": "raw",
   "metadata": {},
   "source": [
    "plt.scatter(y_pred, res)\n",
    "plt.axhline(y=0)\n",
    "#plt.plot(y_pred, 0)"
   ]
  },
  {
   "cell_type": "raw",
   "metadata": {},
   "source": []
  },
  {
   "cell_type": "raw",
   "metadata": {},
   "source": [
    "X_train_combined.head()"
   ]
  },
  {
   "cell_type": "raw",
   "metadata": {},
   "source": []
  },
  {
   "cell_type": "raw",
   "metadata": {},
   "source": [
    "X_train_cont"
   ]
  },
  {
   "cell_type": "raw",
   "metadata": {},
   "source": []
  },
  {
   "cell_type": "raw",
   "metadata": {},
   "source": [
    "from sklearn.model_selection import cross_val_score\n",
    "lm = LinearRegression()\n",
    "\n",
    "cross_val_score(lm, X, y, # estimator, features, target\n",
    "                cv=5, # number of folds \n",
    "                scoring='r2') # scoring metric"
   ]
  },
  {
   "cell_type": "raw",
   "metadata": {},
   "source": [
    "lm.score"
   ]
  },
  {
   "cell_type": "raw",
   "metadata": {},
   "source": []
  },
  {
   "cell_type": "raw",
   "metadata": {},
   "source": [
    "## include `log(year)` `budget^2` and `log(rating_count)`"
   ]
  },
  {
   "cell_type": "raw",
   "metadata": {},
   "source": []
  },
  {
   "cell_type": "raw",
   "metadata": {},
   "source": [
    "X_train_cont_w_log = copy.deepcopy(X_train_cont) \n",
    "X_test_cont_w_log = copy.deepcopy(X_test_cont) \n",
    "\n",
    "X_train_cont_w_log['log_year'] = np.log(X_train_cont_w_log.year)\n",
    "X_test_cont_w_log['log_year'] = np.log(X_test_cont_w_log.year)\n",
    "\n",
    "#X_train_cont_w_log['log_budget'] = np.log(X_train_cont_w_log.budget)\n",
    "#X_test_cont_w_log['log_budget'] = np.log(X_test_cont_w_log.budget)\n",
    "X_train_cont_w_log['pow_budget'] = X_train_cont_w_log.budget**2\n",
    "X_test_cont_w_log['pow_budget'] =  X_test_cont_w_log.budget**2\n",
    "\n",
    "\n",
    "X_train_cont_w_log['log_rating_count'] = np.log(X_train_cont_w_log.rating_count)\n",
    "X_test_cont_w_log['log_rating_count'] = np.log(X_test_cont_w_log.rating_count)\n"
   ]
  },
  {
   "cell_type": "raw",
   "metadata": {},
   "source": []
  },
  {
   "cell_type": "raw",
   "metadata": {},
   "source": [
    "# films_and_features_to_analyze_financial_df.columns\n",
    "\n",
    "#selected_cols = [ 'log_year', 'log_budget', 'log_rating_count']\n",
    "selected_cols = ['year','budget', 'rating_count', 'log_year', 'pow_budget', 'log_rating_count']\n",
    "# #selected_cols = ['year', 'duration', 'budget', 'rating_count']\n",
    "# #selected_cols = ['budget']\n",
    "# X= films_and_features_to_analyze_financial_df[selected_cols]\n",
    "# y= films_and_features_to_analyze_financial_df['rating']\n",
    "\n",
    "X_train_cont_w_log = X_train_cont_w_log[ selected_cols ]\n",
    "X_test_cont_w_log  = X_test_cont_w_log[ selected_cols ]\n",
    "\n",
    "# X_train, X_test, y_train, y_test = train_test_split(X, y)\n",
    "\n",
    "# X_train.columns\n",
    "\n",
    "from sklearn.preprocessing import StandardScaler\n",
    "\n",
    "ss = StandardScaler()\n",
    "\n",
    "ss.fit(X_train_cont_w_log)\n",
    "X_train_scaled = ss.transform(X_train_cont_w_log)\n",
    "X_train_scaled.shape\n",
    "\n",
    "cont_columns = X_train_cont_w_log.columns\n",
    "X_train_scaled_df = pd.DataFrame(X_train_scaled, columns=cont_columns, index=X_train_cont_w_log.index)\n",
    "X_train_scaled_df.head()\n",
    "\n",
    "X_test_scaled_df = ss.transform(X_test_cont_w_log)"
   ]
  },
  {
   "cell_type": "raw",
   "metadata": {},
   "source": [
    "X_test_scaled_df"
   ]
  },
  {
   "cell_type": "raw",
   "metadata": {},
   "source": [
    "cont_columns = X_test_cont_w_log.columns\n",
    "cont_columns"
   ]
  },
  {
   "cell_type": "raw",
   "metadata": {},
   "source": [
    "X_test_scaled_df"
   ]
  },
  {
   "cell_type": "raw",
   "metadata": {},
   "source": [
    "cont_columns = X_test_cont_w_log.columns\n",
    "X_test_scaled_df = pd.DataFrame(X_test_scaled_df, columns=cont_columns, index=X_test_cont_w_log.index)\n",
    "#X_test_scaled_df = pd.DataFrame(X_test_scaled)\n"
   ]
  },
  {
   "cell_type": "raw",
   "metadata": {},
   "source": [
    "# X_train_combined = pd.concat([X_train_scaled_df.reset_index(drop=True)], axis='columns')\n",
    "\n",
    "# X_train_combined.head()\n",
    "\n",
    "\n",
    "# X_test_cont = X_test[['year','budget', 'rating_count', 'log_year', 'log_budget', 'log_rating_count']]\n",
    "# X_test_cont.head()\n",
    "\n",
    "\n",
    "\n",
    "\n",
    "X_test_scaled_df.head()\n",
    "\n",
    "# X_test_combined = pd.concat([X_test_scaled_df.reset_index(drop=True) ], axis=1)\n",
    "\n",
    "# X_test_combined\n",
    "\n",
    "lr = LinearRegression()\n",
    "\n",
    "lr.fit(X_train_scaled_df,y_train)\n",
    "\n",
    "lr.coef_\n",
    "\n",
    "y_pred = lr.predict(X_test_scaled_df)\n",
    "\n",
    "y_pred\n",
    "\n",
    "\n",
    "\n",
    "from sklearn.metrics import mean_squared_error, r2_score\n",
    "\n",
    "rmse = np.sqrt(mean_squared_error(y_test, y_pred))\n",
    "\n",
    "r2 = r2_score(y_test, y_pred)\n",
    "\n",
    "print(f'RMSE: {rmse:.2f}\\nr2: {r2:.2f}')\n",
    "\n",
    "X_train_scaled_df.head()"
   ]
  },
  {
   "cell_type": "raw",
   "metadata": {},
   "source": []
  },
  {
   "cell_type": "raw",
   "metadata": {},
   "source": []
  },
  {
   "cell_type": "raw",
   "metadata": {},
   "source": []
  },
  {
   "cell_type": "raw",
   "metadata": {},
   "source": []
  },
  {
   "cell_type": "raw",
   "metadata": {},
   "source": []
  },
  {
   "cell_type": "code",
   "execution_count": null,
   "metadata": {},
   "outputs": [],
   "source": []
  },
  {
   "cell_type": "code",
   "execution_count": null,
   "metadata": {},
   "outputs": [],
   "source": []
  },
  {
   "cell_type": "code",
   "execution_count": null,
   "metadata": {},
   "outputs": [],
   "source": []
  },
  {
   "cell_type": "code",
   "execution_count": null,
   "metadata": {},
   "outputs": [],
   "source": []
  },
  {
   "cell_type": "raw",
   "metadata": {},
   "source": [
    "films_df_reordered"
   ]
  },
  {
   "cell_type": "raw",
   "metadata": {
    "scrolled": true
   },
   "source": [
    "films_to_analyze_profits=films_df_reordered[(films_df_reordered['year'].notnull()) & (films_df_reordered['duration']>30) & (films_df_reordered['worldwide_gross'].notnull()) & (films_df_reordered['worldwide_gross']!='') & (films_df_reordered['cinematographer']!='') & (films_df_reordered['cinematographer'].notnull())]\n",
    "#films_to_analyze_profits=films_df_reordered[(films_df_reordered['year'].notnull()) & (films_df_reordered['duration']>30) & (films_df_reordered['rating'].notnull()) & (films_df_reordered['cinematographer']!='') & (films_df_reordered['cinematographer'].notnull())]\n",
    "\n",
    "films_to_analyze_profits.iloc[:,8:15]\n"
   ]
  },
  {
   "cell_type": "raw",
   "metadata": {},
   "source": [
    "new_analysis_columns = ['title', 'year', 'duration', 'cinematographer', 'documentary', 'tv_series','rating', 'rating_count', 'worldwide_gross', *selected_actor_columns]"
   ]
  },
  {
   "cell_type": "raw",
   "metadata": {},
   "source": [
    "films_and_features_to_analyze_profits = films_to_analyze_profits[new_analysis_columns]"
   ]
  },
  {
   "cell_type": "raw",
   "metadata": {},
   "source": []
  },
  {
   "cell_type": "raw",
   "metadata": {},
   "source": [
    "x_label = 'year'\n",
    "y_label = 'worldwide_gross'\n",
    "x_ = films_and_features_to_analyze_profits[x_label]\n",
    "y_ = films_and_features_to_analyze_profits[y_label]\n",
    "\n",
    "plt.figure(figsize=(16,8))\n",
    "\n",
    "size_ = 300\n",
    "alpha_ = .6\n",
    "plt.xlabel(x_label, fontsize='18')\n",
    "plt.ylabel(y_label, fontsize='18')\n",
    "plt.title(director.title() + ' movies', fontsize='20')\n",
    "\n",
    "category = 'tv_series'\n",
    "plt.scatter(x=x_, y=y_, marker='o', alpha=alpha_, c = films_and_features_to_analyze_profits[category], s=(size_,))"
   ]
  },
  {
   "cell_type": "raw",
   "metadata": {},
   "source": [
    "x_label = 'rating'\n",
    "y_label = 'worldwide_gross'\n",
    "x_ = films_and_features_to_analyze_profits[x_label]\n",
    "y_ = films_and_features_to_analyze_profits[y_label]\n",
    "\n",
    "plt.figure(figsize=(16,8))\n",
    "\n",
    "size_ = 300\n",
    "alpha_ = .6\n",
    "plt.xlabel(x_label, fontsize='18')\n",
    "plt.ylabel(y_label, fontsize='18')\n",
    "plt.title(director.title() + ' movies', fontsize='20')\n",
    "\n",
    "category = 'tv_series'\n",
    "plt.scatter(x=x_, y=y_, marker='o', alpha=alpha_, c = films_and_features_to_analyze_profits[category], s=(size_,))"
   ]
  },
  {
   "cell_type": "raw",
   "metadata": {},
   "source": [
    "x_label = 'duration'\n",
    "y_label = 'worldwide_gross'\n",
    "x_ = films_and_features_to_analyze_profits[x_label]\n",
    "y_ = films_and_features_to_analyze_profits[y_label]\n",
    "\n",
    "plt.figure(figsize=(16,8))\n",
    "\n",
    "size_ = 300\n",
    "alpha_ = .6\n",
    "plt.xlabel(x_label, fontsize='18')\n",
    "plt.ylabel(y_label, fontsize='18')\n",
    "plt.title(director.title() + ' movies', fontsize='20')\n",
    "\n",
    "category = 'tv_series'\n",
    "plt.scatter(x=x_, y=y_, marker='o', alpha=alpha_, c = films_and_features_to_analyze_profits[category], s=(size_,))"
   ]
  },
  {
   "cell_type": "raw",
   "metadata": {},
   "source": [
    "x_label = 'rating_count'\n",
    "y_label = 'worldwide_gross'\n",
    "x_ = films_and_features_to_analyze_profits[x_label]\n",
    "y_ = films_and_features_to_analyze_profits[y_label]\n",
    "\n",
    "plt.figure(figsize=(16,8))\n",
    "\n",
    "size_ = 300\n",
    "alpha_ = .6\n",
    "plt.xlabel(x_label, fontsize='18')\n",
    "plt.ylabel(y_label, fontsize='18')\n",
    "plt.title(director.title() + ' movies', fontsize='20')\n",
    "\n",
    "category = 'tv_series'\n",
    "plt.scatter(x=x_, y=y_, marker='o', alpha=alpha_, c = films_and_features_to_analyze_profits[category], s=(size_,))"
   ]
  },
  {
   "cell_type": "raw",
   "metadata": {},
   "source": [
    "x_label = 'year'\n",
    "y_label = 'worldwide_gross'\n",
    "x_ = films_and_features_to_analyze_profits[x_label]\n",
    "y_ = films_and_features_to_analyze_profits[y_label]\n",
    "\n",
    "plt.figure(figsize=(16,8))\n",
    "\n",
    "size_ = 300\n",
    "alpha_ = .6\n",
    "plt.xlabel(x_label, fontsize='18')\n",
    "plt.ylabel(y_label, fontsize='18')\n",
    "plt.title(director.title() + ' movies', fontsize='20')\n",
    "category = 'James Stewart'\n",
    "plt.title(director.title() + ' movies: ' + 'Breakdown by actor: ' + category, fontsize='18')\n",
    "\n",
    "plt.scatter(x=x_, y=y_, marker='o', alpha=alpha_, c = films_and_features_to_analyze_profits[category], s=(size_,))"
   ]
  },
  {
   "cell_type": "raw",
   "metadata": {},
   "source": [
    "x_label = 'year'\n",
    "y_label = 'worldwide_gross'\n",
    "x_ = films_and_features_to_analyze_profits[x_label]\n",
    "y_ = films_and_features_to_analyze_profits[y_label]\n",
    "\n",
    "plt.figure(figsize=(16,8))\n",
    "\n",
    "size_ = 300\n",
    "alpha_ = .6\n",
    "plt.xlabel(x_label, fontsize='18')\n",
    "plt.ylabel(y_label, fontsize='18')\n",
    "plt.title(director.title() + ' movies', fontsize='20')\n",
    "category = 'Cary Grant'\n",
    "plt.title(director.title() + ' movies: ' + 'Breakdown by actor: ' + category, fontsize='18')\n",
    "\n",
    "plt.scatter(x=x_, y=y_, marker='o', alpha=alpha_, c = films_and_features_to_analyze_profits[category], s=(size_,))"
   ]
  },
  {
   "cell_type": "raw",
   "metadata": {},
   "source": [
    "x_label = 'year'\n",
    "y_label = 'worldwide_gross'\n",
    "x_ = films_and_features_to_analyze_profits[x_label]\n",
    "y_ = films_and_features_to_analyze_profits[y_label]\n",
    "\n",
    "plt.figure(figsize=(16,8))\n",
    "\n",
    "size_ = 300\n",
    "alpha_ = .6\n",
    "plt.xlabel(x_label, fontsize='18')\n",
    "plt.ylabel(y_label, fontsize='18')\n",
    "plt.title(director.title() + ' movies', fontsize='20')\n",
    "category = 'Grace Kelly'\n",
    "plt.title(director.title() + ' movies: ' + 'Breakdown by actor: ' + category, fontsize='18')\n",
    "\n",
    "plt.scatter(x=x_, y=y_, marker='o', alpha=alpha_, c = films_and_features_to_analyze_profits[category], s=(size_,))"
   ]
  },
  {
   "cell_type": "raw",
   "metadata": {},
   "source": [
    "### Repartition data set to analyze `worldwide_gross` in terms of `budget` etc."
   ]
  },
  {
   "cell_type": "raw",
   "metadata": {},
   "source": [
    "\n",
    "films_to_analyze_profits_and_budget=films_df_reordered[(films_df_reordered['year'].notnull()) & (films_df_reordered['duration']>30) & (films_df_reordered['worldwide_gross'].notnull()) & (films_df_reordered['worldwide_gross']!='') & (films_df_reordered['budget'].notnull()) & (films_df_reordered['budget']!='')& (films_df_reordered['cinematographer']!='') & (films_df_reordered['cinematographer'].notnull())]\n",
    "\n",
    "films_to_analyze_profits_and_budget.iloc[:,8:15]\n",
    "films_to_analyze_profits_and_budget\n"
   ]
  },
  {
   "cell_type": "raw",
   "metadata": {},
   "source": [
    "new_analysis_columns_budget = ['title', 'year', 'duration', 'cinematographer', 'documentary', 'tv_series','rating', 'rating_count', 'budget', 'worldwide_gross', *selected_actor_columns]"
   ]
  },
  {
   "cell_type": "raw",
   "metadata": {},
   "source": [
    "films_and_features_to_analyze_profits_and_budget = films_to_analyze_profits_and_budget[new_analysis_columns_budget]"
   ]
  },
  {
   "cell_type": "raw",
   "metadata": {},
   "source": [
    "x_label = 'year'\n",
    "y_label = 'budget'\n",
    "x_ = films_and_features_to_analyze_profits_and_budget[x_label]\n",
    "y_ = films_and_features_to_analyze_profits_and_budget[y_label]\n",
    "\n",
    "plt.figure(figsize=(16,8))\n",
    "plt.title(director.title() + ' movies', fontsize='20')\n",
    "\n",
    "size_ = 300\n",
    "alpha_ = .6\n",
    "plt.xlabel(x_label, fontsize='18')\n",
    "plt.ylabel(y_label, fontsize='18')\n",
    "plt.title(director.title() + ' movies', fontsize='20')\n",
    "\n",
    "category = 'tv_series'\n",
    "plt.scatter(x=x_, y=y_, marker='o', alpha=alpha_, c = films_and_features_to_analyze_profits_and_budget[category], s=(size_,))"
   ]
  },
  {
   "cell_type": "raw",
   "metadata": {},
   "source": [
    "x_label = 'budget'\n",
    "y_label = 'worldwide_gross'\n",
    "x_ = films_and_features_to_analyze_profits_and_budget[x_label]\n",
    "y_ = films_and_features_to_analyze_profits_and_budget[y_label]\n",
    "\n",
    "plt.figure(figsize=(16,8))\n",
    "plt.title(director.title() + ' movies', fontsize='20')\n",
    "\n",
    "size_ = 300\n",
    "alpha_ = .6\n",
    "plt.xlabel(x_label, fontsize='18')\n",
    "plt.ylabel(y_label, fontsize='18')\n",
    "plt.title(director.title() + ' movies', fontsize='20')\n",
    "\n",
    "category = 'tv_series'\n",
    "plt.scatter(x=x_, y=y_, marker='o', alpha=alpha_, c = films_and_features_to_analyze_profits_and_budget[category], s=(size_,))"
   ]
  },
  {
   "cell_type": "raw",
   "metadata": {},
   "source": [
    "x_label = 'budget'\n",
    "y_label = 'duration'\n",
    "x_ = films_and_features_to_analyze_profits_and_budget[x_label]\n",
    "y_ = films_and_features_to_analyze_profits_and_budget[y_label]\n",
    "\n",
    "plt.figure(figsize=(16,8))\n",
    "plt.title(director.title() + ' movies', fontsize='20')\n",
    "\n",
    "size_ = 300\n",
    "alpha_ = .6\n",
    "plt.xlabel(x_label, fontsize='18')\n",
    "plt.ylabel(y_label, fontsize='18')\n",
    "plt.title(director.title() + ' movies', fontsize='20')\n",
    "\n",
    "category = 'tv_series'\n",
    "plt.scatter(x=x_, y=y_, marker='o', alpha=alpha_, c = films_and_features_to_analyze_profits_and_budget[category], s=(size_,))"
   ]
  },
  {
   "cell_type": "raw",
   "metadata": {},
   "source": [
    "x_label = 'budget'\n",
    "y_label = 'rating'\n",
    "x_ = films_and_features_to_analyze_profits_and_budget[x_label]\n",
    "y_ = films_and_features_to_analyze_profits_and_budget[y_label]\n",
    "\n",
    "plt.figure(figsize=(16,8))\n",
    "plt.title(director.title() + ' movies', fontsize='20')\n",
    "\n",
    "size_ = 300\n",
    "alpha_ = .6\n",
    "plt.xlabel(x_label, fontsize='18')\n",
    "plt.ylabel(y_label, fontsize='18')\n",
    "plt.title(director.title() + ' movies', fontsize='20')\n",
    "\n",
    "category = 'tv_series'\n",
    "plt.scatter(x=x_, y=y_, marker='o', alpha=alpha_, c = films_and_features_to_analyze_profits_and_budget[category], s=(size_,))"
   ]
  },
  {
   "cell_type": "raw",
   "metadata": {},
   "source": []
  },
  {
   "cell_type": "raw",
   "metadata": {},
   "source": []
  },
  {
   "cell_type": "raw",
   "metadata": {},
   "source": []
  },
  {
   "cell_type": "raw",
   "metadata": {},
   "source": [
    "test_df = pd.DataFrame(\n",
    "    list([[1, 2, 3], [4, np.nan, '2 October 1955 (USA', ], [7, 8, 9], [3, np.nan, '20 September 1962 (USA' ], [5, np.nan, '20 September 1962 (USA' ]]), \n",
    "    columns=['a', 'year', 'release_date']\n",
    ")\n"
   ]
  },
  {
   "cell_type": "raw",
   "metadata": {},
   "source": [
    "test_df['year'] = test_df.apply(\n",
    "#     lambda row: re(r'\\d{4}', row['release_date']) if np.isnan(row['year']) else row['year'],\n",
    "#     axis=1)\n",
    "    lambda row: float((re.search(r'\\d{4}', row['release_date'])).group()) if np.isnan(row['year']) else row['year'],\n",
    "    axis=1)\n",
    "test_df"
   ]
  },
  {
   "cell_type": "raw",
   "metadata": {},
   "source": [
    "row_release_date = '2 October 1955 (USA'\n",
    "t = re(r'\\d{4}', row_release_date).group()"
   ]
  },
  {
   "cell_type": "raw",
   "metadata": {},
   "source": [
    "#films_df_reordered.apply( lambda row: row['year'] = re.search(r'\\d{4}',  row['release_date'] ).group() if (row['year'].isnull() , axis=1)"
   ]
  },
  {
   "cell_type": "raw",
   "metadata": {},
   "source": []
  },
  {
   "cell_type": "raw",
   "metadata": {},
   "source": [
    "#match = re.match(r'\\d{4}',  'julu 23 2947 sdkfj')\n"
   ]
  },
  {
   "cell_type": "raw",
   "metadata": {},
   "source": [
    "release_date='julu 2329 sdkfj'\n",
    "s = re.search(r'\\d{4}',  release_date).group()\n",
    "print(s)"
   ]
  },
  {
   "cell_type": "raw",
   "metadata": {},
   "source": []
  },
  {
   "cell_type": "raw",
   "metadata": {},
   "source": [
    "#films_df_reordered.loc[:,'year']=films_df_reordered['year'].apply(lambda year_data : (re.search(r'\\d{4}',  str(films_df_reordered['release_date'])).group()) if pd.isna(year_data) else year_data)"
   ]
  },
  {
   "cell_type": "raw",
   "metadata": {},
   "source": [
    "films_df_reordered.head(50)"
   ]
  },
  {
   "cell_type": "raw",
   "metadata": {},
   "source": [
    "#films_df_reordered[ pd.isna(films_df_reordered['year']) ]['year'] = re.search(r'\\d{4}',  films_df_reordered['release_date']).group()"
   ]
  },
  {
   "cell_type": "raw",
   "metadata": {},
   "source": []
  },
  {
   "cell_type": "raw",
   "metadata": {},
   "source": []
  },
  {
   "cell_type": "raw",
   "metadata": {},
   "source": []
  },
  {
   "cell_type": "raw",
   "metadata": {},
   "source": [
    "films_df.columns[first_cast_column:-1]"
   ]
  },
  {
   "cell_type": "raw",
   "metadata": {},
   "source": [
    "s=[3, 4, 5]\n",
    "t = [1, 2, *s]\n",
    "t"
   ]
  },
  {
   "cell_type": "raw",
   "metadata": {},
   "source": [
    "first_column_of_cast = 13\n",
    "number_of_appearances_cutoff = 3\n",
    "cast_columns_mask = list( film_catalog.iloc[:,first_column_of_cast:].sum()>=number_of_appearances_cutoff )\n",
    "#cast_columns_mask "
   ]
  },
  {
   "cell_type": "raw",
   "metadata": {},
   "source": [
    "#film_catalog.iloc[:,first_column_of_cast:].sum()>=3 "
   ]
  },
  {
   "cell_type": "raw",
   "metadata": {},
   "source": [
    "keep_columns_mask = list(np.full(first_column_of_cast, True, dtype=bool))"
   ]
  },
  {
   "cell_type": "raw",
   "metadata": {},
   "source": [
    "keep_columns_mask.extend( cast_columns_mask)\n",
    "keep_columns_mask"
   ]
  },
  {
   "cell_type": "raw",
   "metadata": {},
   "source": []
  },
  {
   "cell_type": "raw",
   "metadata": {},
   "source": [
    "film_catalog_w_prevelant_actors = film_catalog.loc[:, keep_columns_mask].head(45)\n",
    "film_catalog_w_prevelant_actors.shape"
   ]
  },
  {
   "cell_type": "raw",
   "metadata": {},
   "source": [
    "film_catalog_w_prevelant_actors"
   ]
  },
  {
   "cell_type": "raw",
   "metadata": {},
   "source": [
    "film_catalog_w_prevelant_actors.iloc[:, 13:].sum()"
   ]
  },
  {
   "cell_type": "raw",
   "metadata": {},
   "source": [
    "film_catalog_w_prevelant_actors.iloc[:,13:].pipe(lambda film_catalog_w_prevelant_actors: film_catalog_w_prevelant_actors.loc[:, film_catalog_w_prevelant_actors.sum().sort_values(ascending=False).index])"
   ]
  },
  {
   "cell_type": "raw",
   "metadata": {},
   "source": [
    "film_catalog_w_prevelant_actors.iloc[:,13:].pipe(lambda df: df.loc[:, df.sum().sort_values(ascending=False).index])"
   ]
  },
  {
   "cell_type": "raw",
   "metadata": {},
   "source": []
  },
  {
   "cell_type": "raw",
   "metadata": {},
   "source": []
  },
  {
   "cell_type": "raw",
   "metadata": {},
   "source": []
  },
  {
   "cell_type": "raw",
   "metadata": {},
   "source": [
    "(film_catalog.iloc[:,13:].sum().iteritems())"
   ]
  },
  {
   "cell_type": "raw",
   "metadata": {},
   "source": [
    "film_catalog[film_catalog.sum()>=3]"
   ]
  },
  {
   "cell_type": "raw",
   "metadata": {},
   "source": [
    "film_catalog.loc[:,film_catalog.sum()>=3]"
   ]
  },
  {
   "cell_type": "raw",
   "metadata": {},
   "source": [
    "[not s>2 for s in film_catalog.iloc[:,13:].sum()].tolist()"
   ]
  },
  {
   "cell_type": "raw",
   "metadata": {},
   "source": [
    "film_catalog.iloc[:,13:].drop([not s>2 for s in film_catalog.iloc[:,13:].sum()], inplace=True)"
   ]
  },
  {
   "cell_type": "raw",
   "metadata": {},
   "source": [
    "\n",
    "film_catalog.iloc[:,13:].drop([col for col, val in film_catalog.iloc[:,13:].sum() < 3 ], axis=1, inplace=True)"
   ]
  },
  {
   "cell_type": "raw",
   "metadata": {},
   "source": [
    "film_catalog.tail(35)"
   ]
  },
  {
   "cell_type": "raw",
   "metadata": {},
   "source": [
    "film_catalog.dtypes"
   ]
  },
  {
   "cell_type": "raw",
   "metadata": {},
   "source": [
    "sns.pairplot( film_catalog )"
   ]
  },
  {
   "cell_type": "raw",
   "metadata": {},
   "source": []
  },
  {
   "cell_type": "raw",
   "metadata": {},
   "source": [
    "def traverse(soup):\n",
    "    found = False\n",
    "    if soup.name is not None:\n",
    "        dom_dictionary = {}\n",
    "        dom_dictionary['name'] = soup.name\n",
    "        if dom_dictionary['name'] == 'h1':\n",
    "            print('\\n')\n",
    "            print(soup.text)\n",
    "            print('\\n')\n",
    "            if not found:\n",
    "                found_object = soup\n",
    "                found = True\n",
    "        dom_dictionary['children'] = [ traverse(child) for child in soup.children if child.name is not None]\n",
    "        return dom_dictionary, found_object\n",
    "\n",
    "#traverse(soup)"
   ]
  },
  {
   "cell_type": "raw",
   "metadata": {},
   "source": [
    "### Test one film at a time"
   ]
  },
  {
   "cell_type": "raw",
   "metadata": {},
   "source": [
    "#%%script false\n",
    "# # Test area\n",
    "# film_url='https://www.imdb.com/title/tt0086153/'\n",
    "film_url = 'https://www.imdb.com/title/tt0084654/'\n",
    "\n",
    "film_response = requests.get(film_url)\n",
    "if(film_response.status_code < 400):\n",
    "    film_page = film_response.text\n",
    "    film_soup = BeautifulSoup(film_page, \"lxml\")\n",
    "#   if ( not is_TV_Series( film_soup) ):\n",
    "    film = parse_film_data( film_soup )\n",
    "    print(film)\n"
   ]
  }
 ],
 "metadata": {
  "kernelspec": {
   "display_name": "Python [conda env:metis] *",
   "language": "python",
   "name": "conda-env-metis-py"
  },
  "language_info": {
   "codemirror_mode": {
    "name": "ipython",
    "version": 3
   },
   "file_extension": ".py",
   "mimetype": "text/x-python",
   "name": "python",
   "nbconvert_exporter": "python",
   "pygments_lexer": "ipython3",
   "version": "3.8.6"
  }
 },
 "nbformat": 4,
 "nbformat_minor": 2
}
