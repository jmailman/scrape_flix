{
 "cells": [
  {
   "cell_type": "code",
   "execution_count": null,
   "id": "devoted-examination",
   "metadata": {},
   "outputs": [],
   "source": [
    "films_to_analyze=films_df_reordered[(films_df_reordered['year'].notnull()) & (films_df_reordered['duration']>30) & (films_df_reordered['rating'].notnull()) & (films_df_reordered['cinematographer']!='') & (films_df_reordered['cinematographer'].notnull())]\n",
    "#films_to_analyze.iloc[:,5:15].head(10)\n",
    "\n"
   ]
  },
  {
   "cell_type": "code",
   "execution_count": null,
   "id": "renewable-timeline",
   "metadata": {},
   "outputs": [],
   "source": []
  },
  {
   "cell_type": "code",
   "execution_count": null,
   "id": "collect-concentrate",
   "metadata": {},
   "outputs": [],
   "source": []
  },
  {
   "cell_type": "code",
   "execution_count": null,
   "id": "proprietary-rover",
   "metadata": {},
   "outputs": [],
   "source": [
    "films_to_analyze_financial = films_to_analyze[(films_to_analyze['budget'] > 0) & (films_df_reordered['worldwide_gross'] > 0)]"
   ]
  },
  {
   "cell_type": "code",
   "execution_count": 1,
   "id": "italian-fence",
   "metadata": {},
   "outputs": [
    {
     "ename": "NameError",
     "evalue": "name 'films_to_analyze_financial' is not defined",
     "output_type": "error",
     "traceback": [
      "\u001b[0;31m---------------------------------------------------------------------------\u001b[0m",
      "\u001b[0;31mNameError\u001b[0m                                 Traceback (most recent call last)",
      "\u001b[0;32m<ipython-input-1-4bb3a4a1363b>\u001b[0m in \u001b[0;36m<module>\u001b[0;34m\u001b[0m\n\u001b[0;32m----> 1\u001b[0;31m \u001b[0mfirst_actor_column\u001b[0m \u001b[0;34m=\u001b[0m \u001b[0;34m(\u001b[0m\u001b[0mlen\u001b[0m\u001b[0;34m(\u001b[0m\u001b[0mfilms_to_analyze_financial\u001b[0m\u001b[0;34m.\u001b[0m\u001b[0mcolumns\u001b[0m\u001b[0;34m)\u001b[0m \u001b[0;34m-\u001b[0m \u001b[0mlen\u001b[0m\u001b[0;34m(\u001b[0m\u001b[0mdict_of_all_actors\u001b[0m\u001b[0;34m)\u001b[0m\u001b[0;34m)\u001b[0m\u001b[0;34m\u001b[0m\u001b[0;34m\u001b[0m\u001b[0m\n\u001b[0m\u001b[1;32m      2\u001b[0m \u001b[0mfirst_actor_column\u001b[0m\u001b[0;34m\u001b[0m\u001b[0;34m\u001b[0m\u001b[0m\n\u001b[1;32m      3\u001b[0m \u001b[0;34m\u001b[0m\u001b[0m\n\u001b[1;32m      4\u001b[0m \u001b[0;34m\u001b[0m\u001b[0m\n\u001b[1;32m      5\u001b[0m \u001b[0mactor_columns\u001b[0m \u001b[0;34m=\u001b[0m \u001b[0mfilms_to_analyze_financial\u001b[0m\u001b[0;34m.\u001b[0m\u001b[0miloc\u001b[0m\u001b[0;34m[\u001b[0m\u001b[0;34m:\u001b[0m\u001b[0;34m,\u001b[0m \u001b[0mfirst_actor_column\u001b[0m\u001b[0;34m:\u001b[0m\u001b[0;34m]\u001b[0m\u001b[0;34m.\u001b[0m\u001b[0mcolumns\u001b[0m\u001b[0;34m\u001b[0m\u001b[0;34m\u001b[0m\u001b[0m\n",
      "\u001b[0;31mNameError\u001b[0m: name 'films_to_analyze_financial' is not defined"
     ]
    }
   ],
   "source": [
    "first_actor_column = (len(films_to_analyze_financial.columns) - len(dict_of_all_actors))\n",
    "first_actor_column\n",
    "\n",
    "\n",
    "actor_columns = films_to_analyze_financial.iloc[:, first_actor_column:].columns\n",
    "actor_columns\n",
    "\n",
    "films_to_analyze[actor_columns].sum()\n",
    "\n",
    "\n",
    "actors_num_of_appearances = films_to_analyze[actor_columns].sum()\n",
    "actors_num_of_appearances\n",
    "\n",
    "appearances_threshold = 3\n",
    "prevalent_actors_mask = (actors_num_of_appearances >= appearances_threshold)\n",
    "prevalent_actors_mask\n",
    "\n",
    "prevalent_actor_columns = actor_columns[prevalent_actors_mask]\n",
    "prevalent_actor_columns \n",
    "\n",
    "\n",
    "analysis_columns = ['title', 'year', 'duration', 'budget', 'worldwide_gross','cinematographer', 'documentary', 'tv_series','rating', 'rating_count', *prevalent_actor_columns]\n",
    "analysis_columns\n",
    "\n",
    "films_and_features_to_analyze_financial_df = films_to_analyze_financial[analysis_columns]"
   ]
  },
  {
   "cell_type": "code",
   "execution_count": null,
   "id": "living-mississippi",
   "metadata": {},
   "outputs": [],
   "source": []
  },
  {
   "cell_type": "code",
   "execution_count": null,
   "id": "proud-swimming",
   "metadata": {},
   "outputs": [],
   "source": [
    "x_label = 'budget'\n",
    "y_label = 'rating'\n",
    "x_ = films_and_features_to_analyze_df[x_label]\n",
    "y_ = films_and_features_to_analyze_df[y_label]\n",
    "\n",
    "plt.figure(figsize=(16,8))\n",
    "\n",
    "size_ = 300\n",
    "alpha_ = .6\n",
    "plt.xlabel(x_label, fontsize='18')\n",
    "plt.ylabel(y_label, fontsize='18')\n",
    "plt.title(director.title() + ' movies', fontsize='20')\n",
    "cmap=plt.get_cmap(\"cool\")\n",
    "color_dimension = 'year'\n",
    "cm=films_and_features_to_analyze_df[color_dimension].tolist()\n",
    "\n",
    "category = 'tv_series'\n",
    "plt.scatter(x=x_, y=y_, marker='o', alpha=alpha_, c=cm,cmap=\"cool\", s=(size_,))\n",
    "plt.colorbar(label=color_dimension)\n",
    "\n"
   ]
  },
  {
   "cell_type": "code",
   "execution_count": null,
   "id": "broken-ireland",
   "metadata": {},
   "outputs": [],
   "source": [
    "x_label = 'budget'\n",
    "y_label = 'year'\n",
    "x_ = films_and_features_to_analyze_df[x_label]\n",
    "y_ = films_and_features_to_analyze_df[y_label]\n",
    "\n",
    "plt.figure(figsize=(16,8))\n",
    "\n",
    "size_ = 300\n",
    "alpha_ = .6\n",
    "plt.xlabel(x_label, fontsize='18')\n",
    "plt.ylabel(y_label, fontsize='18')\n",
    "plt.title(director.title() + ' movies', fontsize='20')\n",
    "cmap=plt.get_cmap(\"cool\")\n",
    "color_dimension = 'budget'\n",
    "cm=films_and_features_to_analyze_df[color_dimension].tolist()\n",
    "\n",
    "category = 'tv_series'\n",
    "plt.scatter(x=x_, y=y_, marker='o', alpha=alpha_, c=cm,cmap=\"cool\", s=(size_,))\n",
    "plt.colorbar(label=color_dimension)\n"
   ]
  },
  {
   "cell_type": "code",
   "execution_count": null,
   "id": "engaged-montana",
   "metadata": {},
   "outputs": [],
   "source": []
  },
  {
   "cell_type": "code",
   "execution_count": null,
   "id": "velvet-retail",
   "metadata": {},
   "outputs": [],
   "source": [
    "cinematographer_include_threshold = films_and_features_to_analyze_df['cinematographer'].value_counts().min()\n",
    "cinematographer_include_threshold"
   ]
  },
  {
   "cell_type": "code",
   "execution_count": null,
   "id": "bored-backing",
   "metadata": {},
   "outputs": [],
   "source": [
    "value_counts = films_and_features_to_analyze_df['cinematographer'].value_counts() # Specific column \n",
    "to_remove = value_counts[value_counts <= cinematographer_include_threshold].index\n",
    "films_and_features_to_analyze_df['cinematographer'].replace(to_remove, 'OTHER', inplace=True)"
   ]
  },
  {
   "cell_type": "code",
   "execution_count": null,
   "id": "promising-manchester",
   "metadata": {},
   "outputs": [],
   "source": [
    "selected_cols = [*films_and_features_to_analyze_financial_df.columns[1:8], *films_and_features_to_analyze_financial_df.columns[9:]]"
   ]
  },
  {
   "cell_type": "code",
   "execution_count": null,
   "id": "explicit-check",
   "metadata": {},
   "outputs": [],
   "source": [
    "X_train, X_test, y_train, y_test = train_test_split(X, y)"
   ]
  }
 ],
 "metadata": {
  "kernelspec": {
   "display_name": "Python [conda env:metis] *",
   "language": "python",
   "name": "conda-env-metis-py"
  },
  "language_info": {
   "codemirror_mode": {
    "name": "ipython",
    "version": 3
   },
   "file_extension": ".py",
   "mimetype": "text/x-python",
   "name": "python",
   "nbconvert_exporter": "python",
   "pygments_lexer": "ipython3",
   "version": "3.8.6"
  }
 },
 "nbformat": 4,
 "nbformat_minor": 5
}
