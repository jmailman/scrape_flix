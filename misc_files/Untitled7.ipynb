{
 "cells": [
  {
   "cell_type": "code",
   "execution_count": 1,
   "id": "balanced-contribution",
   "metadata": {},
   "outputs": [],
   "source": [
    "import pandas as pd\n",
    "#import random\n",
    "import numpy as np\n",
    "import copy"
   ]
  },
  {
   "cell_type": "code",
   "execution_count": null,
   "id": "practical-display",
   "metadata": {},
   "outputs": [],
   "source": []
  },
  {
   "cell_type": "code",
   "execution_count": 2,
   "id": "chronic-cancellation",
   "metadata": {},
   "outputs": [
    {
     "data": {
      "text/html": [
       "<div>\n",
       "<style scoped>\n",
       "    .dataframe tbody tr th:only-of-type {\n",
       "        vertical-align: middle;\n",
       "    }\n",
       "\n",
       "    .dataframe tbody tr th {\n",
       "        vertical-align: top;\n",
       "    }\n",
       "\n",
       "    .dataframe thead th {\n",
       "        text-align: right;\n",
       "    }\n",
       "</style>\n",
       "<table border=\"1\" class=\"dataframe\">\n",
       "  <thead>\n",
       "    <tr style=\"text-align: right;\">\n",
       "      <th></th>\n",
       "      <th>A</th>\n",
       "      <th>B</th>\n",
       "      <th>C</th>\n",
       "      <th>D</th>\n",
       "    </tr>\n",
       "  </thead>\n",
       "  <tbody>\n",
       "    <tr>\n",
       "      <th>0</th>\n",
       "      <td>-0.731297</td>\n",
       "      <td>0.384039</td>\n",
       "      <td>1.194151</td>\n",
       "      <td>2.196651</td>\n",
       "    </tr>\n",
       "    <tr>\n",
       "      <th>1</th>\n",
       "      <td>-0.286734</td>\n",
       "      <td>-1.143605</td>\n",
       "      <td>0.969677</td>\n",
       "      <td>-0.222194</td>\n",
       "    </tr>\n",
       "    <tr>\n",
       "      <th>2</th>\n",
       "      <td>-0.363349</td>\n",
       "      <td>-0.543722</td>\n",
       "      <td>-0.241005</td>\n",
       "      <td>-1.598214</td>\n",
       "    </tr>\n",
       "    <tr>\n",
       "      <th>3</th>\n",
       "      <td>1.858003</td>\n",
       "      <td>0.522453</td>\n",
       "      <td>0.925371</td>\n",
       "      <td>-0.397877</td>\n",
       "    </tr>\n",
       "  </tbody>\n",
       "</table>\n",
       "</div>"
      ],
      "text/plain": [
       "          A         B         C         D\n",
       "0 -0.731297  0.384039  1.194151  2.196651\n",
       "1 -0.286734 -1.143605  0.969677 -0.222194\n",
       "2 -0.363349 -0.543722 -0.241005 -1.598214\n",
       "3  1.858003  0.522453  0.925371 -0.397877"
      ]
     },
     "execution_count": 2,
     "metadata": {},
     "output_type": "execute_result"
    }
   ],
   "source": [
    "film_catalog = pd.DataFrame(np.random.randn(4,4), columns=list('ABCD'))\n",
    "film_catalog "
   ]
  },
  {
   "cell_type": "code",
   "execution_count": 3,
   "id": "appropriate-warrior",
   "metadata": {},
   "outputs": [
    {
     "data": {
      "text/html": [
       "<div>\n",
       "<style scoped>\n",
       "    .dataframe tbody tr th:only-of-type {\n",
       "        vertical-align: middle;\n",
       "    }\n",
       "\n",
       "    .dataframe tbody tr th {\n",
       "        vertical-align: top;\n",
       "    }\n",
       "\n",
       "    .dataframe thead th {\n",
       "        text-align: right;\n",
       "    }\n",
       "</style>\n",
       "<table border=\"1\" class=\"dataframe\">\n",
       "  <thead>\n",
       "    <tr style=\"text-align: right;\">\n",
       "      <th></th>\n",
       "      <th>A</th>\n",
       "      <th>B</th>\n",
       "      <th>C</th>\n",
       "      <th>D</th>\n",
       "    </tr>\n",
       "  </thead>\n",
       "  <tbody>\n",
       "    <tr>\n",
       "      <th>0</th>\n",
       "      <td>-0.731297</td>\n",
       "      <td>0.384039</td>\n",
       "      <td>3</td>\n",
       "      <td>2.196651</td>\n",
       "    </tr>\n",
       "    <tr>\n",
       "      <th>1</th>\n",
       "      <td>-0.286734</td>\n",
       "      <td>-1.143605</td>\n",
       "      <td>3</td>\n",
       "      <td>-0.222194</td>\n",
       "    </tr>\n",
       "    <tr>\n",
       "      <th>2</th>\n",
       "      <td>-0.363349</td>\n",
       "      <td>-0.543722</td>\n",
       "      <td>3</td>\n",
       "      <td>-1.598214</td>\n",
       "    </tr>\n",
       "    <tr>\n",
       "      <th>3</th>\n",
       "      <td>1.858003</td>\n",
       "      <td>0.522453</td>\n",
       "      <td>3</td>\n",
       "      <td>-0.397877</td>\n",
       "    </tr>\n",
       "  </tbody>\n",
       "</table>\n",
       "</div>"
      ],
      "text/plain": [
       "          A         B  C         D\n",
       "0 -0.731297  0.384039  3  2.196651\n",
       "1 -0.286734 -1.143605  3 -0.222194\n",
       "2 -0.363349 -0.543722  3 -1.598214\n",
       "3  1.858003  0.522453  3 -0.397877"
      ]
     },
     "execution_count": 3,
     "metadata": {},
     "output_type": "execute_result"
    }
   ],
   "source": [
    "film_catalog [\"C\"] = 3\n",
    "film_catalog "
   ]
  },
  {
   "cell_type": "code",
   "execution_count": 4,
   "id": "directed-occasions",
   "metadata": {},
   "outputs": [
    {
     "data": {
      "text/plain": [
       "A     0.476624\n",
       "B    -0.780834\n",
       "C    12.000000\n",
       "D    -0.021635\n",
       "dtype: float64"
      ]
     },
     "execution_count": 4,
     "metadata": {},
     "output_type": "execute_result"
    }
   ],
   "source": [
    "film_catalog.sum()"
   ]
  },
  {
   "cell_type": "code",
   "execution_count": null,
   "id": "african-capability",
   "metadata": {},
   "outputs": [],
   "source": []
  },
  {
   "cell_type": "code",
   "execution_count": null,
   "id": "chronic-magnet",
   "metadata": {},
   "outputs": [],
   "source": []
  },
  {
   "cell_type": "code",
   "execution_count": null,
   "id": "identified-hybrid",
   "metadata": {},
   "outputs": [],
   "source": []
  },
  {
   "cell_type": "code",
   "execution_count": 5,
   "id": "beautiful-national",
   "metadata": {},
   "outputs": [],
   "source": [
    "first_cast_column = 1"
   ]
  },
  {
   "cell_type": "code",
   "execution_count": 6,
   "id": "discrete-melbourne",
   "metadata": {},
   "outputs": [
    {
     "data": {
      "text/html": [
       "<div>\n",
       "<style scoped>\n",
       "    .dataframe tbody tr th:only-of-type {\n",
       "        vertical-align: middle;\n",
       "    }\n",
       "\n",
       "    .dataframe tbody tr th {\n",
       "        vertical-align: top;\n",
       "    }\n",
       "\n",
       "    .dataframe thead th {\n",
       "        text-align: right;\n",
       "    }\n",
       "</style>\n",
       "<table border=\"1\" class=\"dataframe\">\n",
       "  <thead>\n",
       "    <tr style=\"text-align: right;\">\n",
       "      <th></th>\n",
       "      <th>B</th>\n",
       "      <th>C</th>\n",
       "      <th>D</th>\n",
       "    </tr>\n",
       "  </thead>\n",
       "  <tbody>\n",
       "    <tr>\n",
       "      <th>0</th>\n",
       "      <td>0.384039</td>\n",
       "      <td>3</td>\n",
       "      <td>2.196651</td>\n",
       "    </tr>\n",
       "    <tr>\n",
       "      <th>1</th>\n",
       "      <td>-1.143605</td>\n",
       "      <td>3</td>\n",
       "      <td>-0.222194</td>\n",
       "    </tr>\n",
       "    <tr>\n",
       "      <th>2</th>\n",
       "      <td>-0.543722</td>\n",
       "      <td>3</td>\n",
       "      <td>-1.598214</td>\n",
       "    </tr>\n",
       "    <tr>\n",
       "      <th>3</th>\n",
       "      <td>0.522453</td>\n",
       "      <td>3</td>\n",
       "      <td>-0.397877</td>\n",
       "    </tr>\n",
       "  </tbody>\n",
       "</table>\n",
       "</div>"
      ],
      "text/plain": [
       "          B  C         D\n",
       "0  0.384039  3  2.196651\n",
       "1 -1.143605  3 -0.222194\n",
       "2 -0.543722  3 -1.598214\n",
       "3  0.522453  3 -0.397877"
      ]
     },
     "execution_count": 6,
     "metadata": {},
     "output_type": "execute_result"
    }
   ],
   "source": [
    "df_actors = copy.deepcopy(film_catalog.iloc[:, first_cast_column:])\n",
    "df_actors"
   ]
  },
  {
   "cell_type": "code",
   "execution_count": 7,
   "id": "southern-soccer",
   "metadata": {},
   "outputs": [
    {
     "data": {
      "text/html": [
       "<div>\n",
       "<style scoped>\n",
       "    .dataframe tbody tr th:only-of-type {\n",
       "        vertical-align: middle;\n",
       "    }\n",
       "\n",
       "    .dataframe tbody tr th {\n",
       "        vertical-align: top;\n",
       "    }\n",
       "\n",
       "    .dataframe thead th {\n",
       "        text-align: right;\n",
       "    }\n",
       "</style>\n",
       "<table border=\"1\" class=\"dataframe\">\n",
       "  <thead>\n",
       "    <tr style=\"text-align: right;\">\n",
       "      <th></th>\n",
       "      <th>C</th>\n",
       "      <th>D</th>\n",
       "      <th>B</th>\n",
       "    </tr>\n",
       "  </thead>\n",
       "  <tbody>\n",
       "    <tr>\n",
       "      <th>0</th>\n",
       "      <td>3</td>\n",
       "      <td>2.196651</td>\n",
       "      <td>0.384039</td>\n",
       "    </tr>\n",
       "    <tr>\n",
       "      <th>1</th>\n",
       "      <td>3</td>\n",
       "      <td>-0.222194</td>\n",
       "      <td>-1.143605</td>\n",
       "    </tr>\n",
       "    <tr>\n",
       "      <th>2</th>\n",
       "      <td>3</td>\n",
       "      <td>-1.598214</td>\n",
       "      <td>-0.543722</td>\n",
       "    </tr>\n",
       "    <tr>\n",
       "      <th>3</th>\n",
       "      <td>3</td>\n",
       "      <td>-0.397877</td>\n",
       "      <td>0.522453</td>\n",
       "    </tr>\n",
       "  </tbody>\n",
       "</table>\n",
       "</div>"
      ],
      "text/plain": [
       "   C         D         B\n",
       "0  3  2.196651  0.384039\n",
       "1  3 -0.222194 -1.143605\n",
       "2  3 -1.598214 -0.543722\n",
       "3  3 -0.397877  0.522453"
      ]
     },
     "execution_count": 7,
     "metadata": {},
     "output_type": "execute_result"
    }
   ],
   "source": [
    "df_actors_reordered = df_actors[df_actors.sum().sort_values(ascending = False).index]\n",
    "df_actors_reordered"
   ]
  },
  {
   "cell_type": "code",
   "execution_count": 8,
   "id": "physical-intake",
   "metadata": {},
   "outputs": [
    {
     "data": {
      "text/html": [
       "<div>\n",
       "<style scoped>\n",
       "    .dataframe tbody tr th:only-of-type {\n",
       "        vertical-align: middle;\n",
       "    }\n",
       "\n",
       "    .dataframe tbody tr th {\n",
       "        vertical-align: top;\n",
       "    }\n",
       "\n",
       "    .dataframe thead th {\n",
       "        text-align: right;\n",
       "    }\n",
       "</style>\n",
       "<table border=\"1\" class=\"dataframe\">\n",
       "  <thead>\n",
       "    <tr style=\"text-align: right;\">\n",
       "      <th></th>\n",
       "      <th>A</th>\n",
       "    </tr>\n",
       "  </thead>\n",
       "  <tbody>\n",
       "    <tr>\n",
       "      <th>0</th>\n",
       "      <td>-0.731297</td>\n",
       "    </tr>\n",
       "    <tr>\n",
       "      <th>1</th>\n",
       "      <td>-0.286734</td>\n",
       "    </tr>\n",
       "    <tr>\n",
       "      <th>2</th>\n",
       "      <td>-0.363349</td>\n",
       "    </tr>\n",
       "    <tr>\n",
       "      <th>3</th>\n",
       "      <td>1.858003</td>\n",
       "    </tr>\n",
       "  </tbody>\n",
       "</table>\n",
       "</div>"
      ],
      "text/plain": [
       "          A\n",
       "0 -0.731297\n",
       "1 -0.286734\n",
       "2 -0.363349\n",
       "3  1.858003"
      ]
     },
     "execution_count": 8,
     "metadata": {},
     "output_type": "execute_result"
    }
   ],
   "source": [
    "df_trunk = copy.deepcopy(film_catalog .iloc[:, :first_cast_column])\n",
    "df_trunk"
   ]
  },
  {
   "cell_type": "code",
   "execution_count": 9,
   "id": "lasting-mobile",
   "metadata": {},
   "outputs": [],
   "source": [
    "film_catalog_cast_columns_reordered = pd.concat( [df_trunk, df_actors_reordered], axis=1)\n",
    "film_catalog_cast_columns_reordered"
   ]
  },
  {
   "cell_type": "code",
   "execution_count": 10,
   "id": "special-factory",
   "metadata": {},
   "outputs": [
    {
     "data": {
      "text/html": [
       "<div>\n",
       "<style scoped>\n",
       "    .dataframe tbody tr th:only-of-type {\n",
       "        vertical-align: middle;\n",
       "    }\n",
       "\n",
       "    .dataframe tbody tr th {\n",
       "        vertical-align: top;\n",
       "    }\n",
       "\n",
       "    .dataframe thead th {\n",
       "        text-align: right;\n",
       "    }\n",
       "</style>\n",
       "<table border=\"1\" class=\"dataframe\">\n",
       "  <thead>\n",
       "    <tr style=\"text-align: right;\">\n",
       "      <th></th>\n",
       "      <th>A</th>\n",
       "      <th>C</th>\n",
       "      <th>D</th>\n",
       "      <th>B</th>\n",
       "    </tr>\n",
       "  </thead>\n",
       "  <tbody>\n",
       "    <tr>\n",
       "      <th>0</th>\n",
       "      <td>-0.731297</td>\n",
       "      <td>3</td>\n",
       "      <td>2.196651</td>\n",
       "      <td>0.384039</td>\n",
       "    </tr>\n",
       "    <tr>\n",
       "      <th>1</th>\n",
       "      <td>-0.286734</td>\n",
       "      <td>3</td>\n",
       "      <td>-0.222194</td>\n",
       "      <td>-1.143605</td>\n",
       "    </tr>\n",
       "    <tr>\n",
       "      <th>2</th>\n",
       "      <td>-0.363349</td>\n",
       "      <td>3</td>\n",
       "      <td>-1.598214</td>\n",
       "      <td>-0.543722</td>\n",
       "    </tr>\n",
       "    <tr>\n",
       "      <th>3</th>\n",
       "      <td>1.858003</td>\n",
       "      <td>3</td>\n",
       "      <td>-0.397877</td>\n",
       "      <td>0.522453</td>\n",
       "    </tr>\n",
       "  </tbody>\n",
       "</table>\n",
       "</div>"
      ],
      "text/plain": [
       "          A  C         D         B\n",
       "0 -0.731297  3  2.196651  0.384039\n",
       "1 -0.286734  3 -0.222194 -1.143605\n",
       "2 -0.363349  3 -1.598214 -0.543722\n",
       "3  1.858003  3 -0.397877  0.522453"
      ]
     },
     "execution_count": 10,
     "metadata": {},
     "output_type": "execute_result"
    }
   ],
   "source": [
    "film_catalog_cast_columns_reordered"
   ]
  },
  {
   "cell_type": "code",
   "execution_count": null,
   "id": "considerable-shirt",
   "metadata": {},
   "outputs": [],
   "source": []
  },
  {
   "cell_type": "code",
   "execution_count": null,
   "id": "hungarian-instrumentation",
   "metadata": {},
   "outputs": [],
   "source": []
  },
  {
   "cell_type": "code",
   "execution_count": null,
   "id": "partial-weight",
   "metadata": {},
   "outputs": [],
   "source": []
  },
  {
   "cell_type": "code",
   "execution_count": null,
   "id": "visible-literacy",
   "metadata": {},
   "outputs": [],
   "source": []
  },
  {
   "cell_type": "code",
   "execution_count": null,
   "id": "matched-maria",
   "metadata": {},
   "outputs": [],
   "source": [
    "df = df.assign(m=df.mean(axis=0)).sort_values('m')\n",
    "df"
   ]
  },
  {
   "cell_type": "code",
   "execution_count": null,
   "id": "metric-muslim",
   "metadata": {},
   "outputs": [],
   "source": []
  },
  {
   "cell_type": "code",
   "execution_count": null,
   "id": "structural-architecture",
   "metadata": {},
   "outputs": [],
   "source": []
  },
  {
   "cell_type": "code",
   "execution_count": null,
   "id": "advanced-pressure",
   "metadata": {},
   "outputs": [],
   "source": []
  },
  {
   "cell_type": "code",
   "execution_count": null,
   "id": "academic-frederick",
   "metadata": {},
   "outputs": [],
   "source": []
  },
  {
   "cell_type": "code",
   "execution_count": null,
   "id": "impaired-appeal",
   "metadata": {},
   "outputs": [],
   "source": [
    "vals = np.random.randint(16, 80, 25)\n",
    "vals\n",
    "vals.reshape(5,5)\n",
    "vals= vals.reshape(5, 5)\n",
    "vals"
   ]
  },
  {
   "cell_type": "code",
   "execution_count": null,
   "id": "spare-bathroom",
   "metadata": {},
   "outputs": [],
   "source": [
    "cols = ['Q1_3', 'Q6_1', 'Q1_2', 'Q9_1', 'Q10_2']"
   ]
  },
  {
   "cell_type": "code",
   "execution_count": null,
   "id": "trained-mineral",
   "metadata": {},
   "outputs": [],
   "source": [
    "data = pd.DataFrame(vals, columns = cols)\n",
    "#{'Column1': data[:, 0], 'Column2': data[:, 1]}"
   ]
  },
  {
   "cell_type": "code",
   "execution_count": null,
   "id": "functioning-handling",
   "metadata": {},
   "outputs": [],
   "source": []
  },
  {
   "cell_type": "code",
   "execution_count": null,
   "id": "criminal-cleaner",
   "metadata": {},
   "outputs": [],
   "source": [
    "data\n",
    "#data = pd.DataFrame(vals, columns = cols)\n",
    "# You get:\n",
    "\n",
    "# data\n",
    "\n",
    "#     Q1.3    Q6.1    Q1.2    Q9.1    Q10.2\n",
    "# 0   73      29      63      51      72\n",
    "# 1   61      29      32      68      57\n",
    "# 2   36      49      76      18      37\n",
    "# 3   63      61      51      30      31\n",
    "# 4   36      66      71      24      77\n"
   ]
  },
  {
   "cell_type": "code",
   "execution_count": null,
   "id": "younger-stationery",
   "metadata": {},
   "outputs": [],
   "source": [
    "data.sum()"
   ]
  },
  {
   "cell_type": "code",
   "execution_count": null,
   "id": "fifteen-stress",
   "metadata": {},
   "outputs": [],
   "source": [
    "data.reindex(sorted(data.columns, key=lambda x: x.sum()), axis=1)\n",
    "data"
   ]
  },
  {
   "cell_type": "code",
   "execution_count": null,
   "id": "drawn-shower",
   "metadata": {},
   "outputs": [],
   "source": [
    "# Then do:\n",
    "#data.reindex_axis(sorted(data.columns, key=lambda x: float(x[1:])), axis=1)\n",
    "# resulting in:\n",
    "\n",
    "# data\n",
    "\n",
    "\n",
    "#      Q1.2    Q1.3    Q6.1    Q9.1    Q10.2\n",
    "# 0    2       0       1       3       4\n",
    "# 1    7       5       6       8       9\n",
    "# 2    2       0       1       3       4\n",
    "# 3    2       0       1       3       4"
   ]
  },
  {
   "cell_type": "code",
   "execution_count": null,
   "id": "governing-ghana",
   "metadata": {},
   "outputs": [],
   "source": []
  },
  {
   "cell_type": "code",
   "execution_count": null,
   "id": "detected-swaziland",
   "metadata": {},
   "outputs": [],
   "source": []
  },
  {
   "cell_type": "code",
   "execution_count": null,
   "id": "trained-baltimore",
   "metadata": {},
   "outputs": [],
   "source": []
  }
 ],
 "metadata": {
  "kernelspec": {
   "display_name": "Python [conda env:metis] *",
   "language": "python",
   "name": "conda-env-metis-py"
  },
  "language_info": {
   "codemirror_mode": {
    "name": "ipython",
    "version": 3
   },
   "file_extension": ".py",
   "mimetype": "text/x-python",
   "name": "python",
   "nbconvert_exporter": "python",
   "pygments_lexer": "ipython3",
   "version": "3.8.6"
  }
 },
 "nbformat": 4,
 "nbformat_minor": 5
}
