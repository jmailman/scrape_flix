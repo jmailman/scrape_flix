{
 "cells": [
  {
   "cell_type": "markdown",
   "metadata": {},
   "source": [
    "# 3b Lasso and Ridge Linear Regression with Cross-validation"
   ]
  },
  {
   "cell_type": "markdown",
   "metadata": {},
   "source": [
    "#### It has four main sections"
   ]
  },
  {
   "cell_type": "markdown",
   "metadata": {},
   "source": [
    "## A. Imports, data shaping, and preprocessing\n",
    "\n",
    "## B. Lasso CV regression on all features\n",
    "\n",
    "## C. Lasso and Ridge regression on all features except `rating count`\n",
    "\n",
    "## D. Lasso and Ridge regression on all features except `rating count` but with also `budget` added as a feature"
   ]
  },
  {
   "cell_type": "code",
   "execution_count": null,
   "metadata": {},
   "outputs": [],
   "source": []
  },
  {
   "cell_type": "markdown",
   "metadata": {},
   "source": [
    "# A. Imports and data shaping"
   ]
  },
  {
   "cell_type": "code",
   "execution_count": 836,
   "metadata": {},
   "outputs": [],
   "source": [
    "import pandas as pd\n",
    "import numpy as np\n",
    "import re\n",
    "import math\n",
    "import seaborn as sns\n",
    "from matplotlib import pyplot as plt\n",
    "from collections import defaultdict\n",
    "#from IPython.core.display import display, HTML\n",
    "import pickle\n",
    "import copy\n",
    "#from sklearn.preprocessing import OneHotEncoder\n",
    "#from sklearn.model_selection import train_test_split\n",
    "#display(HTML(my_html))     # make sure Jupyter knows to display it as HTML\n",
    "\n",
    "from sklearn.model_selection import train_test_split\n",
    "from sklearn.linear_model import LinearRegression, Lasso, LassoCV, Ridge, RidgeCV\n",
    "from sklearn.metrics import mean_squared_error\n",
    "from sklearn.preprocessing import  StandardScaler, PolynomialFeatures, OneHotEncoder\n",
    "from sklearn.pipeline import Pipeline\n",
    "from sklearn.metrics import r2_score"
   ]
  },
  {
   "cell_type": "code",
   "execution_count": 837,
   "metadata": {},
   "outputs": [],
   "source": [
    "pd.options.display.float_format = \"{:,.5f}\".format"
   ]
  },
  {
   "cell_type": "code",
   "execution_count": 838,
   "metadata": {},
   "outputs": [],
   "source": [
    "#director = 'godard'\n",
    "#director = 'hitchcock'\n",
    "#director = 'bergman'\n",
    "#director = 'fassbinder'\n",
    "#director = 'herzog'\n",
    "director = 'scorsese'\n",
    "#director='allen'"
   ]
  },
  {
   "cell_type": "code",
   "execution_count": 839,
   "metadata": {},
   "outputs": [],
   "source": [
    "\n",
    "dir_str = director + '/'\n",
    "\n",
    "films_filename = 'films_to_analyze_' + director +'.pickle'\n",
    "with open(dir_str + films_filename, 'rb') as read_file:\n",
    "    films_to_analyze = pickle.load(read_file)"
   ]
  },
  {
   "cell_type": "code",
   "execution_count": 840,
   "metadata": {},
   "outputs": [
    {
     "data": {
      "text/html": [
       "<div>\n",
       "<style scoped>\n",
       "    .dataframe tbody tr th:only-of-type {\n",
       "        vertical-align: middle;\n",
       "    }\n",
       "\n",
       "    .dataframe tbody tr th {\n",
       "        vertical-align: top;\n",
       "    }\n",
       "\n",
       "    .dataframe thead th {\n",
       "        text-align: right;\n",
       "    }\n",
       "</style>\n",
       "<table border=\"1\" class=\"dataframe\">\n",
       "  <thead>\n",
       "    <tr style=\"text-align: right;\">\n",
       "      <th></th>\n",
       "      <th>title</th>\n",
       "      <th>year</th>\n",
       "      <th>release_date</th>\n",
       "      <th>duration</th>\n",
       "      <th>runtime</th>\n",
       "      <th>budget</th>\n",
       "      <th>worldwide_gross</th>\n",
       "      <th>worldwide_gross_imdb</th>\n",
       "      <th>worldwide_gross_bo</th>\n",
       "      <th>rating</th>\n",
       "      <th>...</th>\n",
       "      <th>A. Scott Berg</th>\n",
       "      <th>Rosamond Bernier</th>\n",
       "      <th>John Burgee</th>\n",
       "      <th>Dina Chandel</th>\n",
       "      <th>Eleanor Clark</th>\n",
       "      <th>Bette Davis</th>\n",
       "      <th>Geraldine Fitzgerald</th>\n",
       "      <th>Greer Garson</th>\n",
       "      <th>Joan Givner</th>\n",
       "      <th>Fred Sica</th>\n",
       "    </tr>\n",
       "  </thead>\n",
       "  <tbody>\n",
       "    <tr>\n",
       "      <th>5</th>\n",
       "      <td>Pretend It's a City</td>\n",
       "      <td>2,021.00000</td>\n",
       "      <td>8 January 2021 (USA)</td>\n",
       "      <td>203.00000</td>\n",
       "      <td>203.00000</td>\n",
       "      <td>NaN</td>\n",
       "      <td>NaN</td>\n",
       "      <td>NaN</td>\n",
       "      <td>NaN</td>\n",
       "      <td>8.30000</td>\n",
       "      <td>...</td>\n",
       "      <td>0.00000</td>\n",
       "      <td>0.00000</td>\n",
       "      <td>0.00000</td>\n",
       "      <td>0.00000</td>\n",
       "      <td>0.00000</td>\n",
       "      <td>0.00000</td>\n",
       "      <td>0.00000</td>\n",
       "      <td>0.00000</td>\n",
       "      <td>0.00000</td>\n",
       "      <td>0.00000</td>\n",
       "    </tr>\n",
       "    <tr>\n",
       "      <th>7</th>\n",
       "      <td>The Irishman</td>\n",
       "      <td>2,019.00000</td>\n",
       "      <td>27 November 2019 (USA)</td>\n",
       "      <td>209.00000</td>\n",
       "      <td>209.00000</td>\n",
       "      <td>159,000,000.00000</td>\n",
       "      <td>910,234.00000</td>\n",
       "      <td>968,853.00000</td>\n",
       "      <td>910,234.00000</td>\n",
       "      <td>7.90000</td>\n",
       "      <td>...</td>\n",
       "      <td>0.00000</td>\n",
       "      <td>0.00000</td>\n",
       "      <td>0.00000</td>\n",
       "      <td>0.00000</td>\n",
       "      <td>0.00000</td>\n",
       "      <td>0.00000</td>\n",
       "      <td>0.00000</td>\n",
       "      <td>0.00000</td>\n",
       "      <td>0.00000</td>\n",
       "      <td>0.00000</td>\n",
       "    </tr>\n",
       "    <tr>\n",
       "      <th>8</th>\n",
       "      <td>Rolling Thunder Revue: A Bob Dylan Story by Ma...</td>\n",
       "      <td>2,019.00000</td>\n",
       "      <td>12 June 2019 (USA)</td>\n",
       "      <td>142.00000</td>\n",
       "      <td>142.00000</td>\n",
       "      <td>NaN</td>\n",
       "      <td>NaN</td>\n",
       "      <td>NaN</td>\n",
       "      <td>NaN</td>\n",
       "      <td>7.60000</td>\n",
       "      <td>...</td>\n",
       "      <td>0.00000</td>\n",
       "      <td>0.00000</td>\n",
       "      <td>0.00000</td>\n",
       "      <td>0.00000</td>\n",
       "      <td>0.00000</td>\n",
       "      <td>0.00000</td>\n",
       "      <td>0.00000</td>\n",
       "      <td>0.00000</td>\n",
       "      <td>0.00000</td>\n",
       "      <td>0.00000</td>\n",
       "    </tr>\n",
       "    <tr>\n",
       "      <th>9</th>\n",
       "      <td>Silence</td>\n",
       "      <td>2,016.00000</td>\n",
       "      <td>13 January 2017 (USA)</td>\n",
       "      <td>161.00000</td>\n",
       "      <td>161.00000</td>\n",
       "      <td>46,000,000.00000</td>\n",
       "      <td>23,726,626.00000</td>\n",
       "      <td>23,834,809.00000</td>\n",
       "      <td>23,726,626.00000</td>\n",
       "      <td>7.20000</td>\n",
       "      <td>...</td>\n",
       "      <td>0.00000</td>\n",
       "      <td>0.00000</td>\n",
       "      <td>0.00000</td>\n",
       "      <td>0.00000</td>\n",
       "      <td>0.00000</td>\n",
       "      <td>0.00000</td>\n",
       "      <td>0.00000</td>\n",
       "      <td>0.00000</td>\n",
       "      <td>0.00000</td>\n",
       "      <td>0.00000</td>\n",
       "    </tr>\n",
       "    <tr>\n",
       "      <th>10</th>\n",
       "      <td>Vinyl</td>\n",
       "      <td>2,016.00000</td>\n",
       "      <td>14 February 2016 (USA)</td>\n",
       "      <td>60.00000</td>\n",
       "      <td>60.00000</td>\n",
       "      <td>100,000,000.00000</td>\n",
       "      <td>NaN</td>\n",
       "      <td>NaN</td>\n",
       "      <td>NaN</td>\n",
       "      <td>7.80000</td>\n",
       "      <td>...</td>\n",
       "      <td>0.00000</td>\n",
       "      <td>0.00000</td>\n",
       "      <td>0.00000</td>\n",
       "      <td>0.00000</td>\n",
       "      <td>0.00000</td>\n",
       "      <td>0.00000</td>\n",
       "      <td>0.00000</td>\n",
       "      <td>0.00000</td>\n",
       "      <td>0.00000</td>\n",
       "      <td>0.00000</td>\n",
       "    </tr>\n",
       "  </tbody>\n",
       "</table>\n",
       "<p>5 rows × 2803 columns</p>\n",
       "</div>"
      ],
      "text/plain": [
       "                                                title        year  \\\n",
       "5                                 Pretend It's a City 2,021.00000   \n",
       "7                                        The Irishman 2,019.00000   \n",
       "8   Rolling Thunder Revue: A Bob Dylan Story by Ma... 2,019.00000   \n",
       "9                                             Silence 2,016.00000   \n",
       "10                                              Vinyl 2,016.00000   \n",
       "\n",
       "                   release_date  duration   runtime            budget  \\\n",
       "5      8 January 2021 (USA)     203.00000 203.00000               NaN   \n",
       "7    27 November 2019 (USA)     209.00000 209.00000 159,000,000.00000   \n",
       "8        12 June 2019 (USA)     142.00000 142.00000               NaN   \n",
       "9     13 January 2017 (USA)     161.00000 161.00000  46,000,000.00000   \n",
       "10   14 February 2016 (USA)      60.00000  60.00000 100,000,000.00000   \n",
       "\n",
       "    worldwide_gross  worldwide_gross_imdb worldwide_gross_bo  rating  ...  \\\n",
       "5               NaN                   NaN                NaN 8.30000  ...   \n",
       "7     910,234.00000         968,853.00000      910,234.00000 7.90000  ...   \n",
       "8               NaN                   NaN                NaN 7.60000  ...   \n",
       "9  23,726,626.00000      23,834,809.00000   23,726,626.00000 7.20000  ...   \n",
       "10              NaN                   NaN                NaN 7.80000  ...   \n",
       "\n",
       "    A. Scott Berg  Rosamond Bernier  John Burgee  Dina Chandel Eleanor Clark  \\\n",
       "5         0.00000           0.00000      0.00000       0.00000       0.00000   \n",
       "7         0.00000           0.00000      0.00000       0.00000       0.00000   \n",
       "8         0.00000           0.00000      0.00000       0.00000       0.00000   \n",
       "9         0.00000           0.00000      0.00000       0.00000       0.00000   \n",
       "10        0.00000           0.00000      0.00000       0.00000       0.00000   \n",
       "\n",
       "    Bette Davis  Geraldine Fitzgerald  Greer Garson  Joan Givner  Fred Sica  \n",
       "5       0.00000               0.00000       0.00000      0.00000    0.00000  \n",
       "7       0.00000               0.00000       0.00000      0.00000    0.00000  \n",
       "8       0.00000               0.00000       0.00000      0.00000    0.00000  \n",
       "9       0.00000               0.00000       0.00000      0.00000    0.00000  \n",
       "10      0.00000               0.00000       0.00000      0.00000    0.00000  \n",
       "\n",
       "[5 rows x 2803 columns]"
      ]
     },
     "execution_count": 840,
     "metadata": {},
     "output_type": "execute_result"
    }
   ],
   "source": [
    "films_to_analyze.head()"
   ]
  },
  {
   "cell_type": "code",
   "execution_count": 841,
   "metadata": {},
   "outputs": [],
   "source": [
    "prevalent_actors_filename  = 'prevalent_actors_' + director +'.pickle'\n",
    "with open(dir_str + prevalent_actors_filename, 'rb') as read_file:\n",
    "    prevalent_actor_columns = pickle.load(read_file)"
   ]
  },
  {
   "cell_type": "code",
   "execution_count": 842,
   "metadata": {},
   "outputs": [
    {
     "data": {
      "text/plain": [
       "Index(['Robert De Niro', 'Martin Scorsese', 'Leonardo DiCaprio',\n",
       "       'Harvey Keitel', 'Joe Pesci', 'Catherine Scorsese', 'Eric Clapton',\n",
       "       'Harry Northup', 'Victor Argo', 'Michael Stuhlbarg', 'Charles Scorsese',\n",
       "       'Barry Primus', 'Ringo Starr', 'Frank Vincent', 'Bob Dylan',\n",
       "       'Paul Herman', 'Murray Moston', 'Stephen Graham', 'Verna Bloom',\n",
       "       'Alec Baldwin', 'Ray Romano', 'Diahnne Abbott', 'Barbara Hershey',\n",
       "       'Patricia Clarkson'],\n",
       "      dtype='object')"
      ]
     },
     "execution_count": 842,
     "metadata": {},
     "output_type": "execute_result"
    }
   ],
   "source": [
    "prevalent_actor_columns"
   ]
  },
  {
   "cell_type": "code",
   "execution_count": 843,
   "metadata": {},
   "outputs": [],
   "source": [
    "pickled_dict_of_actors_filename = 'dict_of_actors_' + director +'.pickle'\n",
    "with open(dir_str + pickled_dict_of_actors_filename, 'rb') as read_file:\n",
    "    dict_of_all_actors  = pickle.load(read_file) "
   ]
  },
  {
   "cell_type": "code",
   "execution_count": 844,
   "metadata": {},
   "outputs": [],
   "source": [
    "analysis_columns = ['title', 'year', 'duration', 'cinematographer', 'documentary', 'tv_series','rating', 'rating_count', *prevalent_actor_columns]"
   ]
  },
  {
   "cell_type": "code",
   "execution_count": 845,
   "metadata": {},
   "outputs": [
    {
     "data": {
      "text/plain": [
       "['title',\n",
       " 'year',\n",
       " 'duration',\n",
       " 'cinematographer',\n",
       " 'documentary',\n",
       " 'tv_series',\n",
       " 'rating',\n",
       " 'rating_count',\n",
       " 'Robert De Niro',\n",
       " 'Martin Scorsese',\n",
       " 'Leonardo DiCaprio',\n",
       " 'Harvey Keitel',\n",
       " 'Joe Pesci',\n",
       " 'Catherine Scorsese',\n",
       " 'Eric Clapton',\n",
       " 'Harry Northup',\n",
       " 'Victor Argo',\n",
       " 'Michael Stuhlbarg',\n",
       " 'Charles Scorsese',\n",
       " 'Barry Primus',\n",
       " 'Ringo Starr',\n",
       " 'Frank Vincent',\n",
       " 'Bob Dylan',\n",
       " 'Paul Herman',\n",
       " 'Murray Moston',\n",
       " 'Stephen Graham',\n",
       " 'Verna Bloom',\n",
       " 'Alec Baldwin',\n",
       " 'Ray Romano',\n",
       " 'Diahnne Abbott',\n",
       " 'Barbara Hershey',\n",
       " 'Patricia Clarkson']"
      ]
     },
     "execution_count": 845,
     "metadata": {},
     "output_type": "execute_result"
    }
   ],
   "source": [
    "analysis_columns"
   ]
  },
  {
   "cell_type": "markdown",
   "metadata": {},
   "source": [
    "## Dataset partitioned for analysis\n",
    "except one-hot-encoding `cinematographer`"
   ]
  },
  {
   "cell_type": "code",
   "execution_count": 846,
   "metadata": {},
   "outputs": [
    {
     "data": {
      "text/html": [
       "<div>\n",
       "<style scoped>\n",
       "    .dataframe tbody tr th:only-of-type {\n",
       "        vertical-align: middle;\n",
       "    }\n",
       "\n",
       "    .dataframe tbody tr th {\n",
       "        vertical-align: top;\n",
       "    }\n",
       "\n",
       "    .dataframe thead th {\n",
       "        text-align: right;\n",
       "    }\n",
       "</style>\n",
       "<table border=\"1\" class=\"dataframe\">\n",
       "  <thead>\n",
       "    <tr style=\"text-align: right;\">\n",
       "      <th></th>\n",
       "      <th>title</th>\n",
       "      <th>year</th>\n",
       "      <th>release_date</th>\n",
       "      <th>duration</th>\n",
       "      <th>runtime</th>\n",
       "      <th>budget</th>\n",
       "      <th>worldwide_gross</th>\n",
       "      <th>worldwide_gross_imdb</th>\n",
       "      <th>worldwide_gross_bo</th>\n",
       "      <th>rating</th>\n",
       "      <th>...</th>\n",
       "      <th>A. Scott Berg</th>\n",
       "      <th>Rosamond Bernier</th>\n",
       "      <th>John Burgee</th>\n",
       "      <th>Dina Chandel</th>\n",
       "      <th>Eleanor Clark</th>\n",
       "      <th>Bette Davis</th>\n",
       "      <th>Geraldine Fitzgerald</th>\n",
       "      <th>Greer Garson</th>\n",
       "      <th>Joan Givner</th>\n",
       "      <th>Fred Sica</th>\n",
       "    </tr>\n",
       "  </thead>\n",
       "  <tbody>\n",
       "    <tr>\n",
       "      <th>5</th>\n",
       "      <td>Pretend It's a City</td>\n",
       "      <td>2,021.00000</td>\n",
       "      <td>8 January 2021 (USA)</td>\n",
       "      <td>203.00000</td>\n",
       "      <td>203.00000</td>\n",
       "      <td>NaN</td>\n",
       "      <td>NaN</td>\n",
       "      <td>NaN</td>\n",
       "      <td>NaN</td>\n",
       "      <td>8.30000</td>\n",
       "      <td>...</td>\n",
       "      <td>0.00000</td>\n",
       "      <td>0.00000</td>\n",
       "      <td>0.00000</td>\n",
       "      <td>0.00000</td>\n",
       "      <td>0.00000</td>\n",
       "      <td>0.00000</td>\n",
       "      <td>0.00000</td>\n",
       "      <td>0.00000</td>\n",
       "      <td>0.00000</td>\n",
       "      <td>0.00000</td>\n",
       "    </tr>\n",
       "    <tr>\n",
       "      <th>7</th>\n",
       "      <td>The Irishman</td>\n",
       "      <td>2,019.00000</td>\n",
       "      <td>27 November 2019 (USA)</td>\n",
       "      <td>209.00000</td>\n",
       "      <td>209.00000</td>\n",
       "      <td>159,000,000.00000</td>\n",
       "      <td>910,234.00000</td>\n",
       "      <td>968,853.00000</td>\n",
       "      <td>910,234.00000</td>\n",
       "      <td>7.90000</td>\n",
       "      <td>...</td>\n",
       "      <td>0.00000</td>\n",
       "      <td>0.00000</td>\n",
       "      <td>0.00000</td>\n",
       "      <td>0.00000</td>\n",
       "      <td>0.00000</td>\n",
       "      <td>0.00000</td>\n",
       "      <td>0.00000</td>\n",
       "      <td>0.00000</td>\n",
       "      <td>0.00000</td>\n",
       "      <td>0.00000</td>\n",
       "    </tr>\n",
       "    <tr>\n",
       "      <th>8</th>\n",
       "      <td>Rolling Thunder Revue: A Bob Dylan Story by Ma...</td>\n",
       "      <td>2,019.00000</td>\n",
       "      <td>12 June 2019 (USA)</td>\n",
       "      <td>142.00000</td>\n",
       "      <td>142.00000</td>\n",
       "      <td>NaN</td>\n",
       "      <td>NaN</td>\n",
       "      <td>NaN</td>\n",
       "      <td>NaN</td>\n",
       "      <td>7.60000</td>\n",
       "      <td>...</td>\n",
       "      <td>0.00000</td>\n",
       "      <td>0.00000</td>\n",
       "      <td>0.00000</td>\n",
       "      <td>0.00000</td>\n",
       "      <td>0.00000</td>\n",
       "      <td>0.00000</td>\n",
       "      <td>0.00000</td>\n",
       "      <td>0.00000</td>\n",
       "      <td>0.00000</td>\n",
       "      <td>0.00000</td>\n",
       "    </tr>\n",
       "    <tr>\n",
       "      <th>9</th>\n",
       "      <td>Silence</td>\n",
       "      <td>2,016.00000</td>\n",
       "      <td>13 January 2017 (USA)</td>\n",
       "      <td>161.00000</td>\n",
       "      <td>161.00000</td>\n",
       "      <td>46,000,000.00000</td>\n",
       "      <td>23,726,626.00000</td>\n",
       "      <td>23,834,809.00000</td>\n",
       "      <td>23,726,626.00000</td>\n",
       "      <td>7.20000</td>\n",
       "      <td>...</td>\n",
       "      <td>0.00000</td>\n",
       "      <td>0.00000</td>\n",
       "      <td>0.00000</td>\n",
       "      <td>0.00000</td>\n",
       "      <td>0.00000</td>\n",
       "      <td>0.00000</td>\n",
       "      <td>0.00000</td>\n",
       "      <td>0.00000</td>\n",
       "      <td>0.00000</td>\n",
       "      <td>0.00000</td>\n",
       "    </tr>\n",
       "    <tr>\n",
       "      <th>10</th>\n",
       "      <td>Vinyl</td>\n",
       "      <td>2,016.00000</td>\n",
       "      <td>14 February 2016 (USA)</td>\n",
       "      <td>60.00000</td>\n",
       "      <td>60.00000</td>\n",
       "      <td>100,000,000.00000</td>\n",
       "      <td>NaN</td>\n",
       "      <td>NaN</td>\n",
       "      <td>NaN</td>\n",
       "      <td>7.80000</td>\n",
       "      <td>...</td>\n",
       "      <td>0.00000</td>\n",
       "      <td>0.00000</td>\n",
       "      <td>0.00000</td>\n",
       "      <td>0.00000</td>\n",
       "      <td>0.00000</td>\n",
       "      <td>0.00000</td>\n",
       "      <td>0.00000</td>\n",
       "      <td>0.00000</td>\n",
       "      <td>0.00000</td>\n",
       "      <td>0.00000</td>\n",
       "    </tr>\n",
       "  </tbody>\n",
       "</table>\n",
       "<p>5 rows × 2803 columns</p>\n",
       "</div>"
      ],
      "text/plain": [
       "                                                title        year  \\\n",
       "5                                 Pretend It's a City 2,021.00000   \n",
       "7                                        The Irishman 2,019.00000   \n",
       "8   Rolling Thunder Revue: A Bob Dylan Story by Ma... 2,019.00000   \n",
       "9                                             Silence 2,016.00000   \n",
       "10                                              Vinyl 2,016.00000   \n",
       "\n",
       "                   release_date  duration   runtime            budget  \\\n",
       "5      8 January 2021 (USA)     203.00000 203.00000               NaN   \n",
       "7    27 November 2019 (USA)     209.00000 209.00000 159,000,000.00000   \n",
       "8        12 June 2019 (USA)     142.00000 142.00000               NaN   \n",
       "9     13 January 2017 (USA)     161.00000 161.00000  46,000,000.00000   \n",
       "10   14 February 2016 (USA)      60.00000  60.00000 100,000,000.00000   \n",
       "\n",
       "    worldwide_gross  worldwide_gross_imdb worldwide_gross_bo  rating  ...  \\\n",
       "5               NaN                   NaN                NaN 8.30000  ...   \n",
       "7     910,234.00000         968,853.00000      910,234.00000 7.90000  ...   \n",
       "8               NaN                   NaN                NaN 7.60000  ...   \n",
       "9  23,726,626.00000      23,834,809.00000   23,726,626.00000 7.20000  ...   \n",
       "10              NaN                   NaN                NaN 7.80000  ...   \n",
       "\n",
       "    A. Scott Berg  Rosamond Bernier  John Burgee  Dina Chandel Eleanor Clark  \\\n",
       "5         0.00000           0.00000      0.00000       0.00000       0.00000   \n",
       "7         0.00000           0.00000      0.00000       0.00000       0.00000   \n",
       "8         0.00000           0.00000      0.00000       0.00000       0.00000   \n",
       "9         0.00000           0.00000      0.00000       0.00000       0.00000   \n",
       "10        0.00000           0.00000      0.00000       0.00000       0.00000   \n",
       "\n",
       "    Bette Davis  Geraldine Fitzgerald  Greer Garson  Joan Givner  Fred Sica  \n",
       "5       0.00000               0.00000       0.00000      0.00000    0.00000  \n",
       "7       0.00000               0.00000       0.00000      0.00000    0.00000  \n",
       "8       0.00000               0.00000       0.00000      0.00000    0.00000  \n",
       "9       0.00000               0.00000       0.00000      0.00000    0.00000  \n",
       "10      0.00000               0.00000       0.00000      0.00000    0.00000  \n",
       "\n",
       "[5 rows x 2803 columns]"
      ]
     },
     "execution_count": 846,
     "metadata": {},
     "output_type": "execute_result"
    }
   ],
   "source": [
    "films_to_analyze.head()"
   ]
  },
  {
   "cell_type": "code",
   "execution_count": null,
   "metadata": {},
   "outputs": [],
   "source": []
  },
  {
   "cell_type": "code",
   "execution_count": 847,
   "metadata": {},
   "outputs": [],
   "source": [
    "films_and_features_to_analyze_df = films_to_analyze[analysis_columns]"
   ]
  },
  {
   "cell_type": "code",
   "execution_count": 848,
   "metadata": {},
   "outputs": [
    {
     "data": {
      "text/html": [
       "<div>\n",
       "<style scoped>\n",
       "    .dataframe tbody tr th:only-of-type {\n",
       "        vertical-align: middle;\n",
       "    }\n",
       "\n",
       "    .dataframe tbody tr th {\n",
       "        vertical-align: top;\n",
       "    }\n",
       "\n",
       "    .dataframe thead th {\n",
       "        text-align: right;\n",
       "    }\n",
       "</style>\n",
       "<table border=\"1\" class=\"dataframe\">\n",
       "  <thead>\n",
       "    <tr style=\"text-align: right;\">\n",
       "      <th></th>\n",
       "      <th>title</th>\n",
       "      <th>year</th>\n",
       "      <th>duration</th>\n",
       "      <th>cinematographer</th>\n",
       "      <th>documentary</th>\n",
       "      <th>tv_series</th>\n",
       "      <th>rating</th>\n",
       "      <th>rating_count</th>\n",
       "      <th>Robert De Niro</th>\n",
       "      <th>Martin Scorsese</th>\n",
       "      <th>...</th>\n",
       "      <th>Bob Dylan</th>\n",
       "      <th>Paul Herman</th>\n",
       "      <th>Murray Moston</th>\n",
       "      <th>Stephen Graham</th>\n",
       "      <th>Verna Bloom</th>\n",
       "      <th>Alec Baldwin</th>\n",
       "      <th>Ray Romano</th>\n",
       "      <th>Diahnne Abbott</th>\n",
       "      <th>Barbara Hershey</th>\n",
       "      <th>Patricia Clarkson</th>\n",
       "    </tr>\n",
       "  </thead>\n",
       "  <tbody>\n",
       "    <tr>\n",
       "      <th>5</th>\n",
       "      <td>Pretend It's a City</td>\n",
       "      <td>2,021.00000</td>\n",
       "      <td>203.00000</td>\n",
       "      <td>Ellen Kuras</td>\n",
       "      <td>1.00000</td>\n",
       "      <td>1.00000</td>\n",
       "      <td>8.30000</td>\n",
       "      <td>1,913.00000</td>\n",
       "      <td>0.00000</td>\n",
       "      <td>1.00000</td>\n",
       "      <td>...</td>\n",
       "      <td>0.00000</td>\n",
       "      <td>0.00000</td>\n",
       "      <td>0.00000</td>\n",
       "      <td>0.00000</td>\n",
       "      <td>0.00000</td>\n",
       "      <td>0.00000</td>\n",
       "      <td>0.00000</td>\n",
       "      <td>0.00000</td>\n",
       "      <td>0.00000</td>\n",
       "      <td>0.00000</td>\n",
       "    </tr>\n",
       "    <tr>\n",
       "      <th>7</th>\n",
       "      <td>The Irishman</td>\n",
       "      <td>2,019.00000</td>\n",
       "      <td>209.00000</td>\n",
       "      <td>Rodrigo Prieto</td>\n",
       "      <td>0.00000</td>\n",
       "      <td>0.00000</td>\n",
       "      <td>7.90000</td>\n",
       "      <td>322,963.00000</td>\n",
       "      <td>1.00000</td>\n",
       "      <td>0.00000</td>\n",
       "      <td>...</td>\n",
       "      <td>0.00000</td>\n",
       "      <td>1.00000</td>\n",
       "      <td>0.00000</td>\n",
       "      <td>1.00000</td>\n",
       "      <td>0.00000</td>\n",
       "      <td>0.00000</td>\n",
       "      <td>1.00000</td>\n",
       "      <td>0.00000</td>\n",
       "      <td>0.00000</td>\n",
       "      <td>0.00000</td>\n",
       "    </tr>\n",
       "    <tr>\n",
       "      <th>8</th>\n",
       "      <td>Rolling Thunder Revue: A Bob Dylan Story by Ma...</td>\n",
       "      <td>2,019.00000</td>\n",
       "      <td>142.00000</td>\n",
       "      <td>Howard Alk</td>\n",
       "      <td>1.00000</td>\n",
       "      <td>0.00000</td>\n",
       "      <td>7.60000</td>\n",
       "      <td>5,300.00000</td>\n",
       "      <td>0.00000</td>\n",
       "      <td>0.00000</td>\n",
       "      <td>...</td>\n",
       "      <td>1.00000</td>\n",
       "      <td>0.00000</td>\n",
       "      <td>0.00000</td>\n",
       "      <td>0.00000</td>\n",
       "      <td>0.00000</td>\n",
       "      <td>0.00000</td>\n",
       "      <td>0.00000</td>\n",
       "      <td>0.00000</td>\n",
       "      <td>0.00000</td>\n",
       "      <td>0.00000</td>\n",
       "    </tr>\n",
       "    <tr>\n",
       "      <th>9</th>\n",
       "      <td>Silence</td>\n",
       "      <td>2,016.00000</td>\n",
       "      <td>161.00000</td>\n",
       "      <td>Rodrigo Prieto</td>\n",
       "      <td>0.00000</td>\n",
       "      <td>0.00000</td>\n",
       "      <td>7.20000</td>\n",
       "      <td>100,119.00000</td>\n",
       "      <td>0.00000</td>\n",
       "      <td>0.00000</td>\n",
       "      <td>...</td>\n",
       "      <td>0.00000</td>\n",
       "      <td>0.00000</td>\n",
       "      <td>0.00000</td>\n",
       "      <td>0.00000</td>\n",
       "      <td>0.00000</td>\n",
       "      <td>0.00000</td>\n",
       "      <td>0.00000</td>\n",
       "      <td>0.00000</td>\n",
       "      <td>0.00000</td>\n",
       "      <td>0.00000</td>\n",
       "    </tr>\n",
       "    <tr>\n",
       "      <th>10</th>\n",
       "      <td>Vinyl</td>\n",
       "      <td>2,016.00000</td>\n",
       "      <td>60.00000</td>\n",
       "      <td>Reed Morano</td>\n",
       "      <td>0.00000</td>\n",
       "      <td>1.00000</td>\n",
       "      <td>7.80000</td>\n",
       "      <td>21,636.00000</td>\n",
       "      <td>0.00000</td>\n",
       "      <td>0.00000</td>\n",
       "      <td>...</td>\n",
       "      <td>0.00000</td>\n",
       "      <td>0.00000</td>\n",
       "      <td>0.00000</td>\n",
       "      <td>0.00000</td>\n",
       "      <td>0.00000</td>\n",
       "      <td>0.00000</td>\n",
       "      <td>1.00000</td>\n",
       "      <td>0.00000</td>\n",
       "      <td>0.00000</td>\n",
       "      <td>0.00000</td>\n",
       "    </tr>\n",
       "  </tbody>\n",
       "</table>\n",
       "<p>5 rows × 32 columns</p>\n",
       "</div>"
      ],
      "text/plain": [
       "                                                title        year  duration  \\\n",
       "5                                 Pretend It's a City 2,021.00000 203.00000   \n",
       "7                                        The Irishman 2,019.00000 209.00000   \n",
       "8   Rolling Thunder Revue: A Bob Dylan Story by Ma... 2,019.00000 142.00000   \n",
       "9                                             Silence 2,016.00000 161.00000   \n",
       "10                                              Vinyl 2,016.00000  60.00000   \n",
       "\n",
       "   cinematographer  documentary  tv_series  rating  rating_count  \\\n",
       "5      Ellen Kuras      1.00000    1.00000 8.30000   1,913.00000   \n",
       "7   Rodrigo Prieto      0.00000    0.00000 7.90000 322,963.00000   \n",
       "8       Howard Alk      1.00000    0.00000 7.60000   5,300.00000   \n",
       "9   Rodrigo Prieto      0.00000    0.00000 7.20000 100,119.00000   \n",
       "10     Reed Morano      0.00000    1.00000 7.80000  21,636.00000   \n",
       "\n",
       "    Robert De Niro  Martin Scorsese  ...  Bob Dylan  Paul Herman  \\\n",
       "5          0.00000          1.00000  ...    0.00000      0.00000   \n",
       "7          1.00000          0.00000  ...    0.00000      1.00000   \n",
       "8          0.00000          0.00000  ...    1.00000      0.00000   \n",
       "9          0.00000          0.00000  ...    0.00000      0.00000   \n",
       "10         0.00000          0.00000  ...    0.00000      0.00000   \n",
       "\n",
       "    Murray Moston  Stephen Graham  Verna Bloom  Alec Baldwin  Ray Romano  \\\n",
       "5         0.00000         0.00000      0.00000       0.00000     0.00000   \n",
       "7         0.00000         1.00000      0.00000       0.00000     1.00000   \n",
       "8         0.00000         0.00000      0.00000       0.00000     0.00000   \n",
       "9         0.00000         0.00000      0.00000       0.00000     0.00000   \n",
       "10        0.00000         0.00000      0.00000       0.00000     1.00000   \n",
       "\n",
       "    Diahnne Abbott  Barbara Hershey  Patricia Clarkson  \n",
       "5          0.00000          0.00000            0.00000  \n",
       "7          0.00000          0.00000            0.00000  \n",
       "8          0.00000          0.00000            0.00000  \n",
       "9          0.00000          0.00000            0.00000  \n",
       "10         0.00000          0.00000            0.00000  \n",
       "\n",
       "[5 rows x 32 columns]"
      ]
     },
     "execution_count": 848,
     "metadata": {},
     "output_type": "execute_result"
    }
   ],
   "source": [
    "films_and_features_to_analyze_df.head() "
   ]
  },
  {
   "cell_type": "code",
   "execution_count": 849,
   "metadata": {},
   "outputs": [
    {
     "data": {
      "text/plain": [
       "1"
      ]
     },
     "execution_count": 849,
     "metadata": {},
     "output_type": "execute_result"
    }
   ],
   "source": [
    "cinematographer_include_threshold = films_and_features_to_analyze_df['cinematographer'].value_counts().min()\n",
    "cinematographer_include_threshold"
   ]
  },
  {
   "cell_type": "code",
   "execution_count": 850,
   "metadata": {},
   "outputs": [
    {
     "name": "stderr",
     "output_type": "stream",
     "text": [
      "/opt/anaconda3/envs/metis/lib/python3.8/site-packages/pandas/core/series.py:4479: SettingWithCopyWarning: \n",
      "A value is trying to be set on a copy of a slice from a DataFrame\n",
      "\n",
      "See the caveats in the documentation: https://pandas.pydata.org/pandas-docs/stable/user_guide/indexing.html#returning-a-view-versus-a-copy\n",
      "  return super().replace(\n"
     ]
    }
   ],
   "source": [
    "value_counts = films_and_features_to_analyze_df['cinematographer'].value_counts() # Specific column \n",
    "to_remove = value_counts[value_counts <= cinematographer_include_threshold].index\n",
    "films_and_features_to_analyze_df['cinematographer'].replace(to_remove, 'OTHER', inplace=True)"
   ]
  },
  {
   "cell_type": "code",
   "execution_count": null,
   "metadata": {},
   "outputs": [],
   "source": []
  },
  {
   "cell_type": "markdown",
   "metadata": {},
   "source": [
    "### Regression analysis on `rating`,  `duration`, and `year` etc"
   ]
  },
  {
   "cell_type": "markdown",
   "metadata": {},
   "source": [
    "#### `rating` as target"
   ]
  },
  {
   "cell_type": "markdown",
   "metadata": {},
   "source": [
    "### Selecting columns for Train Test Split"
   ]
  },
  {
   "cell_type": "code",
   "execution_count": 851,
   "metadata": {
    "scrolled": true
   },
   "outputs": [
    {
     "data": {
      "text/plain": [
       "Index(['title', 'year', 'duration', 'cinematographer', 'documentary',\n",
       "       'tv_series', 'rating', 'rating_count', 'Robert De Niro',\n",
       "       'Martin Scorsese', 'Leonardo DiCaprio', 'Harvey Keitel', 'Joe Pesci',\n",
       "       'Catherine Scorsese', 'Eric Clapton', 'Harry Northup', 'Victor Argo',\n",
       "       'Michael Stuhlbarg', 'Charles Scorsese', 'Barry Primus', 'Ringo Starr',\n",
       "       'Frank Vincent', 'Bob Dylan', 'Paul Herman', 'Murray Moston',\n",
       "       'Stephen Graham', 'Verna Bloom', 'Alec Baldwin', 'Ray Romano',\n",
       "       'Diahnne Abbott', 'Barbara Hershey', 'Patricia Clarkson'],\n",
       "      dtype='object')"
      ]
     },
     "execution_count": 851,
     "metadata": {},
     "output_type": "execute_result"
    }
   ],
   "source": [
    "films_and_features_to_analyze_df.columns # review columns we start with"
   ]
  },
  {
   "cell_type": "code",
   "execution_count": null,
   "metadata": {},
   "outputs": [],
   "source": []
  },
  {
   "cell_type": "code",
   "execution_count": 852,
   "metadata": {},
   "outputs": [],
   "source": [
    "selected_cols = [*films_and_features_to_analyze_df.columns[1:6], *films_and_features_to_analyze_df.columns[7:]]"
   ]
  },
  {
   "cell_type": "code",
   "execution_count": 853,
   "metadata": {},
   "outputs": [
    {
     "data": {
      "text/plain": [
       "['year',\n",
       " 'duration',\n",
       " 'cinematographer',\n",
       " 'documentary',\n",
       " 'tv_series',\n",
       " 'rating_count',\n",
       " 'Robert De Niro',\n",
       " 'Martin Scorsese',\n",
       " 'Leonardo DiCaprio',\n",
       " 'Harvey Keitel',\n",
       " 'Joe Pesci',\n",
       " 'Catherine Scorsese',\n",
       " 'Eric Clapton',\n",
       " 'Harry Northup',\n",
       " 'Victor Argo',\n",
       " 'Michael Stuhlbarg',\n",
       " 'Charles Scorsese',\n",
       " 'Barry Primus',\n",
       " 'Ringo Starr',\n",
       " 'Frank Vincent',\n",
       " 'Bob Dylan',\n",
       " 'Paul Herman',\n",
       " 'Murray Moston',\n",
       " 'Stephen Graham',\n",
       " 'Verna Bloom',\n",
       " 'Alec Baldwin',\n",
       " 'Ray Romano',\n",
       " 'Diahnne Abbott',\n",
       " 'Barbara Hershey',\n",
       " 'Patricia Clarkson']"
      ]
     },
     "execution_count": 853,
     "metadata": {},
     "output_type": "execute_result"
    }
   ],
   "source": [
    "selected_cols"
   ]
  },
  {
   "cell_type": "code",
   "execution_count": 854,
   "metadata": {},
   "outputs": [],
   "source": [
    "X= films_and_features_to_analyze_df[selected_cols]\n",
    "y= films_and_features_to_analyze_df['rating']"
   ]
  },
  {
   "cell_type": "code",
   "execution_count": 855,
   "metadata": {},
   "outputs": [
    {
     "data": {
      "text/plain": [
       "False"
      ]
     },
     "execution_count": 855,
     "metadata": {},
     "output_type": "execute_result"
    }
   ],
   "source": [
    "y.isnull().values.any()"
   ]
  },
  {
   "cell_type": "markdown",
   "metadata": {},
   "source": [
    "### Train-val vs. test split"
   ]
  },
  {
   "cell_type": "code",
   "execution_count": 856,
   "metadata": {},
   "outputs": [],
   "source": [
    "X_train_val, X_test, y_train_val, y_test = train_test_split(X, y, test_size=0.2,random_state=42)"
   ]
  },
  {
   "cell_type": "code",
   "execution_count": 857,
   "metadata": {},
   "outputs": [
    {
     "data": {
      "text/html": [
       "<div>\n",
       "<style scoped>\n",
       "    .dataframe tbody tr th:only-of-type {\n",
       "        vertical-align: middle;\n",
       "    }\n",
       "\n",
       "    .dataframe tbody tr th {\n",
       "        vertical-align: top;\n",
       "    }\n",
       "\n",
       "    .dataframe thead th {\n",
       "        text-align: right;\n",
       "    }\n",
       "</style>\n",
       "<table border=\"1\" class=\"dataframe\">\n",
       "  <thead>\n",
       "    <tr style=\"text-align: right;\">\n",
       "      <th></th>\n",
       "      <th>year</th>\n",
       "      <th>duration</th>\n",
       "      <th>cinematographer</th>\n",
       "      <th>documentary</th>\n",
       "      <th>tv_series</th>\n",
       "      <th>rating_count</th>\n",
       "      <th>Robert De Niro</th>\n",
       "      <th>Martin Scorsese</th>\n",
       "      <th>Leonardo DiCaprio</th>\n",
       "      <th>Harvey Keitel</th>\n",
       "      <th>...</th>\n",
       "      <th>Bob Dylan</th>\n",
       "      <th>Paul Herman</th>\n",
       "      <th>Murray Moston</th>\n",
       "      <th>Stephen Graham</th>\n",
       "      <th>Verna Bloom</th>\n",
       "      <th>Alec Baldwin</th>\n",
       "      <th>Ray Romano</th>\n",
       "      <th>Diahnne Abbott</th>\n",
       "      <th>Barbara Hershey</th>\n",
       "      <th>Patricia Clarkson</th>\n",
       "    </tr>\n",
       "  </thead>\n",
       "  <tbody>\n",
       "    <tr>\n",
       "      <th>57</th>\n",
       "      <td>1,974.00000</td>\n",
       "      <td>112.00000</td>\n",
       "      <td>Kent L. Wakeford</td>\n",
       "      <td>0.00000</td>\n",
       "      <td>0.00000</td>\n",
       "      <td>21,361.00000</td>\n",
       "      <td>0.00000</td>\n",
       "      <td>0.00000</td>\n",
       "      <td>0.00000</td>\n",
       "      <td>1.00000</td>\n",
       "      <td>...</td>\n",
       "      <td>0.00000</td>\n",
       "      <td>0.00000</td>\n",
       "      <td>1.00000</td>\n",
       "      <td>0.00000</td>\n",
       "      <td>0.00000</td>\n",
       "      <td>0.00000</td>\n",
       "      <td>0.00000</td>\n",
       "      <td>0.00000</td>\n",
       "      <td>0.00000</td>\n",
       "      <td>0.00000</td>\n",
       "    </tr>\n",
       "    <tr>\n",
       "      <th>38</th>\n",
       "      <td>1,995.00000</td>\n",
       "      <td>178.00000</td>\n",
       "      <td>Robert Richardson</td>\n",
       "      <td>0.00000</td>\n",
       "      <td>0.00000</td>\n",
       "      <td>465,192.00000</td>\n",
       "      <td>1.00000</td>\n",
       "      <td>0.00000</td>\n",
       "      <td>0.00000</td>\n",
       "      <td>0.00000</td>\n",
       "      <td>...</td>\n",
       "      <td>0.00000</td>\n",
       "      <td>0.00000</td>\n",
       "      <td>0.00000</td>\n",
       "      <td>0.00000</td>\n",
       "      <td>0.00000</td>\n",
       "      <td>0.00000</td>\n",
       "      <td>0.00000</td>\n",
       "      <td>0.00000</td>\n",
       "      <td>0.00000</td>\n",
       "      <td>0.00000</td>\n",
       "    </tr>\n",
       "    <tr>\n",
       "      <th>39</th>\n",
       "      <td>1,993.00000</td>\n",
       "      <td>139.00000</td>\n",
       "      <td>Michael Ballhaus</td>\n",
       "      <td>0.00000</td>\n",
       "      <td>0.00000</td>\n",
       "      <td>52,892.00000</td>\n",
       "      <td>0.00000</td>\n",
       "      <td>0.00000</td>\n",
       "      <td>0.00000</td>\n",
       "      <td>0.00000</td>\n",
       "      <td>...</td>\n",
       "      <td>0.00000</td>\n",
       "      <td>0.00000</td>\n",
       "      <td>0.00000</td>\n",
       "      <td>0.00000</td>\n",
       "      <td>0.00000</td>\n",
       "      <td>0.00000</td>\n",
       "      <td>0.00000</td>\n",
       "      <td>0.00000</td>\n",
       "      <td>0.00000</td>\n",
       "      <td>0.00000</td>\n",
       "    </tr>\n",
       "    <tr>\n",
       "      <th>62</th>\n",
       "      <td>1,970.00000</td>\n",
       "      <td>107.00000</td>\n",
       "      <td>OTHER</td>\n",
       "      <td>0.00000</td>\n",
       "      <td>0.00000</td>\n",
       "      <td>4,431.00000</td>\n",
       "      <td>0.00000</td>\n",
       "      <td>0.00000</td>\n",
       "      <td>0.00000</td>\n",
       "      <td>0.00000</td>\n",
       "      <td>...</td>\n",
       "      <td>0.00000</td>\n",
       "      <td>0.00000</td>\n",
       "      <td>0.00000</td>\n",
       "      <td>0.00000</td>\n",
       "      <td>0.00000</td>\n",
       "      <td>0.00000</td>\n",
       "      <td>0.00000</td>\n",
       "      <td>0.00000</td>\n",
       "      <td>0.00000</td>\n",
       "      <td>0.00000</td>\n",
       "    </tr>\n",
       "    <tr>\n",
       "      <th>53</th>\n",
       "      <td>1,978.00000</td>\n",
       "      <td>55.00000</td>\n",
       "      <td>Michael Chapman</td>\n",
       "      <td>1.00000</td>\n",
       "      <td>0.00000</td>\n",
       "      <td>1,190.00000</td>\n",
       "      <td>0.00000</td>\n",
       "      <td>0.00000</td>\n",
       "      <td>0.00000</td>\n",
       "      <td>0.00000</td>\n",
       "      <td>...</td>\n",
       "      <td>0.00000</td>\n",
       "      <td>0.00000</td>\n",
       "      <td>0.00000</td>\n",
       "      <td>0.00000</td>\n",
       "      <td>0.00000</td>\n",
       "      <td>0.00000</td>\n",
       "      <td>0.00000</td>\n",
       "      <td>0.00000</td>\n",
       "      <td>0.00000</td>\n",
       "      <td>0.00000</td>\n",
       "    </tr>\n",
       "    <tr>\n",
       "      <th>59</th>\n",
       "      <td>1,973.00000</td>\n",
       "      <td>112.00000</td>\n",
       "      <td>Kent L. Wakeford</td>\n",
       "      <td>0.00000</td>\n",
       "      <td>0.00000</td>\n",
       "      <td>99,994.00000</td>\n",
       "      <td>1.00000</td>\n",
       "      <td>0.00000</td>\n",
       "      <td>0.00000</td>\n",
       "      <td>1.00000</td>\n",
       "      <td>...</td>\n",
       "      <td>0.00000</td>\n",
       "      <td>0.00000</td>\n",
       "      <td>1.00000</td>\n",
       "      <td>0.00000</td>\n",
       "      <td>0.00000</td>\n",
       "      <td>0.00000</td>\n",
       "      <td>0.00000</td>\n",
       "      <td>0.00000</td>\n",
       "      <td>0.00000</td>\n",
       "      <td>0.00000</td>\n",
       "    </tr>\n",
       "    <tr>\n",
       "      <th>10</th>\n",
       "      <td>2,016.00000</td>\n",
       "      <td>60.00000</td>\n",
       "      <td>OTHER</td>\n",
       "      <td>0.00000</td>\n",
       "      <td>1.00000</td>\n",
       "      <td>21,636.00000</td>\n",
       "      <td>0.00000</td>\n",
       "      <td>0.00000</td>\n",
       "      <td>0.00000</td>\n",
       "      <td>0.00000</td>\n",
       "      <td>...</td>\n",
       "      <td>0.00000</td>\n",
       "      <td>0.00000</td>\n",
       "      <td>0.00000</td>\n",
       "      <td>0.00000</td>\n",
       "      <td>0.00000</td>\n",
       "      <td>0.00000</td>\n",
       "      <td>1.00000</td>\n",
       "      <td>0.00000</td>\n",
       "      <td>0.00000</td>\n",
       "      <td>0.00000</td>\n",
       "    </tr>\n",
       "    <tr>\n",
       "      <th>21</th>\n",
       "      <td>2,010.00000</td>\n",
       "      <td>138.00000</td>\n",
       "      <td>Robert Richardson</td>\n",
       "      <td>0.00000</td>\n",
       "      <td>0.00000</td>\n",
       "      <td>1,126,811.00000</td>\n",
       "      <td>0.00000</td>\n",
       "      <td>0.00000</td>\n",
       "      <td>1.00000</td>\n",
       "      <td>0.00000</td>\n",
       "      <td>...</td>\n",
       "      <td>0.00000</td>\n",
       "      <td>0.00000</td>\n",
       "      <td>0.00000</td>\n",
       "      <td>0.00000</td>\n",
       "      <td>0.00000</td>\n",
       "      <td>0.00000</td>\n",
       "      <td>0.00000</td>\n",
       "      <td>0.00000</td>\n",
       "      <td>0.00000</td>\n",
       "      <td>1.00000</td>\n",
       "    </tr>\n",
       "    <tr>\n",
       "      <th>15</th>\n",
       "      <td>2,011.00000</td>\n",
       "      <td>126.00000</td>\n",
       "      <td>Robert Richardson</td>\n",
       "      <td>0.00000</td>\n",
       "      <td>0.00000</td>\n",
       "      <td>304,665.00000</td>\n",
       "      <td>0.00000</td>\n",
       "      <td>0.00000</td>\n",
       "      <td>0.00000</td>\n",
       "      <td>0.00000</td>\n",
       "      <td>...</td>\n",
       "      <td>0.00000</td>\n",
       "      <td>0.00000</td>\n",
       "      <td>0.00000</td>\n",
       "      <td>0.00000</td>\n",
       "      <td>0.00000</td>\n",
       "      <td>0.00000</td>\n",
       "      <td>0.00000</td>\n",
       "      <td>0.00000</td>\n",
       "      <td>0.00000</td>\n",
       "      <td>0.00000</td>\n",
       "    </tr>\n",
       "    <tr>\n",
       "      <th>9</th>\n",
       "      <td>2,016.00000</td>\n",
       "      <td>161.00000</td>\n",
       "      <td>Rodrigo Prieto</td>\n",
       "      <td>0.00000</td>\n",
       "      <td>0.00000</td>\n",
       "      <td>100,119.00000</td>\n",
       "      <td>0.00000</td>\n",
       "      <td>0.00000</td>\n",
       "      <td>0.00000</td>\n",
       "      <td>0.00000</td>\n",
       "      <td>...</td>\n",
       "      <td>0.00000</td>\n",
       "      <td>0.00000</td>\n",
       "      <td>0.00000</td>\n",
       "      <td>0.00000</td>\n",
       "      <td>0.00000</td>\n",
       "      <td>0.00000</td>\n",
       "      <td>0.00000</td>\n",
       "      <td>0.00000</td>\n",
       "      <td>0.00000</td>\n",
       "      <td>0.00000</td>\n",
       "    </tr>\n",
       "  </tbody>\n",
       "</table>\n",
       "<p>10 rows × 30 columns</p>\n",
       "</div>"
      ],
      "text/plain": [
       "          year  duration    cinematographer  documentary  tv_series  \\\n",
       "57 1,974.00000 112.00000   Kent L. Wakeford      0.00000    0.00000   \n",
       "38 1,995.00000 178.00000  Robert Richardson      0.00000    0.00000   \n",
       "39 1,993.00000 139.00000   Michael Ballhaus      0.00000    0.00000   \n",
       "62 1,970.00000 107.00000              OTHER      0.00000    0.00000   \n",
       "53 1,978.00000  55.00000    Michael Chapman      1.00000    0.00000   \n",
       "59 1,973.00000 112.00000   Kent L. Wakeford      0.00000    0.00000   \n",
       "10 2,016.00000  60.00000              OTHER      0.00000    1.00000   \n",
       "21 2,010.00000 138.00000  Robert Richardson      0.00000    0.00000   \n",
       "15 2,011.00000 126.00000  Robert Richardson      0.00000    0.00000   \n",
       "9  2,016.00000 161.00000     Rodrigo Prieto      0.00000    0.00000   \n",
       "\n",
       "      rating_count  Robert De Niro  Martin Scorsese  Leonardo DiCaprio  \\\n",
       "57    21,361.00000         0.00000          0.00000            0.00000   \n",
       "38   465,192.00000         1.00000          0.00000            0.00000   \n",
       "39    52,892.00000         0.00000          0.00000            0.00000   \n",
       "62     4,431.00000         0.00000          0.00000            0.00000   \n",
       "53     1,190.00000         0.00000          0.00000            0.00000   \n",
       "59    99,994.00000         1.00000          0.00000            0.00000   \n",
       "10    21,636.00000         0.00000          0.00000            0.00000   \n",
       "21 1,126,811.00000         0.00000          0.00000            1.00000   \n",
       "15   304,665.00000         0.00000          0.00000            0.00000   \n",
       "9    100,119.00000         0.00000          0.00000            0.00000   \n",
       "\n",
       "    Harvey Keitel  ...  Bob Dylan  Paul Herman  Murray Moston  Stephen Graham  \\\n",
       "57        1.00000  ...    0.00000      0.00000        1.00000         0.00000   \n",
       "38        0.00000  ...    0.00000      0.00000        0.00000         0.00000   \n",
       "39        0.00000  ...    0.00000      0.00000        0.00000         0.00000   \n",
       "62        0.00000  ...    0.00000      0.00000        0.00000         0.00000   \n",
       "53        0.00000  ...    0.00000      0.00000        0.00000         0.00000   \n",
       "59        1.00000  ...    0.00000      0.00000        1.00000         0.00000   \n",
       "10        0.00000  ...    0.00000      0.00000        0.00000         0.00000   \n",
       "21        0.00000  ...    0.00000      0.00000        0.00000         0.00000   \n",
       "15        0.00000  ...    0.00000      0.00000        0.00000         0.00000   \n",
       "9         0.00000  ...    0.00000      0.00000        0.00000         0.00000   \n",
       "\n",
       "    Verna Bloom  Alec Baldwin  Ray Romano  Diahnne Abbott  Barbara Hershey  \\\n",
       "57      0.00000       0.00000     0.00000         0.00000          0.00000   \n",
       "38      0.00000       0.00000     0.00000         0.00000          0.00000   \n",
       "39      0.00000       0.00000     0.00000         0.00000          0.00000   \n",
       "62      0.00000       0.00000     0.00000         0.00000          0.00000   \n",
       "53      0.00000       0.00000     0.00000         0.00000          0.00000   \n",
       "59      0.00000       0.00000     0.00000         0.00000          0.00000   \n",
       "10      0.00000       0.00000     1.00000         0.00000          0.00000   \n",
       "21      0.00000       0.00000     0.00000         0.00000          0.00000   \n",
       "15      0.00000       0.00000     0.00000         0.00000          0.00000   \n",
       "9       0.00000       0.00000     0.00000         0.00000          0.00000   \n",
       "\n",
       "    Patricia Clarkson  \n",
       "57            0.00000  \n",
       "38            0.00000  \n",
       "39            0.00000  \n",
       "62            0.00000  \n",
       "53            0.00000  \n",
       "59            0.00000  \n",
       "10            0.00000  \n",
       "21            1.00000  \n",
       "15            0.00000  \n",
       "9             0.00000  \n",
       "\n",
       "[10 rows x 30 columns]"
      ]
     },
     "execution_count": 857,
     "metadata": {},
     "output_type": "execute_result"
    }
   ],
   "source": [
    "X_test"
   ]
  },
  {
   "cell_type": "markdown",
   "metadata": {},
   "source": [
    "## Preprocessing"
   ]
  },
  {
   "cell_type": "markdown",
   "metadata": {},
   "source": [
    "### Categorical Variable Preprocessing"
   ]
  },
  {
   "cell_type": "markdown",
   "metadata": {},
   "source": [
    "#### One-hot-encoding"
   ]
  },
  {
   "cell_type": "code",
   "execution_count": 858,
   "metadata": {},
   "outputs": [],
   "source": [
    "cat_ohe_vars = ['cinematographer']\n",
    "X_train_val_cat_ohe = X_train_val[cat_ohe_vars]\n",
    "#X_train_cat_ohe "
   ]
  },
  {
   "cell_type": "code",
   "execution_count": 859,
   "metadata": {},
   "outputs": [],
   "source": [
    "ohe = OneHotEncoder(sparse=False,  handle_unknown='ignore')\n",
    "ohe.fit(X_train_val_cat_ohe)\n",
    "cat_ohe = ohe.transform(X_train_val_cat_ohe)"
   ]
  },
  {
   "cell_type": "code",
   "execution_count": 860,
   "metadata": {},
   "outputs": [
    {
     "data": {
      "text/plain": [
       "array(['cinematographer_Ellen Kuras', 'cinematographer_Fred Schuler',\n",
       "       'cinematographer_Michael Ballhaus',\n",
       "       'cinematographer_Michael Chapman', 'cinematographer_OTHER',\n",
       "       'cinematographer_Robert Richardson',\n",
       "       'cinematographer_Rodrigo Prieto'], dtype=object)"
      ]
     },
     "execution_count": 860,
     "metadata": {},
     "output_type": "execute_result"
    }
   ],
   "source": [
    "columns=ohe.get_feature_names(cat_ohe_vars)\n",
    "columns"
   ]
  },
  {
   "cell_type": "code",
   "execution_count": 861,
   "metadata": {},
   "outputs": [
    {
     "data": {
      "text/html": [
       "<div>\n",
       "<style scoped>\n",
       "    .dataframe tbody tr th:only-of-type {\n",
       "        vertical-align: middle;\n",
       "    }\n",
       "\n",
       "    .dataframe tbody tr th {\n",
       "        vertical-align: top;\n",
       "    }\n",
       "\n",
       "    .dataframe thead th {\n",
       "        text-align: right;\n",
       "    }\n",
       "</style>\n",
       "<table border=\"1\" class=\"dataframe\">\n",
       "  <thead>\n",
       "    <tr style=\"text-align: right;\">\n",
       "      <th></th>\n",
       "      <th>cinematographer_Ellen Kuras</th>\n",
       "      <th>cinematographer_Fred Schuler</th>\n",
       "      <th>cinematographer_Michael Ballhaus</th>\n",
       "      <th>cinematographer_Michael Chapman</th>\n",
       "      <th>cinematographer_OTHER</th>\n",
       "      <th>cinematographer_Robert Richardson</th>\n",
       "      <th>cinematographer_Rodrigo Prieto</th>\n",
       "    </tr>\n",
       "  </thead>\n",
       "  <tbody>\n",
       "    <tr>\n",
       "      <th>13</th>\n",
       "      <td>0.00000</td>\n",
       "      <td>1.00000</td>\n",
       "      <td>0.00000</td>\n",
       "      <td>0.00000</td>\n",
       "      <td>0.00000</td>\n",
       "      <td>0.00000</td>\n",
       "      <td>0.00000</td>\n",
       "    </tr>\n",
       "    <tr>\n",
       "      <th>36</th>\n",
       "      <td>0.00000</td>\n",
       "      <td>0.00000</td>\n",
       "      <td>0.00000</td>\n",
       "      <td>1.00000</td>\n",
       "      <td>0.00000</td>\n",
       "      <td>0.00000</td>\n",
       "      <td>0.00000</td>\n",
       "    </tr>\n",
       "    <tr>\n",
       "      <th>50</th>\n",
       "      <td>0.00000</td>\n",
       "      <td>0.00000</td>\n",
       "      <td>1.00000</td>\n",
       "      <td>0.00000</td>\n",
       "      <td>0.00000</td>\n",
       "      <td>0.00000</td>\n",
       "      <td>0.00000</td>\n",
       "    </tr>\n",
       "    <tr>\n",
       "      <th>30</th>\n",
       "      <td>0.00000</td>\n",
       "      <td>0.00000</td>\n",
       "      <td>1.00000</td>\n",
       "      <td>0.00000</td>\n",
       "      <td>0.00000</td>\n",
       "      <td>0.00000</td>\n",
       "      <td>0.00000</td>\n",
       "    </tr>\n",
       "    <tr>\n",
       "      <th>27</th>\n",
       "      <td>0.00000</td>\n",
       "      <td>0.00000</td>\n",
       "      <td>0.00000</td>\n",
       "      <td>0.00000</td>\n",
       "      <td>1.00000</td>\n",
       "      <td>0.00000</td>\n",
       "      <td>0.00000</td>\n",
       "    </tr>\n",
       "  </tbody>\n",
       "</table>\n",
       "</div>"
      ],
      "text/plain": [
       "    cinematographer_Ellen Kuras  cinematographer_Fred Schuler  \\\n",
       "13                      0.00000                       1.00000   \n",
       "36                      0.00000                       0.00000   \n",
       "50                      0.00000                       0.00000   \n",
       "30                      0.00000                       0.00000   \n",
       "27                      0.00000                       0.00000   \n",
       "\n",
       "    cinematographer_Michael Ballhaus  cinematographer_Michael Chapman  \\\n",
       "13                           0.00000                          0.00000   \n",
       "36                           0.00000                          1.00000   \n",
       "50                           1.00000                          0.00000   \n",
       "30                           1.00000                          0.00000   \n",
       "27                           0.00000                          0.00000   \n",
       "\n",
       "    cinematographer_OTHER  cinematographer_Robert Richardson  \\\n",
       "13                0.00000                            0.00000   \n",
       "36                0.00000                            0.00000   \n",
       "50                0.00000                            0.00000   \n",
       "30                0.00000                            0.00000   \n",
       "27                1.00000                            0.00000   \n",
       "\n",
       "    cinematographer_Rodrigo Prieto  \n",
       "13                         0.00000  \n",
       "36                         0.00000  \n",
       "50                         0.00000  \n",
       "30                         0.00000  \n",
       "27                         0.00000  "
      ]
     },
     "execution_count": 861,
     "metadata": {},
     "output_type": "execute_result"
    }
   ],
   "source": [
    "X_train_val_cat_ohe_df = pd.DataFrame(cat_ohe, columns=columns, index=X_train_val_cat_ohe.index)\n",
    "X_train_val_cat_ohe_df.head()"
   ]
  },
  {
   "cell_type": "markdown",
   "metadata": {},
   "source": [
    "Repeating transformations on testing set"
   ]
  },
  {
   "cell_type": "code",
   "execution_count": 862,
   "metadata": {},
   "outputs": [],
   "source": [
    "X_test_cat_ohe = X_test[['cinematographer']]\n",
    "X_test_cat_ohe\n",
    "cat_ohe_test = ohe.transform(X_test_cat_ohe)\n",
    "\n",
    "cat_ohe_columns = ohe.get_feature_names(['cinematographer'])\n",
    "X_test_cat_ohe_df = pd.DataFrame(cat_ohe_test, columns=cat_ohe_columns)\n"
   ]
  },
  {
   "cell_type": "code",
   "execution_count": null,
   "metadata": {},
   "outputs": [],
   "source": []
  },
  {
   "cell_type": "markdown",
   "metadata": {},
   "source": [
    "### Continuous Variable Preprocessing"
   ]
  },
  {
   "cell_type": "code",
   "execution_count": 863,
   "metadata": {},
   "outputs": [
    {
     "data": {
      "text/html": [
       "<div>\n",
       "<style scoped>\n",
       "    .dataframe tbody tr th:only-of-type {\n",
       "        vertical-align: middle;\n",
       "    }\n",
       "\n",
       "    .dataframe tbody tr th {\n",
       "        vertical-align: top;\n",
       "    }\n",
       "\n",
       "    .dataframe thead th {\n",
       "        text-align: right;\n",
       "    }\n",
       "</style>\n",
       "<table border=\"1\" class=\"dataframe\">\n",
       "  <thead>\n",
       "    <tr style=\"text-align: right;\">\n",
       "      <th></th>\n",
       "      <th>year</th>\n",
       "      <th>duration</th>\n",
       "      <th>rating_count</th>\n",
       "    </tr>\n",
       "  </thead>\n",
       "  <tbody>\n",
       "    <tr>\n",
       "      <th>13</th>\n",
       "      <td>2,014.00000</td>\n",
       "      <td>38.00000</td>\n",
       "      <td>110.00000</td>\n",
       "    </tr>\n",
       "    <tr>\n",
       "      <th>36</th>\n",
       "      <td>1,995.00000</td>\n",
       "      <td>89.00000</td>\n",
       "      <td>2,146.00000</td>\n",
       "    </tr>\n",
       "    <tr>\n",
       "      <th>50</th>\n",
       "      <td>1,985.00000</td>\n",
       "      <td>97.00000</td>\n",
       "      <td>59,306.00000</td>\n",
       "    </tr>\n",
       "    <tr>\n",
       "      <th>30</th>\n",
       "      <td>2,002.00000</td>\n",
       "      <td>167.00000</td>\n",
       "      <td>405,055.00000</td>\n",
       "    </tr>\n",
       "    <tr>\n",
       "      <th>27</th>\n",
       "      <td>2,004.00000</td>\n",
       "      <td>55.00000</td>\n",
       "      <td>83.00000</td>\n",
       "    </tr>\n",
       "  </tbody>\n",
       "</table>\n",
       "</div>"
      ],
      "text/plain": [
       "          year  duration  rating_count\n",
       "13 2,014.00000  38.00000     110.00000\n",
       "36 1,995.00000  89.00000   2,146.00000\n",
       "50 1,985.00000  97.00000  59,306.00000\n",
       "30 2,002.00000 167.00000 405,055.00000\n",
       "27 2,004.00000  55.00000      83.00000"
      ]
     },
     "execution_count": 863,
     "metadata": {},
     "output_type": "execute_result"
    }
   ],
   "source": [
    "cont_column_names = ['year', 'duration', 'rating_count']\n",
    "X_train_val_cont = X_train_val[cont_column_names ]\n",
    "\n",
    "X_test_cont      = X_test[     cont_column_names ]\n",
    "\n",
    "\n",
    "X_train_val_cont.head()\n"
   ]
  },
  {
   "cell_type": "code",
   "execution_count": 864,
   "metadata": {},
   "outputs": [],
   "source": [
    "#X_train_val_cont_poly.head()"
   ]
  },
  {
   "cell_type": "code",
   "execution_count": 865,
   "metadata": {},
   "outputs": [
    {
     "name": "stderr",
     "output_type": "stream",
     "text": [
      "<ipython-input-865-d30627963e3a>:1: SettingWithCopyWarning: \n",
      "A value is trying to be set on a copy of a slice from a DataFrame.\n",
      "Try using .loc[row_indexer,col_indexer] = value instead\n",
      "\n",
      "See the caveats in the documentation: https://pandas.pydata.org/pandas-docs/stable/user_guide/indexing.html#returning-a-view-versus-a-copy\n",
      "  X_train_val_cont['log_year']         = np.log(X_train_val_cont.year)\n",
      "<ipython-input-865-d30627963e3a>:2: SettingWithCopyWarning: \n",
      "A value is trying to be set on a copy of a slice from a DataFrame.\n",
      "Try using .loc[row_indexer,col_indexer] = value instead\n",
      "\n",
      "See the caveats in the documentation: https://pandas.pydata.org/pandas-docs/stable/user_guide/indexing.html#returning-a-view-versus-a-copy\n",
      "  X_train_val_cont['log_rating_count'] = np.log(X_train_val_cont.rating_count)\n",
      "<ipython-input-865-d30627963e3a>:5: SettingWithCopyWarning: \n",
      "A value is trying to be set on a copy of a slice from a DataFrame.\n",
      "Try using .loc[row_indexer,col_indexer] = value instead\n",
      "\n",
      "See the caveats in the documentation: https://pandas.pydata.org/pandas-docs/stable/user_guide/indexing.html#returning-a-view-versus-a-copy\n",
      "  X_test_cont['log_year']         = np.log(X_test_cont.year)\n",
      "<ipython-input-865-d30627963e3a>:6: SettingWithCopyWarning: \n",
      "A value is trying to be set on a copy of a slice from a DataFrame.\n",
      "Try using .loc[row_indexer,col_indexer] = value instead\n",
      "\n",
      "See the caveats in the documentation: https://pandas.pydata.org/pandas-docs/stable/user_guide/indexing.html#returning-a-view-versus-a-copy\n",
      "  X_test_cont['log_rating_count'] = np.log(X_test_cont.rating_count)\n"
     ]
    }
   ],
   "source": [
    "X_train_val_cont['log_year']         = np.log(X_train_val_cont.year)\n",
    "X_train_val_cont['log_rating_count'] = np.log(X_train_val_cont.rating_count)\n",
    "\n",
    "\n",
    "X_test_cont['log_year']         = np.log(X_test_cont.year)\n",
    "X_test_cont['log_rating_count'] = np.log(X_test_cont.rating_count)"
   ]
  },
  {
   "cell_type": "code",
   "execution_count": 866,
   "metadata": {},
   "outputs": [
    {
     "data": {
      "text/plain": [
       "10"
      ]
     },
     "execution_count": 866,
     "metadata": {},
     "output_type": "execute_result"
    }
   ],
   "source": [
    "X_test_cont.shape[0]"
   ]
  },
  {
   "cell_type": "markdown",
   "metadata": {},
   "source": [
    "#### Concatenate columns"
   ]
  },
  {
   "cell_type": "code",
   "execution_count": 867,
   "metadata": {},
   "outputs": [],
   "source": [
    "cat_columns = ['documentary', 'tv_series', *prevalent_actor_columns]\n",
    "X_train_val_cat_df = X_train_val[cat_columns]\n",
    "#X_train_val_cat_df\n",
    "\n",
    "X_test_cat_df = X_test[cat_columns]\n",
    "#X_train_val_cat_df"
   ]
  },
  {
   "cell_type": "code",
   "execution_count": 868,
   "metadata": {},
   "outputs": [
    {
     "data": {
      "text/plain": [
       "False"
      ]
     },
     "execution_count": 868,
     "metadata": {},
     "output_type": "execute_result"
    }
   ],
   "source": [
    "X_test_cat_df.isnull().values.any()"
   ]
  },
  {
   "cell_type": "code",
   "execution_count": 869,
   "metadata": {},
   "outputs": [],
   "source": [
    "X_train_val_combo= pd.concat([X_train_val_cont, X_train_val_cat_ohe_df, X_train_val_cat_df, ], axis='columns')\n",
    "X_test_combo = pd.concat([X_test_cont.reset_index(drop=True), X_test_cat_ohe_df.reset_index(drop=True), X_test_cat_df.reset_index(drop=True), ], axis='columns')"
   ]
  },
  {
   "cell_type": "code",
   "execution_count": 870,
   "metadata": {},
   "outputs": [
    {
     "data": {
      "text/plain": [
       "(10, 26)"
      ]
     },
     "execution_count": 870,
     "metadata": {},
     "output_type": "execute_result"
    }
   ],
   "source": [
    "X_test_cat_df.shape"
   ]
  },
  {
   "cell_type": "code",
   "execution_count": 871,
   "metadata": {},
   "outputs": [
    {
     "data": {
      "text/plain": [
       "False"
      ]
     },
     "execution_count": 871,
     "metadata": {},
     "output_type": "execute_result"
    }
   ],
   "source": [
    "X_train_val_combo.isnull().values.any()"
   ]
  },
  {
   "cell_type": "code",
   "execution_count": null,
   "metadata": {},
   "outputs": [],
   "source": []
  },
  {
   "cell_type": "code",
   "execution_count": 872,
   "metadata": {},
   "outputs": [
    {
     "data": {
      "text/plain": [
       "False"
      ]
     },
     "execution_count": 872,
     "metadata": {},
     "output_type": "execute_result"
    }
   ],
   "source": [
    "X_test_combo.isnull().values.any()"
   ]
  },
  {
   "cell_type": "code",
   "execution_count": 873,
   "metadata": {},
   "outputs": [
    {
     "data": {
      "text/html": [
       "<div>\n",
       "<style scoped>\n",
       "    .dataframe tbody tr th:only-of-type {\n",
       "        vertical-align: middle;\n",
       "    }\n",
       "\n",
       "    .dataframe tbody tr th {\n",
       "        vertical-align: top;\n",
       "    }\n",
       "\n",
       "    .dataframe thead th {\n",
       "        text-align: right;\n",
       "    }\n",
       "</style>\n",
       "<table border=\"1\" class=\"dataframe\">\n",
       "  <thead>\n",
       "    <tr style=\"text-align: right;\">\n",
       "      <th></th>\n",
       "      <th>year</th>\n",
       "      <th>duration</th>\n",
       "      <th>rating_count</th>\n",
       "      <th>log_year</th>\n",
       "      <th>log_rating_count</th>\n",
       "      <th>cinematographer_Ellen Kuras</th>\n",
       "      <th>cinematographer_Fred Schuler</th>\n",
       "      <th>cinematographer_Michael Ballhaus</th>\n",
       "      <th>cinematographer_Michael Chapman</th>\n",
       "      <th>cinematographer_OTHER</th>\n",
       "      <th>...</th>\n",
       "      <th>Bob Dylan</th>\n",
       "      <th>Paul Herman</th>\n",
       "      <th>Murray Moston</th>\n",
       "      <th>Stephen Graham</th>\n",
       "      <th>Verna Bloom</th>\n",
       "      <th>Alec Baldwin</th>\n",
       "      <th>Ray Romano</th>\n",
       "      <th>Diahnne Abbott</th>\n",
       "      <th>Barbara Hershey</th>\n",
       "      <th>Patricia Clarkson</th>\n",
       "    </tr>\n",
       "  </thead>\n",
       "  <tbody>\n",
       "    <tr>\n",
       "      <th>0</th>\n",
       "      <td>1,974.00000</td>\n",
       "      <td>112.00000</td>\n",
       "      <td>21,361.00000</td>\n",
       "      <td>7.58782</td>\n",
       "      <td>9.96932</td>\n",
       "      <td>0.00000</td>\n",
       "      <td>0.00000</td>\n",
       "      <td>0.00000</td>\n",
       "      <td>0.00000</td>\n",
       "      <td>0.00000</td>\n",
       "      <td>...</td>\n",
       "      <td>0.00000</td>\n",
       "      <td>0.00000</td>\n",
       "      <td>1.00000</td>\n",
       "      <td>0.00000</td>\n",
       "      <td>0.00000</td>\n",
       "      <td>0.00000</td>\n",
       "      <td>0.00000</td>\n",
       "      <td>0.00000</td>\n",
       "      <td>0.00000</td>\n",
       "      <td>0.00000</td>\n",
       "    </tr>\n",
       "    <tr>\n",
       "      <th>1</th>\n",
       "      <td>1,995.00000</td>\n",
       "      <td>178.00000</td>\n",
       "      <td>465,192.00000</td>\n",
       "      <td>7.59840</td>\n",
       "      <td>13.05021</td>\n",
       "      <td>0.00000</td>\n",
       "      <td>0.00000</td>\n",
       "      <td>0.00000</td>\n",
       "      <td>0.00000</td>\n",
       "      <td>0.00000</td>\n",
       "      <td>...</td>\n",
       "      <td>0.00000</td>\n",
       "      <td>0.00000</td>\n",
       "      <td>0.00000</td>\n",
       "      <td>0.00000</td>\n",
       "      <td>0.00000</td>\n",
       "      <td>0.00000</td>\n",
       "      <td>0.00000</td>\n",
       "      <td>0.00000</td>\n",
       "      <td>0.00000</td>\n",
       "      <td>0.00000</td>\n",
       "    </tr>\n",
       "    <tr>\n",
       "      <th>2</th>\n",
       "      <td>1,993.00000</td>\n",
       "      <td>139.00000</td>\n",
       "      <td>52,892.00000</td>\n",
       "      <td>7.59740</td>\n",
       "      <td>10.87601</td>\n",
       "      <td>0.00000</td>\n",
       "      <td>0.00000</td>\n",
       "      <td>1.00000</td>\n",
       "      <td>0.00000</td>\n",
       "      <td>0.00000</td>\n",
       "      <td>...</td>\n",
       "      <td>0.00000</td>\n",
       "      <td>0.00000</td>\n",
       "      <td>0.00000</td>\n",
       "      <td>0.00000</td>\n",
       "      <td>0.00000</td>\n",
       "      <td>0.00000</td>\n",
       "      <td>0.00000</td>\n",
       "      <td>0.00000</td>\n",
       "      <td>0.00000</td>\n",
       "      <td>0.00000</td>\n",
       "    </tr>\n",
       "    <tr>\n",
       "      <th>3</th>\n",
       "      <td>1,970.00000</td>\n",
       "      <td>107.00000</td>\n",
       "      <td>4,431.00000</td>\n",
       "      <td>7.58579</td>\n",
       "      <td>8.39638</td>\n",
       "      <td>0.00000</td>\n",
       "      <td>0.00000</td>\n",
       "      <td>0.00000</td>\n",
       "      <td>0.00000</td>\n",
       "      <td>1.00000</td>\n",
       "      <td>...</td>\n",
       "      <td>0.00000</td>\n",
       "      <td>0.00000</td>\n",
       "      <td>0.00000</td>\n",
       "      <td>0.00000</td>\n",
       "      <td>0.00000</td>\n",
       "      <td>0.00000</td>\n",
       "      <td>0.00000</td>\n",
       "      <td>0.00000</td>\n",
       "      <td>0.00000</td>\n",
       "      <td>0.00000</td>\n",
       "    </tr>\n",
       "    <tr>\n",
       "      <th>4</th>\n",
       "      <td>1,978.00000</td>\n",
       "      <td>55.00000</td>\n",
       "      <td>1,190.00000</td>\n",
       "      <td>7.58984</td>\n",
       "      <td>7.08171</td>\n",
       "      <td>0.00000</td>\n",
       "      <td>0.00000</td>\n",
       "      <td>0.00000</td>\n",
       "      <td>1.00000</td>\n",
       "      <td>0.00000</td>\n",
       "      <td>...</td>\n",
       "      <td>0.00000</td>\n",
       "      <td>0.00000</td>\n",
       "      <td>0.00000</td>\n",
       "      <td>0.00000</td>\n",
       "      <td>0.00000</td>\n",
       "      <td>0.00000</td>\n",
       "      <td>0.00000</td>\n",
       "      <td>0.00000</td>\n",
       "      <td>0.00000</td>\n",
       "      <td>0.00000</td>\n",
       "    </tr>\n",
       "    <tr>\n",
       "      <th>5</th>\n",
       "      <td>1,973.00000</td>\n",
       "      <td>112.00000</td>\n",
       "      <td>99,994.00000</td>\n",
       "      <td>7.58731</td>\n",
       "      <td>11.51287</td>\n",
       "      <td>0.00000</td>\n",
       "      <td>0.00000</td>\n",
       "      <td>0.00000</td>\n",
       "      <td>0.00000</td>\n",
       "      <td>0.00000</td>\n",
       "      <td>...</td>\n",
       "      <td>0.00000</td>\n",
       "      <td>0.00000</td>\n",
       "      <td>1.00000</td>\n",
       "      <td>0.00000</td>\n",
       "      <td>0.00000</td>\n",
       "      <td>0.00000</td>\n",
       "      <td>0.00000</td>\n",
       "      <td>0.00000</td>\n",
       "      <td>0.00000</td>\n",
       "      <td>0.00000</td>\n",
       "    </tr>\n",
       "    <tr>\n",
       "      <th>6</th>\n",
       "      <td>2,016.00000</td>\n",
       "      <td>60.00000</td>\n",
       "      <td>21,636.00000</td>\n",
       "      <td>7.60887</td>\n",
       "      <td>9.98211</td>\n",
       "      <td>0.00000</td>\n",
       "      <td>0.00000</td>\n",
       "      <td>0.00000</td>\n",
       "      <td>0.00000</td>\n",
       "      <td>1.00000</td>\n",
       "      <td>...</td>\n",
       "      <td>0.00000</td>\n",
       "      <td>0.00000</td>\n",
       "      <td>0.00000</td>\n",
       "      <td>0.00000</td>\n",
       "      <td>0.00000</td>\n",
       "      <td>0.00000</td>\n",
       "      <td>1.00000</td>\n",
       "      <td>0.00000</td>\n",
       "      <td>0.00000</td>\n",
       "      <td>0.00000</td>\n",
       "    </tr>\n",
       "    <tr>\n",
       "      <th>7</th>\n",
       "      <td>2,010.00000</td>\n",
       "      <td>138.00000</td>\n",
       "      <td>1,126,811.00000</td>\n",
       "      <td>7.60589</td>\n",
       "      <td>13.93490</td>\n",
       "      <td>0.00000</td>\n",
       "      <td>0.00000</td>\n",
       "      <td>0.00000</td>\n",
       "      <td>0.00000</td>\n",
       "      <td>0.00000</td>\n",
       "      <td>...</td>\n",
       "      <td>0.00000</td>\n",
       "      <td>0.00000</td>\n",
       "      <td>0.00000</td>\n",
       "      <td>0.00000</td>\n",
       "      <td>0.00000</td>\n",
       "      <td>0.00000</td>\n",
       "      <td>0.00000</td>\n",
       "      <td>0.00000</td>\n",
       "      <td>0.00000</td>\n",
       "      <td>1.00000</td>\n",
       "    </tr>\n",
       "    <tr>\n",
       "      <th>8</th>\n",
       "      <td>2,011.00000</td>\n",
       "      <td>126.00000</td>\n",
       "      <td>304,665.00000</td>\n",
       "      <td>7.60639</td>\n",
       "      <td>12.62697</td>\n",
       "      <td>0.00000</td>\n",
       "      <td>0.00000</td>\n",
       "      <td>0.00000</td>\n",
       "      <td>0.00000</td>\n",
       "      <td>0.00000</td>\n",
       "      <td>...</td>\n",
       "      <td>0.00000</td>\n",
       "      <td>0.00000</td>\n",
       "      <td>0.00000</td>\n",
       "      <td>0.00000</td>\n",
       "      <td>0.00000</td>\n",
       "      <td>0.00000</td>\n",
       "      <td>0.00000</td>\n",
       "      <td>0.00000</td>\n",
       "      <td>0.00000</td>\n",
       "      <td>0.00000</td>\n",
       "    </tr>\n",
       "    <tr>\n",
       "      <th>9</th>\n",
       "      <td>2,016.00000</td>\n",
       "      <td>161.00000</td>\n",
       "      <td>100,119.00000</td>\n",
       "      <td>7.60887</td>\n",
       "      <td>11.51411</td>\n",
       "      <td>0.00000</td>\n",
       "      <td>0.00000</td>\n",
       "      <td>0.00000</td>\n",
       "      <td>0.00000</td>\n",
       "      <td>0.00000</td>\n",
       "      <td>...</td>\n",
       "      <td>0.00000</td>\n",
       "      <td>0.00000</td>\n",
       "      <td>0.00000</td>\n",
       "      <td>0.00000</td>\n",
       "      <td>0.00000</td>\n",
       "      <td>0.00000</td>\n",
       "      <td>0.00000</td>\n",
       "      <td>0.00000</td>\n",
       "      <td>0.00000</td>\n",
       "      <td>0.00000</td>\n",
       "    </tr>\n",
       "  </tbody>\n",
       "</table>\n",
       "<p>10 rows × 38 columns</p>\n",
       "</div>"
      ],
      "text/plain": [
       "         year  duration    rating_count  log_year  log_rating_count  \\\n",
       "0 1,974.00000 112.00000    21,361.00000   7.58782           9.96932   \n",
       "1 1,995.00000 178.00000   465,192.00000   7.59840          13.05021   \n",
       "2 1,993.00000 139.00000    52,892.00000   7.59740          10.87601   \n",
       "3 1,970.00000 107.00000     4,431.00000   7.58579           8.39638   \n",
       "4 1,978.00000  55.00000     1,190.00000   7.58984           7.08171   \n",
       "5 1,973.00000 112.00000    99,994.00000   7.58731          11.51287   \n",
       "6 2,016.00000  60.00000    21,636.00000   7.60887           9.98211   \n",
       "7 2,010.00000 138.00000 1,126,811.00000   7.60589          13.93490   \n",
       "8 2,011.00000 126.00000   304,665.00000   7.60639          12.62697   \n",
       "9 2,016.00000 161.00000   100,119.00000   7.60887          11.51411   \n",
       "\n",
       "   cinematographer_Ellen Kuras  cinematographer_Fred Schuler  \\\n",
       "0                      0.00000                       0.00000   \n",
       "1                      0.00000                       0.00000   \n",
       "2                      0.00000                       0.00000   \n",
       "3                      0.00000                       0.00000   \n",
       "4                      0.00000                       0.00000   \n",
       "5                      0.00000                       0.00000   \n",
       "6                      0.00000                       0.00000   \n",
       "7                      0.00000                       0.00000   \n",
       "8                      0.00000                       0.00000   \n",
       "9                      0.00000                       0.00000   \n",
       "\n",
       "   cinematographer_Michael Ballhaus  cinematographer_Michael Chapman  \\\n",
       "0                           0.00000                          0.00000   \n",
       "1                           0.00000                          0.00000   \n",
       "2                           1.00000                          0.00000   \n",
       "3                           0.00000                          0.00000   \n",
       "4                           0.00000                          1.00000   \n",
       "5                           0.00000                          0.00000   \n",
       "6                           0.00000                          0.00000   \n",
       "7                           0.00000                          0.00000   \n",
       "8                           0.00000                          0.00000   \n",
       "9                           0.00000                          0.00000   \n",
       "\n",
       "   cinematographer_OTHER  ...  Bob Dylan  Paul Herman  Murray Moston  \\\n",
       "0                0.00000  ...    0.00000      0.00000        1.00000   \n",
       "1                0.00000  ...    0.00000      0.00000        0.00000   \n",
       "2                0.00000  ...    0.00000      0.00000        0.00000   \n",
       "3                1.00000  ...    0.00000      0.00000        0.00000   \n",
       "4                0.00000  ...    0.00000      0.00000        0.00000   \n",
       "5                0.00000  ...    0.00000      0.00000        1.00000   \n",
       "6                1.00000  ...    0.00000      0.00000        0.00000   \n",
       "7                0.00000  ...    0.00000      0.00000        0.00000   \n",
       "8                0.00000  ...    0.00000      0.00000        0.00000   \n",
       "9                0.00000  ...    0.00000      0.00000        0.00000   \n",
       "\n",
       "   Stephen Graham  Verna Bloom  Alec Baldwin  Ray Romano  Diahnne Abbott  \\\n",
       "0         0.00000      0.00000       0.00000     0.00000         0.00000   \n",
       "1         0.00000      0.00000       0.00000     0.00000         0.00000   \n",
       "2         0.00000      0.00000       0.00000     0.00000         0.00000   \n",
       "3         0.00000      0.00000       0.00000     0.00000         0.00000   \n",
       "4         0.00000      0.00000       0.00000     0.00000         0.00000   \n",
       "5         0.00000      0.00000       0.00000     0.00000         0.00000   \n",
       "6         0.00000      0.00000       0.00000     1.00000         0.00000   \n",
       "7         0.00000      0.00000       0.00000     0.00000         0.00000   \n",
       "8         0.00000      0.00000       0.00000     0.00000         0.00000   \n",
       "9         0.00000      0.00000       0.00000     0.00000         0.00000   \n",
       "\n",
       "   Barbara Hershey  Patricia Clarkson  \n",
       "0          0.00000            0.00000  \n",
       "1          0.00000            0.00000  \n",
       "2          0.00000            0.00000  \n",
       "3          0.00000            0.00000  \n",
       "4          0.00000            0.00000  \n",
       "5          0.00000            0.00000  \n",
       "6          0.00000            0.00000  \n",
       "7          0.00000            1.00000  \n",
       "8          0.00000            0.00000  \n",
       "9          0.00000            0.00000  \n",
       "\n",
       "[10 rows x 38 columns]"
      ]
     },
     "execution_count": 873,
     "metadata": {},
     "output_type": "execute_result"
    }
   ],
   "source": [
    "X_test_combo"
   ]
  },
  {
   "cell_type": "code",
   "execution_count": 874,
   "metadata": {},
   "outputs": [
    {
     "data": {
      "text/plain": [
       "Index(['year', 'duration', 'rating_count', 'log_year', 'log_rating_count',\n",
       "       'cinematographer_Ellen Kuras', 'cinematographer_Fred Schuler',\n",
       "       'cinematographer_Michael Ballhaus', 'cinematographer_Michael Chapman',\n",
       "       'cinematographer_OTHER', 'cinematographer_Robert Richardson',\n",
       "       'cinematographer_Rodrigo Prieto', 'documentary', 'tv_series',\n",
       "       'Robert De Niro', 'Martin Scorsese', 'Leonardo DiCaprio',\n",
       "       'Harvey Keitel', 'Joe Pesci', 'Catherine Scorsese', 'Eric Clapton',\n",
       "       'Harry Northup', 'Victor Argo', 'Michael Stuhlbarg', 'Charles Scorsese',\n",
       "       'Barry Primus', 'Ringo Starr', 'Frank Vincent', 'Bob Dylan',\n",
       "       'Paul Herman', 'Murray Moston', 'Stephen Graham', 'Verna Bloom',\n",
       "       'Alec Baldwin', 'Ray Romano', 'Diahnne Abbott', 'Barbara Hershey',\n",
       "       'Patricia Clarkson'],\n",
       "      dtype='object')"
      ]
     },
     "execution_count": 874,
     "metadata": {},
     "output_type": "execute_result"
    }
   ],
   "source": [
    "selected_columns = X_train_val_combo.columns\n",
    "X_train_val_combo.columns"
   ]
  },
  {
   "cell_type": "raw",
   "metadata": {},
   "source": [
    "poly = PolynomialFeatures(degree=2)\n",
    "X_train_val_combo_poly = poly.fit_transform(X_train_val_combo)\n",
    "X_test_combo_poly = poly.transform(X_test_combo)"
   ]
  },
  {
   "cell_type": "markdown",
   "metadata": {},
   "source": [
    "### Train vs. val split"
   ]
  },
  {
   "cell_type": "code",
   "execution_count": 875,
   "metadata": {},
   "outputs": [],
   "source": [
    "X_train, X_val, y_train, y_val = train_test_split(X_train_val_combo, y_train_val, test_size=.25, random_state=43)"
   ]
  },
  {
   "cell_type": "markdown",
   "metadata": {},
   "source": []
  },
  {
   "cell_type": "code",
   "execution_count": 876,
   "metadata": {},
   "outputs": [],
   "source": [
    "#Mean Absolute Error (MAE)\n",
    "def mae(y_true, y_pred):\n",
    "    return np.mean(np.abs(y_pred - y_true)) \n",
    "\n",
    "#mae(y_test, test_set_pred)"
   ]
  },
  {
   "cell_type": "markdown",
   "metadata": {},
   "source": [
    "## B. Lasso CV regression on all features\n"
   ]
  },
  {
   "cell_type": "markdown",
   "metadata": {},
   "source": [
    "### Lasso CV"
   ]
  },
  {
   "cell_type": "code",
   "execution_count": 877,
   "metadata": {},
   "outputs": [
    {
     "data": {
      "text/plain": [
       "array([[2.014000e+03, 3.800000e+01, 1.100000e+02, ..., 1.000000e+00,\n",
       "        0.000000e+00, 0.000000e+00],\n",
       "       [1.995000e+03, 8.900000e+01, 2.146000e+03, ..., 0.000000e+00,\n",
       "        0.000000e+00, 0.000000e+00],\n",
       "       [1.985000e+03, 9.700000e+01, 5.930600e+04, ..., 0.000000e+00,\n",
       "        0.000000e+00, 0.000000e+00],\n",
       "       ...,\n",
       "       [2.006000e+03, 1.510000e+02, 1.187014e+06, ..., 0.000000e+00,\n",
       "        0.000000e+00, 0.000000e+00],\n",
       "       [1.990000e+03, 1.460000e+02, 1.018169e+06, ..., 0.000000e+00,\n",
       "        0.000000e+00, 0.000000e+00],\n",
       "       [1.976000e+03, 1.140000e+02, 7.228890e+05, ..., 1.000000e+00,\n",
       "        0.000000e+00, 0.000000e+00]])"
      ]
     },
     "execution_count": 877,
     "metadata": {},
     "output_type": "execute_result"
    }
   ],
   "source": [
    "X_train_val_combo.values"
   ]
  },
  {
   "cell_type": "code",
   "execution_count": null,
   "metadata": {},
   "outputs": [],
   "source": []
  },
  {
   "cell_type": "code",
   "execution_count": 878,
   "metadata": {},
   "outputs": [
    {
     "data": {
      "text/plain": [
       "StandardScaler()"
      ]
     },
     "execution_count": 878,
     "metadata": {},
     "output_type": "execute_result"
    }
   ],
   "source": [
    "## Scale the data as before\n",
    "std = StandardScaler()\n",
    "std.fit(X_train_val_combo.values)"
   ]
  },
  {
   "cell_type": "code",
   "execution_count": null,
   "metadata": {},
   "outputs": [],
   "source": []
  },
  {
   "cell_type": "code",
   "execution_count": null,
   "metadata": {},
   "outputs": [],
   "source": []
  },
  {
   "cell_type": "code",
   "execution_count": 879,
   "metadata": {},
   "outputs": [],
   "source": [
    "## Scale the Predictors on both the train and test set\n",
    "X_tr = std.transform(X_train_val_combo.values)\n",
    "X_te = std.transform(X_test_combo.values)"
   ]
  },
  {
   "cell_type": "code",
   "execution_count": 880,
   "metadata": {},
   "outputs": [
    {
     "data": {
      "text/plain": [
       "LassoCV(alphas=array([1.00000000e-02, 1.04737090e-02, 1.09698580e-02, 1.14895100e-02,\n",
       "       1.20337784e-02, 1.26038293e-02, 1.32008840e-02, 1.38262217e-02,\n",
       "       1.44811823e-02, 1.51671689e-02, 1.58856513e-02, 1.66381689e-02,\n",
       "       1.74263339e-02, 1.82518349e-02, 1.91164408e-02, 2.00220037e-02,\n",
       "       2.09704640e-02, 2.19638537e-02, 2.30043012e-02, 2.40940356e-02,\n",
       "       2.52353917e-02, 2.64308149e-0...\n",
       "       3.44896226e+01, 3.61234270e+01, 3.78346262e+01, 3.96268864e+01,\n",
       "       4.15040476e+01, 4.34701316e+01, 4.55293507e+01, 4.76861170e+01,\n",
       "       4.99450512e+01, 5.23109931e+01, 5.47890118e+01, 5.73844165e+01,\n",
       "       6.01027678e+01, 6.29498899e+01, 6.59318827e+01, 6.90551352e+01,\n",
       "       7.23263390e+01, 7.57525026e+01, 7.93409667e+01, 8.30994195e+01,\n",
       "       8.70359136e+01, 9.11588830e+01, 9.54771611e+01, 1.00000000e+02]),\n",
       "        cv=5)"
      ]
     },
     "execution_count": 880,
     "metadata": {},
     "output_type": "execute_result"
    }
   ],
   "source": [
    "# Run the cross validation, find the best alpha, refit the model on all the data with that alpha\n",
    "\n",
    "alphavec = 10**np.linspace(-2,2,200)\n",
    "\n",
    "lasso_model = LassoCV(alphas = alphavec, cv=5)\n",
    "lasso_model.fit(X_tr, y_train_val)"
   ]
  },
  {
   "cell_type": "code",
   "execution_count": 881,
   "metadata": {},
   "outputs": [
    {
     "data": {
      "text/plain": [
       "0.16070528182616392"
      ]
     },
     "execution_count": 881,
     "metadata": {},
     "output_type": "execute_result"
    }
   ],
   "source": [
    "# This is the best alpha value it found \n",
    "lasso_model.alpha_"
   ]
  },
  {
   "cell_type": "code",
   "execution_count": 882,
   "metadata": {},
   "outputs": [
    {
     "data": {
      "text/plain": [
       "38"
      ]
     },
     "execution_count": 882,
     "metadata": {},
     "output_type": "execute_result"
    }
   ],
   "source": [
    "len(lasso_model.coef_)"
   ]
  },
  {
   "cell_type": "code",
   "execution_count": 883,
   "metadata": {},
   "outputs": [
    {
     "data": {
      "text/plain": [
       "[('year', 0.0),\n",
       " ('duration', 0.0),\n",
       " ('rating_count', 0.09206978113345518),\n",
       " ('log_year', 0.0),\n",
       " ('log_rating_count', 0.13360547352857924),\n",
       " ('cinematographer_Ellen Kuras', 0.0),\n",
       " ('cinematographer_Fred Schuler', -0.0),\n",
       " ('cinematographer_Michael Ballhaus', 0.0),\n",
       " ('cinematographer_Michael Chapman', 0.18634261740656202),\n",
       " ('cinematographer_OTHER', -0.0),\n",
       " ('cinematographer_Robert Richardson', -0.0),\n",
       " ('cinematographer_Rodrigo Prieto', 0.0),\n",
       " ('documentary', 0.0),\n",
       " ('tv_series', 0.0),\n",
       " ('Robert De Niro', 0.0),\n",
       " ('Martin Scorsese', 0.0),\n",
       " ('Leonardo DiCaprio', 0.0),\n",
       " ('Harvey Keitel', -0.0),\n",
       " ('Joe Pesci', 0.0007364133976122368),\n",
       " ('Catherine Scorsese', 0.0),\n",
       " ('Eric Clapton', 0.0),\n",
       " ('Harry Northup', -0.08822749191299926),\n",
       " ('Victor Argo', -0.0),\n",
       " ('Michael Stuhlbarg', 0.0),\n",
       " ('Charles Scorsese', 0.0),\n",
       " ('Barry Primus', -0.0),\n",
       " ('Ringo Starr', 0.026807379938573763),\n",
       " ('Frank Vincent', 0.0),\n",
       " ('Bob Dylan', 0.0),\n",
       " ('Paul Herman', -0.0),\n",
       " ('Murray Moston', -0.0),\n",
       " ('Stephen Graham', 0.0),\n",
       " ('Verna Bloom', -0.0),\n",
       " ('Alec Baldwin', 0.0),\n",
       " ('Ray Romano', 0.0),\n",
       " ('Diahnne Abbott', -0.0),\n",
       " ('Barbara Hershey', -0.0),\n",
       " ('Patricia Clarkson', -0.0)]"
      ]
     },
     "execution_count": 883,
     "metadata": {},
     "output_type": "execute_result"
    }
   ],
   "source": [
    "# These are the (standardized) coefficients found\n",
    "# when it refit using that best alpha\n",
    "coefficients = list(zip(X_train.columns, lasso_model.coef_))\n",
    "coefficients"
   ]
  },
  {
   "cell_type": "code",
   "execution_count": 884,
   "metadata": {},
   "outputs": [],
   "source": [
    "# Make predictions on the test set using the new model\n",
    "test_set_pred = lasso_model.predict(X_te)"
   ]
  },
  {
   "cell_type": "code",
   "execution_count": 885,
   "metadata": {},
   "outputs": [
    {
     "data": {
      "text/plain": [
       "0.3049567045278033"
      ]
     },
     "execution_count": 885,
     "metadata": {},
     "output_type": "execute_result"
    }
   ],
   "source": [
    "# Find the MAE and R^2 on the test set using this model\n",
    "mean_absolute_error = mae(y_test, test_set_pred)\n",
    "mean_absolute_error"
   ]
  },
  {
   "cell_type": "code",
   "execution_count": 886,
   "metadata": {},
   "outputs": [
    {
     "data": {
      "text/plain": [
       "0.3368852284428998"
      ]
     },
     "execution_count": 886,
     "metadata": {},
     "output_type": "execute_result"
    }
   ],
   "source": [
    "r2_score_ = r2_score(y_test, test_set_pred)\n",
    "r2_score_ "
   ]
  },
  {
   "cell_type": "code",
   "execution_count": 887,
   "metadata": {},
   "outputs": [
    {
     "data": {
      "text/plain": [
       "[<matplotlib.lines.Line2D at 0x7f95f8de8eb0>]"
      ]
     },
     "execution_count": 887,
     "metadata": {},
     "output_type": "execute_result"
    },
    {
     "data": {
      "image/png": "[encoded data removed]",
      "text/plain": [
       "<Figure size 432x288 with 1 Axes>"
      ]
     },
     "metadata": {
      "needs_background": "light"
     },
     "output_type": "display_data"
    }
   ],
   "source": [
    "plt.scatter( test_set_pred, y_test)\n",
    "plt.plot( y_test, y_test, c='k')"
   ]
  },
  {
   "cell_type": "code",
   "execution_count": 888,
   "metadata": {},
   "outputs": [
    {
     "data": {
      "text/plain": [
       "<matplotlib.collections.PathCollection at 0x7f9618916100>"
      ]
     },
     "execution_count": 888,
     "metadata": {},
     "output_type": "execute_result"
    },
    {
     "data": {
      "image/png": "[encoded data removed]",
      "text/plain": [
       "<Figure size 432x288 with 1 Axes>"
      ]
     },
     "metadata": {
      "needs_background": "light"
     },
     "output_type": "display_data"
    }
   ],
   "source": [
    "residual = y_test-test_set_pred\n",
    "plt.scatter( test_set_pred, residual)"
   ]
  },
  {
   "cell_type": "code",
   "execution_count": 889,
   "metadata": {},
   "outputs": [
    {
     "data": {
      "text/html": [
       "<div>\n",
       "<style scoped>\n",
       "    .dataframe tbody tr th:only-of-type {\n",
       "        vertical-align: middle;\n",
       "    }\n",
       "\n",
       "    .dataframe tbody tr th {\n",
       "        vertical-align: top;\n",
       "    }\n",
       "\n",
       "    .dataframe thead th {\n",
       "        text-align: right;\n",
       "    }\n",
       "</style>\n",
       "<table border=\"1\" class=\"dataframe\">\n",
       "  <thead>\n",
       "    <tr style=\"text-align: right;\">\n",
       "      <th></th>\n",
       "      <th>Feature</th>\n",
       "      <th>Coefficient</th>\n",
       "    </tr>\n",
       "  </thead>\n",
       "  <tbody>\n",
       "    <tr>\n",
       "      <th>8</th>\n",
       "      <td>cinematographer_Michael Chapman</td>\n",
       "      <td>0.18634</td>\n",
       "    </tr>\n",
       "    <tr>\n",
       "      <th>4</th>\n",
       "      <td>log_rating_count</td>\n",
       "      <td>0.13361</td>\n",
       "    </tr>\n",
       "    <tr>\n",
       "      <th>2</th>\n",
       "      <td>rating_count</td>\n",
       "      <td>0.09207</td>\n",
       "    </tr>\n",
       "    <tr>\n",
       "      <th>21</th>\n",
       "      <td>Harry Northup</td>\n",
       "      <td>-0.08823</td>\n",
       "    </tr>\n",
       "    <tr>\n",
       "      <th>26</th>\n",
       "      <td>Ringo Starr</td>\n",
       "      <td>0.02681</td>\n",
       "    </tr>\n",
       "    <tr>\n",
       "      <th>18</th>\n",
       "      <td>Joe Pesci</td>\n",
       "      <td>0.00074</td>\n",
       "    </tr>\n",
       "    <tr>\n",
       "      <th>0</th>\n",
       "      <td>year</td>\n",
       "      <td>0.00000</td>\n",
       "    </tr>\n",
       "    <tr>\n",
       "      <th>28</th>\n",
       "      <td>Bob Dylan</td>\n",
       "      <td>0.00000</td>\n",
       "    </tr>\n",
       "    <tr>\n",
       "      <th>23</th>\n",
       "      <td>Michael Stuhlbarg</td>\n",
       "      <td>0.00000</td>\n",
       "    </tr>\n",
       "    <tr>\n",
       "      <th>24</th>\n",
       "      <td>Charles Scorsese</td>\n",
       "      <td>0.00000</td>\n",
       "    </tr>\n",
       "    <tr>\n",
       "      <th>25</th>\n",
       "      <td>Barry Primus</td>\n",
       "      <td>-0.00000</td>\n",
       "    </tr>\n",
       "    <tr>\n",
       "      <th>27</th>\n",
       "      <td>Frank Vincent</td>\n",
       "      <td>0.00000</td>\n",
       "    </tr>\n",
       "    <tr>\n",
       "      <th>31</th>\n",
       "      <td>Stephen Graham</td>\n",
       "      <td>0.00000</td>\n",
       "    </tr>\n",
       "    <tr>\n",
       "      <th>29</th>\n",
       "      <td>Paul Herman</td>\n",
       "      <td>-0.00000</td>\n",
       "    </tr>\n",
       "    <tr>\n",
       "      <th>30</th>\n",
       "      <td>Murray Moston</td>\n",
       "      <td>-0.00000</td>\n",
       "    </tr>\n",
       "    <tr>\n",
       "      <th>32</th>\n",
       "      <td>Verna Bloom</td>\n",
       "      <td>-0.00000</td>\n",
       "    </tr>\n",
       "    <tr>\n",
       "      <th>33</th>\n",
       "      <td>Alec Baldwin</td>\n",
       "      <td>0.00000</td>\n",
       "    </tr>\n",
       "    <tr>\n",
       "      <th>34</th>\n",
       "      <td>Ray Romano</td>\n",
       "      <td>0.00000</td>\n",
       "    </tr>\n",
       "    <tr>\n",
       "      <th>35</th>\n",
       "      <td>Diahnne Abbott</td>\n",
       "      <td>-0.00000</td>\n",
       "    </tr>\n",
       "    <tr>\n",
       "      <th>36</th>\n",
       "      <td>Barbara Hershey</td>\n",
       "      <td>-0.00000</td>\n",
       "    </tr>\n",
       "  </tbody>\n",
       "</table>\n",
       "</div>"
      ],
      "text/plain": [
       "                            Feature  Coefficient\n",
       "8   cinematographer_Michael Chapman      0.18634\n",
       "4                  log_rating_count      0.13361\n",
       "2                      rating_count      0.09207\n",
       "21                    Harry Northup     -0.08823\n",
       "26                      Ringo Starr      0.02681\n",
       "18                        Joe Pesci      0.00074\n",
       "0                              year      0.00000\n",
       "28                        Bob Dylan      0.00000\n",
       "23                Michael Stuhlbarg      0.00000\n",
       "24                 Charles Scorsese      0.00000\n",
       "25                     Barry Primus     -0.00000\n",
       "27                    Frank Vincent      0.00000\n",
       "31                   Stephen Graham      0.00000\n",
       "29                      Paul Herman     -0.00000\n",
       "30                    Murray Moston     -0.00000\n",
       "32                      Verna Bloom     -0.00000\n",
       "33                     Alec Baldwin      0.00000\n",
       "34                       Ray Romano      0.00000\n",
       "35                   Diahnne Abbott     -0.00000\n",
       "36                  Barbara Hershey     -0.00000"
      ]
     },
     "execution_count": 889,
     "metadata": {},
     "output_type": "execute_result"
    }
   ],
   "source": [
    "coefficients_df  = pd.DataFrame(coefficients, columns=['Feature', 'Coefficient'])\n",
    "\n",
    "coefficients_df['abs_val_of_coefficient'] = coefficients_df.Coefficient.abs()\n",
    "coefficients_df.sort_values(by='abs_val_of_coefficient', ascending=False, inplace=True)\n",
    "\n",
    "coefficients_df.drop(columns='abs_val_of_coefficient', inplace=True)\n",
    "coefficients_df.head(20)"
   ]
  },
  {
   "cell_type": "code",
   "execution_count": 890,
   "metadata": {},
   "outputs": [
    {
     "data": {
      "text/plain": [
       "{'r2_score': <function sklearn.metrics._regression.r2_score(y_true, y_pred, *, sample_weight=None, multioutput='uniform_average')>,\n",
       " 'mean absolute error': 0.3049567045278033,\n",
       " 'coefficients':                               Feature  Coefficient\n",
       " 8     cinematographer_Michael Chapman      0.18634\n",
       " 4                    log_rating_count      0.13361\n",
       " 2                        rating_count      0.09207\n",
       " 21                      Harry Northup     -0.08823\n",
       " 26                        Ringo Starr      0.02681\n",
       " 18                          Joe Pesci      0.00074\n",
       " 0                                year      0.00000\n",
       " 28                          Bob Dylan      0.00000\n",
       " 23                  Michael Stuhlbarg      0.00000\n",
       " 24                   Charles Scorsese      0.00000\n",
       " 25                       Barry Primus     -0.00000\n",
       " 27                      Frank Vincent      0.00000\n",
       " 31                     Stephen Graham      0.00000\n",
       " 29                        Paul Herman     -0.00000\n",
       " 30                      Murray Moston     -0.00000\n",
       " 32                        Verna Bloom     -0.00000\n",
       " 33                       Alec Baldwin      0.00000\n",
       " 34                         Ray Romano      0.00000\n",
       " 35                     Diahnne Abbott     -0.00000\n",
       " 36                    Barbara Hershey     -0.00000\n",
       " 22                        Victor Argo     -0.00000\n",
       " 19                 Catherine Scorsese      0.00000\n",
       " 20                       Eric Clapton      0.00000\n",
       " 1                            duration      0.00000\n",
       " 17                      Harvey Keitel     -0.00000\n",
       " 16                  Leonardo DiCaprio      0.00000\n",
       " 15                    Martin Scorsese      0.00000\n",
       " 14                     Robert De Niro      0.00000\n",
       " 13                          tv_series      0.00000\n",
       " 12                        documentary      0.00000\n",
       " 11     cinematographer_Rodrigo Prieto      0.00000\n",
       " 10  cinematographer_Robert Richardson     -0.00000\n",
       " 9               cinematographer_OTHER     -0.00000\n",
       " 7    cinematographer_Michael Ballhaus      0.00000\n",
       " 6        cinematographer_Fred Schuler     -0.00000\n",
       " 5         cinematographer_Ellen Kuras      0.00000\n",
       " 3                            log_year      0.00000\n",
       " 37                  Patricia Clarkson     -0.00000}"
      ]
     },
     "execution_count": 890,
     "metadata": {},
     "output_type": "execute_result"
    }
   ],
   "source": [
    "Lasso_CV_model_w_rc = {\"r2_score\": r2_score, 'mean absolute error': mean_absolute_error, 'coefficients': coefficients_df}\n",
    "Lasso_CV_model_w_rc "
   ]
  },
  {
   "cell_type": "code",
   "execution_count": 891,
   "metadata": {},
   "outputs": [],
   "source": [
    "LCVM_w_rc_filename = 'Lasso_CV_model_w_rc_' + director +'.pickle'\n",
    "with open(dir_str + LCVM_w_rc_filename, 'wb') as to_write:\n",
    "    pickle.dump(Lasso_CV_model_w_rc, to_write)"
   ]
  },
  {
   "cell_type": "code",
   "execution_count": null,
   "metadata": {},
   "outputs": [],
   "source": []
  },
  {
   "cell_type": "markdown",
   "metadata": {},
   "source": [
    "# C. Lasso and Ridge regression on all features except `rating count`\n",
    "\n"
   ]
  },
  {
   "cell_type": "markdown",
   "metadata": {},
   "source": [
    "### Rerun the model without using rating count"
   ]
  },
  {
   "cell_type": "code",
   "execution_count": 892,
   "metadata": {},
   "outputs": [
    {
     "data": {
      "text/html": [
       "<div>\n",
       "<style scoped>\n",
       "    .dataframe tbody tr th:only-of-type {\n",
       "        vertical-align: middle;\n",
       "    }\n",
       "\n",
       "    .dataframe tbody tr th {\n",
       "        vertical-align: top;\n",
       "    }\n",
       "\n",
       "    .dataframe thead th {\n",
       "        text-align: right;\n",
       "    }\n",
       "</style>\n",
       "<table border=\"1\" class=\"dataframe\">\n",
       "  <thead>\n",
       "    <tr style=\"text-align: right;\">\n",
       "      <th></th>\n",
       "      <th>year</th>\n",
       "      <th>duration</th>\n",
       "      <th>rating_count</th>\n",
       "      <th>log_year</th>\n",
       "      <th>log_rating_count</th>\n",
       "      <th>cinematographer_Ellen Kuras</th>\n",
       "      <th>cinematographer_Fred Schuler</th>\n",
       "      <th>cinematographer_Michael Ballhaus</th>\n",
       "      <th>cinematographer_Michael Chapman</th>\n",
       "      <th>cinematographer_OTHER</th>\n",
       "      <th>...</th>\n",
       "      <th>Bob Dylan</th>\n",
       "      <th>Paul Herman</th>\n",
       "      <th>Murray Moston</th>\n",
       "      <th>Stephen Graham</th>\n",
       "      <th>Verna Bloom</th>\n",
       "      <th>Alec Baldwin</th>\n",
       "      <th>Ray Romano</th>\n",
       "      <th>Diahnne Abbott</th>\n",
       "      <th>Barbara Hershey</th>\n",
       "      <th>Patricia Clarkson</th>\n",
       "    </tr>\n",
       "  </thead>\n",
       "  <tbody>\n",
       "    <tr>\n",
       "      <th>0</th>\n",
       "      <td>1.21174</td>\n",
       "      <td>-1.65265</td>\n",
       "      <td>-0.53753</td>\n",
       "      <td>1.20931</td>\n",
       "      <td>-1.88617</td>\n",
       "      <td>-0.30151</td>\n",
       "      <td>4.12311</td>\n",
       "      <td>-0.44721</td>\n",
       "      <td>-0.40161</td>\n",
       "      <td>-0.84515</td>\n",
       "      <td>...</td>\n",
       "      <td>-0.30151</td>\n",
       "      <td>-0.30151</td>\n",
       "      <td>-0.16903</td>\n",
       "      <td>-0.30151</td>\n",
       "      <td>-0.30151</td>\n",
       "      <td>-0.30151</td>\n",
       "      <td>-0.24254</td>\n",
       "      <td>3.31662</td>\n",
       "      <td>-0.30151</td>\n",
       "      <td>-0.24254</td>\n",
       "    </tr>\n",
       "    <tr>\n",
       "      <th>1</th>\n",
       "      <td>-0.03650</td>\n",
       "      <td>-0.72869</td>\n",
       "      <td>-0.53128</td>\n",
       "      <td>-0.03267</td>\n",
       "      <td>-0.77308</td>\n",
       "      <td>-0.30151</td>\n",
       "      <td>-0.24254</td>\n",
       "      <td>-0.44721</td>\n",
       "      <td>2.48998</td>\n",
       "      <td>-0.84515</td>\n",
       "      <td>...</td>\n",
       "      <td>-0.30151</td>\n",
       "      <td>-0.30151</td>\n",
       "      <td>-0.16903</td>\n",
       "      <td>-0.30151</td>\n",
       "      <td>-0.30151</td>\n",
       "      <td>-0.30151</td>\n",
       "      <td>-0.24254</td>\n",
       "      <td>-0.30151</td>\n",
       "      <td>-0.30151</td>\n",
       "      <td>-0.24254</td>\n",
       "    </tr>\n",
       "    <tr>\n",
       "      <th>2</th>\n",
       "      <td>-0.69347</td>\n",
       "      <td>-0.58376</td>\n",
       "      <td>-0.35598</td>\n",
       "      <td>-0.69110</td>\n",
       "      <td>0.47048</td>\n",
       "      <td>-0.30151</td>\n",
       "      <td>-0.24254</td>\n",
       "      <td>2.23607</td>\n",
       "      <td>-0.40161</td>\n",
       "      <td>-0.84515</td>\n",
       "      <td>...</td>\n",
       "      <td>-0.30151</td>\n",
       "      <td>-0.30151</td>\n",
       "      <td>-0.16903</td>\n",
       "      <td>-0.30151</td>\n",
       "      <td>3.31662</td>\n",
       "      <td>-0.30151</td>\n",
       "      <td>-0.24254</td>\n",
       "      <td>-0.30151</td>\n",
       "      <td>-0.30151</td>\n",
       "      <td>-0.24254</td>\n",
       "    </tr>\n",
       "    <tr>\n",
       "      <th>3</th>\n",
       "      <td>0.42338</td>\n",
       "      <td>0.68441</td>\n",
       "      <td>0.70439</td>\n",
       "      <td>0.42627</td>\n",
       "      <td>1.19033</td>\n",
       "      <td>-0.30151</td>\n",
       "      <td>-0.24254</td>\n",
       "      <td>2.23607</td>\n",
       "      <td>-0.40161</td>\n",
       "      <td>-0.84515</td>\n",
       "      <td>...</td>\n",
       "      <td>-0.30151</td>\n",
       "      <td>-0.30151</td>\n",
       "      <td>-0.16903</td>\n",
       "      <td>3.31662</td>\n",
       "      <td>-0.30151</td>\n",
       "      <td>-0.30151</td>\n",
       "      <td>-0.24254</td>\n",
       "      <td>-0.30151</td>\n",
       "      <td>-0.30151</td>\n",
       "      <td>-0.24254</td>\n",
       "    </tr>\n",
       "    <tr>\n",
       "      <th>4</th>\n",
       "      <td>0.55477</td>\n",
       "      <td>-1.34466</td>\n",
       "      <td>-0.53761</td>\n",
       "      <td>0.55710</td>\n",
       "      <td>-1.99169</td>\n",
       "      <td>-0.30151</td>\n",
       "      <td>-0.24254</td>\n",
       "      <td>-0.44721</td>\n",
       "      <td>-0.40161</td>\n",
       "      <td>1.18322</td>\n",
       "      <td>...</td>\n",
       "      <td>-0.30151</td>\n",
       "      <td>-0.30151</td>\n",
       "      <td>-0.16903</td>\n",
       "      <td>-0.30151</td>\n",
       "      <td>-0.30151</td>\n",
       "      <td>-0.30151</td>\n",
       "      <td>-0.24254</td>\n",
       "      <td>-0.30151</td>\n",
       "      <td>-0.30151</td>\n",
       "      <td>-0.24254</td>\n",
       "    </tr>\n",
       "  </tbody>\n",
       "</table>\n",
       "<p>5 rows × 38 columns</p>\n",
       "</div>"
      ],
      "text/plain": [
       "      year  duration  rating_count  log_year  log_rating_count  \\\n",
       "0  1.21174  -1.65265      -0.53753   1.20931          -1.88617   \n",
       "1 -0.03650  -0.72869      -0.53128  -0.03267          -0.77308   \n",
       "2 -0.69347  -0.58376      -0.35598  -0.69110           0.47048   \n",
       "3  0.42338   0.68441       0.70439   0.42627           1.19033   \n",
       "4  0.55477  -1.34466      -0.53761   0.55710          -1.99169   \n",
       "\n",
       "   cinematographer_Ellen Kuras  cinematographer_Fred Schuler  \\\n",
       "0                     -0.30151                       4.12311   \n",
       "1                     -0.30151                      -0.24254   \n",
       "2                     -0.30151                      -0.24254   \n",
       "3                     -0.30151                      -0.24254   \n",
       "4                     -0.30151                      -0.24254   \n",
       "\n",
       "   cinematographer_Michael Ballhaus  cinematographer_Michael Chapman  \\\n",
       "0                          -0.44721                         -0.40161   \n",
       "1                          -0.44721                          2.48998   \n",
       "2                           2.23607                         -0.40161   \n",
       "3                           2.23607                         -0.40161   \n",
       "4                          -0.44721                         -0.40161   \n",
       "\n",
       "   cinematographer_OTHER  ...  Bob Dylan  Paul Herman  Murray Moston  \\\n",
       "0               -0.84515  ...   -0.30151     -0.30151       -0.16903   \n",
       "1               -0.84515  ...   -0.30151     -0.30151       -0.16903   \n",
       "2               -0.84515  ...   -0.30151     -0.30151       -0.16903   \n",
       "3               -0.84515  ...   -0.30151     -0.30151       -0.16903   \n",
       "4                1.18322  ...   -0.30151     -0.30151       -0.16903   \n",
       "\n",
       "   Stephen Graham  Verna Bloom  Alec Baldwin  Ray Romano  Diahnne Abbott  \\\n",
       "0        -0.30151     -0.30151      -0.30151    -0.24254         3.31662   \n",
       "1        -0.30151     -0.30151      -0.30151    -0.24254        -0.30151   \n",
       "2        -0.30151      3.31662      -0.30151    -0.24254        -0.30151   \n",
       "3         3.31662     -0.30151      -0.30151    -0.24254        -0.30151   \n",
       "4        -0.30151     -0.30151      -0.30151    -0.24254        -0.30151   \n",
       "\n",
       "   Barbara Hershey  Patricia Clarkson  \n",
       "0         -0.30151           -0.24254  \n",
       "1         -0.30151           -0.24254  \n",
       "2         -0.30151           -0.24254  \n",
       "3         -0.30151           -0.24254  \n",
       "4         -0.30151           -0.24254  \n",
       "\n",
       "[5 rows x 38 columns]"
      ]
     },
     "execution_count": 892,
     "metadata": {},
     "output_type": "execute_result"
    }
   ],
   "source": [
    "X_tr = pd.DataFrame(X_tr, columns=X_train.columns )\n",
    "X_tr.head()"
   ]
  },
  {
   "cell_type": "code",
   "execution_count": 893,
   "metadata": {},
   "outputs": [],
   "source": [
    "X_te = pd.DataFrame(X_te, columns=X_train.columns )"
   ]
  },
  {
   "cell_type": "code",
   "execution_count": 894,
   "metadata": {},
   "outputs": [],
   "source": [
    "X_tr_no_rc  = X_tr.drop(columns = ['rating_count', 'log_rating_count'])"
   ]
  },
  {
   "cell_type": "code",
   "execution_count": 895,
   "metadata": {},
   "outputs": [],
   "source": [
    "X_te_no_rc = X_te.drop(columns = ['rating_count', 'log_rating_count'])"
   ]
  },
  {
   "cell_type": "code",
   "execution_count": 896,
   "metadata": {},
   "outputs": [
    {
     "name": "stderr",
     "output_type": "stream",
     "text": [
      "/opt/anaconda3/envs/metis/lib/python3.8/site-packages/sklearn/linear_model/_coordinate_descent.py:530: ConvergenceWarning: Objective did not converge. You might want to increase the number of iterations. Duality gap: 0.0018432891412731855, tolerance: 0.0017886785714285708\n",
      "  model = cd_fast.enet_coordinate_descent(\n",
      "/opt/anaconda3/envs/metis/lib/python3.8/site-packages/sklearn/linear_model/_coordinate_descent.py:530: ConvergenceWarning: Objective did not converge. You might want to increase the number of iterations. Duality gap: 0.001955083763718779, tolerance: 0.0017886785714285708\n",
      "  model = cd_fast.enet_coordinate_descent(\n",
      "/opt/anaconda3/envs/metis/lib/python3.8/site-packages/sklearn/linear_model/_coordinate_descent.py:530: ConvergenceWarning: Objective did not converge. You might want to increase the number of iterations. Duality gap: 0.0020471073387704486, tolerance: 0.0017886785714285708\n",
      "  model = cd_fast.enet_coordinate_descent(\n"
     ]
    },
    {
     "data": {
      "text/plain": [
       "0.1762914118095948"
      ]
     },
     "execution_count": 896,
     "metadata": {},
     "output_type": "execute_result"
    }
   ],
   "source": [
    "# Run the cross validation, find the best alpha, refit the model on all the data with that alpha\n",
    "\n",
    "alphavec = 10**np.linspace(-2,2,200)\n",
    "\n",
    "lasso_model = LassoCV(alphas = alphavec, cv=5)\n",
    "lasso_model.fit(X_tr_no_rc, y_train_val)\n",
    "\n",
    "# This is the best alpha value it found \n",
    "lasso_model.alpha_"
   ]
  },
  {
   "cell_type": "code",
   "execution_count": 897,
   "metadata": {},
   "outputs": [],
   "source": [
    "# These are the (standardized) coefficients found\n",
    "# when it refit using that best alpha\n",
    "coefficients = list(zip(X_tr_no_rc.columns, lasso_model.coef_))\n",
    "coefficients_df = pd.DataFrame(coefficients, columns=['Feature', 'Coefficient']).sort_values(by='Coefficient', ascending=False)"
   ]
  },
  {
   "cell_type": "code",
   "execution_count": 898,
   "metadata": {},
   "outputs": [],
   "source": [
    "# Make predictions on the test set using the new model\n",
    "test_set_pred = lasso_model.predict(X_te_no_rc)"
   ]
  },
  {
   "cell_type": "code",
   "execution_count": 899,
   "metadata": {},
   "outputs": [
    {
     "data": {
      "text/plain": [
       "0.35055032272261766"
      ]
     },
     "execution_count": 899,
     "metadata": {},
     "output_type": "execute_result"
    }
   ],
   "source": [
    "# Find the MAE and R^2 on the test set using this model\n",
    "mean_absolute_error = mae(y_test, test_set_pred)\n",
    "mean_absolute_error"
   ]
  },
  {
   "cell_type": "code",
   "execution_count": 900,
   "metadata": {},
   "outputs": [
    {
     "data": {
      "text/plain": [
       "-0.06870923113594674"
      ]
     },
     "execution_count": 900,
     "metadata": {},
     "output_type": "execute_result"
    }
   ],
   "source": [
    "r2_score_ = r2_score(y_test, test_set_pred)\n",
    "r2_score_ \n"
   ]
  },
  {
   "cell_type": "code",
   "execution_count": 901,
   "metadata": {},
   "outputs": [
    {
     "data": {
      "text/plain": [
       "[<matplotlib.lines.Line2D at 0x7f95f8e5c9d0>]"
      ]
     },
     "execution_count": 901,
     "metadata": {},
     "output_type": "execute_result"
    },
    {
     "data": {
      "image/png": "[encoded data removed]",
      "text/plain": [
       "<Figure size 432x288 with 1 Axes>"
      ]
     },
     "metadata": {
      "needs_background": "light"
     },
     "output_type": "display_data"
    }
   ],
   "source": [
    "plt.scatter( test_set_pred, y_test)\n",
    "plt.plot( y_test, y_test, c='k')\n",
    "#plt.plot( x_te_no_rc, y_test, c='k')"
   ]
  },
  {
   "cell_type": "code",
   "execution_count": 902,
   "metadata": {},
   "outputs": [
    {
     "data": {
      "text/plain": [
       "<matplotlib.collections.PathCollection at 0x7f95f8eddbb0>"
      ]
     },
     "execution_count": 902,
     "metadata": {},
     "output_type": "execute_result"
    },
    {
     "data": {
      "image/png": "[encoded data removed]",
      "text/plain": [
       "<Figure size 432x288 with 1 Axes>"
      ]
     },
     "metadata": {
      "needs_background": "light"
     },
     "output_type": "display_data"
    }
   ],
   "source": [
    "residual = y_test-test_set_pred\n",
    "plt.scatter( test_set_pred, residual)\n",
    "\n"
   ]
  },
  {
   "cell_type": "code",
   "execution_count": 903,
   "metadata": {},
   "outputs": [
    {
     "data": {
      "text/html": [
       "<div>\n",
       "<style scoped>\n",
       "    .dataframe tbody tr th:only-of-type {\n",
       "        vertical-align: middle;\n",
       "    }\n",
       "\n",
       "    .dataframe tbody tr th {\n",
       "        vertical-align: top;\n",
       "    }\n",
       "\n",
       "    .dataframe thead th {\n",
       "        text-align: right;\n",
       "    }\n",
       "</style>\n",
       "<table border=\"1\" class=\"dataframe\">\n",
       "  <thead>\n",
       "    <tr style=\"text-align: right;\">\n",
       "      <th></th>\n",
       "      <th>Feature</th>\n",
       "      <th>Coefficient</th>\n",
       "    </tr>\n",
       "  </thead>\n",
       "  <tbody>\n",
       "    <tr>\n",
       "      <th>6</th>\n",
       "      <td>cinematographer_Michael Chapman</td>\n",
       "      <td>0.16152</td>\n",
       "    </tr>\n",
       "    <tr>\n",
       "      <th>16</th>\n",
       "      <td>Joe Pesci</td>\n",
       "      <td>0.04132</td>\n",
       "    </tr>\n",
       "    <tr>\n",
       "      <th>0</th>\n",
       "      <td>year</td>\n",
       "      <td>0.00000</td>\n",
       "    </tr>\n",
       "    <tr>\n",
       "      <th>27</th>\n",
       "      <td>Paul Herman</td>\n",
       "      <td>-0.00000</td>\n",
       "    </tr>\n",
       "    <tr>\n",
       "      <th>22</th>\n",
       "      <td>Charles Scorsese</td>\n",
       "      <td>0.00000</td>\n",
       "    </tr>\n",
       "  </tbody>\n",
       "</table>\n",
       "</div>"
      ],
      "text/plain": [
       "                            Feature  Coefficient\n",
       "6   cinematographer_Michael Chapman      0.16152\n",
       "16                        Joe Pesci      0.04132\n",
       "0                              year      0.00000\n",
       "27                      Paul Herman     -0.00000\n",
       "22                 Charles Scorsese      0.00000"
      ]
     },
     "execution_count": 903,
     "metadata": {},
     "output_type": "execute_result"
    }
   ],
   "source": [
    "coefficients_df.head()"
   ]
  },
  {
   "cell_type": "code",
   "execution_count": 904,
   "metadata": {},
   "outputs": [
    {
     "data": {
      "text/plain": [
       "{'r2_score': <function sklearn.metrics._regression.r2_score(y_true, y_pred, *, sample_weight=None, multioutput='uniform_average')>,\n",
       " 'mean absolute error': 0.35055032272261766,\n",
       " 'coefficients':                               Feature  Coefficient\n",
       " 6     cinematographer_Michael Chapman      0.16152\n",
       " 16                          Joe Pesci      0.04132\n",
       " 0                                year      0.00000\n",
       " 27                        Paul Herman     -0.00000\n",
       " 22                   Charles Scorsese      0.00000\n",
       " 23                       Barry Primus     -0.00000\n",
       " 24                        Ringo Starr      0.00000\n",
       " 25                      Frank Vincent      0.00000\n",
       " 26                          Bob Dylan      0.00000\n",
       " 28                      Murray Moston     -0.00000\n",
       " 20                        Victor Argo     -0.00000\n",
       " 29                     Stephen Graham      0.00000\n",
       " 30                        Verna Bloom     -0.00000\n",
       " 31                       Alec Baldwin      0.00000\n",
       " 32                         Ray Romano      0.00000\n",
       " 33                     Diahnne Abbott     -0.00000\n",
       " 34                    Barbara Hershey     -0.00000\n",
       " 21                  Michael Stuhlbarg      0.00000\n",
       " 18                       Eric Clapton      0.00000\n",
       " 10                        documentary     -0.00000\n",
       " 1                            duration      0.00000\n",
       " 2                            log_year      0.00000\n",
       " 3         cinematographer_Ellen Kuras     -0.00000\n",
       " 4        cinematographer_Fred Schuler     -0.00000\n",
       " 5    cinematographer_Michael Ballhaus      0.00000\n",
       " 8   cinematographer_Robert Richardson     -0.00000\n",
       " 9      cinematographer_Rodrigo Prieto      0.00000\n",
       " 35                  Patricia Clarkson     -0.00000\n",
       " 11                          tv_series     -0.00000\n",
       " 12                     Robert De Niro      0.00000\n",
       " 13                    Martin Scorsese     -0.00000\n",
       " 14                  Leonardo DiCaprio      0.00000\n",
       " 15                      Harvey Keitel     -0.00000\n",
       " 17                 Catherine Scorsese      0.00000\n",
       " 7               cinematographer_OTHER     -0.06812\n",
       " 19                      Harry Northup     -0.07391}"
      ]
     },
     "execution_count": 904,
     "metadata": {},
     "output_type": "execute_result"
    }
   ],
   "source": [
    "Lasso_CV_model_no_rc = {\"r2_score\": r2_score, 'mean absolute error': mean_absolute_error, 'coefficients': coefficients_df}\n",
    "Lasso_CV_model_no_rc \n"
   ]
  },
  {
   "cell_type": "code",
   "execution_count": null,
   "metadata": {},
   "outputs": [],
   "source": []
  },
  {
   "cell_type": "code",
   "execution_count": 905,
   "metadata": {},
   "outputs": [],
   "source": [
    "LCVM_no_rc_filename = 'Lasso_CV_model_no_rc_' + director +'.pickle'\n",
    "with open(dir_str + LCVM_no_rc_filename, 'wb') as to_write:\n",
    "    pickle.dump(Lasso_CV_model_no_rc, to_write)"
   ]
  },
  {
   "cell_type": "code",
   "execution_count": null,
   "metadata": {},
   "outputs": [],
   "source": []
  },
  {
   "cell_type": "code",
   "execution_count": 906,
   "metadata": {},
   "outputs": [
    {
     "name": "stdout",
     "output_type": "stream",
     "text": [
      "Computing regularization path using the LARS ...\n"
     ]
    }
   ],
   "source": [
    "from sklearn.linear_model import lars_path\n",
    "print(\"Computing regularization path using the LARS ...\")\n",
    "alphas, _, coefs = lars_path(np.array(X_tr_no_rc), y_train_val.values, method='lasso')"
   ]
  },
  {
   "cell_type": "code",
   "execution_count": 907,
   "metadata": {},
   "outputs": [
    {
     "data": {
      "image/png": "[encoded data removed]",
      "text/plain": [
       "<Figure size 720x720 with 1 Axes>"
      ]
     },
     "metadata": {
      "needs_background": "light"
     },
     "output_type": "display_data"
    }
   ],
   "source": [
    "xx = np.sum(np.abs(coefs.T), axis=1)\n",
    "xx /= xx[-1]\n",
    "\n",
    "plt.figure(figsize=(10,10))\n",
    "plt.plot(xx, coefs.T)\n",
    "ymin, ymax = plt.ylim()\n",
    "plt.vlines(xx, ymin, ymax, linestyle='dashed')\n",
    "plt.xlabel('|coef| / max|coef|')\n",
    "plt.ylabel('Coefficients')\n",
    "plt.title('LASSO Path')\n",
    "plt.axis('tight')\n",
    "plt.legend(X_tr_no_rc.columns)\n",
    "plt.show()"
   ]
  },
  {
   "cell_type": "markdown",
   "metadata": {},
   "source": [
    "### Ridge regression"
   ]
  },
  {
   "cell_type": "code",
   "execution_count": null,
   "metadata": {},
   "outputs": [],
   "source": []
  },
  {
   "cell_type": "code",
   "execution_count": 908,
   "metadata": {},
   "outputs": [
    {
     "data": {
      "text/plain": [
       "100.0"
      ]
     },
     "execution_count": 908,
     "metadata": {},
     "output_type": "execute_result"
    }
   ],
   "source": [
    "# Run the cross validation, find the best alpha, refit the model on all the data with that alpha\n",
    "\n",
    "alphavec = 10**np.linspace(-2,2,200)\n",
    "\n",
    "ridge_model = RidgeCV(alphas = alphavec, cv=5)\n",
    "ridge_model.fit(X_tr_no_rc, y_train_val)\n",
    "\n",
    "# This is the best alpha value it found \n",
    "ridge_model.alpha_"
   ]
  },
  {
   "cell_type": "code",
   "execution_count": 909,
   "metadata": {},
   "outputs": [
    {
     "data": {
      "text/html": [
       "<div>\n",
       "<style scoped>\n",
       "    .dataframe tbody tr th:only-of-type {\n",
       "        vertical-align: middle;\n",
       "    }\n",
       "\n",
       "    .dataframe tbody tr th {\n",
       "        vertical-align: top;\n",
       "    }\n",
       "\n",
       "    .dataframe thead th {\n",
       "        text-align: right;\n",
       "    }\n",
       "</style>\n",
       "<table border=\"1\" class=\"dataframe\">\n",
       "  <thead>\n",
       "    <tr style=\"text-align: right;\">\n",
       "      <th></th>\n",
       "      <th>Feature</th>\n",
       "      <th>Coefficient</th>\n",
       "    </tr>\n",
       "  </thead>\n",
       "  <tbody>\n",
       "    <tr>\n",
       "      <th>6</th>\n",
       "      <td>cinematographer_Michael Chapman</td>\n",
       "      <td>0.08736</td>\n",
       "    </tr>\n",
       "    <tr>\n",
       "      <th>7</th>\n",
       "      <td>cinematographer_OTHER</td>\n",
       "      <td>-0.06220</td>\n",
       "    </tr>\n",
       "    <tr>\n",
       "      <th>19</th>\n",
       "      <td>Harry Northup</td>\n",
       "      <td>-0.05431</td>\n",
       "    </tr>\n",
       "    <tr>\n",
       "      <th>24</th>\n",
       "      <td>Ringo Starr</td>\n",
       "      <td>0.04503</td>\n",
       "    </tr>\n",
       "    <tr>\n",
       "      <th>22</th>\n",
       "      <td>Charles Scorsese</td>\n",
       "      <td>0.03801</td>\n",
       "    </tr>\n",
       "    <tr>\n",
       "      <th>16</th>\n",
       "      <td>Joe Pesci</td>\n",
       "      <td>0.03593</td>\n",
       "    </tr>\n",
       "    <tr>\n",
       "      <th>25</th>\n",
       "      <td>Frank Vincent</td>\n",
       "      <td>0.03450</td>\n",
       "    </tr>\n",
       "    <tr>\n",
       "      <th>31</th>\n",
       "      <td>Alec Baldwin</td>\n",
       "      <td>0.03334</td>\n",
       "    </tr>\n",
       "    <tr>\n",
       "      <th>23</th>\n",
       "      <td>Barry Primus</td>\n",
       "      <td>-0.03232</td>\n",
       "    </tr>\n",
       "    <tr>\n",
       "      <th>8</th>\n",
       "      <td>cinematographer_Robert Richardson</td>\n",
       "      <td>-0.03066</td>\n",
       "    </tr>\n",
       "    <tr>\n",
       "      <th>29</th>\n",
       "      <td>Stephen Graham</td>\n",
       "      <td>0.02957</td>\n",
       "    </tr>\n",
       "    <tr>\n",
       "      <th>35</th>\n",
       "      <td>Patricia Clarkson</td>\n",
       "      <td>-0.02916</td>\n",
       "    </tr>\n",
       "    <tr>\n",
       "      <th>5</th>\n",
       "      <td>cinematographer_Michael Ballhaus</td>\n",
       "      <td>0.02791</td>\n",
       "    </tr>\n",
       "    <tr>\n",
       "      <th>2</th>\n",
       "      <td>log_year</td>\n",
       "      <td>0.02613</td>\n",
       "    </tr>\n",
       "    <tr>\n",
       "      <th>0</th>\n",
       "      <td>year</td>\n",
       "      <td>0.02606</td>\n",
       "    </tr>\n",
       "    <tr>\n",
       "      <th>14</th>\n",
       "      <td>Leonardo DiCaprio</td>\n",
       "      <td>0.02601</td>\n",
       "    </tr>\n",
       "    <tr>\n",
       "      <th>26</th>\n",
       "      <td>Bob Dylan</td>\n",
       "      <td>0.02577</td>\n",
       "    </tr>\n",
       "    <tr>\n",
       "      <th>4</th>\n",
       "      <td>cinematographer_Fred Schuler</td>\n",
       "      <td>-0.02491</td>\n",
       "    </tr>\n",
       "    <tr>\n",
       "      <th>1</th>\n",
       "      <td>duration</td>\n",
       "      <td>0.02395</td>\n",
       "    </tr>\n",
       "    <tr>\n",
       "      <th>27</th>\n",
       "      <td>Paul Herman</td>\n",
       "      <td>-0.02268</td>\n",
       "    </tr>\n",
       "    <tr>\n",
       "      <th>28</th>\n",
       "      <td>Murray Moston</td>\n",
       "      <td>-0.02257</td>\n",
       "    </tr>\n",
       "    <tr>\n",
       "      <th>9</th>\n",
       "      <td>cinematographer_Rodrigo Prieto</td>\n",
       "      <td>0.02192</td>\n",
       "    </tr>\n",
       "    <tr>\n",
       "      <th>17</th>\n",
       "      <td>Catherine Scorsese</td>\n",
       "      <td>0.02144</td>\n",
       "    </tr>\n",
       "    <tr>\n",
       "      <th>12</th>\n",
       "      <td>Robert De Niro</td>\n",
       "      <td>0.01716</td>\n",
       "    </tr>\n",
       "    <tr>\n",
       "      <th>15</th>\n",
       "      <td>Harvey Keitel</td>\n",
       "      <td>-0.01541</td>\n",
       "    </tr>\n",
       "    <tr>\n",
       "      <th>32</th>\n",
       "      <td>Ray Romano</td>\n",
       "      <td>0.01480</td>\n",
       "    </tr>\n",
       "    <tr>\n",
       "      <th>34</th>\n",
       "      <td>Barbara Hershey</td>\n",
       "      <td>-0.01246</td>\n",
       "    </tr>\n",
       "    <tr>\n",
       "      <th>11</th>\n",
       "      <td>tv_series</td>\n",
       "      <td>-0.01219</td>\n",
       "    </tr>\n",
       "    <tr>\n",
       "      <th>30</th>\n",
       "      <td>Verna Bloom</td>\n",
       "      <td>-0.00805</td>\n",
       "    </tr>\n",
       "    <tr>\n",
       "      <th>10</th>\n",
       "      <td>documentary</td>\n",
       "      <td>-0.00498</td>\n",
       "    </tr>\n",
       "    <tr>\n",
       "      <th>21</th>\n",
       "      <td>Michael Stuhlbarg</td>\n",
       "      <td>0.00340</td>\n",
       "    </tr>\n",
       "    <tr>\n",
       "      <th>3</th>\n",
       "      <td>cinematographer_Ellen Kuras</td>\n",
       "      <td>-0.00285</td>\n",
       "    </tr>\n",
       "    <tr>\n",
       "      <th>33</th>\n",
       "      <td>Diahnne Abbott</td>\n",
       "      <td>0.00167</td>\n",
       "    </tr>\n",
       "    <tr>\n",
       "      <th>20</th>\n",
       "      <td>Victor Argo</td>\n",
       "      <td>-0.00146</td>\n",
       "    </tr>\n",
       "    <tr>\n",
       "      <th>18</th>\n",
       "      <td>Eric Clapton</td>\n",
       "      <td>-0.00113</td>\n",
       "    </tr>\n",
       "    <tr>\n",
       "      <th>13</th>\n",
       "      <td>Martin Scorsese</td>\n",
       "      <td>-0.00081</td>\n",
       "    </tr>\n",
       "  </tbody>\n",
       "</table>\n",
       "</div>"
      ],
      "text/plain": [
       "                              Feature  Coefficient\n",
       "6     cinematographer_Michael Chapman      0.08736\n",
       "7               cinematographer_OTHER     -0.06220\n",
       "19                      Harry Northup     -0.05431\n",
       "24                        Ringo Starr      0.04503\n",
       "22                   Charles Scorsese      0.03801\n",
       "16                          Joe Pesci      0.03593\n",
       "25                      Frank Vincent      0.03450\n",
       "31                       Alec Baldwin      0.03334\n",
       "23                       Barry Primus     -0.03232\n",
       "8   cinematographer_Robert Richardson     -0.03066\n",
       "29                     Stephen Graham      0.02957\n",
       "35                  Patricia Clarkson     -0.02916\n",
       "5    cinematographer_Michael Ballhaus      0.02791\n",
       "2                            log_year      0.02613\n",
       "0                                year      0.02606\n",
       "14                  Leonardo DiCaprio      0.02601\n",
       "26                          Bob Dylan      0.02577\n",
       "4        cinematographer_Fred Schuler     -0.02491\n",
       "1                            duration      0.02395\n",
       "27                        Paul Herman     -0.02268\n",
       "28                      Murray Moston     -0.02257\n",
       "9      cinematographer_Rodrigo Prieto      0.02192\n",
       "17                 Catherine Scorsese      0.02144\n",
       "12                     Robert De Niro      0.01716\n",
       "15                      Harvey Keitel     -0.01541\n",
       "32                         Ray Romano      0.01480\n",
       "34                    Barbara Hershey     -0.01246\n",
       "11                          tv_series     -0.01219\n",
       "30                        Verna Bloom     -0.00805\n",
       "10                        documentary     -0.00498\n",
       "21                  Michael Stuhlbarg      0.00340\n",
       "3         cinematographer_Ellen Kuras     -0.00285\n",
       "33                     Diahnne Abbott      0.00167\n",
       "20                        Victor Argo     -0.00146\n",
       "18                       Eric Clapton     -0.00113\n",
       "13                    Martin Scorsese     -0.00081"
      ]
     },
     "execution_count": 909,
     "metadata": {},
     "output_type": "execute_result"
    }
   ],
   "source": [
    "# These are the (standardized) coefficients found\n",
    "# when it refit using that best alpha\n",
    "coefficients = list(zip(X_tr_no_rc.columns, ridge_model.coef_))\n",
    "\n",
    "coefficients_df  = pd.DataFrame(coefficients, columns=['Feature', 'Coefficient'])\n",
    "\n",
    "coefficients_df['abs_val_of_coefficient'] = coefficients_df.Coefficient.abs()\n",
    "coefficients_df.sort_values(by='abs_val_of_coefficient', ascending=False, inplace=True)\n",
    "\n",
    "coefficients_df.drop(columns='abs_val_of_coefficient', inplace=True)\n",
    "coefficients_df"
   ]
  },
  {
   "cell_type": "code",
   "execution_count": 910,
   "metadata": {},
   "outputs": [],
   "source": [
    "# Make predictions on the test set using the new model\n",
    "test_set_pred = ridge_model.predict(X_te_no_rc)"
   ]
  },
  {
   "cell_type": "code",
   "execution_count": 911,
   "metadata": {},
   "outputs": [
    {
     "data": {
      "text/plain": [
       "0.37086935811045657"
      ]
     },
     "execution_count": 911,
     "metadata": {},
     "output_type": "execute_result"
    }
   ],
   "source": [
    "# Find the MAE and R^2 on the test set using this model\n",
    "mean_absolute_error = mae(y_test, test_set_pred)\n",
    "mean_absolute_error"
   ]
  },
  {
   "cell_type": "code",
   "execution_count": 912,
   "metadata": {},
   "outputs": [
    {
     "data": {
      "text/plain": [
       "-0.052711465603213936"
      ]
     },
     "execution_count": 912,
     "metadata": {},
     "output_type": "execute_result"
    }
   ],
   "source": [
    "r2_score_ = r2_score(y_test, test_set_pred)\n",
    "r2_score_ \n"
   ]
  },
  {
   "cell_type": "code",
   "execution_count": 913,
   "metadata": {},
   "outputs": [
    {
     "data": {
      "text/plain": [
       "[<matplotlib.lines.Line2D at 0x7f95c84773a0>]"
      ]
     },
     "execution_count": 913,
     "metadata": {},
     "output_type": "execute_result"
    },
    {
     "data": {
      "image/png": "[encoded data removed]",
      "text/plain": [
       "<Figure size 432x288 with 1 Axes>"
      ]
     },
     "metadata": {
      "needs_background": "light"
     },
     "output_type": "display_data"
    }
   ],
   "source": [
    "plt.scatter( test_set_pred, y_test)\n",
    "plt.plot( y_test, y_test, c='k')"
   ]
  },
  {
   "cell_type": "code",
   "execution_count": 914,
   "metadata": {},
   "outputs": [
    {
     "data": {
      "text/plain": [
       "<matplotlib.collections.PathCollection at 0x7f963861cf10>"
      ]
     },
     "execution_count": 914,
     "metadata": {},
     "output_type": "execute_result"
    },
    {
     "data": {
      "image/png": "[encoded data removed]",
      "text/plain": [
       "<Figure size 432x288 with 1 Axes>"
      ]
     },
     "metadata": {
      "needs_background": "light"
     },
     "output_type": "display_data"
    }
   ],
   "source": [
    "residual = y_test-test_set_pred\n",
    "plt.scatter( test_set_pred, residual)\n"
   ]
  },
  {
   "cell_type": "code",
   "execution_count": 915,
   "metadata": {},
   "outputs": [
    {
     "data": {
      "text/html": [
       "<div>\n",
       "<style scoped>\n",
       "    .dataframe tbody tr th:only-of-type {\n",
       "        vertical-align: middle;\n",
       "    }\n",
       "\n",
       "    .dataframe tbody tr th {\n",
       "        vertical-align: top;\n",
       "    }\n",
       "\n",
       "    .dataframe thead th {\n",
       "        text-align: right;\n",
       "    }\n",
       "</style>\n",
       "<table border=\"1\" class=\"dataframe\">\n",
       "  <thead>\n",
       "    <tr style=\"text-align: right;\">\n",
       "      <th></th>\n",
       "      <th>Feature</th>\n",
       "      <th>Coefficient</th>\n",
       "    </tr>\n",
       "  </thead>\n",
       "  <tbody>\n",
       "    <tr>\n",
       "      <th>6</th>\n",
       "      <td>cinematographer_Michael Chapman</td>\n",
       "      <td>0.08736</td>\n",
       "    </tr>\n",
       "    <tr>\n",
       "      <th>7</th>\n",
       "      <td>cinematographer_OTHER</td>\n",
       "      <td>-0.06220</td>\n",
       "    </tr>\n",
       "    <tr>\n",
       "      <th>19</th>\n",
       "      <td>Harry Northup</td>\n",
       "      <td>-0.05431</td>\n",
       "    </tr>\n",
       "    <tr>\n",
       "      <th>24</th>\n",
       "      <td>Ringo Starr</td>\n",
       "      <td>0.04503</td>\n",
       "    </tr>\n",
       "    <tr>\n",
       "      <th>22</th>\n",
       "      <td>Charles Scorsese</td>\n",
       "      <td>0.03801</td>\n",
       "    </tr>\n",
       "  </tbody>\n",
       "</table>\n",
       "</div>"
      ],
      "text/plain": [
       "                            Feature  Coefficient\n",
       "6   cinematographer_Michael Chapman      0.08736\n",
       "7             cinematographer_OTHER     -0.06220\n",
       "19                    Harry Northup     -0.05431\n",
       "24                      Ringo Starr      0.04503\n",
       "22                 Charles Scorsese      0.03801"
      ]
     },
     "execution_count": 915,
     "metadata": {},
     "output_type": "execute_result"
    }
   ],
   "source": [
    "coefficients_df.head()"
   ]
  },
  {
   "cell_type": "code",
   "execution_count": 916,
   "metadata": {},
   "outputs": [
    {
     "data": {
      "text/plain": [
       "{'r2_score': <function sklearn.metrics._regression.r2_score(y_true, y_pred, *, sample_weight=None, multioutput='uniform_average')>,\n",
       " 'mean absolute error': 0.37086935811045657,\n",
       " 'coefficients':                               Feature  Coefficient\n",
       " 6     cinematographer_Michael Chapman      0.08736\n",
       " 7               cinematographer_OTHER     -0.06220\n",
       " 19                      Harry Northup     -0.05431\n",
       " 24                        Ringo Starr      0.04503\n",
       " 22                   Charles Scorsese      0.03801\n",
       " 16                          Joe Pesci      0.03593\n",
       " 25                      Frank Vincent      0.03450\n",
       " 31                       Alec Baldwin      0.03334\n",
       " 23                       Barry Primus     -0.03232\n",
       " 8   cinematographer_Robert Richardson     -0.03066\n",
       " 29                     Stephen Graham      0.02957\n",
       " 35                  Patricia Clarkson     -0.02916\n",
       " 5    cinematographer_Michael Ballhaus      0.02791\n",
       " 2                            log_year      0.02613\n",
       " 0                                year      0.02606\n",
       " 14                  Leonardo DiCaprio      0.02601\n",
       " 26                          Bob Dylan      0.02577\n",
       " 4        cinematographer_Fred Schuler     -0.02491\n",
       " 1                            duration      0.02395\n",
       " 27                        Paul Herman     -0.02268\n",
       " 28                      Murray Moston     -0.02257\n",
       " 9      cinematographer_Rodrigo Prieto      0.02192\n",
       " 17                 Catherine Scorsese      0.02144\n",
       " 12                     Robert De Niro      0.01716\n",
       " 15                      Harvey Keitel     -0.01541\n",
       " 32                         Ray Romano      0.01480\n",
       " 34                    Barbara Hershey     -0.01246\n",
       " 11                          tv_series     -0.01219\n",
       " 30                        Verna Bloom     -0.00805\n",
       " 10                        documentary     -0.00498\n",
       " 21                  Michael Stuhlbarg      0.00340\n",
       " 3         cinematographer_Ellen Kuras     -0.00285\n",
       " 33                     Diahnne Abbott      0.00167\n",
       " 20                        Victor Argo     -0.00146\n",
       " 18                       Eric Clapton     -0.00113\n",
       " 13                    Martin Scorsese     -0.00081}"
      ]
     },
     "execution_count": 916,
     "metadata": {},
     "output_type": "execute_result"
    }
   ],
   "source": [
    "Ridge_CV_model_no_rc = {\"r2_score\": r2_score, 'mean absolute error': mean_absolute_error, 'coefficients': coefficients_df}\n",
    "Ridge_CV_model_no_rc \n"
   ]
  },
  {
   "cell_type": "code",
   "execution_count": null,
   "metadata": {},
   "outputs": [],
   "source": []
  },
  {
   "cell_type": "code",
   "execution_count": 917,
   "metadata": {},
   "outputs": [],
   "source": [
    "RCVM_no_rc_filename = 'Ridge_CV_model_no_rc_' + director +'.pickle'\n",
    "with open(dir_str + RCVM_no_rc_filename, 'wb') as to_write:\n",
    "    pickle.dump(Ridge_CV_model_no_rc, to_write)"
   ]
  },
  {
   "cell_type": "code",
   "execution_count": null,
   "metadata": {},
   "outputs": [],
   "source": []
  },
  {
   "cell_type": "code",
   "execution_count": null,
   "metadata": {},
   "outputs": [],
   "source": []
  },
  {
   "cell_type": "code",
   "execution_count": null,
   "metadata": {},
   "outputs": [],
   "source": []
  },
  {
   "cell_type": "markdown",
   "metadata": {},
   "source": [
    "# D. Lasso and Ridge regression on all features except `rating count` but with also `budget` added as a feature"
   ]
  },
  {
   "cell_type": "markdown",
   "metadata": {},
   "source": [
    "#### Re-analyzed including `budget` as a feature \n",
    "This entails a fewer rows of data, since many of the films don't have budget info available on IMDB"
   ]
  },
  {
   "cell_type": "code",
   "execution_count": 918,
   "metadata": {},
   "outputs": [],
   "source": [
    "films_to_analyze_financial_df = films_to_analyze[(films_to_analyze['budget'] > 0) & (films_to_analyze['worldwide_gross'] > 0)]"
   ]
  },
  {
   "cell_type": "code",
   "execution_count": 919,
   "metadata": {},
   "outputs": [],
   "source": [
    "analysis_columns = ['title', 'year', 'duration', 'budget', 'cinematographer', 'documentary', 'tv_series','rating', *prevalent_actor_columns]"
   ]
  },
  {
   "cell_type": "code",
   "execution_count": 920,
   "metadata": {},
   "outputs": [],
   "source": [
    "analysis_columns = ['title', 'year', 'duration', 'budget', 'cinematographer', 'documentary', 'tv_series','rating', *prevalent_actor_columns]"
   ]
  },
  {
   "cell_type": "code",
   "execution_count": 921,
   "metadata": {},
   "outputs": [
    {
     "data": {
      "text/plain": [
       "['title',\n",
       " 'year',\n",
       " 'duration',\n",
       " 'budget',\n",
       " 'cinematographer',\n",
       " 'documentary',\n",
       " 'tv_series',\n",
       " 'rating',\n",
       " 'Robert De Niro',\n",
       " 'Martin Scorsese',\n",
       " 'Leonardo DiCaprio',\n",
       " 'Harvey Keitel',\n",
       " 'Joe Pesci',\n",
       " 'Catherine Scorsese',\n",
       " 'Eric Clapton',\n",
       " 'Harry Northup',\n",
       " 'Victor Argo',\n",
       " 'Michael Stuhlbarg',\n",
       " 'Charles Scorsese',\n",
       " 'Barry Primus',\n",
       " 'Ringo Starr',\n",
       " 'Frank Vincent',\n",
       " 'Bob Dylan',\n",
       " 'Paul Herman',\n",
       " 'Murray Moston',\n",
       " 'Stephen Graham',\n",
       " 'Verna Bloom',\n",
       " 'Alec Baldwin',\n",
       " 'Ray Romano',\n",
       " 'Diahnne Abbott',\n",
       " 'Barbara Hershey',\n",
       " 'Patricia Clarkson']"
      ]
     },
     "execution_count": 921,
     "metadata": {},
     "output_type": "execute_result"
    }
   ],
   "source": [
    "analysis_columns "
   ]
  },
  {
   "cell_type": "code",
   "execution_count": 922,
   "metadata": {},
   "outputs": [],
   "source": [
    "films_and_features_to_analyze_df = films_to_analyze_financial_df[analysis_columns]"
   ]
  },
  {
   "cell_type": "code",
   "execution_count": 923,
   "metadata": {},
   "outputs": [
    {
     "data": {
      "text/plain": [
       "1"
      ]
     },
     "execution_count": 923,
     "metadata": {},
     "output_type": "execute_result"
    }
   ],
   "source": [
    "cinematographer_include_threshold = films_and_features_to_analyze_df['cinematographer'].value_counts().min()\n",
    "cinematographer_include_threshold"
   ]
  },
  {
   "cell_type": "code",
   "execution_count": 924,
   "metadata": {},
   "outputs": [
    {
     "name": "stderr",
     "output_type": "stream",
     "text": [
      "/opt/anaconda3/envs/metis/lib/python3.8/site-packages/pandas/core/series.py:4479: SettingWithCopyWarning: \n",
      "A value is trying to be set on a copy of a slice from a DataFrame\n",
      "\n",
      "See the caveats in the documentation: https://pandas.pydata.org/pandas-docs/stable/user_guide/indexing.html#returning-a-view-versus-a-copy\n",
      "  return super().replace(\n"
     ]
    }
   ],
   "source": [
    "value_counts = films_and_features_to_analyze_df['cinematographer'].value_counts() # Specific column \n",
    "to_remove = value_counts[value_counts <= cinematographer_include_threshold].index\n",
    "films_and_features_to_analyze_df['cinematographer'].replace(to_remove, 'OTHER', inplace=True)"
   ]
  },
  {
   "cell_type": "code",
   "execution_count": null,
   "metadata": {},
   "outputs": [],
   "source": []
  },
  {
   "cell_type": "markdown",
   "metadata": {},
   "source": []
  },
  {
   "cell_type": "markdown",
   "metadata": {},
   "source": [
    "### Regression analysis on `rating`,  `duration`, `year` and `budget` etc"
   ]
  },
  {
   "cell_type": "code",
   "execution_count": 925,
   "metadata": {},
   "outputs": [
    {
     "data": {
      "text/plain": [
       "Index(['title', 'year', 'duration', 'budget', 'cinematographer', 'documentary',\n",
       "       'tv_series', 'rating', 'Robert De Niro', 'Martin Scorsese',\n",
       "       'Leonardo DiCaprio', 'Harvey Keitel', 'Joe Pesci', 'Catherine Scorsese',\n",
       "       'Eric Clapton', 'Harry Northup', 'Victor Argo', 'Michael Stuhlbarg',\n",
       "       'Charles Scorsese', 'Barry Primus', 'Ringo Starr', 'Frank Vincent',\n",
       "       'Bob Dylan', 'Paul Herman', 'Murray Moston', 'Stephen Graham',\n",
       "       'Verna Bloom', 'Alec Baldwin', 'Ray Romano', 'Diahnne Abbott',\n",
       "       'Barbara Hershey', 'Patricia Clarkson'],\n",
       "      dtype='object')"
      ]
     },
     "execution_count": 925,
     "metadata": {},
     "output_type": "execute_result"
    }
   ],
   "source": [
    "films_and_features_to_analyze_df.columns"
   ]
  },
  {
   "cell_type": "code",
   "execution_count": 926,
   "metadata": {},
   "outputs": [],
   "source": [
    "selected_cols = [*films_and_features_to_analyze_df.columns[1:7], *films_and_features_to_analyze_df.columns[8:]]"
   ]
  },
  {
   "cell_type": "code",
   "execution_count": 927,
   "metadata": {},
   "outputs": [],
   "source": [
    "X= films_and_features_to_analyze_df[selected_cols]\n",
    "y= films_and_features_to_analyze_df['rating']"
   ]
  },
  {
   "cell_type": "code",
   "execution_count": 928,
   "metadata": {},
   "outputs": [
    {
     "data": {
      "text/html": [
       "<div>\n",
       "<style scoped>\n",
       "    .dataframe tbody tr th:only-of-type {\n",
       "        vertical-align: middle;\n",
       "    }\n",
       "\n",
       "    .dataframe tbody tr th {\n",
       "        vertical-align: top;\n",
       "    }\n",
       "\n",
       "    .dataframe thead th {\n",
       "        text-align: right;\n",
       "    }\n",
       "</style>\n",
       "<table border=\"1\" class=\"dataframe\">\n",
       "  <thead>\n",
       "    <tr style=\"text-align: right;\">\n",
       "      <th></th>\n",
       "      <th>year</th>\n",
       "      <th>duration</th>\n",
       "      <th>budget</th>\n",
       "      <th>cinematographer</th>\n",
       "      <th>documentary</th>\n",
       "      <th>tv_series</th>\n",
       "      <th>Robert De Niro</th>\n",
       "      <th>Martin Scorsese</th>\n",
       "      <th>Leonardo DiCaprio</th>\n",
       "      <th>Harvey Keitel</th>\n",
       "      <th>...</th>\n",
       "      <th>Bob Dylan</th>\n",
       "      <th>Paul Herman</th>\n",
       "      <th>Murray Moston</th>\n",
       "      <th>Stephen Graham</th>\n",
       "      <th>Verna Bloom</th>\n",
       "      <th>Alec Baldwin</th>\n",
       "      <th>Ray Romano</th>\n",
       "      <th>Diahnne Abbott</th>\n",
       "      <th>Barbara Hershey</th>\n",
       "      <th>Patricia Clarkson</th>\n",
       "    </tr>\n",
       "  </thead>\n",
       "  <tbody>\n",
       "    <tr>\n",
       "      <th>7</th>\n",
       "      <td>2,019.00000</td>\n",
       "      <td>209.00000</td>\n",
       "      <td>159,000,000.00000</td>\n",
       "      <td>Rodrigo Prieto</td>\n",
       "      <td>0.00000</td>\n",
       "      <td>0.00000</td>\n",
       "      <td>1.00000</td>\n",
       "      <td>0.00000</td>\n",
       "      <td>0.00000</td>\n",
       "      <td>1.00000</td>\n",
       "      <td>...</td>\n",
       "      <td>0.00000</td>\n",
       "      <td>1.00000</td>\n",
       "      <td>0.00000</td>\n",
       "      <td>1.00000</td>\n",
       "      <td>0.00000</td>\n",
       "      <td>0.00000</td>\n",
       "      <td>1.00000</td>\n",
       "      <td>0.00000</td>\n",
       "      <td>0.00000</td>\n",
       "      <td>0.00000</td>\n",
       "    </tr>\n",
       "    <tr>\n",
       "      <th>9</th>\n",
       "      <td>2,016.00000</td>\n",
       "      <td>161.00000</td>\n",
       "      <td>46,000,000.00000</td>\n",
       "      <td>Rodrigo Prieto</td>\n",
       "      <td>0.00000</td>\n",
       "      <td>0.00000</td>\n",
       "      <td>0.00000</td>\n",
       "      <td>0.00000</td>\n",
       "      <td>0.00000</td>\n",
       "      <td>0.00000</td>\n",
       "      <td>...</td>\n",
       "      <td>0.00000</td>\n",
       "      <td>0.00000</td>\n",
       "      <td>0.00000</td>\n",
       "      <td>0.00000</td>\n",
       "      <td>0.00000</td>\n",
       "      <td>0.00000</td>\n",
       "      <td>0.00000</td>\n",
       "      <td>0.00000</td>\n",
       "      <td>0.00000</td>\n",
       "      <td>0.00000</td>\n",
       "    </tr>\n",
       "    <tr>\n",
       "      <th>14</th>\n",
       "      <td>2,013.00000</td>\n",
       "      <td>180.00000</td>\n",
       "      <td>100,000,000.00000</td>\n",
       "      <td>Rodrigo Prieto</td>\n",
       "      <td>0.00000</td>\n",
       "      <td>0.00000</td>\n",
       "      <td>0.00000</td>\n",
       "      <td>0.00000</td>\n",
       "      <td>1.00000</td>\n",
       "      <td>0.00000</td>\n",
       "      <td>...</td>\n",
       "      <td>0.00000</td>\n",
       "      <td>0.00000</td>\n",
       "      <td>0.00000</td>\n",
       "      <td>0.00000</td>\n",
       "      <td>0.00000</td>\n",
       "      <td>0.00000</td>\n",
       "      <td>0.00000</td>\n",
       "      <td>0.00000</td>\n",
       "      <td>0.00000</td>\n",
       "      <td>0.00000</td>\n",
       "    </tr>\n",
       "    <tr>\n",
       "      <th>15</th>\n",
       "      <td>2,011.00000</td>\n",
       "      <td>126.00000</td>\n",
       "      <td>150,000,000.00000</td>\n",
       "      <td>Robert Richardson</td>\n",
       "      <td>0.00000</td>\n",
       "      <td>0.00000</td>\n",
       "      <td>0.00000</td>\n",
       "      <td>0.00000</td>\n",
       "      <td>0.00000</td>\n",
       "      <td>0.00000</td>\n",
       "      <td>...</td>\n",
       "      <td>0.00000</td>\n",
       "      <td>0.00000</td>\n",
       "      <td>0.00000</td>\n",
       "      <td>0.00000</td>\n",
       "      <td>0.00000</td>\n",
       "      <td>0.00000</td>\n",
       "      <td>0.00000</td>\n",
       "      <td>0.00000</td>\n",
       "      <td>0.00000</td>\n",
       "      <td>0.00000</td>\n",
       "    </tr>\n",
       "    <tr>\n",
       "      <th>21</th>\n",
       "      <td>2,010.00000</td>\n",
       "      <td>138.00000</td>\n",
       "      <td>80,000,000.00000</td>\n",
       "      <td>Robert Richardson</td>\n",
       "      <td>0.00000</td>\n",
       "      <td>0.00000</td>\n",
       "      <td>0.00000</td>\n",
       "      <td>0.00000</td>\n",
       "      <td>1.00000</td>\n",
       "      <td>0.00000</td>\n",
       "      <td>...</td>\n",
       "      <td>0.00000</td>\n",
       "      <td>0.00000</td>\n",
       "      <td>0.00000</td>\n",
       "      <td>0.00000</td>\n",
       "      <td>0.00000</td>\n",
       "      <td>0.00000</td>\n",
       "      <td>0.00000</td>\n",
       "      <td>0.00000</td>\n",
       "      <td>0.00000</td>\n",
       "      <td>1.00000</td>\n",
       "    </tr>\n",
       "    <tr>\n",
       "      <th>24</th>\n",
       "      <td>2,006.00000</td>\n",
       "      <td>151.00000</td>\n",
       "      <td>90,000,000.00000</td>\n",
       "      <td>Michael Ballhaus</td>\n",
       "      <td>0.00000</td>\n",
       "      <td>0.00000</td>\n",
       "      <td>0.00000</td>\n",
       "      <td>0.00000</td>\n",
       "      <td>1.00000</td>\n",
       "      <td>0.00000</td>\n",
       "      <td>...</td>\n",
       "      <td>0.00000</td>\n",
       "      <td>0.00000</td>\n",
       "      <td>0.00000</td>\n",
       "      <td>0.00000</td>\n",
       "      <td>0.00000</td>\n",
       "      <td>1.00000</td>\n",
       "      <td>0.00000</td>\n",
       "      <td>0.00000</td>\n",
       "      <td>0.00000</td>\n",
       "      <td>0.00000</td>\n",
       "    </tr>\n",
       "    <tr>\n",
       "      <th>26</th>\n",
       "      <td>2,004.00000</td>\n",
       "      <td>170.00000</td>\n",
       "      <td>110,000,000.00000</td>\n",
       "      <td>Robert Richardson</td>\n",
       "      <td>0.00000</td>\n",
       "      <td>0.00000</td>\n",
       "      <td>0.00000</td>\n",
       "      <td>0.00000</td>\n",
       "      <td>1.00000</td>\n",
       "      <td>0.00000</td>\n",
       "      <td>...</td>\n",
       "      <td>0.00000</td>\n",
       "      <td>0.00000</td>\n",
       "      <td>0.00000</td>\n",
       "      <td>0.00000</td>\n",
       "      <td>0.00000</td>\n",
       "      <td>1.00000</td>\n",
       "      <td>0.00000</td>\n",
       "      <td>0.00000</td>\n",
       "      <td>0.00000</td>\n",
       "      <td>0.00000</td>\n",
       "    </tr>\n",
       "    <tr>\n",
       "      <th>30</th>\n",
       "      <td>2,002.00000</td>\n",
       "      <td>167.00000</td>\n",
       "      <td>100,000,000.00000</td>\n",
       "      <td>Michael Ballhaus</td>\n",
       "      <td>0.00000</td>\n",
       "      <td>0.00000</td>\n",
       "      <td>0.00000</td>\n",
       "      <td>0.00000</td>\n",
       "      <td>1.00000</td>\n",
       "      <td>0.00000</td>\n",
       "      <td>...</td>\n",
       "      <td>0.00000</td>\n",
       "      <td>0.00000</td>\n",
       "      <td>0.00000</td>\n",
       "      <td>1.00000</td>\n",
       "      <td>0.00000</td>\n",
       "      <td>0.00000</td>\n",
       "      <td>0.00000</td>\n",
       "      <td>0.00000</td>\n",
       "      <td>0.00000</td>\n",
       "      <td>0.00000</td>\n",
       "    </tr>\n",
       "    <tr>\n",
       "      <th>33</th>\n",
       "      <td>1,999.00000</td>\n",
       "      <td>121.00000</td>\n",
       "      <td>55,000,000.00000</td>\n",
       "      <td>Robert Richardson</td>\n",
       "      <td>0.00000</td>\n",
       "      <td>0.00000</td>\n",
       "      <td>0.00000</td>\n",
       "      <td>0.00000</td>\n",
       "      <td>0.00000</td>\n",
       "      <td>0.00000</td>\n",
       "      <td>...</td>\n",
       "      <td>0.00000</td>\n",
       "      <td>0.00000</td>\n",
       "      <td>0.00000</td>\n",
       "      <td>0.00000</td>\n",
       "      <td>0.00000</td>\n",
       "      <td>0.00000</td>\n",
       "      <td>0.00000</td>\n",
       "      <td>0.00000</td>\n",
       "      <td>0.00000</td>\n",
       "      <td>0.00000</td>\n",
       "    </tr>\n",
       "    <tr>\n",
       "      <th>35</th>\n",
       "      <td>1,997.00000</td>\n",
       "      <td>134.00000</td>\n",
       "      <td>28,000,000.00000</td>\n",
       "      <td>OTHER</td>\n",
       "      <td>0.00000</td>\n",
       "      <td>0.00000</td>\n",
       "      <td>0.00000</td>\n",
       "      <td>0.00000</td>\n",
       "      <td>0.00000</td>\n",
       "      <td>0.00000</td>\n",
       "      <td>...</td>\n",
       "      <td>0.00000</td>\n",
       "      <td>0.00000</td>\n",
       "      <td>0.00000</td>\n",
       "      <td>0.00000</td>\n",
       "      <td>0.00000</td>\n",
       "      <td>0.00000</td>\n",
       "      <td>0.00000</td>\n",
       "      <td>0.00000</td>\n",
       "      <td>0.00000</td>\n",
       "      <td>0.00000</td>\n",
       "    </tr>\n",
       "    <tr>\n",
       "      <th>38</th>\n",
       "      <td>1,995.00000</td>\n",
       "      <td>178.00000</td>\n",
       "      <td>52,000,000.00000</td>\n",
       "      <td>Robert Richardson</td>\n",
       "      <td>0.00000</td>\n",
       "      <td>0.00000</td>\n",
       "      <td>1.00000</td>\n",
       "      <td>0.00000</td>\n",
       "      <td>0.00000</td>\n",
       "      <td>0.00000</td>\n",
       "      <td>...</td>\n",
       "      <td>0.00000</td>\n",
       "      <td>0.00000</td>\n",
       "      <td>0.00000</td>\n",
       "      <td>0.00000</td>\n",
       "      <td>0.00000</td>\n",
       "      <td>0.00000</td>\n",
       "      <td>0.00000</td>\n",
       "      <td>0.00000</td>\n",
       "      <td>0.00000</td>\n",
       "      <td>0.00000</td>\n",
       "    </tr>\n",
       "    <tr>\n",
       "      <th>39</th>\n",
       "      <td>1,993.00000</td>\n",
       "      <td>139.00000</td>\n",
       "      <td>34,000,000.00000</td>\n",
       "      <td>Michael Ballhaus</td>\n",
       "      <td>0.00000</td>\n",
       "      <td>0.00000</td>\n",
       "      <td>0.00000</td>\n",
       "      <td>0.00000</td>\n",
       "      <td>0.00000</td>\n",
       "      <td>0.00000</td>\n",
       "      <td>...</td>\n",
       "      <td>0.00000</td>\n",
       "      <td>0.00000</td>\n",
       "      <td>0.00000</td>\n",
       "      <td>0.00000</td>\n",
       "      <td>0.00000</td>\n",
       "      <td>0.00000</td>\n",
       "      <td>0.00000</td>\n",
       "      <td>0.00000</td>\n",
       "      <td>0.00000</td>\n",
       "      <td>0.00000</td>\n",
       "    </tr>\n",
       "    <tr>\n",
       "      <th>41</th>\n",
       "      <td>1,991.00000</td>\n",
       "      <td>128.00000</td>\n",
       "      <td>35,000,000.00000</td>\n",
       "      <td>OTHER</td>\n",
       "      <td>0.00000</td>\n",
       "      <td>0.00000</td>\n",
       "      <td>1.00000</td>\n",
       "      <td>0.00000</td>\n",
       "      <td>0.00000</td>\n",
       "      <td>0.00000</td>\n",
       "      <td>...</td>\n",
       "      <td>0.00000</td>\n",
       "      <td>0.00000</td>\n",
       "      <td>0.00000</td>\n",
       "      <td>0.00000</td>\n",
       "      <td>0.00000</td>\n",
       "      <td>0.00000</td>\n",
       "      <td>0.00000</td>\n",
       "      <td>0.00000</td>\n",
       "      <td>0.00000</td>\n",
       "      <td>0.00000</td>\n",
       "    </tr>\n",
       "    <tr>\n",
       "      <th>43</th>\n",
       "      <td>1,990.00000</td>\n",
       "      <td>146.00000</td>\n",
       "      <td>25,000,000.00000</td>\n",
       "      <td>Michael Ballhaus</td>\n",
       "      <td>0.00000</td>\n",
       "      <td>0.00000</td>\n",
       "      <td>1.00000</td>\n",
       "      <td>0.00000</td>\n",
       "      <td>0.00000</td>\n",
       "      <td>0.00000</td>\n",
       "      <td>...</td>\n",
       "      <td>0.00000</td>\n",
       "      <td>0.00000</td>\n",
       "      <td>0.00000</td>\n",
       "      <td>0.00000</td>\n",
       "      <td>0.00000</td>\n",
       "      <td>0.00000</td>\n",
       "      <td>0.00000</td>\n",
       "      <td>0.00000</td>\n",
       "      <td>0.00000</td>\n",
       "      <td>0.00000</td>\n",
       "    </tr>\n",
       "    <tr>\n",
       "      <th>44</th>\n",
       "      <td>1,989.00000</td>\n",
       "      <td>124.00000</td>\n",
       "      <td>15,000,000.00000</td>\n",
       "      <td>OTHER</td>\n",
       "      <td>0.00000</td>\n",
       "      <td>0.00000</td>\n",
       "      <td>0.00000</td>\n",
       "      <td>0.00000</td>\n",
       "      <td>0.00000</td>\n",
       "      <td>0.00000</td>\n",
       "      <td>...</td>\n",
       "      <td>0.00000</td>\n",
       "      <td>1.00000</td>\n",
       "      <td>0.00000</td>\n",
       "      <td>0.00000</td>\n",
       "      <td>0.00000</td>\n",
       "      <td>0.00000</td>\n",
       "      <td>0.00000</td>\n",
       "      <td>0.00000</td>\n",
       "      <td>0.00000</td>\n",
       "      <td>0.00000</td>\n",
       "    </tr>\n",
       "    <tr>\n",
       "      <th>46</th>\n",
       "      <td>1,988.00000</td>\n",
       "      <td>164.00000</td>\n",
       "      <td>7,000,000.00000</td>\n",
       "      <td>Michael Ballhaus</td>\n",
       "      <td>0.00000</td>\n",
       "      <td>0.00000</td>\n",
       "      <td>0.00000</td>\n",
       "      <td>0.00000</td>\n",
       "      <td>0.00000</td>\n",
       "      <td>1.00000</td>\n",
       "      <td>...</td>\n",
       "      <td>0.00000</td>\n",
       "      <td>1.00000</td>\n",
       "      <td>0.00000</td>\n",
       "      <td>0.00000</td>\n",
       "      <td>1.00000</td>\n",
       "      <td>0.00000</td>\n",
       "      <td>0.00000</td>\n",
       "      <td>0.00000</td>\n",
       "      <td>1.00000</td>\n",
       "      <td>0.00000</td>\n",
       "    </tr>\n",
       "    <tr>\n",
       "      <th>48</th>\n",
       "      <td>1,986.00000</td>\n",
       "      <td>119.00000</td>\n",
       "      <td>13,800,000.00000</td>\n",
       "      <td>Michael Ballhaus</td>\n",
       "      <td>0.00000</td>\n",
       "      <td>0.00000</td>\n",
       "      <td>0.00000</td>\n",
       "      <td>0.00000</td>\n",
       "      <td>0.00000</td>\n",
       "      <td>0.00000</td>\n",
       "      <td>...</td>\n",
       "      <td>0.00000</td>\n",
       "      <td>0.00000</td>\n",
       "      <td>0.00000</td>\n",
       "      <td>0.00000</td>\n",
       "      <td>0.00000</td>\n",
       "      <td>0.00000</td>\n",
       "      <td>0.00000</td>\n",
       "      <td>0.00000</td>\n",
       "      <td>0.00000</td>\n",
       "      <td>0.00000</td>\n",
       "    </tr>\n",
       "    <tr>\n",
       "      <th>50</th>\n",
       "      <td>1,985.00000</td>\n",
       "      <td>97.00000</td>\n",
       "      <td>4,500,000.00000</td>\n",
       "      <td>Michael Ballhaus</td>\n",
       "      <td>0.00000</td>\n",
       "      <td>0.00000</td>\n",
       "      <td>0.00000</td>\n",
       "      <td>0.00000</td>\n",
       "      <td>0.00000</td>\n",
       "      <td>0.00000</td>\n",
       "      <td>...</td>\n",
       "      <td>0.00000</td>\n",
       "      <td>0.00000</td>\n",
       "      <td>0.00000</td>\n",
       "      <td>0.00000</td>\n",
       "      <td>1.00000</td>\n",
       "      <td>0.00000</td>\n",
       "      <td>0.00000</td>\n",
       "      <td>0.00000</td>\n",
       "      <td>0.00000</td>\n",
       "      <td>0.00000</td>\n",
       "    </tr>\n",
       "    <tr>\n",
       "      <th>51</th>\n",
       "      <td>1,982.00000</td>\n",
       "      <td>109.00000</td>\n",
       "      <td>20,000,000.00000</td>\n",
       "      <td>OTHER</td>\n",
       "      <td>0.00000</td>\n",
       "      <td>0.00000</td>\n",
       "      <td>1.00000</td>\n",
       "      <td>0.00000</td>\n",
       "      <td>0.00000</td>\n",
       "      <td>0.00000</td>\n",
       "      <td>...</td>\n",
       "      <td>0.00000</td>\n",
       "      <td>0.00000</td>\n",
       "      <td>0.00000</td>\n",
       "      <td>0.00000</td>\n",
       "      <td>0.00000</td>\n",
       "      <td>0.00000</td>\n",
       "      <td>0.00000</td>\n",
       "      <td>1.00000</td>\n",
       "      <td>0.00000</td>\n",
       "      <td>0.00000</td>\n",
       "    </tr>\n",
       "    <tr>\n",
       "      <th>52</th>\n",
       "      <td>1,980.00000</td>\n",
       "      <td>129.00000</td>\n",
       "      <td>18,000,000.00000</td>\n",
       "      <td>Michael Chapman</td>\n",
       "      <td>0.00000</td>\n",
       "      <td>0.00000</td>\n",
       "      <td>1.00000</td>\n",
       "      <td>0.00000</td>\n",
       "      <td>0.00000</td>\n",
       "      <td>0.00000</td>\n",
       "      <td>...</td>\n",
       "      <td>0.00000</td>\n",
       "      <td>0.00000</td>\n",
       "      <td>0.00000</td>\n",
       "      <td>0.00000</td>\n",
       "      <td>0.00000</td>\n",
       "      <td>0.00000</td>\n",
       "      <td>0.00000</td>\n",
       "      <td>0.00000</td>\n",
       "      <td>0.00000</td>\n",
       "      <td>0.00000</td>\n",
       "    </tr>\n",
       "    <tr>\n",
       "      <th>55</th>\n",
       "      <td>1,977.00000</td>\n",
       "      <td>155.00000</td>\n",
       "      <td>14,000,000.00000</td>\n",
       "      <td>OTHER</td>\n",
       "      <td>0.00000</td>\n",
       "      <td>0.00000</td>\n",
       "      <td>1.00000</td>\n",
       "      <td>0.00000</td>\n",
       "      <td>0.00000</td>\n",
       "      <td>0.00000</td>\n",
       "      <td>...</td>\n",
       "      <td>0.00000</td>\n",
       "      <td>0.00000</td>\n",
       "      <td>1.00000</td>\n",
       "      <td>0.00000</td>\n",
       "      <td>0.00000</td>\n",
       "      <td>0.00000</td>\n",
       "      <td>0.00000</td>\n",
       "      <td>0.00000</td>\n",
       "      <td>0.00000</td>\n",
       "      <td>0.00000</td>\n",
       "    </tr>\n",
       "    <tr>\n",
       "      <th>56</th>\n",
       "      <td>1,976.00000</td>\n",
       "      <td>114.00000</td>\n",
       "      <td>1,300,000.00000</td>\n",
       "      <td>Michael Chapman</td>\n",
       "      <td>0.00000</td>\n",
       "      <td>0.00000</td>\n",
       "      <td>1.00000</td>\n",
       "      <td>0.00000</td>\n",
       "      <td>0.00000</td>\n",
       "      <td>0.00000</td>\n",
       "      <td>...</td>\n",
       "      <td>0.00000</td>\n",
       "      <td>0.00000</td>\n",
       "      <td>0.00000</td>\n",
       "      <td>0.00000</td>\n",
       "      <td>0.00000</td>\n",
       "      <td>0.00000</td>\n",
       "      <td>0.00000</td>\n",
       "      <td>1.00000</td>\n",
       "      <td>0.00000</td>\n",
       "      <td>0.00000</td>\n",
       "    </tr>\n",
       "    <tr>\n",
       "      <th>57</th>\n",
       "      <td>1,974.00000</td>\n",
       "      <td>112.00000</td>\n",
       "      <td>1,800,000.00000</td>\n",
       "      <td>Kent L. Wakeford</td>\n",
       "      <td>0.00000</td>\n",
       "      <td>0.00000</td>\n",
       "      <td>0.00000</td>\n",
       "      <td>0.00000</td>\n",
       "      <td>0.00000</td>\n",
       "      <td>1.00000</td>\n",
       "      <td>...</td>\n",
       "      <td>0.00000</td>\n",
       "      <td>0.00000</td>\n",
       "      <td>1.00000</td>\n",
       "      <td>0.00000</td>\n",
       "      <td>0.00000</td>\n",
       "      <td>0.00000</td>\n",
       "      <td>0.00000</td>\n",
       "      <td>0.00000</td>\n",
       "      <td>0.00000</td>\n",
       "      <td>0.00000</td>\n",
       "    </tr>\n",
       "    <tr>\n",
       "      <th>59</th>\n",
       "      <td>1,973.00000</td>\n",
       "      <td>112.00000</td>\n",
       "      <td>500,000.00000</td>\n",
       "      <td>Kent L. Wakeford</td>\n",
       "      <td>0.00000</td>\n",
       "      <td>0.00000</td>\n",
       "      <td>1.00000</td>\n",
       "      <td>0.00000</td>\n",
       "      <td>0.00000</td>\n",
       "      <td>1.00000</td>\n",
       "      <td>...</td>\n",
       "      <td>0.00000</td>\n",
       "      <td>0.00000</td>\n",
       "      <td>1.00000</td>\n",
       "      <td>0.00000</td>\n",
       "      <td>0.00000</td>\n",
       "      <td>0.00000</td>\n",
       "      <td>0.00000</td>\n",
       "      <td>0.00000</td>\n",
       "      <td>0.00000</td>\n",
       "      <td>0.00000</td>\n",
       "    </tr>\n",
       "    <tr>\n",
       "      <th>60</th>\n",
       "      <td>1,972.00000</td>\n",
       "      <td>88.00000</td>\n",
       "      <td>600,000.00000</td>\n",
       "      <td>OTHER</td>\n",
       "      <td>0.00000</td>\n",
       "      <td>0.00000</td>\n",
       "      <td>0.00000</td>\n",
       "      <td>0.00000</td>\n",
       "      <td>0.00000</td>\n",
       "      <td>0.00000</td>\n",
       "      <td>...</td>\n",
       "      <td>0.00000</td>\n",
       "      <td>0.00000</td>\n",
       "      <td>0.00000</td>\n",
       "      <td>0.00000</td>\n",
       "      <td>0.00000</td>\n",
       "      <td>0.00000</td>\n",
       "      <td>0.00000</td>\n",
       "      <td>0.00000</td>\n",
       "      <td>1.00000</td>\n",
       "      <td>0.00000</td>\n",
       "    </tr>\n",
       "    <tr>\n",
       "      <th>64</th>\n",
       "      <td>1,967.00000</td>\n",
       "      <td>90.00000</td>\n",
       "      <td>75,000.00000</td>\n",
       "      <td>OTHER</td>\n",
       "      <td>0.00000</td>\n",
       "      <td>0.00000</td>\n",
       "      <td>0.00000</td>\n",
       "      <td>0.00000</td>\n",
       "      <td>0.00000</td>\n",
       "      <td>1.00000</td>\n",
       "      <td>...</td>\n",
       "      <td>0.00000</td>\n",
       "      <td>0.00000</td>\n",
       "      <td>0.00000</td>\n",
       "      <td>0.00000</td>\n",
       "      <td>0.00000</td>\n",
       "      <td>0.00000</td>\n",
       "      <td>0.00000</td>\n",
       "      <td>0.00000</td>\n",
       "      <td>0.00000</td>\n",
       "      <td>0.00000</td>\n",
       "    </tr>\n",
       "  </tbody>\n",
       "</table>\n",
       "<p>26 rows × 30 columns</p>\n",
       "</div>"
      ],
      "text/plain": [
       "          year  duration            budget    cinematographer  documentary  \\\n",
       "7  2,019.00000 209.00000 159,000,000.00000     Rodrigo Prieto      0.00000   \n",
       "9  2,016.00000 161.00000  46,000,000.00000     Rodrigo Prieto      0.00000   \n",
       "14 2,013.00000 180.00000 100,000,000.00000     Rodrigo Prieto      0.00000   \n",
       "15 2,011.00000 126.00000 150,000,000.00000  Robert Richardson      0.00000   \n",
       "21 2,010.00000 138.00000  80,000,000.00000  Robert Richardson      0.00000   \n",
       "24 2,006.00000 151.00000  90,000,000.00000   Michael Ballhaus      0.00000   \n",
       "26 2,004.00000 170.00000 110,000,000.00000  Robert Richardson      0.00000   \n",
       "30 2,002.00000 167.00000 100,000,000.00000   Michael Ballhaus      0.00000   \n",
       "33 1,999.00000 121.00000  55,000,000.00000  Robert Richardson      0.00000   \n",
       "35 1,997.00000 134.00000  28,000,000.00000              OTHER      0.00000   \n",
       "38 1,995.00000 178.00000  52,000,000.00000  Robert Richardson      0.00000   \n",
       "39 1,993.00000 139.00000  34,000,000.00000   Michael Ballhaus      0.00000   \n",
       "41 1,991.00000 128.00000  35,000,000.00000              OTHER      0.00000   \n",
       "43 1,990.00000 146.00000  25,000,000.00000   Michael Ballhaus      0.00000   \n",
       "44 1,989.00000 124.00000  15,000,000.00000              OTHER      0.00000   \n",
       "46 1,988.00000 164.00000   7,000,000.00000   Michael Ballhaus      0.00000   \n",
       "48 1,986.00000 119.00000  13,800,000.00000   Michael Ballhaus      0.00000   \n",
       "50 1,985.00000  97.00000   4,500,000.00000   Michael Ballhaus      0.00000   \n",
       "51 1,982.00000 109.00000  20,000,000.00000              OTHER      0.00000   \n",
       "52 1,980.00000 129.00000  18,000,000.00000    Michael Chapman      0.00000   \n",
       "55 1,977.00000 155.00000  14,000,000.00000              OTHER      0.00000   \n",
       "56 1,976.00000 114.00000   1,300,000.00000    Michael Chapman      0.00000   \n",
       "57 1,974.00000 112.00000   1,800,000.00000   Kent L. Wakeford      0.00000   \n",
       "59 1,973.00000 112.00000     500,000.00000   Kent L. Wakeford      0.00000   \n",
       "60 1,972.00000  88.00000     600,000.00000              OTHER      0.00000   \n",
       "64 1,967.00000  90.00000      75,000.00000              OTHER      0.00000   \n",
       "\n",
       "    tv_series  Robert De Niro  Martin Scorsese  Leonardo DiCaprio  \\\n",
       "7     0.00000         1.00000          0.00000            0.00000   \n",
       "9     0.00000         0.00000          0.00000            0.00000   \n",
       "14    0.00000         0.00000          0.00000            1.00000   \n",
       "15    0.00000         0.00000          0.00000            0.00000   \n",
       "21    0.00000         0.00000          0.00000            1.00000   \n",
       "24    0.00000         0.00000          0.00000            1.00000   \n",
       "26    0.00000         0.00000          0.00000            1.00000   \n",
       "30    0.00000         0.00000          0.00000            1.00000   \n",
       "33    0.00000         0.00000          0.00000            0.00000   \n",
       "35    0.00000         0.00000          0.00000            0.00000   \n",
       "38    0.00000         1.00000          0.00000            0.00000   \n",
       "39    0.00000         0.00000          0.00000            0.00000   \n",
       "41    0.00000         1.00000          0.00000            0.00000   \n",
       "43    0.00000         1.00000          0.00000            0.00000   \n",
       "44    0.00000         0.00000          0.00000            0.00000   \n",
       "46    0.00000         0.00000          0.00000            0.00000   \n",
       "48    0.00000         0.00000          0.00000            0.00000   \n",
       "50    0.00000         0.00000          0.00000            0.00000   \n",
       "51    0.00000         1.00000          0.00000            0.00000   \n",
       "52    0.00000         1.00000          0.00000            0.00000   \n",
       "55    0.00000         1.00000          0.00000            0.00000   \n",
       "56    0.00000         1.00000          0.00000            0.00000   \n",
       "57    0.00000         0.00000          0.00000            0.00000   \n",
       "59    0.00000         1.00000          0.00000            0.00000   \n",
       "60    0.00000         0.00000          0.00000            0.00000   \n",
       "64    0.00000         0.00000          0.00000            0.00000   \n",
       "\n",
       "    Harvey Keitel  ...  Bob Dylan  Paul Herman  Murray Moston  Stephen Graham  \\\n",
       "7         1.00000  ...    0.00000      1.00000        0.00000         1.00000   \n",
       "9         0.00000  ...    0.00000      0.00000        0.00000         0.00000   \n",
       "14        0.00000  ...    0.00000      0.00000        0.00000         0.00000   \n",
       "15        0.00000  ...    0.00000      0.00000        0.00000         0.00000   \n",
       "21        0.00000  ...    0.00000      0.00000        0.00000         0.00000   \n",
       "24        0.00000  ...    0.00000      0.00000        0.00000         0.00000   \n",
       "26        0.00000  ...    0.00000      0.00000        0.00000         0.00000   \n",
       "30        0.00000  ...    0.00000      0.00000        0.00000         1.00000   \n",
       "33        0.00000  ...    0.00000      0.00000        0.00000         0.00000   \n",
       "35        0.00000  ...    0.00000      0.00000        0.00000         0.00000   \n",
       "38        0.00000  ...    0.00000      0.00000        0.00000         0.00000   \n",
       "39        0.00000  ...    0.00000      0.00000        0.00000         0.00000   \n",
       "41        0.00000  ...    0.00000      0.00000        0.00000         0.00000   \n",
       "43        0.00000  ...    0.00000      0.00000        0.00000         0.00000   \n",
       "44        0.00000  ...    0.00000      1.00000        0.00000         0.00000   \n",
       "46        1.00000  ...    0.00000      1.00000        0.00000         0.00000   \n",
       "48        0.00000  ...    0.00000      0.00000        0.00000         0.00000   \n",
       "50        0.00000  ...    0.00000      0.00000        0.00000         0.00000   \n",
       "51        0.00000  ...    0.00000      0.00000        0.00000         0.00000   \n",
       "52        0.00000  ...    0.00000      0.00000        0.00000         0.00000   \n",
       "55        0.00000  ...    0.00000      0.00000        1.00000         0.00000   \n",
       "56        0.00000  ...    0.00000      0.00000        0.00000         0.00000   \n",
       "57        1.00000  ...    0.00000      0.00000        1.00000         0.00000   \n",
       "59        1.00000  ...    0.00000      0.00000        1.00000         0.00000   \n",
       "60        0.00000  ...    0.00000      0.00000        0.00000         0.00000   \n",
       "64        1.00000  ...    0.00000      0.00000        0.00000         0.00000   \n",
       "\n",
       "    Verna Bloom  Alec Baldwin  Ray Romano  Diahnne Abbott  Barbara Hershey  \\\n",
       "7       0.00000       0.00000     1.00000         0.00000          0.00000   \n",
       "9       0.00000       0.00000     0.00000         0.00000          0.00000   \n",
       "14      0.00000       0.00000     0.00000         0.00000          0.00000   \n",
       "15      0.00000       0.00000     0.00000         0.00000          0.00000   \n",
       "21      0.00000       0.00000     0.00000         0.00000          0.00000   \n",
       "24      0.00000       1.00000     0.00000         0.00000          0.00000   \n",
       "26      0.00000       1.00000     0.00000         0.00000          0.00000   \n",
       "30      0.00000       0.00000     0.00000         0.00000          0.00000   \n",
       "33      0.00000       0.00000     0.00000         0.00000          0.00000   \n",
       "35      0.00000       0.00000     0.00000         0.00000          0.00000   \n",
       "38      0.00000       0.00000     0.00000         0.00000          0.00000   \n",
       "39      0.00000       0.00000     0.00000         0.00000          0.00000   \n",
       "41      0.00000       0.00000     0.00000         0.00000          0.00000   \n",
       "43      0.00000       0.00000     0.00000         0.00000          0.00000   \n",
       "44      0.00000       0.00000     0.00000         0.00000          0.00000   \n",
       "46      1.00000       0.00000     0.00000         0.00000          1.00000   \n",
       "48      0.00000       0.00000     0.00000         0.00000          0.00000   \n",
       "50      1.00000       0.00000     0.00000         0.00000          0.00000   \n",
       "51      0.00000       0.00000     0.00000         1.00000          0.00000   \n",
       "52      0.00000       0.00000     0.00000         0.00000          0.00000   \n",
       "55      0.00000       0.00000     0.00000         0.00000          0.00000   \n",
       "56      0.00000       0.00000     0.00000         1.00000          0.00000   \n",
       "57      0.00000       0.00000     0.00000         0.00000          0.00000   \n",
       "59      0.00000       0.00000     0.00000         0.00000          0.00000   \n",
       "60      0.00000       0.00000     0.00000         0.00000          1.00000   \n",
       "64      0.00000       0.00000     0.00000         0.00000          0.00000   \n",
       "\n",
       "    Patricia Clarkson  \n",
       "7             0.00000  \n",
       "9             0.00000  \n",
       "14            0.00000  \n",
       "15            0.00000  \n",
       "21            1.00000  \n",
       "24            0.00000  \n",
       "26            0.00000  \n",
       "30            0.00000  \n",
       "33            0.00000  \n",
       "35            0.00000  \n",
       "38            0.00000  \n",
       "39            0.00000  \n",
       "41            0.00000  \n",
       "43            0.00000  \n",
       "44            0.00000  \n",
       "46            0.00000  \n",
       "48            0.00000  \n",
       "50            0.00000  \n",
       "51            0.00000  \n",
       "52            0.00000  \n",
       "55            0.00000  \n",
       "56            0.00000  \n",
       "57            0.00000  \n",
       "59            0.00000  \n",
       "60            0.00000  \n",
       "64            0.00000  \n",
       "\n",
       "[26 rows x 30 columns]"
      ]
     },
     "execution_count": 928,
     "metadata": {},
     "output_type": "execute_result"
    }
   ],
   "source": [
    "X"
   ]
  },
  {
   "cell_type": "code",
   "execution_count": 929,
   "metadata": {},
   "outputs": [
    {
     "data": {
      "text/plain": [
       "False"
      ]
     },
     "execution_count": 929,
     "metadata": {},
     "output_type": "execute_result"
    }
   ],
   "source": [
    "y.isnull().values.any()"
   ]
  },
  {
   "cell_type": "code",
   "execution_count": 930,
   "metadata": {},
   "outputs": [],
   "source": [
    "X_train_val, X_test, y_train_val, y_test = train_test_split(X, y, test_size=0.2,random_state=42)"
   ]
  },
  {
   "cell_type": "code",
   "execution_count": 931,
   "metadata": {},
   "outputs": [],
   "source": [
    "# X_train_val"
   ]
  },
  {
   "cell_type": "markdown",
   "metadata": {},
   "source": [
    "## Preprocessing\n"
   ]
  },
  {
   "cell_type": "markdown",
   "metadata": {},
   "source": [
    "### Categorical Variable Preprocessing"
   ]
  },
  {
   "cell_type": "markdown",
   "metadata": {},
   "source": [
    "#### One-hot-encoding"
   ]
  },
  {
   "cell_type": "code",
   "execution_count": 932,
   "metadata": {},
   "outputs": [],
   "source": [
    "cat_ohe_vars = ['cinematographer']\n",
    "X_train_val_cat_ohe = X_train_val[cat_ohe_vars]\n",
    "#X_train_cat_ohe "
   ]
  },
  {
   "cell_type": "code",
   "execution_count": 933,
   "metadata": {},
   "outputs": [],
   "source": [
    "ohe = OneHotEncoder(sparse=False,  handle_unknown='ignore')\n",
    "ohe.fit(X_train_val_cat_ohe)\n",
    "cat_ohe = ohe.transform(X_train_val_cat_ohe)"
   ]
  },
  {
   "cell_type": "code",
   "execution_count": 934,
   "metadata": {},
   "outputs": [
    {
     "data": {
      "text/plain": [
       "array(['cinematographer_Kent L. Wakeford',\n",
       "       'cinematographer_Michael Ballhaus',\n",
       "       'cinematographer_Michael Chapman', 'cinematographer_OTHER',\n",
       "       'cinematographer_Robert Richardson',\n",
       "       'cinematographer_Rodrigo Prieto'], dtype=object)"
      ]
     },
     "execution_count": 934,
     "metadata": {},
     "output_type": "execute_result"
    }
   ],
   "source": [
    "columns=ohe.get_feature_names(cat_ohe_vars)\n",
    "columns"
   ]
  },
  {
   "cell_type": "code",
   "execution_count": 935,
   "metadata": {},
   "outputs": [
    {
     "data": {
      "text/plain": [
       "20"
      ]
     },
     "execution_count": 935,
     "metadata": {},
     "output_type": "execute_result"
    }
   ],
   "source": [
    "cat_ohe.shape[0]"
   ]
  },
  {
   "cell_type": "code",
   "execution_count": 936,
   "metadata": {},
   "outputs": [
    {
     "data": {
      "text/plain": [
       "20"
      ]
     },
     "execution_count": 936,
     "metadata": {},
     "output_type": "execute_result"
    }
   ],
   "source": [
    "X_train_val_cat_ohe.shape[0]"
   ]
  },
  {
   "cell_type": "code",
   "execution_count": null,
   "metadata": {},
   "outputs": [],
   "source": []
  },
  {
   "cell_type": "code",
   "execution_count": 937,
   "metadata": {},
   "outputs": [
    {
     "data": {
      "text/html": [
       "<div>\n",
       "<style scoped>\n",
       "    .dataframe tbody tr th:only-of-type {\n",
       "        vertical-align: middle;\n",
       "    }\n",
       "\n",
       "    .dataframe tbody tr th {\n",
       "        vertical-align: top;\n",
       "    }\n",
       "\n",
       "    .dataframe thead th {\n",
       "        text-align: right;\n",
       "    }\n",
       "</style>\n",
       "<table border=\"1\" class=\"dataframe\">\n",
       "  <thead>\n",
       "    <tr style=\"text-align: right;\">\n",
       "      <th></th>\n",
       "      <th>cinematographer_Kent L. Wakeford</th>\n",
       "      <th>cinematographer_Michael Ballhaus</th>\n",
       "      <th>cinematographer_Michael Chapman</th>\n",
       "      <th>cinematographer_OTHER</th>\n",
       "      <th>cinematographer_Robert Richardson</th>\n",
       "      <th>cinematographer_Rodrigo Prieto</th>\n",
       "    </tr>\n",
       "  </thead>\n",
       "  <tbody>\n",
       "    <tr>\n",
       "      <th>43</th>\n",
       "      <td>0.00000</td>\n",
       "      <td>1.00000</td>\n",
       "      <td>0.00000</td>\n",
       "      <td>0.00000</td>\n",
       "      <td>0.00000</td>\n",
       "      <td>0.00000</td>\n",
       "    </tr>\n",
       "    <tr>\n",
       "      <th>9</th>\n",
       "      <td>0.00000</td>\n",
       "      <td>0.00000</td>\n",
       "      <td>0.00000</td>\n",
       "      <td>0.00000</td>\n",
       "      <td>0.00000</td>\n",
       "      <td>1.00000</td>\n",
       "    </tr>\n",
       "    <tr>\n",
       "      <th>59</th>\n",
       "      <td>1.00000</td>\n",
       "      <td>0.00000</td>\n",
       "      <td>0.00000</td>\n",
       "      <td>0.00000</td>\n",
       "      <td>0.00000</td>\n",
       "      <td>0.00000</td>\n",
       "    </tr>\n",
       "    <tr>\n",
       "      <th>24</th>\n",
       "      <td>0.00000</td>\n",
       "      <td>1.00000</td>\n",
       "      <td>0.00000</td>\n",
       "      <td>0.00000</td>\n",
       "      <td>0.00000</td>\n",
       "      <td>0.00000</td>\n",
       "    </tr>\n",
       "    <tr>\n",
       "      <th>14</th>\n",
       "      <td>0.00000</td>\n",
       "      <td>0.00000</td>\n",
       "      <td>0.00000</td>\n",
       "      <td>0.00000</td>\n",
       "      <td>0.00000</td>\n",
       "      <td>1.00000</td>\n",
       "    </tr>\n",
       "  </tbody>\n",
       "</table>\n",
       "</div>"
      ],
      "text/plain": [
       "    cinematographer_Kent L. Wakeford  cinematographer_Michael Ballhaus  \\\n",
       "43                           0.00000                           1.00000   \n",
       "9                            0.00000                           0.00000   \n",
       "59                           1.00000                           0.00000   \n",
       "24                           0.00000                           1.00000   \n",
       "14                           0.00000                           0.00000   \n",
       "\n",
       "    cinematographer_Michael Chapman  cinematographer_OTHER  \\\n",
       "43                          0.00000                0.00000   \n",
       "9                           0.00000                0.00000   \n",
       "59                          0.00000                0.00000   \n",
       "24                          0.00000                0.00000   \n",
       "14                          0.00000                0.00000   \n",
       "\n",
       "    cinematographer_Robert Richardson  cinematographer_Rodrigo Prieto  \n",
       "43                            0.00000                         0.00000  \n",
       "9                             0.00000                         1.00000  \n",
       "59                            0.00000                         0.00000  \n",
       "24                            0.00000                         0.00000  \n",
       "14                            0.00000                         1.00000  "
      ]
     },
     "execution_count": 937,
     "metadata": {},
     "output_type": "execute_result"
    }
   ],
   "source": [
    "X_train_val_cat_ohe_df = pd.DataFrame(cat_ohe, columns=columns, index=X_train_val_cat_ohe.index)\n",
    "X_train_val_cat_ohe_df.head()"
   ]
  },
  {
   "cell_type": "code",
   "execution_count": 938,
   "metadata": {},
   "outputs": [],
   "source": [
    "X_test_cat_ohe = X_test[['cinematographer']]\n",
    "X_test_cat_ohe\n",
    "cat_ohe_test = ohe.transform(X_test_cat_ohe)\n",
    "\n",
    "cat_ohe_columns = ohe.get_feature_names(['cinematographer'])\n",
    "X_test_cat_ohe_df = pd.DataFrame(cat_ohe_test, columns=cat_ohe_columns)\n"
   ]
  },
  {
   "cell_type": "markdown",
   "metadata": {},
   "source": [
    "### Continuous Variable Preprocessing"
   ]
  },
  {
   "cell_type": "code",
   "execution_count": 939,
   "metadata": {},
   "outputs": [
    {
     "data": {
      "text/html": [
       "<div>\n",
       "<style scoped>\n",
       "    .dataframe tbody tr th:only-of-type {\n",
       "        vertical-align: middle;\n",
       "    }\n",
       "\n",
       "    .dataframe tbody tr th {\n",
       "        vertical-align: top;\n",
       "    }\n",
       "\n",
       "    .dataframe thead th {\n",
       "        text-align: right;\n",
       "    }\n",
       "</style>\n",
       "<table border=\"1\" class=\"dataframe\">\n",
       "  <thead>\n",
       "    <tr style=\"text-align: right;\">\n",
       "      <th></th>\n",
       "      <th>year</th>\n",
       "      <th>duration</th>\n",
       "      <th>budget</th>\n",
       "    </tr>\n",
       "  </thead>\n",
       "  <tbody>\n",
       "    <tr>\n",
       "      <th>43</th>\n",
       "      <td>1,990.00000</td>\n",
       "      <td>146.00000</td>\n",
       "      <td>25,000,000.00000</td>\n",
       "    </tr>\n",
       "    <tr>\n",
       "      <th>9</th>\n",
       "      <td>2,016.00000</td>\n",
       "      <td>161.00000</td>\n",
       "      <td>46,000,000.00000</td>\n",
       "    </tr>\n",
       "    <tr>\n",
       "      <th>59</th>\n",
       "      <td>1,973.00000</td>\n",
       "      <td>112.00000</td>\n",
       "      <td>500,000.00000</td>\n",
       "    </tr>\n",
       "    <tr>\n",
       "      <th>24</th>\n",
       "      <td>2,006.00000</td>\n",
       "      <td>151.00000</td>\n",
       "      <td>90,000,000.00000</td>\n",
       "    </tr>\n",
       "    <tr>\n",
       "      <th>14</th>\n",
       "      <td>2,013.00000</td>\n",
       "      <td>180.00000</td>\n",
       "      <td>100,000,000.00000</td>\n",
       "    </tr>\n",
       "  </tbody>\n",
       "</table>\n",
       "</div>"
      ],
      "text/plain": [
       "          year  duration            budget\n",
       "43 1,990.00000 146.00000  25,000,000.00000\n",
       "9  2,016.00000 161.00000  46,000,000.00000\n",
       "59 1,973.00000 112.00000     500,000.00000\n",
       "24 2,006.00000 151.00000  90,000,000.00000\n",
       "14 2,013.00000 180.00000 100,000,000.00000"
      ]
     },
     "execution_count": 939,
     "metadata": {},
     "output_type": "execute_result"
    }
   ],
   "source": [
    "cont_column_names = ['year', 'duration', 'budget']\n",
    "X_train_val_cont = X_train_val[cont_column_names ]\n",
    "\n",
    "X_test_cont      = X_test[     cont_column_names ]\n",
    "\n",
    "\n",
    "X_train_val_cont.head()"
   ]
  },
  {
   "cell_type": "code",
   "execution_count": 940,
   "metadata": {},
   "outputs": [
    {
     "name": "stderr",
     "output_type": "stream",
     "text": [
      "<ipython-input-940-02b26dca41c8>:1: SettingWithCopyWarning: \n",
      "A value is trying to be set on a copy of a slice from a DataFrame.\n",
      "Try using .loc[row_indexer,col_indexer] = value instead\n",
      "\n",
      "See the caveats in the documentation: https://pandas.pydata.org/pandas-docs/stable/user_guide/indexing.html#returning-a-view-versus-a-copy\n",
      "  X_train_val_cont['log_year']         = np.log(X_train_val_cont.year)\n",
      "<ipython-input-940-02b26dca41c8>:2: SettingWithCopyWarning: \n",
      "A value is trying to be set on a copy of a slice from a DataFrame.\n",
      "Try using .loc[row_indexer,col_indexer] = value instead\n",
      "\n",
      "See the caveats in the documentation: https://pandas.pydata.org/pandas-docs/stable/user_guide/indexing.html#returning-a-view-versus-a-copy\n",
      "  X_train_val_cont['log_budget']         = np.log(X_train_val_cont.budget)\n",
      "<ipython-input-940-02b26dca41c8>:3: SettingWithCopyWarning: \n",
      "A value is trying to be set on a copy of a slice from a DataFrame.\n",
      "Try using .loc[row_indexer,col_indexer] = value instead\n",
      "\n",
      "See the caveats in the documentation: https://pandas.pydata.org/pandas-docs/stable/user_guide/indexing.html#returning-a-view-versus-a-copy\n",
      "  X_train_val_cont['budget_sq'] = X_train_val_cont.budget**2\n",
      "<ipython-input-940-02b26dca41c8>:7: SettingWithCopyWarning: \n",
      "A value is trying to be set on a copy of a slice from a DataFrame.\n",
      "Try using .loc[row_indexer,col_indexer] = value instead\n",
      "\n",
      "See the caveats in the documentation: https://pandas.pydata.org/pandas-docs/stable/user_guide/indexing.html#returning-a-view-versus-a-copy\n",
      "  X_test_cont['log_year']         = np.log(X_test_cont.year)\n",
      "<ipython-input-940-02b26dca41c8>:8: SettingWithCopyWarning: \n",
      "A value is trying to be set on a copy of a slice from a DataFrame.\n",
      "Try using .loc[row_indexer,col_indexer] = value instead\n",
      "\n",
      "See the caveats in the documentation: https://pandas.pydata.org/pandas-docs/stable/user_guide/indexing.html#returning-a-view-versus-a-copy\n",
      "  X_test_cont['log_budget']         = np.log(X_test_cont.budget)\n",
      "<ipython-input-940-02b26dca41c8>:9: SettingWithCopyWarning: \n",
      "A value is trying to be set on a copy of a slice from a DataFrame.\n",
      "Try using .loc[row_indexer,col_indexer] = value instead\n",
      "\n",
      "See the caveats in the documentation: https://pandas.pydata.org/pandas-docs/stable/user_guide/indexing.html#returning-a-view-versus-a-copy\n",
      "  X_test_cont['budget_sq']  =  X_test_cont.budget**2\n"
     ]
    }
   ],
   "source": [
    "X_train_val_cont['log_year']         = np.log(X_train_val_cont.year)\n",
    "X_train_val_cont['log_budget']         = np.log(X_train_val_cont.budget)\n",
    "X_train_val_cont['budget_sq'] = X_train_val_cont.budget**2\n",
    "#X_train_val_cont['budget_per_year'] = X_train_val_cont.budget/X_train_val_cont.year\n",
    "\n",
    "\n",
    "X_test_cont['log_year']         = np.log(X_test_cont.year)\n",
    "X_test_cont['log_budget']         = np.log(X_test_cont.budget)\n",
    "X_test_cont['budget_sq']  =  X_test_cont.budget**2\n",
    "#X_test_cont['budget_per_year']  =   X_test_cont.budget/X_test_cont.year"
   ]
  },
  {
   "cell_type": "code",
   "execution_count": 941,
   "metadata": {},
   "outputs": [
    {
     "data": {
      "text/plain": [
       "6"
      ]
     },
     "execution_count": 941,
     "metadata": {},
     "output_type": "execute_result"
    }
   ],
   "source": [
    "X_test_cont.shape[0]"
   ]
  },
  {
   "cell_type": "markdown",
   "metadata": {},
   "source": [
    "#### Concatenate columns"
   ]
  },
  {
   "cell_type": "code",
   "execution_count": 942,
   "metadata": {},
   "outputs": [],
   "source": [
    "cat_columns = ['documentary', 'tv_series', *prevalent_actor_columns]\n",
    "X_train_val_cat_df = X_train_val[cat_columns]\n",
    "#X_train_val_cat_df\n",
    "\n",
    "X_test_cat_df = X_test[cat_columns]\n",
    "#X_train_val_cat_df"
   ]
  },
  {
   "cell_type": "code",
   "execution_count": 943,
   "metadata": {},
   "outputs": [
    {
     "data": {
      "text/plain": [
       "False"
      ]
     },
     "execution_count": 943,
     "metadata": {},
     "output_type": "execute_result"
    }
   ],
   "source": [
    "X_test_cat_df.isnull().values.any()"
   ]
  },
  {
   "cell_type": "code",
   "execution_count": 944,
   "metadata": {},
   "outputs": [],
   "source": [
    "X_train_val_combo= pd.concat([X_train_val_cont, X_train_val_cat_ohe_df, X_train_val_cat_df, ], axis='columns')\n",
    "X_test_combo = pd.concat([X_test_cont.reset_index(drop=True), X_test_cat_ohe_df.reset_index(drop=True), X_test_cat_df.reset_index(drop=True), ], axis='columns')"
   ]
  },
  {
   "cell_type": "code",
   "execution_count": 945,
   "metadata": {},
   "outputs": [
    {
     "data": {
      "text/plain": [
       "(6, 26)"
      ]
     },
     "execution_count": 945,
     "metadata": {},
     "output_type": "execute_result"
    }
   ],
   "source": [
    "X_test_cat_df.shape"
   ]
  },
  {
   "cell_type": "code",
   "execution_count": 946,
   "metadata": {},
   "outputs": [
    {
     "data": {
      "text/plain": [
       "False"
      ]
     },
     "execution_count": 946,
     "metadata": {},
     "output_type": "execute_result"
    }
   ],
   "source": [
    "X_train_val_combo.isnull().values.any()"
   ]
  },
  {
   "cell_type": "code",
   "execution_count": 947,
   "metadata": {},
   "outputs": [
    {
     "data": {
      "text/plain": [
       "False"
      ]
     },
     "execution_count": 947,
     "metadata": {},
     "output_type": "execute_result"
    }
   ],
   "source": [
    "X_test_combo.isnull().values.any()"
   ]
  },
  {
   "cell_type": "code",
   "execution_count": 948,
   "metadata": {},
   "outputs": [
    {
     "data": {
      "text/html": [
       "<div>\n",
       "<style scoped>\n",
       "    .dataframe tbody tr th:only-of-type {\n",
       "        vertical-align: middle;\n",
       "    }\n",
       "\n",
       "    .dataframe tbody tr th {\n",
       "        vertical-align: top;\n",
       "    }\n",
       "\n",
       "    .dataframe thead th {\n",
       "        text-align: right;\n",
       "    }\n",
       "</style>\n",
       "<table border=\"1\" class=\"dataframe\">\n",
       "  <thead>\n",
       "    <tr style=\"text-align: right;\">\n",
       "      <th></th>\n",
       "      <th>year</th>\n",
       "      <th>duration</th>\n",
       "      <th>budget</th>\n",
       "      <th>log_year</th>\n",
       "      <th>log_budget</th>\n",
       "      <th>budget_sq</th>\n",
       "      <th>cinematographer_Kent L. Wakeford</th>\n",
       "      <th>cinematographer_Michael Ballhaus</th>\n",
       "      <th>cinematographer_Michael Chapman</th>\n",
       "      <th>cinematographer_OTHER</th>\n",
       "      <th>...</th>\n",
       "      <th>Bob Dylan</th>\n",
       "      <th>Paul Herman</th>\n",
       "      <th>Murray Moston</th>\n",
       "      <th>Stephen Graham</th>\n",
       "      <th>Verna Bloom</th>\n",
       "      <th>Alec Baldwin</th>\n",
       "      <th>Ray Romano</th>\n",
       "      <th>Diahnne Abbott</th>\n",
       "      <th>Barbara Hershey</th>\n",
       "      <th>Patricia Clarkson</th>\n",
       "    </tr>\n",
       "  </thead>\n",
       "  <tbody>\n",
       "    <tr>\n",
       "      <th>0</th>\n",
       "      <td>1,999.00000</td>\n",
       "      <td>121.00000</td>\n",
       "      <td>55,000,000.00000</td>\n",
       "      <td>7.60040</td>\n",
       "      <td>17.82284</td>\n",
       "      <td>3,025,000,000,000,000.00000</td>\n",
       "      <td>0.00000</td>\n",
       "      <td>0.00000</td>\n",
       "      <td>0.00000</td>\n",
       "      <td>0.00000</td>\n",
       "      <td>...</td>\n",
       "      <td>0.00000</td>\n",
       "      <td>0.00000</td>\n",
       "      <td>0.00000</td>\n",
       "      <td>0.00000</td>\n",
       "      <td>0.00000</td>\n",
       "      <td>0.00000</td>\n",
       "      <td>0.00000</td>\n",
       "      <td>0.00000</td>\n",
       "      <td>0.00000</td>\n",
       "      <td>0.00000</td>\n",
       "    </tr>\n",
       "    <tr>\n",
       "      <th>1</th>\n",
       "      <td>1,986.00000</td>\n",
       "      <td>119.00000</td>\n",
       "      <td>13,800,000.00000</td>\n",
       "      <td>7.59388</td>\n",
       "      <td>16.44018</td>\n",
       "      <td>190,440,000,000,000.00000</td>\n",
       "      <td>0.00000</td>\n",
       "      <td>1.00000</td>\n",
       "      <td>0.00000</td>\n",
       "      <td>0.00000</td>\n",
       "      <td>...</td>\n",
       "      <td>0.00000</td>\n",
       "      <td>0.00000</td>\n",
       "      <td>0.00000</td>\n",
       "      <td>0.00000</td>\n",
       "      <td>0.00000</td>\n",
       "      <td>0.00000</td>\n",
       "      <td>0.00000</td>\n",
       "      <td>0.00000</td>\n",
       "      <td>0.00000</td>\n",
       "      <td>0.00000</td>\n",
       "    </tr>\n",
       "    <tr>\n",
       "      <th>2</th>\n",
       "      <td>2,019.00000</td>\n",
       "      <td>209.00000</td>\n",
       "      <td>159,000,000.00000</td>\n",
       "      <td>7.61036</td>\n",
       "      <td>18.88441</td>\n",
       "      <td>25,281,000,000,000,000.00000</td>\n",
       "      <td>0.00000</td>\n",
       "      <td>0.00000</td>\n",
       "      <td>0.00000</td>\n",
       "      <td>0.00000</td>\n",
       "      <td>...</td>\n",
       "      <td>0.00000</td>\n",
       "      <td>1.00000</td>\n",
       "      <td>0.00000</td>\n",
       "      <td>1.00000</td>\n",
       "      <td>0.00000</td>\n",
       "      <td>0.00000</td>\n",
       "      <td>1.00000</td>\n",
       "      <td>0.00000</td>\n",
       "      <td>0.00000</td>\n",
       "      <td>0.00000</td>\n",
       "    </tr>\n",
       "    <tr>\n",
       "      <th>3</th>\n",
       "      <td>1,972.00000</td>\n",
       "      <td>88.00000</td>\n",
       "      <td>600,000.00000</td>\n",
       "      <td>7.58680</td>\n",
       "      <td>13.30468</td>\n",
       "      <td>360,000,000,000.00000</td>\n",
       "      <td>0.00000</td>\n",
       "      <td>0.00000</td>\n",
       "      <td>0.00000</td>\n",
       "      <td>1.00000</td>\n",
       "      <td>...</td>\n",
       "      <td>0.00000</td>\n",
       "      <td>0.00000</td>\n",
       "      <td>0.00000</td>\n",
       "      <td>0.00000</td>\n",
       "      <td>0.00000</td>\n",
       "      <td>0.00000</td>\n",
       "      <td>0.00000</td>\n",
       "      <td>0.00000</td>\n",
       "      <td>1.00000</td>\n",
       "      <td>0.00000</td>\n",
       "    </tr>\n",
       "    <tr>\n",
       "      <th>4</th>\n",
       "      <td>1,993.00000</td>\n",
       "      <td>139.00000</td>\n",
       "      <td>34,000,000.00000</td>\n",
       "      <td>7.59740</td>\n",
       "      <td>17.34187</td>\n",
       "      <td>1,156,000,000,000,000.00000</td>\n",
       "      <td>0.00000</td>\n",
       "      <td>1.00000</td>\n",
       "      <td>0.00000</td>\n",
       "      <td>0.00000</td>\n",
       "      <td>...</td>\n",
       "      <td>0.00000</td>\n",
       "      <td>0.00000</td>\n",
       "      <td>0.00000</td>\n",
       "      <td>0.00000</td>\n",
       "      <td>0.00000</td>\n",
       "      <td>0.00000</td>\n",
       "      <td>0.00000</td>\n",
       "      <td>0.00000</td>\n",
       "      <td>0.00000</td>\n",
       "      <td>0.00000</td>\n",
       "    </tr>\n",
       "    <tr>\n",
       "      <th>5</th>\n",
       "      <td>1,997.00000</td>\n",
       "      <td>134.00000</td>\n",
       "      <td>28,000,000.00000</td>\n",
       "      <td>7.59940</td>\n",
       "      <td>17.14772</td>\n",
       "      <td>784,000,000,000,000.00000</td>\n",
       "      <td>0.00000</td>\n",
       "      <td>0.00000</td>\n",
       "      <td>0.00000</td>\n",
       "      <td>1.00000</td>\n",
       "      <td>...</td>\n",
       "      <td>0.00000</td>\n",
       "      <td>0.00000</td>\n",
       "      <td>0.00000</td>\n",
       "      <td>0.00000</td>\n",
       "      <td>0.00000</td>\n",
       "      <td>0.00000</td>\n",
       "      <td>0.00000</td>\n",
       "      <td>0.00000</td>\n",
       "      <td>0.00000</td>\n",
       "      <td>0.00000</td>\n",
       "    </tr>\n",
       "  </tbody>\n",
       "</table>\n",
       "<p>6 rows × 38 columns</p>\n",
       "</div>"
      ],
      "text/plain": [
       "         year  duration            budget  log_year  log_budget  \\\n",
       "0 1,999.00000 121.00000  55,000,000.00000   7.60040    17.82284   \n",
       "1 1,986.00000 119.00000  13,800,000.00000   7.59388    16.44018   \n",
       "2 2,019.00000 209.00000 159,000,000.00000   7.61036    18.88441   \n",
       "3 1,972.00000  88.00000     600,000.00000   7.58680    13.30468   \n",
       "4 1,993.00000 139.00000  34,000,000.00000   7.59740    17.34187   \n",
       "5 1,997.00000 134.00000  28,000,000.00000   7.59940    17.14772   \n",
       "\n",
       "                     budget_sq  cinematographer_Kent L. Wakeford  \\\n",
       "0  3,025,000,000,000,000.00000                           0.00000   \n",
       "1    190,440,000,000,000.00000                           0.00000   \n",
       "2 25,281,000,000,000,000.00000                           0.00000   \n",
       "3        360,000,000,000.00000                           0.00000   \n",
       "4  1,156,000,000,000,000.00000                           0.00000   \n",
       "5    784,000,000,000,000.00000                           0.00000   \n",
       "\n",
       "   cinematographer_Michael Ballhaus  cinematographer_Michael Chapman  \\\n",
       "0                           0.00000                          0.00000   \n",
       "1                           1.00000                          0.00000   \n",
       "2                           0.00000                          0.00000   \n",
       "3                           0.00000                          0.00000   \n",
       "4                           1.00000                          0.00000   \n",
       "5                           0.00000                          0.00000   \n",
       "\n",
       "   cinematographer_OTHER  ...  Bob Dylan  Paul Herman  Murray Moston  \\\n",
       "0                0.00000  ...    0.00000      0.00000        0.00000   \n",
       "1                0.00000  ...    0.00000      0.00000        0.00000   \n",
       "2                0.00000  ...    0.00000      1.00000        0.00000   \n",
       "3                1.00000  ...    0.00000      0.00000        0.00000   \n",
       "4                0.00000  ...    0.00000      0.00000        0.00000   \n",
       "5                1.00000  ...    0.00000      0.00000        0.00000   \n",
       "\n",
       "   Stephen Graham  Verna Bloom  Alec Baldwin  Ray Romano  Diahnne Abbott  \\\n",
       "0         0.00000      0.00000       0.00000     0.00000         0.00000   \n",
       "1         0.00000      0.00000       0.00000     0.00000         0.00000   \n",
       "2         1.00000      0.00000       0.00000     1.00000         0.00000   \n",
       "3         0.00000      0.00000       0.00000     0.00000         0.00000   \n",
       "4         0.00000      0.00000       0.00000     0.00000         0.00000   \n",
       "5         0.00000      0.00000       0.00000     0.00000         0.00000   \n",
       "\n",
       "   Barbara Hershey  Patricia Clarkson  \n",
       "0          0.00000            0.00000  \n",
       "1          0.00000            0.00000  \n",
       "2          0.00000            0.00000  \n",
       "3          1.00000            0.00000  \n",
       "4          0.00000            0.00000  \n",
       "5          0.00000            0.00000  \n",
       "\n",
       "[6 rows x 38 columns]"
      ]
     },
     "execution_count": 948,
     "metadata": {},
     "output_type": "execute_result"
    }
   ],
   "source": [
    "X_test_combo"
   ]
  },
  {
   "cell_type": "code",
   "execution_count": 949,
   "metadata": {},
   "outputs": [
    {
     "data": {
      "text/plain": [
       "Index(['year', 'duration', 'budget', 'log_year', 'log_budget', 'budget_sq',\n",
       "       'cinematographer_Kent L. Wakeford', 'cinematographer_Michael Ballhaus',\n",
       "       'cinematographer_Michael Chapman', 'cinematographer_OTHER',\n",
       "       'cinematographer_Robert Richardson', 'cinematographer_Rodrigo Prieto',\n",
       "       'documentary', 'tv_series', 'Robert De Niro', 'Martin Scorsese',\n",
       "       'Leonardo DiCaprio', 'Harvey Keitel', 'Joe Pesci', 'Catherine Scorsese',\n",
       "       'Eric Clapton', 'Harry Northup', 'Victor Argo', 'Michael Stuhlbarg',\n",
       "       'Charles Scorsese', 'Barry Primus', 'Ringo Starr', 'Frank Vincent',\n",
       "       'Bob Dylan', 'Paul Herman', 'Murray Moston', 'Stephen Graham',\n",
       "       'Verna Bloom', 'Alec Baldwin', 'Ray Romano', 'Diahnne Abbott',\n",
       "       'Barbara Hershey', 'Patricia Clarkson'],\n",
       "      dtype='object')"
      ]
     },
     "execution_count": 949,
     "metadata": {},
     "output_type": "execute_result"
    }
   ],
   "source": [
    "selected_columns = X_train_val_combo.columns\n",
    "X_train_val_combo.columns"
   ]
  },
  {
   "cell_type": "markdown",
   "metadata": {},
   "source": [
    "### Train vs. val split\n",
    "\n"
   ]
  },
  {
   "cell_type": "code",
   "execution_count": 950,
   "metadata": {},
   "outputs": [],
   "source": [
    "X_train, X_val, y_train, y_val = train_test_split(X_train_val_combo, y_train_val, test_size=.25, random_state=43) #43"
   ]
  },
  {
   "cell_type": "code",
   "execution_count": null,
   "metadata": {},
   "outputs": [],
   "source": []
  },
  {
   "cell_type": "markdown",
   "metadata": {},
   "source": [
    "### Lasso CV"
   ]
  },
  {
   "cell_type": "code",
   "execution_count": 951,
   "metadata": {},
   "outputs": [
    {
     "data": {
      "text/plain": [
       "StandardScaler()"
      ]
     },
     "execution_count": 951,
     "metadata": {},
     "output_type": "execute_result"
    }
   ],
   "source": [
    "## Scale the data as before\n",
    "std = StandardScaler()\n",
    "std.fit(X_train_val_combo.values)"
   ]
  },
  {
   "cell_type": "code",
   "execution_count": 952,
   "metadata": {},
   "outputs": [],
   "source": [
    "## Scale the Predictors on both the train and test set\n",
    "X_tr = std.transform(X_train_val_combo.values)\n",
    "X_te = std.transform(X_test_combo.values)"
   ]
  },
  {
   "cell_type": "code",
   "execution_count": 953,
   "metadata": {},
   "outputs": [
    {
     "data": {
      "text/plain": [
       "LassoCV(alphas=array([1.00000000e-02, 1.04737090e-02, 1.09698580e-02, 1.14895100e-02,\n",
       "       1.20337784e-02, 1.26038293e-02, 1.32008840e-02, 1.38262217e-02,\n",
       "       1.44811823e-02, 1.51671689e-02, 1.58856513e-02, 1.66381689e-02,\n",
       "       1.74263339e-02, 1.82518349e-02, 1.91164408e-02, 2.00220037e-02,\n",
       "       2.09704640e-02, 2.19638537e-02, 2.30043012e-02, 2.40940356e-02,\n",
       "       2.52353917e-02, 2.64308149e-0...\n",
       "       3.44896226e+01, 3.61234270e+01, 3.78346262e+01, 3.96268864e+01,\n",
       "       4.15040476e+01, 4.34701316e+01, 4.55293507e+01, 4.76861170e+01,\n",
       "       4.99450512e+01, 5.23109931e+01, 5.47890118e+01, 5.73844165e+01,\n",
       "       6.01027678e+01, 6.29498899e+01, 6.59318827e+01, 6.90551352e+01,\n",
       "       7.23263390e+01, 7.57525026e+01, 7.93409667e+01, 8.30994195e+01,\n",
       "       8.70359136e+01, 9.11588830e+01, 9.54771611e+01, 1.00000000e+02]),\n",
       "        cv=5)"
      ]
     },
     "execution_count": 953,
     "metadata": {},
     "output_type": "execute_result"
    }
   ],
   "source": [
    "# Run the cross validation, find the best alpha, refit the model on all the data with that alpha\n",
    "\n",
    "alphavec = 10**np.linspace(-2,2,200)\n",
    "\n",
    "lasso_model = LassoCV(alphas = alphavec, cv=5)\n",
    "lasso_model.fit(X_tr, y_train_val)"
   ]
  },
  {
   "cell_type": "code",
   "execution_count": 954,
   "metadata": {},
   "outputs": [
    {
     "data": {
      "text/plain": [
       "0.08804883581643465"
      ]
     },
     "execution_count": 954,
     "metadata": {},
     "output_type": "execute_result"
    }
   ],
   "source": [
    "# This is the best alpha value it found \n",
    "lasso_model.alpha_"
   ]
  },
  {
   "cell_type": "code",
   "execution_count": 955,
   "metadata": {},
   "outputs": [
    {
     "data": {
      "text/plain": [
       "[('year', 0.0),\n",
       " ('duration', 0.0),\n",
       " ('budget', 0.0),\n",
       " ('log_year', 0.0),\n",
       " ('log_budget', 0.0),\n",
       " ('budget_sq', 0.0),\n",
       " ('cinematographer_Kent L. Wakeford', -0.0),\n",
       " ('cinematographer_Michael Ballhaus', 0.02444754008564104),\n",
       " ('cinematographer_Michael Chapman', 0.0),\n",
       " ('cinematographer_OTHER', -0.2265271866387371),\n",
       " ('cinematographer_Robert Richardson', 0.0),\n",
       " ('cinematographer_Rodrigo Prieto', -0.0),\n",
       " ('documentary', 0.0),\n",
       " ('tv_series', 0.0),\n",
       " ('Robert De Niro', 0.0),\n",
       " ('Martin Scorsese', 0.0),\n",
       " ('Leonardo DiCaprio', 0.06764527453816274),\n",
       " ('Harvey Keitel', -0.0),\n",
       " ('Joe Pesci', 0.1619931039056106),\n",
       " ('Catherine Scorsese', 0.0),\n",
       " ('Eric Clapton', 0.0),\n",
       " ('Harry Northup', -0.06325732146174662),\n",
       " ('Victor Argo', 0.0),\n",
       " ('Michael Stuhlbarg', -0.0),\n",
       " ('Charles Scorsese', 0.017423342644693886),\n",
       " ('Barry Primus', -0.0),\n",
       " ('Ringo Starr', 0.0),\n",
       " ('Frank Vincent', 0.0),\n",
       " ('Bob Dylan', 0.0),\n",
       " ('Paul Herman', -0.05951629141972977),\n",
       " ('Murray Moston', -0.027540304970778605),\n",
       " ('Stephen Graham', -0.0),\n",
       " ('Verna Bloom', -0.0),\n",
       " ('Alec Baldwin', 0.0),\n",
       " ('Ray Romano', 0.0),\n",
       " ('Diahnne Abbott', 0.1204636965028767),\n",
       " ('Barbara Hershey', -0.0),\n",
       " ('Patricia Clarkson', 0.0030741472458017042)]"
      ]
     },
     "execution_count": 955,
     "metadata": {},
     "output_type": "execute_result"
    }
   ],
   "source": [
    "# These are the (standardized) coefficients found\n",
    "# when it refit using that best alpha\n",
    "coefficients = list(zip(X_train_val_combo.columns, lasso_model.coef_))\n",
    "coefficients"
   ]
  },
  {
   "cell_type": "code",
   "execution_count": 956,
   "metadata": {},
   "outputs": [],
   "source": [
    "# Make predictions on the test set using the new model\n",
    "test_set_pred = lasso_model.predict(X_te)"
   ]
  },
  {
   "cell_type": "code",
   "execution_count": 957,
   "metadata": {},
   "outputs": [
    {
     "data": {
      "text/plain": [
       "0.5200057902497562"
      ]
     },
     "execution_count": 957,
     "metadata": {},
     "output_type": "execute_result"
    }
   ],
   "source": [
    "# Find the MAE and R^2 on the test set using this model\n",
    "mean_absolute_error = mae(y_test, test_set_pred)\n",
    "mean_absolute_error"
   ]
  },
  {
   "cell_type": "code",
   "execution_count": 958,
   "metadata": {},
   "outputs": [
    {
     "data": {
      "text/plain": [
       "-0.25524531772410697"
      ]
     },
     "execution_count": 958,
     "metadata": {},
     "output_type": "execute_result"
    }
   ],
   "source": [
    "r2_score_ = r2_score(y_test, test_set_pred)\n",
    "r2_score_ "
   ]
  },
  {
   "cell_type": "code",
   "execution_count": 959,
   "metadata": {},
   "outputs": [
    {
     "data": {
      "text/plain": [
       "[<matplotlib.lines.Line2D at 0x7f9638548be0>]"
      ]
     },
     "execution_count": 959,
     "metadata": {},
     "output_type": "execute_result"
    },
    {
     "data": {
      "image/png": "[encoded data removed]",
      "text/plain": [
       "<Figure size 432x288 with 1 Axes>"
      ]
     },
     "metadata": {
      "needs_background": "light"
     },
     "output_type": "display_data"
    }
   ],
   "source": [
    "plt.scatter( test_set_pred, y_test)\n",
    "plt.plot( y_test, y_test, c='k')"
   ]
  },
  {
   "cell_type": "code",
   "execution_count": 960,
   "metadata": {},
   "outputs": [
    {
     "data": {
      "text/plain": [
       "<matplotlib.collections.PathCollection at 0x7f95f89dba00>"
      ]
     },
     "execution_count": 960,
     "metadata": {},
     "output_type": "execute_result"
    },
    {
     "data": {
      "image/png": "[encoded data removed]",
      "text/plain": [
       "<Figure size 432x288 with 1 Axes>"
      ]
     },
     "metadata": {
      "needs_background": "light"
     },
     "output_type": "display_data"
    }
   ],
   "source": [
    "residual = y_test-test_set_pred\n",
    "plt.scatter( test_set_pred, residual)"
   ]
  },
  {
   "cell_type": "code",
   "execution_count": 961,
   "metadata": {},
   "outputs": [],
   "source": [
    "pd.options.display.float_format = \"{:,.5f}\".format\n",
    "\n"
   ]
  },
  {
   "cell_type": "code",
   "execution_count": 962,
   "metadata": {},
   "outputs": [
    {
     "data": {
      "text/html": [
       "<div>\n",
       "<style scoped>\n",
       "    .dataframe tbody tr th:only-of-type {\n",
       "        vertical-align: middle;\n",
       "    }\n",
       "\n",
       "    .dataframe tbody tr th {\n",
       "        vertical-align: top;\n",
       "    }\n",
       "\n",
       "    .dataframe thead th {\n",
       "        text-align: right;\n",
       "    }\n",
       "</style>\n",
       "<table border=\"1\" class=\"dataframe\">\n",
       "  <thead>\n",
       "    <tr style=\"text-align: right;\">\n",
       "      <th></th>\n",
       "      <th>Feature</th>\n",
       "      <th>Coefficient</th>\n",
       "    </tr>\n",
       "  </thead>\n",
       "  <tbody>\n",
       "    <tr>\n",
       "      <th>9</th>\n",
       "      <td>cinematographer_OTHER</td>\n",
       "      <td>-0.22653</td>\n",
       "    </tr>\n",
       "    <tr>\n",
       "      <th>18</th>\n",
       "      <td>Joe Pesci</td>\n",
       "      <td>0.16199</td>\n",
       "    </tr>\n",
       "    <tr>\n",
       "      <th>35</th>\n",
       "      <td>Diahnne Abbott</td>\n",
       "      <td>0.12046</td>\n",
       "    </tr>\n",
       "    <tr>\n",
       "      <th>16</th>\n",
       "      <td>Leonardo DiCaprio</td>\n",
       "      <td>0.06765</td>\n",
       "    </tr>\n",
       "    <tr>\n",
       "      <th>21</th>\n",
       "      <td>Harry Northup</td>\n",
       "      <td>-0.06326</td>\n",
       "    </tr>\n",
       "    <tr>\n",
       "      <th>29</th>\n",
       "      <td>Paul Herman</td>\n",
       "      <td>-0.05952</td>\n",
       "    </tr>\n",
       "    <tr>\n",
       "      <th>30</th>\n",
       "      <td>Murray Moston</td>\n",
       "      <td>-0.02754</td>\n",
       "    </tr>\n",
       "    <tr>\n",
       "      <th>7</th>\n",
       "      <td>cinematographer_Michael Ballhaus</td>\n",
       "      <td>0.02445</td>\n",
       "    </tr>\n",
       "    <tr>\n",
       "      <th>24</th>\n",
       "      <td>Charles Scorsese</td>\n",
       "      <td>0.01742</td>\n",
       "    </tr>\n",
       "    <tr>\n",
       "      <th>37</th>\n",
       "      <td>Patricia Clarkson</td>\n",
       "      <td>0.00307</td>\n",
       "    </tr>\n",
       "  </tbody>\n",
       "</table>\n",
       "</div>"
      ],
      "text/plain": [
       "                             Feature  Coefficient\n",
       "9              cinematographer_OTHER     -0.22653\n",
       "18                         Joe Pesci      0.16199\n",
       "35                    Diahnne Abbott      0.12046\n",
       "16                 Leonardo DiCaprio      0.06765\n",
       "21                     Harry Northup     -0.06326\n",
       "29                       Paul Herman     -0.05952\n",
       "30                     Murray Moston     -0.02754\n",
       "7   cinematographer_Michael Ballhaus      0.02445\n",
       "24                  Charles Scorsese      0.01742\n",
       "37                 Patricia Clarkson      0.00307"
      ]
     },
     "execution_count": 962,
     "metadata": {},
     "output_type": "execute_result"
    }
   ],
   "source": [
    "coefficients_df  = pd.DataFrame(coefficients, columns=['Feature', 'Coefficient'])\n",
    "coefficients_df['abs_val_of_coefficient'] = coefficients_df.Coefficient.abs()\n",
    "coefficients_df.sort_values(by='abs_val_of_coefficient', ascending=False, inplace=True)\n",
    "\n",
    "coefficients_df.drop(columns='abs_val_of_coefficient', inplace=True)\n",
    "coefficients_df.head(10)\n",
    "#print(coefficients_df.head(10))"
   ]
  },
  {
   "cell_type": "code",
   "execution_count": 963,
   "metadata": {},
   "outputs": [
    {
     "data": {
      "text/plain": [
       "{'r2_score': <function sklearn.metrics._regression.r2_score(y_true, y_pred, *, sample_weight=None, multioutput='uniform_average')>,\n",
       " 'mean absolute error': 0.5200057902497562,\n",
       " 'coefficients':                               Feature  Coefficient\n",
       " 9               cinematographer_OTHER     -0.22653\n",
       " 18                          Joe Pesci      0.16199\n",
       " 35                     Diahnne Abbott      0.12046\n",
       " 16                  Leonardo DiCaprio      0.06765\n",
       " 21                      Harry Northup     -0.06326\n",
       " 29                        Paul Herman     -0.05952\n",
       " 30                      Murray Moston     -0.02754\n",
       " 7    cinematographer_Michael Ballhaus      0.02445\n",
       " 24                   Charles Scorsese      0.01742\n",
       " 37                  Patricia Clarkson      0.00307\n",
       " 31                     Stephen Graham     -0.00000\n",
       " 32                        Verna Bloom     -0.00000\n",
       " 28                          Bob Dylan      0.00000\n",
       " 27                      Frank Vincent      0.00000\n",
       " 26                        Ringo Starr      0.00000\n",
       " 25                       Barry Primus     -0.00000\n",
       " 33                       Alec Baldwin      0.00000\n",
       " 34                         Ray Romano      0.00000\n",
       " 36                    Barbara Hershey     -0.00000\n",
       " 23                  Michael Stuhlbarg     -0.00000\n",
       " 22                        Victor Argo      0.00000\n",
       " 0                                year      0.00000\n",
       " 20                       Eric Clapton      0.00000\n",
       " 1                            duration      0.00000\n",
       " 17                      Harvey Keitel     -0.00000\n",
       " 15                    Martin Scorsese      0.00000\n",
       " 14                     Robert De Niro      0.00000\n",
       " 13                          tv_series      0.00000\n",
       " 12                        documentary      0.00000\n",
       " 11     cinematographer_Rodrigo Prieto     -0.00000\n",
       " 10  cinematographer_Robert Richardson      0.00000\n",
       " 8     cinematographer_Michael Chapman      0.00000\n",
       " 6    cinematographer_Kent L. Wakeford     -0.00000\n",
       " 5                           budget_sq      0.00000\n",
       " 4                          log_budget      0.00000\n",
       " 3                            log_year      0.00000\n",
       " 2                              budget      0.00000\n",
       " 19                 Catherine Scorsese      0.00000}"
      ]
     },
     "execution_count": 963,
     "metadata": {},
     "output_type": "execute_result"
    }
   ],
   "source": [
    "Lasso_CV_model_w_budget = {\"r2_score\": r2_score, 'mean absolute error': mean_absolute_error, 'coefficients': coefficients_df}\n",
    "Lasso_CV_model_w_budget "
   ]
  },
  {
   "cell_type": "code",
   "execution_count": 964,
   "metadata": {},
   "outputs": [],
   "source": [
    "LCVM_w_budget_filename = 'Lasso_CV_model_w_budget_' + director +'.pickle'\n",
    "with open(dir_str + LCVM_w_budget_filename, 'wb') as to_write:\n",
    "    pickle.dump(Lasso_CV_model_w_budget, to_write)"
   ]
  },
  {
   "cell_type": "markdown",
   "metadata": {},
   "source": [
    "### Ridge regression"
   ]
  },
  {
   "cell_type": "code",
   "execution_count": 965,
   "metadata": {},
   "outputs": [
    {
     "data": {
      "text/plain": [
       "20.72921779595372"
      ]
     },
     "execution_count": 965,
     "metadata": {},
     "output_type": "execute_result"
    }
   ],
   "source": [
    "# Run the cross validation, find the best alpha, refit the model on all the data with that alpha\n",
    "\n",
    "alphavec = 10**np.linspace(-2,2,200)\n",
    "\n",
    "ridge_model = RidgeCV(alphas = alphavec, cv=5)\n",
    "ridge_model.fit(X_tr, y_train_val)\n",
    "\n",
    "# This is the best alpha value it found \n",
    "ridge_model.alpha_"
   ]
  },
  {
   "cell_type": "code",
   "execution_count": 966,
   "metadata": {},
   "outputs": [],
   "source": [
    "# These are the (standardized) coefficients found\n",
    "# when it refit using that best alpha\n",
    "coefficients = list(zip(X_train.columns, ridge_model.coef_))\n"
   ]
  },
  {
   "cell_type": "code",
   "execution_count": 967,
   "metadata": {},
   "outputs": [],
   "source": [
    "# Make predictions on the test set using the new model\n",
    "test_set_pred = ridge_model.predict(X_te)"
   ]
  },
  {
   "cell_type": "code",
   "execution_count": 968,
   "metadata": {},
   "outputs": [
    {
     "data": {
      "text/plain": [
       "0.5690091259310054"
      ]
     },
     "execution_count": 968,
     "metadata": {},
     "output_type": "execute_result"
    }
   ],
   "source": [
    "# Find the MAE and R^2 on the test set using this model\n",
    "mean_absolute_error = mae(y_test, test_set_pred)\n",
    "mean_absolute_error"
   ]
  },
  {
   "cell_type": "code",
   "execution_count": 969,
   "metadata": {},
   "outputs": [
    {
     "data": {
      "text/plain": [
       "-0.14302057458246864"
      ]
     },
     "execution_count": 969,
     "metadata": {},
     "output_type": "execute_result"
    }
   ],
   "source": [
    "r2_score_ = r2_score(y_test, test_set_pred)\n",
    "r2_score_ "
   ]
  },
  {
   "cell_type": "code",
   "execution_count": 970,
   "metadata": {},
   "outputs": [
    {
     "data": {
      "text/plain": [
       "[<matplotlib.lines.Line2D at 0x7f960a01f5e0>]"
      ]
     },
     "execution_count": 970,
     "metadata": {},
     "output_type": "execute_result"
    },
    {
     "data": {
      "image/png": "[encoded data removed]",
      "text/plain": [
       "<Figure size 432x288 with 1 Axes>"
      ]
     },
     "metadata": {
      "needs_background": "light"
     },
     "output_type": "display_data"
    }
   ],
   "source": [
    "\n",
    "plt.scatter( test_set_pred, y_test)\n",
    "plt.plot( y_test, y_test, c='k')"
   ]
  },
  {
   "cell_type": "code",
   "execution_count": null,
   "metadata": {},
   "outputs": [],
   "source": []
  },
  {
   "cell_type": "code",
   "execution_count": 971,
   "metadata": {},
   "outputs": [
    {
     "data": {
      "text/plain": [
       "<matplotlib.collections.PathCollection at 0x7f960a00f760>"
      ]
     },
     "execution_count": 971,
     "metadata": {},
     "output_type": "execute_result"
    },
    {
     "data": {
      "image/png": "[encoded data removed]",
      "text/plain": [
       "<Figure size 432x288 with 1 Axes>"
      ]
     },
     "metadata": {
      "needs_background": "light"
     },
     "output_type": "display_data"
    }
   ],
   "source": [
    "residual = y_test-test_set_pred\n",
    "plt.scatter( test_set_pred, residual)"
   ]
  },
  {
   "cell_type": "code",
   "execution_count": null,
   "metadata": {},
   "outputs": [],
   "source": []
  },
  {
   "cell_type": "code",
   "execution_count": 972,
   "metadata": {},
   "outputs": [
    {
     "data": {
      "text/html": [
       "<div>\n",
       "<style scoped>\n",
       "    .dataframe tbody tr th:only-of-type {\n",
       "        vertical-align: middle;\n",
       "    }\n",
       "\n",
       "    .dataframe tbody tr th {\n",
       "        vertical-align: top;\n",
       "    }\n",
       "\n",
       "    .dataframe thead th {\n",
       "        text-align: right;\n",
       "    }\n",
       "</style>\n",
       "<table border=\"1\" class=\"dataframe\">\n",
       "  <thead>\n",
       "    <tr style=\"text-align: right;\">\n",
       "      <th></th>\n",
       "      <th>Feature</th>\n",
       "      <th>Coefficient</th>\n",
       "    </tr>\n",
       "  </thead>\n",
       "  <tbody>\n",
       "    <tr>\n",
       "      <th>9</th>\n",
       "      <td>cinematographer_OTHER</td>\n",
       "      <td>-0.10765</td>\n",
       "    </tr>\n",
       "    <tr>\n",
       "      <th>29</th>\n",
       "      <td>Paul Herman</td>\n",
       "      <td>-0.08331</td>\n",
       "    </tr>\n",
       "    <tr>\n",
       "      <th>35</th>\n",
       "      <td>Diahnne Abbott</td>\n",
       "      <td>0.08318</td>\n",
       "    </tr>\n",
       "    <tr>\n",
       "      <th>7</th>\n",
       "      <td>cinematographer_Michael Ballhaus</td>\n",
       "      <td>0.07796</td>\n",
       "    </tr>\n",
       "    <tr>\n",
       "      <th>18</th>\n",
       "      <td>Joe Pesci</td>\n",
       "      <td>0.06477</td>\n",
       "    </tr>\n",
       "    <tr>\n",
       "      <th>27</th>\n",
       "      <td>Frank Vincent</td>\n",
       "      <td>0.06477</td>\n",
       "    </tr>\n",
       "    <tr>\n",
       "      <th>16</th>\n",
       "      <td>Leonardo DiCaprio</td>\n",
       "      <td>0.06075</td>\n",
       "    </tr>\n",
       "    <tr>\n",
       "      <th>25</th>\n",
       "      <td>Barry Primus</td>\n",
       "      <td>-0.05833</td>\n",
       "    </tr>\n",
       "    <tr>\n",
       "      <th>14</th>\n",
       "      <td>Robert De Niro</td>\n",
       "      <td>0.05411</td>\n",
       "    </tr>\n",
       "    <tr>\n",
       "      <th>37</th>\n",
       "      <td>Patricia Clarkson</td>\n",
       "      <td>0.05006</td>\n",
       "    </tr>\n",
       "    <tr>\n",
       "      <th>24</th>\n",
       "      <td>Charles Scorsese</td>\n",
       "      <td>0.04993</td>\n",
       "    </tr>\n",
       "    <tr>\n",
       "      <th>31</th>\n",
       "      <td>Stephen Graham</td>\n",
       "      <td>-0.04880</td>\n",
       "    </tr>\n",
       "    <tr>\n",
       "      <th>8</th>\n",
       "      <td>cinematographer_Michael Chapman</td>\n",
       "      <td>0.04328</td>\n",
       "    </tr>\n",
       "    <tr>\n",
       "      <th>4</th>\n",
       "      <td>log_budget</td>\n",
       "      <td>0.03530</td>\n",
       "    </tr>\n",
       "    <tr>\n",
       "      <th>21</th>\n",
       "      <td>Harry Northup</td>\n",
       "      <td>-0.03472</td>\n",
       "    </tr>\n",
       "    <tr>\n",
       "      <th>30</th>\n",
       "      <td>Murray Moston</td>\n",
       "      <td>-0.03027</td>\n",
       "    </tr>\n",
       "    <tr>\n",
       "      <th>22</th>\n",
       "      <td>Victor Argo</td>\n",
       "      <td>0.02997</td>\n",
       "    </tr>\n",
       "    <tr>\n",
       "      <th>17</th>\n",
       "      <td>Harvey Keitel</td>\n",
       "      <td>-0.02747</td>\n",
       "    </tr>\n",
       "    <tr>\n",
       "      <th>33</th>\n",
       "      <td>Alec Baldwin</td>\n",
       "      <td>0.02253</td>\n",
       "    </tr>\n",
       "    <tr>\n",
       "      <th>3</th>\n",
       "      <td>log_year</td>\n",
       "      <td>0.02249</td>\n",
       "    </tr>\n",
       "    <tr>\n",
       "      <th>0</th>\n",
       "      <td>year</td>\n",
       "      <td>0.02238</td>\n",
       "    </tr>\n",
       "    <tr>\n",
       "      <th>2</th>\n",
       "      <td>budget</td>\n",
       "      <td>0.02023</td>\n",
       "    </tr>\n",
       "    <tr>\n",
       "      <th>23</th>\n",
       "      <td>Michael Stuhlbarg</td>\n",
       "      <td>-0.01771</td>\n",
       "    </tr>\n",
       "    <tr>\n",
       "      <th>1</th>\n",
       "      <td>duration</td>\n",
       "      <td>0.01647</td>\n",
       "    </tr>\n",
       "    <tr>\n",
       "      <th>32</th>\n",
       "      <td>Verna Bloom</td>\n",
       "      <td>0.01372</td>\n",
       "    </tr>\n",
       "    <tr>\n",
       "      <th>19</th>\n",
       "      <td>Catherine Scorsese</td>\n",
       "      <td>0.00832</td>\n",
       "    </tr>\n",
       "    <tr>\n",
       "      <th>5</th>\n",
       "      <td>budget_sq</td>\n",
       "      <td>0.00670</td>\n",
       "    </tr>\n",
       "    <tr>\n",
       "      <th>36</th>\n",
       "      <td>Barbara Hershey</td>\n",
       "      <td>0.00647</td>\n",
       "    </tr>\n",
       "    <tr>\n",
       "      <th>6</th>\n",
       "      <td>cinematographer_Kent L. Wakeford</td>\n",
       "      <td>0.00634</td>\n",
       "    </tr>\n",
       "    <tr>\n",
       "      <th>10</th>\n",
       "      <td>cinematographer_Robert Richardson</td>\n",
       "      <td>-0.00381</td>\n",
       "    </tr>\n",
       "    <tr>\n",
       "      <th>11</th>\n",
       "      <td>cinematographer_Rodrigo Prieto</td>\n",
       "      <td>-0.00168</td>\n",
       "    </tr>\n",
       "    <tr>\n",
       "      <th>28</th>\n",
       "      <td>Bob Dylan</td>\n",
       "      <td>0.00000</td>\n",
       "    </tr>\n",
       "    <tr>\n",
       "      <th>12</th>\n",
       "      <td>documentary</td>\n",
       "      <td>0.00000</td>\n",
       "    </tr>\n",
       "    <tr>\n",
       "      <th>26</th>\n",
       "      <td>Ringo Starr</td>\n",
       "      <td>0.00000</td>\n",
       "    </tr>\n",
       "    <tr>\n",
       "      <th>34</th>\n",
       "      <td>Ray Romano</td>\n",
       "      <td>0.00000</td>\n",
       "    </tr>\n",
       "    <tr>\n",
       "      <th>13</th>\n",
       "      <td>tv_series</td>\n",
       "      <td>0.00000</td>\n",
       "    </tr>\n",
       "    <tr>\n",
       "      <th>15</th>\n",
       "      <td>Martin Scorsese</td>\n",
       "      <td>0.00000</td>\n",
       "    </tr>\n",
       "    <tr>\n",
       "      <th>20</th>\n",
       "      <td>Eric Clapton</td>\n",
       "      <td>0.00000</td>\n",
       "    </tr>\n",
       "  </tbody>\n",
       "</table>\n",
       "</div>"
      ],
      "text/plain": [
       "                              Feature  Coefficient\n",
       "9               cinematographer_OTHER     -0.10765\n",
       "29                        Paul Herman     -0.08331\n",
       "35                     Diahnne Abbott      0.08318\n",
       "7    cinematographer_Michael Ballhaus      0.07796\n",
       "18                          Joe Pesci      0.06477\n",
       "27                      Frank Vincent      0.06477\n",
       "16                  Leonardo DiCaprio      0.06075\n",
       "25                       Barry Primus     -0.05833\n",
       "14                     Robert De Niro      0.05411\n",
       "37                  Patricia Clarkson      0.05006\n",
       "24                   Charles Scorsese      0.04993\n",
       "31                     Stephen Graham     -0.04880\n",
       "8     cinematographer_Michael Chapman      0.04328\n",
       "4                          log_budget      0.03530\n",
       "21                      Harry Northup     -0.03472\n",
       "30                      Murray Moston     -0.03027\n",
       "22                        Victor Argo      0.02997\n",
       "17                      Harvey Keitel     -0.02747\n",
       "33                       Alec Baldwin      0.02253\n",
       "3                            log_year      0.02249\n",
       "0                                year      0.02238\n",
       "2                              budget      0.02023\n",
       "23                  Michael Stuhlbarg     -0.01771\n",
       "1                            duration      0.01647\n",
       "32                        Verna Bloom      0.01372\n",
       "19                 Catherine Scorsese      0.00832\n",
       "5                           budget_sq      0.00670\n",
       "36                    Barbara Hershey      0.00647\n",
       "6    cinematographer_Kent L. Wakeford      0.00634\n",
       "10  cinematographer_Robert Richardson     -0.00381\n",
       "11     cinematographer_Rodrigo Prieto     -0.00168\n",
       "28                          Bob Dylan      0.00000\n",
       "12                        documentary      0.00000\n",
       "26                        Ringo Starr      0.00000\n",
       "34                         Ray Romano      0.00000\n",
       "13                          tv_series      0.00000\n",
       "15                    Martin Scorsese      0.00000\n",
       "20                       Eric Clapton      0.00000"
      ]
     },
     "execution_count": 972,
     "metadata": {},
     "output_type": "execute_result"
    }
   ],
   "source": [
    "coefficients_df  = pd.DataFrame(coefficients, columns=['Feature', 'Coefficient'])\n",
    "coefficients_df['abs_val_of_coefficient'] = coefficients_df.Coefficient.abs()\n",
    "coefficients_df.sort_values(by='abs_val_of_coefficient', ascending=False, inplace=True)\n",
    "\n",
    "coefficients_df.drop(columns='abs_val_of_coefficient', inplace=True)\n",
    "coefficients_df.head(40)"
   ]
  },
  {
   "cell_type": "code",
   "execution_count": 973,
   "metadata": {},
   "outputs": [
    {
     "data": {
      "text/plain": [
       "{'r2_score': <function sklearn.metrics._regression.r2_score(y_true, y_pred, *, sample_weight=None, multioutput='uniform_average')>,\n",
       " 'mean absolute error': 0.5690091259310054,\n",
       " 'coefficients':                               Feature  Coefficient\n",
       " 9               cinematographer_OTHER     -0.10765\n",
       " 29                        Paul Herman     -0.08331\n",
       " 35                     Diahnne Abbott      0.08318\n",
       " 7    cinematographer_Michael Ballhaus      0.07796\n",
       " 18                          Joe Pesci      0.06477\n",
       " 27                      Frank Vincent      0.06477\n",
       " 16                  Leonardo DiCaprio      0.06075\n",
       " 25                       Barry Primus     -0.05833\n",
       " 14                     Robert De Niro      0.05411\n",
       " 37                  Patricia Clarkson      0.05006\n",
       " 24                   Charles Scorsese      0.04993\n",
       " 31                     Stephen Graham     -0.04880\n",
       " 8     cinematographer_Michael Chapman      0.04328\n",
       " 4                          log_budget      0.03530\n",
       " 21                      Harry Northup     -0.03472\n",
       " 30                      Murray Moston     -0.03027\n",
       " 22                        Victor Argo      0.02997\n",
       " 17                      Harvey Keitel     -0.02747\n",
       " 33                       Alec Baldwin      0.02253\n",
       " 3                            log_year      0.02249\n",
       " 0                                year      0.02238\n",
       " 2                              budget      0.02023\n",
       " 23                  Michael Stuhlbarg     -0.01771\n",
       " 1                            duration      0.01647\n",
       " 32                        Verna Bloom      0.01372\n",
       " 19                 Catherine Scorsese      0.00832\n",
       " 5                           budget_sq      0.00670\n",
       " 36                    Barbara Hershey      0.00647\n",
       " 6    cinematographer_Kent L. Wakeford      0.00634\n",
       " 10  cinematographer_Robert Richardson     -0.00381\n",
       " 11     cinematographer_Rodrigo Prieto     -0.00168\n",
       " 28                          Bob Dylan      0.00000\n",
       " 12                        documentary      0.00000\n",
       " 26                        Ringo Starr      0.00000\n",
       " 34                         Ray Romano      0.00000\n",
       " 13                          tv_series      0.00000\n",
       " 15                    Martin Scorsese      0.00000\n",
       " 20                       Eric Clapton      0.00000}"
      ]
     },
     "execution_count": 973,
     "metadata": {},
     "output_type": "execute_result"
    }
   ],
   "source": [
    "Ridge_CV_model_w_budget = {\"r2_score\": r2_score, 'mean absolute error': mean_absolute_error, 'coefficients': coefficients_df}\n",
    "Ridge_CV_model_w_budget "
   ]
  },
  {
   "cell_type": "code",
   "execution_count": 974,
   "metadata": {},
   "outputs": [],
   "source": [
    "RCVM_w_budget_filename = 'Ridge_CV_model_w_budget_' + director +'.pickle'\n",
    "with open(dir_str + RCVM_w_budget_filename, 'wb') as to_write:\n",
    "    pickle.dump(Ridge_CV_model_w_budget, to_write)"
   ]
  },
  {
   "cell_type": "code",
   "execution_count": null,
   "metadata": {},
   "outputs": [],
   "source": []
  },
  {
   "cell_type": "code",
   "execution_count": null,
   "metadata": {},
   "outputs": [],
   "source": []
  }
 ],
 "metadata": {
  "kernelspec": {
   "display_name": "Python [conda env:metis] *",
   "language": "python",
   "name": "conda-env-metis-py"
  },
  "language_info": {
   "codemirror_mode": {
    "name": "ipython",
    "version": 3
   },
   "file_extension": ".py",
   "mimetype": "text/x-python",
   "name": "python",
   "nbconvert_exporter": "python",
   "pygments_lexer": "ipython3",
   "version": "3.8.6"
  }
 },
 "nbformat": 4,
 "nbformat_minor": 2
}
