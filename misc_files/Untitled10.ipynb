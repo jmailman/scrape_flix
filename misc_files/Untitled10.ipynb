{
 "cells": [
  {
   "cell_type": "code",
   "execution_count": null,
   "id": "faced-sheriff",
   "metadata": {},
   "outputs": [],
   "source": [
    "films_and_features_to_analyze_financial_df.columns # review columns we start with\n",
    "\n",
    "selected_cols = ['year', 'duration', 'budget', 'rating_count']\n",
    "\n",
    "X= films_and_features_to_analyze_financial_df[selected_cols]\n",
    "y= films_and_features_to_analyze_financial_df['rating']\n",
    "\n",
    "X_train, X_test, y_train, y_test = train_test_split(X, y)"
   ]
  },
  {
   "cell_type": "code",
   "execution_count": null,
   "id": "soviet-component",
   "metadata": {},
   "outputs": [],
   "source": [
    "from sklearn.preprocessing import StandardScaler\n",
    "\n",
    "ss = StandardScaler()\n",
    "\n",
    "ss.fit(X_train_cont)\n",
    "X_train_scaled = ss.transform(X_train_cont)\n",
    "\n",
    "cont_columns = X_train_cont.columns\n",
    "X_train_scaled_df = pd.DataFrame(X_train_scaled, columns=cont_columns, index=X_train_cont.index)\n",
    "\n",
    "X_train_scaled_df.head()\n"
   ]
  },
  {
   "cell_type": "code",
   "execution_count": null,
   "id": "quantitative-charter",
   "metadata": {},
   "outputs": [],
   "source": [
    "#### select and scale the continuous variables in the test set\n",
    "\n",
    "X_test_cont = X_test[['year', 'duration', 'rating_count']]\n",
    "X_test_cont.head()\n"
   ]
  },
  {
   "cell_type": "code",
   "execution_count": null,
   "id": "hazardous-priest",
   "metadata": {},
   "outputs": [],
   "source": [
    "X_test_scaled = ss.transform(X_test_cont)\n",
    "\n",
    "cont_columns = X_test_cont.columns\n",
    "X_test_scaled_df = pd.DataFrame(X_test_scaled, columns=cont_columns, index=X_test_cont.index)\n",
    "\n",
    "X_test_scaled_df.head()"
   ]
  },
  {
   "cell_type": "code",
   "execution_count": 1,
   "id": "moved-insert",
   "metadata": {},
   "outputs": [
    {
     "ename": "NameError",
     "evalue": "name 'pd' is not defined",
     "output_type": "error",
     "traceback": [
      "\u001b[0;31m---------------------------------------------------------------------------\u001b[0m",
      "\u001b[0;31mNameError\u001b[0m                                 Traceback (most recent call last)",
      "\u001b[0;32m<ipython-input-1-8b9cd97b99a0>\u001b[0m in \u001b[0;36m<module>\u001b[0;34m\u001b[0m\n\u001b[0;32m----> 1\u001b[0;31m \u001b[0mX_train_combined\u001b[0m \u001b[0;34m=\u001b[0m \u001b[0mpd\u001b[0m\u001b[0;34m.\u001b[0m\u001b[0mconcat\u001b[0m\u001b[0;34m(\u001b[0m\u001b[0;34m[\u001b[0m\u001b[0mX_train_scaled_df\u001b[0m\u001b[0;34m.\u001b[0m\u001b[0mreset_index\u001b[0m\u001b[0;34m(\u001b[0m\u001b[0mdrop\u001b[0m\u001b[0;34m=\u001b[0m\u001b[0;32mTrue\u001b[0m\u001b[0;34m)\u001b[0m\u001b[0;34m]\u001b[0m\u001b[0;34m,\u001b[0m \u001b[0maxis\u001b[0m\u001b[0;34m=\u001b[0m\u001b[0;34m'columns'\u001b[0m\u001b[0;34m)\u001b[0m\u001b[0;34m\u001b[0m\u001b[0;34m\u001b[0m\u001b[0m\n\u001b[0m\u001b[1;32m      2\u001b[0m \u001b[0;34m\u001b[0m\u001b[0m\n\u001b[1;32m      3\u001b[0m \u001b[0mX_train_combined\u001b[0m\u001b[0;34m.\u001b[0m\u001b[0mhead\u001b[0m\u001b[0;34m(\u001b[0m\u001b[0;34m)\u001b[0m\u001b[0;34m\u001b[0m\u001b[0;34m\u001b[0m\u001b[0m\n",
      "\u001b[0;31mNameError\u001b[0m: name 'pd' is not defined"
     ]
    }
   ],
   "source": [
    "X_train_combined = pd.concat([X_train_scaled_df.reset_index(drop=True)], axis='columns')\n",
    "\n",
    "X_train_combined.head()"
   ]
  },
  {
   "cell_type": "code",
   "execution_count": null,
   "id": "secure-vampire",
   "metadata": {},
   "outputs": [],
   "source": [
    "X_test_combined = pd.concat([X_test_scaled_df.reset_index(drop=True) ], axis=1)\n",
    "\n",
    "X_test_combined"
   ]
  },
  {
   "cell_type": "code",
   "execution_count": null,
   "id": "computational-assurance",
   "metadata": {},
   "outputs": [],
   "source": [
    "lr = LinearRegression()\n",
    "\n",
    "lr.fit(X_train_combined,y_train)\n",
    "\n",
    "lr.coef_\n",
    "\n",
    "\n",
    "y_pred = lr.predict(X_test_combined)\n",
    "\n",
    "y_pred\n",
    "\n",
    "from sklearn.metrics import mean_squared_error, r2_score\n",
    "\n",
    "rmse = np.sqrt(mean_squared_error(y_test, y_pred))\n",
    "\n",
    "r2 = r2_score(y_test, y_pred)\n",
    "\n",
    "print(f'RMSE: {rmse:.2f}\\nr2: {r2:.2f}')"
   ]
  },
  {
   "cell_type": "code",
   "execution_count": null,
   "id": "electronic-belly",
   "metadata": {},
   "outputs": [],
   "source": []
  }
 ],
 "metadata": {
  "kernelspec": {
   "display_name": "Python [conda env:metis] *",
   "language": "python",
   "name": "conda-env-metis-py"
  },
  "language_info": {
   "codemirror_mode": {
    "name": "ipython",
    "version": 3
   },
   "file_extension": ".py",
   "mimetype": "text/x-python",
   "name": "python",
   "nbconvert_exporter": "python",
   "pygments_lexer": "ipython3",
   "version": "3.8.6"
  }
 },
 "nbformat": 4,
 "nbformat_minor": 5
}
