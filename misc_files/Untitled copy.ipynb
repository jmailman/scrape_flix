{
 "cells": [
  {
   "cell_type": "code",
   "execution_count": null,
   "id": "institutional-norway",
   "metadata": {},
   "outputs": [],
   "source": [
    "X_train_val_combo_columns = X_train_val_combo.columns\n",
    "poly = PolynomialFeatures(degree=2)\n",
    "\n",
    "X_train_val_combo_poly =  poly.fit_transform(X_train_val_combo)\n",
    "X_test_combo_poly = poly.transform(X_test_combo)\n",
    "\n",
    "X_train_val_combo_poly_columns = poly.get_feature_names(X_train_val_combo_columns)"
   ]
  },
  {
   "cell_type": "code",
   "execution_count": null,
   "id": "composed-smell",
   "metadata": {},
   "outputs": [],
   "source": [
    "## Scale the data as before\n",
    "std = StandardScaler()\n",
    "std.fit(X_train_val_combo_poly)\n",
    "## Scale the Predictors on both the train and test set\n",
    "X_tr = std.transform(X_train_val_combo_poly)\n",
    "X_te = std.transform(X_test_combo_poly)"
   ]
  },
  {
   "cell_type": "code",
   "execution_count": null,
   "id": "thousand-aviation",
   "metadata": {},
   "outputs": [],
   "source": []
  },
  {
   "cell_type": "code",
   "execution_count": null,
   "id": "equal-kinase",
   "metadata": {},
   "outputs": [],
   "source": []
  },
  {
   "cell_type": "code",
   "execution_count": null,
   "id": "shared-heather",
   "metadata": {},
   "outputs": [],
   "source": []
  },
  {
   "cell_type": "code",
   "execution_count": null,
   "id": "mighty-parameter",
   "metadata": {},
   "outputs": [],
   "source": []
  }
 ],
 "metadata": {
  "kernelspec": {
   "display_name": "Python [conda env:metis] *",
   "language": "python",
   "name": "conda-env-metis-py"
  },
  "language_info": {
   "codemirror_mode": {
    "name": "ipython",
    "version": 3
   },
   "file_extension": ".py",
   "mimetype": "text/x-python",
   "name": "python",
   "nbconvert_exporter": "python",
   "pygments_lexer": "ipython3",
   "version": "3.8.6"
  }
 },
 "nbformat": 4,
 "nbformat_minor": 5
}
