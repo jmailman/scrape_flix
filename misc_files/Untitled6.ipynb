{
 "cells": [
  {
   "cell_type": "code",
   "execution_count": 1,
   "id": "radical-education",
   "metadata": {},
   "outputs": [],
   "source": [
    "d = {'fred': 1, 'jack': 2, 'mary':3}\n",
    "\n",
    "e = {'jack': 2, 'mary':3}"
   ]
  },
  {
   "cell_type": "code",
   "execution_count": 2,
   "id": "union-house",
   "metadata": {},
   "outputs": [],
   "source": [
    "d.update( e )"
   ]
  },
  {
   "cell_type": "code",
   "execution_count": 3,
   "id": "structured-jackson",
   "metadata": {},
   "outputs": [
    {
     "data": {
      "text/plain": [
       "{'fred': 1, 'jack': 2, 'mary': 3}"
      ]
     },
     "execution_count": 3,
     "metadata": {},
     "output_type": "execute_result"
    }
   ],
   "source": [
    "d"
   ]
  },
  {
   "cell_type": "code",
   "execution_count": null,
   "id": "capable-rochester",
   "metadata": {},
   "outputs": [],
   "source": []
  }
 ],
 "metadata": {
  "kernelspec": {
   "display_name": "Python [conda env:metis] *",
   "language": "python",
   "name": "conda-env-metis-py"
  },
  "language_info": {
   "codemirror_mode": {
    "name": "ipython",
    "version": 3
   },
   "file_extension": ".py",
   "mimetype": "text/x-python",
   "name": "python",
   "nbconvert_exporter": "python",
   "pygments_lexer": "ipython3",
   "version": "3.8.6"
  }
 },
 "nbformat": 4,
 "nbformat_minor": 5
}
