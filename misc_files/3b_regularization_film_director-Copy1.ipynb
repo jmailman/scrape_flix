{
 "cells": [
  {
   "cell_type": "markdown",
   "metadata": {},
   "source": [
    "### EDA and Linear Regression"
   ]
  },
  {
   "cell_type": "code",
   "execution_count": 223,
   "metadata": {},
   "outputs": [],
   "source": [
    "import pandas as pd\n",
    "import numpy as np\n",
    "import re\n",
    "import math\n",
    "import seaborn as sns\n",
    "from matplotlib import pyplot as plt\n",
    "from collections import defaultdict\n",
    "#from IPython.core.display import display, HTML\n",
    "import pickle\n",
    "import copy\n",
    "#from sklearn.preprocessing import OneHotEncoder\n",
    "#from sklearn.model_selection import train_test_split\n",
    "#display(HTML(my_html))     # make sure Jupyter knows to display it as HTML\n",
    "\n",
    "from sklearn.model_selection import train_test_split\n",
    "from sklearn.linear_model import LinearRegression, Lasso, LassoCV, Ridge, RidgeCV\n",
    "from sklearn.metrics import mean_squared_error\n",
    "from sklearn.preprocessing import  StandardScaler, PolynomialFeatures, OneHotEncoder\n",
    "from sklearn.pipeline import Pipeline\n",
    "from sklearn.metrics import r2_score"
   ]
  },
  {
   "cell_type": "code",
   "execution_count": 9,
   "metadata": {},
   "outputs": [],
   "source": [
    "director='hitchcock'\n",
    "dir_str = director + '/'\n",
    "\n",
    "films_filename = 'films_to_analyze_' + director\n",
    "with open(dir_str + films_filename, 'rb') as read_file:\n",
    "    films_to_analyze = pickle.load(read_file)"
   ]
  },
  {
   "cell_type": "code",
   "execution_count": 10,
   "metadata": {},
   "outputs": [
    {
     "data": {
      "text/html": [
       "<div>\n",
       "<style scoped>\n",
       "    .dataframe tbody tr th:only-of-type {\n",
       "        vertical-align: middle;\n",
       "    }\n",
       "\n",
       "    .dataframe tbody tr th {\n",
       "        vertical-align: top;\n",
       "    }\n",
       "\n",
       "    .dataframe thead th {\n",
       "        text-align: right;\n",
       "    }\n",
       "</style>\n",
       "<table border=\"1\" class=\"dataframe\">\n",
       "  <thead>\n",
       "    <tr style=\"text-align: right;\">\n",
       "      <th></th>\n",
       "      <th>title</th>\n",
       "      <th>year</th>\n",
       "      <th>release_date</th>\n",
       "      <th>duration</th>\n",
       "      <th>runtime</th>\n",
       "      <th>budget</th>\n",
       "      <th>worldwide_gross</th>\n",
       "      <th>worldwide_gross_imdb</th>\n",
       "      <th>worldwide_gross_bo</th>\n",
       "      <th>rating</th>\n",
       "      <th>...</th>\n",
       "      <th>Brigitte Auber</th>\n",
       "      <th>Georgette Anys</th>\n",
       "      <th>Sara Berner</th>\n",
       "      <th>Wendell Corey</th>\n",
       "      <th>Thelma Ritter</th>\n",
       "      <th>Raymond Burr</th>\n",
       "      <th>Judith Evelyn</th>\n",
       "      <th>Ross Bagdasarian</th>\n",
       "      <th>Georgine Darcy</th>\n",
       "      <th>Ernest Thesiger</th>\n",
       "    </tr>\n",
       "  </thead>\n",
       "  <tbody>\n",
       "    <tr>\n",
       "      <th>2</th>\n",
       "      <td>Family Plot</td>\n",
       "      <td>1976.0</td>\n",
       "      <td>9 April 1976 (USA)</td>\n",
       "      <td>120.0</td>\n",
       "      <td>120.0</td>\n",
       "      <td>4490375.0</td>\n",
       "      <td>13200000.0</td>\n",
       "      <td>NaN</td>\n",
       "      <td>13200000.0</td>\n",
       "      <td>6.8</td>\n",
       "      <td>...</td>\n",
       "      <td>0.0</td>\n",
       "      <td>0.0</td>\n",
       "      <td>0.0</td>\n",
       "      <td>0.0</td>\n",
       "      <td>0.0</td>\n",
       "      <td>0.0</td>\n",
       "      <td>0.0</td>\n",
       "      <td>0.0</td>\n",
       "      <td>0.0</td>\n",
       "      <td>0.0</td>\n",
       "    </tr>\n",
       "    <tr>\n",
       "      <th>3</th>\n",
       "      <td>Frenzy</td>\n",
       "      <td>1972.0</td>\n",
       "      <td>21 June 1972 (USA)</td>\n",
       "      <td>116.0</td>\n",
       "      <td>116.0</td>\n",
       "      <td>2000000.0</td>\n",
       "      <td>12600000.0</td>\n",
       "      <td>4121.0</td>\n",
       "      <td>12600000.0</td>\n",
       "      <td>7.4</td>\n",
       "      <td>...</td>\n",
       "      <td>0.0</td>\n",
       "      <td>0.0</td>\n",
       "      <td>0.0</td>\n",
       "      <td>0.0</td>\n",
       "      <td>0.0</td>\n",
       "      <td>0.0</td>\n",
       "      <td>0.0</td>\n",
       "      <td>0.0</td>\n",
       "      <td>0.0</td>\n",
       "      <td>0.0</td>\n",
       "    </tr>\n",
       "    <tr>\n",
       "      <th>4</th>\n",
       "      <td>Topaz</td>\n",
       "      <td>1969.0</td>\n",
       "      <td>19 December 1969 (USA)</td>\n",
       "      <td>143.0</td>\n",
       "      <td>143.0</td>\n",
       "      <td>4000000.0</td>\n",
       "      <td>6000000.0</td>\n",
       "      <td>NaN</td>\n",
       "      <td>6000000.0</td>\n",
       "      <td>6.3</td>\n",
       "      <td>...</td>\n",
       "      <td>0.0</td>\n",
       "      <td>0.0</td>\n",
       "      <td>0.0</td>\n",
       "      <td>0.0</td>\n",
       "      <td>0.0</td>\n",
       "      <td>0.0</td>\n",
       "      <td>0.0</td>\n",
       "      <td>0.0</td>\n",
       "      <td>0.0</td>\n",
       "      <td>0.0</td>\n",
       "    </tr>\n",
       "    <tr>\n",
       "      <th>5</th>\n",
       "      <td>Torn Curtain</td>\n",
       "      <td>1966.0</td>\n",
       "      <td>27 July 1966 (USA)</td>\n",
       "      <td>128.0</td>\n",
       "      <td>128.0</td>\n",
       "      <td>6000000.0</td>\n",
       "      <td>13000000.0</td>\n",
       "      <td>NaN</td>\n",
       "      <td>13000000.0</td>\n",
       "      <td>6.7</td>\n",
       "      <td>...</td>\n",
       "      <td>0.0</td>\n",
       "      <td>0.0</td>\n",
       "      <td>0.0</td>\n",
       "      <td>0.0</td>\n",
       "      <td>0.0</td>\n",
       "      <td>0.0</td>\n",
       "      <td>0.0</td>\n",
       "      <td>0.0</td>\n",
       "      <td>0.0</td>\n",
       "      <td>0.0</td>\n",
       "    </tr>\n",
       "    <tr>\n",
       "      <th>6</th>\n",
       "      <td>Marnie</td>\n",
       "      <td>1964.0</td>\n",
       "      <td>17 July 1964 (USA)</td>\n",
       "      <td>130.0</td>\n",
       "      <td>130.0</td>\n",
       "      <td>3000000.0</td>\n",
       "      <td>7008058.0</td>\n",
       "      <td>7095.0</td>\n",
       "      <td>7008058.0</td>\n",
       "      <td>7.2</td>\n",
       "      <td>...</td>\n",
       "      <td>0.0</td>\n",
       "      <td>0.0</td>\n",
       "      <td>0.0</td>\n",
       "      <td>0.0</td>\n",
       "      <td>0.0</td>\n",
       "      <td>0.0</td>\n",
       "      <td>0.0</td>\n",
       "      <td>0.0</td>\n",
       "      <td>0.0</td>\n",
       "      <td>0.0</td>\n",
       "    </tr>\n",
       "  </tbody>\n",
       "</table>\n",
       "<p>5 rows × 648 columns</p>\n",
       "</div>"
      ],
      "text/plain": [
       "          title    year                 release_date  duration  runtime  \\\n",
       "2   Family Plot  1976.0       9 April 1976 (USA)         120.0    120.0   \n",
       "3        Frenzy  1972.0       21 June 1972 (USA)         116.0    116.0   \n",
       "4         Topaz  1969.0   19 December 1969 (USA)         143.0    143.0   \n",
       "5  Torn Curtain  1966.0       27 July 1966 (USA)         128.0    128.0   \n",
       "6        Marnie  1964.0       17 July 1964 (USA)         130.0    130.0   \n",
       "\n",
       "      budget  worldwide_gross  worldwide_gross_imdb worldwide_gross_bo  \\\n",
       "2  4490375.0       13200000.0                   NaN         13200000.0   \n",
       "3  2000000.0       12600000.0                4121.0         12600000.0   \n",
       "4  4000000.0        6000000.0                   NaN          6000000.0   \n",
       "5  6000000.0       13000000.0                   NaN         13000000.0   \n",
       "6  3000000.0        7008058.0                7095.0          7008058.0   \n",
       "\n",
       "   rating  ...  Brigitte Auber  Georgette Anys  Sara Berner  Wendell Corey  \\\n",
       "2     6.8  ...             0.0             0.0          0.0            0.0   \n",
       "3     7.4  ...             0.0             0.0          0.0            0.0   \n",
       "4     6.3  ...             0.0             0.0          0.0            0.0   \n",
       "5     6.7  ...             0.0             0.0          0.0            0.0   \n",
       "6     7.2  ...             0.0             0.0          0.0            0.0   \n",
       "\n",
       "  Thelma Ritter  Raymond Burr  Judith Evelyn  Ross Bagdasarian  \\\n",
       "2           0.0           0.0            0.0               0.0   \n",
       "3           0.0           0.0            0.0               0.0   \n",
       "4           0.0           0.0            0.0               0.0   \n",
       "5           0.0           0.0            0.0               0.0   \n",
       "6           0.0           0.0            0.0               0.0   \n",
       "\n",
       "   Georgine Darcy  Ernest Thesiger  \n",
       "2             0.0              0.0  \n",
       "3             0.0              0.0  \n",
       "4             0.0              0.0  \n",
       "5             0.0              0.0  \n",
       "6             0.0              0.0  \n",
       "\n",
       "[5 rows x 648 columns]"
      ]
     },
     "execution_count": 10,
     "metadata": {},
     "output_type": "execute_result"
    }
   ],
   "source": [
    "films_to_analyze.head()"
   ]
  },
  {
   "cell_type": "code",
   "execution_count": 11,
   "metadata": {},
   "outputs": [],
   "source": [
    "prevalent_actors_filename  = 'prevalent_actors_' + director\n",
    "with open(dir_str + prevalent_actors_filename, 'rb') as read_file:\n",
    "    prevalent_actor_columns = pickle.load(read_file)"
   ]
  },
  {
   "cell_type": "code",
   "execution_count": 12,
   "metadata": {},
   "outputs": [
    {
     "data": {
      "text/plain": [
       "Index(['Leo G. Carroll', 'John Longden', 'Edmund Gwenn', 'Gordon Harker',\n",
       "       'James Stewart', 'Hannah Jones', 'Donald Calthrop', 'Cary Grant',\n",
       "       'Edward Chapman', 'Basil Radford', 'George Curzon', 'Leslie Banks',\n",
       "       'Grace Kelly', 'Ian Hunter', 'Patricia Hitchcock', 'Isabel Jeans',\n",
       "       'Ingrid Bergman', 'Percy Marmont'],\n",
       "      dtype='object')"
      ]
     },
     "execution_count": 12,
     "metadata": {},
     "output_type": "execute_result"
    }
   ],
   "source": [
    "prevalent_actor_columns"
   ]
  },
  {
   "cell_type": "code",
   "execution_count": 13,
   "metadata": {},
   "outputs": [],
   "source": [
    "pickled_dict_of_actors_filename = 'dict_of_actors_' + director +'.pickle'\n",
    "with open(dir_str + pickled_dict_of_actors_filename, 'rb') as read_file:\n",
    "    dict_of_all_actors  = pickle.load(read_file) "
   ]
  },
  {
   "cell_type": "code",
   "execution_count": 14,
   "metadata": {},
   "outputs": [],
   "source": [
    "analysis_columns = ['title', 'year', 'duration', 'cinematographer', 'documentary', 'tv_series','rating', 'rating_count', *prevalent_actor_columns]"
   ]
  },
  {
   "cell_type": "code",
   "execution_count": 15,
   "metadata": {},
   "outputs": [
    {
     "data": {
      "text/plain": [
       "['title',\n",
       " 'year',\n",
       " 'duration',\n",
       " 'cinematographer',\n",
       " 'documentary',\n",
       " 'tv_series',\n",
       " 'rating',\n",
       " 'rating_count',\n",
       " 'Leo G. Carroll',\n",
       " 'John Longden',\n",
       " 'Edmund Gwenn',\n",
       " 'Gordon Harker',\n",
       " 'James Stewart',\n",
       " 'Hannah Jones',\n",
       " 'Donald Calthrop',\n",
       " 'Cary Grant',\n",
       " 'Edward Chapman',\n",
       " 'Basil Radford',\n",
       " 'George Curzon',\n",
       " 'Leslie Banks',\n",
       " 'Grace Kelly',\n",
       " 'Ian Hunter',\n",
       " 'Patricia Hitchcock',\n",
       " 'Isabel Jeans',\n",
       " 'Ingrid Bergman',\n",
       " 'Percy Marmont']"
      ]
     },
     "execution_count": 15,
     "metadata": {},
     "output_type": "execute_result"
    }
   ],
   "source": [
    "analysis_columns"
   ]
  },
  {
   "cell_type": "markdown",
   "metadata": {},
   "source": [
    "## Dataset partitioned for analysis\n",
    "except one-hot-encoding `cinematographer`"
   ]
  },
  {
   "cell_type": "code",
   "execution_count": 16,
   "metadata": {},
   "outputs": [
    {
     "data": {
      "text/html": [
       "<div>\n",
       "<style scoped>\n",
       "    .dataframe tbody tr th:only-of-type {\n",
       "        vertical-align: middle;\n",
       "    }\n",
       "\n",
       "    .dataframe tbody tr th {\n",
       "        vertical-align: top;\n",
       "    }\n",
       "\n",
       "    .dataframe thead th {\n",
       "        text-align: right;\n",
       "    }\n",
       "</style>\n",
       "<table border=\"1\" class=\"dataframe\">\n",
       "  <thead>\n",
       "    <tr style=\"text-align: right;\">\n",
       "      <th></th>\n",
       "      <th>title</th>\n",
       "      <th>year</th>\n",
       "      <th>release_date</th>\n",
       "      <th>duration</th>\n",
       "      <th>runtime</th>\n",
       "      <th>budget</th>\n",
       "      <th>worldwide_gross</th>\n",
       "      <th>worldwide_gross_imdb</th>\n",
       "      <th>worldwide_gross_bo</th>\n",
       "      <th>rating</th>\n",
       "      <th>...</th>\n",
       "      <th>Brigitte Auber</th>\n",
       "      <th>Georgette Anys</th>\n",
       "      <th>Sara Berner</th>\n",
       "      <th>Wendell Corey</th>\n",
       "      <th>Thelma Ritter</th>\n",
       "      <th>Raymond Burr</th>\n",
       "      <th>Judith Evelyn</th>\n",
       "      <th>Ross Bagdasarian</th>\n",
       "      <th>Georgine Darcy</th>\n",
       "      <th>Ernest Thesiger</th>\n",
       "    </tr>\n",
       "  </thead>\n",
       "  <tbody>\n",
       "    <tr>\n",
       "      <th>2</th>\n",
       "      <td>Family Plot</td>\n",
       "      <td>1976.0</td>\n",
       "      <td>9 April 1976 (USA)</td>\n",
       "      <td>120.0</td>\n",
       "      <td>120.0</td>\n",
       "      <td>4490375.0</td>\n",
       "      <td>13200000.0</td>\n",
       "      <td>NaN</td>\n",
       "      <td>13200000.0</td>\n",
       "      <td>6.8</td>\n",
       "      <td>...</td>\n",
       "      <td>0.0</td>\n",
       "      <td>0.0</td>\n",
       "      <td>0.0</td>\n",
       "      <td>0.0</td>\n",
       "      <td>0.0</td>\n",
       "      <td>0.0</td>\n",
       "      <td>0.0</td>\n",
       "      <td>0.0</td>\n",
       "      <td>0.0</td>\n",
       "      <td>0.0</td>\n",
       "    </tr>\n",
       "    <tr>\n",
       "      <th>3</th>\n",
       "      <td>Frenzy</td>\n",
       "      <td>1972.0</td>\n",
       "      <td>21 June 1972 (USA)</td>\n",
       "      <td>116.0</td>\n",
       "      <td>116.0</td>\n",
       "      <td>2000000.0</td>\n",
       "      <td>12600000.0</td>\n",
       "      <td>4121.0</td>\n",
       "      <td>12600000.0</td>\n",
       "      <td>7.4</td>\n",
       "      <td>...</td>\n",
       "      <td>0.0</td>\n",
       "      <td>0.0</td>\n",
       "      <td>0.0</td>\n",
       "      <td>0.0</td>\n",
       "      <td>0.0</td>\n",
       "      <td>0.0</td>\n",
       "      <td>0.0</td>\n",
       "      <td>0.0</td>\n",
       "      <td>0.0</td>\n",
       "      <td>0.0</td>\n",
       "    </tr>\n",
       "    <tr>\n",
       "      <th>4</th>\n",
       "      <td>Topaz</td>\n",
       "      <td>1969.0</td>\n",
       "      <td>19 December 1969 (USA)</td>\n",
       "      <td>143.0</td>\n",
       "      <td>143.0</td>\n",
       "      <td>4000000.0</td>\n",
       "      <td>6000000.0</td>\n",
       "      <td>NaN</td>\n",
       "      <td>6000000.0</td>\n",
       "      <td>6.3</td>\n",
       "      <td>...</td>\n",
       "      <td>0.0</td>\n",
       "      <td>0.0</td>\n",
       "      <td>0.0</td>\n",
       "      <td>0.0</td>\n",
       "      <td>0.0</td>\n",
       "      <td>0.0</td>\n",
       "      <td>0.0</td>\n",
       "      <td>0.0</td>\n",
       "      <td>0.0</td>\n",
       "      <td>0.0</td>\n",
       "    </tr>\n",
       "    <tr>\n",
       "      <th>5</th>\n",
       "      <td>Torn Curtain</td>\n",
       "      <td>1966.0</td>\n",
       "      <td>27 July 1966 (USA)</td>\n",
       "      <td>128.0</td>\n",
       "      <td>128.0</td>\n",
       "      <td>6000000.0</td>\n",
       "      <td>13000000.0</td>\n",
       "      <td>NaN</td>\n",
       "      <td>13000000.0</td>\n",
       "      <td>6.7</td>\n",
       "      <td>...</td>\n",
       "      <td>0.0</td>\n",
       "      <td>0.0</td>\n",
       "      <td>0.0</td>\n",
       "      <td>0.0</td>\n",
       "      <td>0.0</td>\n",
       "      <td>0.0</td>\n",
       "      <td>0.0</td>\n",
       "      <td>0.0</td>\n",
       "      <td>0.0</td>\n",
       "      <td>0.0</td>\n",
       "    </tr>\n",
       "    <tr>\n",
       "      <th>6</th>\n",
       "      <td>Marnie</td>\n",
       "      <td>1964.0</td>\n",
       "      <td>17 July 1964 (USA)</td>\n",
       "      <td>130.0</td>\n",
       "      <td>130.0</td>\n",
       "      <td>3000000.0</td>\n",
       "      <td>7008058.0</td>\n",
       "      <td>7095.0</td>\n",
       "      <td>7008058.0</td>\n",
       "      <td>7.2</td>\n",
       "      <td>...</td>\n",
       "      <td>0.0</td>\n",
       "      <td>0.0</td>\n",
       "      <td>0.0</td>\n",
       "      <td>0.0</td>\n",
       "      <td>0.0</td>\n",
       "      <td>0.0</td>\n",
       "      <td>0.0</td>\n",
       "      <td>0.0</td>\n",
       "      <td>0.0</td>\n",
       "      <td>0.0</td>\n",
       "    </tr>\n",
       "  </tbody>\n",
       "</table>\n",
       "<p>5 rows × 648 columns</p>\n",
       "</div>"
      ],
      "text/plain": [
       "          title    year                 release_date  duration  runtime  \\\n",
       "2   Family Plot  1976.0       9 April 1976 (USA)         120.0    120.0   \n",
       "3        Frenzy  1972.0       21 June 1972 (USA)         116.0    116.0   \n",
       "4         Topaz  1969.0   19 December 1969 (USA)         143.0    143.0   \n",
       "5  Torn Curtain  1966.0       27 July 1966 (USA)         128.0    128.0   \n",
       "6        Marnie  1964.0       17 July 1964 (USA)         130.0    130.0   \n",
       "\n",
       "      budget  worldwide_gross  worldwide_gross_imdb worldwide_gross_bo  \\\n",
       "2  4490375.0       13200000.0                   NaN         13200000.0   \n",
       "3  2000000.0       12600000.0                4121.0         12600000.0   \n",
       "4  4000000.0        6000000.0                   NaN          6000000.0   \n",
       "5  6000000.0       13000000.0                   NaN         13000000.0   \n",
       "6  3000000.0        7008058.0                7095.0          7008058.0   \n",
       "\n",
       "   rating  ...  Brigitte Auber  Georgette Anys  Sara Berner  Wendell Corey  \\\n",
       "2     6.8  ...             0.0             0.0          0.0            0.0   \n",
       "3     7.4  ...             0.0             0.0          0.0            0.0   \n",
       "4     6.3  ...             0.0             0.0          0.0            0.0   \n",
       "5     6.7  ...             0.0             0.0          0.0            0.0   \n",
       "6     7.2  ...             0.0             0.0          0.0            0.0   \n",
       "\n",
       "  Thelma Ritter  Raymond Burr  Judith Evelyn  Ross Bagdasarian  \\\n",
       "2           0.0           0.0            0.0               0.0   \n",
       "3           0.0           0.0            0.0               0.0   \n",
       "4           0.0           0.0            0.0               0.0   \n",
       "5           0.0           0.0            0.0               0.0   \n",
       "6           0.0           0.0            0.0               0.0   \n",
       "\n",
       "   Georgine Darcy  Ernest Thesiger  \n",
       "2             0.0              0.0  \n",
       "3             0.0              0.0  \n",
       "4             0.0              0.0  \n",
       "5             0.0              0.0  \n",
       "6             0.0              0.0  \n",
       "\n",
       "[5 rows x 648 columns]"
      ]
     },
     "execution_count": 16,
     "metadata": {},
     "output_type": "execute_result"
    }
   ],
   "source": [
    "films_to_analyze.head()"
   ]
  },
  {
   "cell_type": "code",
   "execution_count": null,
   "metadata": {},
   "outputs": [],
   "source": []
  },
  {
   "cell_type": "code",
   "execution_count": 17,
   "metadata": {},
   "outputs": [],
   "source": [
    "films_and_features_to_analyze_df = films_to_analyze[analysis_columns]"
   ]
  },
  {
   "cell_type": "code",
   "execution_count": 18,
   "metadata": {},
   "outputs": [
    {
     "data": {
      "text/html": [
       "<div>\n",
       "<style scoped>\n",
       "    .dataframe tbody tr th:only-of-type {\n",
       "        vertical-align: middle;\n",
       "    }\n",
       "\n",
       "    .dataframe tbody tr th {\n",
       "        vertical-align: top;\n",
       "    }\n",
       "\n",
       "    .dataframe thead th {\n",
       "        text-align: right;\n",
       "    }\n",
       "</style>\n",
       "<table border=\"1\" class=\"dataframe\">\n",
       "  <thead>\n",
       "    <tr style=\"text-align: right;\">\n",
       "      <th></th>\n",
       "      <th>title</th>\n",
       "      <th>year</th>\n",
       "      <th>duration</th>\n",
       "      <th>cinematographer</th>\n",
       "      <th>documentary</th>\n",
       "      <th>tv_series</th>\n",
       "      <th>rating</th>\n",
       "      <th>rating_count</th>\n",
       "      <th>Leo G. Carroll</th>\n",
       "      <th>John Longden</th>\n",
       "      <th>...</th>\n",
       "      <th>Edward Chapman</th>\n",
       "      <th>Basil Radford</th>\n",
       "      <th>George Curzon</th>\n",
       "      <th>Leslie Banks</th>\n",
       "      <th>Grace Kelly</th>\n",
       "      <th>Ian Hunter</th>\n",
       "      <th>Patricia Hitchcock</th>\n",
       "      <th>Isabel Jeans</th>\n",
       "      <th>Ingrid Bergman</th>\n",
       "      <th>Percy Marmont</th>\n",
       "    </tr>\n",
       "  </thead>\n",
       "  <tbody>\n",
       "    <tr>\n",
       "      <th>2</th>\n",
       "      <td>Family Plot</td>\n",
       "      <td>1976.0</td>\n",
       "      <td>120.0</td>\n",
       "      <td>Leonard J. South</td>\n",
       "      <td>0.0</td>\n",
       "      <td>0.0</td>\n",
       "      <td>6.8</td>\n",
       "      <td>20794.0</td>\n",
       "      <td>0.0</td>\n",
       "      <td>0.0</td>\n",
       "      <td>...</td>\n",
       "      <td>0.0</td>\n",
       "      <td>0.0</td>\n",
       "      <td>0.0</td>\n",
       "      <td>0.0</td>\n",
       "      <td>0.0</td>\n",
       "      <td>0.0</td>\n",
       "      <td>0.0</td>\n",
       "      <td>0.0</td>\n",
       "      <td>0.0</td>\n",
       "      <td>0.0</td>\n",
       "    </tr>\n",
       "    <tr>\n",
       "      <th>3</th>\n",
       "      <td>Frenzy</td>\n",
       "      <td>1972.0</td>\n",
       "      <td>116.0</td>\n",
       "      <td>Gilbert Taylor</td>\n",
       "      <td>0.0</td>\n",
       "      <td>0.0</td>\n",
       "      <td>7.4</td>\n",
       "      <td>41424.0</td>\n",
       "      <td>0.0</td>\n",
       "      <td>0.0</td>\n",
       "      <td>...</td>\n",
       "      <td>0.0</td>\n",
       "      <td>0.0</td>\n",
       "      <td>0.0</td>\n",
       "      <td>0.0</td>\n",
       "      <td>0.0</td>\n",
       "      <td>0.0</td>\n",
       "      <td>0.0</td>\n",
       "      <td>0.0</td>\n",
       "      <td>0.0</td>\n",
       "      <td>0.0</td>\n",
       "    </tr>\n",
       "    <tr>\n",
       "      <th>4</th>\n",
       "      <td>Topaz</td>\n",
       "      <td>1969.0</td>\n",
       "      <td>143.0</td>\n",
       "      <td>Jack Hildyard</td>\n",
       "      <td>0.0</td>\n",
       "      <td>0.0</td>\n",
       "      <td>6.3</td>\n",
       "      <td>16714.0</td>\n",
       "      <td>0.0</td>\n",
       "      <td>0.0</td>\n",
       "      <td>...</td>\n",
       "      <td>0.0</td>\n",
       "      <td>0.0</td>\n",
       "      <td>0.0</td>\n",
       "      <td>0.0</td>\n",
       "      <td>0.0</td>\n",
       "      <td>0.0</td>\n",
       "      <td>0.0</td>\n",
       "      <td>0.0</td>\n",
       "      <td>0.0</td>\n",
       "      <td>0.0</td>\n",
       "    </tr>\n",
       "    <tr>\n",
       "      <th>5</th>\n",
       "      <td>Torn Curtain</td>\n",
       "      <td>1966.0</td>\n",
       "      <td>128.0</td>\n",
       "      <td>John F. Warren</td>\n",
       "      <td>0.0</td>\n",
       "      <td>0.0</td>\n",
       "      <td>6.7</td>\n",
       "      <td>24727.0</td>\n",
       "      <td>0.0</td>\n",
       "      <td>0.0</td>\n",
       "      <td>...</td>\n",
       "      <td>0.0</td>\n",
       "      <td>0.0</td>\n",
       "      <td>0.0</td>\n",
       "      <td>0.0</td>\n",
       "      <td>0.0</td>\n",
       "      <td>0.0</td>\n",
       "      <td>0.0</td>\n",
       "      <td>0.0</td>\n",
       "      <td>0.0</td>\n",
       "      <td>0.0</td>\n",
       "    </tr>\n",
       "    <tr>\n",
       "      <th>6</th>\n",
       "      <td>Marnie</td>\n",
       "      <td>1964.0</td>\n",
       "      <td>130.0</td>\n",
       "      <td>Robert Burks</td>\n",
       "      <td>0.0</td>\n",
       "      <td>0.0</td>\n",
       "      <td>7.2</td>\n",
       "      <td>45220.0</td>\n",
       "      <td>0.0</td>\n",
       "      <td>0.0</td>\n",
       "      <td>...</td>\n",
       "      <td>0.0</td>\n",
       "      <td>0.0</td>\n",
       "      <td>0.0</td>\n",
       "      <td>0.0</td>\n",
       "      <td>0.0</td>\n",
       "      <td>0.0</td>\n",
       "      <td>0.0</td>\n",
       "      <td>0.0</td>\n",
       "      <td>0.0</td>\n",
       "      <td>0.0</td>\n",
       "    </tr>\n",
       "  </tbody>\n",
       "</table>\n",
       "<p>5 rows × 26 columns</p>\n",
       "</div>"
      ],
      "text/plain": [
       "          title    year  duration   cinematographer  documentary  tv_series  \\\n",
       "2   Family Plot  1976.0     120.0  Leonard J. South          0.0        0.0   \n",
       "3        Frenzy  1972.0     116.0    Gilbert Taylor          0.0        0.0   \n",
       "4         Topaz  1969.0     143.0     Jack Hildyard          0.0        0.0   \n",
       "5  Torn Curtain  1966.0     128.0    John F. Warren          0.0        0.0   \n",
       "6        Marnie  1964.0     130.0      Robert Burks          0.0        0.0   \n",
       "\n",
       "   rating  rating_count  Leo G. Carroll  John Longden  ...  Edward Chapman  \\\n",
       "2     6.8       20794.0             0.0           0.0  ...             0.0   \n",
       "3     7.4       41424.0             0.0           0.0  ...             0.0   \n",
       "4     6.3       16714.0             0.0           0.0  ...             0.0   \n",
       "5     6.7       24727.0             0.0           0.0  ...             0.0   \n",
       "6     7.2       45220.0             0.0           0.0  ...             0.0   \n",
       "\n",
       "   Basil Radford  George Curzon  Leslie Banks  Grace Kelly  Ian Hunter  \\\n",
       "2            0.0            0.0           0.0          0.0         0.0   \n",
       "3            0.0            0.0           0.0          0.0         0.0   \n",
       "4            0.0            0.0           0.0          0.0         0.0   \n",
       "5            0.0            0.0           0.0          0.0         0.0   \n",
       "6            0.0            0.0           0.0          0.0         0.0   \n",
       "\n",
       "   Patricia Hitchcock  Isabel Jeans  Ingrid Bergman  Percy Marmont  \n",
       "2                 0.0           0.0             0.0            0.0  \n",
       "3                 0.0           0.0             0.0            0.0  \n",
       "4                 0.0           0.0             0.0            0.0  \n",
       "5                 0.0           0.0             0.0            0.0  \n",
       "6                 0.0           0.0             0.0            0.0  \n",
       "\n",
       "[5 rows x 26 columns]"
      ]
     },
     "execution_count": 18,
     "metadata": {},
     "output_type": "execute_result"
    }
   ],
   "source": [
    "films_and_features_to_analyze_df.head() "
   ]
  },
  {
   "cell_type": "raw",
   "metadata": {},
   "source": [
    "x_label = 'year'\n",
    "y_label = 'rating'\n",
    "x_ = films_and_features_to_analyze_df[x_label]\n",
    "y_ = films_and_features_to_analyze_df[y_label]"
   ]
  },
  {
   "cell_type": "raw",
   "metadata": {},
   "source": [
    "films_and_features_to_analyze_df.columns"
   ]
  },
  {
   "cell_type": "raw",
   "metadata": {},
   "source": [
    "plt.figure(figsize=(16,8))\n",
    "\n",
    "size_ = 300\n",
    "alpha_ = .6\n",
    "plt.xlabel(x_label, fontsize='18')\n",
    "plt.ylabel(y_label, fontsize='18')\n",
    "plt.title(director.title() + ' movies', fontsize='20')\n",
    "cmap=plt.get_cmap(\"cool\")\n",
    "color_dimension = 'duration'\n",
    "cm=films_and_features_to_analyze_df[color_dimension].tolist()\n",
    "\n",
    "category = 'tv_series'\n",
    "plt.scatter(x=x_, y=y_, marker='o', alpha=alpha_, c=cm,cmap=\"cool\", s=(size_,))\n",
    "plt.colorbar(label=color_dimension)"
   ]
  },
  {
   "cell_type": "raw",
   "metadata": {},
   "source": [
    "plt.figure(figsize=(16,8))\n",
    "\n",
    "size_ = 300\n",
    "alpha_ = .6\n",
    "plt.xlabel(x_label, fontsize='18')\n",
    "plt.ylabel(y_label, fontsize='18')\n",
    "plt.title(director.title() + ' movies', fontsize='20')\n",
    "\n",
    "category = 'tv_series'\n",
    "plt.scatter(x=x_, y=y_, marker='o', alpha=alpha_, c = films_and_features_to_analyze_df[category], s=(size_,))"
   ]
  },
  {
   "cell_type": "raw",
   "metadata": {},
   "source": [
    "x_label = 'year'\n",
    "y_label = 'duration'\n",
    "x_ = films_and_features_to_analyze_df[x_label]\n",
    "y_ = films_and_features_to_analyze_df[y_label]"
   ]
  },
  {
   "cell_type": "raw",
   "metadata": {},
   "source": [
    "plt.figure(figsize=(16,8))\n",
    "\n",
    "size_ = 300\n",
    "alpha_ = .6\n",
    "plt.xlabel(x_label, fontsize='18')\n",
    "plt.ylabel(y_label, fontsize='18')\n",
    "plt.title(director.title() + ' movies', fontsize='20')\n",
    "cmap=plt.get_cmap(\"cool\")\n",
    "color_dimension = 'rating'\n",
    "cm=films_and_features_to_analyze_df[color_dimension ].tolist()\n",
    "category = 'tv_series'\n",
    "plt.scatter(x=x_, y=y_, marker='o', alpha=alpha_, c=cm,cmap=\"cool\", s=(size_,))\n",
    "plt.colorbar(label=color_dimension )"
   ]
  },
  {
   "cell_type": "raw",
   "metadata": {},
   "source": [
    "plt.figure(figsize=(16,8))\n",
    "\n",
    "size_ = 300\n",
    "alpha_ = .6\n",
    "plt.xlabel(x_label, fontsize='18')\n",
    "plt.ylabel(y_label, fontsize='18')\n",
    "plt.title(director.title() + ' movies', fontsize='20')\n",
    "category = 'tv_series'\n",
    "plt.scatter(x=x_, y=y_, marker='o', alpha=alpha_, c = films_and_features_to_analyze_df[category], s=(size_,))\n"
   ]
  },
  {
   "cell_type": "raw",
   "metadata": {},
   "source": []
  },
  {
   "cell_type": "raw",
   "metadata": {},
   "source": [
    "plt.figure(figsize=(16,8))\n",
    "\n",
    "size_ = 300\n",
    "alpha_ = .6\n",
    "plt.xlabel(x_label, fontsize='18')\n",
    "plt.ylabel(y_label, fontsize='18')\n",
    "plt.title(director.title() + ' movies', fontsize='20')\n",
    "category = 'tv_series'\n",
    "plt.scatter(x=x_, y=y_, marker='o', alpha=alpha_, c = films_and_features_to_analyze_df[category], s=(size_,))\n"
   ]
  },
  {
   "cell_type": "raw",
   "metadata": {},
   "source": [
    "plt.figure(figsize=(16,8))\n",
    "\n",
    "size_ = 300\n",
    "alpha_ = .6\n",
    "plt.xlabel(x_label, fontsize='18')\n",
    "plt.ylabel(y_label, fontsize='18')\n",
    "plt.title(director.title() + ' movies', fontsize='20')\n",
    "cmap=plt.get_cmap(\"cool\")\n",
    "color_dimension = 'rating_count'\n",
    "cmap=plt.get_cmap(\"cool\")\n",
    "cm=films_and_features_to_analyze_df[color_dimension ].tolist()\n",
    "category = 'tv_series'\n",
    "plt.scatter(x=x_, y=y_, marker='o', alpha=alpha_, c=cm,cmap=\"cool\", s=(size_,))\n",
    "plt.colorbar(label=color_dimension )\n",
    "#plt.scatter(x=x_, y=y_, marker='o', alpha=alpha_, c = films_and_features_to_analyze_df[category], s=(size_,))"
   ]
  },
  {
   "cell_type": "raw",
   "metadata": {},
   "source": []
  },
  {
   "cell_type": "raw",
   "metadata": {},
   "source": []
  },
  {
   "cell_type": "raw",
   "metadata": {},
   "source": [
    "x_label = 'year'\n",
    "y_label = 'rating_count'\n",
    "x_ = films_and_features_to_analyze_df[x_label]\n",
    "y_ = films_and_features_to_analyze_df[y_label]"
   ]
  },
  {
   "cell_type": "raw",
   "metadata": {},
   "source": [
    "plt.figure(figsize=(16,8))\n",
    "size_ = 300\n",
    "alpha_ = .6\n",
    "plt.xlabel(x_label, fontsize='18')\n",
    "plt.ylabel(y_label, fontsize='18')\n",
    "plt.title(director.title() + ' movies ', fontsize='20')\n",
    "category = 'tv_series'\n",
    "plt.scatter(x=x_, y=y_, marker='o', alpha=alpha_, c = films_and_features_to_analyze_df[category], s=(size_,))\n"
   ]
  },
  {
   "cell_type": "raw",
   "metadata": {},
   "source": [
    "plt.figure(figsize=(16,8))\n",
    "size_ = 300\n",
    "alpha_ = .6\n",
    "plt.xlabel(x_label, fontsize='18')\n",
    "plt.ylabel(y_label, fontsize='18')\n",
    "plt.title(director.title() + ' movies ', fontsize='20')\n",
    "color_dimension = 'duration'\n",
    "\n",
    "cm=films_and_features_to_analyze_df[color_dimension ].tolist()\n",
    "cmap=plt.get_cmap(\"cool\")\n",
    "category = 'tv_series'\n",
    "plt.scatter(x=x_, y=y_, marker='o', alpha=alpha_, c=cm,cmap=\"cool\", s=(size_,))\n",
    "plt.colorbar(label=color_dimension )"
   ]
  },
  {
   "cell_type": "raw",
   "metadata": {},
   "source": [
    "#films_and_features_to_analyze_df[films_and_features_to_analyze_df['tv_series']!=1]"
   ]
  },
  {
   "cell_type": "raw",
   "metadata": {},
   "source": [
    "x_label = 'year'\n",
    "y_label = 'rating_count'\n",
    "x_ = films_and_features_to_analyze_df[films_and_features_to_analyze_df['tv_series']!=1][x_label]\n",
    "y_ = films_and_features_to_analyze_df[films_and_features_to_analyze_df['tv_series']!=1][y_label]"
   ]
  },
  {
   "cell_type": "raw",
   "metadata": {},
   "source": [
    "plt.figure(figsize=(16,8))\n",
    "size_ = 300\n",
    "alpha_ = .6\n",
    "plt.xlabel(x_label, fontsize='18')\n",
    "plt.ylabel(y_label, fontsize='18')\n",
    "plt.title(director.title() + ' movies ', fontsize='20')\n",
    "color_dimension = 'duration'\n",
    "\n",
    "cm=films_and_features_to_analyze_df[films_and_features_to_analyze_df['tv_series']!=1][color_dimension ].tolist()\n",
    "cmap=plt.get_cmap(\"cool\")\n",
    "#category = 'tv_series'\n",
    "plt.scatter(x=x_, y=y_, marker='o', alpha=alpha_, c=cm,cmap=\"cool\", s=(size_,))\n",
    "plt.colorbar(label=color_dimension )"
   ]
  },
  {
   "cell_type": "raw",
   "metadata": {},
   "source": [
    "print( min(x_), max(x_))"
   ]
  },
  {
   "cell_type": "raw",
   "metadata": {},
   "source": [
    "from scipy import signal\n",
    "signal.unit_impulse(1960) # come back to this to attempt to model \"dirac impulse response\" \n",
    "# for rating count based on year"
   ]
  },
  {
   "cell_type": "raw",
   "metadata": {},
   "source": []
  },
  {
   "cell_type": "raw",
   "metadata": {},
   "source": [
    "films_and_features_to_analyze_df[films_and_features_to_analyze_df['duration'] <65]"
   ]
  },
  {
   "cell_type": "raw",
   "metadata": {},
   "source": [
    "#### Breakdown by **cinematographers**, \n",
    "(for instance Jack E. Cox, Robert Burks, and Bernard Knowles in Hitchcock dataset)"
   ]
  },
  {
   "cell_type": "raw",
   "metadata": {},
   "source": [
    "cinematographer = 'Jack E. Cox'"
   ]
  },
  {
   "cell_type": "raw",
   "metadata": {},
   "source": [
    "ctgrphr_flix = films_and_features_to_analyze_df[films_and_features_to_analyze_df['cinematographer']==cinematographer]\n",
    "other_flix = films_and_features_to_analyze_df[films_and_features_to_analyze_df['cinematographer']!=cinematographer]\n"
   ]
  },
  {
   "cell_type": "raw",
   "metadata": {},
   "source": []
  },
  {
   "cell_type": "raw",
   "metadata": {},
   "source": [
    "x_label = 'year'\n",
    "y_label = 'rating'\n",
    "\n",
    "x_cox = ctgrphr_flix[x_label]\n",
    "y_cox = ctgrphr_flix[y_label]\n",
    "x_non_cox = other_flix[x_label]\n",
    "y_non_cox = other_flix[y_label]\n",
    "\n",
    "plt.figure(figsize=(16,8))\n",
    "\n",
    "size_ = 300\n",
    "alpha_ = .6\n",
    "plt.xlabel(x_label, fontsize='18')\n",
    "plt.ylabel(y_label, fontsize='18')\n",
    "plt.title(director.title() + ' movies: Breakdown by cinematographer ' + cinematographer, fontsize='18')\n",
    "\n",
    "category = 'tv_series'\n",
    "plt.scatter(x=x_cox, y=y_cox, marker='o', alpha=alpha_, c = 'r', s=(size_,))\n",
    "plt.scatter(x=x_non_cox, y=y_non_cox, marker='o', alpha=alpha_, c = 'b', s=(size_,))\n",
    "\n",
    "plt.show()"
   ]
  },
  {
   "cell_type": "raw",
   "metadata": {},
   "source": [
    "cinematographer = 'Robert Burks'"
   ]
  },
  {
   "cell_type": "raw",
   "metadata": {},
   "source": [
    "\n",
    "ctgrphr_flix = films_and_features_to_analyze_df[films_and_features_to_analyze_df['cinematographer']==cinematographer]\n",
    "other_flix = films_and_features_to_analyze_df[films_and_features_to_analyze_df['cinematographer']!=cinematographer]\n"
   ]
  },
  {
   "cell_type": "raw",
   "metadata": {},
   "source": [
    "x_label = 'year'\n",
    "y_label = 'rating'\n",
    "\n",
    "x_cox = ctgrphr_flix[x_label]\n",
    "y_cox = ctgrphr_flix[y_label]\n",
    "x_non_cox = other_flix[x_label]\n",
    "y_non_cox = other_flix[y_label]\n",
    "\n",
    "plt.figure(figsize=(16,8))\n",
    "\n",
    "size_ = 300\n",
    "alpha_ = .6\n",
    "plt.xlabel(x_label, fontsize='18')\n",
    "plt.ylabel(y_label, fontsize='18')\n",
    "plt.title(director.title() + ' movies: Breakdown by cinematographer ' + cinematographer, fontsize='18')\n",
    "\n",
    "category = 'tv_series'\n",
    "plt.scatter(x=x_cox, y=y_cox, marker='o', alpha=alpha_, c = 'r', s=(size_,))\n",
    "plt.scatter(x=x_non_cox, y=y_non_cox, marker='o', alpha=alpha_, c = 'b', s=(size_,))\n",
    "\n",
    "plt.show()"
   ]
  },
  {
   "cell_type": "raw",
   "metadata": {},
   "source": [
    "cinematographer = 'Bernard Knowles'"
   ]
  },
  {
   "cell_type": "raw",
   "metadata": {},
   "source": [
    "\n",
    "ctgrphr_flix = films_and_features_to_analyze_df[films_and_features_to_analyze_df['cinematographer']==cinematographer]\n",
    "other_flix = films_and_features_to_analyze_df[films_and_features_to_analyze_df['cinematographer']!=cinematographer]\n"
   ]
  },
  {
   "cell_type": "raw",
   "metadata": {},
   "source": [
    "x_label = 'year'\n",
    "y_label = 'rating'\n",
    "\n",
    "x_cox = ctgrphr_flix[x_label]\n",
    "y_cox = ctgrphr_flix[y_label]\n",
    "x_non_cox = other_flix[x_label]\n",
    "y_non_cox = other_flix[y_label]\n",
    "\n",
    "plt.figure(figsize=(16,8))\n",
    "\n",
    "size_ = 300\n",
    "alpha_ = .6\n",
    "plt.xlabel(x_label, fontsize='18')\n",
    "plt.ylabel(y_label, fontsize='18')\n",
    "plt.title(director.title() + ' movies: ' + 'Breakdown by cinematographer ' + cinematographer, fontsize='18')\n",
    "\n",
    "category = 'tv_series'\n",
    "plt.scatter(x=x_cox, y=y_cox, marker='o', alpha=alpha_, c = 'r', s=(size_,))\n",
    "plt.scatter(x=x_non_cox, y=y_non_cox, marker='o', alpha=alpha_, c = 'b', s=(size_,))\n",
    "\n",
    "plt.show()"
   ]
  },
  {
   "cell_type": "raw",
   "metadata": {},
   "source": [
    "#### Recode misc. cinematographers to `OTHER` to ameliorate issue of not dropping a column and also to increase the chance it will occur in the test set as well"
   ]
  },
  {
   "cell_type": "code",
   "execution_count": 19,
   "metadata": {},
   "outputs": [
    {
     "data": {
      "text/plain": [
       "1"
      ]
     },
     "execution_count": 19,
     "metadata": {},
     "output_type": "execute_result"
    }
   ],
   "source": [
    "cinematographer_include_threshold = films_and_features_to_analyze_df['cinematographer'].value_counts().min()\n",
    "cinematographer_include_threshold"
   ]
  },
  {
   "cell_type": "code",
   "execution_count": 20,
   "metadata": {},
   "outputs": [
    {
     "name": "stderr",
     "output_type": "stream",
     "text": [
      "/opt/anaconda3/envs/metis/lib/python3.8/site-packages/pandas/core/series.py:4479: SettingWithCopyWarning: \n",
      "A value is trying to be set on a copy of a slice from a DataFrame\n",
      "\n",
      "See the caveats in the documentation: https://pandas.pydata.org/pandas-docs/stable/user_guide/indexing.html#returning-a-view-versus-a-copy\n",
      "  return super().replace(\n"
     ]
    }
   ],
   "source": [
    "value_counts = films_and_features_to_analyze_df['cinematographer'].value_counts() # Specific column \n",
    "to_remove = value_counts[value_counts <= cinematographer_include_threshold].index\n",
    "films_and_features_to_analyze_df['cinematographer'].replace(to_remove, 'OTHER', inplace=True)"
   ]
  },
  {
   "cell_type": "code",
   "execution_count": null,
   "metadata": {},
   "outputs": [],
   "source": []
  },
  {
   "cell_type": "markdown",
   "metadata": {},
   "source": [
    "### Regression analysis on `rating`,  `duration`, and `year` etc"
   ]
  },
  {
   "cell_type": "markdown",
   "metadata": {},
   "source": [
    "#### `rating` as target"
   ]
  },
  {
   "cell_type": "markdown",
   "metadata": {},
   "source": [
    "### Selecting columns for Train Test Split"
   ]
  },
  {
   "cell_type": "code",
   "execution_count": 21,
   "metadata": {
    "scrolled": true
   },
   "outputs": [
    {
     "data": {
      "text/plain": [
       "Index(['title', 'year', 'duration', 'cinematographer', 'documentary',\n",
       "       'tv_series', 'rating', 'rating_count', 'Leo G. Carroll', 'John Longden',\n",
       "       'Edmund Gwenn', 'Gordon Harker', 'James Stewart', 'Hannah Jones',\n",
       "       'Donald Calthrop', 'Cary Grant', 'Edward Chapman', 'Basil Radford',\n",
       "       'George Curzon', 'Leslie Banks', 'Grace Kelly', 'Ian Hunter',\n",
       "       'Patricia Hitchcock', 'Isabel Jeans', 'Ingrid Bergman',\n",
       "       'Percy Marmont'],\n",
       "      dtype='object')"
      ]
     },
     "execution_count": 21,
     "metadata": {},
     "output_type": "execute_result"
    }
   ],
   "source": [
    "films_and_features_to_analyze_df.columns # review columns we start with"
   ]
  },
  {
   "cell_type": "code",
   "execution_count": null,
   "metadata": {},
   "outputs": [],
   "source": []
  },
  {
   "cell_type": "code",
   "execution_count": 22,
   "metadata": {},
   "outputs": [],
   "source": [
    "selected_cols = [*films_and_features_to_analyze_df.columns[1:6], *films_and_features_to_analyze_df.columns[7:]]"
   ]
  },
  {
   "cell_type": "code",
   "execution_count": 23,
   "metadata": {},
   "outputs": [
    {
     "data": {
      "text/plain": [
       "['year',\n",
       " 'duration',\n",
       " 'cinematographer',\n",
       " 'documentary',\n",
       " 'tv_series',\n",
       " 'rating_count',\n",
       " 'Leo G. Carroll',\n",
       " 'John Longden',\n",
       " 'Edmund Gwenn',\n",
       " 'Gordon Harker',\n",
       " 'James Stewart',\n",
       " 'Hannah Jones',\n",
       " 'Donald Calthrop',\n",
       " 'Cary Grant',\n",
       " 'Edward Chapman',\n",
       " 'Basil Radford',\n",
       " 'George Curzon',\n",
       " 'Leslie Banks',\n",
       " 'Grace Kelly',\n",
       " 'Ian Hunter',\n",
       " 'Patricia Hitchcock',\n",
       " 'Isabel Jeans',\n",
       " 'Ingrid Bergman',\n",
       " 'Percy Marmont']"
      ]
     },
     "execution_count": 23,
     "metadata": {},
     "output_type": "execute_result"
    }
   ],
   "source": [
    "selected_cols"
   ]
  },
  {
   "cell_type": "code",
   "execution_count": 257,
   "metadata": {},
   "outputs": [],
   "source": [
    "X= films_and_features_to_analyze_df[selected_cols]\n",
    "y= films_and_features_to_analyze_df['rating']"
   ]
  },
  {
   "cell_type": "code",
   "execution_count": 258,
   "metadata": {},
   "outputs": [
    {
     "data": {
      "text/plain": [
       "False"
      ]
     },
     "execution_count": 258,
     "metadata": {},
     "output_type": "execute_result"
    }
   ],
   "source": [
    "y.isnull().values.any()"
   ]
  },
  {
   "cell_type": "markdown",
   "metadata": {},
   "source": [
    "### Train-val vs. test split"
   ]
  },
  {
   "cell_type": "code",
   "execution_count": 259,
   "metadata": {},
   "outputs": [],
   "source": [
    "X_train_val, X_test, y_train_val, y_test = train_test_split(X, y, test_size=0.2,random_state=42)"
   ]
  },
  {
   "cell_type": "code",
   "execution_count": 260,
   "metadata": {},
   "outputs": [
    {
     "data": {
      "text/html": [
       "<div>\n",
       "<style scoped>\n",
       "    .dataframe tbody tr th:only-of-type {\n",
       "        vertical-align: middle;\n",
       "    }\n",
       "\n",
       "    .dataframe tbody tr th {\n",
       "        vertical-align: top;\n",
       "    }\n",
       "\n",
       "    .dataframe thead th {\n",
       "        text-align: right;\n",
       "    }\n",
       "</style>\n",
       "<table border=\"1\" class=\"dataframe\">\n",
       "  <thead>\n",
       "    <tr style=\"text-align: right;\">\n",
       "      <th></th>\n",
       "      <th>year</th>\n",
       "      <th>duration</th>\n",
       "      <th>cinematographer</th>\n",
       "      <th>documentary</th>\n",
       "      <th>tv_series</th>\n",
       "      <th>rating_count</th>\n",
       "      <th>Leo G. Carroll</th>\n",
       "      <th>John Longden</th>\n",
       "      <th>Edmund Gwenn</th>\n",
       "      <th>Gordon Harker</th>\n",
       "      <th>...</th>\n",
       "      <th>Edward Chapman</th>\n",
       "      <th>Basil Radford</th>\n",
       "      <th>George Curzon</th>\n",
       "      <th>Leslie Banks</th>\n",
       "      <th>Grace Kelly</th>\n",
       "      <th>Ian Hunter</th>\n",
       "      <th>Patricia Hitchcock</th>\n",
       "      <th>Isabel Jeans</th>\n",
       "      <th>Ingrid Bergman</th>\n",
       "      <th>Percy Marmont</th>\n",
       "    </tr>\n",
       "  </thead>\n",
       "  <tbody>\n",
       "    <tr>\n",
       "      <th>2</th>\n",
       "      <td>1976.0</td>\n",
       "      <td>120.0</td>\n",
       "      <td>OTHER</td>\n",
       "      <td>0.0</td>\n",
       "      <td>0.0</td>\n",
       "      <td>20794.0</td>\n",
       "      <td>0.0</td>\n",
       "      <td>0.0</td>\n",
       "      <td>0.0</td>\n",
       "      <td>0.0</td>\n",
       "      <td>...</td>\n",
       "      <td>0.0</td>\n",
       "      <td>0.0</td>\n",
       "      <td>0.0</td>\n",
       "      <td>0.0</td>\n",
       "      <td>0.0</td>\n",
       "      <td>0.0</td>\n",
       "      <td>0.0</td>\n",
       "      <td>0.0</td>\n",
       "      <td>0.0</td>\n",
       "      <td>0.0</td>\n",
       "    </tr>\n",
       "    <tr>\n",
       "      <th>7</th>\n",
       "      <td>1963.0</td>\n",
       "      <td>119.0</td>\n",
       "      <td>Robert Burks</td>\n",
       "      <td>0.0</td>\n",
       "      <td>0.0</td>\n",
       "      <td>171549.0</td>\n",
       "      <td>0.0</td>\n",
       "      <td>0.0</td>\n",
       "      <td>0.0</td>\n",
       "      <td>0.0</td>\n",
       "      <td>...</td>\n",
       "      <td>0.0</td>\n",
       "      <td>0.0</td>\n",
       "      <td>0.0</td>\n",
       "      <td>0.0</td>\n",
       "      <td>0.0</td>\n",
       "      <td>0.0</td>\n",
       "      <td>0.0</td>\n",
       "      <td>0.0</td>\n",
       "      <td>0.0</td>\n",
       "      <td>0.0</td>\n",
       "    </tr>\n",
       "    <tr>\n",
       "      <th>42</th>\n",
       "      <td>1939.0</td>\n",
       "      <td>98.0</td>\n",
       "      <td>Bernard Knowles</td>\n",
       "      <td>0.0</td>\n",
       "      <td>0.0</td>\n",
       "      <td>9121.0</td>\n",
       "      <td>0.0</td>\n",
       "      <td>0.0</td>\n",
       "      <td>0.0</td>\n",
       "      <td>0.0</td>\n",
       "      <td>...</td>\n",
       "      <td>0.0</td>\n",
       "      <td>1.0</td>\n",
       "      <td>1.0</td>\n",
       "      <td>1.0</td>\n",
       "      <td>0.0</td>\n",
       "      <td>0.0</td>\n",
       "      <td>0.0</td>\n",
       "      <td>0.0</td>\n",
       "      <td>0.0</td>\n",
       "      <td>0.0</td>\n",
       "    </tr>\n",
       "    <tr>\n",
       "      <th>51</th>\n",
       "      <td>1931.0</td>\n",
       "      <td>83.0</td>\n",
       "      <td>Jack E. Cox</td>\n",
       "      <td>0.0</td>\n",
       "      <td>0.0</td>\n",
       "      <td>3973.0</td>\n",
       "      <td>0.0</td>\n",
       "      <td>0.0</td>\n",
       "      <td>0.0</td>\n",
       "      <td>0.0</td>\n",
       "      <td>...</td>\n",
       "      <td>0.0</td>\n",
       "      <td>0.0</td>\n",
       "      <td>0.0</td>\n",
       "      <td>0.0</td>\n",
       "      <td>0.0</td>\n",
       "      <td>0.0</td>\n",
       "      <td>0.0</td>\n",
       "      <td>0.0</td>\n",
       "      <td>0.0</td>\n",
       "      <td>1.0</td>\n",
       "    </tr>\n",
       "    <tr>\n",
       "      <th>16</th>\n",
       "      <td>1956.0</td>\n",
       "      <td>105.0</td>\n",
       "      <td>Robert Burks</td>\n",
       "      <td>0.0</td>\n",
       "      <td>0.0</td>\n",
       "      <td>25655.0</td>\n",
       "      <td>0.0</td>\n",
       "      <td>0.0</td>\n",
       "      <td>0.0</td>\n",
       "      <td>0.0</td>\n",
       "      <td>...</td>\n",
       "      <td>0.0</td>\n",
       "      <td>0.0</td>\n",
       "      <td>0.0</td>\n",
       "      <td>0.0</td>\n",
       "      <td>0.0</td>\n",
       "      <td>0.0</td>\n",
       "      <td>0.0</td>\n",
       "      <td>0.0</td>\n",
       "      <td>0.0</td>\n",
       "      <td>0.0</td>\n",
       "    </tr>\n",
       "    <tr>\n",
       "      <th>62</th>\n",
       "      <td>1928.0</td>\n",
       "      <td>129.0</td>\n",
       "      <td>Jack E. Cox</td>\n",
       "      <td>0.0</td>\n",
       "      <td>0.0</td>\n",
       "      <td>2496.0</td>\n",
       "      <td>0.0</td>\n",
       "      <td>0.0</td>\n",
       "      <td>0.0</td>\n",
       "      <td>1.0</td>\n",
       "      <td>...</td>\n",
       "      <td>0.0</td>\n",
       "      <td>0.0</td>\n",
       "      <td>0.0</td>\n",
       "      <td>0.0</td>\n",
       "      <td>0.0</td>\n",
       "      <td>0.0</td>\n",
       "      <td>0.0</td>\n",
       "      <td>0.0</td>\n",
       "      <td>0.0</td>\n",
       "      <td>0.0</td>\n",
       "    </tr>\n",
       "    <tr>\n",
       "      <th>39</th>\n",
       "      <td>1940.0</td>\n",
       "      <td>120.0</td>\n",
       "      <td>OTHER</td>\n",
       "      <td>0.0</td>\n",
       "      <td>0.0</td>\n",
       "      <td>18452.0</td>\n",
       "      <td>0.0</td>\n",
       "      <td>0.0</td>\n",
       "      <td>1.0</td>\n",
       "      <td>0.0</td>\n",
       "      <td>...</td>\n",
       "      <td>0.0</td>\n",
       "      <td>0.0</td>\n",
       "      <td>0.0</td>\n",
       "      <td>0.0</td>\n",
       "      <td>0.0</td>\n",
       "      <td>0.0</td>\n",
       "      <td>0.0</td>\n",
       "      <td>0.0</td>\n",
       "      <td>0.0</td>\n",
       "      <td>0.0</td>\n",
       "    </tr>\n",
       "    <tr>\n",
       "      <th>54</th>\n",
       "      <td>1930.0</td>\n",
       "      <td>92.0</td>\n",
       "      <td>Jack E. Cox</td>\n",
       "      <td>0.0</td>\n",
       "      <td>0.0</td>\n",
       "      <td>5782.0</td>\n",
       "      <td>0.0</td>\n",
       "      <td>0.0</td>\n",
       "      <td>0.0</td>\n",
       "      <td>0.0</td>\n",
       "      <td>...</td>\n",
       "      <td>1.0</td>\n",
       "      <td>0.0</td>\n",
       "      <td>0.0</td>\n",
       "      <td>0.0</td>\n",
       "      <td>0.0</td>\n",
       "      <td>0.0</td>\n",
       "      <td>0.0</td>\n",
       "      <td>0.0</td>\n",
       "      <td>0.0</td>\n",
       "      <td>0.0</td>\n",
       "    </tr>\n",
       "    <tr>\n",
       "      <th>15</th>\n",
       "      <td>1941.0</td>\n",
       "      <td>99.0</td>\n",
       "      <td>Harry Stradling Sr.</td>\n",
       "      <td>0.0</td>\n",
       "      <td>0.0</td>\n",
       "      <td>32739.0</td>\n",
       "      <td>1.0</td>\n",
       "      <td>0.0</td>\n",
       "      <td>0.0</td>\n",
       "      <td>0.0</td>\n",
       "      <td>...</td>\n",
       "      <td>0.0</td>\n",
       "      <td>0.0</td>\n",
       "      <td>0.0</td>\n",
       "      <td>0.0</td>\n",
       "      <td>0.0</td>\n",
       "      <td>0.0</td>\n",
       "      <td>0.0</td>\n",
       "      <td>1.0</td>\n",
       "      <td>0.0</td>\n",
       "      <td>0.0</td>\n",
       "    </tr>\n",
       "    <tr>\n",
       "      <th>65</th>\n",
       "      <td>1927.0</td>\n",
       "      <td>74.0</td>\n",
       "      <td>Claude L. McDonnell</td>\n",
       "      <td>0.0</td>\n",
       "      <td>0.0</td>\n",
       "      <td>2201.0</td>\n",
       "      <td>0.0</td>\n",
       "      <td>0.0</td>\n",
       "      <td>0.0</td>\n",
       "      <td>0.0</td>\n",
       "      <td>...</td>\n",
       "      <td>0.0</td>\n",
       "      <td>0.0</td>\n",
       "      <td>0.0</td>\n",
       "      <td>0.0</td>\n",
       "      <td>0.0</td>\n",
       "      <td>1.0</td>\n",
       "      <td>0.0</td>\n",
       "      <td>1.0</td>\n",
       "      <td>0.0</td>\n",
       "      <td>0.0</td>\n",
       "    </tr>\n",
       "    <tr>\n",
       "      <th>52</th>\n",
       "      <td>1931.0</td>\n",
       "      <td>78.0</td>\n",
       "      <td>Jack E. Cox</td>\n",
       "      <td>0.0</td>\n",
       "      <td>0.0</td>\n",
       "      <td>682.0</td>\n",
       "      <td>0.0</td>\n",
       "      <td>0.0</td>\n",
       "      <td>0.0</td>\n",
       "      <td>0.0</td>\n",
       "      <td>...</td>\n",
       "      <td>0.0</td>\n",
       "      <td>0.0</td>\n",
       "      <td>0.0</td>\n",
       "      <td>0.0</td>\n",
       "      <td>0.0</td>\n",
       "      <td>0.0</td>\n",
       "      <td>0.0</td>\n",
       "      <td>0.0</td>\n",
       "      <td>0.0</td>\n",
       "      <td>0.0</td>\n",
       "    </tr>\n",
       "    <tr>\n",
       "      <th>57</th>\n",
       "      <td>1930.0</td>\n",
       "      <td>86.0</td>\n",
       "      <td>OTHER</td>\n",
       "      <td>0.0</td>\n",
       "      <td>0.0</td>\n",
       "      <td>344.0</td>\n",
       "      <td>0.0</td>\n",
       "      <td>1.0</td>\n",
       "      <td>0.0</td>\n",
       "      <td>1.0</td>\n",
       "      <td>...</td>\n",
       "      <td>0.0</td>\n",
       "      <td>0.0</td>\n",
       "      <td>0.0</td>\n",
       "      <td>0.0</td>\n",
       "      <td>0.0</td>\n",
       "      <td>0.0</td>\n",
       "      <td>0.0</td>\n",
       "      <td>0.0</td>\n",
       "      <td>0.0</td>\n",
       "      <td>0.0</td>\n",
       "    </tr>\n",
       "  </tbody>\n",
       "</table>\n",
       "<p>12 rows × 24 columns</p>\n",
       "</div>"
      ],
      "text/plain": [
       "      year  duration      cinematographer  documentary  tv_series  \\\n",
       "2   1976.0     120.0                OTHER          0.0        0.0   \n",
       "7   1963.0     119.0         Robert Burks          0.0        0.0   \n",
       "42  1939.0      98.0      Bernard Knowles          0.0        0.0   \n",
       "51  1931.0      83.0          Jack E. Cox          0.0        0.0   \n",
       "16  1956.0     105.0         Robert Burks          0.0        0.0   \n",
       "62  1928.0     129.0          Jack E. Cox          0.0        0.0   \n",
       "39  1940.0     120.0                OTHER          0.0        0.0   \n",
       "54  1930.0      92.0          Jack E. Cox          0.0        0.0   \n",
       "15  1941.0      99.0  Harry Stradling Sr.          0.0        0.0   \n",
       "65  1927.0      74.0  Claude L. McDonnell          0.0        0.0   \n",
       "52  1931.0      78.0          Jack E. Cox          0.0        0.0   \n",
       "57  1930.0      86.0                OTHER          0.0        0.0   \n",
       "\n",
       "    rating_count  Leo G. Carroll  John Longden  Edmund Gwenn  Gordon Harker  \\\n",
       "2        20794.0             0.0           0.0           0.0            0.0   \n",
       "7       171549.0             0.0           0.0           0.0            0.0   \n",
       "42        9121.0             0.0           0.0           0.0            0.0   \n",
       "51        3973.0             0.0           0.0           0.0            0.0   \n",
       "16       25655.0             0.0           0.0           0.0            0.0   \n",
       "62        2496.0             0.0           0.0           0.0            1.0   \n",
       "39       18452.0             0.0           0.0           1.0            0.0   \n",
       "54        5782.0             0.0           0.0           0.0            0.0   \n",
       "15       32739.0             1.0           0.0           0.0            0.0   \n",
       "65        2201.0             0.0           0.0           0.0            0.0   \n",
       "52         682.0             0.0           0.0           0.0            0.0   \n",
       "57         344.0             0.0           1.0           0.0            1.0   \n",
       "\n",
       "    ...  Edward Chapman  Basil Radford  George Curzon  Leslie Banks  \\\n",
       "2   ...             0.0            0.0            0.0           0.0   \n",
       "7   ...             0.0            0.0            0.0           0.0   \n",
       "42  ...             0.0            1.0            1.0           1.0   \n",
       "51  ...             0.0            0.0            0.0           0.0   \n",
       "16  ...             0.0            0.0            0.0           0.0   \n",
       "62  ...             0.0            0.0            0.0           0.0   \n",
       "39  ...             0.0            0.0            0.0           0.0   \n",
       "54  ...             1.0            0.0            0.0           0.0   \n",
       "15  ...             0.0            0.0            0.0           0.0   \n",
       "65  ...             0.0            0.0            0.0           0.0   \n",
       "52  ...             0.0            0.0            0.0           0.0   \n",
       "57  ...             0.0            0.0            0.0           0.0   \n",
       "\n",
       "    Grace Kelly  Ian Hunter  Patricia Hitchcock  Isabel Jeans  Ingrid Bergman  \\\n",
       "2           0.0         0.0                 0.0           0.0             0.0   \n",
       "7           0.0         0.0                 0.0           0.0             0.0   \n",
       "42          0.0         0.0                 0.0           0.0             0.0   \n",
       "51          0.0         0.0                 0.0           0.0             0.0   \n",
       "16          0.0         0.0                 0.0           0.0             0.0   \n",
       "62          0.0         0.0                 0.0           0.0             0.0   \n",
       "39          0.0         0.0                 0.0           0.0             0.0   \n",
       "54          0.0         0.0                 0.0           0.0             0.0   \n",
       "15          0.0         0.0                 0.0           1.0             0.0   \n",
       "65          0.0         1.0                 0.0           1.0             0.0   \n",
       "52          0.0         0.0                 0.0           0.0             0.0   \n",
       "57          0.0         0.0                 0.0           0.0             0.0   \n",
       "\n",
       "    Percy Marmont  \n",
       "2             0.0  \n",
       "7             0.0  \n",
       "42            0.0  \n",
       "51            1.0  \n",
       "16            0.0  \n",
       "62            0.0  \n",
       "39            0.0  \n",
       "54            0.0  \n",
       "15            0.0  \n",
       "65            0.0  \n",
       "52            0.0  \n",
       "57            0.0  \n",
       "\n",
       "[12 rows x 24 columns]"
      ]
     },
     "execution_count": 260,
     "metadata": {},
     "output_type": "execute_result"
    }
   ],
   "source": [
    "X_test"
   ]
  },
  {
   "cell_type": "markdown",
   "metadata": {},
   "source": [
    "## Preprocessing"
   ]
  },
  {
   "cell_type": "markdown",
   "metadata": {},
   "source": [
    "### Categorical Variable Preprocessing"
   ]
  },
  {
   "cell_type": "markdown",
   "metadata": {},
   "source": [
    "#### One-hot-encoding"
   ]
  },
  {
   "cell_type": "code",
   "execution_count": 261,
   "metadata": {},
   "outputs": [],
   "source": [
    "cat_ohe_vars = ['cinematographer']\n",
    "X_train_val_cat_ohe = X_train_val[cat_ohe_vars]\n",
    "#X_train_cat_ohe "
   ]
  },
  {
   "cell_type": "code",
   "execution_count": 262,
   "metadata": {},
   "outputs": [],
   "source": [
    "ohe = OneHotEncoder(sparse=False,  handle_unknown='ignore')\n",
    "ohe.fit(X_train_val_cat_ohe)\n",
    "cat_ohe = ohe.transform(X_train_val_cat_ohe)"
   ]
  },
  {
   "cell_type": "code",
   "execution_count": 263,
   "metadata": {},
   "outputs": [
    {
     "data": {
      "text/plain": [
       "array(['cinematographer_Bernard Knowles',\n",
       "       'cinematographer_Claude L. McDonnell',\n",
       "       'cinematographer_Gaetano di Ventimiglia',\n",
       "       'cinematographer_George Barnes',\n",
       "       'cinematographer_Glen MacWilliams',\n",
       "       'cinematographer_Harry Stradling Sr.',\n",
       "       'cinematographer_Jack E. Cox', 'cinematographer_John F. Warren',\n",
       "       'cinematographer_John L. Russell',\n",
       "       'cinematographer_Joseph A. Valentine', 'cinematographer_OTHER',\n",
       "       'cinematographer_Robert Burks'], dtype=object)"
      ]
     },
     "execution_count": 263,
     "metadata": {},
     "output_type": "execute_result"
    }
   ],
   "source": [
    "columns=ohe.get_feature_names(cat_ohe_vars)\n",
    "columns"
   ]
  },
  {
   "cell_type": "code",
   "execution_count": 264,
   "metadata": {},
   "outputs": [
    {
     "data": {
      "text/html": [
       "<div>\n",
       "<style scoped>\n",
       "    .dataframe tbody tr th:only-of-type {\n",
       "        vertical-align: middle;\n",
       "    }\n",
       "\n",
       "    .dataframe tbody tr th {\n",
       "        vertical-align: top;\n",
       "    }\n",
       "\n",
       "    .dataframe thead th {\n",
       "        text-align: right;\n",
       "    }\n",
       "</style>\n",
       "<table border=\"1\" class=\"dataframe\">\n",
       "  <thead>\n",
       "    <tr style=\"text-align: right;\">\n",
       "      <th></th>\n",
       "      <th>cinematographer_Bernard Knowles</th>\n",
       "      <th>cinematographer_Claude L. McDonnell</th>\n",
       "      <th>cinematographer_Gaetano di Ventimiglia</th>\n",
       "      <th>cinematographer_George Barnes</th>\n",
       "      <th>cinematographer_Glen MacWilliams</th>\n",
       "      <th>cinematographer_Harry Stradling Sr.</th>\n",
       "      <th>cinematographer_Jack E. Cox</th>\n",
       "      <th>cinematographer_John F. Warren</th>\n",
       "      <th>cinematographer_John L. Russell</th>\n",
       "      <th>cinematographer_Joseph A. Valentine</th>\n",
       "      <th>cinematographer_OTHER</th>\n",
       "      <th>cinematographer_Robert Burks</th>\n",
       "    </tr>\n",
       "  </thead>\n",
       "  <tbody>\n",
       "    <tr>\n",
       "      <th>37</th>\n",
       "      <td>0.0</td>\n",
       "      <td>0.0</td>\n",
       "      <td>0.0</td>\n",
       "      <td>0.0</td>\n",
       "      <td>0.0</td>\n",
       "      <td>0.0</td>\n",
       "      <td>0.0</td>\n",
       "      <td>0.0</td>\n",
       "      <td>0.0</td>\n",
       "      <td>1.0</td>\n",
       "      <td>0.0</td>\n",
       "      <td>0.0</td>\n",
       "    </tr>\n",
       "    <tr>\n",
       "      <th>5</th>\n",
       "      <td>0.0</td>\n",
       "      <td>0.0</td>\n",
       "      <td>0.0</td>\n",
       "      <td>0.0</td>\n",
       "      <td>0.0</td>\n",
       "      <td>0.0</td>\n",
       "      <td>0.0</td>\n",
       "      <td>1.0</td>\n",
       "      <td>0.0</td>\n",
       "      <td>0.0</td>\n",
       "      <td>0.0</td>\n",
       "      <td>0.0</td>\n",
       "    </tr>\n",
       "    <tr>\n",
       "      <th>60</th>\n",
       "      <td>0.0</td>\n",
       "      <td>0.0</td>\n",
       "      <td>0.0</td>\n",
       "      <td>0.0</td>\n",
       "      <td>0.0</td>\n",
       "      <td>0.0</td>\n",
       "      <td>1.0</td>\n",
       "      <td>0.0</td>\n",
       "      <td>0.0</td>\n",
       "      <td>0.0</td>\n",
       "      <td>0.0</td>\n",
       "      <td>0.0</td>\n",
       "    </tr>\n",
       "    <tr>\n",
       "      <th>20</th>\n",
       "      <td>0.0</td>\n",
       "      <td>0.0</td>\n",
       "      <td>0.0</td>\n",
       "      <td>0.0</td>\n",
       "      <td>0.0</td>\n",
       "      <td>0.0</td>\n",
       "      <td>0.0</td>\n",
       "      <td>0.0</td>\n",
       "      <td>0.0</td>\n",
       "      <td>0.0</td>\n",
       "      <td>0.0</td>\n",
       "      <td>1.0</td>\n",
       "    </tr>\n",
       "    <tr>\n",
       "      <th>11</th>\n",
       "      <td>0.0</td>\n",
       "      <td>0.0</td>\n",
       "      <td>0.0</td>\n",
       "      <td>0.0</td>\n",
       "      <td>0.0</td>\n",
       "      <td>0.0</td>\n",
       "      <td>0.0</td>\n",
       "      <td>0.0</td>\n",
       "      <td>1.0</td>\n",
       "      <td>0.0</td>\n",
       "      <td>0.0</td>\n",
       "      <td>0.0</td>\n",
       "    </tr>\n",
       "  </tbody>\n",
       "</table>\n",
       "</div>"
      ],
      "text/plain": [
       "    cinematographer_Bernard Knowles  cinematographer_Claude L. McDonnell  \\\n",
       "37                              0.0                                  0.0   \n",
       "5                               0.0                                  0.0   \n",
       "60                              0.0                                  0.0   \n",
       "20                              0.0                                  0.0   \n",
       "11                              0.0                                  0.0   \n",
       "\n",
       "    cinematographer_Gaetano di Ventimiglia  cinematographer_George Barnes  \\\n",
       "37                                     0.0                            0.0   \n",
       "5                                      0.0                            0.0   \n",
       "60                                     0.0                            0.0   \n",
       "20                                     0.0                            0.0   \n",
       "11                                     0.0                            0.0   \n",
       "\n",
       "    cinematographer_Glen MacWilliams  cinematographer_Harry Stradling Sr.  \\\n",
       "37                               0.0                                  0.0   \n",
       "5                                0.0                                  0.0   \n",
       "60                               0.0                                  0.0   \n",
       "20                               0.0                                  0.0   \n",
       "11                               0.0                                  0.0   \n",
       "\n",
       "    cinematographer_Jack E. Cox  cinematographer_John F. Warren  \\\n",
       "37                          0.0                             0.0   \n",
       "5                           0.0                             1.0   \n",
       "60                          1.0                             0.0   \n",
       "20                          0.0                             0.0   \n",
       "11                          0.0                             0.0   \n",
       "\n",
       "    cinematographer_John L. Russell  cinematographer_Joseph A. Valentine  \\\n",
       "37                              0.0                                  1.0   \n",
       "5                               0.0                                  0.0   \n",
       "60                              0.0                                  0.0   \n",
       "20                              0.0                                  0.0   \n",
       "11                              1.0                                  0.0   \n",
       "\n",
       "    cinematographer_OTHER  cinematographer_Robert Burks  \n",
       "37                    0.0                           0.0  \n",
       "5                     0.0                           0.0  \n",
       "60                    0.0                           0.0  \n",
       "20                    0.0                           1.0  \n",
       "11                    0.0                           0.0  "
      ]
     },
     "execution_count": 264,
     "metadata": {},
     "output_type": "execute_result"
    }
   ],
   "source": [
    "X_train_val_cat_ohe_df = pd.DataFrame(cat_ohe, columns=columns, index=X_train_val_cat_ohe.index)\n",
    "X_train_val_cat_ohe_df.head()"
   ]
  },
  {
   "cell_type": "markdown",
   "metadata": {},
   "source": [
    "Repeating transformations on testing set"
   ]
  },
  {
   "cell_type": "code",
   "execution_count": 265,
   "metadata": {},
   "outputs": [],
   "source": [
    "X_test_cat_ohe = X_test[['cinematographer']]\n",
    "X_test_cat_ohe\n",
    "cat_ohe_test = ohe.transform(X_test_cat_ohe)\n",
    "\n",
    "cat_ohe_columns = ohe.get_feature_names(['cinematographer'])\n",
    "X_test_cat_ohe_df = pd.DataFrame(cat_ohe_test, columns=cat_ohe_columns)\n"
   ]
  },
  {
   "cell_type": "code",
   "execution_count": null,
   "metadata": {},
   "outputs": [],
   "source": []
  },
  {
   "cell_type": "markdown",
   "metadata": {},
   "source": [
    "### Continuous Variable Preprocessing"
   ]
  },
  {
   "cell_type": "code",
   "execution_count": 266,
   "metadata": {},
   "outputs": [
    {
     "data": {
      "text/html": [
       "<div>\n",
       "<style scoped>\n",
       "    .dataframe tbody tr th:only-of-type {\n",
       "        vertical-align: middle;\n",
       "    }\n",
       "\n",
       "    .dataframe tbody tr th {\n",
       "        vertical-align: top;\n",
       "    }\n",
       "\n",
       "    .dataframe thead th {\n",
       "        text-align: right;\n",
       "    }\n",
       "</style>\n",
       "<table border=\"1\" class=\"dataframe\">\n",
       "  <thead>\n",
       "    <tr style=\"text-align: right;\">\n",
       "      <th></th>\n",
       "      <th>year</th>\n",
       "      <th>duration</th>\n",
       "      <th>rating_count</th>\n",
       "    </tr>\n",
       "  </thead>\n",
       "  <tbody>\n",
       "    <tr>\n",
       "      <th>37</th>\n",
       "      <td>1942.0</td>\n",
       "      <td>109.0</td>\n",
       "      <td>23406.0</td>\n",
       "    </tr>\n",
       "    <tr>\n",
       "      <th>5</th>\n",
       "      <td>1966.0</td>\n",
       "      <td>128.0</td>\n",
       "      <td>24727.0</td>\n",
       "    </tr>\n",
       "    <tr>\n",
       "      <th>60</th>\n",
       "      <td>1929.0</td>\n",
       "      <td>110.0</td>\n",
       "      <td>2603.0</td>\n",
       "    </tr>\n",
       "    <tr>\n",
       "      <th>20</th>\n",
       "      <td>1955.0</td>\n",
       "      <td>106.0</td>\n",
       "      <td>65121.0</td>\n",
       "    </tr>\n",
       "    <tr>\n",
       "      <th>11</th>\n",
       "      <td>1959.0</td>\n",
       "      <td>60.0</td>\n",
       "      <td>127.0</td>\n",
       "    </tr>\n",
       "  </tbody>\n",
       "</table>\n",
       "</div>"
      ],
      "text/plain": [
       "      year  duration  rating_count\n",
       "37  1942.0     109.0       23406.0\n",
       "5   1966.0     128.0       24727.0\n",
       "60  1929.0     110.0        2603.0\n",
       "20  1955.0     106.0       65121.0\n",
       "11  1959.0      60.0         127.0"
      ]
     },
     "execution_count": 266,
     "metadata": {},
     "output_type": "execute_result"
    }
   ],
   "source": [
    "cont_column_names = ['year', 'duration', 'rating_count']\n",
    "X_train_val_cont = X_train_val[cont_column_names ]\n",
    "\n",
    "X_test_cont      = X_test[     cont_column_names ]\n",
    "\n",
    "\n",
    "X_train_val_cont.head()\n"
   ]
  },
  {
   "cell_type": "markdown",
   "metadata": {},
   "source": [
    "#### Generate log and polynomials"
   ]
  },
  {
   "cell_type": "raw",
   "metadata": {},
   "source": [
    "sqrs = [str(name + '_sq') for name in cont_column_names]\n",
    "sqrs"
   ]
  },
  {
   "cell_type": "raw",
   "metadata": {},
   "source": [
    "str(cont_column_names[0])"
   ]
  },
  {
   "cell_type": "raw",
   "metadata": {},
   "source": [
    "interactions = [str(cont_column_names[0]) +'_x_'+ str(cont_column_names[1]),\n",
    "               str(cont_column_names[1]) +'_x_'+ str(cont_column_names[2]),\n",
    "               str(cont_column_names[0]) +'_x_'+ str(cont_column_names[2])]\n",
    "interactions"
   ]
  },
  {
   "cell_type": "raw",
   "metadata": {},
   "source": [
    "cont_column_names.extend(sqrs)\n",
    "cont_column_names.extend(interactions)"
   ]
  },
  {
   "cell_type": "raw",
   "metadata": {},
   "source": [
    "cont_column_names"
   ]
  },
  {
   "cell_type": "raw",
   "metadata": {},
   "source": [
    "poly = PolynomialFeatures(degree=2)\n",
    "\n",
    "X_train_val_cont_poly = poly.fit_transform(X_train_val_cont)\n",
    "X_test_cont_poly           = poly.fit_transform(X_test_cont)"
   ]
  },
  {
   "cell_type": "raw",
   "metadata": {},
   "source": [
    "X_train_val_cont_poly = pd.DataFrame(X_train_val_cont_poly[:,1:], columns=cont_column_names)\n",
    "X_test_cont_poly  = pd.DataFrame(X_test_cont_poly[:,1:],  columns=cont_column_names)"
   ]
  },
  {
   "cell_type": "raw",
   "metadata": {},
   "source": [
    "X_train_val_cont_poly.loc[:,'log_year']         = np.log(X_train_val_cont_poly.year)\n",
    "X_train_val_cont_poly.loc[:,'log_rating_count'] = np.log(X_train_val_cont_poly.rating_count)\n"
   ]
  },
  {
   "cell_type": "raw",
   "metadata": {},
   "source": [
    "X_test_cont_poly.loc[:,'log_year']         = np.log(X_test_cont_poly.year)\n",
    "X_test_cont_poly.loc[:,'log_rating_count'] = np.log(X_test_cont_poly.rating_count)"
   ]
  },
  {
   "cell_type": "raw",
   "metadata": {},
   "source": [
    "X_train_val_cont_poly.head()"
   ]
  },
  {
   "cell_type": "code",
   "execution_count": 135,
   "metadata": {},
   "outputs": [],
   "source": [
    "#X_train_val_cont_poly.head()"
   ]
  },
  {
   "cell_type": "code",
   "execution_count": 267,
   "metadata": {},
   "outputs": [
    {
     "name": "stderr",
     "output_type": "stream",
     "text": [
      "<ipython-input-267-d30627963e3a>:1: SettingWithCopyWarning: \n",
      "A value is trying to be set on a copy of a slice from a DataFrame.\n",
      "Try using .loc[row_indexer,col_indexer] = value instead\n",
      "\n",
      "See the caveats in the documentation: https://pandas.pydata.org/pandas-docs/stable/user_guide/indexing.html#returning-a-view-versus-a-copy\n",
      "  X_train_val_cont['log_year']         = np.log(X_train_val_cont.year)\n",
      "<ipython-input-267-d30627963e3a>:2: SettingWithCopyWarning: \n",
      "A value is trying to be set on a copy of a slice from a DataFrame.\n",
      "Try using .loc[row_indexer,col_indexer] = value instead\n",
      "\n",
      "See the caveats in the documentation: https://pandas.pydata.org/pandas-docs/stable/user_guide/indexing.html#returning-a-view-versus-a-copy\n",
      "  X_train_val_cont['log_rating_count'] = np.log(X_train_val_cont.rating_count)\n",
      "<ipython-input-267-d30627963e3a>:5: SettingWithCopyWarning: \n",
      "A value is trying to be set on a copy of a slice from a DataFrame.\n",
      "Try using .loc[row_indexer,col_indexer] = value instead\n",
      "\n",
      "See the caveats in the documentation: https://pandas.pydata.org/pandas-docs/stable/user_guide/indexing.html#returning-a-view-versus-a-copy\n",
      "  X_test_cont['log_year']         = np.log(X_test_cont.year)\n",
      "<ipython-input-267-d30627963e3a>:6: SettingWithCopyWarning: \n",
      "A value is trying to be set on a copy of a slice from a DataFrame.\n",
      "Try using .loc[row_indexer,col_indexer] = value instead\n",
      "\n",
      "See the caveats in the documentation: https://pandas.pydata.org/pandas-docs/stable/user_guide/indexing.html#returning-a-view-versus-a-copy\n",
      "  X_test_cont['log_rating_count'] = np.log(X_test_cont.rating_count)\n"
     ]
    }
   ],
   "source": [
    "X_train_val_cont['log_year']         = np.log(X_train_val_cont.year)\n",
    "X_train_val_cont['log_rating_count'] = np.log(X_train_val_cont.rating_count)\n",
    "\n",
    "\n",
    "X_test_cont['log_year']         = np.log(X_test_cont.year)\n",
    "X_test_cont['log_rating_count'] = np.log(X_test_cont.rating_count)"
   ]
  },
  {
   "cell_type": "code",
   "execution_count": 270,
   "metadata": {},
   "outputs": [
    {
     "data": {
      "text/plain": [
       "12"
      ]
     },
     "execution_count": 270,
     "metadata": {},
     "output_type": "execute_result"
    }
   ],
   "source": [
    "X_test_cont.shape[0]"
   ]
  },
  {
   "cell_type": "markdown",
   "metadata": {},
   "source": [
    "#### Concatenate columns"
   ]
  },
  {
   "cell_type": "code",
   "execution_count": 271,
   "metadata": {},
   "outputs": [],
   "source": [
    "cat_columns = ['documentary', 'tv_series', *prevalent_actor_columns]\n",
    "X_train_val_cat_df = X_train_val[cat_columns]\n",
    "#X_train_val_cat_df\n",
    "\n",
    "X_test_cat_df = X_test[cat_columns]\n",
    "#X_train_val_cat_df"
   ]
  },
  {
   "cell_type": "code",
   "execution_count": 272,
   "metadata": {},
   "outputs": [
    {
     "data": {
      "text/plain": [
       "False"
      ]
     },
     "execution_count": 272,
     "metadata": {},
     "output_type": "execute_result"
    }
   ],
   "source": [
    "X_test_cat_df.isnull().values.any()"
   ]
  },
  {
   "cell_type": "code",
   "execution_count": 273,
   "metadata": {},
   "outputs": [],
   "source": [
    "X_train_val_combo= pd.concat([X_train_val_cont, X_train_val_cat_ohe_df, X_train_val_cat_df, ], axis='columns')\n",
    "X_test_combo = pd.concat([X_test_cont.reset_index(drop=True), X_test_cat_ohe_df.reset_index(drop=True), X_test_cat_df.reset_index(drop=True), ], axis='columns')"
   ]
  },
  {
   "cell_type": "code",
   "execution_count": 274,
   "metadata": {},
   "outputs": [
    {
     "data": {
      "text/plain": [
       "(12, 20)"
      ]
     },
     "execution_count": 274,
     "metadata": {},
     "output_type": "execute_result"
    }
   ],
   "source": [
    "X_test_cat_df.shape"
   ]
  },
  {
   "cell_type": "code",
   "execution_count": 275,
   "metadata": {},
   "outputs": [
    {
     "data": {
      "text/plain": [
       "False"
      ]
     },
     "execution_count": 275,
     "metadata": {},
     "output_type": "execute_result"
    }
   ],
   "source": [
    "X_train_val_combo.isnull().values.any()"
   ]
  },
  {
   "cell_type": "code",
   "execution_count": null,
   "metadata": {},
   "outputs": [],
   "source": []
  },
  {
   "cell_type": "code",
   "execution_count": 276,
   "metadata": {},
   "outputs": [
    {
     "data": {
      "text/plain": [
       "False"
      ]
     },
     "execution_count": 276,
     "metadata": {},
     "output_type": "execute_result"
    }
   ],
   "source": [
    "X_test_combo.isnull().values.any()"
   ]
  },
  {
   "cell_type": "code",
   "execution_count": 277,
   "metadata": {},
   "outputs": [
    {
     "data": {
      "text/html": [
       "<div>\n",
       "<style scoped>\n",
       "    .dataframe tbody tr th:only-of-type {\n",
       "        vertical-align: middle;\n",
       "    }\n",
       "\n",
       "    .dataframe tbody tr th {\n",
       "        vertical-align: top;\n",
       "    }\n",
       "\n",
       "    .dataframe thead th {\n",
       "        text-align: right;\n",
       "    }\n",
       "</style>\n",
       "<table border=\"1\" class=\"dataframe\">\n",
       "  <thead>\n",
       "    <tr style=\"text-align: right;\">\n",
       "      <th></th>\n",
       "      <th>year</th>\n",
       "      <th>duration</th>\n",
       "      <th>rating_count</th>\n",
       "      <th>log_year</th>\n",
       "      <th>log_rating_count</th>\n",
       "      <th>cinematographer_Bernard Knowles</th>\n",
       "      <th>cinematographer_Claude L. McDonnell</th>\n",
       "      <th>cinematographer_Gaetano di Ventimiglia</th>\n",
       "      <th>cinematographer_George Barnes</th>\n",
       "      <th>cinematographer_Glen MacWilliams</th>\n",
       "      <th>...</th>\n",
       "      <th>Edward Chapman</th>\n",
       "      <th>Basil Radford</th>\n",
       "      <th>George Curzon</th>\n",
       "      <th>Leslie Banks</th>\n",
       "      <th>Grace Kelly</th>\n",
       "      <th>Ian Hunter</th>\n",
       "      <th>Patricia Hitchcock</th>\n",
       "      <th>Isabel Jeans</th>\n",
       "      <th>Ingrid Bergman</th>\n",
       "      <th>Percy Marmont</th>\n",
       "    </tr>\n",
       "  </thead>\n",
       "  <tbody>\n",
       "    <tr>\n",
       "      <th>0</th>\n",
       "      <td>1976.0</td>\n",
       "      <td>120.0</td>\n",
       "      <td>20794.0</td>\n",
       "      <td>7.588830</td>\n",
       "      <td>9.942420</td>\n",
       "      <td>0.0</td>\n",
       "      <td>0.0</td>\n",
       "      <td>0.0</td>\n",
       "      <td>0.0</td>\n",
       "      <td>0.0</td>\n",
       "      <td>...</td>\n",
       "      <td>0.0</td>\n",
       "      <td>0.0</td>\n",
       "      <td>0.0</td>\n",
       "      <td>0.0</td>\n",
       "      <td>0.0</td>\n",
       "      <td>0.0</td>\n",
       "      <td>0.0</td>\n",
       "      <td>0.0</td>\n",
       "      <td>0.0</td>\n",
       "      <td>0.0</td>\n",
       "    </tr>\n",
       "    <tr>\n",
       "      <th>1</th>\n",
       "      <td>1963.0</td>\n",
       "      <td>119.0</td>\n",
       "      <td>171549.0</td>\n",
       "      <td>7.582229</td>\n",
       "      <td>12.052624</td>\n",
       "      <td>0.0</td>\n",
       "      <td>0.0</td>\n",
       "      <td>0.0</td>\n",
       "      <td>0.0</td>\n",
       "      <td>0.0</td>\n",
       "      <td>...</td>\n",
       "      <td>0.0</td>\n",
       "      <td>0.0</td>\n",
       "      <td>0.0</td>\n",
       "      <td>0.0</td>\n",
       "      <td>0.0</td>\n",
       "      <td>0.0</td>\n",
       "      <td>0.0</td>\n",
       "      <td>0.0</td>\n",
       "      <td>0.0</td>\n",
       "      <td>0.0</td>\n",
       "    </tr>\n",
       "    <tr>\n",
       "      <th>2</th>\n",
       "      <td>1939.0</td>\n",
       "      <td>98.0</td>\n",
       "      <td>9121.0</td>\n",
       "      <td>7.569928</td>\n",
       "      <td>9.118335</td>\n",
       "      <td>1.0</td>\n",
       "      <td>0.0</td>\n",
       "      <td>0.0</td>\n",
       "      <td>0.0</td>\n",
       "      <td>0.0</td>\n",
       "      <td>...</td>\n",
       "      <td>0.0</td>\n",
       "      <td>1.0</td>\n",
       "      <td>1.0</td>\n",
       "      <td>1.0</td>\n",
       "      <td>0.0</td>\n",
       "      <td>0.0</td>\n",
       "      <td>0.0</td>\n",
       "      <td>0.0</td>\n",
       "      <td>0.0</td>\n",
       "      <td>0.0</td>\n",
       "    </tr>\n",
       "    <tr>\n",
       "      <th>3</th>\n",
       "      <td>1931.0</td>\n",
       "      <td>83.0</td>\n",
       "      <td>3973.0</td>\n",
       "      <td>7.565793</td>\n",
       "      <td>8.287277</td>\n",
       "      <td>0.0</td>\n",
       "      <td>0.0</td>\n",
       "      <td>0.0</td>\n",
       "      <td>0.0</td>\n",
       "      <td>0.0</td>\n",
       "      <td>...</td>\n",
       "      <td>0.0</td>\n",
       "      <td>0.0</td>\n",
       "      <td>0.0</td>\n",
       "      <td>0.0</td>\n",
       "      <td>0.0</td>\n",
       "      <td>0.0</td>\n",
       "      <td>0.0</td>\n",
       "      <td>0.0</td>\n",
       "      <td>0.0</td>\n",
       "      <td>1.0</td>\n",
       "    </tr>\n",
       "    <tr>\n",
       "      <th>4</th>\n",
       "      <td>1956.0</td>\n",
       "      <td>105.0</td>\n",
       "      <td>25655.0</td>\n",
       "      <td>7.578657</td>\n",
       "      <td>10.152494</td>\n",
       "      <td>0.0</td>\n",
       "      <td>0.0</td>\n",
       "      <td>0.0</td>\n",
       "      <td>0.0</td>\n",
       "      <td>0.0</td>\n",
       "      <td>...</td>\n",
       "      <td>0.0</td>\n",
       "      <td>0.0</td>\n",
       "      <td>0.0</td>\n",
       "      <td>0.0</td>\n",
       "      <td>0.0</td>\n",
       "      <td>0.0</td>\n",
       "      <td>0.0</td>\n",
       "      <td>0.0</td>\n",
       "      <td>0.0</td>\n",
       "      <td>0.0</td>\n",
       "    </tr>\n",
       "    <tr>\n",
       "      <th>5</th>\n",
       "      <td>1928.0</td>\n",
       "      <td>129.0</td>\n",
       "      <td>2496.0</td>\n",
       "      <td>7.564238</td>\n",
       "      <td>7.822445</td>\n",
       "      <td>0.0</td>\n",
       "      <td>0.0</td>\n",
       "      <td>0.0</td>\n",
       "      <td>0.0</td>\n",
       "      <td>0.0</td>\n",
       "      <td>...</td>\n",
       "      <td>0.0</td>\n",
       "      <td>0.0</td>\n",
       "      <td>0.0</td>\n",
       "      <td>0.0</td>\n",
       "      <td>0.0</td>\n",
       "      <td>0.0</td>\n",
       "      <td>0.0</td>\n",
       "      <td>0.0</td>\n",
       "      <td>0.0</td>\n",
       "      <td>0.0</td>\n",
       "    </tr>\n",
       "    <tr>\n",
       "      <th>6</th>\n",
       "      <td>1940.0</td>\n",
       "      <td>120.0</td>\n",
       "      <td>18452.0</td>\n",
       "      <td>7.570443</td>\n",
       "      <td>9.822928</td>\n",
       "      <td>0.0</td>\n",
       "      <td>0.0</td>\n",
       "      <td>0.0</td>\n",
       "      <td>0.0</td>\n",
       "      <td>0.0</td>\n",
       "      <td>...</td>\n",
       "      <td>0.0</td>\n",
       "      <td>0.0</td>\n",
       "      <td>0.0</td>\n",
       "      <td>0.0</td>\n",
       "      <td>0.0</td>\n",
       "      <td>0.0</td>\n",
       "      <td>0.0</td>\n",
       "      <td>0.0</td>\n",
       "      <td>0.0</td>\n",
       "      <td>0.0</td>\n",
       "    </tr>\n",
       "    <tr>\n",
       "      <th>7</th>\n",
       "      <td>1930.0</td>\n",
       "      <td>92.0</td>\n",
       "      <td>5782.0</td>\n",
       "      <td>7.565275</td>\n",
       "      <td>8.662505</td>\n",
       "      <td>0.0</td>\n",
       "      <td>0.0</td>\n",
       "      <td>0.0</td>\n",
       "      <td>0.0</td>\n",
       "      <td>0.0</td>\n",
       "      <td>...</td>\n",
       "      <td>1.0</td>\n",
       "      <td>0.0</td>\n",
       "      <td>0.0</td>\n",
       "      <td>0.0</td>\n",
       "      <td>0.0</td>\n",
       "      <td>0.0</td>\n",
       "      <td>0.0</td>\n",
       "      <td>0.0</td>\n",
       "      <td>0.0</td>\n",
       "      <td>0.0</td>\n",
       "    </tr>\n",
       "    <tr>\n",
       "      <th>8</th>\n",
       "      <td>1941.0</td>\n",
       "      <td>99.0</td>\n",
       "      <td>32739.0</td>\n",
       "      <td>7.570959</td>\n",
       "      <td>10.396322</td>\n",
       "      <td>0.0</td>\n",
       "      <td>0.0</td>\n",
       "      <td>0.0</td>\n",
       "      <td>0.0</td>\n",
       "      <td>0.0</td>\n",
       "      <td>...</td>\n",
       "      <td>0.0</td>\n",
       "      <td>0.0</td>\n",
       "      <td>0.0</td>\n",
       "      <td>0.0</td>\n",
       "      <td>0.0</td>\n",
       "      <td>0.0</td>\n",
       "      <td>0.0</td>\n",
       "      <td>1.0</td>\n",
       "      <td>0.0</td>\n",
       "      <td>0.0</td>\n",
       "    </tr>\n",
       "    <tr>\n",
       "      <th>9</th>\n",
       "      <td>1927.0</td>\n",
       "      <td>74.0</td>\n",
       "      <td>2201.0</td>\n",
       "      <td>7.563720</td>\n",
       "      <td>7.696667</td>\n",
       "      <td>0.0</td>\n",
       "      <td>1.0</td>\n",
       "      <td>0.0</td>\n",
       "      <td>0.0</td>\n",
       "      <td>0.0</td>\n",
       "      <td>...</td>\n",
       "      <td>0.0</td>\n",
       "      <td>0.0</td>\n",
       "      <td>0.0</td>\n",
       "      <td>0.0</td>\n",
       "      <td>0.0</td>\n",
       "      <td>1.0</td>\n",
       "      <td>0.0</td>\n",
       "      <td>1.0</td>\n",
       "      <td>0.0</td>\n",
       "      <td>0.0</td>\n",
       "    </tr>\n",
       "    <tr>\n",
       "      <th>10</th>\n",
       "      <td>1931.0</td>\n",
       "      <td>78.0</td>\n",
       "      <td>682.0</td>\n",
       "      <td>7.565793</td>\n",
       "      <td>6.525030</td>\n",
       "      <td>0.0</td>\n",
       "      <td>0.0</td>\n",
       "      <td>0.0</td>\n",
       "      <td>0.0</td>\n",
       "      <td>0.0</td>\n",
       "      <td>...</td>\n",
       "      <td>0.0</td>\n",
       "      <td>0.0</td>\n",
       "      <td>0.0</td>\n",
       "      <td>0.0</td>\n",
       "      <td>0.0</td>\n",
       "      <td>0.0</td>\n",
       "      <td>0.0</td>\n",
       "      <td>0.0</td>\n",
       "      <td>0.0</td>\n",
       "      <td>0.0</td>\n",
       "    </tr>\n",
       "    <tr>\n",
       "      <th>11</th>\n",
       "      <td>1930.0</td>\n",
       "      <td>86.0</td>\n",
       "      <td>344.0</td>\n",
       "      <td>7.565275</td>\n",
       "      <td>5.840642</td>\n",
       "      <td>0.0</td>\n",
       "      <td>0.0</td>\n",
       "      <td>0.0</td>\n",
       "      <td>0.0</td>\n",
       "      <td>0.0</td>\n",
       "      <td>...</td>\n",
       "      <td>0.0</td>\n",
       "      <td>0.0</td>\n",
       "      <td>0.0</td>\n",
       "      <td>0.0</td>\n",
       "      <td>0.0</td>\n",
       "      <td>0.0</td>\n",
       "      <td>0.0</td>\n",
       "      <td>0.0</td>\n",
       "      <td>0.0</td>\n",
       "      <td>0.0</td>\n",
       "    </tr>\n",
       "  </tbody>\n",
       "</table>\n",
       "<p>12 rows × 37 columns</p>\n",
       "</div>"
      ],
      "text/plain": [
       "      year  duration  rating_count  log_year  log_rating_count  \\\n",
       "0   1976.0     120.0       20794.0  7.588830          9.942420   \n",
       "1   1963.0     119.0      171549.0  7.582229         12.052624   \n",
       "2   1939.0      98.0        9121.0  7.569928          9.118335   \n",
       "3   1931.0      83.0        3973.0  7.565793          8.287277   \n",
       "4   1956.0     105.0       25655.0  7.578657         10.152494   \n",
       "5   1928.0     129.0        2496.0  7.564238          7.822445   \n",
       "6   1940.0     120.0       18452.0  7.570443          9.822928   \n",
       "7   1930.0      92.0        5782.0  7.565275          8.662505   \n",
       "8   1941.0      99.0       32739.0  7.570959         10.396322   \n",
       "9   1927.0      74.0        2201.0  7.563720          7.696667   \n",
       "10  1931.0      78.0         682.0  7.565793          6.525030   \n",
       "11  1930.0      86.0         344.0  7.565275          5.840642   \n",
       "\n",
       "    cinematographer_Bernard Knowles  cinematographer_Claude L. McDonnell  \\\n",
       "0                               0.0                                  0.0   \n",
       "1                               0.0                                  0.0   \n",
       "2                               1.0                                  0.0   \n",
       "3                               0.0                                  0.0   \n",
       "4                               0.0                                  0.0   \n",
       "5                               0.0                                  0.0   \n",
       "6                               0.0                                  0.0   \n",
       "7                               0.0                                  0.0   \n",
       "8                               0.0                                  0.0   \n",
       "9                               0.0                                  1.0   \n",
       "10                              0.0                                  0.0   \n",
       "11                              0.0                                  0.0   \n",
       "\n",
       "    cinematographer_Gaetano di Ventimiglia  cinematographer_George Barnes  \\\n",
       "0                                      0.0                            0.0   \n",
       "1                                      0.0                            0.0   \n",
       "2                                      0.0                            0.0   \n",
       "3                                      0.0                            0.0   \n",
       "4                                      0.0                            0.0   \n",
       "5                                      0.0                            0.0   \n",
       "6                                      0.0                            0.0   \n",
       "7                                      0.0                            0.0   \n",
       "8                                      0.0                            0.0   \n",
       "9                                      0.0                            0.0   \n",
       "10                                     0.0                            0.0   \n",
       "11                                     0.0                            0.0   \n",
       "\n",
       "    cinematographer_Glen MacWilliams  ...  Edward Chapman  Basil Radford  \\\n",
       "0                                0.0  ...             0.0            0.0   \n",
       "1                                0.0  ...             0.0            0.0   \n",
       "2                                0.0  ...             0.0            1.0   \n",
       "3                                0.0  ...             0.0            0.0   \n",
       "4                                0.0  ...             0.0            0.0   \n",
       "5                                0.0  ...             0.0            0.0   \n",
       "6                                0.0  ...             0.0            0.0   \n",
       "7                                0.0  ...             1.0            0.0   \n",
       "8                                0.0  ...             0.0            0.0   \n",
       "9                                0.0  ...             0.0            0.0   \n",
       "10                               0.0  ...             0.0            0.0   \n",
       "11                               0.0  ...             0.0            0.0   \n",
       "\n",
       "    George Curzon  Leslie Banks  Grace Kelly  Ian Hunter  Patricia Hitchcock  \\\n",
       "0             0.0           0.0          0.0         0.0                 0.0   \n",
       "1             0.0           0.0          0.0         0.0                 0.0   \n",
       "2             1.0           1.0          0.0         0.0                 0.0   \n",
       "3             0.0           0.0          0.0         0.0                 0.0   \n",
       "4             0.0           0.0          0.0         0.0                 0.0   \n",
       "5             0.0           0.0          0.0         0.0                 0.0   \n",
       "6             0.0           0.0          0.0         0.0                 0.0   \n",
       "7             0.0           0.0          0.0         0.0                 0.0   \n",
       "8             0.0           0.0          0.0         0.0                 0.0   \n",
       "9             0.0           0.0          0.0         1.0                 0.0   \n",
       "10            0.0           0.0          0.0         0.0                 0.0   \n",
       "11            0.0           0.0          0.0         0.0                 0.0   \n",
       "\n",
       "    Isabel Jeans  Ingrid Bergman  Percy Marmont  \n",
       "0            0.0             0.0            0.0  \n",
       "1            0.0             0.0            0.0  \n",
       "2            0.0             0.0            0.0  \n",
       "3            0.0             0.0            1.0  \n",
       "4            0.0             0.0            0.0  \n",
       "5            0.0             0.0            0.0  \n",
       "6            0.0             0.0            0.0  \n",
       "7            0.0             0.0            0.0  \n",
       "8            1.0             0.0            0.0  \n",
       "9            1.0             0.0            0.0  \n",
       "10           0.0             0.0            0.0  \n",
       "11           0.0             0.0            0.0  \n",
       "\n",
       "[12 rows x 37 columns]"
      ]
     },
     "execution_count": 277,
     "metadata": {},
     "output_type": "execute_result"
    }
   ],
   "source": [
    "X_test_combo"
   ]
  },
  {
   "cell_type": "code",
   "execution_count": 278,
   "metadata": {},
   "outputs": [
    {
     "data": {
      "text/plain": [
       "Index(['year', 'duration', 'rating_count', 'log_year', 'log_rating_count',\n",
       "       'cinematographer_Bernard Knowles',\n",
       "       'cinematographer_Claude L. McDonnell',\n",
       "       'cinematographer_Gaetano di Ventimiglia',\n",
       "       'cinematographer_George Barnes', 'cinematographer_Glen MacWilliams',\n",
       "       'cinematographer_Harry Stradling Sr.', 'cinematographer_Jack E. Cox',\n",
       "       'cinematographer_John F. Warren', 'cinematographer_John L. Russell',\n",
       "       'cinematographer_Joseph A. Valentine', 'cinematographer_OTHER',\n",
       "       'cinematographer_Robert Burks', 'documentary', 'tv_series',\n",
       "       'Leo G. Carroll', 'John Longden', 'Edmund Gwenn', 'Gordon Harker',\n",
       "       'James Stewart', 'Hannah Jones', 'Donald Calthrop', 'Cary Grant',\n",
       "       'Edward Chapman', 'Basil Radford', 'George Curzon', 'Leslie Banks',\n",
       "       'Grace Kelly', 'Ian Hunter', 'Patricia Hitchcock', 'Isabel Jeans',\n",
       "       'Ingrid Bergman', 'Percy Marmont'],\n",
       "      dtype='object')"
      ]
     },
     "execution_count": 278,
     "metadata": {},
     "output_type": "execute_result"
    }
   ],
   "source": [
    "selected_columns = X_train_val_combo.columns\n",
    "X_train_val_combo.columns"
   ]
  },
  {
   "cell_type": "raw",
   "metadata": {},
   "source": [
    "poly = PolynomialFeatures(degree=2)\n",
    "X_train_val_combo_poly = poly.fit_transform(X_train_val_combo)\n",
    "X_test_combo_poly = poly.transform(X_test_combo)"
   ]
  },
  {
   "cell_type": "markdown",
   "metadata": {},
   "source": [
    "### Train vs. val split"
   ]
  },
  {
   "cell_type": "code",
   "execution_count": 279,
   "metadata": {},
   "outputs": [],
   "source": [
    "X_train, X_val, y_train, y_val = train_test_split(X_train_val_combo, y_train_val, test_size=.25, random_state=43)"
   ]
  },
  {
   "cell_type": "markdown",
   "metadata": {},
   "source": [
    "### Manually tune regularization with both Lasso and Ridge"
   ]
  },
  {
   "cell_type": "code",
   "execution_count": 280,
   "metadata": {},
   "outputs": [],
   "source": [
    "#Mean Absolute Error (MAE)\n",
    "def mae(y_true, y_pred):\n",
    "    return np.mean(np.abs(y_pred - y_true)) \n",
    "\n",
    "#mae(y_test, test_set_pred)"
   ]
  },
  {
   "cell_type": "raw",
   "metadata": {},
   "source": [
    "alphalist = 10**(np.linspace(-2,2,200))"
   ]
  },
  {
   "cell_type": "raw",
   "metadata": {},
   "source": [
    "err_vec_val = np.zeros(len(alphalist))\n",
    "err_vec_train = np.zeros(len(alphalist))\n",
    "\n",
    "for i,curr_alpha in enumerate(alphalist):\n",
    "\n",
    "    # note the use of a new sklearn utility: Pipeline to pack\n",
    "    #multiple modeling steps into one fitting process \n",
    "    steps = [('standardize', StandardScaler()),\n",
    "\n",
    "              ('lasso', Lasso(alpha = curr_alpha))]\n",
    "\n",
    "\n",
    "    pipe = Pipeline(steps)\n",
    "    pipe.fit(X_train.loc[:,selected_columns].values, y_train)\n",
    "    \n",
    "    val_set_pred = pipe.predict(X_val.loc[:,selected_columns].values)\n",
    "    err_vec_val[i] = mae(y_val, val_set_pred)"
   ]
  },
  {
   "cell_type": "raw",
   "metadata": {},
   "source": [
    "#plot the curve of validation error as alpha changes\n",
    "\n",
    "plt.plot(np.log10(alphalist), err_vec_val)"
   ]
  },
  {
   "cell_type": "raw",
   "metadata": {},
   "source": [
    "## This is the minimum error achieved on the validation set \n",
    "## across the different alpha values we tried\n",
    "\n",
    "lasso_min_error = np.min(err_vec_val)\n",
    "lasso_min_error"
   ]
  },
  {
   "cell_type": "raw",
   "metadata": {},
   "source": [
    "## This is the value of alpha that gave us the lowest error\n",
    "lasso_optimal_alpha = alphalist[np.argmin(err_vec_val)]\n",
    "lasso_optimal_alpha "
   ]
  },
  {
   "cell_type": "raw",
   "metadata": {},
   "source": [
    "X_test_combo.isnull().values.any()"
   ]
  },
  {
   "cell_type": "raw",
   "metadata": {},
   "source": [
    "pipe.score(X_test_combo, y_test)"
   ]
  },
  {
   "cell_type": "markdown",
   "metadata": {},
   "source": [
    "### Lasso CV"
   ]
  },
  {
   "cell_type": "code",
   "execution_count": null,
   "metadata": {},
   "outputs": [],
   "source": []
  },
  {
   "cell_type": "code",
   "execution_count": 281,
   "metadata": {},
   "outputs": [
    {
     "data": {
      "text/plain": [
       "StandardScaler()"
      ]
     },
     "execution_count": 281,
     "metadata": {},
     "output_type": "execute_result"
    }
   ],
   "source": [
    "## Scale the data as before\n",
    "std = StandardScaler()\n",
    "std.fit(X_train_val_combo.values)"
   ]
  },
  {
   "cell_type": "code",
   "execution_count": 308,
   "metadata": {},
   "outputs": [],
   "source": [
    "## Scale the Predictors on both the train and test set\n",
    "X_tr = std.transform(X_train_val_combo.values)\n",
    "X_te = std.transform(X_test_combo.values)"
   ]
  },
  {
   "cell_type": "code",
   "execution_count": 309,
   "metadata": {},
   "outputs": [
    {
     "data": {
      "text/plain": [
       "LassoCV(alphas=array([1.00000000e-02, 1.04737090e-02, 1.09698580e-02, 1.14895100e-02,\n",
       "       1.20337784e-02, 1.26038293e-02, 1.32008840e-02, 1.38262217e-02,\n",
       "       1.44811823e-02, 1.51671689e-02, 1.58856513e-02, 1.66381689e-02,\n",
       "       1.74263339e-02, 1.82518349e-02, 1.91164408e-02, 2.00220037e-02,\n",
       "       2.09704640e-02, 2.19638537e-02, 2.30043012e-02, 2.40940356e-02,\n",
       "       2.52353917e-02, 2.64308149e-0...\n",
       "       3.44896226e+01, 3.61234270e+01, 3.78346262e+01, 3.96268864e+01,\n",
       "       4.15040476e+01, 4.34701316e+01, 4.55293507e+01, 4.76861170e+01,\n",
       "       4.99450512e+01, 5.23109931e+01, 5.47890118e+01, 5.73844165e+01,\n",
       "       6.01027678e+01, 6.29498899e+01, 6.59318827e+01, 6.90551352e+01,\n",
       "       7.23263390e+01, 7.57525026e+01, 7.93409667e+01, 8.30994195e+01,\n",
       "       8.70359136e+01, 9.11588830e+01, 9.54771611e+01, 1.00000000e+02]),\n",
       "        cv=5)"
      ]
     },
     "execution_count": 309,
     "metadata": {},
     "output_type": "execute_result"
    }
   ],
   "source": [
    "# Run the cross validation, find the best alpha, refit the model on all the data with that alpha\n",
    "\n",
    "alphavec = 10**np.linspace(-2,2,200)\n",
    "\n",
    "lasso_model = LassoCV(alphas = alphavec, cv=5)\n",
    "lasso_model.fit(X_tr, y_train_val)"
   ]
  },
  {
   "cell_type": "code",
   "execution_count": 310,
   "metadata": {},
   "outputs": [
    {
     "data": {
      "text/plain": [
       "0.10595601792776159"
      ]
     },
     "execution_count": 310,
     "metadata": {},
     "output_type": "execute_result"
    }
   ],
   "source": [
    "# This is the best alpha value it found \n",
    "lasso_model.alpha_"
   ]
  },
  {
   "cell_type": "code",
   "execution_count": 311,
   "metadata": {},
   "outputs": [
    {
     "data": {
      "text/plain": [
       "[('year', 0.0),\n",
       " ('duration', 0.0),\n",
       " ('rating_count', 0.0),\n",
       " ('log_year', 0.0),\n",
       " ('log_rating_count', 0.7200357963676149),\n",
       " ('cinematographer_Bernard Knowles', 0.0),\n",
       " ('cinematographer_Claude L. McDonnell', -0.0),\n",
       " ('cinematographer_Gaetano di Ventimiglia', 0.0),\n",
       " ('cinematographer_George Barnes', 0.0),\n",
       " ('cinematographer_Glen MacWilliams', 0.0),\n",
       " ('cinematographer_Harry Stradling Sr.', -0.0),\n",
       " ('cinematographer_Jack E. Cox', -0.007258314596966688),\n",
       " ('cinematographer_John F. Warren', 0.0),\n",
       " ('cinematographer_John L. Russell', -0.0),\n",
       " ('cinematographer_Joseph A. Valentine', 0.0),\n",
       " ('cinematographer_OTHER', 0.0),\n",
       " ('cinematographer_Robert Burks', 0.0),\n",
       " ('documentary', 0.0),\n",
       " ('tv_series', 0.3295050316080774),\n",
       " ('Leo G. Carroll', 0.0),\n",
       " ('John Longden', -0.0),\n",
       " ('Edmund Gwenn', -0.0),\n",
       " ('Gordon Harker', -0.0),\n",
       " ('James Stewart', 0.0),\n",
       " ('Hannah Jones', 0.0),\n",
       " ('Donald Calthrop', -0.0),\n",
       " ('Cary Grant', 0.0),\n",
       " ('Edward Chapman', -0.09157502808361034),\n",
       " ('Basil Radford', 0.0),\n",
       " ('George Curzon', -0.0),\n",
       " ('Leslie Banks', -0.0),\n",
       " ('Grace Kelly', 0.0),\n",
       " ('Ian Hunter', -0.0),\n",
       " ('Patricia Hitchcock', 0.0),\n",
       " ('Isabel Jeans', -0.0),\n",
       " ('Ingrid Bergman', 0.0),\n",
       " ('Percy Marmont', -0.0)]"
      ]
     },
     "execution_count": 311,
     "metadata": {},
     "output_type": "execute_result"
    }
   ],
   "source": [
    "# These are the (standardized) coefficients found\n",
    "# when it refit using that best alpha\n",
    "coefficients = list(zip(X_train.columns, lasso_model.coef_))\n",
    "coefficients"
   ]
  },
  {
   "cell_type": "code",
   "execution_count": 312,
   "metadata": {},
   "outputs": [],
   "source": [
    "# Make predictions on the test set using the new model\n",
    "test_set_pred = lasso_model.predict(X_te)"
   ]
  },
  {
   "cell_type": "code",
   "execution_count": 313,
   "metadata": {},
   "outputs": [
    {
     "data": {
      "text/plain": [
       "0.30696187527917146"
      ]
     },
     "execution_count": 313,
     "metadata": {},
     "output_type": "execute_result"
    }
   ],
   "source": [
    "# Find the MAE and R^2 on the test set using this model\n",
    "mean_absolute_error = mae(y_test, test_set_pred)\n",
    "mean_absolute_error"
   ]
  },
  {
   "cell_type": "code",
   "execution_count": 314,
   "metadata": {},
   "outputs": [
    {
     "data": {
      "text/plain": [
       "0.7979136619102305"
      ]
     },
     "execution_count": 314,
     "metadata": {},
     "output_type": "execute_result"
    }
   ],
   "source": [
    "r2_score_ = r2_score(y_test, test_set_pred)\n",
    "r2_score_ "
   ]
  },
  {
   "cell_type": "code",
   "execution_count": 315,
   "metadata": {},
   "outputs": [
    {
     "data": {
      "text/plain": [
       "[<matplotlib.lines.Line2D at 0x7fba70bac880>]"
      ]
     },
     "execution_count": 315,
     "metadata": {},
     "output_type": "execute_result"
    },
    {
     "data": {
      "image/png": "[encoded data removed]",
      "text/plain": [
       "<Figure size 432x288 with 1 Axes>"
      ]
     },
     "metadata": {
      "needs_background": "light"
     },
     "output_type": "display_data"
    }
   ],
   "source": [
    "plt.scatter( test_set_pred, y_test)\n",
    "plt.plot( y_test, y_test, c='k')"
   ]
  },
  {
   "cell_type": "code",
   "execution_count": 316,
   "metadata": {},
   "outputs": [
    {
     "data": {
      "text/plain": [
       "<matplotlib.collections.PathCollection at 0x7fba316e8190>"
      ]
     },
     "execution_count": 316,
     "metadata": {},
     "output_type": "execute_result"
    },
    {
     "data": {
      "image/png": "[encoded data removed]",
      "text/plain": [
       "<Figure size 432x288 with 1 Axes>"
      ]
     },
     "metadata": {
      "needs_background": "light"
     },
     "output_type": "display_data"
    }
   ],
   "source": [
    "plt.scatter( y_test, y_test-test_set_pred)"
   ]
  },
  {
   "cell_type": "code",
   "execution_count": null,
   "metadata": {},
   "outputs": [],
   "source": [
    "coefficients_df  = pd.DataFrame(coefficients, columns=['Feature', 'Coefficient']).sort_values(by='Coefficient', ascending=False)\n",
    "coefficients_df.head()"
   ]
  },
  {
   "cell_type": "code",
   "execution_count": 317,
   "metadata": {},
   "outputs": [
    {
     "data": {
      "text/plain": [
       "{'r2_score': <function sklearn.metrics._regression.r2_score(y_true, y_pred, *, sample_weight=None, multioutput='uniform_average')>,\n",
       " 'mean absolute error': 0.30696187527917146,\n",
       " 'coefficients': [('year', 0.0),\n",
       "  ('duration', 0.0),\n",
       "  ('rating_count', 0.0),\n",
       "  ('log_year', 0.0),\n",
       "  ('log_rating_count', 0.7200357963676149),\n",
       "  ('cinematographer_Bernard Knowles', 0.0),\n",
       "  ('cinematographer_Claude L. McDonnell', -0.0),\n",
       "  ('cinematographer_Gaetano di Ventimiglia', 0.0),\n",
       "  ('cinematographer_George Barnes', 0.0),\n",
       "  ('cinematographer_Glen MacWilliams', 0.0),\n",
       "  ('cinematographer_Harry Stradling Sr.', -0.0),\n",
       "  ('cinematographer_Jack E. Cox', -0.007258314596966688),\n",
       "  ('cinematographer_John F. Warren', 0.0),\n",
       "  ('cinematographer_John L. Russell', -0.0),\n",
       "  ('cinematographer_Joseph A. Valentine', 0.0),\n",
       "  ('cinematographer_OTHER', 0.0),\n",
       "  ('cinematographer_Robert Burks', 0.0),\n",
       "  ('documentary', 0.0),\n",
       "  ('tv_series', 0.3295050316080774),\n",
       "  ('Leo G. Carroll', 0.0),\n",
       "  ('John Longden', -0.0),\n",
       "  ('Edmund Gwenn', -0.0),\n",
       "  ('Gordon Harker', -0.0),\n",
       "  ('James Stewart', 0.0),\n",
       "  ('Hannah Jones', 0.0),\n",
       "  ('Donald Calthrop', -0.0),\n",
       "  ('Cary Grant', 0.0),\n",
       "  ('Edward Chapman', -0.09157502808361034),\n",
       "  ('Basil Radford', 0.0),\n",
       "  ('George Curzon', -0.0),\n",
       "  ('Leslie Banks', -0.0),\n",
       "  ('Grace Kelly', 0.0),\n",
       "  ('Ian Hunter', -0.0),\n",
       "  ('Patricia Hitchcock', 0.0),\n",
       "  ('Isabel Jeans', -0.0),\n",
       "  ('Ingrid Bergman', 0.0),\n",
       "  ('Percy Marmont', -0.0)]}"
      ]
     },
     "execution_count": 317,
     "metadata": {},
     "output_type": "execute_result"
    }
   ],
   "source": [
    "Lasso_CV_model_w_rc = {\"r2_score\": r2_score, 'mean absolute error': mean_absolute_error, 'coefficients': coefficients_df}\n",
    "Lasso_CV_model_w_rc "
   ]
  },
  {
   "cell_type": "code",
   "execution_count": 318,
   "metadata": {},
   "outputs": [],
   "source": [
    "LCVM_w_rc_filename = 'Lasso_CV_model_w_rc' + director\n",
    "with open(dir_str + LCVM_w_rc_filename, 'wb') as to_write:\n",
    "    pickle.dump(Lasso_CV_model_w_rc, to_write)"
   ]
  },
  {
   "cell_type": "code",
   "execution_count": null,
   "metadata": {},
   "outputs": [],
   "source": []
  },
  {
   "cell_type": "markdown",
   "metadata": {},
   "source": [
    "### Rerun the model without using rating count"
   ]
  },
  {
   "cell_type": "code",
   "execution_count": 368,
   "metadata": {},
   "outputs": [
    {
     "data": {
      "text/html": [
       "<div>\n",
       "<style scoped>\n",
       "    .dataframe tbody tr th:only-of-type {\n",
       "        vertical-align: middle;\n",
       "    }\n",
       "\n",
       "    .dataframe tbody tr th {\n",
       "        vertical-align: top;\n",
       "    }\n",
       "\n",
       "    .dataframe thead th {\n",
       "        text-align: right;\n",
       "    }\n",
       "</style>\n",
       "<table border=\"1\" class=\"dataframe\">\n",
       "  <thead>\n",
       "    <tr style=\"text-align: right;\">\n",
       "      <th></th>\n",
       "      <th>year</th>\n",
       "      <th>duration</th>\n",
       "      <th>rating_count</th>\n",
       "      <th>log_year</th>\n",
       "      <th>log_rating_count</th>\n",
       "      <th>cinematographer_Bernard Knowles</th>\n",
       "      <th>cinematographer_Claude L. McDonnell</th>\n",
       "      <th>cinematographer_Gaetano di Ventimiglia</th>\n",
       "      <th>cinematographer_George Barnes</th>\n",
       "      <th>cinematographer_Glen MacWilliams</th>\n",
       "      <th>...</th>\n",
       "      <th>Edward Chapman</th>\n",
       "      <th>Basil Radford</th>\n",
       "      <th>George Curzon</th>\n",
       "      <th>Leslie Banks</th>\n",
       "      <th>Grace Kelly</th>\n",
       "      <th>Ian Hunter</th>\n",
       "      <th>Patricia Hitchcock</th>\n",
       "      <th>Isabel Jeans</th>\n",
       "      <th>Ingrid Bergman</th>\n",
       "      <th>Percy Marmont</th>\n",
       "    </tr>\n",
       "  </thead>\n",
       "  <tbody>\n",
       "    <tr>\n",
       "      <th>0</th>\n",
       "      <td>-0.227969</td>\n",
       "      <td>0.558328</td>\n",
       "      <td>-0.329114</td>\n",
       "      <td>-0.225084</td>\n",
       "      <td>0.261703</td>\n",
       "      <td>-0.301511</td>\n",
       "      <td>-0.145865</td>\n",
       "      <td>-0.208514</td>\n",
       "      <td>-0.208514</td>\n",
       "      <td>-0.208514</td>\n",
       "      <td>...</td>\n",
       "      <td>-0.208514</td>\n",
       "      <td>-0.208514</td>\n",
       "      <td>-0.208514</td>\n",
       "      <td>-0.208514</td>\n",
       "      <td>-0.258199</td>\n",
       "      <td>-0.208514</td>\n",
       "      <td>-0.258199</td>\n",
       "      <td>-0.145865</td>\n",
       "      <td>-0.258199</td>\n",
       "      <td>-0.208514</td>\n",
       "    </tr>\n",
       "    <tr>\n",
       "      <th>1</th>\n",
       "      <td>1.688969</td>\n",
       "      <td>1.393074</td>\n",
       "      <td>-0.318162</td>\n",
       "      <td>1.684286</td>\n",
       "      <td>0.289938</td>\n",
       "      <td>-0.301511</td>\n",
       "      <td>-0.145865</td>\n",
       "      <td>-0.208514</td>\n",
       "      <td>-0.208514</td>\n",
       "      <td>-0.208514</td>\n",
       "      <td>...</td>\n",
       "      <td>-0.208514</td>\n",
       "      <td>-0.208514</td>\n",
       "      <td>-0.208514</td>\n",
       "      <td>-0.208514</td>\n",
       "      <td>-0.258199</td>\n",
       "      <td>-0.208514</td>\n",
       "      <td>-0.258199</td>\n",
       "      <td>-0.145865</td>\n",
       "      <td>-0.258199</td>\n",
       "      <td>-0.208514</td>\n",
       "    </tr>\n",
       "    <tr>\n",
       "      <th>2</th>\n",
       "      <td>-1.266311</td>\n",
       "      <td>0.602262</td>\n",
       "      <td>-0.501584</td>\n",
       "      <td>-1.269202</td>\n",
       "      <td>-0.867793</td>\n",
       "      <td>-0.301511</td>\n",
       "      <td>-0.145865</td>\n",
       "      <td>-0.208514</td>\n",
       "      <td>-0.208514</td>\n",
       "      <td>-0.208514</td>\n",
       "      <td>...</td>\n",
       "      <td>-0.208514</td>\n",
       "      <td>-0.208514</td>\n",
       "      <td>-0.208514</td>\n",
       "      <td>-0.208514</td>\n",
       "      <td>-0.258199</td>\n",
       "      <td>-0.208514</td>\n",
       "      <td>-0.258199</td>\n",
       "      <td>-0.145865</td>\n",
       "      <td>-0.258199</td>\n",
       "      <td>-0.208514</td>\n",
       "    </tr>\n",
       "    <tr>\n",
       "      <th>3</th>\n",
       "      <td>0.810372</td>\n",
       "      <td>0.426526</td>\n",
       "      <td>0.016730</td>\n",
       "      <td>0.812068</td>\n",
       "      <td>0.787928</td>\n",
       "      <td>-0.301511</td>\n",
       "      <td>-0.145865</td>\n",
       "      <td>-0.208514</td>\n",
       "      <td>-0.208514</td>\n",
       "      <td>-0.208514</td>\n",
       "      <td>...</td>\n",
       "      <td>-0.208514</td>\n",
       "      <td>-0.208514</td>\n",
       "      <td>-0.208514</td>\n",
       "      <td>-0.208514</td>\n",
       "      <td>3.872983</td>\n",
       "      <td>-0.208514</td>\n",
       "      <td>-0.258199</td>\n",
       "      <td>-0.145865</td>\n",
       "      <td>-0.258199</td>\n",
       "      <td>-0.208514</td>\n",
       "    </tr>\n",
       "    <tr>\n",
       "      <th>4</th>\n",
       "      <td>1.129862</td>\n",
       "      <td>-1.594439</td>\n",
       "      <td>-0.522111</td>\n",
       "      <td>1.129805</td>\n",
       "      <td>-2.420996</td>\n",
       "      <td>-0.301511</td>\n",
       "      <td>-0.145865</td>\n",
       "      <td>-0.208514</td>\n",
       "      <td>-0.208514</td>\n",
       "      <td>-0.208514</td>\n",
       "      <td>...</td>\n",
       "      <td>-0.208514</td>\n",
       "      <td>-0.208514</td>\n",
       "      <td>-0.208514</td>\n",
       "      <td>-0.208514</td>\n",
       "      <td>-0.258199</td>\n",
       "      <td>-0.208514</td>\n",
       "      <td>-0.258199</td>\n",
       "      <td>-0.145865</td>\n",
       "      <td>-0.258199</td>\n",
       "      <td>-0.208514</td>\n",
       "    </tr>\n",
       "  </tbody>\n",
       "</table>\n",
       "<p>5 rows × 37 columns</p>\n",
       "</div>"
      ],
      "text/plain": [
       "       year  duration  rating_count  log_year  log_rating_count  \\\n",
       "0 -0.227969  0.558328     -0.329114 -0.225084          0.261703   \n",
       "1  1.688969  1.393074     -0.318162  1.684286          0.289938   \n",
       "2 -1.266311  0.602262     -0.501584 -1.269202         -0.867793   \n",
       "3  0.810372  0.426526      0.016730  0.812068          0.787928   \n",
       "4  1.129862 -1.594439     -0.522111  1.129805         -2.420996   \n",
       "\n",
       "   cinematographer_Bernard Knowles  cinematographer_Claude L. McDonnell  \\\n",
       "0                        -0.301511                            -0.145865   \n",
       "1                        -0.301511                            -0.145865   \n",
       "2                        -0.301511                            -0.145865   \n",
       "3                        -0.301511                            -0.145865   \n",
       "4                        -0.301511                            -0.145865   \n",
       "\n",
       "   cinematographer_Gaetano di Ventimiglia  cinematographer_George Barnes  \\\n",
       "0                               -0.208514                      -0.208514   \n",
       "1                               -0.208514                      -0.208514   \n",
       "2                               -0.208514                      -0.208514   \n",
       "3                               -0.208514                      -0.208514   \n",
       "4                               -0.208514                      -0.208514   \n",
       "\n",
       "   cinematographer_Glen MacWilliams  ...  Edward Chapman  Basil Radford  \\\n",
       "0                         -0.208514  ...       -0.208514      -0.208514   \n",
       "1                         -0.208514  ...       -0.208514      -0.208514   \n",
       "2                         -0.208514  ...       -0.208514      -0.208514   \n",
       "3                         -0.208514  ...       -0.208514      -0.208514   \n",
       "4                         -0.208514  ...       -0.208514      -0.208514   \n",
       "\n",
       "   George Curzon  Leslie Banks  Grace Kelly  Ian Hunter  Patricia Hitchcock  \\\n",
       "0      -0.208514     -0.208514    -0.258199   -0.208514           -0.258199   \n",
       "1      -0.208514     -0.208514    -0.258199   -0.208514           -0.258199   \n",
       "2      -0.208514     -0.208514    -0.258199   -0.208514           -0.258199   \n",
       "3      -0.208514     -0.208514     3.872983   -0.208514           -0.258199   \n",
       "4      -0.208514     -0.208514    -0.258199   -0.208514           -0.258199   \n",
       "\n",
       "   Isabel Jeans  Ingrid Bergman  Percy Marmont  \n",
       "0     -0.145865       -0.258199      -0.208514  \n",
       "1     -0.145865       -0.258199      -0.208514  \n",
       "2     -0.145865       -0.258199      -0.208514  \n",
       "3     -0.145865       -0.258199      -0.208514  \n",
       "4     -0.145865       -0.258199      -0.208514  \n",
       "\n",
       "[5 rows x 37 columns]"
      ]
     },
     "execution_count": 368,
     "metadata": {},
     "output_type": "execute_result"
    }
   ],
   "source": [
    "X_tr = pd.DataFrame(X_tr, columns=X_train.columns )\n",
    "X_tr.head()"
   ]
  },
  {
   "cell_type": "code",
   "execution_count": 369,
   "metadata": {},
   "outputs": [],
   "source": [
    "X_te = pd.DataFrame(X_te, columns=X_train.columns )"
   ]
  },
  {
   "cell_type": "code",
   "execution_count": 370,
   "metadata": {},
   "outputs": [],
   "source": [
    "X_tr_no_rc  = X_tr.drop(columns = ['rating_count', 'log_rating_count'])"
   ]
  },
  {
   "cell_type": "code",
   "execution_count": 371,
   "metadata": {},
   "outputs": [],
   "source": [
    "X_te_no_rc = X_te.drop(columns = ['rating_count', 'log_rating_count'])"
   ]
  },
  {
   "cell_type": "code",
   "execution_count": 372,
   "metadata": {},
   "outputs": [
    {
     "data": {
      "text/plain": [
       "100.0"
      ]
     },
     "execution_count": 372,
     "metadata": {},
     "output_type": "execute_result"
    }
   ],
   "source": [
    "# Run the cross validation, find the best alpha, refit the model on all the data with that alpha\n",
    "\n",
    "alphavec = 10**np.linspace(-2,2,200)\n",
    "\n",
    "lasso_model = LassoCV(alphas = alphavec, cv=5)\n",
    "lasso_model.fit(X_tr_no_rc, y_train_val)\n",
    "\n",
    "# This is the best alpha value it found \n",
    "lasso_model.alpha_"
   ]
  },
  {
   "cell_type": "code",
   "execution_count": 373,
   "metadata": {},
   "outputs": [],
   "source": [
    "# These are the (standardized) coefficients found\n",
    "# when it refit using that best alpha\n",
    "coefficients = list(zip(X_tr_no_rc.columns, lasso_model.coef_))\n",
    "coefficients_df = pd.DataFrame(coefficients, columns=['Feature', 'Coefficient']).sort_values(by='Coefficient', ascending=False).head(10)"
   ]
  },
  {
   "cell_type": "code",
   "execution_count": 374,
   "metadata": {},
   "outputs": [],
   "source": [
    "# Make predictions on the test set using the new model\n",
    "test_set_pred = lasso_model.predict(X_te_no_rc)"
   ]
  },
  {
   "cell_type": "code",
   "execution_count": 375,
   "metadata": {},
   "outputs": [
    {
     "data": {
      "text/plain": [
       "0.5096797312361602"
      ]
     },
     "execution_count": 375,
     "metadata": {},
     "output_type": "execute_result"
    }
   ],
   "source": [
    "# Find the MAE and R^2 on the test set using this model\n",
    "mean_absolute_error = mae(y_test, test_set_pred)\n",
    "mean_absolute_error"
   ]
  },
  {
   "cell_type": "code",
   "execution_count": 376,
   "metadata": {},
   "outputs": [
    {
     "data": {
      "text/plain": [
       "0.3805667633301373"
      ]
     },
     "execution_count": 376,
     "metadata": {},
     "output_type": "execute_result"
    }
   ],
   "source": [
    "r2_score_ = r2_score(y_test, test_set_pred)\n",
    "r2_score_ \n"
   ]
  },
  {
   "cell_type": "code",
   "execution_count": 355,
   "metadata": {},
   "outputs": [
    {
     "data": {
      "text/plain": [
       "[<matplotlib.lines.Line2D at 0x7fba621d0be0>]"
      ]
     },
     "execution_count": 355,
     "metadata": {},
     "output_type": "execute_result"
    },
    {
     "data": {
      "image/png": "[encoded data removed]",
      "text/plain": [
       "<Figure size 432x288 with 1 Axes>"
      ]
     },
     "metadata": {
      "needs_background": "light"
     },
     "output_type": "display_data"
    }
   ],
   "source": [
    "plt.scatter( test_set_pred, y_test)\n",
    "plt.plot( y_test, y_test, c='k')"
   ]
  },
  {
   "cell_type": "code",
   "execution_count": 356,
   "metadata": {},
   "outputs": [
    {
     "data": {
      "text/plain": [
       "<matplotlib.collections.PathCollection at 0x7fba70b56370>"
      ]
     },
     "execution_count": 356,
     "metadata": {},
     "output_type": "execute_result"
    },
    {
     "data": {
      "image/png": "[encoded data removed]",
      "text/plain": [
       "<Figure size 432x288 with 1 Axes>"
      ]
     },
     "metadata": {
      "needs_background": "light"
     },
     "output_type": "display_data"
    }
   ],
   "source": [
    "plt.scatter( y_test, y_test-test_set_pred)\n",
    "\n"
   ]
  },
  {
   "cell_type": "code",
   "execution_count": null,
   "metadata": {},
   "outputs": [],
   "source": [
    "coefficients_df.head()"
   ]
  },
  {
   "cell_type": "code",
   "execution_count": 357,
   "metadata": {},
   "outputs": [
    {
     "data": {
      "text/plain": [
       "{'r2_score': <function sklearn.metrics._regression.r2_score(y_true, y_pred, *, sample_weight=None, multioutput='uniform_average')>,\n",
       " 'mean absolute error': 0.5908899832138655,\n",
       " 'coefficients':                          Feature  Coefficient\n",
       " 2                       log_year     0.210968\n",
       " 14  cinematographer_Robert Burks     0.054240\n",
       " 21                 James Stewart     0.014401\n",
       " 0                           year     0.000000\n",
       " 26                 Basil Radford     0.000000\n",
       " 20                 Gordon Harker    -0.000000\n",
       " 22                  Hannah Jones     0.000000\n",
       " 23               Donald Calthrop    -0.000000\n",
       " 24                    Cary Grant     0.000000\n",
       " 27                 George Curzon     0.000000}"
      ]
     },
     "execution_count": 357,
     "metadata": {},
     "output_type": "execute_result"
    }
   ],
   "source": [
    "Lasso_CV_model_no_rc = {\"r2_score\": r2_score, 'mean absolute error': mean_absolute_error, 'coefficients': coefficients_df}\n",
    "Lasso_CV_model_no_rc \n"
   ]
  },
  {
   "cell_type": "code",
   "execution_count": 358,
   "metadata": {},
   "outputs": [
    {
     "data": {
      "text/html": [
       "<div>\n",
       "<style scoped>\n",
       "    .dataframe tbody tr th:only-of-type {\n",
       "        vertical-align: middle;\n",
       "    }\n",
       "\n",
       "    .dataframe tbody tr th {\n",
       "        vertical-align: top;\n",
       "    }\n",
       "\n",
       "    .dataframe thead th {\n",
       "        text-align: right;\n",
       "    }\n",
       "</style>\n",
       "<table border=\"1\" class=\"dataframe\">\n",
       "  <thead>\n",
       "    <tr style=\"text-align: right;\">\n",
       "      <th></th>\n",
       "      <th>Feature</th>\n",
       "      <th>Coefficient</th>\n",
       "    </tr>\n",
       "  </thead>\n",
       "  <tbody>\n",
       "    <tr>\n",
       "      <th>2</th>\n",
       "      <td>log_year</td>\n",
       "      <td>0.210968</td>\n",
       "    </tr>\n",
       "    <tr>\n",
       "      <th>14</th>\n",
       "      <td>cinematographer_Robert Burks</td>\n",
       "      <td>0.054240</td>\n",
       "    </tr>\n",
       "    <tr>\n",
       "      <th>21</th>\n",
       "      <td>James Stewart</td>\n",
       "      <td>0.014401</td>\n",
       "    </tr>\n",
       "    <tr>\n",
       "      <th>0</th>\n",
       "      <td>year</td>\n",
       "      <td>0.000000</td>\n",
       "    </tr>\n",
       "    <tr>\n",
       "      <th>26</th>\n",
       "      <td>Basil Radford</td>\n",
       "      <td>0.000000</td>\n",
       "    </tr>\n",
       "    <tr>\n",
       "      <th>20</th>\n",
       "      <td>Gordon Harker</td>\n",
       "      <td>-0.000000</td>\n",
       "    </tr>\n",
       "    <tr>\n",
       "      <th>22</th>\n",
       "      <td>Hannah Jones</td>\n",
       "      <td>0.000000</td>\n",
       "    </tr>\n",
       "    <tr>\n",
       "      <th>23</th>\n",
       "      <td>Donald Calthrop</td>\n",
       "      <td>-0.000000</td>\n",
       "    </tr>\n",
       "    <tr>\n",
       "      <th>24</th>\n",
       "      <td>Cary Grant</td>\n",
       "      <td>0.000000</td>\n",
       "    </tr>\n",
       "    <tr>\n",
       "      <th>27</th>\n",
       "      <td>George Curzon</td>\n",
       "      <td>0.000000</td>\n",
       "    </tr>\n",
       "  </tbody>\n",
       "</table>\n",
       "</div>"
      ],
      "text/plain": [
       "                         Feature  Coefficient\n",
       "2                       log_year     0.210968\n",
       "14  cinematographer_Robert Burks     0.054240\n",
       "21                 James Stewart     0.014401\n",
       "0                           year     0.000000\n",
       "26                 Basil Radford     0.000000\n",
       "20                 Gordon Harker    -0.000000\n",
       "22                  Hannah Jones     0.000000\n",
       "23               Donald Calthrop    -0.000000\n",
       "24                    Cary Grant     0.000000\n",
       "27                 George Curzon     0.000000"
      ]
     },
     "execution_count": 358,
     "metadata": {},
     "output_type": "execute_result"
    }
   ],
   "source": []
  },
  {
   "cell_type": "code",
   "execution_count": 359,
   "metadata": {},
   "outputs": [],
   "source": [
    "LCVM_no_rc_filename = 'Lasso_CV_model_w_rc' + director\n",
    "with open(dir_str + LCVM_no_rc_filename, 'wb') as to_write:\n",
    "    pickle.dump(Lasso_CV_model_no_rc, to_write)"
   ]
  },
  {
   "cell_type": "code",
   "execution_count": null,
   "metadata": {},
   "outputs": [],
   "source": []
  },
  {
   "cell_type": "code",
   "execution_count": 336,
   "metadata": {},
   "outputs": [
    {
     "name": "stdout",
     "output_type": "stream",
     "text": [
      "Computing regularization path using the LARS ...\n"
     ]
    }
   ],
   "source": [
    "from sklearn.linear_model import lars_path\n",
    "print(\"Computing regularization path using the LARS ...\")\n",
    "alphas, _, coefs = lars_path(np.array(X_tr_no_rc), y_train_val.values, method='lasso')"
   ]
  },
  {
   "cell_type": "code",
   "execution_count": 337,
   "metadata": {},
   "outputs": [
    {
     "data": {
      "image/png": "[encoded data removed]",
      "text/plain": [
       "<Figure size 720x720 with 1 Axes>"
      ]
     },
     "metadata": {
      "needs_background": "light"
     },
     "output_type": "display_data"
    }
   ],
   "source": [
    "xx = np.sum(np.abs(coefs.T), axis=1)\n",
    "xx /= xx[-1]\n",
    "\n",
    "plt.figure(figsize=(10,10))\n",
    "plt.plot(xx, coefs.T)\n",
    "ymin, ymax = plt.ylim()\n",
    "plt.vlines(xx, ymin, ymax, linestyle='dashed')\n",
    "plt.xlabel('|coef| / max|coef|')\n",
    "plt.ylabel('Coefficients')\n",
    "plt.title('LASSO Path')\n",
    "plt.axis('tight')\n",
    "plt.legend(X_tr_no_rc.columns)\n",
    "plt.show()"
   ]
  },
  {
   "cell_type": "markdown",
   "metadata": {},
   "source": [
    "### Ridge regression"
   ]
  },
  {
   "cell_type": "code",
   "execution_count": null,
   "metadata": {},
   "outputs": [],
   "source": []
  },
  {
   "cell_type": "code",
   "execution_count": 377,
   "metadata": {},
   "outputs": [
    {
     "data": {
      "text/plain": [
       "100.0"
      ]
     },
     "execution_count": 377,
     "metadata": {},
     "output_type": "execute_result"
    }
   ],
   "source": [
    "# Run the cross validation, find the best alpha, refit the model on all the data with that alpha\n",
    "\n",
    "alphavec = 10**np.linspace(-2,2,200)\n",
    "\n",
    "ridge_model = RidgeCV(alphas = alphavec, cv=5)\n",
    "ridge_model.fit(X_tr_no_rc, y_train_val)\n",
    "\n",
    "# This is the best alpha value it found \n",
    "ridge_model.alpha_"
   ]
  },
  {
   "cell_type": "code",
   "execution_count": 378,
   "metadata": {},
   "outputs": [],
   "source": [
    "# These are the (standardized) coefficients found\n",
    "# when it refit using that best alpha\n",
    "coefficients = list(zip(X_tr_no_rc.columns, ridge_model.coef_))\n",
    "coefficients_df = pd.DataFrame(coefficients, columns=['Feature', 'Coefficient']).sort_values(by='Coefficient', ascending=False).head(10)"
   ]
  },
  {
   "cell_type": "code",
   "execution_count": 379,
   "metadata": {},
   "outputs": [],
   "source": [
    "# Make predictions on the test set using the new model\n",
    "test_set_pred = ridge_model.predict(X_te_no_rc)"
   ]
  },
  {
   "cell_type": "code",
   "execution_count": 380,
   "metadata": {},
   "outputs": [
    {
     "data": {
      "text/plain": [
       "0.5096797312361602"
      ]
     },
     "execution_count": 380,
     "metadata": {},
     "output_type": "execute_result"
    }
   ],
   "source": [
    "# Find the MAE and R^2 on the test set using this model\n",
    "mean_absolute_error = mae(y_test, test_set_pred)\n",
    "mean_absolute_error"
   ]
  },
  {
   "cell_type": "code",
   "execution_count": 381,
   "metadata": {},
   "outputs": [
    {
     "data": {
      "text/plain": [
       "0.3805667633301373"
      ]
     },
     "execution_count": 381,
     "metadata": {},
     "output_type": "execute_result"
    }
   ],
   "source": [
    "r2_score_ = r2_score(y_test, test_set_pred)\n",
    "r2_score_ \n"
   ]
  },
  {
   "cell_type": "code",
   "execution_count": 382,
   "metadata": {},
   "outputs": [
    {
     "data": {
      "text/plain": [
       "[<matplotlib.lines.Line2D at 0x7fba31743040>]"
      ]
     },
     "execution_count": 382,
     "metadata": {},
     "output_type": "execute_result"
    },
    {
     "data": {
      "image/png": "[encoded data removed]",
      "text/plain": [
       "<Figure size 432x288 with 1 Axes>"
      ]
     },
     "metadata": {
      "needs_background": "light"
     },
     "output_type": "display_data"
    }
   ],
   "source": [
    "plt.scatter( test_set_pred, y_test)\n",
    "plt.plot( y_test, y_test, c='k')"
   ]
  },
  {
   "cell_type": "code",
   "execution_count": 383,
   "metadata": {},
   "outputs": [
    {
     "data": {
      "text/plain": [
       "<matplotlib.collections.PathCollection at 0x7fba509961c0>"
      ]
     },
     "execution_count": 383,
     "metadata": {},
     "output_type": "execute_result"
    },
    {
     "data": {
      "image/png": "[encoded data removed]",
      "text/plain": [
       "<Figure size 432x288 with 1 Axes>"
      ]
     },
     "metadata": {
      "needs_background": "light"
     },
     "output_type": "display_data"
    }
   ],
   "source": [
    "plt.scatter( y_test, y_test-test_set_pred)\n",
    "\n"
   ]
  },
  {
   "cell_type": "code",
   "execution_count": 384,
   "metadata": {},
   "outputs": [
    {
     "data": {
      "text/html": [
       "<div>\n",
       "<style scoped>\n",
       "    .dataframe tbody tr th:only-of-type {\n",
       "        vertical-align: middle;\n",
       "    }\n",
       "\n",
       "    .dataframe tbody tr th {\n",
       "        vertical-align: top;\n",
       "    }\n",
       "\n",
       "    .dataframe thead th {\n",
       "        text-align: right;\n",
       "    }\n",
       "</style>\n",
       "<table border=\"1\" class=\"dataframe\">\n",
       "  <thead>\n",
       "    <tr style=\"text-align: right;\">\n",
       "      <th></th>\n",
       "      <th>Feature</th>\n",
       "      <th>Coefficient</th>\n",
       "    </tr>\n",
       "  </thead>\n",
       "  <tbody>\n",
       "    <tr>\n",
       "      <th>21</th>\n",
       "      <td>James Stewart</td>\n",
       "      <td>0.074625</td>\n",
       "    </tr>\n",
       "    <tr>\n",
       "      <th>2</th>\n",
       "      <td>log_year</td>\n",
       "      <td>0.068110</td>\n",
       "    </tr>\n",
       "    <tr>\n",
       "      <th>0</th>\n",
       "      <td>year</td>\n",
       "      <td>0.067865</td>\n",
       "    </tr>\n",
       "    <tr>\n",
       "      <th>14</th>\n",
       "      <td>cinematographer_Robert Burks</td>\n",
       "      <td>0.062818</td>\n",
       "    </tr>\n",
       "    <tr>\n",
       "      <th>31</th>\n",
       "      <td>Patricia Hitchcock</td>\n",
       "      <td>0.057897</td>\n",
       "    </tr>\n",
       "  </tbody>\n",
       "</table>\n",
       "</div>"
      ],
      "text/plain": [
       "                         Feature  Coefficient\n",
       "21                 James Stewart     0.074625\n",
       "2                       log_year     0.068110\n",
       "0                           year     0.067865\n",
       "14  cinematographer_Robert Burks     0.062818\n",
       "31            Patricia Hitchcock     0.057897"
      ]
     },
     "execution_count": 384,
     "metadata": {},
     "output_type": "execute_result"
    }
   ],
   "source": [
    "coefficients_df.head()"
   ]
  },
  {
   "cell_type": "code",
   "execution_count": 385,
   "metadata": {},
   "outputs": [
    {
     "data": {
      "text/plain": [
       "{'r2_score': <function sklearn.metrics._regression.r2_score(y_true, y_pred, *, sample_weight=None, multioutput='uniform_average')>,\n",
       " 'mean absolute error': 0.5096797312361602,\n",
       " 'coefficients':                           Feature  Coefficient\n",
       " 21                  James Stewart     0.074625\n",
       " 2                        log_year     0.068110\n",
       " 0                            year     0.067865\n",
       " 14   cinematographer_Robert Burks     0.062818\n",
       " 31             Patricia Hitchcock     0.057897\n",
       " 29                    Grace Kelly     0.049003\n",
       " 24                     Cary Grant     0.046755\n",
       " 6   cinematographer_George Barnes     0.046696\n",
       " 1                        duration     0.046106\n",
       " 17                 Leo G. Carroll     0.044194}"
      ]
     },
     "execution_count": 385,
     "metadata": {},
     "output_type": "execute_result"
    }
   ],
   "source": [
    "Ridge_CV_model_no_rc = {\"r2_score\": r2_score, 'mean absolute error': mean_absolute_error, 'coefficients': coefficients_df}\n",
    "Ridge_CV_model_no_rc \n"
   ]
  },
  {
   "cell_type": "code",
   "execution_count": null,
   "metadata": {},
   "outputs": [],
   "source": []
  },
  {
   "cell_type": "code",
   "execution_count": 386,
   "metadata": {},
   "outputs": [],
   "source": [
    "RCVM_no_rc_filename = 'Ridge_CV_model_w_rc' + director\n",
    "with open(dir_str + RCVM_no_rc_filename, 'wb') as to_write:\n",
    "    pickle.dump(Ridge_CV_model_no_rc, to_write)"
   ]
  },
  {
   "cell_type": "code",
   "execution_count": null,
   "metadata": {},
   "outputs": [],
   "source": []
  },
  {
   "cell_type": "code",
   "execution_count": null,
   "metadata": {},
   "outputs": [],
   "source": []
  },
  {
   "cell_type": "code",
   "execution_count": null,
   "metadata": {},
   "outputs": [],
   "source": []
  },
  {
   "cell_type": "markdown",
   "metadata": {},
   "source": [
    "## Re-analyzed including `budget` as a feature \n",
    "This entails a fewer rows of data, since many of the films don't have budget info available on IMDB"
   ]
  },
  {
   "cell_type": "code",
   "execution_count": 360,
   "metadata": {},
   "outputs": [],
   "source": [
    "films_to_analyze_financial_df = films_to_analyze[(films_to_analyze['budget'] > 0) & (films_to_analyze['worldwide_gross'] > 0)]"
   ]
  },
  {
   "cell_type": "code",
   "execution_count": null,
   "metadata": {},
   "outputs": [],
   "source": []
  },
  {
   "cell_type": "code",
   "execution_count": null,
   "metadata": {},
   "outputs": [],
   "source": []
  },
  {
   "cell_type": "code",
   "execution_count": null,
   "metadata": {},
   "outputs": [],
   "source": []
  },
  {
   "cell_type": "code",
   "execution_count": null,
   "metadata": {},
   "outputs": [],
   "source": []
  },
  {
   "cell_type": "code",
   "execution_count": null,
   "metadata": {},
   "outputs": [],
   "source": []
  },
  {
   "cell_type": "code",
   "execution_count": null,
   "metadata": {},
   "outputs": [],
   "source": []
  },
  {
   "cell_type": "code",
   "execution_count": null,
   "metadata": {},
   "outputs": [],
   "source": []
  },
  {
   "cell_type": "code",
   "execution_count": null,
   "metadata": {},
   "outputs": [],
   "source": []
  },
  {
   "cell_type": "markdown",
   "metadata": {},
   "source": [
    "### Examine coefficients, residuals, pred vs. actual (and maybe QQ-plot)"
   ]
  },
  {
   "cell_type": "code",
   "execution_count": null,
   "metadata": {},
   "outputs": [],
   "source": []
  },
  {
   "cell_type": "code",
   "execution_count": null,
   "metadata": {},
   "outputs": [],
   "source": []
  },
  {
   "cell_type": "code",
   "execution_count": null,
   "metadata": {},
   "outputs": [],
   "source": []
  },
  {
   "cell_type": "code",
   "execution_count": null,
   "metadata": {},
   "outputs": [],
   "source": []
  },
  {
   "cell_type": "code",
   "execution_count": null,
   "metadata": {},
   "outputs": [],
   "source": []
  },
  {
   "cell_type": "code",
   "execution_count": null,
   "metadata": {},
   "outputs": [],
   "source": []
  },
  {
   "cell_type": "code",
   "execution_count": null,
   "metadata": {},
   "outputs": [],
   "source": []
  },
  {
   "cell_type": "code",
   "execution_count": null,
   "metadata": {},
   "outputs": [],
   "source": []
  },
  {
   "cell_type": "code",
   "execution_count": null,
   "metadata": {},
   "outputs": [],
   "source": []
  },
  {
   "cell_type": "code",
   "execution_count": 71,
   "metadata": {},
   "outputs": [],
   "source": [
    "#X_train, X_test, y_train, y_test = train_test_split(X, y)"
   ]
  },
  {
   "cell_type": "markdown",
   "metadata": {},
   "source": [
    "### Preprocessing"
   ]
  },
  {
   "cell_type": "markdown",
   "metadata": {},
   "source": [
    "#### Categorical Variable Preprocessing"
   ]
  },
  {
   "cell_type": "code",
   "execution_count": 72,
   "metadata": {},
   "outputs": [],
   "source": []
  },
  {
   "cell_type": "code",
   "execution_count": 75,
   "metadata": {},
   "outputs": [
    {
     "data": {
      "text/html": [
       "<div>\n",
       "<style scoped>\n",
       "    .dataframe tbody tr th:only-of-type {\n",
       "        vertical-align: middle;\n",
       "    }\n",
       "\n",
       "    .dataframe tbody tr th {\n",
       "        vertical-align: top;\n",
       "    }\n",
       "\n",
       "    .dataframe thead th {\n",
       "        text-align: right;\n",
       "    }\n",
       "</style>\n",
       "<table border=\"1\" class=\"dataframe\">\n",
       "  <thead>\n",
       "    <tr style=\"text-align: right;\">\n",
       "      <th></th>\n",
       "      <th>cinematographer_Bernard Knowles</th>\n",
       "      <th>cinematographer_Claude L. McDonnell</th>\n",
       "      <th>cinematographer_Gaetano di Ventimiglia</th>\n",
       "      <th>cinematographer_George Barnes</th>\n",
       "      <th>cinematographer_Glen MacWilliams</th>\n",
       "      <th>cinematographer_Harry Stradling Sr.</th>\n",
       "      <th>cinematographer_Jack E. Cox</th>\n",
       "      <th>cinematographer_John F. Warren</th>\n",
       "      <th>cinematographer_John L. Russell</th>\n",
       "      <th>cinematographer_Joseph A. Valentine</th>\n",
       "      <th>cinematographer_OTHER</th>\n",
       "      <th>cinematographer_Robert Burks</th>\n",
       "    </tr>\n",
       "  </thead>\n",
       "  <tbody>\n",
       "    <tr>\n",
       "      <th>50</th>\n",
       "      <td>0.0</td>\n",
       "      <td>0.0</td>\n",
       "      <td>0.0</td>\n",
       "      <td>0.0</td>\n",
       "      <td>0.0</td>\n",
       "      <td>0.0</td>\n",
       "      <td>1.0</td>\n",
       "      <td>0.0</td>\n",
       "      <td>0.0</td>\n",
       "      <td>0.0</td>\n",
       "      <td>0.0</td>\n",
       "      <td>0.0</td>\n",
       "    </tr>\n",
       "    <tr>\n",
       "      <th>3</th>\n",
       "      <td>0.0</td>\n",
       "      <td>0.0</td>\n",
       "      <td>0.0</td>\n",
       "      <td>0.0</td>\n",
       "      <td>0.0</td>\n",
       "      <td>0.0</td>\n",
       "      <td>0.0</td>\n",
       "      <td>0.0</td>\n",
       "      <td>0.0</td>\n",
       "      <td>0.0</td>\n",
       "      <td>1.0</td>\n",
       "      <td>0.0</td>\n",
       "    </tr>\n",
       "    <tr>\n",
       "      <th>33</th>\n",
       "      <td>0.0</td>\n",
       "      <td>0.0</td>\n",
       "      <td>0.0</td>\n",
       "      <td>0.0</td>\n",
       "      <td>0.0</td>\n",
       "      <td>0.0</td>\n",
       "      <td>0.0</td>\n",
       "      <td>0.0</td>\n",
       "      <td>0.0</td>\n",
       "      <td>0.0</td>\n",
       "      <td>1.0</td>\n",
       "      <td>0.0</td>\n",
       "    </tr>\n",
       "    <tr>\n",
       "      <th>30</th>\n",
       "      <td>0.0</td>\n",
       "      <td>0.0</td>\n",
       "      <td>0.0</td>\n",
       "      <td>1.0</td>\n",
       "      <td>0.0</td>\n",
       "      <td>0.0</td>\n",
       "      <td>0.0</td>\n",
       "      <td>0.0</td>\n",
       "      <td>0.0</td>\n",
       "      <td>0.0</td>\n",
       "      <td>0.0</td>\n",
       "      <td>0.0</td>\n",
       "    </tr>\n",
       "    <tr>\n",
       "      <th>53</th>\n",
       "      <td>0.0</td>\n",
       "      <td>0.0</td>\n",
       "      <td>0.0</td>\n",
       "      <td>0.0</td>\n",
       "      <td>0.0</td>\n",
       "      <td>0.0</td>\n",
       "      <td>1.0</td>\n",
       "      <td>0.0</td>\n",
       "      <td>0.0</td>\n",
       "      <td>0.0</td>\n",
       "      <td>0.0</td>\n",
       "      <td>0.0</td>\n",
       "    </tr>\n",
       "  </tbody>\n",
       "</table>\n",
       "</div>"
      ],
      "text/plain": [
       "    cinematographer_Bernard Knowles  cinematographer_Claude L. McDonnell  \\\n",
       "50                              0.0                                  0.0   \n",
       "3                               0.0                                  0.0   \n",
       "33                              0.0                                  0.0   \n",
       "30                              0.0                                  0.0   \n",
       "53                              0.0                                  0.0   \n",
       "\n",
       "    cinematographer_Gaetano di Ventimiglia  cinematographer_George Barnes  \\\n",
       "50                                     0.0                            0.0   \n",
       "3                                      0.0                            0.0   \n",
       "33                                     0.0                            0.0   \n",
       "30                                     0.0                            1.0   \n",
       "53                                     0.0                            0.0   \n",
       "\n",
       "    cinematographer_Glen MacWilliams  cinematographer_Harry Stradling Sr.  \\\n",
       "50                               0.0                                  0.0   \n",
       "3                                0.0                                  0.0   \n",
       "33                               0.0                                  0.0   \n",
       "30                               0.0                                  0.0   \n",
       "53                               0.0                                  0.0   \n",
       "\n",
       "    cinematographer_Jack E. Cox  cinematographer_John F. Warren  \\\n",
       "50                          1.0                             0.0   \n",
       "3                           0.0                             0.0   \n",
       "33                          0.0                             0.0   \n",
       "30                          0.0                             0.0   \n",
       "53                          1.0                             0.0   \n",
       "\n",
       "    cinematographer_John L. Russell  cinematographer_Joseph A. Valentine  \\\n",
       "50                              0.0                                  0.0   \n",
       "3                               0.0                                  0.0   \n",
       "33                              0.0                                  0.0   \n",
       "30                              0.0                                  0.0   \n",
       "53                              0.0                                  0.0   \n",
       "\n",
       "    cinematographer_OTHER  cinematographer_Robert Burks  \n",
       "50                    0.0                           0.0  \n",
       "3                     1.0                           0.0  \n",
       "33                    1.0                           0.0  \n",
       "30                    0.0                           0.0  \n",
       "53                    0.0                           0.0  "
      ]
     },
     "execution_count": 75,
     "metadata": {},
     "output_type": "execute_result"
    }
   ],
   "source": []
  },
  {
   "cell_type": "code",
   "execution_count": 76,
   "metadata": {},
   "outputs": [],
   "source": []
  },
  {
   "cell_type": "markdown",
   "metadata": {},
   "source": [
    "### Continous Variable Preprocessing"
   ]
  },
  {
   "cell_type": "markdown",
   "metadata": {},
   "source": [
    "#### Select continuous variables from training set"
   ]
  },
  {
   "cell_type": "code",
   "execution_count": 77,
   "metadata": {},
   "outputs": [
    {
     "data": {
      "text/html": [
       "<div>\n",
       "<style scoped>\n",
       "    .dataframe tbody tr th:only-of-type {\n",
       "        vertical-align: middle;\n",
       "    }\n",
       "\n",
       "    .dataframe tbody tr th {\n",
       "        vertical-align: top;\n",
       "    }\n",
       "\n",
       "    .dataframe thead th {\n",
       "        text-align: right;\n",
       "    }\n",
       "</style>\n",
       "<table border=\"1\" class=\"dataframe\">\n",
       "  <thead>\n",
       "    <tr style=\"text-align: right;\">\n",
       "      <th></th>\n",
       "      <th>year</th>\n",
       "      <th>duration</th>\n",
       "      <th>rating_count</th>\n",
       "    </tr>\n",
       "  </thead>\n",
       "  <tbody>\n",
       "    <tr>\n",
       "      <th>50</th>\n",
       "      <td>1932.0</td>\n",
       "      <td>66.0</td>\n",
       "      <td>4429.0</td>\n",
       "    </tr>\n",
       "    <tr>\n",
       "      <th>3</th>\n",
       "      <td>1972.0</td>\n",
       "      <td>116.0</td>\n",
       "      <td>41424.0</td>\n",
       "    </tr>\n",
       "    <tr>\n",
       "      <th>33</th>\n",
       "      <td>1944.0</td>\n",
       "      <td>32.0</td>\n",
       "      <td>1448.0</td>\n",
       "    </tr>\n",
       "    <tr>\n",
       "      <th>30</th>\n",
       "      <td>1945.0</td>\n",
       "      <td>111.0</td>\n",
       "      <td>43415.0</td>\n",
       "    </tr>\n",
       "    <tr>\n",
       "      <th>53</th>\n",
       "      <td>1931.0</td>\n",
       "      <td>85.0</td>\n",
       "      <td>2874.0</td>\n",
       "    </tr>\n",
       "    <tr>\n",
       "      <th>37</th>\n",
       "      <td>1942.0</td>\n",
       "      <td>109.0</td>\n",
       "      <td>23406.0</td>\n",
       "    </tr>\n",
       "    <tr>\n",
       "      <th>47</th>\n",
       "      <td>1935.0</td>\n",
       "      <td>86.0</td>\n",
       "      <td>51765.0</td>\n",
       "    </tr>\n",
       "    <tr>\n",
       "      <th>62</th>\n",
       "      <td>1928.0</td>\n",
       "      <td>129.0</td>\n",
       "      <td>2496.0</td>\n",
       "    </tr>\n",
       "    <tr>\n",
       "      <th>64</th>\n",
       "      <td>1927.0</td>\n",
       "      <td>80.0</td>\n",
       "      <td>2524.0</td>\n",
       "    </tr>\n",
       "    <tr>\n",
       "      <th>44</th>\n",
       "      <td>1937.0</td>\n",
       "      <td>83.0</td>\n",
       "      <td>8634.0</td>\n",
       "    </tr>\n",
       "    <tr>\n",
       "      <th>14</th>\n",
       "      <td>1957.0</td>\n",
       "      <td>60.0</td>\n",
       "      <td>321.0</td>\n",
       "    </tr>\n",
       "    <tr>\n",
       "      <th>29</th>\n",
       "      <td>1946.0</td>\n",
       "      <td>102.0</td>\n",
       "      <td>92192.0</td>\n",
       "    </tr>\n",
       "    <tr>\n",
       "      <th>41</th>\n",
       "      <td>1940.0</td>\n",
       "      <td>88.0</td>\n",
       "      <td>440.0</td>\n",
       "    </tr>\n",
       "    <tr>\n",
       "      <th>49</th>\n",
       "      <td>1934.0</td>\n",
       "      <td>80.0</td>\n",
       "      <td>1285.0</td>\n",
       "    </tr>\n",
       "    <tr>\n",
       "      <th>8</th>\n",
       "      <td>1962.0</td>\n",
       "      <td>50.0</td>\n",
       "      <td>3877.0</td>\n",
       "    </tr>\n",
       "    <tr>\n",
       "      <th>26</th>\n",
       "      <td>1949.0</td>\n",
       "      <td>117.0</td>\n",
       "      <td>6437.0</td>\n",
       "    </tr>\n",
       "    <tr>\n",
       "      <th>7</th>\n",
       "      <td>1963.0</td>\n",
       "      <td>119.0</td>\n",
       "      <td>171549.0</td>\n",
       "    </tr>\n",
       "    <tr>\n",
       "      <th>36</th>\n",
       "      <td>1943.0</td>\n",
       "      <td>108.0</td>\n",
       "      <td>59480.0</td>\n",
       "    </tr>\n",
       "    <tr>\n",
       "      <th>6</th>\n",
       "      <td>1964.0</td>\n",
       "      <td>130.0</td>\n",
       "      <td>45220.0</td>\n",
       "    </tr>\n",
       "    <tr>\n",
       "      <th>54</th>\n",
       "      <td>1930.0</td>\n",
       "      <td>92.0</td>\n",
       "      <td>5782.0</td>\n",
       "    </tr>\n",
       "    <tr>\n",
       "      <th>51</th>\n",
       "      <td>1931.0</td>\n",
       "      <td>83.0</td>\n",
       "      <td>3973.0</td>\n",
       "    </tr>\n",
       "    <tr>\n",
       "      <th>11</th>\n",
       "      <td>1959.0</td>\n",
       "      <td>60.0</td>\n",
       "      <td>127.0</td>\n",
       "    </tr>\n",
       "    <tr>\n",
       "      <th>5</th>\n",
       "      <td>1966.0</td>\n",
       "      <td>128.0</td>\n",
       "      <td>24727.0</td>\n",
       "    </tr>\n",
       "    <tr>\n",
       "      <th>25</th>\n",
       "      <td>1950.0</td>\n",
       "      <td>110.0</td>\n",
       "      <td>12770.0</td>\n",
       "    </tr>\n",
       "    <tr>\n",
       "      <th>40</th>\n",
       "      <td>1940.0</td>\n",
       "      <td>130.0</td>\n",
       "      <td>123730.0</td>\n",
       "    </tr>\n",
       "    <tr>\n",
       "      <th>46</th>\n",
       "      <td>1936.0</td>\n",
       "      <td>86.0</td>\n",
       "      <td>7767.0</td>\n",
       "    </tr>\n",
       "    <tr>\n",
       "      <th>52</th>\n",
       "      <td>1931.0</td>\n",
       "      <td>78.0</td>\n",
       "      <td>682.0</td>\n",
       "    </tr>\n",
       "    <tr>\n",
       "      <th>13</th>\n",
       "      <td>1958.0</td>\n",
       "      <td>128.0</td>\n",
       "      <td>363752.0</td>\n",
       "    </tr>\n",
       "    <tr>\n",
       "      <th>63</th>\n",
       "      <td>1927.0</td>\n",
       "      <td>89.0</td>\n",
       "      <td>3157.0</td>\n",
       "    </tr>\n",
       "    <tr>\n",
       "      <th>22</th>\n",
       "      <td>1954.0</td>\n",
       "      <td>105.0</td>\n",
       "      <td>158015.0</td>\n",
       "    </tr>\n",
       "    <tr>\n",
       "      <th>55</th>\n",
       "      <td>1930.0</td>\n",
       "      <td>85.0</td>\n",
       "      <td>2066.0</td>\n",
       "    </tr>\n",
       "    <tr>\n",
       "      <th>65</th>\n",
       "      <td>1927.0</td>\n",
       "      <td>74.0</td>\n",
       "      <td>2201.0</td>\n",
       "    </tr>\n",
       "    <tr>\n",
       "      <th>28</th>\n",
       "      <td>1947.0</td>\n",
       "      <td>125.0</td>\n",
       "      <td>10115.0</td>\n",
       "    </tr>\n",
       "    <tr>\n",
       "      <th>16</th>\n",
       "      <td>1956.0</td>\n",
       "      <td>105.0</td>\n",
       "      <td>25655.0</td>\n",
       "    </tr>\n",
       "    <tr>\n",
       "      <th>68</th>\n",
       "      <td>1925.0</td>\n",
       "      <td>75.0</td>\n",
       "      <td>2170.0</td>\n",
       "    </tr>\n",
       "    <tr>\n",
       "      <th>10</th>\n",
       "      <td>1960.0</td>\n",
       "      <td>109.0</td>\n",
       "      <td>603233.0</td>\n",
       "    </tr>\n",
       "    <tr>\n",
       "      <th>48</th>\n",
       "      <td>1935.0</td>\n",
       "      <td>85.0</td>\n",
       "      <td>517.0</td>\n",
       "    </tr>\n",
       "    <tr>\n",
       "      <th>4</th>\n",
       "      <td>1969.0</td>\n",
       "      <td>143.0</td>\n",
       "      <td>16714.0</td>\n",
       "    </tr>\n",
       "    <tr>\n",
       "      <th>12</th>\n",
       "      <td>1959.0</td>\n",
       "      <td>136.0</td>\n",
       "      <td>298724.0</td>\n",
       "    </tr>\n",
       "    <tr>\n",
       "      <th>21</th>\n",
       "      <td>1954.0</td>\n",
       "      <td>112.0</td>\n",
       "      <td>443357.0</td>\n",
       "    </tr>\n",
       "    <tr>\n",
       "      <th>43</th>\n",
       "      <td>1938.0</td>\n",
       "      <td>96.0</td>\n",
       "      <td>47318.0</td>\n",
       "    </tr>\n",
       "    <tr>\n",
       "      <th>38</th>\n",
       "      <td>1941.0</td>\n",
       "      <td>95.0</td>\n",
       "      <td>9331.0</td>\n",
       "    </tr>\n",
       "    <tr>\n",
       "      <th>27</th>\n",
       "      <td>1948.0</td>\n",
       "      <td>80.0</td>\n",
       "      <td>129553.0</td>\n",
       "    </tr>\n",
       "    <tr>\n",
       "      <th>20</th>\n",
       "      <td>1955.0</td>\n",
       "      <td>106.0</td>\n",
       "      <td>65121.0</td>\n",
       "    </tr>\n",
       "    <tr>\n",
       "      <th>42</th>\n",
       "      <td>1939.0</td>\n",
       "      <td>98.0</td>\n",
       "      <td>9121.0</td>\n",
       "    </tr>\n",
       "  </tbody>\n",
       "</table>\n",
       "</div>"
      ],
      "text/plain": [
       "      year  duration  rating_count\n",
       "50  1932.0      66.0        4429.0\n",
       "3   1972.0     116.0       41424.0\n",
       "33  1944.0      32.0        1448.0\n",
       "30  1945.0     111.0       43415.0\n",
       "53  1931.0      85.0        2874.0\n",
       "37  1942.0     109.0       23406.0\n",
       "47  1935.0      86.0       51765.0\n",
       "62  1928.0     129.0        2496.0\n",
       "64  1927.0      80.0        2524.0\n",
       "44  1937.0      83.0        8634.0\n",
       "14  1957.0      60.0         321.0\n",
       "29  1946.0     102.0       92192.0\n",
       "41  1940.0      88.0         440.0\n",
       "49  1934.0      80.0        1285.0\n",
       "8   1962.0      50.0        3877.0\n",
       "26  1949.0     117.0        6437.0\n",
       "7   1963.0     119.0      171549.0\n",
       "36  1943.0     108.0       59480.0\n",
       "6   1964.0     130.0       45220.0\n",
       "54  1930.0      92.0        5782.0\n",
       "51  1931.0      83.0        3973.0\n",
       "11  1959.0      60.0         127.0\n",
       "5   1966.0     128.0       24727.0\n",
       "25  1950.0     110.0       12770.0\n",
       "40  1940.0     130.0      123730.0\n",
       "46  1936.0      86.0        7767.0\n",
       "52  1931.0      78.0         682.0\n",
       "13  1958.0     128.0      363752.0\n",
       "63  1927.0      89.0        3157.0\n",
       "22  1954.0     105.0      158015.0\n",
       "55  1930.0      85.0        2066.0\n",
       "65  1927.0      74.0        2201.0\n",
       "28  1947.0     125.0       10115.0\n",
       "16  1956.0     105.0       25655.0\n",
       "68  1925.0      75.0        2170.0\n",
       "10  1960.0     109.0      603233.0\n",
       "48  1935.0      85.0         517.0\n",
       "4   1969.0     143.0       16714.0\n",
       "12  1959.0     136.0      298724.0\n",
       "21  1954.0     112.0      443357.0\n",
       "43  1938.0      96.0       47318.0\n",
       "38  1941.0      95.0        9331.0\n",
       "27  1948.0      80.0      129553.0\n",
       "20  1955.0     106.0       65121.0\n",
       "42  1939.0      98.0        9121.0"
      ]
     },
     "execution_count": 77,
     "metadata": {},
     "output_type": "execute_result"
    }
   ],
   "source": [
    "\n"
   ]
  },
  {
   "cell_type": "markdown",
   "metadata": {},
   "source": [
    "####  scale the continuous variables in the train set"
   ]
  },
  {
   "cell_type": "code",
   "execution_count": 78,
   "metadata": {},
   "outputs": [
    {
     "data": {
      "text/html": [
       "<div>\n",
       "<style scoped>\n",
       "    .dataframe tbody tr th:only-of-type {\n",
       "        vertical-align: middle;\n",
       "    }\n",
       "\n",
       "    .dataframe tbody tr th {\n",
       "        vertical-align: top;\n",
       "    }\n",
       "\n",
       "    .dataframe thead th {\n",
       "        text-align: right;\n",
       "    }\n",
       "</style>\n",
       "<table border=\"1\" class=\"dataframe\">\n",
       "  <thead>\n",
       "    <tr style=\"text-align: right;\">\n",
       "      <th></th>\n",
       "      <th>year</th>\n",
       "      <th>duration</th>\n",
       "      <th>rating_count</th>\n",
       "    </tr>\n",
       "  </thead>\n",
       "  <tbody>\n",
       "    <tr>\n",
       "      <th>50</th>\n",
       "      <td>-0.985900</td>\n",
       "      <td>-1.297795</td>\n",
       "      <td>-0.484628</td>\n",
       "    </tr>\n",
       "    <tr>\n",
       "      <th>3</th>\n",
       "      <td>2.095037</td>\n",
       "      <td>0.796924</td>\n",
       "      <td>-0.189486</td>\n",
       "    </tr>\n",
       "    <tr>\n",
       "      <th>33</th>\n",
       "      <td>-0.061619</td>\n",
       "      <td>-2.722205</td>\n",
       "      <td>-0.508410</td>\n",
       "    </tr>\n",
       "    <tr>\n",
       "      <th>30</th>\n",
       "      <td>0.015405</td>\n",
       "      <td>0.587452</td>\n",
       "      <td>-0.173602</td>\n",
       "    </tr>\n",
       "    <tr>\n",
       "      <th>53</th>\n",
       "      <td>-1.062923</td>\n",
       "      <td>-0.501802</td>\n",
       "      <td>-0.497033</td>\n",
       "    </tr>\n",
       "  </tbody>\n",
       "</table>\n",
       "</div>"
      ],
      "text/plain": [
       "        year  duration  rating_count\n",
       "50 -0.985900 -1.297795     -0.484628\n",
       "3   2.095037  0.796924     -0.189486\n",
       "33 -0.061619 -2.722205     -0.508410\n",
       "30  0.015405  0.587452     -0.173602\n",
       "53 -1.062923 -0.501802     -0.497033"
      ]
     },
     "execution_count": 78,
     "metadata": {},
     "output_type": "execute_result"
    }
   ],
   "source": [
    "from sklearn.preprocessing import StandardScaler\n",
    "\n",
    "ss = StandardScaler()\n",
    "\n",
    "ss.fit(X_train_cont)\n",
    "X_train_scaled = ss.transform(X_train_cont)\n",
    "\n",
    "cont_columns = X_train_cont.columns\n",
    "X_train_scaled_df = pd.DataFrame(X_train_scaled, columns=cont_columns, index=X_train_cont.index)\n",
    "\n",
    "X_train_scaled_df.head()\n"
   ]
  },
  {
   "cell_type": "markdown",
   "metadata": {},
   "source": [
    "#### select and scale the continuous variables in the test set"
   ]
  },
  {
   "cell_type": "code",
   "execution_count": 79,
   "metadata": {},
   "outputs": [
    {
     "data": {
      "text/html": [
       "<div>\n",
       "<style scoped>\n",
       "    .dataframe tbody tr th:only-of-type {\n",
       "        vertical-align: middle;\n",
       "    }\n",
       "\n",
       "    .dataframe tbody tr th {\n",
       "        vertical-align: top;\n",
       "    }\n",
       "\n",
       "    .dataframe thead th {\n",
       "        text-align: right;\n",
       "    }\n",
       "</style>\n",
       "<table border=\"1\" class=\"dataframe\">\n",
       "  <thead>\n",
       "    <tr style=\"text-align: right;\">\n",
       "      <th></th>\n",
       "      <th>year</th>\n",
       "      <th>duration</th>\n",
       "      <th>rating_count</th>\n",
       "    </tr>\n",
       "  </thead>\n",
       "  <tbody>\n",
       "    <tr>\n",
       "      <th>59</th>\n",
       "      <td>1929.0</td>\n",
       "      <td>85.0</td>\n",
       "      <td>9637.0</td>\n",
       "    </tr>\n",
       "    <tr>\n",
       "      <th>66</th>\n",
       "      <td>1927.0</td>\n",
       "      <td>92.0</td>\n",
       "      <td>10391.0</td>\n",
       "    </tr>\n",
       "    <tr>\n",
       "      <th>61</th>\n",
       "      <td>1928.0</td>\n",
       "      <td>86.0</td>\n",
       "      <td>2025.0</td>\n",
       "    </tr>\n",
       "    <tr>\n",
       "      <th>45</th>\n",
       "      <td>1936.0</td>\n",
       "      <td>76.0</td>\n",
       "      <td>14941.0</td>\n",
       "    </tr>\n",
       "    <tr>\n",
       "      <th>39</th>\n",
       "      <td>1940.0</td>\n",
       "      <td>120.0</td>\n",
       "      <td>18452.0</td>\n",
       "    </tr>\n",
       "  </tbody>\n",
       "</table>\n",
       "</div>"
      ],
      "text/plain": [
       "      year  duration  rating_count\n",
       "59  1929.0      85.0        9637.0\n",
       "66  1927.0      92.0       10391.0\n",
       "61  1928.0      86.0        2025.0\n",
       "45  1936.0      76.0       14941.0\n",
       "39  1940.0     120.0       18452.0"
      ]
     },
     "execution_count": 79,
     "metadata": {},
     "output_type": "execute_result"
    }
   ],
   "source": [
    "X_test_cont = X_test[['year', 'duration', 'rating_count']]\n",
    "X_test_cont.head()"
   ]
  },
  {
   "cell_type": "code",
   "execution_count": 80,
   "metadata": {},
   "outputs": [
    {
     "data": {
      "text/html": [
       "<div>\n",
       "<style scoped>\n",
       "    .dataframe tbody tr th:only-of-type {\n",
       "        vertical-align: middle;\n",
       "    }\n",
       "\n",
       "    .dataframe tbody tr th {\n",
       "        vertical-align: top;\n",
       "    }\n",
       "\n",
       "    .dataframe thead th {\n",
       "        text-align: right;\n",
       "    }\n",
       "</style>\n",
       "<table border=\"1\" class=\"dataframe\">\n",
       "  <thead>\n",
       "    <tr style=\"text-align: right;\">\n",
       "      <th></th>\n",
       "      <th>year</th>\n",
       "      <th>duration</th>\n",
       "      <th>rating_count</th>\n",
       "    </tr>\n",
       "  </thead>\n",
       "  <tbody>\n",
       "    <tr>\n",
       "      <th>59</th>\n",
       "      <td>-1.216970</td>\n",
       "      <td>-0.501802</td>\n",
       "      <td>-0.443079</td>\n",
       "    </tr>\n",
       "    <tr>\n",
       "      <th>66</th>\n",
       "      <td>-1.371017</td>\n",
       "      <td>-0.208541</td>\n",
       "      <td>-0.437063</td>\n",
       "    </tr>\n",
       "    <tr>\n",
       "      <th>61</th>\n",
       "      <td>-1.293993</td>\n",
       "      <td>-0.459907</td>\n",
       "      <td>-0.503806</td>\n",
       "    </tr>\n",
       "    <tr>\n",
       "      <th>45</th>\n",
       "      <td>-0.677806</td>\n",
       "      <td>-0.878851</td>\n",
       "      <td>-0.400764</td>\n",
       "    </tr>\n",
       "    <tr>\n",
       "      <th>39</th>\n",
       "      <td>-0.369712</td>\n",
       "      <td>0.964502</td>\n",
       "      <td>-0.372754</td>\n",
       "    </tr>\n",
       "  </tbody>\n",
       "</table>\n",
       "</div>"
      ],
      "text/plain": [
       "        year  duration  rating_count\n",
       "59 -1.216970 -0.501802     -0.443079\n",
       "66 -1.371017 -0.208541     -0.437063\n",
       "61 -1.293993 -0.459907     -0.503806\n",
       "45 -0.677806 -0.878851     -0.400764\n",
       "39 -0.369712  0.964502     -0.372754"
      ]
     },
     "execution_count": 80,
     "metadata": {},
     "output_type": "execute_result"
    }
   ],
   "source": [
    "X_test_scaled = ss.transform(X_test_cont)\n",
    "\n",
    "cont_columns = X_test_cont.columns\n",
    "X_test_scaled_df = pd.DataFrame(X_test_scaled, columns=cont_columns, index=X_test_cont.index)\n",
    "\n",
    "X_test_scaled_df.head()"
   ]
  },
  {
   "cell_type": "markdown",
   "metadata": {},
   "source": [
    "### Combine the continuous, categorical, and ohe cat features for our testing set\n"
   ]
  },
  {
   "cell_type": "code",
   "execution_count": 81,
   "metadata": {},
   "outputs": [],
   "source": [
    "cat_columns = ['documentary', 'tv_series', *prevalent_actor_columns]\n",
    "X_train_cat_df = X_train[cat_columns]\n"
   ]
  },
  {
   "cell_type": "code",
   "execution_count": 82,
   "metadata": {},
   "outputs": [
    {
     "data": {
      "text/html": [
       "<div>\n",
       "<style scoped>\n",
       "    .dataframe tbody tr th:only-of-type {\n",
       "        vertical-align: middle;\n",
       "    }\n",
       "\n",
       "    .dataframe tbody tr th {\n",
       "        vertical-align: top;\n",
       "    }\n",
       "\n",
       "    .dataframe thead th {\n",
       "        text-align: right;\n",
       "    }\n",
       "</style>\n",
       "<table border=\"1\" class=\"dataframe\">\n",
       "  <thead>\n",
       "    <tr style=\"text-align: right;\">\n",
       "      <th></th>\n",
       "      <th>year</th>\n",
       "      <th>duration</th>\n",
       "      <th>rating_count</th>\n",
       "      <th>cinematographer_Bernard Knowles</th>\n",
       "      <th>cinematographer_Claude L. McDonnell</th>\n",
       "      <th>cinematographer_Gaetano di Ventimiglia</th>\n",
       "      <th>cinematographer_George Barnes</th>\n",
       "      <th>cinematographer_Glen MacWilliams</th>\n",
       "      <th>cinematographer_Harry Stradling Sr.</th>\n",
       "      <th>cinematographer_Jack E. Cox</th>\n",
       "      <th>...</th>\n",
       "      <th>Edward Chapman</th>\n",
       "      <th>Basil Radford</th>\n",
       "      <th>George Curzon</th>\n",
       "      <th>Leslie Banks</th>\n",
       "      <th>Grace Kelly</th>\n",
       "      <th>Ian Hunter</th>\n",
       "      <th>Patricia Hitchcock</th>\n",
       "      <th>Isabel Jeans</th>\n",
       "      <th>Ingrid Bergman</th>\n",
       "      <th>Percy Marmont</th>\n",
       "    </tr>\n",
       "  </thead>\n",
       "  <tbody>\n",
       "    <tr>\n",
       "      <th>50</th>\n",
       "      <td>-0.985900</td>\n",
       "      <td>-1.297795</td>\n",
       "      <td>-0.484628</td>\n",
       "      <td>0.0</td>\n",
       "      <td>0.0</td>\n",
       "      <td>0.0</td>\n",
       "      <td>0.0</td>\n",
       "      <td>0.0</td>\n",
       "      <td>0.0</td>\n",
       "      <td>1.0</td>\n",
       "      <td>...</td>\n",
       "      <td>0.0</td>\n",
       "      <td>0.0</td>\n",
       "      <td>0.0</td>\n",
       "      <td>0.0</td>\n",
       "      <td>0.0</td>\n",
       "      <td>0.0</td>\n",
       "      <td>0.0</td>\n",
       "      <td>0.0</td>\n",
       "      <td>0.0</td>\n",
       "      <td>0.0</td>\n",
       "    </tr>\n",
       "    <tr>\n",
       "      <th>3</th>\n",
       "      <td>2.095037</td>\n",
       "      <td>0.796924</td>\n",
       "      <td>-0.189486</td>\n",
       "      <td>0.0</td>\n",
       "      <td>0.0</td>\n",
       "      <td>0.0</td>\n",
       "      <td>0.0</td>\n",
       "      <td>0.0</td>\n",
       "      <td>0.0</td>\n",
       "      <td>0.0</td>\n",
       "      <td>...</td>\n",
       "      <td>0.0</td>\n",
       "      <td>0.0</td>\n",
       "      <td>0.0</td>\n",
       "      <td>0.0</td>\n",
       "      <td>0.0</td>\n",
       "      <td>0.0</td>\n",
       "      <td>0.0</td>\n",
       "      <td>0.0</td>\n",
       "      <td>0.0</td>\n",
       "      <td>0.0</td>\n",
       "    </tr>\n",
       "    <tr>\n",
       "      <th>33</th>\n",
       "      <td>-0.061619</td>\n",
       "      <td>-2.722205</td>\n",
       "      <td>-0.508410</td>\n",
       "      <td>0.0</td>\n",
       "      <td>0.0</td>\n",
       "      <td>0.0</td>\n",
       "      <td>0.0</td>\n",
       "      <td>0.0</td>\n",
       "      <td>0.0</td>\n",
       "      <td>0.0</td>\n",
       "      <td>...</td>\n",
       "      <td>0.0</td>\n",
       "      <td>0.0</td>\n",
       "      <td>0.0</td>\n",
       "      <td>0.0</td>\n",
       "      <td>0.0</td>\n",
       "      <td>0.0</td>\n",
       "      <td>0.0</td>\n",
       "      <td>0.0</td>\n",
       "      <td>0.0</td>\n",
       "      <td>0.0</td>\n",
       "    </tr>\n",
       "    <tr>\n",
       "      <th>30</th>\n",
       "      <td>0.015405</td>\n",
       "      <td>0.587452</td>\n",
       "      <td>-0.173602</td>\n",
       "      <td>0.0</td>\n",
       "      <td>0.0</td>\n",
       "      <td>0.0</td>\n",
       "      <td>1.0</td>\n",
       "      <td>0.0</td>\n",
       "      <td>0.0</td>\n",
       "      <td>0.0</td>\n",
       "      <td>...</td>\n",
       "      <td>0.0</td>\n",
       "      <td>0.0</td>\n",
       "      <td>0.0</td>\n",
       "      <td>0.0</td>\n",
       "      <td>0.0</td>\n",
       "      <td>0.0</td>\n",
       "      <td>0.0</td>\n",
       "      <td>0.0</td>\n",
       "      <td>1.0</td>\n",
       "      <td>0.0</td>\n",
       "    </tr>\n",
       "    <tr>\n",
       "      <th>53</th>\n",
       "      <td>-1.062923</td>\n",
       "      <td>-0.501802</td>\n",
       "      <td>-0.497033</td>\n",
       "      <td>0.0</td>\n",
       "      <td>0.0</td>\n",
       "      <td>0.0</td>\n",
       "      <td>0.0</td>\n",
       "      <td>0.0</td>\n",
       "      <td>0.0</td>\n",
       "      <td>1.0</td>\n",
       "      <td>...</td>\n",
       "      <td>1.0</td>\n",
       "      <td>0.0</td>\n",
       "      <td>0.0</td>\n",
       "      <td>0.0</td>\n",
       "      <td>0.0</td>\n",
       "      <td>0.0</td>\n",
       "      <td>0.0</td>\n",
       "      <td>0.0</td>\n",
       "      <td>0.0</td>\n",
       "      <td>0.0</td>\n",
       "    </tr>\n",
       "    <tr>\n",
       "      <th>37</th>\n",
       "      <td>-0.215666</td>\n",
       "      <td>0.503664</td>\n",
       "      <td>-0.333231</td>\n",
       "      <td>0.0</td>\n",
       "      <td>0.0</td>\n",
       "      <td>0.0</td>\n",
       "      <td>0.0</td>\n",
       "      <td>0.0</td>\n",
       "      <td>0.0</td>\n",
       "      <td>0.0</td>\n",
       "      <td>...</td>\n",
       "      <td>0.0</td>\n",
       "      <td>0.0</td>\n",
       "      <td>0.0</td>\n",
       "      <td>0.0</td>\n",
       "      <td>0.0</td>\n",
       "      <td>0.0</td>\n",
       "      <td>0.0</td>\n",
       "      <td>0.0</td>\n",
       "      <td>0.0</td>\n",
       "      <td>0.0</td>\n",
       "    </tr>\n",
       "    <tr>\n",
       "      <th>47</th>\n",
       "      <td>-0.754829</td>\n",
       "      <td>-0.459907</td>\n",
       "      <td>-0.106987</td>\n",
       "      <td>1.0</td>\n",
       "      <td>0.0</td>\n",
       "      <td>0.0</td>\n",
       "      <td>0.0</td>\n",
       "      <td>0.0</td>\n",
       "      <td>0.0</td>\n",
       "      <td>0.0</td>\n",
       "      <td>...</td>\n",
       "      <td>0.0</td>\n",
       "      <td>0.0</td>\n",
       "      <td>0.0</td>\n",
       "      <td>0.0</td>\n",
       "      <td>0.0</td>\n",
       "      <td>0.0</td>\n",
       "      <td>0.0</td>\n",
       "      <td>0.0</td>\n",
       "      <td>0.0</td>\n",
       "      <td>0.0</td>\n",
       "    </tr>\n",
       "    <tr>\n",
       "      <th>62</th>\n",
       "      <td>-1.293993</td>\n",
       "      <td>1.341552</td>\n",
       "      <td>-0.500049</td>\n",
       "      <td>0.0</td>\n",
       "      <td>0.0</td>\n",
       "      <td>0.0</td>\n",
       "      <td>0.0</td>\n",
       "      <td>0.0</td>\n",
       "      <td>0.0</td>\n",
       "      <td>1.0</td>\n",
       "      <td>...</td>\n",
       "      <td>0.0</td>\n",
       "      <td>0.0</td>\n",
       "      <td>0.0</td>\n",
       "      <td>0.0</td>\n",
       "      <td>0.0</td>\n",
       "      <td>0.0</td>\n",
       "      <td>0.0</td>\n",
       "      <td>0.0</td>\n",
       "      <td>0.0</td>\n",
       "      <td>0.0</td>\n",
       "    </tr>\n",
       "    <tr>\n",
       "      <th>64</th>\n",
       "      <td>-1.371017</td>\n",
       "      <td>-0.711274</td>\n",
       "      <td>-0.499825</td>\n",
       "      <td>0.0</td>\n",
       "      <td>1.0</td>\n",
       "      <td>0.0</td>\n",
       "      <td>0.0</td>\n",
       "      <td>0.0</td>\n",
       "      <td>0.0</td>\n",
       "      <td>0.0</td>\n",
       "      <td>...</td>\n",
       "      <td>0.0</td>\n",
       "      <td>0.0</td>\n",
       "      <td>0.0</td>\n",
       "      <td>0.0</td>\n",
       "      <td>0.0</td>\n",
       "      <td>1.0</td>\n",
       "      <td>0.0</td>\n",
       "      <td>1.0</td>\n",
       "      <td>0.0</td>\n",
       "      <td>0.0</td>\n",
       "    </tr>\n",
       "    <tr>\n",
       "      <th>44</th>\n",
       "      <td>-0.600783</td>\n",
       "      <td>-0.585591</td>\n",
       "      <td>-0.451081</td>\n",
       "      <td>1.0</td>\n",
       "      <td>0.0</td>\n",
       "      <td>0.0</td>\n",
       "      <td>0.0</td>\n",
       "      <td>0.0</td>\n",
       "      <td>0.0</td>\n",
       "      <td>0.0</td>\n",
       "      <td>...</td>\n",
       "      <td>0.0</td>\n",
       "      <td>1.0</td>\n",
       "      <td>1.0</td>\n",
       "      <td>0.0</td>\n",
       "      <td>0.0</td>\n",
       "      <td>0.0</td>\n",
       "      <td>0.0</td>\n",
       "      <td>0.0</td>\n",
       "      <td>0.0</td>\n",
       "      <td>1.0</td>\n",
       "    </tr>\n",
       "  </tbody>\n",
       "</table>\n",
       "<p>10 rows × 35 columns</p>\n",
       "</div>"
      ],
      "text/plain": [
       "        year  duration  rating_count  cinematographer_Bernard Knowles  \\\n",
       "50 -0.985900 -1.297795     -0.484628                              0.0   \n",
       "3   2.095037  0.796924     -0.189486                              0.0   \n",
       "33 -0.061619 -2.722205     -0.508410                              0.0   \n",
       "30  0.015405  0.587452     -0.173602                              0.0   \n",
       "53 -1.062923 -0.501802     -0.497033                              0.0   \n",
       "37 -0.215666  0.503664     -0.333231                              0.0   \n",
       "47 -0.754829 -0.459907     -0.106987                              1.0   \n",
       "62 -1.293993  1.341552     -0.500049                              0.0   \n",
       "64 -1.371017 -0.711274     -0.499825                              0.0   \n",
       "44 -0.600783 -0.585591     -0.451081                              1.0   \n",
       "\n",
       "    cinematographer_Claude L. McDonnell  \\\n",
       "50                                  0.0   \n",
       "3                                   0.0   \n",
       "33                                  0.0   \n",
       "30                                  0.0   \n",
       "53                                  0.0   \n",
       "37                                  0.0   \n",
       "47                                  0.0   \n",
       "62                                  0.0   \n",
       "64                                  1.0   \n",
       "44                                  0.0   \n",
       "\n",
       "    cinematographer_Gaetano di Ventimiglia  cinematographer_George Barnes  \\\n",
       "50                                     0.0                            0.0   \n",
       "3                                      0.0                            0.0   \n",
       "33                                     0.0                            0.0   \n",
       "30                                     0.0                            1.0   \n",
       "53                                     0.0                            0.0   \n",
       "37                                     0.0                            0.0   \n",
       "47                                     0.0                            0.0   \n",
       "62                                     0.0                            0.0   \n",
       "64                                     0.0                            0.0   \n",
       "44                                     0.0                            0.0   \n",
       "\n",
       "    cinematographer_Glen MacWilliams  cinematographer_Harry Stradling Sr.  \\\n",
       "50                               0.0                                  0.0   \n",
       "3                                0.0                                  0.0   \n",
       "33                               0.0                                  0.0   \n",
       "30                               0.0                                  0.0   \n",
       "53                               0.0                                  0.0   \n",
       "37                               0.0                                  0.0   \n",
       "47                               0.0                                  0.0   \n",
       "62                               0.0                                  0.0   \n",
       "64                               0.0                                  0.0   \n",
       "44                               0.0                                  0.0   \n",
       "\n",
       "    cinematographer_Jack E. Cox  ...  Edward Chapman  Basil Radford  \\\n",
       "50                          1.0  ...             0.0            0.0   \n",
       "3                           0.0  ...             0.0            0.0   \n",
       "33                          0.0  ...             0.0            0.0   \n",
       "30                          0.0  ...             0.0            0.0   \n",
       "53                          1.0  ...             1.0            0.0   \n",
       "37                          0.0  ...             0.0            0.0   \n",
       "47                          0.0  ...             0.0            0.0   \n",
       "62                          1.0  ...             0.0            0.0   \n",
       "64                          0.0  ...             0.0            0.0   \n",
       "44                          0.0  ...             0.0            1.0   \n",
       "\n",
       "    George Curzon  Leslie Banks  Grace Kelly  Ian Hunter  Patricia Hitchcock  \\\n",
       "50            0.0           0.0          0.0         0.0                 0.0   \n",
       "3             0.0           0.0          0.0         0.0                 0.0   \n",
       "33            0.0           0.0          0.0         0.0                 0.0   \n",
       "30            0.0           0.0          0.0         0.0                 0.0   \n",
       "53            0.0           0.0          0.0         0.0                 0.0   \n",
       "37            0.0           0.0          0.0         0.0                 0.0   \n",
       "47            0.0           0.0          0.0         0.0                 0.0   \n",
       "62            0.0           0.0          0.0         0.0                 0.0   \n",
       "64            0.0           0.0          0.0         1.0                 0.0   \n",
       "44            1.0           0.0          0.0         0.0                 0.0   \n",
       "\n",
       "    Isabel Jeans  Ingrid Bergman  Percy Marmont  \n",
       "50           0.0             0.0            0.0  \n",
       "3            0.0             0.0            0.0  \n",
       "33           0.0             0.0            0.0  \n",
       "30           0.0             1.0            0.0  \n",
       "53           0.0             0.0            0.0  \n",
       "37           0.0             0.0            0.0  \n",
       "47           0.0             0.0            0.0  \n",
       "62           0.0             0.0            0.0  \n",
       "64           1.0             0.0            0.0  \n",
       "44           0.0             0.0            1.0  \n",
       "\n",
       "[10 rows x 35 columns]"
      ]
     },
     "execution_count": 82,
     "metadata": {},
     "output_type": "execute_result"
    }
   ],
   "source": [
    "X_train_combined = pd.concat([X_train_scaled_df, X_train_cat_ohe_df, X_train_cat_df, ], axis='columns')\n",
    "\n",
    "X_train_combined.head(10)"
   ]
  },
  {
   "cell_type": "code",
   "execution_count": 83,
   "metadata": {},
   "outputs": [
    {
     "data": {
      "text/plain": [
       "(45, 24)"
      ]
     },
     "execution_count": 83,
     "metadata": {},
     "output_type": "execute_result"
    }
   ],
   "source": [
    "X_train.shape"
   ]
  },
  {
   "cell_type": "markdown",
   "metadata": {},
   "source": [
    "### Combine the continuous and categorical features for our testing set\n"
   ]
  },
  {
   "cell_type": "code",
   "execution_count": 84,
   "metadata": {},
   "outputs": [],
   "source": [
    "X_test_cat_df = X_test[cat_columns]"
   ]
  },
  {
   "cell_type": "code",
   "execution_count": 85,
   "metadata": {},
   "outputs": [
    {
     "data": {
      "text/plain": [
       "True"
      ]
     },
     "execution_count": 85,
     "metadata": {},
     "output_type": "execute_result"
    }
   ],
   "source": [
    "X_test_scaled_df.shape[0] == X_test_cat_df.shape[0] == X_test_cat_ohe_df.shape[0]\n"
   ]
  },
  {
   "cell_type": "code",
   "execution_count": 86,
   "metadata": {},
   "outputs": [
    {
     "data": {
      "text/html": [
       "<div>\n",
       "<style scoped>\n",
       "    .dataframe tbody tr th:only-of-type {\n",
       "        vertical-align: middle;\n",
       "    }\n",
       "\n",
       "    .dataframe tbody tr th {\n",
       "        vertical-align: top;\n",
       "    }\n",
       "\n",
       "    .dataframe thead th {\n",
       "        text-align: right;\n",
       "    }\n",
       "</style>\n",
       "<table border=\"1\" class=\"dataframe\">\n",
       "  <thead>\n",
       "    <tr style=\"text-align: right;\">\n",
       "      <th></th>\n",
       "      <th>year</th>\n",
       "      <th>duration</th>\n",
       "      <th>rating_count</th>\n",
       "      <th>cinematographer_Bernard Knowles</th>\n",
       "      <th>cinematographer_Claude L. McDonnell</th>\n",
       "      <th>cinematographer_Gaetano di Ventimiglia</th>\n",
       "      <th>cinematographer_George Barnes</th>\n",
       "      <th>cinematographer_Glen MacWilliams</th>\n",
       "      <th>cinematographer_Harry Stradling Sr.</th>\n",
       "      <th>cinematographer_Jack E. Cox</th>\n",
       "      <th>...</th>\n",
       "      <th>Edward Chapman</th>\n",
       "      <th>Basil Radford</th>\n",
       "      <th>George Curzon</th>\n",
       "      <th>Leslie Banks</th>\n",
       "      <th>Grace Kelly</th>\n",
       "      <th>Ian Hunter</th>\n",
       "      <th>Patricia Hitchcock</th>\n",
       "      <th>Isabel Jeans</th>\n",
       "      <th>Ingrid Bergman</th>\n",
       "      <th>Percy Marmont</th>\n",
       "    </tr>\n",
       "  </thead>\n",
       "  <tbody>\n",
       "    <tr>\n",
       "      <th>0</th>\n",
       "      <td>-1.216970</td>\n",
       "      <td>-0.501802</td>\n",
       "      <td>-0.443079</td>\n",
       "      <td>0.0</td>\n",
       "      <td>0.0</td>\n",
       "      <td>0.0</td>\n",
       "      <td>0.0</td>\n",
       "      <td>0.0</td>\n",
       "      <td>0.0</td>\n",
       "      <td>1.0</td>\n",
       "      <td>...</td>\n",
       "      <td>0.0</td>\n",
       "      <td>0.0</td>\n",
       "      <td>0.0</td>\n",
       "      <td>0.0</td>\n",
       "      <td>0.0</td>\n",
       "      <td>0.0</td>\n",
       "      <td>0.0</td>\n",
       "      <td>0.0</td>\n",
       "      <td>0.0</td>\n",
       "      <td>0.0</td>\n",
       "    </tr>\n",
       "    <tr>\n",
       "      <th>1</th>\n",
       "      <td>-1.371017</td>\n",
       "      <td>-0.208541</td>\n",
       "      <td>-0.437063</td>\n",
       "      <td>0.0</td>\n",
       "      <td>0.0</td>\n",
       "      <td>1.0</td>\n",
       "      <td>0.0</td>\n",
       "      <td>0.0</td>\n",
       "      <td>0.0</td>\n",
       "      <td>0.0</td>\n",
       "      <td>...</td>\n",
       "      <td>0.0</td>\n",
       "      <td>0.0</td>\n",
       "      <td>0.0</td>\n",
       "      <td>0.0</td>\n",
       "      <td>0.0</td>\n",
       "      <td>0.0</td>\n",
       "      <td>0.0</td>\n",
       "      <td>0.0</td>\n",
       "      <td>0.0</td>\n",
       "      <td>0.0</td>\n",
       "    </tr>\n",
       "    <tr>\n",
       "      <th>2</th>\n",
       "      <td>-1.293993</td>\n",
       "      <td>-0.459907</td>\n",
       "      <td>-0.503806</td>\n",
       "      <td>0.0</td>\n",
       "      <td>0.0</td>\n",
       "      <td>0.0</td>\n",
       "      <td>0.0</td>\n",
       "      <td>0.0</td>\n",
       "      <td>0.0</td>\n",
       "      <td>1.0</td>\n",
       "      <td>...</td>\n",
       "      <td>0.0</td>\n",
       "      <td>0.0</td>\n",
       "      <td>0.0</td>\n",
       "      <td>0.0</td>\n",
       "      <td>0.0</td>\n",
       "      <td>0.0</td>\n",
       "      <td>0.0</td>\n",
       "      <td>0.0</td>\n",
       "      <td>0.0</td>\n",
       "      <td>0.0</td>\n",
       "    </tr>\n",
       "    <tr>\n",
       "      <th>3</th>\n",
       "      <td>-0.677806</td>\n",
       "      <td>-0.878851</td>\n",
       "      <td>-0.400764</td>\n",
       "      <td>1.0</td>\n",
       "      <td>0.0</td>\n",
       "      <td>0.0</td>\n",
       "      <td>0.0</td>\n",
       "      <td>0.0</td>\n",
       "      <td>0.0</td>\n",
       "      <td>0.0</td>\n",
       "      <td>...</td>\n",
       "      <td>0.0</td>\n",
       "      <td>0.0</td>\n",
       "      <td>0.0</td>\n",
       "      <td>0.0</td>\n",
       "      <td>0.0</td>\n",
       "      <td>0.0</td>\n",
       "      <td>0.0</td>\n",
       "      <td>0.0</td>\n",
       "      <td>0.0</td>\n",
       "      <td>0.0</td>\n",
       "    </tr>\n",
       "    <tr>\n",
       "      <th>4</th>\n",
       "      <td>-0.369712</td>\n",
       "      <td>0.964502</td>\n",
       "      <td>-0.372754</td>\n",
       "      <td>0.0</td>\n",
       "      <td>0.0</td>\n",
       "      <td>0.0</td>\n",
       "      <td>0.0</td>\n",
       "      <td>0.0</td>\n",
       "      <td>0.0</td>\n",
       "      <td>0.0</td>\n",
       "      <td>...</td>\n",
       "      <td>0.0</td>\n",
       "      <td>0.0</td>\n",
       "      <td>0.0</td>\n",
       "      <td>0.0</td>\n",
       "      <td>0.0</td>\n",
       "      <td>0.0</td>\n",
       "      <td>0.0</td>\n",
       "      <td>0.0</td>\n",
       "      <td>0.0</td>\n",
       "      <td>0.0</td>\n",
       "    </tr>\n",
       "    <tr>\n",
       "      <th>5</th>\n",
       "      <td>0.631592</td>\n",
       "      <td>-0.082858</td>\n",
       "      <td>-0.367688</td>\n",
       "      <td>0.0</td>\n",
       "      <td>0.0</td>\n",
       "      <td>0.0</td>\n",
       "      <td>0.0</td>\n",
       "      <td>0.0</td>\n",
       "      <td>0.0</td>\n",
       "      <td>0.0</td>\n",
       "      <td>...</td>\n",
       "      <td>0.0</td>\n",
       "      <td>0.0</td>\n",
       "      <td>0.0</td>\n",
       "      <td>0.0</td>\n",
       "      <td>0.0</td>\n",
       "      <td>0.0</td>\n",
       "      <td>0.0</td>\n",
       "      <td>0.0</td>\n",
       "      <td>0.0</td>\n",
       "      <td>0.0</td>\n",
       "    </tr>\n",
       "    <tr>\n",
       "      <th>6</th>\n",
       "      <td>0.862662</td>\n",
       "      <td>0.964502</td>\n",
       "      <td>-0.053559</td>\n",
       "      <td>0.0</td>\n",
       "      <td>0.0</td>\n",
       "      <td>0.0</td>\n",
       "      <td>0.0</td>\n",
       "      <td>0.0</td>\n",
       "      <td>0.0</td>\n",
       "      <td>0.0</td>\n",
       "      <td>...</td>\n",
       "      <td>0.0</td>\n",
       "      <td>0.0</td>\n",
       "      <td>0.0</td>\n",
       "      <td>0.0</td>\n",
       "      <td>0.0</td>\n",
       "      <td>0.0</td>\n",
       "      <td>0.0</td>\n",
       "      <td>0.0</td>\n",
       "      <td>0.0</td>\n",
       "      <td>0.0</td>\n",
       "    </tr>\n",
       "    <tr>\n",
       "      <th>7</th>\n",
       "      <td>2.403130</td>\n",
       "      <td>0.964502</td>\n",
       "      <td>-0.354070</td>\n",
       "      <td>0.0</td>\n",
       "      <td>0.0</td>\n",
       "      <td>0.0</td>\n",
       "      <td>0.0</td>\n",
       "      <td>0.0</td>\n",
       "      <td>0.0</td>\n",
       "      <td>0.0</td>\n",
       "      <td>...</td>\n",
       "      <td>0.0</td>\n",
       "      <td>0.0</td>\n",
       "      <td>0.0</td>\n",
       "      <td>0.0</td>\n",
       "      <td>0.0</td>\n",
       "      <td>0.0</td>\n",
       "      <td>0.0</td>\n",
       "      <td>0.0</td>\n",
       "      <td>0.0</td>\n",
       "      <td>0.0</td>\n",
       "    </tr>\n",
       "    <tr>\n",
       "      <th>8</th>\n",
       "      <td>-0.831853</td>\n",
       "      <td>-0.920746</td>\n",
       "      <td>-0.384449</td>\n",
       "      <td>0.0</td>\n",
       "      <td>0.0</td>\n",
       "      <td>0.0</td>\n",
       "      <td>0.0</td>\n",
       "      <td>0.0</td>\n",
       "      <td>0.0</td>\n",
       "      <td>0.0</td>\n",
       "      <td>...</td>\n",
       "      <td>0.0</td>\n",
       "      <td>0.0</td>\n",
       "      <td>1.0</td>\n",
       "      <td>1.0</td>\n",
       "      <td>0.0</td>\n",
       "      <td>0.0</td>\n",
       "      <td>0.0</td>\n",
       "      <td>0.0</td>\n",
       "      <td>0.0</td>\n",
       "      <td>0.0</td>\n",
       "    </tr>\n",
       "    <tr>\n",
       "      <th>9</th>\n",
       "      <td>-1.216970</td>\n",
       "      <td>0.545558</td>\n",
       "      <td>-0.499195</td>\n",
       "      <td>0.0</td>\n",
       "      <td>0.0</td>\n",
       "      <td>0.0</td>\n",
       "      <td>0.0</td>\n",
       "      <td>0.0</td>\n",
       "      <td>0.0</td>\n",
       "      <td>1.0</td>\n",
       "      <td>...</td>\n",
       "      <td>0.0</td>\n",
       "      <td>0.0</td>\n",
       "      <td>0.0</td>\n",
       "      <td>0.0</td>\n",
       "      <td>0.0</td>\n",
       "      <td>0.0</td>\n",
       "      <td>0.0</td>\n",
       "      <td>0.0</td>\n",
       "      <td>0.0</td>\n",
       "      <td>0.0</td>\n",
       "    </tr>\n",
       "    <tr>\n",
       "      <th>10</th>\n",
       "      <td>0.477545</td>\n",
       "      <td>0.168509</td>\n",
       "      <td>0.463065</td>\n",
       "      <td>0.0</td>\n",
       "      <td>0.0</td>\n",
       "      <td>0.0</td>\n",
       "      <td>0.0</td>\n",
       "      <td>0.0</td>\n",
       "      <td>0.0</td>\n",
       "      <td>0.0</td>\n",
       "      <td>...</td>\n",
       "      <td>0.0</td>\n",
       "      <td>0.0</td>\n",
       "      <td>0.0</td>\n",
       "      <td>0.0</td>\n",
       "      <td>0.0</td>\n",
       "      <td>0.0</td>\n",
       "      <td>1.0</td>\n",
       "      <td>0.0</td>\n",
       "      <td>0.0</td>\n",
       "      <td>0.0</td>\n",
       "    </tr>\n",
       "    <tr>\n",
       "      <th>11</th>\n",
       "      <td>-0.292689</td>\n",
       "      <td>0.084720</td>\n",
       "      <td>-0.258774</td>\n",
       "      <td>0.0</td>\n",
       "      <td>0.0</td>\n",
       "      <td>0.0</td>\n",
       "      <td>0.0</td>\n",
       "      <td>0.0</td>\n",
       "      <td>1.0</td>\n",
       "      <td>0.0</td>\n",
       "      <td>...</td>\n",
       "      <td>0.0</td>\n",
       "      <td>0.0</td>\n",
       "      <td>0.0</td>\n",
       "      <td>0.0</td>\n",
       "      <td>0.0</td>\n",
       "      <td>0.0</td>\n",
       "      <td>0.0</td>\n",
       "      <td>1.0</td>\n",
       "      <td>0.0</td>\n",
       "      <td>0.0</td>\n",
       "    </tr>\n",
       "    <tr>\n",
       "      <th>12</th>\n",
       "      <td>0.785639</td>\n",
       "      <td>0.084720</td>\n",
       "      <td>-0.250812</td>\n",
       "      <td>0.0</td>\n",
       "      <td>0.0</td>\n",
       "      <td>0.0</td>\n",
       "      <td>0.0</td>\n",
       "      <td>0.0</td>\n",
       "      <td>0.0</td>\n",
       "      <td>0.0</td>\n",
       "      <td>...</td>\n",
       "      <td>0.0</td>\n",
       "      <td>0.0</td>\n",
       "      <td>0.0</td>\n",
       "      <td>0.0</td>\n",
       "      <td>0.0</td>\n",
       "      <td>0.0</td>\n",
       "      <td>0.0</td>\n",
       "      <td>0.0</td>\n",
       "      <td>0.0</td>\n",
       "      <td>0.0</td>\n",
       "    </tr>\n",
       "    <tr>\n",
       "      <th>13</th>\n",
       "      <td>-1.139946</td>\n",
       "      <td>-0.459907</td>\n",
       "      <td>-0.517217</td>\n",
       "      <td>0.0</td>\n",
       "      <td>0.0</td>\n",
       "      <td>0.0</td>\n",
       "      <td>0.0</td>\n",
       "      <td>0.0</td>\n",
       "      <td>0.0</td>\n",
       "      <td>0.0</td>\n",
       "      <td>...</td>\n",
       "      <td>0.0</td>\n",
       "      <td>0.0</td>\n",
       "      <td>0.0</td>\n",
       "      <td>0.0</td>\n",
       "      <td>0.0</td>\n",
       "      <td>0.0</td>\n",
       "      <td>0.0</td>\n",
       "      <td>0.0</td>\n",
       "      <td>0.0</td>\n",
       "      <td>0.0</td>\n",
       "    </tr>\n",
       "    <tr>\n",
       "      <th>14</th>\n",
       "      <td>-0.061619</td>\n",
       "      <td>0.000931</td>\n",
       "      <td>-0.309138</td>\n",
       "      <td>0.0</td>\n",
       "      <td>0.0</td>\n",
       "      <td>0.0</td>\n",
       "      <td>0.0</td>\n",
       "      <td>1.0</td>\n",
       "      <td>0.0</td>\n",
       "      <td>0.0</td>\n",
       "      <td>...</td>\n",
       "      <td>0.0</td>\n",
       "      <td>0.0</td>\n",
       "      <td>0.0</td>\n",
       "      <td>0.0</td>\n",
       "      <td>0.0</td>\n",
       "      <td>0.0</td>\n",
       "      <td>0.0</td>\n",
       "      <td>0.0</td>\n",
       "      <td>0.0</td>\n",
       "      <td>0.0</td>\n",
       "    </tr>\n",
       "  </tbody>\n",
       "</table>\n",
       "<p>15 rows × 35 columns</p>\n",
       "</div>"
      ],
      "text/plain": [
       "        year  duration  rating_count  cinematographer_Bernard Knowles  \\\n",
       "0  -1.216970 -0.501802     -0.443079                              0.0   \n",
       "1  -1.371017 -0.208541     -0.437063                              0.0   \n",
       "2  -1.293993 -0.459907     -0.503806                              0.0   \n",
       "3  -0.677806 -0.878851     -0.400764                              1.0   \n",
       "4  -0.369712  0.964502     -0.372754                              0.0   \n",
       "5   0.631592 -0.082858     -0.367688                              0.0   \n",
       "6   0.862662  0.964502     -0.053559                              0.0   \n",
       "7   2.403130  0.964502     -0.354070                              0.0   \n",
       "8  -0.831853 -0.920746     -0.384449                              0.0   \n",
       "9  -1.216970  0.545558     -0.499195                              0.0   \n",
       "10  0.477545  0.168509      0.463065                              0.0   \n",
       "11 -0.292689  0.084720     -0.258774                              0.0   \n",
       "12  0.785639  0.084720     -0.250812                              0.0   \n",
       "13 -1.139946 -0.459907     -0.517217                              0.0   \n",
       "14 -0.061619  0.000931     -0.309138                              0.0   \n",
       "\n",
       "    cinematographer_Claude L. McDonnell  \\\n",
       "0                                   0.0   \n",
       "1                                   0.0   \n",
       "2                                   0.0   \n",
       "3                                   0.0   \n",
       "4                                   0.0   \n",
       "5                                   0.0   \n",
       "6                                   0.0   \n",
       "7                                   0.0   \n",
       "8                                   0.0   \n",
       "9                                   0.0   \n",
       "10                                  0.0   \n",
       "11                                  0.0   \n",
       "12                                  0.0   \n",
       "13                                  0.0   \n",
       "14                                  0.0   \n",
       "\n",
       "    cinematographer_Gaetano di Ventimiglia  cinematographer_George Barnes  \\\n",
       "0                                      0.0                            0.0   \n",
       "1                                      1.0                            0.0   \n",
       "2                                      0.0                            0.0   \n",
       "3                                      0.0                            0.0   \n",
       "4                                      0.0                            0.0   \n",
       "5                                      0.0                            0.0   \n",
       "6                                      0.0                            0.0   \n",
       "7                                      0.0                            0.0   \n",
       "8                                      0.0                            0.0   \n",
       "9                                      0.0                            0.0   \n",
       "10                                     0.0                            0.0   \n",
       "11                                     0.0                            0.0   \n",
       "12                                     0.0                            0.0   \n",
       "13                                     0.0                            0.0   \n",
       "14                                     0.0                            0.0   \n",
       "\n",
       "    cinematographer_Glen MacWilliams  cinematographer_Harry Stradling Sr.  \\\n",
       "0                                0.0                                  0.0   \n",
       "1                                0.0                                  0.0   \n",
       "2                                0.0                                  0.0   \n",
       "3                                0.0                                  0.0   \n",
       "4                                0.0                                  0.0   \n",
       "5                                0.0                                  0.0   \n",
       "6                                0.0                                  0.0   \n",
       "7                                0.0                                  0.0   \n",
       "8                                0.0                                  0.0   \n",
       "9                                0.0                                  0.0   \n",
       "10                               0.0                                  0.0   \n",
       "11                               0.0                                  1.0   \n",
       "12                               0.0                                  0.0   \n",
       "13                               0.0                                  0.0   \n",
       "14                               1.0                                  0.0   \n",
       "\n",
       "    cinematographer_Jack E. Cox  ...  Edward Chapman  Basil Radford  \\\n",
       "0                           1.0  ...             0.0            0.0   \n",
       "1                           0.0  ...             0.0            0.0   \n",
       "2                           1.0  ...             0.0            0.0   \n",
       "3                           0.0  ...             0.0            0.0   \n",
       "4                           0.0  ...             0.0            0.0   \n",
       "5                           0.0  ...             0.0            0.0   \n",
       "6                           0.0  ...             0.0            0.0   \n",
       "7                           0.0  ...             0.0            0.0   \n",
       "8                           0.0  ...             0.0            0.0   \n",
       "9                           1.0  ...             0.0            0.0   \n",
       "10                          0.0  ...             0.0            0.0   \n",
       "11                          0.0  ...             0.0            0.0   \n",
       "12                          0.0  ...             0.0            0.0   \n",
       "13                          0.0  ...             0.0            0.0   \n",
       "14                          0.0  ...             0.0            0.0   \n",
       "\n",
       "    George Curzon  Leslie Banks  Grace Kelly  Ian Hunter  Patricia Hitchcock  \\\n",
       "0             0.0           0.0          0.0         0.0                 0.0   \n",
       "1             0.0           0.0          0.0         0.0                 0.0   \n",
       "2             0.0           0.0          0.0         0.0                 0.0   \n",
       "3             0.0           0.0          0.0         0.0                 0.0   \n",
       "4             0.0           0.0          0.0         0.0                 0.0   \n",
       "5             0.0           0.0          0.0         0.0                 0.0   \n",
       "6             0.0           0.0          0.0         0.0                 0.0   \n",
       "7             0.0           0.0          0.0         0.0                 0.0   \n",
       "8             1.0           1.0          0.0         0.0                 0.0   \n",
       "9             0.0           0.0          0.0         0.0                 0.0   \n",
       "10            0.0           0.0          0.0         0.0                 1.0   \n",
       "11            0.0           0.0          0.0         0.0                 0.0   \n",
       "12            0.0           0.0          0.0         0.0                 0.0   \n",
       "13            0.0           0.0          0.0         0.0                 0.0   \n",
       "14            0.0           0.0          0.0         0.0                 0.0   \n",
       "\n",
       "    Isabel Jeans  Ingrid Bergman  Percy Marmont  \n",
       "0            0.0             0.0            0.0  \n",
       "1            0.0             0.0            0.0  \n",
       "2            0.0             0.0            0.0  \n",
       "3            0.0             0.0            0.0  \n",
       "4            0.0             0.0            0.0  \n",
       "5            0.0             0.0            0.0  \n",
       "6            0.0             0.0            0.0  \n",
       "7            0.0             0.0            0.0  \n",
       "8            0.0             0.0            0.0  \n",
       "9            0.0             0.0            0.0  \n",
       "10           0.0             0.0            0.0  \n",
       "11           1.0             0.0            0.0  \n",
       "12           0.0             0.0            0.0  \n",
       "13           0.0             0.0            0.0  \n",
       "14           0.0             0.0            0.0  \n",
       "\n",
       "[15 rows x 35 columns]"
      ]
     },
     "execution_count": 86,
     "metadata": {},
     "output_type": "execute_result"
    }
   ],
   "source": [
    "X_test_combined = pd.concat([X_test_scaled_df.reset_index(drop=True), X_test_cat_ohe_df.reset_index(drop=True), X_test_cat_df.reset_index(drop=True) ], axis=1)\n",
    "#X_test_combined = pd.concat([X_test_scaled_df, X_test_cat_ohe_df, X_test_cat_df ], axis=1)\n",
    "\n",
    "X_test_combined"
   ]
  },
  {
   "cell_type": "markdown",
   "metadata": {},
   "source": [
    "### Now make predictions by instantiating the Linear Regression Model "
   ]
  },
  {
   "cell_type": "code",
   "execution_count": 87,
   "metadata": {},
   "outputs": [
    {
     "data": {
      "text/plain": [
       "LinearRegression()"
      ]
     },
     "execution_count": 87,
     "metadata": {},
     "output_type": "execute_result"
    }
   ],
   "source": [
    "lr = LinearRegression()\n",
    "\n",
    "lr.fit(X_train_combined, y_train)"
   ]
  },
  {
   "cell_type": "code",
   "execution_count": 88,
   "metadata": {},
   "outputs": [
    {
     "data": {
      "text/plain": [
       "array([-1.65049854e-02,  9.27033702e-02,  6.91975762e-01,  7.90776556e-01,\n",
       "       -5.91019310e-01, -2.65116609e-01,  1.47723300e+00, -1.11735720e+00,\n",
       "        3.80163933e-02, -2.15940217e-01,  3.46631720e-01, -2.09949589e+00,\n",
       "        9.10218391e-01,  3.15219811e-01,  4.10833345e-01,  1.49880108e-15,\n",
       "        1.83296799e+00, -4.42564561e-01, -6.06699472e-01,  8.49148905e-01,\n",
       "       -3.56884841e-01, -1.82017688e-01,  7.20409233e-01, -7.01327427e-02,\n",
       "        4.87951051e-01, -5.26722149e-01,  1.43655185e+00, -8.09687055e-01,\n",
       "       -1.24499765e+00, -8.19848563e-02,  4.50429737e-01,  6.42827625e-01,\n",
       "       -5.91019310e-01, -1.07261862e-01, -3.75219565e-01])"
      ]
     },
     "execution_count": 88,
     "metadata": {},
     "output_type": "execute_result"
    }
   ],
   "source": [
    "lr.coef_"
   ]
  },
  {
   "cell_type": "code",
   "execution_count": 89,
   "metadata": {},
   "outputs": [
    {
     "data": {
      "text/plain": [
       "array([6.16772741, 6.10886526, 5.73039853, 7.11629524, 7.67506985,\n",
       "       6.8114197 , 6.94005163, 6.79308422, 4.596002  , 6.18241299,\n",
       "       7.61238841, 5.99912603, 7.75443638, 6.29331308, 5.34295303])"
      ]
     },
     "execution_count": 89,
     "metadata": {},
     "output_type": "execute_result"
    }
   ],
   "source": [
    "y_pred = lr.predict(X_test_combined)\n",
    "\n",
    "y_pred"
   ]
  },
  {
   "cell_type": "code",
   "execution_count": 90,
   "metadata": {},
   "outputs": [
    {
     "name": "stdout",
     "output_type": "stream",
     "text": [
      "RMSE: 1.03\n",
      "r2: -1.15\n"
     ]
    }
   ],
   "source": [
    "from sklearn.metrics import mean_squared_error, r2_score\n",
    "\n",
    "rmse = np.sqrt(mean_squared_error(y_test, y_pred))\n",
    "\n",
    "r2 = r2_score(y_test, y_pred)\n",
    "\n",
    "print(f'RMSE: {rmse:.2f}\\nr2: {r2:.2f}')"
   ]
  },
  {
   "cell_type": "code",
   "execution_count": 91,
   "metadata": {},
   "outputs": [
    {
     "name": "stdout",
     "output_type": "stream",
     "text": [
      "-1.1502689319265942\n"
     ]
    }
   ],
   "source": [
    "print(r2)"
   ]
  },
  {
   "cell_type": "code",
   "execution_count": 92,
   "metadata": {},
   "outputs": [
    {
     "data": {
      "text/plain": [
       "-1.1502689319265942"
      ]
     },
     "execution_count": 92,
     "metadata": {},
     "output_type": "execute_result"
    }
   ],
   "source": [
    "score = lr.score(X_test_combined, y_test) \n",
    "score"
   ]
  },
  {
   "cell_type": "markdown",
   "metadata": {},
   "source": [
    "# Focus on building up from fewer features\n",
    "for instance the continous ones"
   ]
  },
  {
   "cell_type": "markdown",
   "metadata": {},
   "source": [
    "### Train Test Split"
   ]
  },
  {
   "cell_type": "code",
   "execution_count": 93,
   "metadata": {},
   "outputs": [
    {
     "data": {
      "text/plain": [
       "Index(['title', 'year', 'duration', 'cinematographer', 'documentary',\n",
       "       'tv_series', 'rating', 'rating_count', 'Leo G. Carroll', 'John Longden',\n",
       "       'Edmund Gwenn', 'Gordon Harker', 'James Stewart', 'Hannah Jones',\n",
       "       'Donald Calthrop', 'Cary Grant', 'Edward Chapman', 'Basil Radford',\n",
       "       'George Curzon', 'Leslie Banks', 'Grace Kelly', 'Ian Hunter',\n",
       "       'Patricia Hitchcock', 'Isabel Jeans', 'Ingrid Bergman',\n",
       "       'Percy Marmont'],\n",
       "      dtype='object')"
      ]
     },
     "execution_count": 93,
     "metadata": {},
     "output_type": "execute_result"
    }
   ],
   "source": [
    "films_and_features_to_analyze_df.columns # review columns we start with"
   ]
  },
  {
   "cell_type": "code",
   "execution_count": 94,
   "metadata": {},
   "outputs": [],
   "source": [
    "selected_cols = ['year', 'duration', 'rating_count']"
   ]
  },
  {
   "cell_type": "code",
   "execution_count": 95,
   "metadata": {},
   "outputs": [],
   "source": [
    "X= films_and_features_to_analyze_df[selected_cols]\n",
    "y= films_and_features_to_analyze_df['rating']"
   ]
  },
  {
   "cell_type": "code",
   "execution_count": 96,
   "metadata": {},
   "outputs": [],
   "source": [
    "X_train, X_test, y_train, y_test = train_test_split(X, y)"
   ]
  },
  {
   "cell_type": "markdown",
   "metadata": {},
   "source": [
    "### Preprocessing"
   ]
  },
  {
   "cell_type": "markdown",
   "metadata": {},
   "source": [
    "## For now, ignore these categorical variables"
   ]
  },
  {
   "cell_type": "markdown",
   "metadata": {},
   "source": [
    "#### Categorical Variable Preprocessing"
   ]
  },
  {
   "cell_type": "raw",
   "metadata": {},
   "source": [
    "cat_ohe_vars = ['cinematographer']\n",
    "X_train_cat_ohe = X_train[cat_ohe_vars]\n",
    "#X_train_cat_ohe "
   ]
  },
  {
   "cell_type": "markdown",
   "metadata": {},
   "source": [
    "#### OneHotEncoding"
   ]
  },
  {
   "cell_type": "raw",
   "metadata": {},
   "source": [
    "#ohe = OneHotEncoder(sparse=False, drop='first')\n",
    "ohe = OneHotEncoder(sparse=False,  handle_unknown='ignore')\n",
    "ohe.fit(X_train_cat_ohe)\n",
    "cats_ohe = ohe.transform(X_train_cat_ohe)\n"
   ]
  },
  {
   "cell_type": "raw",
   "metadata": {},
   "source": [
    "columns=ohe.get_feature_names(cat_vars_ohe)\n",
    "\n",
    "columns"
   ]
  },
  {
   "cell_type": "raw",
   "metadata": {},
   "source": [
    "X_train_cat_ohe_df = pd.DataFrame(cats_ohe, columns=columns, index=X_train_cat_ohe.index)\n",
    "X_train_cat_ohe_df.head()"
   ]
  },
  {
   "cell_type": "markdown",
   "metadata": {},
   "source": [
    "#### Repeating transformations on testing set"
   ]
  },
  {
   "cell_type": "raw",
   "metadata": {},
   "source": [
    "X_test_cat_ohe = X_test[['cinematographer']]\n",
    "X_test_cat_ohe\n",
    "cats_ohe_test = ohe.transform(X_test_cat_ohe)\n",
    "\n",
    "cat_ohe_columns = ohe.get_feature_names(['cinematographer'])\n",
    "X_test_cat_ohe_df = pd.DataFrame(cats_ohe_test, columns=cat_ohe_columns)"
   ]
  },
  {
   "cell_type": "markdown",
   "metadata": {},
   "source": [
    "### Continous Variable Preprocessing"
   ]
  },
  {
   "cell_type": "markdown",
   "metadata": {},
   "source": [
    "#### Select continuous variables from training set"
   ]
  },
  {
   "cell_type": "code",
   "execution_count": 97,
   "metadata": {},
   "outputs": [
    {
     "data": {
      "text/html": [
       "<div>\n",
       "<style scoped>\n",
       "    .dataframe tbody tr th:only-of-type {\n",
       "        vertical-align: middle;\n",
       "    }\n",
       "\n",
       "    .dataframe tbody tr th {\n",
       "        vertical-align: top;\n",
       "    }\n",
       "\n",
       "    .dataframe thead th {\n",
       "        text-align: right;\n",
       "    }\n",
       "</style>\n",
       "<table border=\"1\" class=\"dataframe\">\n",
       "  <thead>\n",
       "    <tr style=\"text-align: right;\">\n",
       "      <th></th>\n",
       "      <th>year</th>\n",
       "      <th>duration</th>\n",
       "      <th>rating_count</th>\n",
       "    </tr>\n",
       "  </thead>\n",
       "  <tbody>\n",
       "    <tr>\n",
       "      <th>55</th>\n",
       "      <td>1930.0</td>\n",
       "      <td>85.0</td>\n",
       "      <td>2066.0</td>\n",
       "    </tr>\n",
       "    <tr>\n",
       "      <th>45</th>\n",
       "      <td>1936.0</td>\n",
       "      <td>76.0</td>\n",
       "      <td>14941.0</td>\n",
       "    </tr>\n",
       "    <tr>\n",
       "      <th>5</th>\n",
       "      <td>1966.0</td>\n",
       "      <td>128.0</td>\n",
       "      <td>24727.0</td>\n",
       "    </tr>\n",
       "    <tr>\n",
       "      <th>66</th>\n",
       "      <td>1927.0</td>\n",
       "      <td>92.0</td>\n",
       "      <td>10391.0</td>\n",
       "    </tr>\n",
       "    <tr>\n",
       "      <th>49</th>\n",
       "      <td>1934.0</td>\n",
       "      <td>80.0</td>\n",
       "      <td>1285.0</td>\n",
       "    </tr>\n",
       "  </tbody>\n",
       "</table>\n",
       "</div>"
      ],
      "text/plain": [
       "      year  duration  rating_count\n",
       "55  1930.0      85.0        2066.0\n",
       "45  1936.0      76.0       14941.0\n",
       "5   1966.0     128.0       24727.0\n",
       "66  1927.0      92.0       10391.0\n",
       "49  1934.0      80.0        1285.0"
      ]
     },
     "execution_count": 97,
     "metadata": {},
     "output_type": "execute_result"
    }
   ],
   "source": [
    "X_train_cont = X_train[['year', 'duration', 'rating_count']]\n",
    "X_train_cont.head()\n",
    "\n"
   ]
  },
  {
   "cell_type": "markdown",
   "metadata": {},
   "source": [
    "####  scale the continuous variables in the train set"
   ]
  },
  {
   "cell_type": "code",
   "execution_count": 98,
   "metadata": {},
   "outputs": [
    {
     "data": {
      "text/html": [
       "<div>\n",
       "<style scoped>\n",
       "    .dataframe tbody tr th:only-of-type {\n",
       "        vertical-align: middle;\n",
       "    }\n",
       "\n",
       "    .dataframe tbody tr th {\n",
       "        vertical-align: top;\n",
       "    }\n",
       "\n",
       "    .dataframe thead th {\n",
       "        text-align: right;\n",
       "    }\n",
       "</style>\n",
       "<table border=\"1\" class=\"dataframe\">\n",
       "  <thead>\n",
       "    <tr style=\"text-align: right;\">\n",
       "      <th></th>\n",
       "      <th>year</th>\n",
       "      <th>duration</th>\n",
       "      <th>rating_count</th>\n",
       "    </tr>\n",
       "  </thead>\n",
       "  <tbody>\n",
       "    <tr>\n",
       "      <th>55</th>\n",
       "      <td>-1.005968</td>\n",
       "      <td>-0.672117</td>\n",
       "      <td>-0.542831</td>\n",
       "    </tr>\n",
       "    <tr>\n",
       "      <th>45</th>\n",
       "      <td>-0.566467</td>\n",
       "      <td>-1.123538</td>\n",
       "      <td>-0.407217</td>\n",
       "    </tr>\n",
       "    <tr>\n",
       "      <th>5</th>\n",
       "      <td>1.631035</td>\n",
       "      <td>1.484676</td>\n",
       "      <td>-0.304140</td>\n",
       "    </tr>\n",
       "    <tr>\n",
       "      <th>66</th>\n",
       "      <td>-1.225718</td>\n",
       "      <td>-0.321011</td>\n",
       "      <td>-0.455143</td>\n",
       "    </tr>\n",
       "    <tr>\n",
       "      <th>49</th>\n",
       "      <td>-0.712967</td>\n",
       "      <td>-0.922907</td>\n",
       "      <td>-0.551058</td>\n",
       "    </tr>\n",
       "  </tbody>\n",
       "</table>\n",
       "</div>"
      ],
      "text/plain": [
       "        year  duration  rating_count\n",
       "55 -1.005968 -0.672117     -0.542831\n",
       "45 -0.566467 -1.123538     -0.407217\n",
       "5   1.631035  1.484676     -0.304140\n",
       "66 -1.225718 -0.321011     -0.455143\n",
       "49 -0.712967 -0.922907     -0.551058"
      ]
     },
     "execution_count": 98,
     "metadata": {},
     "output_type": "execute_result"
    }
   ],
   "source": [
    "from sklearn.preprocessing import StandardScaler\n",
    "\n",
    "ss = StandardScaler()\n",
    "\n",
    "ss.fit(X_train_cont)\n",
    "X_train_scaled = ss.transform(X_train_cont)\n",
    "\n",
    "cont_columns = X_train_cont.columns\n",
    "X_train_scaled_df = pd.DataFrame(X_train_scaled, columns=cont_columns, index=X_train_cont.index)\n",
    "\n",
    "X_train_scaled_df.head()\n"
   ]
  },
  {
   "cell_type": "markdown",
   "metadata": {},
   "source": [
    "#### select and scale the continuous variables in the test set"
   ]
  },
  {
   "cell_type": "code",
   "execution_count": 99,
   "metadata": {},
   "outputs": [
    {
     "data": {
      "text/html": [
       "<div>\n",
       "<style scoped>\n",
       "    .dataframe tbody tr th:only-of-type {\n",
       "        vertical-align: middle;\n",
       "    }\n",
       "\n",
       "    .dataframe tbody tr th {\n",
       "        vertical-align: top;\n",
       "    }\n",
       "\n",
       "    .dataframe thead th {\n",
       "        text-align: right;\n",
       "    }\n",
       "</style>\n",
       "<table border=\"1\" class=\"dataframe\">\n",
       "  <thead>\n",
       "    <tr style=\"text-align: right;\">\n",
       "      <th></th>\n",
       "      <th>year</th>\n",
       "      <th>duration</th>\n",
       "      <th>rating_count</th>\n",
       "    </tr>\n",
       "  </thead>\n",
       "  <tbody>\n",
       "    <tr>\n",
       "      <th>6</th>\n",
       "      <td>1964.0</td>\n",
       "      <td>130.0</td>\n",
       "      <td>45220.0</td>\n",
       "    </tr>\n",
       "    <tr>\n",
       "      <th>8</th>\n",
       "      <td>1962.0</td>\n",
       "      <td>50.0</td>\n",
       "      <td>3877.0</td>\n",
       "    </tr>\n",
       "    <tr>\n",
       "      <th>17</th>\n",
       "      <td>1956.0</td>\n",
       "      <td>120.0</td>\n",
       "      <td>58462.0</td>\n",
       "    </tr>\n",
       "    <tr>\n",
       "      <th>51</th>\n",
       "      <td>1931.0</td>\n",
       "      <td>83.0</td>\n",
       "      <td>3973.0</td>\n",
       "    </tr>\n",
       "    <tr>\n",
       "      <th>33</th>\n",
       "      <td>1944.0</td>\n",
       "      <td>32.0</td>\n",
       "      <td>1448.0</td>\n",
       "    </tr>\n",
       "  </tbody>\n",
       "</table>\n",
       "</div>"
      ],
      "text/plain": [
       "      year  duration  rating_count\n",
       "6   1964.0     130.0       45220.0\n",
       "8   1962.0      50.0        3877.0\n",
       "17  1956.0     120.0       58462.0\n",
       "51  1931.0      83.0        3973.0\n",
       "33  1944.0      32.0        1448.0"
      ]
     },
     "execution_count": 99,
     "metadata": {},
     "output_type": "execute_result"
    }
   ],
   "source": [
    "X_test_cont = X_test[['year', 'duration', 'rating_count']]\n",
    "X_test_cont.head()"
   ]
  },
  {
   "cell_type": "code",
   "execution_count": 100,
   "metadata": {},
   "outputs": [
    {
     "data": {
      "text/html": [
       "<div>\n",
       "<style scoped>\n",
       "    .dataframe tbody tr th:only-of-type {\n",
       "        vertical-align: middle;\n",
       "    }\n",
       "\n",
       "    .dataframe tbody tr th {\n",
       "        vertical-align: top;\n",
       "    }\n",
       "\n",
       "    .dataframe thead th {\n",
       "        text-align: right;\n",
       "    }\n",
       "</style>\n",
       "<table border=\"1\" class=\"dataframe\">\n",
       "  <thead>\n",
       "    <tr style=\"text-align: right;\">\n",
       "      <th></th>\n",
       "      <th>year</th>\n",
       "      <th>duration</th>\n",
       "      <th>rating_count</th>\n",
       "    </tr>\n",
       "  </thead>\n",
       "  <tbody>\n",
       "    <tr>\n",
       "      <th>6</th>\n",
       "      <td>1.484535</td>\n",
       "      <td>1.584992</td>\n",
       "      <td>-0.088284</td>\n",
       "    </tr>\n",
       "    <tr>\n",
       "      <th>8</th>\n",
       "      <td>1.338035</td>\n",
       "      <td>-2.427646</td>\n",
       "      <td>-0.523756</td>\n",
       "    </tr>\n",
       "    <tr>\n",
       "      <th>17</th>\n",
       "      <td>0.898534</td>\n",
       "      <td>1.083412</td>\n",
       "      <td>0.051196</td>\n",
       "    </tr>\n",
       "    <tr>\n",
       "      <th>51</th>\n",
       "      <td>-0.932718</td>\n",
       "      <td>-0.772433</td>\n",
       "      <td>-0.522745</td>\n",
       "    </tr>\n",
       "    <tr>\n",
       "      <th>33</th>\n",
       "      <td>0.019533</td>\n",
       "      <td>-3.330489</td>\n",
       "      <td>-0.549341</td>\n",
       "    </tr>\n",
       "  </tbody>\n",
       "</table>\n",
       "</div>"
      ],
      "text/plain": [
       "        year  duration  rating_count\n",
       "6   1.484535  1.584992     -0.088284\n",
       "8   1.338035 -2.427646     -0.523756\n",
       "17  0.898534  1.083412      0.051196\n",
       "51 -0.932718 -0.772433     -0.522745\n",
       "33  0.019533 -3.330489     -0.549341"
      ]
     },
     "execution_count": 100,
     "metadata": {},
     "output_type": "execute_result"
    }
   ],
   "source": [
    "X_test_scaled = ss.transform(X_test_cont)\n",
    "\n",
    "cont_columns = X_test_cont.columns\n",
    "X_test_scaled_df = pd.DataFrame(X_test_scaled, columns=cont_columns, index=X_test_cont.index)\n",
    "\n",
    "X_test_scaled_df.head()"
   ]
  },
  {
   "cell_type": "markdown",
   "metadata": {},
   "source": [
    "### Combine the continuous, categorical, and ohe cat features for our testing set\n"
   ]
  },
  {
   "cell_type": "markdown",
   "metadata": {},
   "source": [
    "## for now, ignore these categorical variables"
   ]
  },
  {
   "cell_type": "code",
   "execution_count": null,
   "metadata": {},
   "outputs": [],
   "source": []
  },
  {
   "cell_type": "raw",
   "metadata": {},
   "source": [
    "cat_columns = ['documentary', 'tv_series', *selected_actor_columns]\n",
    "X_train_cat_df = X_train[cat_columns]\n"
   ]
  },
  {
   "cell_type": "code",
   "execution_count": null,
   "metadata": {},
   "outputs": [],
   "source": []
  },
  {
   "cell_type": "markdown",
   "metadata": {},
   "source": [
    "## 'combine' will really just be the continuous variables"
   ]
  },
  {
   "cell_type": "code",
   "execution_count": 101,
   "metadata": {},
   "outputs": [
    {
     "data": {
      "text/html": [
       "<div>\n",
       "<style scoped>\n",
       "    .dataframe tbody tr th:only-of-type {\n",
       "        vertical-align: middle;\n",
       "    }\n",
       "\n",
       "    .dataframe tbody tr th {\n",
       "        vertical-align: top;\n",
       "    }\n",
       "\n",
       "    .dataframe thead th {\n",
       "        text-align: right;\n",
       "    }\n",
       "</style>\n",
       "<table border=\"1\" class=\"dataframe\">\n",
       "  <thead>\n",
       "    <tr style=\"text-align: right;\">\n",
       "      <th></th>\n",
       "      <th>year</th>\n",
       "      <th>duration</th>\n",
       "      <th>rating_count</th>\n",
       "    </tr>\n",
       "  </thead>\n",
       "  <tbody>\n",
       "    <tr>\n",
       "      <th>0</th>\n",
       "      <td>-1.005968</td>\n",
       "      <td>-0.672117</td>\n",
       "      <td>-0.542831</td>\n",
       "    </tr>\n",
       "    <tr>\n",
       "      <th>1</th>\n",
       "      <td>-0.566467</td>\n",
       "      <td>-1.123538</td>\n",
       "      <td>-0.407217</td>\n",
       "    </tr>\n",
       "    <tr>\n",
       "      <th>2</th>\n",
       "      <td>1.631035</td>\n",
       "      <td>1.484676</td>\n",
       "      <td>-0.304140</td>\n",
       "    </tr>\n",
       "    <tr>\n",
       "      <th>3</th>\n",
       "      <td>-1.225718</td>\n",
       "      <td>-0.321011</td>\n",
       "      <td>-0.455143</td>\n",
       "    </tr>\n",
       "    <tr>\n",
       "      <th>4</th>\n",
       "      <td>-0.712967</td>\n",
       "      <td>-0.922907</td>\n",
       "      <td>-0.551058</td>\n",
       "    </tr>\n",
       "  </tbody>\n",
       "</table>\n",
       "</div>"
      ],
      "text/plain": [
       "       year  duration  rating_count\n",
       "0 -1.005968 -0.672117     -0.542831\n",
       "1 -0.566467 -1.123538     -0.407217\n",
       "2  1.631035  1.484676     -0.304140\n",
       "3 -1.225718 -0.321011     -0.455143\n",
       "4 -0.712967 -0.922907     -0.551058"
      ]
     },
     "execution_count": 101,
     "metadata": {},
     "output_type": "execute_result"
    }
   ],
   "source": [
    "X_train_combined = pd.concat([X_train_scaled_df.reset_index(drop=True)], axis='columns')\n",
    "\n",
    "X_train_combined.head()"
   ]
  },
  {
   "cell_type": "code",
   "execution_count": 102,
   "metadata": {},
   "outputs": [
    {
     "data": {
      "text/plain": [
       "(45, 3)"
      ]
     },
     "execution_count": 102,
     "metadata": {},
     "output_type": "execute_result"
    }
   ],
   "source": [
    "X_train_combined.shape"
   ]
  },
  {
   "cell_type": "markdown",
   "metadata": {},
   "source": [
    "### Combine the continuous and categorical features for our testing set\n"
   ]
  },
  {
   "cell_type": "raw",
   "metadata": {},
   "source": [
    "X_test_cat_df = X_test[cat_columns]"
   ]
  },
  {
   "cell_type": "raw",
   "metadata": {},
   "source": [
    "X_test_scaled_df.shape[0] == X_test_cat_df.shape[0] == X_test_cat_ohe_df.shape[0]\n"
   ]
  },
  {
   "cell_type": "code",
   "execution_count": 103,
   "metadata": {},
   "outputs": [
    {
     "data": {
      "text/html": [
       "<div>\n",
       "<style scoped>\n",
       "    .dataframe tbody tr th:only-of-type {\n",
       "        vertical-align: middle;\n",
       "    }\n",
       "\n",
       "    .dataframe tbody tr th {\n",
       "        vertical-align: top;\n",
       "    }\n",
       "\n",
       "    .dataframe thead th {\n",
       "        text-align: right;\n",
       "    }\n",
       "</style>\n",
       "<table border=\"1\" class=\"dataframe\">\n",
       "  <thead>\n",
       "    <tr style=\"text-align: right;\">\n",
       "      <th></th>\n",
       "      <th>year</th>\n",
       "      <th>duration</th>\n",
       "      <th>rating_count</th>\n",
       "    </tr>\n",
       "  </thead>\n",
       "  <tbody>\n",
       "    <tr>\n",
       "      <th>0</th>\n",
       "      <td>1.484535</td>\n",
       "      <td>1.584992</td>\n",
       "      <td>-0.088284</td>\n",
       "    </tr>\n",
       "    <tr>\n",
       "      <th>1</th>\n",
       "      <td>1.338035</td>\n",
       "      <td>-2.427646</td>\n",
       "      <td>-0.523756</td>\n",
       "    </tr>\n",
       "    <tr>\n",
       "      <th>2</th>\n",
       "      <td>0.898534</td>\n",
       "      <td>1.083412</td>\n",
       "      <td>0.051196</td>\n",
       "    </tr>\n",
       "    <tr>\n",
       "      <th>3</th>\n",
       "      <td>-0.932718</td>\n",
       "      <td>-0.772433</td>\n",
       "      <td>-0.522745</td>\n",
       "    </tr>\n",
       "    <tr>\n",
       "      <th>4</th>\n",
       "      <td>0.019533</td>\n",
       "      <td>-3.330489</td>\n",
       "      <td>-0.549341</td>\n",
       "    </tr>\n",
       "    <tr>\n",
       "      <th>5</th>\n",
       "      <td>-0.639717</td>\n",
       "      <td>-0.672117</td>\n",
       "      <td>-0.559147</td>\n",
       "    </tr>\n",
       "    <tr>\n",
       "      <th>6</th>\n",
       "      <td>-0.273467</td>\n",
       "      <td>-0.521643</td>\n",
       "      <td>-0.559958</td>\n",
       "    </tr>\n",
       "    <tr>\n",
       "      <th>7</th>\n",
       "      <td>0.092783</td>\n",
       "      <td>0.631990</td>\n",
       "      <td>-0.107296</td>\n",
       "    </tr>\n",
       "    <tr>\n",
       "      <th>8</th>\n",
       "      <td>-1.225718</td>\n",
       "      <td>-1.223854</td>\n",
       "      <td>-0.541409</td>\n",
       "    </tr>\n",
       "    <tr>\n",
       "      <th>9</th>\n",
       "      <td>0.532284</td>\n",
       "      <td>0.130411</td>\n",
       "      <td>0.733291</td>\n",
       "    </tr>\n",
       "    <tr>\n",
       "      <th>10</th>\n",
       "      <td>-0.566467</td>\n",
       "      <td>-0.621959</td>\n",
       "      <td>-0.482782</td>\n",
       "    </tr>\n",
       "    <tr>\n",
       "      <th>11</th>\n",
       "      <td>1.191535</td>\n",
       "      <td>0.531674</td>\n",
       "      <td>5.789348</td>\n",
       "    </tr>\n",
       "    <tr>\n",
       "      <th>12</th>\n",
       "      <td>0.239284</td>\n",
       "      <td>1.334202</td>\n",
       "      <td>-0.458050</td>\n",
       "    </tr>\n",
       "    <tr>\n",
       "      <th>13</th>\n",
       "      <td>0.385784</td>\n",
       "      <td>0.932938</td>\n",
       "      <td>-0.496791</td>\n",
       "    </tr>\n",
       "    <tr>\n",
       "      <th>14</th>\n",
       "      <td>-1.005968</td>\n",
       "      <td>-0.621959</td>\n",
       "      <td>-0.560969</td>\n",
       "    </tr>\n",
       "  </tbody>\n",
       "</table>\n",
       "</div>"
      ],
      "text/plain": [
       "        year  duration  rating_count\n",
       "0   1.484535  1.584992     -0.088284\n",
       "1   1.338035 -2.427646     -0.523756\n",
       "2   0.898534  1.083412      0.051196\n",
       "3  -0.932718 -0.772433     -0.522745\n",
       "4   0.019533 -3.330489     -0.549341\n",
       "5  -0.639717 -0.672117     -0.559147\n",
       "6  -0.273467 -0.521643     -0.559958\n",
       "7   0.092783  0.631990     -0.107296\n",
       "8  -1.225718 -1.223854     -0.541409\n",
       "9   0.532284  0.130411      0.733291\n",
       "10 -0.566467 -0.621959     -0.482782\n",
       "11  1.191535  0.531674      5.789348\n",
       "12  0.239284  1.334202     -0.458050\n",
       "13  0.385784  0.932938     -0.496791\n",
       "14 -1.005968 -0.621959     -0.560969"
      ]
     },
     "execution_count": 103,
     "metadata": {},
     "output_type": "execute_result"
    }
   ],
   "source": [
    "#X_test_combined = pd.concat([X_test_scaled_df.reset_index(drop=True), X_test_cat_ohe_df.reset_index(drop=True), X_test_cat_df.reset_index(drop=True) ], axis=1)\n",
    "X_test_combined = pd.concat([X_test_scaled_df.reset_index(drop=True) ], axis=1)\n",
    "\n",
    "X_test_combined"
   ]
  },
  {
   "cell_type": "markdown",
   "metadata": {},
   "source": [
    "### Now make predictions by instantiating the Linear Regression Model "
   ]
  },
  {
   "cell_type": "code",
   "execution_count": 104,
   "metadata": {},
   "outputs": [],
   "source": [
    "#X_train_combined"
   ]
  },
  {
   "cell_type": "code",
   "execution_count": 105,
   "metadata": {},
   "outputs": [
    {
     "data": {
      "text/plain": [
       "LinearRegression()"
      ]
     },
     "execution_count": 105,
     "metadata": {},
     "output_type": "execute_result"
    }
   ],
   "source": [
    "lr = LinearRegression()\n",
    "\n",
    "lr.fit(X_train_combined,y_train)"
   ]
  },
  {
   "cell_type": "code",
   "execution_count": 106,
   "metadata": {},
   "outputs": [
    {
     "data": {
      "text/plain": [
       "array([0.24001229, 0.00209953, 0.46337215])"
      ]
     },
     "execution_count": 106,
     "metadata": {},
     "output_type": "execute_result"
    }
   ],
   "source": [
    "lr.coef_"
   ]
  },
  {
   "cell_type": "code",
   "execution_count": 107,
   "metadata": {},
   "outputs": [
    {
     "data": {
      "text/plain": [
       "array([7.28761497, 7.04224297, 7.21054563, 6.50117819, 6.71203549,\n",
       "       6.55484456, 6.64268926, 6.94276686, 6.42125802, 7.43670392,\n",
       "       6.60791634, 9.93861052, 6.81687351, 6.83324143, 6.4662009 ])"
      ]
     },
     "execution_count": 107,
     "metadata": {},
     "output_type": "execute_result"
    }
   ],
   "source": [
    "\n",
    "y_pred = lr.predict(X_test_combined)\n",
    "\n",
    "y_pred"
   ]
  },
  {
   "cell_type": "code",
   "execution_count": 108,
   "metadata": {},
   "outputs": [
    {
     "name": "stdout",
     "output_type": "stream",
     "text": [
      "RMSE: 0.81\n",
      "r2: 0.37\n"
     ]
    }
   ],
   "source": [
    "from sklearn.metrics import mean_squared_error, r2_score\n",
    "\n",
    "rmse = np.sqrt(mean_squared_error(y_test, y_pred))\n",
    "\n",
    "r2 = r2_score(y_test, y_pred)\n",
    "\n",
    "print(f'RMSE: {rmse:.2f}\\nr2: {r2:.2f}')"
   ]
  },
  {
   "cell_type": "code",
   "execution_count": 109,
   "metadata": {},
   "outputs": [
    {
     "data": {
      "text/plain": [
       "0.37316612062388377"
      ]
     },
     "execution_count": 109,
     "metadata": {},
     "output_type": "execute_result"
    }
   ],
   "source": [
    "score = lr.score(X_test_combined, y_test) \n",
    "score"
   ]
  },
  {
   "cell_type": "code",
   "execution_count": null,
   "metadata": {},
   "outputs": [],
   "source": []
  },
  {
   "cell_type": "markdown",
   "metadata": {},
   "source": [
    "## Try to fit with just the year"
   ]
  },
  {
   "cell_type": "code",
   "execution_count": 110,
   "metadata": {},
   "outputs": [],
   "source": [
    "lr = LinearRegression()"
   ]
  },
  {
   "cell_type": "code",
   "execution_count": null,
   "metadata": {},
   "outputs": [],
   "source": []
  },
  {
   "cell_type": "code",
   "execution_count": 111,
   "metadata": {},
   "outputs": [],
   "source": [
    "X_train_year_only = X_train_combined.iloc[:, :1]"
   ]
  },
  {
   "cell_type": "code",
   "execution_count": 112,
   "metadata": {},
   "outputs": [],
   "source": [
    "X_test_year_only = X_test_combined.iloc[:, :1]"
   ]
  },
  {
   "cell_type": "code",
   "execution_count": 113,
   "metadata": {},
   "outputs": [],
   "source": [
    "#X_train_year_only "
   ]
  },
  {
   "cell_type": "code",
   "execution_count": 114,
   "metadata": {},
   "outputs": [
    {
     "data": {
      "text/plain": [
       "LinearRegression()"
      ]
     },
     "execution_count": 114,
     "metadata": {},
     "output_type": "execute_result"
    }
   ],
   "source": [
    "lr.fit(X_train_year_only, y_train)"
   ]
  },
  {
   "cell_type": "code",
   "execution_count": 115,
   "metadata": {},
   "outputs": [
    {
     "data": {
      "text/plain": [
       "array([0.41496443])"
      ]
     },
     "execution_count": 115,
     "metadata": {},
     "output_type": "execute_result"
    }
   ],
   "source": [
    "lr.coef_"
   ]
  },
  {
   "cell_type": "code",
   "execution_count": 116,
   "metadata": {},
   "outputs": [
    {
     "data": {
      "text/plain": [
       "array([7.5849181 , 7.52412574, 7.34174867, 6.58184422, 6.97699454,\n",
       "       6.70342893, 6.85540982, 7.00739071, 6.46025951, 7.18976778,\n",
       "       6.73382511, 7.46333339, 7.06818307, 7.12897543, 6.55144804])"
      ]
     },
     "execution_count": 116,
     "metadata": {},
     "output_type": "execute_result"
    }
   ],
   "source": [
    "y_pred = lr.predict(X_test_year_only)\n",
    "\n",
    "y_pred"
   ]
  },
  {
   "cell_type": "code",
   "execution_count": 117,
   "metadata": {},
   "outputs": [
    {
     "data": {
      "text/plain": [
       "6     7.2\n",
       "8     8.5\n",
       "17    7.4\n",
       "51    5.8\n",
       "33    5.5\n",
       "48    5.5\n",
       "41    6.5\n",
       "30    7.6\n",
       "65    6.1\n",
       "24    7.9\n",
       "46    6.5\n",
       "10    8.5\n",
       "28    6.6\n",
       "26    6.2\n",
       "57    5.3\n",
       "Name: rating, dtype: float64"
      ]
     },
     "execution_count": 117,
     "metadata": {},
     "output_type": "execute_result"
    }
   ],
   "source": [
    "y_test"
   ]
  },
  {
   "cell_type": "code",
   "execution_count": 118,
   "metadata": {},
   "outputs": [],
   "source": [
    "#y_test"
   ]
  },
  {
   "cell_type": "code",
   "execution_count": 119,
   "metadata": {},
   "outputs": [],
   "source": [
    "from sklearn.metrics import mean_squared_error, r2_score\n",
    "\n",
    "rmse = np.sqrt(mean_squared_error(y_test, y_pred))"
   ]
  },
  {
   "cell_type": "code",
   "execution_count": null,
   "metadata": {},
   "outputs": [],
   "source": []
  },
  {
   "cell_type": "code",
   "execution_count": 120,
   "metadata": {},
   "outputs": [
    {
     "name": "stdout",
     "output_type": "stream",
     "text": [
      "RMSE: 0.83\n",
      "r2: 0.35\n"
     ]
    }
   ],
   "source": [
    "r2 = r2_score(y_test, y_pred)\n",
    "\n",
    "print(f'RMSE: {rmse:.2f}\\nr2: {r2:.2f}')"
   ]
  },
  {
   "cell_type": "code",
   "execution_count": null,
   "metadata": {},
   "outputs": [],
   "source": []
  },
  {
   "cell_type": "markdown",
   "metadata": {},
   "source": [
    "## Try to fit with just the `year` and `duration`\n"
   ]
  },
  {
   "cell_type": "code",
   "execution_count": 121,
   "metadata": {},
   "outputs": [
    {
     "name": "stdout",
     "output_type": "stream",
     "text": [
      "RMSE: 0.83\n",
      "r2: 0.35\n"
     ]
    }
   ],
   "source": [
    "lr = LinearRegression()\n",
    "\n",
    "X_train_year_dur_only = X_train_combined.iloc[:, :2]\n",
    "\n",
    "X_test_year_dur_only = X_test_combined.iloc[:, :2]\n",
    "\n",
    "#X_train_year_only \n",
    "\n",
    "lr.fit(X_train_year_dur_only, y_train)\n",
    "\n",
    "lr.coef_\n",
    "\n",
    "y_pred = lr.predict(X_test_year_dur_only)\n",
    "\n",
    "y_pred\n",
    "\n",
    "y_test\n",
    "\n",
    "#y_test\n",
    "\n",
    "from sklearn.metrics import mean_squared_error, r2_score\n",
    "\n",
    "rmse = np.sqrt(mean_squared_error(y_test, y_pred))\n",
    "\n",
    "\n",
    "\n",
    "r2 = r2_score(y_test, y_pred)\n",
    "\n",
    "print(f'RMSE: {rmse:.2f}\\nr2: {r2:.2f}')"
   ]
  },
  {
   "cell_type": "markdown",
   "metadata": {},
   "source": [
    "## Try to fit with just the `year` and `rating_count`"
   ]
  },
  {
   "cell_type": "code",
   "execution_count": 122,
   "metadata": {},
   "outputs": [
    {
     "data": {
      "text/html": [
       "<div>\n",
       "<style scoped>\n",
       "    .dataframe tbody tr th:only-of-type {\n",
       "        vertical-align: middle;\n",
       "    }\n",
       "\n",
       "    .dataframe tbody tr th {\n",
       "        vertical-align: top;\n",
       "    }\n",
       "\n",
       "    .dataframe thead th {\n",
       "        text-align: right;\n",
       "    }\n",
       "</style>\n",
       "<table border=\"1\" class=\"dataframe\">\n",
       "  <thead>\n",
       "    <tr style=\"text-align: right;\">\n",
       "      <th></th>\n",
       "      <th>year</th>\n",
       "      <th>rating_count</th>\n",
       "    </tr>\n",
       "  </thead>\n",
       "  <tbody>\n",
       "    <tr>\n",
       "      <th>0</th>\n",
       "      <td>-1.005968</td>\n",
       "      <td>-0.542831</td>\n",
       "    </tr>\n",
       "    <tr>\n",
       "      <th>1</th>\n",
       "      <td>-0.566467</td>\n",
       "      <td>-0.407217</td>\n",
       "    </tr>\n",
       "    <tr>\n",
       "      <th>2</th>\n",
       "      <td>1.631035</td>\n",
       "      <td>-0.304140</td>\n",
       "    </tr>\n",
       "    <tr>\n",
       "      <th>3</th>\n",
       "      <td>-1.225718</td>\n",
       "      <td>-0.455143</td>\n",
       "    </tr>\n",
       "    <tr>\n",
       "      <th>4</th>\n",
       "      <td>-0.712967</td>\n",
       "      <td>-0.551058</td>\n",
       "    </tr>\n",
       "    <tr>\n",
       "      <th>5</th>\n",
       "      <td>-0.200217</td>\n",
       "      <td>-0.219748</td>\n",
       "    </tr>\n",
       "    <tr>\n",
       "      <th>6</th>\n",
       "      <td>0.312534</td>\n",
       "      <td>0.800008</td>\n",
       "    </tr>\n",
       "    <tr>\n",
       "      <th>7</th>\n",
       "      <td>0.825284</td>\n",
       "      <td>0.121336</td>\n",
       "    </tr>\n",
       "    <tr>\n",
       "      <th>8</th>\n",
       "      <td>-0.419967</td>\n",
       "      <td>-0.066185</td>\n",
       "    </tr>\n",
       "    <tr>\n",
       "      <th>9</th>\n",
       "      <td>0.971784</td>\n",
       "      <td>-0.561212</td>\n",
       "    </tr>\n",
       "    <tr>\n",
       "      <th>10</th>\n",
       "      <td>0.752034</td>\n",
       "      <td>4.105351</td>\n",
       "    </tr>\n",
       "    <tr>\n",
       "      <th>11</th>\n",
       "      <td>1.118285</td>\n",
       "      <td>-0.563255</td>\n",
       "    </tr>\n",
       "    <tr>\n",
       "      <th>12</th>\n",
       "      <td>-1.079218</td>\n",
       "      <td>-0.537175</td>\n",
       "    </tr>\n",
       "    <tr>\n",
       "      <th>13</th>\n",
       "      <td>1.411285</td>\n",
       "      <td>1.242358</td>\n",
       "    </tr>\n",
       "    <tr>\n",
       "      <th>14</th>\n",
       "      <td>0.019533</td>\n",
       "      <td>-0.286244</td>\n",
       "    </tr>\n",
       "    <tr>\n",
       "      <th>15</th>\n",
       "      <td>-1.225718</td>\n",
       "      <td>-0.531340</td>\n",
       "    </tr>\n",
       "    <tr>\n",
       "      <th>16</th>\n",
       "      <td>-0.273467</td>\n",
       "      <td>-0.370235</td>\n",
       "    </tr>\n",
       "    <tr>\n",
       "      <th>17</th>\n",
       "      <td>-0.053717</td>\n",
       "      <td>0.061919</td>\n",
       "    </tr>\n",
       "    <tr>\n",
       "      <th>18</th>\n",
       "      <td>-0.346717</td>\n",
       "      <td>-0.468520</td>\n",
       "    </tr>\n",
       "    <tr>\n",
       "      <th>19</th>\n",
       "      <td>2.070536</td>\n",
       "      <td>-0.128268</td>\n",
       "    </tr>\n",
       "    <tr>\n",
       "      <th>20</th>\n",
       "      <td>-1.152468</td>\n",
       "      <td>-0.543263</td>\n",
       "    </tr>\n",
       "    <tr>\n",
       "      <th>21</th>\n",
       "      <td>-0.493217</td>\n",
       "      <td>-0.473650</td>\n",
       "    </tr>\n",
       "    <tr>\n",
       "      <th>22</th>\n",
       "      <td>-0.639717</td>\n",
       "      <td>-0.019344</td>\n",
       "    </tr>\n",
       "    <tr>\n",
       "      <th>23</th>\n",
       "      <td>-0.200217</td>\n",
       "      <td>-0.466308</td>\n",
       "    </tr>\n",
       "    <tr>\n",
       "      <th>24</th>\n",
       "      <td>-0.859468</td>\n",
       "      <td>-0.517941</td>\n",
       "    </tr>\n",
       "    <tr>\n",
       "      <th>25</th>\n",
       "      <td>-1.372218</td>\n",
       "      <td>-0.541736</td>\n",
       "    </tr>\n",
       "    <tr>\n",
       "      <th>26</th>\n",
       "      <td>-1.152468</td>\n",
       "      <td>-0.538302</td>\n",
       "    </tr>\n",
       "    <tr>\n",
       "      <th>27</th>\n",
       "      <td>-1.005968</td>\n",
       "      <td>-0.503690</td>\n",
       "    </tr>\n",
       "    <tr>\n",
       "      <th>28</th>\n",
       "      <td>0.678784</td>\n",
       "      <td>-0.363547</td>\n",
       "    </tr>\n",
       "    <tr>\n",
       "      <th>29</th>\n",
       "      <td>-0.932718</td>\n",
       "      <td>-0.557409</td>\n",
       "    </tr>\n",
       "    <tr>\n",
       "      <th>30</th>\n",
       "      <td>1.045034</td>\n",
       "      <td>3.266860</td>\n",
       "    </tr>\n",
       "    <tr>\n",
       "      <th>31</th>\n",
       "      <td>0.752034</td>\n",
       "      <td>1.099802</td>\n",
       "    </tr>\n",
       "    <tr>\n",
       "      <th>32</th>\n",
       "      <td>-0.932718</td>\n",
       "      <td>-0.534320</td>\n",
       "    </tr>\n",
       "    <tr>\n",
       "      <th>33</th>\n",
       "      <td>-0.126967</td>\n",
       "      <td>-0.318054</td>\n",
       "    </tr>\n",
       "    <tr>\n",
       "      <th>34</th>\n",
       "      <td>0.898534</td>\n",
       "      <td>-0.294365</td>\n",
       "    </tr>\n",
       "    <tr>\n",
       "      <th>35</th>\n",
       "      <td>-1.079218</td>\n",
       "      <td>-0.463085</td>\n",
       "    </tr>\n",
       "    <tr>\n",
       "      <th>36</th>\n",
       "      <td>1.118285</td>\n",
       "      <td>2.581910</td>\n",
       "    </tr>\n",
       "    <tr>\n",
       "      <th>37</th>\n",
       "      <td>-1.225718</td>\n",
       "      <td>-0.538007</td>\n",
       "    </tr>\n",
       "    <tr>\n",
       "      <th>38</th>\n",
       "      <td>0.459034</td>\n",
       "      <td>-0.430084</td>\n",
       "    </tr>\n",
       "    <tr>\n",
       "      <th>39</th>\n",
       "      <td>1.850785</td>\n",
       "      <td>-0.388542</td>\n",
       "    </tr>\n",
       "    <tr>\n",
       "      <th>40</th>\n",
       "      <td>2.363536</td>\n",
       "      <td>-0.345566</td>\n",
       "    </tr>\n",
       "    <tr>\n",
       "      <th>41</th>\n",
       "      <td>0.166034</td>\n",
       "      <td>0.406479</td>\n",
       "    </tr>\n",
       "    <tr>\n",
       "      <th>42</th>\n",
       "      <td>-0.273467</td>\n",
       "      <td>0.738673</td>\n",
       "    </tr>\n",
       "    <tr>\n",
       "      <th>43</th>\n",
       "      <td>-0.712967</td>\n",
       "      <td>-0.385677</td>\n",
       "    </tr>\n",
       "    <tr>\n",
       "      <th>44</th>\n",
       "      <td>0.825284</td>\n",
       "      <td>-0.209236</td>\n",
       "    </tr>\n",
       "  </tbody>\n",
       "</table>\n",
       "</div>"
      ],
      "text/plain": [
       "        year  rating_count\n",
       "0  -1.005968     -0.542831\n",
       "1  -0.566467     -0.407217\n",
       "2   1.631035     -0.304140\n",
       "3  -1.225718     -0.455143\n",
       "4  -0.712967     -0.551058\n",
       "5  -0.200217     -0.219748\n",
       "6   0.312534      0.800008\n",
       "7   0.825284      0.121336\n",
       "8  -0.419967     -0.066185\n",
       "9   0.971784     -0.561212\n",
       "10  0.752034      4.105351\n",
       "11  1.118285     -0.563255\n",
       "12 -1.079218     -0.537175\n",
       "13  1.411285      1.242358\n",
       "14  0.019533     -0.286244\n",
       "15 -1.225718     -0.531340\n",
       "16 -0.273467     -0.370235\n",
       "17 -0.053717      0.061919\n",
       "18 -0.346717     -0.468520\n",
       "19  2.070536     -0.128268\n",
       "20 -1.152468     -0.543263\n",
       "21 -0.493217     -0.473650\n",
       "22 -0.639717     -0.019344\n",
       "23 -0.200217     -0.466308\n",
       "24 -0.859468     -0.517941\n",
       "25 -1.372218     -0.541736\n",
       "26 -1.152468     -0.538302\n",
       "27 -1.005968     -0.503690\n",
       "28  0.678784     -0.363547\n",
       "29 -0.932718     -0.557409\n",
       "30  1.045034      3.266860\n",
       "31  0.752034      1.099802\n",
       "32 -0.932718     -0.534320\n",
       "33 -0.126967     -0.318054\n",
       "34  0.898534     -0.294365\n",
       "35 -1.079218     -0.463085\n",
       "36  1.118285      2.581910\n",
       "37 -1.225718     -0.538007\n",
       "38  0.459034     -0.430084\n",
       "39  1.850785     -0.388542\n",
       "40  2.363536     -0.345566\n",
       "41  0.166034      0.406479\n",
       "42 -0.273467      0.738673\n",
       "43 -0.712967     -0.385677\n",
       "44  0.825284     -0.209236"
      ]
     },
     "execution_count": 122,
     "metadata": {},
     "output_type": "execute_result"
    }
   ],
   "source": [
    "X_train_combined[['year', 'rating_count']]"
   ]
  },
  {
   "cell_type": "code",
   "execution_count": 123,
   "metadata": {},
   "outputs": [
    {
     "name": "stdout",
     "output_type": "stream",
     "text": [
      "RMSE: 0.81\n",
      "r2: 0.37\n"
     ]
    }
   ],
   "source": [
    "lr = LinearRegression()\n",
    "\n",
    "X_train_year_rc_only = X_train_combined[['year', 'rating_count']]\n",
    "\n",
    "X_test_year_rc_only = X_test_combined[['year', 'rating_count']]\n",
    "\n",
    "\n",
    "\n",
    "lr.fit(X_train_year_rc_only, y_train)\n",
    "\n",
    "lr.coef_\n",
    "\n",
    "y_pred = lr.predict(X_test_year_rc_only)\n",
    "\n",
    "y_pred\n",
    "\n",
    "y_test\n",
    "\n",
    "\n",
    "from sklearn.metrics import mean_squared_error, r2_score\n",
    "\n",
    "rmse = np.sqrt(mean_squared_error(y_test, y_pred))\n",
    "\n",
    "\n",
    "\n",
    "r2 = r2_score(y_test, y_pred)\n",
    "\n",
    "print(f'RMSE: {rmse:.2f}\\nr2: {r2:.2f}')"
   ]
  },
  {
   "cell_type": "markdown",
   "metadata": {},
   "source": [
    "## Feature engineer:  log(`year`) and and log(`rating_count`)"
   ]
  },
  {
   "cell_type": "markdown",
   "metadata": {},
   "source": [
    "####  scale the continuous variables in the train set"
   ]
  },
  {
   "cell_type": "code",
   "execution_count": 124,
   "metadata": {},
   "outputs": [],
   "source": [
    "X_train_cont_w_log = copy.deepcopy(X_train_cont) \n",
    "X_test_cont_w_log = copy.deepcopy(X_test_cont) \n",
    "\n",
    "X_train_cont_w_log['log_year'] = np.log(X_train_cont_w_log.year)\n",
    "X_test_cont_w_log['log_year'] = np.log(X_test_cont_w_log.year)\n",
    "\n",
    "X_train_cont_w_log['log_rating_count'] = np.log(X_train_cont_w_log.rating_count)\n",
    "X_test_cont_w_log['log_rating_count'] = np.log(X_test_cont_w_log.rating_count)"
   ]
  },
  {
   "cell_type": "code",
   "execution_count": 125,
   "metadata": {},
   "outputs": [
    {
     "data": {
      "text/html": [
       "<div>\n",
       "<style scoped>\n",
       "    .dataframe tbody tr th:only-of-type {\n",
       "        vertical-align: middle;\n",
       "    }\n",
       "\n",
       "    .dataframe tbody tr th {\n",
       "        vertical-align: top;\n",
       "    }\n",
       "\n",
       "    .dataframe thead th {\n",
       "        text-align: right;\n",
       "    }\n",
       "</style>\n",
       "<table border=\"1\" class=\"dataframe\">\n",
       "  <thead>\n",
       "    <tr style=\"text-align: right;\">\n",
       "      <th></th>\n",
       "      <th>year</th>\n",
       "      <th>duration</th>\n",
       "      <th>rating_count</th>\n",
       "      <th>log_year</th>\n",
       "      <th>log_rating_count</th>\n",
       "    </tr>\n",
       "  </thead>\n",
       "  <tbody>\n",
       "    <tr>\n",
       "      <th>55</th>\n",
       "      <td>-1.005968</td>\n",
       "      <td>-0.672117</td>\n",
       "      <td>-0.542831</td>\n",
       "      <td>-1.007890</td>\n",
       "      <td>-1.069728</td>\n",
       "    </tr>\n",
       "    <tr>\n",
       "      <th>45</th>\n",
       "      <td>-0.566467</td>\n",
       "      <td>-1.123538</td>\n",
       "      <td>-0.407217</td>\n",
       "      <td>-0.565134</td>\n",
       "      <td>0.021824</td>\n",
       "    </tr>\n",
       "    <tr>\n",
       "      <th>5</th>\n",
       "      <td>1.631035</td>\n",
       "      <td>1.484676</td>\n",
       "      <td>-0.304140</td>\n",
       "      <td>1.628263</td>\n",
       "      <td>0.299767</td>\n",
       "    </tr>\n",
       "    <tr>\n",
       "      <th>66</th>\n",
       "      <td>-1.225718</td>\n",
       "      <td>-0.321011</td>\n",
       "      <td>-0.455143</td>\n",
       "      <td>-1.229785</td>\n",
       "      <td>-0.178540</td>\n",
       "    </tr>\n",
       "    <tr>\n",
       "      <th>49</th>\n",
       "      <td>-0.712967</td>\n",
       "      <td>-0.922907</td>\n",
       "      <td>-0.551058</td>\n",
       "      <td>-0.712567</td>\n",
       "      <td>-1.331710</td>\n",
       "    </tr>\n",
       "  </tbody>\n",
       "</table>\n",
       "</div>"
      ],
      "text/plain": [
       "        year  duration  rating_count  log_year  log_rating_count\n",
       "55 -1.005968 -0.672117     -0.542831 -1.007890         -1.069728\n",
       "45 -0.566467 -1.123538     -0.407217 -0.565134          0.021824\n",
       "5   1.631035  1.484676     -0.304140  1.628263          0.299767\n",
       "66 -1.225718 -0.321011     -0.455143 -1.229785         -0.178540\n",
       "49 -0.712967 -0.922907     -0.551058 -0.712567         -1.331710"
      ]
     },
     "execution_count": 125,
     "metadata": {},
     "output_type": "execute_result"
    }
   ],
   "source": [
    "from sklearn.preprocessing import StandardScaler\n",
    "\n",
    "ss = StandardScaler()\n",
    "\n",
    "ss.fit(X_train_cont_w_log)\n",
    "X_train_scaled = ss.transform(X_train_cont_w_log)\n",
    "\n",
    "cont_columns = X_train_cont_w_log.columns\n",
    "#X_train_scaled_df = pd.DataFrame(X_train_scaled, columns=cont_columns, index=X_train_cont.index)\n",
    "X_train_scaled_df = pd.DataFrame(X_train_scaled, columns=cont_columns, index=X_train_cont_w_log.index)\n",
    "\n",
    "X_train_scaled_df.head()"
   ]
  },
  {
   "cell_type": "code",
   "execution_count": 126,
   "metadata": {},
   "outputs": [
    {
     "data": {
      "text/html": [
       "<div>\n",
       "<style scoped>\n",
       "    .dataframe tbody tr th:only-of-type {\n",
       "        vertical-align: middle;\n",
       "    }\n",
       "\n",
       "    .dataframe tbody tr th {\n",
       "        vertical-align: top;\n",
       "    }\n",
       "\n",
       "    .dataframe thead th {\n",
       "        text-align: right;\n",
       "    }\n",
       "</style>\n",
       "<table border=\"1\" class=\"dataframe\">\n",
       "  <thead>\n",
       "    <tr style=\"text-align: right;\">\n",
       "      <th></th>\n",
       "      <th>year</th>\n",
       "      <th>duration</th>\n",
       "      <th>rating_count</th>\n",
       "      <th>log_year</th>\n",
       "      <th>log_rating_count</th>\n",
       "    </tr>\n",
       "  </thead>\n",
       "  <tbody>\n",
       "    <tr>\n",
       "      <th>6</th>\n",
       "      <td>1.484535</td>\n",
       "      <td>1.584992</td>\n",
       "      <td>-0.088284</td>\n",
       "      <td>1.483081</td>\n",
       "      <td>0.632802</td>\n",
       "    </tr>\n",
       "    <tr>\n",
       "      <th>8</th>\n",
       "      <td>1.338035</td>\n",
       "      <td>-2.427646</td>\n",
       "      <td>-0.523756</td>\n",
       "      <td>1.337752</td>\n",
       "      <td>-0.722457</td>\n",
       "    </tr>\n",
       "    <tr>\n",
       "      <th>17</th>\n",
       "      <td>0.898534</td>\n",
       "      <td>1.083412</td>\n",
       "      <td>0.051196</td>\n",
       "      <td>0.900872</td>\n",
       "      <td>0.774501</td>\n",
       "    </tr>\n",
       "    <tr>\n",
       "      <th>51</th>\n",
       "      <td>-0.932718</td>\n",
       "      <td>-0.772433</td>\n",
       "      <td>-0.522745</td>\n",
       "      <td>-0.934002</td>\n",
       "      <td>-0.708962</td>\n",
       "    </tr>\n",
       "    <tr>\n",
       "      <th>33</th>\n",
       "      <td>0.019533</td>\n",
       "      <td>-3.330489</td>\n",
       "      <td>-0.549341</td>\n",
       "      <td>0.023078</td>\n",
       "      <td>-1.265822</td>\n",
       "    </tr>\n",
       "  </tbody>\n",
       "</table>\n",
       "</div>"
      ],
      "text/plain": [
       "        year  duration  rating_count  log_year  log_rating_count\n",
       "6   1.484535  1.584992     -0.088284  1.483081          0.632802\n",
       "8   1.338035 -2.427646     -0.523756  1.337752         -0.722457\n",
       "17  0.898534  1.083412      0.051196  0.900872          0.774501\n",
       "51 -0.932718 -0.772433     -0.522745 -0.934002         -0.708962\n",
       "33  0.019533 -3.330489     -0.549341  0.023078         -1.265822"
      ]
     },
     "execution_count": 126,
     "metadata": {},
     "output_type": "execute_result"
    }
   ],
   "source": [
    "X_test_scaled = ss.transform(X_test_cont_w_log)\n",
    "\n",
    "cont_columns = X_test_cont_w_log.columns\n",
    "X_test_scaled_df = pd.DataFrame(X_test_scaled, columns=cont_columns, index=X_test_cont_w_log.index)\n",
    "#X_test_scaled_df = pd.DataFrame(X_test_scaled, columns=cont_columns, index=X_test_cont.index)\n",
    "\n",
    "X_test_scaled_df.head()"
   ]
  },
  {
   "cell_type": "code",
   "execution_count": 127,
   "metadata": {},
   "outputs": [
    {
     "name": "stdout",
     "output_type": "stream",
     "text": [
      "RMSE: 0.61\n",
      "r2: 0.65\n"
     ]
    }
   ],
   "source": [
    "lr = LinearRegression()\n",
    "\n",
    "lr.fit(X_train_scaled_df, y_train)\n",
    "\n",
    "lr.coef_\n",
    "\n",
    "y_pred = lr.predict(X_test_scaled_df)\n",
    "\n",
    "y_pred\n",
    "\n",
    "y_test\n",
    "\n",
    "\n",
    "from sklearn.metrics import mean_squared_error, r2_score\n",
    "\n",
    "rmse = np.sqrt(mean_squared_error(y_test, y_pred))\n",
    "\n",
    "\n",
    "\n",
    "r2 = r2_score(y_test, y_pred)\n",
    "\n",
    "print(f'RMSE: {rmse:.2f}\\nr2: {r2:.2f}')"
   ]
  },
  {
   "cell_type": "code",
   "execution_count": 128,
   "metadata": {},
   "outputs": [
    {
     "data": {
      "text/plain": [
       "array([-67.00295742,  -0.13222848,   0.09193719,  67.22537944,\n",
       "         0.52053136])"
      ]
     },
     "execution_count": 128,
     "metadata": {},
     "output_type": "execute_result"
    }
   ],
   "source": [
    "lr.coef_"
   ]
  },
  {
   "cell_type": "code",
   "execution_count": 129,
   "metadata": {},
   "outputs": [
    {
     "data": {
      "text/plain": [
       "1925.0"
      ]
     },
     "execution_count": 129,
     "metadata": {},
     "output_type": "execute_result"
    }
   ],
   "source": [
    "year_min = float(films_and_features_to_analyze_df[['year']].min())\n",
    "year_min"
   ]
  },
  {
   "cell_type": "code",
   "execution_count": 130,
   "metadata": {},
   "outputs": [],
   "source": [
    "year_max = float(films_and_features_to_analyze_df[['year']].max())"
   ]
  },
  {
   "cell_type": "code",
   "execution_count": 131,
   "metadata": {
    "scrolled": true
   },
   "outputs": [
    {
     "data": {
      "image/png": "[encoded data removed]",
      "text/plain": [
       "<Figure size 288x288 with 1 Axes>"
      ]
     },
     "metadata": {},
     "output_type": "display_data"
    }
   ],
   "source": [
    "plot_df = films_and_features_to_analyze_df[['year', 'rating']]\n",
    "sns.set(font_scale=1.6)\n",
    "sns.set_style(\"white\")\n",
    "g=sns.lmplot(x='year', y='rating', data=plot_df, \n",
    "           fit_reg=True, aspect=1);\n",
    "g.set(ylim=(4.5, 9))\n",
    "g.set(xlim=(year_min, year_min+(year_max-year_min)))\n",
    "g.fig.set_figwidth(4)\n",
    "g.fig.set_figheight(4)"
   ]
  },
  {
   "cell_type": "code",
   "execution_count": 132,
   "metadata": {
    "scrolled": true
   },
   "outputs": [
    {
     "data": {
      "text/plain": [
       "<seaborn.axisgrid.FacetGrid at 0x7ff189e64250>"
      ]
     },
     "execution_count": 132,
     "metadata": {},
     "output_type": "execute_result"
    },
    {
     "data": {
      "image/png": "[encoded data removed]",
      "text/plain": [
       "<Figure size 360x360 with 1 Axes>"
      ]
     },
     "metadata": {},
     "output_type": "display_data"
    }
   ],
   "source": [
    "plot_df = films_and_features_to_analyze_df[['rating_count', 'rating']]\n",
    "g=sns.lmplot(x='rating_count', y='rating', data=plot_df, \n",
    "           lowess=True,);\n",
    "g.set(ylim=(4.5, 9))\n",
    "g.set(xlim=(0, 600000))"
   ]
  },
  {
   "cell_type": "code",
   "execution_count": 133,
   "metadata": {
    "scrolled": true
   },
   "outputs": [
    {
     "data": {
      "text/plain": [
       "<seaborn.axisgrid.FacetGrid at 0x7ff13808db80>"
      ]
     },
     "execution_count": 133,
     "metadata": {},
     "output_type": "execute_result"
    },
    {
     "data": {
      "image/png": "[encoded data removed]",
      "text/plain": [
       "<Figure size 360x360 with 1 Axes>"
      ]
     },
     "metadata": {},
     "output_type": "display_data"
    }
   ],
   "source": [
    "g=sns.lmplot(x='rating_count', y='rating', data=plot_df,\n",
    "           logx=True,);\n",
    "g.set(ylim=(4.5, 9))\n",
    "g.set(xlim=(0, 600000))"
   ]
  },
  {
   "cell_type": "code",
   "execution_count": null,
   "metadata": {},
   "outputs": [],
   "source": []
  },
  {
   "cell_type": "code",
   "execution_count": null,
   "metadata": {},
   "outputs": [],
   "source": []
  },
  {
   "cell_type": "code",
   "execution_count": null,
   "metadata": {},
   "outputs": [],
   "source": []
  },
  {
   "cell_type": "code",
   "execution_count": null,
   "metadata": {},
   "outputs": [],
   "source": []
  },
  {
   "cell_type": "code",
   "execution_count": null,
   "metadata": {},
   "outputs": [],
   "source": []
  },
  {
   "cell_type": "code",
   "execution_count": 134,
   "metadata": {
    "scrolled": true
   },
   "outputs": [
    {
     "data": {
      "image/png": "[encoded data removed]",
      "text/plain": [
       "<Figure size 432x288 with 1 Axes>"
      ]
     },
     "metadata": {},
     "output_type": "display_data"
    },
    {
     "data": {
      "image/png": "[encoded data removed]",
      "text/plain": [
       "<Figure size 432x288 with 1 Axes>"
      ]
     },
     "metadata": {},
     "output_type": "display_data"
    }
   ],
   "source": [
    "plt.ylabel(\"rating\")\n",
    "plt.scatter(X_test_cont_w_log['year'], y_test,  color='black')\n",
    "plt.xlabel('years')\n",
    "plt.show()\n",
    "#plt.plot(X_test_cont_w_log['year'], y_pred, color='blue', linewidth=3)\n",
    "plt.scatter(X_test_cont_w_log['rating_count'], y_test,  color='black')\n",
    "plt.xlabel('number of ratings')\n",
    "plt.show()"
   ]
  },
  {
   "cell_type": "code",
   "execution_count": null,
   "metadata": {},
   "outputs": [],
   "source": []
  },
  {
   "cell_type": "code",
   "execution_count": null,
   "metadata": {},
   "outputs": [],
   "source": []
  },
  {
   "cell_type": "code",
   "execution_count": null,
   "metadata": {},
   "outputs": [],
   "source": []
  },
  {
   "cell_type": "code",
   "execution_count": null,
   "metadata": {},
   "outputs": [],
   "source": []
  },
  {
   "cell_type": "code",
   "execution_count": null,
   "metadata": {},
   "outputs": [],
   "source": []
  },
  {
   "cell_type": "markdown",
   "metadata": {},
   "source": []
  },
  {
   "cell_type": "code",
   "execution_count": null,
   "metadata": {},
   "outputs": [],
   "source": []
  },
  {
   "cell_type": "code",
   "execution_count": null,
   "metadata": {},
   "outputs": [],
   "source": []
  },
  {
   "cell_type": "code",
   "execution_count": null,
   "metadata": {},
   "outputs": [],
   "source": []
  },
  {
   "cell_type": "code",
   "execution_count": null,
   "metadata": {},
   "outputs": [],
   "source": []
  },
  {
   "cell_type": "markdown",
   "metadata": {},
   "source": [
    "### Fit to `log_rating_count` and maybe `year`\n"
   ]
  },
  {
   "cell_type": "code",
   "execution_count": 135,
   "metadata": {},
   "outputs": [
    {
     "name": "stdout",
     "output_type": "stream",
     "text": [
      "RMSE: 0.60\n",
      "r2: 0.66\n"
     ]
    }
   ],
   "source": [
    "lr = LinearRegression()\n",
    "\n",
    "X_train_logs_only = X_train_scaled_df[['year','log_rating_count']]\n",
    "\n",
    "X_test_logs_only = X_test_scaled_df[['year','log_rating_count']]\n",
    "\n",
    "\n",
    "\n",
    "lr.fit(X_train_logs_only, y_train)\n",
    "\n",
    "lr.coef_\n",
    "\n",
    "y_pred = lr.predict(X_test_logs_only)\n",
    "\n",
    "y_pred\n",
    "\n",
    "y_test\n",
    "\n",
    "\n",
    "from sklearn.metrics import mean_squared_error, r2_score\n",
    "\n",
    "rmse = np.sqrt(mean_squared_error(y_test, y_pred))\n",
    "\n",
    "\n",
    "\n",
    "r2 = r2_score(y_test, y_pred)\n",
    "\n",
    "print(f'RMSE: {rmse:.2f}\\nr2: {r2:.2f}')"
   ]
  },
  {
   "cell_type": "code",
   "execution_count": 136,
   "metadata": {},
   "outputs": [
    {
     "data": {
      "text/plain": [
       "(60, 26)"
      ]
     },
     "execution_count": 136,
     "metadata": {},
     "output_type": "execute_result"
    }
   ],
   "source": [
    "films_and_features_to_analyze_df.shape"
   ]
  },
  {
   "cell_type": "markdown",
   "metadata": {},
   "source": [
    "## Attempt LassoCV"
   ]
  },
  {
   "cell_type": "code",
   "execution_count": 137,
   "metadata": {},
   "outputs": [
    {
     "name": "stderr",
     "output_type": "stream",
     "text": [
      "<ipython-input-137-ad886dc0e91a>:12: SettingWithCopyWarning: \n",
      "A value is trying to be set on a copy of a slice from a DataFrame.\n",
      "Try using .loc[row_indexer,col_indexer] = value instead\n",
      "\n",
      "See the caveats in the documentation: https://pandas.pydata.org/pandas-docs/stable/user_guide/indexing.html#returning-a-view-versus-a-copy\n",
      "  X['log_year'] = np.log(X.year)\n",
      "<ipython-input-137-ad886dc0e91a>:13: SettingWithCopyWarning: \n",
      "A value is trying to be set on a copy of a slice from a DataFrame.\n",
      "Try using .loc[row_indexer,col_indexer] = value instead\n",
      "\n",
      "See the caveats in the documentation: https://pandas.pydata.org/pandas-docs/stable/user_guide/indexing.html#returning-a-view-versus-a-copy\n",
      "  X['log_rating_count'] = np.log(X.rating_count)\n"
     ]
    }
   ],
   "source": [
    "#X_cols = [*films_and_features_to_analyze_df.columns[1:3],*films_and_features_to_analyze_df.columns[4:6], *films_and_features_to_analyze_df.columns[7:], ]\n",
    "#X_cols = [*films_and_features_to_analyze_df.columns[1:3],*films_and_features_to_analyze_df.columns[4:6], *films_and_features_to_analyze_df.columns[7:], ]\n",
    "X_cols = ['year', 'duration', 'rating_count']\n",
    "\n",
    "#films_and_features_to_analyze_df_copy = copy.deepcopy(films_and_features_to_analyze_df) \n",
    "\n",
    "X= films_and_features_to_analyze_df[X_cols]\n",
    "y= films_and_features_to_analyze_df['rating']\n",
    "\n",
    "#selected_cols =cont_columns\n",
    "\n",
    "X['log_year'] = np.log(X.year)\n",
    "X['log_rating_count'] = np.log(X.rating_count)\n",
    "\n",
    "# X_test_cont_w_log = copy.deepcopy(X_test_cont) \n",
    "\n",
    "# X_train_cont_w_log['log_year'] = np.log(X_train_cont_w_log.year)\n",
    "# X_test_cont_w_log['log_year'] = np.log(X_test_cont_w_log.year)\n",
    "\n",
    "# X_train_cont_w_log['log_rating_count'] = np.log(X_train_cont_w_log.rating_count)\n",
    "# X_test_cont_w_log['log_rating_count'] = np.log(X_test_cont_w_log.rating_count)\n",
    "\n",
    "# X= films_and_features_to_analyze_df[X_cols]\n",
    "# y= films_and_features_to_analyze_df['rating']"
   ]
  },
  {
   "cell_type": "code",
   "execution_count": 138,
   "metadata": {},
   "outputs": [],
   "source": [
    "X_, X_test, y_, y_test = train_test_split(X, y, test_size=.2, random_state=12) #10\n",
    "X_train, X_val, y_train, y_val = train_test_split(X_, y_, test_size=.25, random_state=15)#30\n",
    "\n",
    "#X_train_val, X_test, y_train_val, y_test = train_test_split( X, y, test_size=.20, random_state=32)\n",
    "\n",
    "ss=StandardScaler()\n",
    "\n",
    "X_train_scaled = ss.fit_transform( X_train)\n",
    "X_val_scaled = ss.transform(X_val)\n",
    "X_test_scaled = ss.fit_transform( X_test )"
   ]
  },
  {
   "cell_type": "code",
   "execution_count": 139,
   "metadata": {},
   "outputs": [
    {
     "data": {
      "text/plain": [
       "Index(['year', 'duration', 'rating_count', 'log_year', 'log_rating_count'], dtype='object')"
      ]
     },
     "execution_count": 139,
     "metadata": {},
     "output_type": "execute_result"
    }
   ],
   "source": [
    "X.columns"
   ]
  },
  {
   "cell_type": "code",
   "execution_count": 140,
   "metadata": {},
   "outputs": [],
   "source": [
    "from sklearn.linear_model import LinearRegression, Lasso, LassoCV, Ridge, RidgeCV\n",
    "from sklearn.metrics import r2_score\n",
    "from sklearn.preprocessing import PolynomialFeatures\n",
    "\n",
    "model = LassoCV()\n"
   ]
  },
  {
   "cell_type": "code",
   "execution_count": 141,
   "metadata": {},
   "outputs": [
    {
     "name": "stdout",
     "output_type": "stream",
     "text": [
      "Degree 2 polynomial regression val R^2: 0.401\n"
     ]
    }
   ],
   "source": [
    "poly=PolynomialFeatures(degree=2)\n",
    "\n",
    "X_train_poly = poly.fit_transform(X_train.values)\n",
    "X_val_poly = poly.transform(X_val.values)\n",
    "X_test_poly = poly.transform(X_test.values)\n",
    "\n",
    "lm_poly = LinearRegression()\n",
    "\n",
    "lm_poly.fit(X_train_poly, y_train)\n",
    "print(f'Degree 2 polynomial regression val R^2: {lm_poly.score(X_val_poly, y_val):.3f}')"
   ]
  },
  {
   "cell_type": "code",
   "execution_count": 142,
   "metadata": {},
   "outputs": [
    {
     "data": {
      "text/plain": [
       "array([ 0.00000000e+00, -1.39197762e+02, -1.72612259e+03, -1.73349052e+00,\n",
       "       -1.25414579e+00, -1.60412374e+01,  1.27863551e-03, -1.35748430e-01,\n",
       "       -1.34443140e-04,  1.57143795e+01, -3.85515728e-02, -4.85267532e-07,\n",
       "        3.21818165e-07,  2.62805782e+02, -9.34159126e-03,  5.16111967e-11,\n",
       "        2.63454600e-01, -1.79150941e-05, -1.55246224e+01,  1.17325160e+01,\n",
       "        1.90777326e-01])"
      ]
     },
     "execution_count": 142,
     "metadata": {},
     "output_type": "execute_result"
    }
   ],
   "source": [
    "lm_poly.coef_"
   ]
  },
  {
   "cell_type": "code",
   "execution_count": 143,
   "metadata": {},
   "outputs": [
    {
     "name": "stdout",
     "output_type": "stream",
     "text": [
      "Linear Regression test R^2: 0.682\n"
     ]
    }
   ],
   "source": [
    "lm_poly.fit(X_,y_)\n",
    "print(f'Linear Regression test R^2: {lm_poly.score(X_test, y_test):.3f}')"
   ]
  },
  {
   "cell_type": "code",
   "execution_count": null,
   "metadata": {},
   "outputs": [],
   "source": []
  },
  {
   "cell_type": "code",
   "execution_count": 144,
   "metadata": {},
   "outputs": [],
   "source": [
    "#lm_poly.alpha_"
   ]
  },
  {
   "cell_type": "code",
   "execution_count": 145,
   "metadata": {},
   "outputs": [],
   "source": [
    "#model.fit(X_train_scaled,y_train_val)"
   ]
  },
  {
   "cell_type": "code",
   "execution_count": 146,
   "metadata": {},
   "outputs": [],
   "source": [
    "#model.coef_"
   ]
  },
  {
   "cell_type": "code",
   "execution_count": 147,
   "metadata": {},
   "outputs": [],
   "source": [
    "#list(zip(X_cols, model.coef_))"
   ]
  },
  {
   "cell_type": "code",
   "execution_count": 148,
   "metadata": {},
   "outputs": [],
   "source": [
    "#model.score(X_test, y_test)"
   ]
  },
  {
   "cell_type": "code",
   "execution_count": 149,
   "metadata": {},
   "outputs": [],
   "source": [
    "#model.alpha_"
   ]
  },
  {
   "cell_type": "markdown",
   "metadata": {},
   "source": [
    "## Repartition data set to analyze `budget` and  `worldwide_gross`"
   ]
  },
  {
   "cell_type": "code",
   "execution_count": 150,
   "metadata": {},
   "outputs": [],
   "source": [
    "films_to_analyze_financial_df = films_to_analyze[(films_to_analyze['budget'] > 0) & (films_to_analyze['worldwide_gross'] > 0)]"
   ]
  },
  {
   "cell_type": "code",
   "execution_count": 151,
   "metadata": {},
   "outputs": [],
   "source": [
    "#films_to_analyze_financial_df = films_to_analyze[(films_to_analyze['budget'] > 0) & (films_df_reordered['worldwide_gross'] > 0)]"
   ]
  },
  {
   "cell_type": "code",
   "execution_count": 152,
   "metadata": {},
   "outputs": [
    {
     "data": {
      "text/plain": [
       "15"
      ]
     },
     "execution_count": 152,
     "metadata": {},
     "output_type": "execute_result"
    }
   ],
   "source": [
    "first_actor_column = (len(films_to_analyze_financial_df.columns) - len(dict_of_all_actors))\n",
    "first_actor_column\n"
   ]
  },
  {
   "cell_type": "code",
   "execution_count": 153,
   "metadata": {},
   "outputs": [
    {
     "data": {
      "text/plain": [
       "Index(['Leo G. Carroll', 'John Longden', 'Edmund Gwenn', 'Gordon Harker',\n",
       "       'James Stewart', 'Hannah Jones', 'Donald Calthrop', 'Cary Grant',\n",
       "       'Edward Chapman', 'Basil Radford',\n",
       "       ...\n",
       "       'Brigitte Auber', 'Georgette Anys', 'Sara Berner', 'Wendell Corey',\n",
       "       'Thelma Ritter', 'Raymond Burr', 'Judith Evelyn', 'Ross Bagdasarian',\n",
       "       'Georgine Darcy', 'Ernest Thesiger'],\n",
       "      dtype='object', length=633)"
      ]
     },
     "execution_count": 153,
     "metadata": {},
     "output_type": "execute_result"
    }
   ],
   "source": [
    "actor_columns = films_to_analyze_financial_df.iloc[:, first_actor_column:].columns\n",
    "actor_columns\n"
   ]
  },
  {
   "cell_type": "code",
   "execution_count": 154,
   "metadata": {},
   "outputs": [
    {
     "data": {
      "text/plain": [
       "Leo G. Carroll      6.0\n",
       "John Longden        0.0\n",
       "Edmund Gwenn        2.0\n",
       "Gordon Harker       0.0\n",
       "James Stewart       4.0\n",
       "                   ... \n",
       "Raymond Burr        1.0\n",
       "Judith Evelyn       1.0\n",
       "Ross Bagdasarian    1.0\n",
       "Georgine Darcy      1.0\n",
       "Ernest Thesiger     0.0\n",
       "Length: 633, dtype: float64"
      ]
     },
     "execution_count": 154,
     "metadata": {},
     "output_type": "execute_result"
    }
   ],
   "source": [
    "films_to_analyze_financial_df[actor_columns].sum()"
   ]
  },
  {
   "cell_type": "code",
   "execution_count": 155,
   "metadata": {},
   "outputs": [
    {
     "data": {
      "text/plain": [
       "Leo G. Carroll      6.0\n",
       "John Longden        0.0\n",
       "Edmund Gwenn        2.0\n",
       "Gordon Harker       0.0\n",
       "James Stewart       4.0\n",
       "                   ... \n",
       "Raymond Burr        1.0\n",
       "Judith Evelyn       1.0\n",
       "Ross Bagdasarian    1.0\n",
       "Georgine Darcy      1.0\n",
       "Ernest Thesiger     0.0\n",
       "Length: 633, dtype: float64"
      ]
     },
     "execution_count": 155,
     "metadata": {},
     "output_type": "execute_result"
    }
   ],
   "source": [
    "actors_num_of_appearances = films_to_analyze_financial_df[actor_columns].sum()\n",
    "actors_num_of_appearances"
   ]
  },
  {
   "cell_type": "code",
   "execution_count": 156,
   "metadata": {},
   "outputs": [
    {
     "data": {
      "text/plain": [
       "Leo G. Carroll       True\n",
       "John Longden        False\n",
       "Edmund Gwenn        False\n",
       "Gordon Harker       False\n",
       "James Stewart        True\n",
       "                    ...  \n",
       "Raymond Burr        False\n",
       "Judith Evelyn       False\n",
       "Ross Bagdasarian    False\n",
       "Georgine Darcy      False\n",
       "Ernest Thesiger     False\n",
       "Length: 633, dtype: bool"
      ]
     },
     "execution_count": 156,
     "metadata": {},
     "output_type": "execute_result"
    }
   ],
   "source": [
    "appearances_threshold = 3\n",
    "prevalent_actors_mask = (actors_num_of_appearances >= appearances_threshold)\n",
    "prevalent_actors_mask"
   ]
  },
  {
   "cell_type": "code",
   "execution_count": 157,
   "metadata": {},
   "outputs": [
    {
     "data": {
      "text/plain": [
       "Index(['Leo G. Carroll', 'James Stewart', 'Cary Grant', 'Grace Kelly',\n",
       "       'Patricia Hitchcock'],\n",
       "      dtype='object')"
      ]
     },
     "execution_count": 157,
     "metadata": {},
     "output_type": "execute_result"
    }
   ],
   "source": [
    "prevalent_actor_columns = actor_columns[prevalent_actors_mask]\n",
    "prevalent_actor_columns \n"
   ]
  },
  {
   "cell_type": "code",
   "execution_count": 158,
   "metadata": {},
   "outputs": [
    {
     "data": {
      "text/plain": [
       "['title',\n",
       " 'year',\n",
       " 'duration',\n",
       " 'budget',\n",
       " 'worldwide_gross',\n",
       " 'cinematographer',\n",
       " 'documentary',\n",
       " 'tv_series',\n",
       " 'rating',\n",
       " 'rating_count',\n",
       " 'Leo G. Carroll',\n",
       " 'James Stewart',\n",
       " 'Cary Grant',\n",
       " 'Grace Kelly',\n",
       " 'Patricia Hitchcock']"
      ]
     },
     "execution_count": 158,
     "metadata": {},
     "output_type": "execute_result"
    }
   ],
   "source": [
    "analysis_columns = ['title', 'year', 'duration', 'budget', 'worldwide_gross','cinematographer', 'documentary', 'tv_series','rating', 'rating_count', *prevalent_actor_columns]\n",
    "analysis_columns\n"
   ]
  },
  {
   "cell_type": "code",
   "execution_count": 159,
   "metadata": {},
   "outputs": [],
   "source": [
    "films_and_features_to_analyze_financial_df = films_to_analyze_financial_df[analysis_columns]"
   ]
  },
  {
   "cell_type": "code",
   "execution_count": 160,
   "metadata": {},
   "outputs": [
    {
     "data": {
      "text/html": [
       "<div>\n",
       "<style scoped>\n",
       "    .dataframe tbody tr th:only-of-type {\n",
       "        vertical-align: middle;\n",
       "    }\n",
       "\n",
       "    .dataframe tbody tr th {\n",
       "        vertical-align: top;\n",
       "    }\n",
       "\n",
       "    .dataframe thead th {\n",
       "        text-align: right;\n",
       "    }\n",
       "</style>\n",
       "<table border=\"1\" class=\"dataframe\">\n",
       "  <thead>\n",
       "    <tr style=\"text-align: right;\">\n",
       "      <th></th>\n",
       "      <th>title</th>\n",
       "      <th>year</th>\n",
       "      <th>duration</th>\n",
       "      <th>budget</th>\n",
       "      <th>worldwide_gross</th>\n",
       "      <th>cinematographer</th>\n",
       "      <th>documentary</th>\n",
       "      <th>tv_series</th>\n",
       "      <th>rating</th>\n",
       "      <th>rating_count</th>\n",
       "      <th>Leo G. Carroll</th>\n",
       "      <th>James Stewart</th>\n",
       "      <th>Cary Grant</th>\n",
       "      <th>Grace Kelly</th>\n",
       "      <th>Patricia Hitchcock</th>\n",
       "    </tr>\n",
       "  </thead>\n",
       "  <tbody>\n",
       "    <tr>\n",
       "      <th>2</th>\n",
       "      <td>Family Plot</td>\n",
       "      <td>1976.0</td>\n",
       "      <td>120.0</td>\n",
       "      <td>4490375.0</td>\n",
       "      <td>13200000.0</td>\n",
       "      <td>Leonard J. South</td>\n",
       "      <td>0.0</td>\n",
       "      <td>0.0</td>\n",
       "      <td>6.8</td>\n",
       "      <td>20794.0</td>\n",
       "      <td>0.0</td>\n",
       "      <td>0.0</td>\n",
       "      <td>0.0</td>\n",
       "      <td>0.0</td>\n",
       "      <td>0.0</td>\n",
       "    </tr>\n",
       "    <tr>\n",
       "      <th>3</th>\n",
       "      <td>Frenzy</td>\n",
       "      <td>1972.0</td>\n",
       "      <td>116.0</td>\n",
       "      <td>2000000.0</td>\n",
       "      <td>12600000.0</td>\n",
       "      <td>Gilbert Taylor</td>\n",
       "      <td>0.0</td>\n",
       "      <td>0.0</td>\n",
       "      <td>7.4</td>\n",
       "      <td>41424.0</td>\n",
       "      <td>0.0</td>\n",
       "      <td>0.0</td>\n",
       "      <td>0.0</td>\n",
       "      <td>0.0</td>\n",
       "      <td>0.0</td>\n",
       "    </tr>\n",
       "    <tr>\n",
       "      <th>4</th>\n",
       "      <td>Topaz</td>\n",
       "      <td>1969.0</td>\n",
       "      <td>143.0</td>\n",
       "      <td>4000000.0</td>\n",
       "      <td>6000000.0</td>\n",
       "      <td>Jack Hildyard</td>\n",
       "      <td>0.0</td>\n",
       "      <td>0.0</td>\n",
       "      <td>6.3</td>\n",
       "      <td>16714.0</td>\n",
       "      <td>0.0</td>\n",
       "      <td>0.0</td>\n",
       "      <td>0.0</td>\n",
       "      <td>0.0</td>\n",
       "      <td>0.0</td>\n",
       "    </tr>\n",
       "    <tr>\n",
       "      <th>5</th>\n",
       "      <td>Torn Curtain</td>\n",
       "      <td>1966.0</td>\n",
       "      <td>128.0</td>\n",
       "      <td>6000000.0</td>\n",
       "      <td>13000000.0</td>\n",
       "      <td>John F. Warren</td>\n",
       "      <td>0.0</td>\n",
       "      <td>0.0</td>\n",
       "      <td>6.7</td>\n",
       "      <td>24727.0</td>\n",
       "      <td>0.0</td>\n",
       "      <td>0.0</td>\n",
       "      <td>0.0</td>\n",
       "      <td>0.0</td>\n",
       "      <td>0.0</td>\n",
       "    </tr>\n",
       "    <tr>\n",
       "      <th>6</th>\n",
       "      <td>Marnie</td>\n",
       "      <td>1964.0</td>\n",
       "      <td>130.0</td>\n",
       "      <td>3000000.0</td>\n",
       "      <td>7008058.0</td>\n",
       "      <td>Robert Burks</td>\n",
       "      <td>0.0</td>\n",
       "      <td>0.0</td>\n",
       "      <td>7.2</td>\n",
       "      <td>45220.0</td>\n",
       "      <td>0.0</td>\n",
       "      <td>0.0</td>\n",
       "      <td>0.0</td>\n",
       "      <td>0.0</td>\n",
       "      <td>0.0</td>\n",
       "    </tr>\n",
       "    <tr>\n",
       "      <th>7</th>\n",
       "      <td>The Birds</td>\n",
       "      <td>1963.0</td>\n",
       "      <td>119.0</td>\n",
       "      <td>2500000.0</td>\n",
       "      <td>11436184.0</td>\n",
       "      <td>Robert Burks</td>\n",
       "      <td>0.0</td>\n",
       "      <td>0.0</td>\n",
       "      <td>7.7</td>\n",
       "      <td>171549.0</td>\n",
       "      <td>0.0</td>\n",
       "      <td>0.0</td>\n",
       "      <td>0.0</td>\n",
       "      <td>0.0</td>\n",
       "      <td>0.0</td>\n",
       "    </tr>\n",
       "    <tr>\n",
       "      <th>10</th>\n",
       "      <td>Psycho</td>\n",
       "      <td>1960.0</td>\n",
       "      <td>109.0</td>\n",
       "      <td>806947.0</td>\n",
       "      <td>32000000.0</td>\n",
       "      <td>John L. Russell</td>\n",
       "      <td>0.0</td>\n",
       "      <td>0.0</td>\n",
       "      <td>8.5</td>\n",
       "      <td>603233.0</td>\n",
       "      <td>0.0</td>\n",
       "      <td>0.0</td>\n",
       "      <td>0.0</td>\n",
       "      <td>0.0</td>\n",
       "      <td>1.0</td>\n",
       "    </tr>\n",
       "    <tr>\n",
       "      <th>12</th>\n",
       "      <td>North by Northwest</td>\n",
       "      <td>1959.0</td>\n",
       "      <td>136.0</td>\n",
       "      <td>3101000.0</td>\n",
       "      <td>13369740.0</td>\n",
       "      <td>Robert Burks</td>\n",
       "      <td>0.0</td>\n",
       "      <td>0.0</td>\n",
       "      <td>8.3</td>\n",
       "      <td>298724.0</td>\n",
       "      <td>1.0</td>\n",
       "      <td>0.0</td>\n",
       "      <td>1.0</td>\n",
       "      <td>0.0</td>\n",
       "      <td>0.0</td>\n",
       "    </tr>\n",
       "    <tr>\n",
       "      <th>13</th>\n",
       "      <td>Vertigo</td>\n",
       "      <td>1958.0</td>\n",
       "      <td>128.0</td>\n",
       "      <td>2479000.0</td>\n",
       "      <td>3293831.0</td>\n",
       "      <td>Robert Burks</td>\n",
       "      <td>0.0</td>\n",
       "      <td>0.0</td>\n",
       "      <td>8.3</td>\n",
       "      <td>363752.0</td>\n",
       "      <td>0.0</td>\n",
       "      <td>1.0</td>\n",
       "      <td>0.0</td>\n",
       "      <td>0.0</td>\n",
       "      <td>0.0</td>\n",
       "    </tr>\n",
       "    <tr>\n",
       "      <th>15</th>\n",
       "      <td>Suspicion</td>\n",
       "      <td>1941.0</td>\n",
       "      <td>99.0</td>\n",
       "      <td>1103000.0</td>\n",
       "      <td>4500000.0</td>\n",
       "      <td>Harry Stradling Sr.</td>\n",
       "      <td>0.0</td>\n",
       "      <td>0.0</td>\n",
       "      <td>7.4</td>\n",
       "      <td>32739.0</td>\n",
       "      <td>1.0</td>\n",
       "      <td>0.0</td>\n",
       "      <td>1.0</td>\n",
       "      <td>0.0</td>\n",
       "      <td>0.0</td>\n",
       "    </tr>\n",
       "  </tbody>\n",
       "</table>\n",
       "</div>"
      ],
      "text/plain": [
       "                 title    year  duration     budget  worldwide_gross  \\\n",
       "2          Family Plot  1976.0     120.0  4490375.0       13200000.0   \n",
       "3               Frenzy  1972.0     116.0  2000000.0       12600000.0   \n",
       "4                Topaz  1969.0     143.0  4000000.0        6000000.0   \n",
       "5         Torn Curtain  1966.0     128.0  6000000.0       13000000.0   \n",
       "6               Marnie  1964.0     130.0  3000000.0        7008058.0   \n",
       "7            The Birds  1963.0     119.0  2500000.0       11436184.0   \n",
       "10              Psycho  1960.0     109.0   806947.0       32000000.0   \n",
       "12  North by Northwest  1959.0     136.0  3101000.0       13369740.0   \n",
       "13             Vertigo  1958.0     128.0  2479000.0        3293831.0   \n",
       "15           Suspicion  1941.0      99.0  1103000.0        4500000.0   \n",
       "\n",
       "        cinematographer  documentary  tv_series  rating  rating_count  \\\n",
       "2      Leonard J. South          0.0        0.0     6.8       20794.0   \n",
       "3        Gilbert Taylor          0.0        0.0     7.4       41424.0   \n",
       "4         Jack Hildyard          0.0        0.0     6.3       16714.0   \n",
       "5        John F. Warren          0.0        0.0     6.7       24727.0   \n",
       "6          Robert Burks          0.0        0.0     7.2       45220.0   \n",
       "7          Robert Burks          0.0        0.0     7.7      171549.0   \n",
       "10      John L. Russell          0.0        0.0     8.5      603233.0   \n",
       "12         Robert Burks          0.0        0.0     8.3      298724.0   \n",
       "13         Robert Burks          0.0        0.0     8.3      363752.0   \n",
       "15  Harry Stradling Sr.          0.0        0.0     7.4       32739.0   \n",
       "\n",
       "    Leo G. Carroll  James Stewart  Cary Grant  Grace Kelly  Patricia Hitchcock  \n",
       "2              0.0            0.0         0.0          0.0                 0.0  \n",
       "3              0.0            0.0         0.0          0.0                 0.0  \n",
       "4              0.0            0.0         0.0          0.0                 0.0  \n",
       "5              0.0            0.0         0.0          0.0                 0.0  \n",
       "6              0.0            0.0         0.0          0.0                 0.0  \n",
       "7              0.0            0.0         0.0          0.0                 0.0  \n",
       "10             0.0            0.0         0.0          0.0                 1.0  \n",
       "12             1.0            0.0         1.0          0.0                 0.0  \n",
       "13             0.0            1.0         0.0          0.0                 0.0  \n",
       "15             1.0            0.0         1.0          0.0                 0.0  "
      ]
     },
     "execution_count": 160,
     "metadata": {},
     "output_type": "execute_result"
    }
   ],
   "source": [
    "films_and_features_to_analyze_financial_df.head(10)"
   ]
  },
  {
   "cell_type": "code",
   "execution_count": 161,
   "metadata": {},
   "outputs": [
    {
     "data": {
      "text/plain": [
       "<matplotlib.colorbar.Colorbar at 0x7ff18975b1f0>"
      ]
     },
     "execution_count": 161,
     "metadata": {},
     "output_type": "execute_result"
    },
    {
     "data": {
      "image/png": "[encoded data removed]",
      "text/plain": [
       "<Figure size 1152x576 with 2 Axes>"
      ]
     },
     "metadata": {},
     "output_type": "display_data"
    }
   ],
   "source": [
    "x_label = 'budget'\n",
    "y_label = 'rating'\n",
    "x_ = films_and_features_to_analyze_financial_df[x_label]\n",
    "y_ = films_and_features_to_analyze_financial_df[y_label]\n",
    "\n",
    "plt.figure(figsize=(16,8))\n",
    "\n",
    "size_ = 300\n",
    "alpha_ = .6\n",
    "plt.xlabel(x_label, fontsize='18')\n",
    "plt.ylabel(y_label, fontsize='18')\n",
    "plt.title(director.title() + ' movies', fontsize='20')\n",
    "cmap=plt.get_cmap(\"cool\")\n",
    "color_dimension = 'year'\n",
    "cm=films_and_features_to_analyze_financial_df[color_dimension].tolist()\n",
    "\n",
    "category = 'tv_series'\n",
    "plt.scatter(x=x_, y=y_, marker='o', alpha=alpha_, c=cm,cmap=\"cool\", s=(size_,))\n",
    "plt.colorbar(label=color_dimension)"
   ]
  },
  {
   "cell_type": "code",
   "execution_count": 162,
   "metadata": {},
   "outputs": [
    {
     "data": {
      "text/plain": [
       "<matplotlib.colorbar.Colorbar at 0x7ff169706160>"
      ]
     },
     "execution_count": 162,
     "metadata": {},
     "output_type": "execute_result"
    },
    {
     "data": {
      "image/png": "[encoded data removed]",
      "text/plain": [
       "<Figure size 1152x576 with 2 Axes>"
      ]
     },
     "metadata": {},
     "output_type": "display_data"
    }
   ],
   "source": [
    "x_label = 'year'\n",
    "y_label = 'rating'\n",
    "x_ = films_and_features_to_analyze_financial_df[x_label]\n",
    "y_ = films_and_features_to_analyze_financial_df[y_label]\n",
    "\n",
    "plt.figure(figsize=(16,8))\n",
    "\n",
    "size_ = 300\n",
    "alpha_ = .6\n",
    "plt.xlabel(x_label, fontsize='18')\n",
    "plt.ylabel(y_label, fontsize='18')\n",
    "plt.title(director.title() + ' movies', fontsize='20')\n",
    "cmap=plt.get_cmap(\"cool\")\n",
    "color_dimension = 'budget'\n",
    "cm=films_and_features_to_analyze_financial_df[color_dimension].tolist()\n",
    "\n",
    "category = 'tv_series'\n",
    "plt.scatter(x=x_, y=y_, marker='o', alpha=alpha_, c=cm,cmap=\"cool\", s=(size_,))\n",
    "plt.colorbar(label=color_dimension)"
   ]
  },
  {
   "cell_type": "code",
   "execution_count": 163,
   "metadata": {},
   "outputs": [
    {
     "data": {
      "text/plain": [
       "<matplotlib.colorbar.Colorbar at 0x7ff148916ca0>"
      ]
     },
     "execution_count": 163,
     "metadata": {},
     "output_type": "execute_result"
    },
    {
     "data": {
      "image/png": "[encoded data removed]",
      "text/plain": [
       "<Figure size 1152x576 with 2 Axes>"
      ]
     },
     "metadata": {},
     "output_type": "display_data"
    }
   ],
   "source": [
    "x_label = 'budget'\n",
    "y_label = 'duration'\n",
    "x_ = films_and_features_to_analyze_financial_df[x_label]\n",
    "y_ = films_and_features_to_analyze_financial_df[y_label]\n",
    "\n",
    "plt.figure(figsize=(16,8))\n",
    "\n",
    "size_ = 300\n",
    "alpha_ = .6\n",
    "plt.xlabel(x_label, fontsize='18')\n",
    "plt.ylabel(y_label, fontsize='18')\n",
    "plt.title(director.title() + ' movies', fontsize='20')\n",
    "cmap=plt.get_cmap(\"cool\")\n",
    "color_dimension = 'year'\n",
    "cm=films_and_features_to_analyze_financial_df[color_dimension].tolist()\n",
    "\n",
    "category = 'tv_series'\n",
    "plt.scatter(x=x_, y=y_, marker='o', alpha=alpha_, c=cm,cmap=\"cool\", s=(size_,))\n",
    "plt.colorbar(label=color_dimension)"
   ]
  },
  {
   "cell_type": "code",
   "execution_count": 164,
   "metadata": {},
   "outputs": [
    {
     "data": {
      "text/plain": [
       "2"
      ]
     },
     "execution_count": 164,
     "metadata": {},
     "output_type": "execute_result"
    }
   ],
   "source": [
    "cinematographer_include_threshold = films_and_features_to_analyze_df['cinematographer'].value_counts().min()\n",
    "cinematographer_include_threshold"
   ]
  },
  {
   "cell_type": "code",
   "execution_count": 165,
   "metadata": {},
   "outputs": [
    {
     "name": "stderr",
     "output_type": "stream",
     "text": [
      "/opt/anaconda3/envs/metis/lib/python3.8/site-packages/pandas/core/series.py:4479: SettingWithCopyWarning: \n",
      "A value is trying to be set on a copy of a slice from a DataFrame\n",
      "\n",
      "See the caveats in the documentation: https://pandas.pydata.org/pandas-docs/stable/user_guide/indexing.html#returning-a-view-versus-a-copy\n",
      "  return super().replace(\n"
     ]
    }
   ],
   "source": [
    "value_counts = films_and_features_to_analyze_financial_df['cinematographer'].value_counts() # Specific column \n",
    "to_remove = value_counts[value_counts <= cinematographer_include_threshold].index\n",
    "films_and_features_to_analyze_financial_df['cinematographer'].replace(to_remove, 'OTHER', inplace=True)"
   ]
  },
  {
   "cell_type": "code",
   "execution_count": 166,
   "metadata": {},
   "outputs": [],
   "source": [
    "selected_cols = [*films_and_features_to_analyze_financial_df.columns[1:8], *films_and_features_to_analyze_financial_df.columns[9:]]"
   ]
  },
  {
   "cell_type": "code",
   "execution_count": 167,
   "metadata": {},
   "outputs": [
    {
     "data": {
      "text/plain": [
       "['year',\n",
       " 'duration',\n",
       " 'budget',\n",
       " 'worldwide_gross',\n",
       " 'cinematographer',\n",
       " 'documentary',\n",
       " 'tv_series',\n",
       " 'rating_count',\n",
       " 'Leo G. Carroll',\n",
       " 'James Stewart',\n",
       " 'Cary Grant',\n",
       " 'Grace Kelly',\n",
       " 'Patricia Hitchcock']"
      ]
     },
     "execution_count": 167,
     "metadata": {},
     "output_type": "execute_result"
    }
   ],
   "source": [
    "selected_cols"
   ]
  },
  {
   "cell_type": "code",
   "execution_count": 168,
   "metadata": {},
   "outputs": [],
   "source": [
    "X= films_and_features_to_analyze_financial_df[selected_cols]\n",
    "y= films_and_features_to_analyze_financial_df['rating']"
   ]
  },
  {
   "cell_type": "code",
   "execution_count": null,
   "metadata": {},
   "outputs": [],
   "source": []
  },
  {
   "cell_type": "code",
   "execution_count": 169,
   "metadata": {},
   "outputs": [],
   "source": [
    "X_train, X_test, y_train, y_test = train_test_split(X, y)"
   ]
  },
  {
   "cell_type": "code",
   "execution_count": 170,
   "metadata": {},
   "outputs": [],
   "source": [
    "### Preprocessing\n",
    "\n",
    "#### Categorical Variable Preprocessing\n",
    "\n",
    "cat_ohe_vars = ['cinematographer']\n",
    "X_train_cat_ohe = X_train[cat_ohe_vars]\n",
    "#X_train_cat_ohe \n",
    "\n",
    "#### OneHotEncoding"
   ]
  },
  {
   "cell_type": "code",
   "execution_count": null,
   "metadata": {},
   "outputs": [],
   "source": []
  },
  {
   "cell_type": "code",
   "execution_count": null,
   "metadata": {},
   "outputs": [],
   "source": []
  },
  {
   "cell_type": "code",
   "execution_count": 171,
   "metadata": {},
   "outputs": [
    {
     "name": "stdout",
     "output_type": "stream",
     "text": [
      "RMSE: 0.49\n",
      "r2: 0.48\n",
      "0.4833774354850594\n"
     ]
    },
    {
     "data": {
      "text/plain": [
       "0.4833774354850594"
      ]
     },
     "execution_count": 171,
     "metadata": {},
     "output_type": "execute_result"
    }
   ],
   "source": [
    "\n",
    "\n",
    "#ohe = OneHotEncoder(sparse=False, drop='first')\n",
    "ohe = OneHotEncoder(sparse=False,  handle_unknown='ignore')\n",
    "ohe.fit(X_train_cat_ohe)\n",
    "cats_ohe = ohe.transform(X_train_cat_ohe)\n",
    "\n",
    "\n",
    "columns=ohe.get_feature_names(cat_ohe_vars)\n",
    "\n",
    "columns\n",
    "\n",
    "X_train_cat_ohe_df = pd.DataFrame(cats_ohe, columns=columns, index=X_train_cat_ohe.index)\n",
    "X_train_cat_ohe_df.head()\n",
    "\n",
    "#### Repeating transformations on testing set\n",
    "\n",
    "X_test_cat_ohe = X_test[['cinematographer']]\n",
    "X_test_cat_ohe\n",
    "cats_ohe_test = ohe.transform(X_test_cat_ohe)\n",
    "\n",
    "cat_ohe_columns = ohe.get_feature_names(['cinematographer'])\n",
    "X_test_cat_ohe_df = pd.DataFrame(cats_ohe_test, columns=cat_ohe_columns)\n",
    "\n",
    "### Continous Variable Preprocessing\n",
    "\n",
    "#### Select continuous variables from training set\n",
    "\n",
    "X_train_cont = X_train[['year', 'duration', 'budget','rating_count']]\n",
    "X_train_cont.head(70)\n",
    "\n",
    "\n",
    "\n",
    "####  scale the continuous variables in the train set\n",
    "\n",
    "from sklearn.preprocessing import StandardScaler\n",
    "\n",
    "ss = StandardScaler()\n",
    "\n",
    "ss.fit(X_train_cont)\n",
    "X_train_scaled = ss.transform(X_train_cont)\n",
    "\n",
    "cont_columns = X_train_cont.columns\n",
    "X_train_scaled_df = pd.DataFrame(X_train_scaled, columns=cont_columns, index=X_train_cont.index)\n",
    "\n",
    "X_train_scaled_df.head()\n",
    "\n",
    "\n",
    "#### select and scale the continuous variables in the test set\n",
    "\n",
    "X_test_cont = X_test[['year', 'duration', 'budget','rating_count']]\n",
    "X_test_cont.head()\n",
    "\n",
    "X_test_scaled = ss.transform(X_test_cont)\n",
    "\n",
    "cont_columns = X_test_cont.columns\n",
    "X_test_scaled_df = pd.DataFrame(X_test_scaled, columns=cont_columns, index=X_test_cont.index)\n",
    "\n",
    "X_test_scaled_df.head()\n",
    "\n",
    "### Combine the continuous, categorical, and ohe cat features for our testing set\n",
    "\n",
    "\n",
    "cat_columns = ['documentary', 'tv_series', *prevalent_actor_columns]\n",
    "X_train_cat_df = X_train[cat_columns]\n",
    "\n",
    "\n",
    "X_train_combined = pd.concat([X_train_scaled_df, X_train_cat_ohe_df, X_train_cat_df, ], axis='columns')\n",
    "\n",
    "X_train_combined.head(10)\n",
    "\n",
    "X_train.shape\n",
    "\n",
    "### Combine the continuous and categorical features for our testing set\n",
    "\n",
    "\n",
    "X_test_cat_df = X_test[cat_columns]\n",
    "\n",
    "X_test_scaled_df.shape[0] == X_test_cat_df.shape[0] == X_test_cat_ohe_df.shape[0]\n",
    "\n",
    "\n",
    "X_test_combined = pd.concat([X_test_scaled_df.reset_index(drop=True), X_test_cat_ohe_df.reset_index(drop=True), X_test_cat_df.reset_index(drop=True) ], axis=1)\n",
    "#X_test_combined = pd.concat([X_test_scaled_df, X_test_cat_ohe_df, X_test_cat_df ], axis=1)\n",
    "\n",
    "X_test_combined\n",
    "\n",
    "### Now make predictions by instantiating the Linear Regression Model \n",
    "\n",
    "lr = LinearRegression()\n",
    "\n",
    "lr.fit(X_train_combined, y_train)\n",
    "\n",
    "lr.coef_\n",
    "\n",
    "y_pred = lr.predict(X_test_combined)\n",
    "\n",
    "y_pred\n",
    "\n",
    "from sklearn.metrics import mean_squared_error, r2_score\n",
    "\n",
    "rmse = np.sqrt(mean_squared_error(y_test, y_pred))\n",
    "\n",
    "r2 = r2_score(y_test, y_pred)\n",
    "\n",
    "print(f'RMSE: {rmse:.2f}\\nr2: {r2:.2f}')\n",
    "\n",
    "print(r2)\n",
    "\n",
    "score = lr.score(X_test_combined, y_test) \n",
    "score"
   ]
  },
  {
   "cell_type": "code",
   "execution_count": null,
   "metadata": {},
   "outputs": [],
   "source": []
  },
  {
   "cell_type": "markdown",
   "metadata": {},
   "source": [
    "### Look at continous variable including `budget`"
   ]
  },
  {
   "cell_type": "code",
   "execution_count": 172,
   "metadata": {},
   "outputs": [],
   "source": [
    "films_and_features_to_analyze_financial_df.columns\n",
    "\n",
    "#selected_cols = ['budget', 'rating_count']\n",
    "selected_cols = ['year', 'duration', 'budget']\n",
    "#selected_cols = ['budget']\n",
    "X= films_and_features_to_analyze_financial_df[selected_cols]\n",
    "y= films_and_features_to_analyze_financial_df['rating']"
   ]
  },
  {
   "cell_type": "code",
   "execution_count": 173,
   "metadata": {},
   "outputs": [],
   "source": [
    "\n",
    "\n",
    "X_train, X_test, y_train, y_test = train_test_split(X, y)"
   ]
  },
  {
   "cell_type": "code",
   "execution_count": 174,
   "metadata": {},
   "outputs": [
    {
     "data": {
      "text/plain": [
       "Index(['year', 'duration', 'budget'], dtype='object')"
      ]
     },
     "execution_count": 174,
     "metadata": {},
     "output_type": "execute_result"
    }
   ],
   "source": [
    "X_train.columns"
   ]
  },
  {
   "cell_type": "code",
   "execution_count": null,
   "metadata": {},
   "outputs": [],
   "source": []
  },
  {
   "cell_type": "code",
   "execution_count": 175,
   "metadata": {},
   "outputs": [
    {
     "data": {
      "text/plain": [
       "array([[ 0.23362169, -0.30374139, -0.49187852],\n",
       "       [ 0.55039686, -0.08081193, -0.75484111],\n",
       "       [-2.0629983 , -1.02826213, -1.28668114],\n",
       "       [ 0.39200927,  0.978103  ,  0.36380544],\n",
       "       [-0.24154107, -0.02507956, -0.33331941],\n",
       "       [-1.50864175, -1.97571233, -1.26794842],\n",
       "       [ 0.0752341 , -0.30374139, -0.35807337],\n",
       "       [-1.033479  ,  0.53224408, -0.29117079],\n",
       "       [-1.42944796, -1.36265632, -1.26125816],\n",
       "       [ 1.26314099,  1.81408848,  1.38139365],\n",
       "       [-0.16234728, -0.52667085, -0.49187852],\n",
       "       [-1.033479  ,  1.08956773, -0.43300425],\n",
       "       [ 0.47120307,  1.42396192,  0.77993948],\n",
       "       [-0.39992865, -1.69705051, -0.29117079],\n",
       "       [ 1.02555962,  0.978103  ,  2.7194452 ],\n",
       "       [ 0.1544279 , -0.63813558, -0.49187852],\n",
       "       [ 0.1544279 , -0.24800902,  0.37785499],\n",
       "       [ 1.81749754,  0.53224408,  1.70946716],\n",
       "       [ 0.23362169,  0.53224408,  0.37785499],\n",
       "       [ 1.50072237,  0.30931462,  0.0433421 ]])"
      ]
     },
     "execution_count": 175,
     "metadata": {},
     "output_type": "execute_result"
    }
   ],
   "source": [
    "from sklearn.preprocessing import StandardScaler\n",
    "\n",
    "ss = StandardScaler()\n",
    "\n",
    "ss.fit(X_train)\n",
    "X_train_scaled = ss.transform(X_train)\n",
    "X_train_scaled"
   ]
  },
  {
   "cell_type": "code",
   "execution_count": null,
   "metadata": {},
   "outputs": [],
   "source": []
  },
  {
   "cell_type": "code",
   "execution_count": 176,
   "metadata": {},
   "outputs": [
    {
     "data": {
      "text/html": [
       "<div>\n",
       "<style scoped>\n",
       "    .dataframe tbody tr th:only-of-type {\n",
       "        vertical-align: middle;\n",
       "    }\n",
       "\n",
       "    .dataframe tbody tr th {\n",
       "        vertical-align: top;\n",
       "    }\n",
       "\n",
       "    .dataframe thead th {\n",
       "        text-align: right;\n",
       "    }\n",
       "</style>\n",
       "<table border=\"1\" class=\"dataframe\">\n",
       "  <thead>\n",
       "    <tr style=\"text-align: right;\">\n",
       "      <th></th>\n",
       "      <th>year</th>\n",
       "      <th>duration</th>\n",
       "      <th>budget</th>\n",
       "    </tr>\n",
       "  </thead>\n",
       "  <tbody>\n",
       "    <tr>\n",
       "      <th>40</th>\n",
       "      <td>0.233622</td>\n",
       "      <td>-0.303741</td>\n",
       "      <td>-0.491879</td>\n",
       "    </tr>\n",
       "    <tr>\n",
       "      <th>25</th>\n",
       "      <td>0.550397</td>\n",
       "      <td>-0.080812</td>\n",
       "      <td>-0.754841</td>\n",
       "    </tr>\n",
       "    <tr>\n",
       "      <th>19</th>\n",
       "      <td>-2.062998</td>\n",
       "      <td>-1.028262</td>\n",
       "      <td>-1.286681</td>\n",
       "    </tr>\n",
       "    <tr>\n",
       "      <th>24</th>\n",
       "      <td>0.392009</td>\n",
       "      <td>0.978103</td>\n",
       "      <td>0.363805</td>\n",
       "    </tr>\n",
       "    <tr>\n",
       "      <th>30</th>\n",
       "      <td>-0.241541</td>\n",
       "      <td>-0.025080</td>\n",
       "      <td>-0.333319</td>\n",
       "    </tr>\n",
       "  </tbody>\n",
       "</table>\n",
       "</div>"
      ],
      "text/plain": [
       "        year  duration    budget\n",
       "40  0.233622 -0.303741 -0.491879\n",
       "25  0.550397 -0.080812 -0.754841\n",
       "19 -2.062998 -1.028262 -1.286681\n",
       "24  0.392009  0.978103  0.363805\n",
       "30 -0.241541 -0.025080 -0.333319"
      ]
     },
     "execution_count": 176,
     "metadata": {},
     "output_type": "execute_result"
    }
   ],
   "source": [
    "cont_columns = X_train.columns\n",
    "X_train_scaled_df = pd.DataFrame(X_train_scaled, columns=cont_columns, index=X_train_cont.index)\n",
    "\n",
    "X_train_scaled_df.head()"
   ]
  },
  {
   "cell_type": "code",
   "execution_count": 177,
   "metadata": {},
   "outputs": [
    {
     "data": {
      "text/html": [
       "<div>\n",
       "<style scoped>\n",
       "    .dataframe tbody tr th:only-of-type {\n",
       "        vertical-align: middle;\n",
       "    }\n",
       "\n",
       "    .dataframe tbody tr th {\n",
       "        vertical-align: top;\n",
       "    }\n",
       "\n",
       "    .dataframe thead th {\n",
       "        text-align: right;\n",
       "    }\n",
       "</style>\n",
       "<table border=\"1\" class=\"dataframe\">\n",
       "  <thead>\n",
       "    <tr style=\"text-align: right;\">\n",
       "      <th></th>\n",
       "      <th>year</th>\n",
       "      <th>duration</th>\n",
       "      <th>budget</th>\n",
       "    </tr>\n",
       "  </thead>\n",
       "  <tbody>\n",
       "    <tr>\n",
       "      <th>0</th>\n",
       "      <td>0.233622</td>\n",
       "      <td>-0.303741</td>\n",
       "      <td>-0.491879</td>\n",
       "    </tr>\n",
       "    <tr>\n",
       "      <th>1</th>\n",
       "      <td>0.550397</td>\n",
       "      <td>-0.080812</td>\n",
       "      <td>-0.754841</td>\n",
       "    </tr>\n",
       "    <tr>\n",
       "      <th>2</th>\n",
       "      <td>-2.062998</td>\n",
       "      <td>-1.028262</td>\n",
       "      <td>-1.286681</td>\n",
       "    </tr>\n",
       "    <tr>\n",
       "      <th>3</th>\n",
       "      <td>0.392009</td>\n",
       "      <td>0.978103</td>\n",
       "      <td>0.363805</td>\n",
       "    </tr>\n",
       "    <tr>\n",
       "      <th>4</th>\n",
       "      <td>-0.241541</td>\n",
       "      <td>-0.025080</td>\n",
       "      <td>-0.333319</td>\n",
       "    </tr>\n",
       "  </tbody>\n",
       "</table>\n",
       "</div>"
      ],
      "text/plain": [
       "       year  duration    budget\n",
       "0  0.233622 -0.303741 -0.491879\n",
       "1  0.550397 -0.080812 -0.754841\n",
       "2 -2.062998 -1.028262 -1.286681\n",
       "3  0.392009  0.978103  0.363805\n",
       "4 -0.241541 -0.025080 -0.333319"
      ]
     },
     "execution_count": 177,
     "metadata": {},
     "output_type": "execute_result"
    }
   ],
   "source": [
    "X_train_combined = pd.concat([X_train_scaled_df.reset_index(drop=True)], axis='columns')\n",
    "\n",
    "X_train_combined.head()"
   ]
  },
  {
   "cell_type": "code",
   "execution_count": null,
   "metadata": {},
   "outputs": [],
   "source": []
  },
  {
   "cell_type": "code",
   "execution_count": 178,
   "metadata": {},
   "outputs": [
    {
     "data": {
      "text/html": [
       "<div>\n",
       "<style scoped>\n",
       "    .dataframe tbody tr th:only-of-type {\n",
       "        vertical-align: middle;\n",
       "    }\n",
       "\n",
       "    .dataframe tbody tr th {\n",
       "        vertical-align: top;\n",
       "    }\n",
       "\n",
       "    .dataframe thead th {\n",
       "        text-align: right;\n",
       "    }\n",
       "</style>\n",
       "<table border=\"1\" class=\"dataframe\">\n",
       "  <thead>\n",
       "    <tr style=\"text-align: right;\">\n",
       "      <th></th>\n",
       "      <th>year</th>\n",
       "      <th>duration</th>\n",
       "      <th>budget</th>\n",
       "    </tr>\n",
       "  </thead>\n",
       "  <tbody>\n",
       "    <tr>\n",
       "      <th>28</th>\n",
       "      <td>-0.479122</td>\n",
       "      <td>0.810906</td>\n",
       "      <td>1.554002</td>\n",
       "    </tr>\n",
       "    <tr>\n",
       "      <th>15</th>\n",
       "      <td>-0.954285</td>\n",
       "      <td>-0.638136</td>\n",
       "      <td>-0.556774</td>\n",
       "    </tr>\n",
       "    <tr>\n",
       "      <th>6</th>\n",
       "      <td>0.867172</td>\n",
       "      <td>1.089568</td>\n",
       "      <td>0.712368</td>\n",
       "    </tr>\n",
       "    <tr>\n",
       "      <th>29</th>\n",
       "      <td>-0.558316</td>\n",
       "      <td>-0.470938</td>\n",
       "      <td>0.043342</td>\n",
       "    </tr>\n",
       "    <tr>\n",
       "      <th>21</th>\n",
       "      <td>0.075234</td>\n",
       "      <td>0.086385</td>\n",
       "      <td>-0.625684</td>\n",
       "    </tr>\n",
       "  </tbody>\n",
       "</table>\n",
       "</div>"
      ],
      "text/plain": [
       "        year  duration    budget\n",
       "28 -0.479122  0.810906  1.554002\n",
       "15 -0.954285 -0.638136 -0.556774\n",
       "6   0.867172  1.089568  0.712368\n",
       "29 -0.558316 -0.470938  0.043342\n",
       "21  0.075234  0.086385 -0.625684"
      ]
     },
     "execution_count": 178,
     "metadata": {},
     "output_type": "execute_result"
    }
   ],
   "source": [
    "#X_test = X_test[['year', 'budget','rating_count']]\n",
    "\n",
    "X_test = X_test[selected_cols]\n",
    "X_test.head()\n",
    "\n",
    "X_test_scaled = ss.transform(X_test)\n",
    "\n",
    "cont_columns = X_test.columns\n",
    "X_test_scaled_df = pd.DataFrame(X_test_scaled, columns=cont_columns, index=X_test.index)\n",
    "\n",
    "X_test_scaled_df.head()"
   ]
  },
  {
   "cell_type": "code",
   "execution_count": 179,
   "metadata": {},
   "outputs": [
    {
     "data": {
      "text/html": [
       "<div>\n",
       "<style scoped>\n",
       "    .dataframe tbody tr th:only-of-type {\n",
       "        vertical-align: middle;\n",
       "    }\n",
       "\n",
       "    .dataframe tbody tr th {\n",
       "        vertical-align: top;\n",
       "    }\n",
       "\n",
       "    .dataframe thead th {\n",
       "        text-align: right;\n",
       "    }\n",
       "</style>\n",
       "<table border=\"1\" class=\"dataframe\">\n",
       "  <thead>\n",
       "    <tr style=\"text-align: right;\">\n",
       "      <th></th>\n",
       "      <th>year</th>\n",
       "      <th>duration</th>\n",
       "      <th>budget</th>\n",
       "    </tr>\n",
       "  </thead>\n",
       "  <tbody>\n",
       "    <tr>\n",
       "      <th>0</th>\n",
       "      <td>-0.479122</td>\n",
       "      <td>0.810906</td>\n",
       "      <td>1.554002</td>\n",
       "    </tr>\n",
       "    <tr>\n",
       "      <th>1</th>\n",
       "      <td>-0.954285</td>\n",
       "      <td>-0.638136</td>\n",
       "      <td>-0.556774</td>\n",
       "    </tr>\n",
       "    <tr>\n",
       "      <th>2</th>\n",
       "      <td>0.867172</td>\n",
       "      <td>1.089568</td>\n",
       "      <td>0.712368</td>\n",
       "    </tr>\n",
       "    <tr>\n",
       "      <th>3</th>\n",
       "      <td>-0.558316</td>\n",
       "      <td>-0.470938</td>\n",
       "      <td>0.043342</td>\n",
       "    </tr>\n",
       "    <tr>\n",
       "      <th>4</th>\n",
       "      <td>0.075234</td>\n",
       "      <td>0.086385</td>\n",
       "      <td>-0.625684</td>\n",
       "    </tr>\n",
       "    <tr>\n",
       "      <th>5</th>\n",
       "      <td>0.787978</td>\n",
       "      <td>0.476512</td>\n",
       "      <td>0.377855</td>\n",
       "    </tr>\n",
       "    <tr>\n",
       "      <th>6</th>\n",
       "      <td>-0.637510</td>\n",
       "      <td>0.030653</td>\n",
       "      <td>-0.159790</td>\n",
       "    </tr>\n",
       "  </tbody>\n",
       "</table>\n",
       "</div>"
      ],
      "text/plain": [
       "       year  duration    budget\n",
       "0 -0.479122  0.810906  1.554002\n",
       "1 -0.954285 -0.638136 -0.556774\n",
       "2  0.867172  1.089568  0.712368\n",
       "3 -0.558316 -0.470938  0.043342\n",
       "4  0.075234  0.086385 -0.625684\n",
       "5  0.787978  0.476512  0.377855\n",
       "6 -0.637510  0.030653 -0.159790"
      ]
     },
     "execution_count": 179,
     "metadata": {},
     "output_type": "execute_result"
    }
   ],
   "source": [
    "X_test_combined = pd.concat([X_test_scaled_df.reset_index(drop=True) ], axis=1)\n",
    "\n",
    "X_test_combined"
   ]
  },
  {
   "cell_type": "code",
   "execution_count": 180,
   "metadata": {},
   "outputs": [
    {
     "data": {
      "text/plain": [
       "array([ 0.11479943,  0.24625262, -0.4791347 ])"
      ]
     },
     "execution_count": 180,
     "metadata": {},
     "output_type": "execute_result"
    }
   ],
   "source": [
    "lr = LinearRegression()\n",
    "\n",
    "lr.fit(X_train_combined,y_train)\n",
    "\n",
    "lr.coef_"
   ]
  },
  {
   "cell_type": "code",
   "execution_count": 181,
   "metadata": {},
   "outputs": [
    {
     "data": {
      "text/plain": [
       "array([6.9051083 , 7.50507579, 7.5315396 , 7.30416907, 7.83469617,\n",
       "       7.53175828, 7.51592324])"
      ]
     },
     "execution_count": 181,
     "metadata": {},
     "output_type": "execute_result"
    }
   ],
   "source": [
    "y_pred = lr.predict(X_test_combined)\n",
    "\n",
    "y_pred"
   ]
  },
  {
   "cell_type": "code",
   "execution_count": null,
   "metadata": {},
   "outputs": [],
   "source": []
  },
  {
   "cell_type": "code",
   "execution_count": null,
   "metadata": {},
   "outputs": [],
   "source": []
  },
  {
   "cell_type": "code",
   "execution_count": 182,
   "metadata": {},
   "outputs": [
    {
     "name": "stdout",
     "output_type": "stream",
     "text": [
      "RMSE: 0.36\n",
      "r2: 0.52\n"
     ]
    }
   ],
   "source": [
    "\n",
    "from sklearn.metrics import mean_squared_error, r2_score\n",
    "\n",
    "rmse = np.sqrt(mean_squared_error(y_test, y_pred))\n",
    "\n",
    "r2 = r2_score(y_test, y_pred)\n",
    "\n",
    "print(f'RMSE: {rmse:.2f}\\nr2: {r2:.2f}')"
   ]
  },
  {
   "cell_type": "code",
   "execution_count": 183,
   "metadata": {},
   "outputs": [
    {
     "data": {
      "text/plain": [
       "[<matplotlib.lines.Line2D at 0x7ff138167190>]"
      ]
     },
     "execution_count": 183,
     "metadata": {},
     "output_type": "execute_result"
    },
    {
     "data": {
      "image/png": "[encoded data removed]",
      "text/plain": [
       "<Figure size 432x288 with 1 Axes>"
      ]
     },
     "metadata": {},
     "output_type": "display_data"
    }
   ],
   "source": [
    "plt.scatter(y_test, y_pred)\n",
    "plt.plot(y_pred, y_pred)\n",
    "plt.plot(y_test, y_test)"
   ]
  },
  {
   "cell_type": "code",
   "execution_count": 184,
   "metadata": {},
   "outputs": [
    {
     "data": {
      "text/plain": [
       "28   -0.305108\n",
       "15   -0.105076\n",
       "6    -0.331540\n",
       "29    0.595831\n",
       "21    0.565304\n",
       "7     0.168242\n",
       "30    0.084077\n",
       "Name: rating, dtype: float64"
      ]
     },
     "execution_count": 184,
     "metadata": {},
     "output_type": "execute_result"
    }
   ],
   "source": [
    "res = y_test-y_pred\n",
    "res"
   ]
  },
  {
   "cell_type": "code",
   "execution_count": 185,
   "metadata": {},
   "outputs": [
    {
     "data": {
      "text/html": [
       "<div>\n",
       "<style scoped>\n",
       "    .dataframe tbody tr th:only-of-type {\n",
       "        vertical-align: middle;\n",
       "    }\n",
       "\n",
       "    .dataframe tbody tr th {\n",
       "        vertical-align: top;\n",
       "    }\n",
       "\n",
       "    .dataframe thead th {\n",
       "        text-align: right;\n",
       "    }\n",
       "</style>\n",
       "<table border=\"1\" class=\"dataframe\">\n",
       "  <thead>\n",
       "    <tr style=\"text-align: right;\">\n",
       "      <th></th>\n",
       "      <th>year</th>\n",
       "      <th>duration</th>\n",
       "      <th>budget</th>\n",
       "    </tr>\n",
       "  </thead>\n",
       "  <tbody>\n",
       "    <tr>\n",
       "      <th>28</th>\n",
       "      <td>1947.0</td>\n",
       "      <td>125.0</td>\n",
       "      <td>4258000.0</td>\n",
       "    </tr>\n",
       "    <tr>\n",
       "      <th>15</th>\n",
       "      <td>1941.0</td>\n",
       "      <td>99.0</td>\n",
       "      <td>1103000.0</td>\n",
       "    </tr>\n",
       "    <tr>\n",
       "      <th>6</th>\n",
       "      <td>1964.0</td>\n",
       "      <td>130.0</td>\n",
       "      <td>3000000.0</td>\n",
       "    </tr>\n",
       "    <tr>\n",
       "      <th>29</th>\n",
       "      <td>1946.0</td>\n",
       "      <td>102.0</td>\n",
       "      <td>2000000.0</td>\n",
       "    </tr>\n",
       "    <tr>\n",
       "      <th>21</th>\n",
       "      <td>1954.0</td>\n",
       "      <td>112.0</td>\n",
       "      <td>1000000.0</td>\n",
       "    </tr>\n",
       "    <tr>\n",
       "      <th>7</th>\n",
       "      <td>1963.0</td>\n",
       "      <td>119.0</td>\n",
       "      <td>2500000.0</td>\n",
       "    </tr>\n",
       "    <tr>\n",
       "      <th>30</th>\n",
       "      <td>1945.0</td>\n",
       "      <td>111.0</td>\n",
       "      <td>1696377.0</td>\n",
       "    </tr>\n",
       "  </tbody>\n",
       "</table>\n",
       "</div>"
      ],
      "text/plain": [
       "      year  duration     budget\n",
       "28  1947.0     125.0  4258000.0\n",
       "15  1941.0      99.0  1103000.0\n",
       "6   1964.0     130.0  3000000.0\n",
       "29  1946.0     102.0  2000000.0\n",
       "21  1954.0     112.0  1000000.0\n",
       "7   1963.0     119.0  2500000.0\n",
       "30  1945.0     111.0  1696377.0"
      ]
     },
     "execution_count": 185,
     "metadata": {},
     "output_type": "execute_result"
    }
   ],
   "source": [
    "X_test"
   ]
  },
  {
   "cell_type": "code",
   "execution_count": 186,
   "metadata": {},
   "outputs": [
    {
     "data": {
      "text/plain": [
       "<matplotlib.lines.Line2D at 0x7ff16974d370>"
      ]
     },
     "execution_count": 186,
     "metadata": {},
     "output_type": "execute_result"
    },
    {
     "data": {
      "image/png": "[encoded data removed]",
      "text/plain": [
       "<Figure size 432x288 with 1 Axes>"
      ]
     },
     "metadata": {},
     "output_type": "display_data"
    }
   ],
   "source": [
    "plt.scatter(y_pred, res)\n",
    "plt.axhline(y=0)\n",
    "#plt.plot(y_pred, 0)"
   ]
  },
  {
   "cell_type": "code",
   "execution_count": null,
   "metadata": {},
   "outputs": [],
   "source": []
  },
  {
   "cell_type": "code",
   "execution_count": 187,
   "metadata": {},
   "outputs": [
    {
     "data": {
      "text/html": [
       "<div>\n",
       "<style scoped>\n",
       "    .dataframe tbody tr th:only-of-type {\n",
       "        vertical-align: middle;\n",
       "    }\n",
       "\n",
       "    .dataframe tbody tr th {\n",
       "        vertical-align: top;\n",
       "    }\n",
       "\n",
       "    .dataframe thead th {\n",
       "        text-align: right;\n",
       "    }\n",
       "</style>\n",
       "<table border=\"1\" class=\"dataframe\">\n",
       "  <thead>\n",
       "    <tr style=\"text-align: right;\">\n",
       "      <th></th>\n",
       "      <th>year</th>\n",
       "      <th>duration</th>\n",
       "      <th>budget</th>\n",
       "    </tr>\n",
       "  </thead>\n",
       "  <tbody>\n",
       "    <tr>\n",
       "      <th>0</th>\n",
       "      <td>0.233622</td>\n",
       "      <td>-0.303741</td>\n",
       "      <td>-0.491879</td>\n",
       "    </tr>\n",
       "    <tr>\n",
       "      <th>1</th>\n",
       "      <td>0.550397</td>\n",
       "      <td>-0.080812</td>\n",
       "      <td>-0.754841</td>\n",
       "    </tr>\n",
       "    <tr>\n",
       "      <th>2</th>\n",
       "      <td>-2.062998</td>\n",
       "      <td>-1.028262</td>\n",
       "      <td>-1.286681</td>\n",
       "    </tr>\n",
       "    <tr>\n",
       "      <th>3</th>\n",
       "      <td>0.392009</td>\n",
       "      <td>0.978103</td>\n",
       "      <td>0.363805</td>\n",
       "    </tr>\n",
       "    <tr>\n",
       "      <th>4</th>\n",
       "      <td>-0.241541</td>\n",
       "      <td>-0.025080</td>\n",
       "      <td>-0.333319</td>\n",
       "    </tr>\n",
       "  </tbody>\n",
       "</table>\n",
       "</div>"
      ],
      "text/plain": [
       "       year  duration    budget\n",
       "0  0.233622 -0.303741 -0.491879\n",
       "1  0.550397 -0.080812 -0.754841\n",
       "2 -2.062998 -1.028262 -1.286681\n",
       "3  0.392009  0.978103  0.363805\n",
       "4 -0.241541 -0.025080 -0.333319"
      ]
     },
     "execution_count": 187,
     "metadata": {},
     "output_type": "execute_result"
    }
   ],
   "source": [
    "X_train_combined.head()"
   ]
  },
  {
   "cell_type": "code",
   "execution_count": null,
   "metadata": {},
   "outputs": [],
   "source": []
  },
  {
   "cell_type": "code",
   "execution_count": 188,
   "metadata": {},
   "outputs": [
    {
     "data": {
      "text/html": [
       "<div>\n",
       "<style scoped>\n",
       "    .dataframe tbody tr th:only-of-type {\n",
       "        vertical-align: middle;\n",
       "    }\n",
       "\n",
       "    .dataframe tbody tr th {\n",
       "        vertical-align: top;\n",
       "    }\n",
       "\n",
       "    .dataframe thead th {\n",
       "        text-align: right;\n",
       "    }\n",
       "</style>\n",
       "<table border=\"1\" class=\"dataframe\">\n",
       "  <thead>\n",
       "    <tr style=\"text-align: right;\">\n",
       "      <th></th>\n",
       "      <th>year</th>\n",
       "      <th>duration</th>\n",
       "      <th>budget</th>\n",
       "      <th>rating_count</th>\n",
       "    </tr>\n",
       "  </thead>\n",
       "  <tbody>\n",
       "    <tr>\n",
       "      <th>40</th>\n",
       "      <td>1940.0</td>\n",
       "      <td>130.0</td>\n",
       "      <td>1288000.0</td>\n",
       "      <td>123730.0</td>\n",
       "    </tr>\n",
       "    <tr>\n",
       "      <th>25</th>\n",
       "      <td>1950.0</td>\n",
       "      <td>110.0</td>\n",
       "      <td>1437000.0</td>\n",
       "      <td>12770.0</td>\n",
       "    </tr>\n",
       "    <tr>\n",
       "      <th>19</th>\n",
       "      <td>1955.0</td>\n",
       "      <td>99.0</td>\n",
       "      <td>1200000.0</td>\n",
       "      <td>33737.0</td>\n",
       "    </tr>\n",
       "    <tr>\n",
       "      <th>24</th>\n",
       "      <td>1951.0</td>\n",
       "      <td>101.0</td>\n",
       "      <td>1200000.0</td>\n",
       "      <td>123219.0</td>\n",
       "    </tr>\n",
       "    <tr>\n",
       "      <th>30</th>\n",
       "      <td>1945.0</td>\n",
       "      <td>111.0</td>\n",
       "      <td>1696377.0</td>\n",
       "      <td>43415.0</td>\n",
       "    </tr>\n",
       "    <tr>\n",
       "      <th>16</th>\n",
       "      <td>1956.0</td>\n",
       "      <td>105.0</td>\n",
       "      <td>1200000.0</td>\n",
       "      <td>25655.0</td>\n",
       "    </tr>\n",
       "    <tr>\n",
       "      <th>10</th>\n",
       "      <td>1960.0</td>\n",
       "      <td>109.0</td>\n",
       "      <td>806947.0</td>\n",
       "      <td>603233.0</td>\n",
       "    </tr>\n",
       "    <tr>\n",
       "      <th>7</th>\n",
       "      <td>1963.0</td>\n",
       "      <td>119.0</td>\n",
       "      <td>2500000.0</td>\n",
       "      <td>171549.0</td>\n",
       "    </tr>\n",
       "    <tr>\n",
       "      <th>3</th>\n",
       "      <td>1972.0</td>\n",
       "      <td>116.0</td>\n",
       "      <td>2000000.0</td>\n",
       "      <td>41424.0</td>\n",
       "    </tr>\n",
       "    <tr>\n",
       "      <th>29</th>\n",
       "      <td>1946.0</td>\n",
       "      <td>102.0</td>\n",
       "      <td>2000000.0</td>\n",
       "      <td>92192.0</td>\n",
       "    </tr>\n",
       "    <tr>\n",
       "      <th>27</th>\n",
       "      <td>1948.0</td>\n",
       "      <td>80.0</td>\n",
       "      <td>1500000.0</td>\n",
       "      <td>129553.0</td>\n",
       "    </tr>\n",
       "    <tr>\n",
       "      <th>17</th>\n",
       "      <td>1956.0</td>\n",
       "      <td>120.0</td>\n",
       "      <td>2500000.0</td>\n",
       "      <td>58462.0</td>\n",
       "    </tr>\n",
       "    <tr>\n",
       "      <th>22</th>\n",
       "      <td>1954.0</td>\n",
       "      <td>105.0</td>\n",
       "      <td>1400000.0</td>\n",
       "      <td>158015.0</td>\n",
       "    </tr>\n",
       "    <tr>\n",
       "      <th>5</th>\n",
       "      <td>1966.0</td>\n",
       "      <td>128.0</td>\n",
       "      <td>6000000.0</td>\n",
       "      <td>24727.0</td>\n",
       "    </tr>\n",
       "    <tr>\n",
       "      <th>13</th>\n",
       "      <td>1958.0</td>\n",
       "      <td>128.0</td>\n",
       "      <td>2479000.0</td>\n",
       "      <td>363752.0</td>\n",
       "    </tr>\n",
       "    <tr>\n",
       "      <th>20</th>\n",
       "      <td>1955.0</td>\n",
       "      <td>106.0</td>\n",
       "      <td>2500000.0</td>\n",
       "      <td>65121.0</td>\n",
       "    </tr>\n",
       "    <tr>\n",
       "      <th>15</th>\n",
       "      <td>1941.0</td>\n",
       "      <td>99.0</td>\n",
       "      <td>1103000.0</td>\n",
       "      <td>32739.0</td>\n",
       "    </tr>\n",
       "    <tr>\n",
       "      <th>66</th>\n",
       "      <td>1927.0</td>\n",
       "      <td>92.0</td>\n",
       "      <td>12000.0</td>\n",
       "      <td>10391.0</td>\n",
       "    </tr>\n",
       "    <tr>\n",
       "      <th>39</th>\n",
       "      <td>1940.0</td>\n",
       "      <td>120.0</td>\n",
       "      <td>1500000.0</td>\n",
       "      <td>18452.0</td>\n",
       "    </tr>\n",
       "    <tr>\n",
       "      <th>4</th>\n",
       "      <td>1969.0</td>\n",
       "      <td>143.0</td>\n",
       "      <td>4000000.0</td>\n",
       "      <td>16714.0</td>\n",
       "    </tr>\n",
       "  </tbody>\n",
       "</table>\n",
       "</div>"
      ],
      "text/plain": [
       "      year  duration     budget  rating_count\n",
       "40  1940.0     130.0  1288000.0      123730.0\n",
       "25  1950.0     110.0  1437000.0       12770.0\n",
       "19  1955.0      99.0  1200000.0       33737.0\n",
       "24  1951.0     101.0  1200000.0      123219.0\n",
       "30  1945.0     111.0  1696377.0       43415.0\n",
       "16  1956.0     105.0  1200000.0       25655.0\n",
       "10  1960.0     109.0   806947.0      603233.0\n",
       "7   1963.0     119.0  2500000.0      171549.0\n",
       "3   1972.0     116.0  2000000.0       41424.0\n",
       "29  1946.0     102.0  2000000.0       92192.0\n",
       "27  1948.0      80.0  1500000.0      129553.0\n",
       "17  1956.0     120.0  2500000.0       58462.0\n",
       "22  1954.0     105.0  1400000.0      158015.0\n",
       "5   1966.0     128.0  6000000.0       24727.0\n",
       "13  1958.0     128.0  2479000.0      363752.0\n",
       "20  1955.0     106.0  2500000.0       65121.0\n",
       "15  1941.0      99.0  1103000.0       32739.0\n",
       "66  1927.0      92.0    12000.0       10391.0\n",
       "39  1940.0     120.0  1500000.0       18452.0\n",
       "4   1969.0     143.0  4000000.0       16714.0"
      ]
     },
     "execution_count": 188,
     "metadata": {},
     "output_type": "execute_result"
    }
   ],
   "source": [
    "X_train_cont"
   ]
  },
  {
   "cell_type": "code",
   "execution_count": null,
   "metadata": {},
   "outputs": [],
   "source": []
  },
  {
   "cell_type": "code",
   "execution_count": 189,
   "metadata": {},
   "outputs": [
    {
     "data": {
      "text/plain": [
       "array([-3.35812004, -0.63802255,  0.03509693, -0.47786606, -0.14797963])"
      ]
     },
     "execution_count": 189,
     "metadata": {},
     "output_type": "execute_result"
    }
   ],
   "source": [
    "from sklearn.model_selection import cross_val_score\n",
    "lm = LinearRegression()\n",
    "\n",
    "cross_val_score(lm, X, y, # estimator, features, target\n",
    "                cv=5, # number of folds \n",
    "                scoring='r2') # scoring metric"
   ]
  },
  {
   "cell_type": "code",
   "execution_count": 190,
   "metadata": {},
   "outputs": [
    {
     "data": {
      "text/plain": [
       "<bound method RegressorMixin.score of LinearRegression()>"
      ]
     },
     "execution_count": 190,
     "metadata": {},
     "output_type": "execute_result"
    }
   ],
   "source": [
    "lm.score"
   ]
  },
  {
   "cell_type": "code",
   "execution_count": null,
   "metadata": {},
   "outputs": [],
   "source": []
  },
  {
   "cell_type": "markdown",
   "metadata": {},
   "source": [
    "## include `log(year)` `budget^2` and `log(rating_count)`"
   ]
  },
  {
   "cell_type": "code",
   "execution_count": null,
   "metadata": {},
   "outputs": [],
   "source": []
  },
  {
   "cell_type": "code",
   "execution_count": 191,
   "metadata": {},
   "outputs": [],
   "source": [
    "X_train_cont_w_log = copy.deepcopy(X_train_cont) \n",
    "X_test_cont_w_log = copy.deepcopy(X_test_cont) \n",
    "\n",
    "X_train_cont_w_log['log_year'] = np.log(X_train_cont_w_log.year)\n",
    "X_test_cont_w_log['log_year'] = np.log(X_test_cont_w_log.year)\n",
    "\n",
    "#X_train_cont_w_log['log_budget'] = np.log(X_train_cont_w_log.budget)\n",
    "#X_test_cont_w_log['log_budget'] = np.log(X_test_cont_w_log.budget)\n",
    "X_train_cont_w_log['pow_budget'] = X_train_cont_w_log.budget**2\n",
    "X_test_cont_w_log['pow_budget'] =  X_test_cont_w_log.budget**2\n",
    "\n",
    "\n",
    "X_train_cont_w_log['log_rating_count'] = np.log(X_train_cont_w_log.rating_count)\n",
    "X_test_cont_w_log['log_rating_count'] = np.log(X_test_cont_w_log.rating_count)\n"
   ]
  },
  {
   "cell_type": "code",
   "execution_count": null,
   "metadata": {},
   "outputs": [],
   "source": []
  },
  {
   "cell_type": "code",
   "execution_count": 192,
   "metadata": {},
   "outputs": [],
   "source": [
    "# films_and_features_to_analyze_financial_df.columns\n",
    "\n",
    "#selected_cols = [ 'log_year', 'log_budget', 'log_rating_count']\n",
    "selected_cols = ['year','budget', 'rating_count', 'log_year', 'pow_budget', 'log_rating_count']\n",
    "# #selected_cols = ['year', 'duration', 'budget', 'rating_count']\n",
    "# #selected_cols = ['budget']\n",
    "# X= films_and_features_to_analyze_financial_df[selected_cols]\n",
    "# y= films_and_features_to_analyze_financial_df['rating']\n",
    "\n",
    "X_train_cont_w_log = X_train_cont_w_log[ selected_cols ]\n",
    "X_test_cont_w_log  = X_test_cont_w_log[ selected_cols ]\n",
    "\n",
    "# X_train, X_test, y_train, y_test = train_test_split(X, y)\n",
    "\n",
    "# X_train.columns\n",
    "\n",
    "from sklearn.preprocessing import StandardScaler\n",
    "\n",
    "ss = StandardScaler()\n",
    "\n",
    "ss.fit(X_train_cont_w_log)\n",
    "X_train_scaled = ss.transform(X_train_cont_w_log)\n",
    "X_train_scaled.shape\n",
    "\n",
    "cont_columns = X_train_cont_w_log.columns\n",
    "X_train_scaled_df = pd.DataFrame(X_train_scaled, columns=cont_columns, index=X_train_cont_w_log.index)\n",
    "X_train_scaled_df.head()\n",
    "\n",
    "X_test_scaled_df = ss.transform(X_test_cont_w_log)"
   ]
  },
  {
   "cell_type": "code",
   "execution_count": 193,
   "metadata": {},
   "outputs": [
    {
     "data": {
      "text/plain": [
       "array([[-1.64378336, -1.50584007, -0.39813808, -1.64709471, -0.66259956,\n",
       "        -0.11150877],\n",
       "       [ 0.13075549, -0.73924897,  2.40205385,  0.13334038, -0.53561108,\n",
       "         1.87538925],\n",
       "       [ 1.06472331,  0.87462702, -0.44493999,  1.06347014,  0.48284288,\n",
       "        -0.23656505],\n",
       "       [ 2.18548469,  2.07726724, -0.61960518,  2.17339454,  1.9040276 ,\n",
       "        -0.9552871 ],\n",
       "       [-0.52302198,  1.88975502, -0.69596846, -0.5205871 ,  1.64522526,\n",
       "        -1.62198827],\n",
       "       [-1.73718014, -1.51390945, -0.64683538, -1.74128547, -0.66271413,\n",
       "        -1.14242082],\n",
       "       [ 0.5977394 ,  0.95612776,  1.36781372,  0.59899876,  0.56128942,\n",
       "         1.51009088]])"
      ]
     },
     "execution_count": 193,
     "metadata": {},
     "output_type": "execute_result"
    }
   ],
   "source": [
    "X_test_scaled_df"
   ]
  },
  {
   "cell_type": "code",
   "execution_count": 194,
   "metadata": {},
   "outputs": [
    {
     "data": {
      "text/plain": [
       "Index(['year', 'budget', 'rating_count', 'log_year', 'pow_budget',\n",
       "       'log_rating_count'],\n",
       "      dtype='object')"
      ]
     },
     "execution_count": 194,
     "metadata": {},
     "output_type": "execute_result"
    }
   ],
   "source": [
    "cont_columns = X_test_cont_w_log.columns\n",
    "cont_columns"
   ]
  },
  {
   "cell_type": "code",
   "execution_count": 195,
   "metadata": {},
   "outputs": [
    {
     "data": {
      "text/plain": [
       "array([[-1.64378336, -1.50584007, -0.39813808, -1.64709471, -0.66259956,\n",
       "        -0.11150877],\n",
       "       [ 0.13075549, -0.73924897,  2.40205385,  0.13334038, -0.53561108,\n",
       "         1.87538925],\n",
       "       [ 1.06472331,  0.87462702, -0.44493999,  1.06347014,  0.48284288,\n",
       "        -0.23656505],\n",
       "       [ 2.18548469,  2.07726724, -0.61960518,  2.17339454,  1.9040276 ,\n",
       "        -0.9552871 ],\n",
       "       [-0.52302198,  1.88975502, -0.69596846, -0.5205871 ,  1.64522526,\n",
       "        -1.62198827],\n",
       "       [-1.73718014, -1.51390945, -0.64683538, -1.74128547, -0.66271413,\n",
       "        -1.14242082],\n",
       "       [ 0.5977394 ,  0.95612776,  1.36781372,  0.59899876,  0.56128942,\n",
       "         1.51009088]])"
      ]
     },
     "execution_count": 195,
     "metadata": {},
     "output_type": "execute_result"
    }
   ],
   "source": [
    "X_test_scaled_df"
   ]
  },
  {
   "cell_type": "code",
   "execution_count": 196,
   "metadata": {},
   "outputs": [],
   "source": [
    "cont_columns = X_test_cont_w_log.columns\n",
    "X_test_scaled_df = pd.DataFrame(X_test_scaled_df, columns=cont_columns, index=X_test_cont_w_log.index)\n",
    "#X_test_scaled_df = pd.DataFrame(X_test_scaled)\n"
   ]
  },
  {
   "cell_type": "code",
   "execution_count": 197,
   "metadata": {},
   "outputs": [
    {
     "name": "stdout",
     "output_type": "stream",
     "text": [
      "RMSE: 0.74\n",
      "r2: -1.02\n"
     ]
    },
    {
     "data": {
      "text/html": [
       "<div>\n",
       "<style scoped>\n",
       "    .dataframe tbody tr th:only-of-type {\n",
       "        vertical-align: middle;\n",
       "    }\n",
       "\n",
       "    .dataframe tbody tr th {\n",
       "        vertical-align: top;\n",
       "    }\n",
       "\n",
       "    .dataframe thead th {\n",
       "        text-align: right;\n",
       "    }\n",
       "</style>\n",
       "<table border=\"1\" class=\"dataframe\">\n",
       "  <thead>\n",
       "    <tr style=\"text-align: right;\">\n",
       "      <th></th>\n",
       "      <th>year</th>\n",
       "      <th>budget</th>\n",
       "      <th>rating_count</th>\n",
       "      <th>log_year</th>\n",
       "      <th>pow_budget</th>\n",
       "      <th>log_rating_count</th>\n",
       "    </tr>\n",
       "  </thead>\n",
       "  <tbody>\n",
       "    <tr>\n",
       "      <th>40</th>\n",
       "      <td>-1.176799</td>\n",
       "      <td>-0.506851</td>\n",
       "      <td>0.116468</td>\n",
       "      <td>-1.176870</td>\n",
       "      <td>-0.451723</td>\n",
       "      <td>0.694651</td>\n",
       "    </tr>\n",
       "    <tr>\n",
       "      <th>25</th>\n",
       "      <td>-0.242832</td>\n",
       "      <td>-0.386617</td>\n",
       "      <td>-0.676983</td>\n",
       "      <td>-0.240045</td>\n",
       "      <td>-0.400033</td>\n",
       "      <td>-1.406356</td>\n",
       "    </tr>\n",
       "    <tr>\n",
       "      <th>19</th>\n",
       "      <td>0.224152</td>\n",
       "      <td>-0.577861</td>\n",
       "      <td>-0.527053</td>\n",
       "      <td>0.226567</td>\n",
       "      <td>-0.479596</td>\n",
       "      <td>-0.507581</td>\n",
       "    </tr>\n",
       "    <tr>\n",
       "      <th>24</th>\n",
       "      <td>-0.149435</td>\n",
       "      <td>-0.577861</td>\n",
       "      <td>0.112814</td>\n",
       "      <td>-0.146627</td>\n",
       "      <td>-0.479596</td>\n",
       "      <td>0.690822</td>\n",
       "    </tr>\n",
       "    <tr>\n",
       "      <th>30</th>\n",
       "      <td>-0.709816</td>\n",
       "      <td>-0.177316</td>\n",
       "      <td>-0.457847</td>\n",
       "      <td>-0.707855</td>\n",
       "      <td>-0.296568</td>\n",
       "      <td>-0.274250</td>\n",
       "    </tr>\n",
       "  </tbody>\n",
       "</table>\n",
       "</div>"
      ],
      "text/plain": [
       "        year    budget  rating_count  log_year  pow_budget  log_rating_count\n",
       "40 -1.176799 -0.506851      0.116468 -1.176870   -0.451723          0.694651\n",
       "25 -0.242832 -0.386617     -0.676983 -0.240045   -0.400033         -1.406356\n",
       "19  0.224152 -0.577861     -0.527053  0.226567   -0.479596         -0.507581\n",
       "24 -0.149435 -0.577861      0.112814 -0.146627   -0.479596          0.690822\n",
       "30 -0.709816 -0.177316     -0.457847 -0.707855   -0.296568         -0.274250"
      ]
     },
     "execution_count": 197,
     "metadata": {},
     "output_type": "execute_result"
    }
   ],
   "source": [
    "# X_train_combined = pd.concat([X_train_scaled_df.reset_index(drop=True)], axis='columns')\n",
    "\n",
    "# X_train_combined.head()\n",
    "\n",
    "\n",
    "# X_test_cont = X_test[['year','budget', 'rating_count', 'log_year', 'log_budget', 'log_rating_count']]\n",
    "# X_test_cont.head()\n",
    "\n",
    "\n",
    "\n",
    "\n",
    "X_test_scaled_df.head()\n",
    "\n",
    "# X_test_combined = pd.concat([X_test_scaled_df.reset_index(drop=True) ], axis=1)\n",
    "\n",
    "# X_test_combined\n",
    "\n",
    "lr = LinearRegression()\n",
    "\n",
    "lr.fit(X_train_scaled_df,y_train)\n",
    "\n",
    "lr.coef_\n",
    "\n",
    "y_pred = lr.predict(X_test_scaled_df)\n",
    "\n",
    "y_pred\n",
    "\n",
    "\n",
    "\n",
    "from sklearn.metrics import mean_squared_error, r2_score\n",
    "\n",
    "rmse = np.sqrt(mean_squared_error(y_test, y_pred))\n",
    "\n",
    "r2 = r2_score(y_test, y_pred)\n",
    "\n",
    "print(f'RMSE: {rmse:.2f}\\nr2: {r2:.2f}')\n",
    "\n",
    "X_train_scaled_df.head()"
   ]
  },
  {
   "cell_type": "code",
   "execution_count": null,
   "metadata": {},
   "outputs": [],
   "source": []
  },
  {
   "cell_type": "code",
   "execution_count": null,
   "metadata": {},
   "outputs": [],
   "source": []
  },
  {
   "cell_type": "code",
   "execution_count": null,
   "metadata": {},
   "outputs": [],
   "source": []
  },
  {
   "cell_type": "code",
   "execution_count": null,
   "metadata": {},
   "outputs": [],
   "source": []
  },
  {
   "cell_type": "code",
   "execution_count": null,
   "metadata": {},
   "outputs": [],
   "source": []
  },
  {
   "cell_type": "code",
   "execution_count": null,
   "metadata": {},
   "outputs": [],
   "source": []
  },
  {
   "cell_type": "code",
   "execution_count": null,
   "metadata": {},
   "outputs": [],
   "source": []
  },
  {
   "cell_type": "code",
   "execution_count": null,
   "metadata": {},
   "outputs": [],
   "source": []
  },
  {
   "cell_type": "code",
   "execution_count": null,
   "metadata": {},
   "outputs": [],
   "source": []
  },
  {
   "cell_type": "raw",
   "metadata": {},
   "source": [
    "films_df_reordered"
   ]
  },
  {
   "cell_type": "raw",
   "metadata": {
    "scrolled": true
   },
   "source": [
    "films_to_analyze_profits=films_df_reordered[(films_df_reordered['year'].notnull()) & (films_df_reordered['duration']>30) & (films_df_reordered['worldwide_gross'].notnull()) & (films_df_reordered['worldwide_gross']!='') & (films_df_reordered['cinematographer']!='') & (films_df_reordered['cinematographer'].notnull())]\n",
    "#films_to_analyze_profits=films_df_reordered[(films_df_reordered['year'].notnull()) & (films_df_reordered['duration']>30) & (films_df_reordered['rating'].notnull()) & (films_df_reordered['cinematographer']!='') & (films_df_reordered['cinematographer'].notnull())]\n",
    "\n",
    "films_to_analyze_profits.iloc[:,8:15]\n"
   ]
  },
  {
   "cell_type": "raw",
   "metadata": {},
   "source": [
    "new_analysis_columns = ['title', 'year', 'duration', 'cinematographer', 'documentary', 'tv_series','rating', 'rating_count', 'worldwide_gross', *selected_actor_columns]"
   ]
  },
  {
   "cell_type": "raw",
   "metadata": {},
   "source": [
    "films_and_features_to_analyze_profits = films_to_analyze_profits[new_analysis_columns]"
   ]
  },
  {
   "cell_type": "raw",
   "metadata": {},
   "source": []
  },
  {
   "cell_type": "raw",
   "metadata": {},
   "source": [
    "x_label = 'year'\n",
    "y_label = 'worldwide_gross'\n",
    "x_ = films_and_features_to_analyze_profits[x_label]\n",
    "y_ = films_and_features_to_analyze_profits[y_label]\n",
    "\n",
    "plt.figure(figsize=(16,8))\n",
    "\n",
    "size_ = 300\n",
    "alpha_ = .6\n",
    "plt.xlabel(x_label, fontsize='18')\n",
    "plt.ylabel(y_label, fontsize='18')\n",
    "plt.title(director.title() + ' movies', fontsize='20')\n",
    "\n",
    "category = 'tv_series'\n",
    "plt.scatter(x=x_, y=y_, marker='o', alpha=alpha_, c = films_and_features_to_analyze_profits[category], s=(size_,))"
   ]
  },
  {
   "cell_type": "raw",
   "metadata": {},
   "source": [
    "x_label = 'rating'\n",
    "y_label = 'worldwide_gross'\n",
    "x_ = films_and_features_to_analyze_profits[x_label]\n",
    "y_ = films_and_features_to_analyze_profits[y_label]\n",
    "\n",
    "plt.figure(figsize=(16,8))\n",
    "\n",
    "size_ = 300\n",
    "alpha_ = .6\n",
    "plt.xlabel(x_label, fontsize='18')\n",
    "plt.ylabel(y_label, fontsize='18')\n",
    "plt.title(director.title() + ' movies', fontsize='20')\n",
    "\n",
    "category = 'tv_series'\n",
    "plt.scatter(x=x_, y=y_, marker='o', alpha=alpha_, c = films_and_features_to_analyze_profits[category], s=(size_,))"
   ]
  },
  {
   "cell_type": "raw",
   "metadata": {},
   "source": [
    "x_label = 'duration'\n",
    "y_label = 'worldwide_gross'\n",
    "x_ = films_and_features_to_analyze_profits[x_label]\n",
    "y_ = films_and_features_to_analyze_profits[y_label]\n",
    "\n",
    "plt.figure(figsize=(16,8))\n",
    "\n",
    "size_ = 300\n",
    "alpha_ = .6\n",
    "plt.xlabel(x_label, fontsize='18')\n",
    "plt.ylabel(y_label, fontsize='18')\n",
    "plt.title(director.title() + ' movies', fontsize='20')\n",
    "\n",
    "category = 'tv_series'\n",
    "plt.scatter(x=x_, y=y_, marker='o', alpha=alpha_, c = films_and_features_to_analyze_profits[category], s=(size_,))"
   ]
  },
  {
   "cell_type": "raw",
   "metadata": {},
   "source": [
    "x_label = 'rating_count'\n",
    "y_label = 'worldwide_gross'\n",
    "x_ = films_and_features_to_analyze_profits[x_label]\n",
    "y_ = films_and_features_to_analyze_profits[y_label]\n",
    "\n",
    "plt.figure(figsize=(16,8))\n",
    "\n",
    "size_ = 300\n",
    "alpha_ = .6\n",
    "plt.xlabel(x_label, fontsize='18')\n",
    "plt.ylabel(y_label, fontsize='18')\n",
    "plt.title(director.title() + ' movies', fontsize='20')\n",
    "\n",
    "category = 'tv_series'\n",
    "plt.scatter(x=x_, y=y_, marker='o', alpha=alpha_, c = films_and_features_to_analyze_profits[category], s=(size_,))"
   ]
  },
  {
   "cell_type": "raw",
   "metadata": {},
   "source": [
    "x_label = 'year'\n",
    "y_label = 'worldwide_gross'\n",
    "x_ = films_and_features_to_analyze_profits[x_label]\n",
    "y_ = films_and_features_to_analyze_profits[y_label]\n",
    "\n",
    "plt.figure(figsize=(16,8))\n",
    "\n",
    "size_ = 300\n",
    "alpha_ = .6\n",
    "plt.xlabel(x_label, fontsize='18')\n",
    "plt.ylabel(y_label, fontsize='18')\n",
    "plt.title(director.title() + ' movies', fontsize='20')\n",
    "category = 'James Stewart'\n",
    "plt.title(director.title() + ' movies: ' + 'Breakdown by actor: ' + category, fontsize='18')\n",
    "\n",
    "plt.scatter(x=x_, y=y_, marker='o', alpha=alpha_, c = films_and_features_to_analyze_profits[category], s=(size_,))"
   ]
  },
  {
   "cell_type": "raw",
   "metadata": {},
   "source": [
    "x_label = 'year'\n",
    "y_label = 'worldwide_gross'\n",
    "x_ = films_and_features_to_analyze_profits[x_label]\n",
    "y_ = films_and_features_to_analyze_profits[y_label]\n",
    "\n",
    "plt.figure(figsize=(16,8))\n",
    "\n",
    "size_ = 300\n",
    "alpha_ = .6\n",
    "plt.xlabel(x_label, fontsize='18')\n",
    "plt.ylabel(y_label, fontsize='18')\n",
    "plt.title(director.title() + ' movies', fontsize='20')\n",
    "category = 'Cary Grant'\n",
    "plt.title(director.title() + ' movies: ' + 'Breakdown by actor: ' + category, fontsize='18')\n",
    "\n",
    "plt.scatter(x=x_, y=y_, marker='o', alpha=alpha_, c = films_and_features_to_analyze_profits[category], s=(size_,))"
   ]
  },
  {
   "cell_type": "raw",
   "metadata": {},
   "source": [
    "x_label = 'year'\n",
    "y_label = 'worldwide_gross'\n",
    "x_ = films_and_features_to_analyze_profits[x_label]\n",
    "y_ = films_and_features_to_analyze_profits[y_label]\n",
    "\n",
    "plt.figure(figsize=(16,8))\n",
    "\n",
    "size_ = 300\n",
    "alpha_ = .6\n",
    "plt.xlabel(x_label, fontsize='18')\n",
    "plt.ylabel(y_label, fontsize='18')\n",
    "plt.title(director.title() + ' movies', fontsize='20')\n",
    "category = 'Grace Kelly'\n",
    "plt.title(director.title() + ' movies: ' + 'Breakdown by actor: ' + category, fontsize='18')\n",
    "\n",
    "plt.scatter(x=x_, y=y_, marker='o', alpha=alpha_, c = films_and_features_to_analyze_profits[category], s=(size_,))"
   ]
  },
  {
   "cell_type": "raw",
   "metadata": {},
   "source": [
    "### Repartition data set to analyze `worldwide_gross` in terms of `budget` etc."
   ]
  },
  {
   "cell_type": "raw",
   "metadata": {},
   "source": [
    "\n",
    "films_to_analyze_profits_and_budget=films_df_reordered[(films_df_reordered['year'].notnull()) & (films_df_reordered['duration']>30) & (films_df_reordered['worldwide_gross'].notnull()) & (films_df_reordered['worldwide_gross']!='') & (films_df_reordered['budget'].notnull()) & (films_df_reordered['budget']!='')& (films_df_reordered['cinematographer']!='') & (films_df_reordered['cinematographer'].notnull())]\n",
    "\n",
    "films_to_analyze_profits_and_budget.iloc[:,8:15]\n",
    "films_to_analyze_profits_and_budget\n"
   ]
  },
  {
   "cell_type": "raw",
   "metadata": {},
   "source": [
    "new_analysis_columns_budget = ['title', 'year', 'duration', 'cinematographer', 'documentary', 'tv_series','rating', 'rating_count', 'budget', 'worldwide_gross', *selected_actor_columns]"
   ]
  },
  {
   "cell_type": "raw",
   "metadata": {},
   "source": [
    "films_and_features_to_analyze_profits_and_budget = films_to_analyze_profits_and_budget[new_analysis_columns_budget]"
   ]
  },
  {
   "cell_type": "raw",
   "metadata": {},
   "source": [
    "x_label = 'year'\n",
    "y_label = 'budget'\n",
    "x_ = films_and_features_to_analyze_profits_and_budget[x_label]\n",
    "y_ = films_and_features_to_analyze_profits_and_budget[y_label]\n",
    "\n",
    "plt.figure(figsize=(16,8))\n",
    "plt.title(director.title() + ' movies', fontsize='20')\n",
    "\n",
    "size_ = 300\n",
    "alpha_ = .6\n",
    "plt.xlabel(x_label, fontsize='18')\n",
    "plt.ylabel(y_label, fontsize='18')\n",
    "plt.title(director.title() + ' movies', fontsize='20')\n",
    "\n",
    "category = 'tv_series'\n",
    "plt.scatter(x=x_, y=y_, marker='o', alpha=alpha_, c = films_and_features_to_analyze_profits_and_budget[category], s=(size_,))"
   ]
  },
  {
   "cell_type": "raw",
   "metadata": {},
   "source": [
    "x_label = 'budget'\n",
    "y_label = 'worldwide_gross'\n",
    "x_ = films_and_features_to_analyze_profits_and_budget[x_label]\n",
    "y_ = films_and_features_to_analyze_profits_and_budget[y_label]\n",
    "\n",
    "plt.figure(figsize=(16,8))\n",
    "plt.title(director.title() + ' movies', fontsize='20')\n",
    "\n",
    "size_ = 300\n",
    "alpha_ = .6\n",
    "plt.xlabel(x_label, fontsize='18')\n",
    "plt.ylabel(y_label, fontsize='18')\n",
    "plt.title(director.title() + ' movies', fontsize='20')\n",
    "\n",
    "category = 'tv_series'\n",
    "plt.scatter(x=x_, y=y_, marker='o', alpha=alpha_, c = films_and_features_to_analyze_profits_and_budget[category], s=(size_,))"
   ]
  },
  {
   "cell_type": "raw",
   "metadata": {},
   "source": [
    "x_label = 'budget'\n",
    "y_label = 'duration'\n",
    "x_ = films_and_features_to_analyze_profits_and_budget[x_label]\n",
    "y_ = films_and_features_to_analyze_profits_and_budget[y_label]\n",
    "\n",
    "plt.figure(figsize=(16,8))\n",
    "plt.title(director.title() + ' movies', fontsize='20')\n",
    "\n",
    "size_ = 300\n",
    "alpha_ = .6\n",
    "plt.xlabel(x_label, fontsize='18')\n",
    "plt.ylabel(y_label, fontsize='18')\n",
    "plt.title(director.title() + ' movies', fontsize='20')\n",
    "\n",
    "category = 'tv_series'\n",
    "plt.scatter(x=x_, y=y_, marker='o', alpha=alpha_, c = films_and_features_to_analyze_profits_and_budget[category], s=(size_,))"
   ]
  },
  {
   "cell_type": "raw",
   "metadata": {},
   "source": [
    "x_label = 'budget'\n",
    "y_label = 'rating'\n",
    "x_ = films_and_features_to_analyze_profits_and_budget[x_label]\n",
    "y_ = films_and_features_to_analyze_profits_and_budget[y_label]\n",
    "\n",
    "plt.figure(figsize=(16,8))\n",
    "plt.title(director.title() + ' movies', fontsize='20')\n",
    "\n",
    "size_ = 300\n",
    "alpha_ = .6\n",
    "plt.xlabel(x_label, fontsize='18')\n",
    "plt.ylabel(y_label, fontsize='18')\n",
    "plt.title(director.title() + ' movies', fontsize='20')\n",
    "\n",
    "category = 'tv_series'\n",
    "plt.scatter(x=x_, y=y_, marker='o', alpha=alpha_, c = films_and_features_to_analyze_profits_and_budget[category], s=(size_,))"
   ]
  },
  {
   "cell_type": "raw",
   "metadata": {},
   "source": []
  },
  {
   "cell_type": "raw",
   "metadata": {},
   "source": []
  },
  {
   "cell_type": "raw",
   "metadata": {},
   "source": []
  },
  {
   "cell_type": "raw",
   "metadata": {},
   "source": [
    "test_df = pd.DataFrame(\n",
    "    list([[1, 2, 3], [4, np.nan, '2 October 1955 (USA', ], [7, 8, 9], [3, np.nan, '20 September 1962 (USA' ], [5, np.nan, '20 September 1962 (USA' ]]), \n",
    "    columns=['a', 'year', 'release_date']\n",
    ")\n"
   ]
  },
  {
   "cell_type": "raw",
   "metadata": {},
   "source": [
    "test_df['year'] = test_df.apply(\n",
    "#     lambda row: re(r'\\d{4}', row['release_date']) if np.isnan(row['year']) else row['year'],\n",
    "#     axis=1)\n",
    "    lambda row: float((re.search(r'\\d{4}', row['release_date'])).group()) if np.isnan(row['year']) else row['year'],\n",
    "    axis=1)\n",
    "test_df"
   ]
  },
  {
   "cell_type": "raw",
   "metadata": {},
   "source": [
    "row_release_date = '2 October 1955 (USA'\n",
    "t = re(r'\\d{4}', row_release_date).group()"
   ]
  },
  {
   "cell_type": "raw",
   "metadata": {},
   "source": [
    "#films_df_reordered.apply( lambda row: row['year'] = re.search(r'\\d{4}',  row['release_date'] ).group() if (row['year'].isnull() , axis=1)"
   ]
  },
  {
   "cell_type": "raw",
   "metadata": {},
   "source": []
  },
  {
   "cell_type": "raw",
   "metadata": {},
   "source": [
    "#match = re.match(r'\\d{4}',  'julu 23 2947 sdkfj')\n"
   ]
  },
  {
   "cell_type": "raw",
   "metadata": {},
   "source": [
    "release_date='julu 2329 sdkfj'\n",
    "s = re.search(r'\\d{4}',  release_date).group()\n",
    "print(s)"
   ]
  },
  {
   "cell_type": "raw",
   "metadata": {},
   "source": []
  },
  {
   "cell_type": "raw",
   "metadata": {},
   "source": [
    "#films_df_reordered.loc[:,'year']=films_df_reordered['year'].apply(lambda year_data : (re.search(r'\\d{4}',  str(films_df_reordered['release_date'])).group()) if pd.isna(year_data) else year_data)"
   ]
  },
  {
   "cell_type": "raw",
   "metadata": {},
   "source": [
    "films_df_reordered.head(50)"
   ]
  },
  {
   "cell_type": "raw",
   "metadata": {},
   "source": [
    "#films_df_reordered[ pd.isna(films_df_reordered['year']) ]['year'] = re.search(r'\\d{4}',  films_df_reordered['release_date']).group()"
   ]
  },
  {
   "cell_type": "raw",
   "metadata": {},
   "source": []
  },
  {
   "cell_type": "raw",
   "metadata": {},
   "source": []
  },
  {
   "cell_type": "raw",
   "metadata": {},
   "source": []
  },
  {
   "cell_type": "raw",
   "metadata": {},
   "source": [
    "films_df.columns[first_cast_column:-1]"
   ]
  },
  {
   "cell_type": "raw",
   "metadata": {},
   "source": [
    "s=[3, 4, 5]\n",
    "t = [1, 2, *s]\n",
    "t"
   ]
  },
  {
   "cell_type": "raw",
   "metadata": {},
   "source": [
    "first_column_of_cast = 13\n",
    "number_of_appearances_cutoff = 3\n",
    "cast_columns_mask = list( film_catalog.iloc[:,first_column_of_cast:].sum()>=number_of_appearances_cutoff )\n",
    "#cast_columns_mask "
   ]
  },
  {
   "cell_type": "raw",
   "metadata": {},
   "source": [
    "#film_catalog.iloc[:,first_column_of_cast:].sum()>=3 "
   ]
  },
  {
   "cell_type": "raw",
   "metadata": {},
   "source": [
    "keep_columns_mask = list(np.full(first_column_of_cast, True, dtype=bool))"
   ]
  },
  {
   "cell_type": "raw",
   "metadata": {},
   "source": [
    "keep_columns_mask.extend( cast_columns_mask)\n",
    "keep_columns_mask"
   ]
  },
  {
   "cell_type": "raw",
   "metadata": {},
   "source": []
  },
  {
   "cell_type": "raw",
   "metadata": {},
   "source": [
    "film_catalog_w_prevelant_actors = film_catalog.loc[:, keep_columns_mask].head(45)\n",
    "film_catalog_w_prevelant_actors.shape"
   ]
  },
  {
   "cell_type": "raw",
   "metadata": {},
   "source": [
    "film_catalog_w_prevelant_actors"
   ]
  },
  {
   "cell_type": "raw",
   "metadata": {},
   "source": [
    "film_catalog_w_prevelant_actors.iloc[:, 13:].sum()"
   ]
  },
  {
   "cell_type": "raw",
   "metadata": {},
   "source": [
    "film_catalog_w_prevelant_actors.iloc[:,13:].pipe(lambda film_catalog_w_prevelant_actors: film_catalog_w_prevelant_actors.loc[:, film_catalog_w_prevelant_actors.sum().sort_values(ascending=False).index])"
   ]
  },
  {
   "cell_type": "raw",
   "metadata": {},
   "source": [
    "film_catalog_w_prevelant_actors.iloc[:,13:].pipe(lambda df: df.loc[:, df.sum().sort_values(ascending=False).index])"
   ]
  },
  {
   "cell_type": "raw",
   "metadata": {},
   "source": []
  },
  {
   "cell_type": "raw",
   "metadata": {},
   "source": []
  },
  {
   "cell_type": "raw",
   "metadata": {},
   "source": []
  },
  {
   "cell_type": "raw",
   "metadata": {},
   "source": [
    "(film_catalog.iloc[:,13:].sum().iteritems())"
   ]
  },
  {
   "cell_type": "raw",
   "metadata": {},
   "source": [
    "film_catalog[film_catalog.sum()>=3]"
   ]
  },
  {
   "cell_type": "raw",
   "metadata": {},
   "source": [
    "film_catalog.loc[:,film_catalog.sum()>=3]"
   ]
  },
  {
   "cell_type": "raw",
   "metadata": {},
   "source": [
    "[not s>2 for s in film_catalog.iloc[:,13:].sum()].tolist()"
   ]
  },
  {
   "cell_type": "raw",
   "metadata": {},
   "source": [
    "film_catalog.iloc[:,13:].drop([not s>2 for s in film_catalog.iloc[:,13:].sum()], inplace=True)"
   ]
  },
  {
   "cell_type": "raw",
   "metadata": {},
   "source": [
    "\n",
    "film_catalog.iloc[:,13:].drop([col for col, val in film_catalog.iloc[:,13:].sum() < 3 ], axis=1, inplace=True)"
   ]
  },
  {
   "cell_type": "raw",
   "metadata": {},
   "source": [
    "film_catalog.tail(35)"
   ]
  },
  {
   "cell_type": "raw",
   "metadata": {},
   "source": [
    "film_catalog.dtypes"
   ]
  },
  {
   "cell_type": "raw",
   "metadata": {},
   "source": [
    "sns.pairplot( film_catalog )"
   ]
  },
  {
   "cell_type": "raw",
   "metadata": {},
   "source": []
  },
  {
   "cell_type": "raw",
   "metadata": {},
   "source": [
    "def traverse(soup):\n",
    "    found = False\n",
    "    if soup.name is not None:\n",
    "        dom_dictionary = {}\n",
    "        dom_dictionary['name'] = soup.name\n",
    "        if dom_dictionary['name'] == 'h1':\n",
    "            print('\\n')\n",
    "            print(soup.text)\n",
    "            print('\\n')\n",
    "            if not found:\n",
    "                found_object = soup\n",
    "                found = True\n",
    "        dom_dictionary['children'] = [ traverse(child) for child in soup.children if child.name is not None]\n",
    "        return dom_dictionary, found_object\n",
    "\n",
    "#traverse(soup)"
   ]
  },
  {
   "cell_type": "raw",
   "metadata": {},
   "source": [
    "### Test one film at a time"
   ]
  },
  {
   "cell_type": "raw",
   "metadata": {},
   "source": [
    "#%%script false\n",
    "# # Test area\n",
    "# film_url='https://www.imdb.com/title/tt0086153/'\n",
    "film_url = 'https://www.imdb.com/title/tt0084654/'\n",
    "\n",
    "film_response = requests.get(film_url)\n",
    "if(film_response.status_code < 400):\n",
    "    film_page = film_response.text\n",
    "    film_soup = BeautifulSoup(film_page, \"lxml\")\n",
    "#   if ( not is_TV_Series( film_soup) ):\n",
    "    film = parse_film_data( film_soup )\n",
    "    print(film)\n"
   ]
  }
 ],
 "metadata": {
  "kernelspec": {
   "display_name": "Python [conda env:metis] *",
   "language": "python",
   "name": "conda-env-metis-py"
  },
  "language_info": {
   "codemirror_mode": {
    "name": "ipython",
    "version": 3
   },
   "file_extension": ".py",
   "mimetype": "text/x-python",
   "name": "python",
   "nbconvert_exporter": "python",
   "pygments_lexer": "ipython3",
   "version": "3.8.6"
  }
 },
 "nbformat": 4,
 "nbformat_minor": 2
}
