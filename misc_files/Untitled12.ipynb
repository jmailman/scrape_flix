{
 "cells": [
  {
   "cell_type": "code",
   "execution_count": null,
   "id": "middle-rebate",
   "metadata": {},
   "outputs": [],
   "source": [
    "X_cols = ['year', 'duration', 'rating_count']\n",
    "\n",
    "#films_and_features_to_analyze_df_copy = copy.deepcopy(films_and_features_to_analyze_df) \n",
    "\n",
    "X= films_and_features_to_analyze_df[X_cols]\n",
    "y= films_and_features_to_analyze_df['rating']\n",
    "\n",
    "#selected_cols =cont_columns\n",
    "\n",
    "X['log_year'] = np.log(X.year)\n",
    "X['log_rating_count'] = np.log(X.rating_count)"
   ]
  },
  {
   "cell_type": "code",
   "execution_count": null,
   "id": "hairy-mobile",
   "metadata": {},
   "outputs": [],
   "source": []
  },
  {
   "cell_type": "code",
   "execution_count": null,
   "id": "premier-practice",
   "metadata": {},
   "outputs": [],
   "source": [
    "X_, X_test, y_, y_test = train_test_split(X, y, test_size=.2, random_state=9) #10\n",
    "X_train, X_val, y_train, y_val = train_test_split(X_, y_, test_size=.25, random_state=12)#30\n",
    "\n",
    "#X_train_val, X_test, y_train_val, y_test = train_test_split( X, y, test_size=.20, random_state=32)\n",
    "\n",
    "ss=StandardScaler()\n",
    "\n",
    "X_train_scaled = ss.fit_transform( X_train)\n",
    "X_val_scaled = ss.transform(X_val)\n",
    "X_test_scaled = ss.fit_transform( X_test )"
   ]
  },
  {
   "cell_type": "code",
   "execution_count": null,
   "id": "behind-plain",
   "metadata": {},
   "outputs": [],
   "source": [
    "poly=PolynomialFeatures(degree=2)\n",
    "\n",
    "X_train_poly = poly.fit_transform(X_train.values)\n",
    "X_val_poly = poly.transform(X_val.values)\n",
    "X_test_poly = poly.transform(X_test.values)\n",
    "\n",
    "lm_poly = LinearRegression()\n",
    "\n",
    "lm_poly.fit(X_train_poly, y_train)\n",
    "print(f'Degree 2 polynomial regression val R^2: {lm_poly.score(X_val_poly, y_val):.3f}')"
   ]
  },
  {
   "cell_type": "code",
   "execution_count": null,
   "id": "vital-democrat",
   "metadata": {},
   "outputs": [],
   "source": [
    "lm_poly.coef_"
   ]
  },
  {
   "cell_type": "code",
   "execution_count": null,
   "id": "revised-magnet",
   "metadata": {},
   "outputs": [],
   "source": [
    "lm_poly.fit(X_,y_)\n",
    "print(f'Linear Regression test R^2: {lm_poly.score(X_test, y_test):.3f}')"
   ]
  },
  {
   "cell_type": "code",
   "execution_count": null,
   "id": "mature-massachusetts",
   "metadata": {},
   "outputs": [],
   "source": [
    "lm_poly.alpha_"
   ]
  }
 ],
 "metadata": {
  "kernelspec": {
   "display_name": "Python [conda env:metis] *",
   "language": "python",
   "name": "conda-env-metis-py"
  },
  "language_info": {
   "codemirror_mode": {
    "name": "ipython",
    "version": 3
   },
   "file_extension": ".py",
   "mimetype": "text/x-python",
   "name": "python",
   "nbconvert_exporter": "python",
   "pygments_lexer": "ipython3",
   "version": "3.8.6"
  }
 },
 "nbformat": 4,
 "nbformat_minor": 5
}
