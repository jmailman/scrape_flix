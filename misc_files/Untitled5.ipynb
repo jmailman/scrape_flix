{
 "cells": [
  {
   "cell_type": "code",
   "execution_count": 1,
   "id": "intensive-polyester",
   "metadata": {},
   "outputs": [],
   "source": [
    "dict_of_all_actors = {}"
   ]
  },
  {
   "cell_type": "code",
   "execution_count": 2,
   "id": "reverse-trinidad",
   "metadata": {},
   "outputs": [
    {
     "data": {
      "text/plain": [
       "dict"
      ]
     },
     "execution_count": 2,
     "metadata": {},
     "output_type": "execute_result"
    }
   ],
   "source": [
    "type(dict_of_all_actors)"
   ]
  },
  {
   "cell_type": "code",
   "execution_count": null,
   "id": "utility-millennium",
   "metadata": {},
   "outputs": [],
   "source": []
  }
 ],
 "metadata": {
  "kernelspec": {
   "display_name": "Python [conda env:metis] *",
   "language": "python",
   "name": "conda-env-metis-py"
  },
  "language_info": {
   "codemirror_mode": {
    "name": "ipython",
    "version": 3
   },
   "file_extension": ".py",
   "mimetype": "text/x-python",
   "name": "python",
   "nbconvert_exporter": "python",
   "pygments_lexer": "ipython3",
   "version": "3.8.6"
  }
 },
 "nbformat": 4,
 "nbformat_minor": 5
}
